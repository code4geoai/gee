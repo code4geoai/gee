{
 "cells": [
  {
   "cell_type": "code",
   "execution_count": 5,
   "id": "6dd4d5cb",
   "metadata": {},
   "outputs": [],
   "source": [
    "import geopandas as gpd\n",
    "import geoai"
   ]
  },
  {
   "cell_type": "code",
   "execution_count": 9,
   "id": "c0f1f42d",
   "metadata": {},
   "outputs": [
    {
     "data": {
      "text/html": [
       "\n",
       "            <style>\n",
       "                .geemap-dark {\n",
       "                    --jp-widgets-color: white;\n",
       "                    --jp-widgets-label-color: white;\n",
       "                    --jp-ui-font-color1: white;\n",
       "                    --jp-layout-color2: #454545;\n",
       "                    background-color: #383838;\n",
       "                }\n",
       "\n",
       "                .geemap-dark .jupyter-button {\n",
       "                    --jp-layout-color3: #383838;\n",
       "                }\n",
       "\n",
       "                .geemap-colab {\n",
       "                    background-color: var(--colab-primary-surface-color, white);\n",
       "                }\n",
       "\n",
       "                .geemap-colab .jupyter-button {\n",
       "                    --jp-layout-color3: var(--colab-primary-surface-color, white);\n",
       "                }\n",
       "            </style>\n",
       "            "
      ],
      "text/plain": [
       "<IPython.core.display.HTML object>"
      ]
     },
     "metadata": {},
     "output_type": "display_data"
    }
   ],
   "source": [
    "satellite_imagery = './pabbi_satellite_image_COG.tif'\n",
    "vector_file = './pabb_crop_V3.geojson'"
   ]
  },
  {
   "cell_type": "code",
   "execution_count": 15,
   "id": "3744485d",
   "metadata": {},
   "outputs": [
    {
     "data": {
      "text/html": [
       "\n",
       "            <style>\n",
       "                .geemap-dark {\n",
       "                    --jp-widgets-color: white;\n",
       "                    --jp-widgets-label-color: white;\n",
       "                    --jp-ui-font-color1: white;\n",
       "                    --jp-layout-color2: #454545;\n",
       "                    background-color: #383838;\n",
       "                }\n",
       "\n",
       "                .geemap-dark .jupyter-button {\n",
       "                    --jp-layout-color3: #383838;\n",
       "                }\n",
       "\n",
       "                .geemap-colab {\n",
       "                    background-color: var(--colab-primary-surface-color, white);\n",
       "                }\n",
       "\n",
       "                .geemap-colab .jupyter-button {\n",
       "                    --jp-layout-color3: var(--colab-primary-surface-color, white);\n",
       "                }\n",
       "            </style>\n",
       "            "
      ],
      "text/plain": [
       "<IPython.core.display.HTML object>"
      ]
     },
     "metadata": {},
     "output_type": "display_data"
    },
    {
     "name": "stdout",
     "output_type": "stream",
     "text": [
      "Total Number of Parcels 7012\n",
      "Number of Parcels with values (other than null): 6515\n",
      "Details of Crop are : Landuse_Ma\n",
      "Agriculture     5759\n",
      "Stream           302\n",
      "Other            229\n",
      "Road/Streets     172\n",
      "Graveyard         29\n",
      "Built up          24\n",
      "Name: count, dtype: int64\n"
     ]
    }
   ],
   "source": [
    "\n",
    "gdf = gpd.read_file(vector_file)\n",
    "\n",
    "print(f\"Total Number of Parcels {len(gdf)}\")\n",
    "\n",
    "print(f\"Number of Parcels with values (other than null): {gdf['Landuse_Ma'].notna().sum()}\")\n",
    "\n",
    "print(f\"Details of Crop are : {gdf['Landuse_Ma'].value_counts()}\")"
   ]
  },
  {
   "cell_type": "code",
   "execution_count": null,
   "id": "2c7c6c46",
   "metadata": {},
   "outputs": [],
   "source": []
  },
  {
   "cell_type": "code",
   "execution_count": 16,
   "id": "7d007496",
   "metadata": {},
   "outputs": [
    {
     "data": {
      "text/html": [
       "\n",
       "            <style>\n",
       "                .geemap-dark {\n",
       "                    --jp-widgets-color: white;\n",
       "                    --jp-widgets-label-color: white;\n",
       "                    --jp-ui-font-color1: white;\n",
       "                    --jp-layout-color2: #454545;\n",
       "                    background-color: #383838;\n",
       "                }\n",
       "\n",
       "                .geemap-dark .jupyter-button {\n",
       "                    --jp-layout-color3: #383838;\n",
       "                }\n",
       "\n",
       "                .geemap-colab {\n",
       "                    background-color: var(--colab-primary-surface-color, white);\n",
       "                }\n",
       "\n",
       "                .geemap-colab .jupyter-button {\n",
       "                    --jp-layout-color3: var(--colab-primary-surface-color, white);\n",
       "                }\n",
       "            </style>\n",
       "            "
      ],
      "text/plain": [
       "<IPython.core.display.HTML object>"
      ]
     },
     "metadata": {},
     "output_type": "display_data"
    }
   ],
   "source": [
    "label_map = {\n",
    "    'Agriculture': 1,\n",
    "    'Stream': 2,\n",
    "    'Other': 3,\n",
    "    'Road/Streets': 4,\n",
    "    'Graveyard': 5,\n",
    "    'Built up': 6\n",
    "}\n",
    "\n",
    "gdf['class_id'] = gdf['Landuse_Ma'].map(label_map)\n"
   ]
  },
  {
   "cell_type": "markdown",
   "id": "fd8e0a59",
   "metadata": {},
   "source": [
    "#Vector to Raster does not work as expected so we changed the approach and generated the label raster manually. \n",
    "geoai.vector_to_raster(\n",
    "    vector_path=vector_file,\n",
    "    reference_raster=satellite_imagery,\n",
    "    attribute_field='class_id',\n",
    "    output_path='Labelraster_For_Unet_v3.tif',\n",
    "    dtype='uint8',\n",
    "    plot_result=True,\n",
    "    nodata=0\n",
    "    )"
   ]
  },
  {
   "cell_type": "code",
   "execution_count": 6,
   "id": "3853d428",
   "metadata": {},
   "outputs": [],
   "source": [
    "vector_path = 'temp_cleaned_vector.geojson'\n",
    "labeled_raster_path = 'labelraster_Manual.tif'\n",
    "out_folder = 'landcover_pabbi_satellite'"
   ]
  },
  {
   "cell_type": "code",
   "execution_count": null,
   "id": "6c1568a1",
   "metadata": {},
   "outputs": [],
   "source": [
    "# The next step was to form tiles of the satellite and label image.\n",
    "out_folder = \"landcover_satellite_tiles\"\n",
    "tiles = geoai.export_geotiff_tiles(\n",
    "    in_raster=train_raster_path,\n",
    "    out_folder=out_folder,\n",
    "    in_class_data=train_landcover_path,\n",
    "    tile_size=512,\n",
    "    stride=256,\n",
    "    buffer_radius=0,\n",
    ")"
   ]
  },
  {
   "cell_type": "code",
   "execution_count": null,
   "id": "5499384c",
   "metadata": {},
   "outputs": [
    {
     "name": "stdout",
     "output_type": "stream",
     "text": [
      "Using device: cpu\n",
      "Found 4477 image files and 4477 label files\n",
      "Training on 3581 images, validating on 896 images\n",
      "Starting training with unet + resnet34\n",
      "Model parameters: 24,441,245\n"
     ]
    }
   ],
   "source": [
    "# Train U-Net model\n",
    "geoai.train_segmentation_model(\n",
    "    images_dir=f\"{out_folder}/images\",\n",
    "    labels_dir=f\"{out_folder}/labels\",\n",
    "    output_dir=f\"{out_folder}/unet_models\",\n",
    "    architecture=\"unet\",\n",
    "    encoder_name=\"resnet34\",\n",
    "    encoder_weights=\"imagenet\",\n",
    "    num_channels=4,\n",
    "    num_classes=13,\n",
    "    batch_size=4,\n",
    "    num_epochs=2,\n",
    "    learning_rate=0.001,\n",
    "    val_split=0.2,\n",
    "    verbose=True,\n",
    "    plot_curves=True,\n",
    ")"
   ]
  }
 ],
 "metadata": {
  "kernelspec": {
   "display_name": "Python 3",
   "language": "python",
   "name": "python3"
  },
  "language_info": {
   "codemirror_mode": {
    "name": "ipython",
    "version": 3
   },
   "file_extension": ".py",
   "mimetype": "text/x-python",
   "name": "python",
   "nbconvert_exporter": "python",
   "pygments_lexer": "ipython3",
   "version": "3.12.11"
  }
 },
 "nbformat": 4,
 "nbformat_minor": 5
}
