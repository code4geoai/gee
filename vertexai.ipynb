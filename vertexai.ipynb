{
 "cells": [
  {
   "cell_type": "code",
   "execution_count": 1,
   "id": "0fec7a61",
   "metadata": {},
   "outputs": [],
   "source": [
    "import os\n",
    "import rasterio\n",
    "import numpy as np\n",
    "from rasterio.enums import Resampling\n",
    "from tqdm import tqdm\n"
   ]
  },
  {
   "cell_type": "code",
   "execution_count": 9,
   "id": "e4fafb03",
   "metadata": {},
   "outputs": [
    {
     "name": "stderr",
     "output_type": "stream",
     "text": [
      "100%|██████████| 262/262 [00:02<00:00, 100.13it/s]"
     ]
    },
    {
     "name": "stdout",
     "output_type": "stream",
     "text": [
      "Masks saved to: VertexAI_masks_png\n"
     ]
    },
    {
     "name": "stderr",
     "output_type": "stream",
     "text": [
      "\n"
     ]
    }
   ],
   "source": [
    "import os\n",
    "import rasterio\n",
    "import numpy as np\n",
    "from tqdm import tqdm\n",
    "\n",
    "# Configuration\n",
    "input_dir = \"VertexAI_Patches\"      # Folder where your labeled images are stored\n",
    "output_dir = \"VertexAI_masks_png\"   # Folder where the generated PNG masks will be saved\n",
    "class_map = {\n",
    "    \"wheat\": 1,\n",
    "    \"persian_clover\": 2,\n",
    "    \"sugarcane\": 3,\n",
    "    \"barren\": 4,\n",
    "    \"builtup\": 5\n",
    "}\n",
    "\n",
    "# Create output folder if it doesn't exist\n",
    "os.makedirs(output_dir, exist_ok=True)\n",
    "\n",
    "# Process each file\n",
    "for filename in tqdm(os.listdir(input_dir)):\n",
    "    if filename.endswith(\".tif\"):\n",
    "        input_path = os.path.join(input_dir, filename)\n",
    "\n",
    "        # Auto-detect class name from file name prefix\n",
    "        for class_name, class_id in class_map.items():\n",
    "            if filename.startswith(class_name):\n",
    "                break\n",
    "        else:\n",
    "            print(f\"Unknown class in file: {filename}\")\n",
    "            continue\n",
    "\n",
    "        # Read source image (only to get dimensions and georeferencing for potential future use,\n",
    "        # though the mask itself will be saved as PNG without explicit CRS in its header for Vertex AI)\n",
    "        with rasterio.open(input_path) as src:\n",
    "            meta = src.meta.copy()\n",
    "            height, width = src.height, src.width\n",
    "            # We are not directly transferring CRS to the PNG mask, but keeping it here for context.\n",
    "            # crs = src.crs\n",
    "            # transform = src.transform\n",
    "\n",
    "            # Create mask filled with class ID\n",
    "            # Ensure it's uint8, which is suitable for PNG indexed color or grayscale\n",
    "            mask = np.full((height, width), class_id, dtype=np.uint8)\n",
    "\n",
    "            # Update metadata for PNG output\n",
    "            meta.update({\n",
    "                \"count\": 1,\n",
    "                \"dtype\": \"uint8\",\n",
    "                \"nodata\": 0, # If you have a nodata value in your mask, define it. 0 is common for background.\n",
    "                \"driver\": \"PNG\" # <--- Change driver to PNG\n",
    "            })\n",
    "\n",
    "            # Save the mask with a .png extension\n",
    "            output_filename = os.path.splitext(filename)[0] + \"_mask.png\" # <--- Change extension to .png\n",
    "            output_path = os.path.join(output_dir, output_filename)\n",
    "            with rasterio.open(output_path, 'w', **meta) as dst:\n",
    "                dst.write(mask, 1)\n",
    "\n",
    "print(f\"Masks saved to: {output_dir}\")"
   ]
  },
  {
   "cell_type": "code",
   "execution_count": 12,
   "id": "80f6a2fe",
   "metadata": {},
   "outputs": [
    {
     "name": "stdout",
     "output_type": "stream",
     "text": [
      "✅ Final corrected .jsonl written to: vertex_segmentation_final_corrected-V7.jsonl\n"
     ]
    }
   ],
   "source": [
    "import json\n",
    "\n",
    "bucket = \"pabbi_bucket\"\n",
    "image_prefix = f\"gs://{bucket}/images\"\n",
    "# Mask prefix should still point to where your PNG masks are\n",
    "mask_prefix = f\"gs://{bucket}/masks_png\"\n",
    "class_names = [\"wheat\", \"persian_clover\", \"sugarcane\", \"barren\", \"builtup\"]\n",
    "images_per_class = 50\n",
    "\n",
    "output_path = \"vertex_segmentation_final_corrected-V7.jsonl\"\n",
    "\n",
    "# This defines the mapping from your class names to the integer pixel values in your masks.\n",
    "# This structure IS required by Vertex AI.\n",
    "annotation_specs = {}\n",
    "class_map = {\n",
    "    \"wheat\": 1,\n",
    "    \"persian_clover\": 2,\n",
    "    \"sugarcane\": 3,\n",
    "    \"barren\": 4,\n",
    "    \"builtup\": 5\n",
    "}\n",
    "for class_name, pixel_value in class_map.items():\n",
    "    annotation_specs[str(pixel_value)] = {\"displayName\": class_name}\n",
    "\n",
    "\n",
    "with open(output_path, \"w\") as f:\n",
    "    for class_name in class_names:\n",
    "        for i in range(images_per_class):\n",
    "            image_filename = f\"{class_name}_{i}.tif\"\n",
    "            mask_filename = f\"{class_name}_{i}_mask.png\" # Still expecting PNG masks\n",
    "\n",
    "            # --- CORRECTED JSONL STRUCTURE ---\n",
    "            entry = {\n",
    "                # Use 'imageGcsUri' as in your original attempt\n",
    "                \"imageGcsUri\": f\"{image_prefix}/{image_filename}\",\n",
    "\n",
    "                # Use 'maskGcsUri' for the segmentation mask URI\n",
    "                # This seems to be the field for semantic segmentation masks\n",
    "                \"maskGcsUri\": f\"{mask_prefix}/{mask_filename}\",\n",
    "\n",
    "                # Provide the mapping of pixel values (as strings) to display names\n",
    "                \"annotationSpecs\": annotation_specs,\n",
    "\n",
    "                \"dataItemResourceLabels\": {\n",
    "                    \"aiplatform.googleapis.com/ml_use\": \"training\"\n",
    "                }\n",
    "            }\n",
    "            json.dump(entry, f)\n",
    "            f.write(\"\\n\")\n",
    "\n",
    "print(f\"✅ Final corrected .jsonl written to: {output_path}\")"
   ]
  }
 ],
 "metadata": {
  "kernelspec": {
   "display_name": "Python 3",
   "language": "python",
   "name": "python3"
  },
  "language_info": {
   "codemirror_mode": {
    "name": "ipython",
    "version": 3
   },
   "file_extension": ".py",
   "mimetype": "text/x-python",
   "name": "python",
   "nbconvert_exporter": "python",
   "pygments_lexer": "ipython3",
   "version": "3.10.17"
  }
 },
 "nbformat": 4,
 "nbformat_minor": 5
}
