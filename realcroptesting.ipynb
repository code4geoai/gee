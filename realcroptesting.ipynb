{
 "cells": [
  {
   "cell_type": "code",
   "execution_count": 21,
   "id": "d39b3515",
   "metadata": {},
   "outputs": [
    {
     "data": {
      "text/html": [
       "\n",
       "            <style>\n",
       "                .geemap-dark {\n",
       "                    --jp-widgets-color: white;\n",
       "                    --jp-widgets-label-color: white;\n",
       "                    --jp-ui-font-color1: white;\n",
       "                    --jp-layout-color2: #454545;\n",
       "                    background-color: #383838;\n",
       "                }\n",
       "\n",
       "                .geemap-dark .jupyter-button {\n",
       "                    --jp-layout-color3: #383838;\n",
       "                }\n",
       "\n",
       "                .geemap-colab {\n",
       "                    background-color: var(--colab-primary-surface-color, white);\n",
       "                }\n",
       "\n",
       "                .geemap-colab .jupyter-button {\n",
       "                    --jp-layout-color3: var(--colab-primary-surface-color, white);\n",
       "                }\n",
       "            </style>\n",
       "            "
      ],
      "text/plain": [
       "<IPython.core.display.HTML object>"
      ]
     },
     "metadata": {},
     "output_type": "display_data"
    }
   ],
   "source": [
    "import geopandas as gpd\n",
    "import pandas as pd\n",
    "import numpy as np\n",
    "import joblib\n",
    "import geemap\n",
    "import ee "
   ]
  },
  {
   "cell_type": "code",
   "execution_count": 2,
   "id": "5a5d582d",
   "metadata": {},
   "outputs": [
    {
     "data": {
      "text/html": [
       "\n",
       "            <style>\n",
       "                .geemap-dark {\n",
       "                    --jp-widgets-color: white;\n",
       "                    --jp-widgets-label-color: white;\n",
       "                    --jp-ui-font-color1: white;\n",
       "                    --jp-layout-color2: #454545;\n",
       "                    background-color: #383838;\n",
       "                }\n",
       "\n",
       "                .geemap-dark .jupyter-button {\n",
       "                    --jp-layout-color3: #383838;\n",
       "                }\n",
       "\n",
       "                .geemap-colab {\n",
       "                    background-color: var(--colab-primary-surface-color, white);\n",
       "                }\n",
       "\n",
       "                .geemap-colab .jupyter-button {\n",
       "                    --jp-layout-color3: var(--colab-primary-surface-color, white);\n",
       "                }\n",
       "            </style>\n",
       "            "
      ],
      "text/plain": [
       "<IPython.core.display.HTML object>"
      ]
     },
     "metadata": {},
     "output_type": "display_data"
    },
    {
     "data": {
      "text/html": [
       "<p>To authorize access needed by Earth Engine, open the following\n",
       "        URL in a web browser and follow the instructions:</p>\n",
       "        <p><a href=https://code.earthengine.google.com/client-auth?scopes=https%3A//www.googleapis.com/auth/earthengine%20https%3A//www.googleapis.com/auth/cloud-platform%20https%3A//www.googleapis.com/auth/devstorage.full_control&request_id=9nyTULlQoW6uyJaYBVSp3ASCXntWUhZ0eKusynOM3m0&tc=6ESmP3HTnk8SvoH-xOgpfKvsqjSFUYK3OsuwRgZFBdI&cc=AF4M3W9CoqBlfYOELC5xhWk_7bem39r1Diix1S5zAkA>https://code.earthengine.google.com/client-auth?scopes=https%3A//www.googleapis.com/auth/earthengine%20https%3A//www.googleapis.com/auth/cloud-platform%20https%3A//www.googleapis.com/auth/devstorage.full_control&request_id=9nyTULlQoW6uyJaYBVSp3ASCXntWUhZ0eKusynOM3m0&tc=6ESmP3HTnk8SvoH-xOgpfKvsqjSFUYK3OsuwRgZFBdI&cc=AF4M3W9CoqBlfYOELC5xhWk_7bem39r1Diix1S5zAkA</a></p>\n",
       "        <p>The authorization workflow will generate a code, which you should paste in the box below.</p>\n",
       "        "
      ],
      "text/plain": [
       "<IPython.core.display.HTML object>"
      ]
     },
     "metadata": {},
     "output_type": "display_data"
    },
    {
     "name": "stdout",
     "output_type": "stream",
     "text": [
      "\n",
      "Successfully saved authorization token.\n"
     ]
    }
   ],
   "source": [
    "ee.Authenticate()"
   ]
  },
  {
   "cell_type": "code",
   "execution_count": 10,
   "id": "1dba9903",
   "metadata": {},
   "outputs": [
    {
     "data": {
      "text/html": [
       "\n",
       "            <style>\n",
       "                .geemap-dark {\n",
       "                    --jp-widgets-color: white;\n",
       "                    --jp-widgets-label-color: white;\n",
       "                    --jp-ui-font-color1: white;\n",
       "                    --jp-layout-color2: #454545;\n",
       "                    background-color: #383838;\n",
       "                }\n",
       "\n",
       "                .geemap-dark .jupyter-button {\n",
       "                    --jp-layout-color3: #383838;\n",
       "                }\n",
       "\n",
       "                .geemap-colab {\n",
       "                    background-color: var(--colab-primary-surface-color, white);\n",
       "                }\n",
       "\n",
       "                .geemap-colab .jupyter-button {\n",
       "                    --jp-layout-color3: var(--colab-primary-surface-color, white);\n",
       "                }\n",
       "            </style>\n",
       "            "
      ],
      "text/plain": [
       "<IPython.core.display.HTML object>"
      ]
     },
     "metadata": {},
     "output_type": "display_data"
    }
   ],
   "source": [
    "ee.Initialize()"
   ]
  },
  {
   "cell_type": "code",
   "execution_count": 9,
   "id": "bafd116c",
   "metadata": {},
   "outputs": [
    {
     "data": {
      "text/html": [
       "\n",
       "            <style>\n",
       "                .geemap-dark {\n",
       "                    --jp-widgets-color: white;\n",
       "                    --jp-widgets-label-color: white;\n",
       "                    --jp-ui-font-color1: white;\n",
       "                    --jp-layout-color2: #454545;\n",
       "                    background-color: #383838;\n",
       "                }\n",
       "\n",
       "                .geemap-dark .jupyter-button {\n",
       "                    --jp-layout-color3: #383838;\n",
       "                }\n",
       "\n",
       "                .geemap-colab {\n",
       "                    background-color: var(--colab-primary-surface-color, white);\n",
       "                }\n",
       "\n",
       "                .geemap-colab .jupyter-button {\n",
       "                    --jp-layout-color3: var(--colab-primary-surface-color, white);\n",
       "                }\n",
       "            </style>\n",
       "            "
      ],
      "text/plain": [
       "<IPython.core.display.HTML object>"
      ]
     },
     "metadata": {},
     "output_type": "display_data"
    },
    {
     "data": {
      "text/html": [
       "<div>\n",
       "<style scoped>\n",
       "    .dataframe tbody tr th:only-of-type {\n",
       "        vertical-align: middle;\n",
       "    }\n",
       "\n",
       "    .dataframe tbody tr th {\n",
       "        vertical-align: top;\n",
       "    }\n",
       "\n",
       "    .dataframe thead th {\n",
       "        text-align: right;\n",
       "    }\n",
       "</style>\n",
       "<table border=\"1\" class=\"dataframe\">\n",
       "  <thead>\n",
       "    <tr style=\"text-align: right;\">\n",
       "      <th></th>\n",
       "      <th>Mouza_Name</th>\n",
       "      <th>Landuse_Ma</th>\n",
       "      <th>Area_Acre</th>\n",
       "      <th>FFID</th>\n",
       "      <th>Parcel_ID</th>\n",
       "      <th>Crop_Type</th>\n",
       "      <th>geometry</th>\n",
       "    </tr>\n",
       "  </thead>\n",
       "  <tbody>\n",
       "    <tr>\n",
       "      <th>0</th>\n",
       "      <td>Khushmaqam</td>\n",
       "      <td>Agriculture</td>\n",
       "      <td>0.101785</td>\n",
       "      <td>1</td>\n",
       "      <td>668.0</td>\n",
       "      <td>None</td>\n",
       "      <td>MULTIPOLYGON (((753923.077 3769111.141, 753894...</td>\n",
       "    </tr>\n",
       "    <tr>\n",
       "      <th>1</th>\n",
       "      <td>Khushmaqam</td>\n",
       "      <td>Built up</td>\n",
       "      <td>0.036718</td>\n",
       "      <td>2</td>\n",
       "      <td>670.0</td>\n",
       "      <td>None</td>\n",
       "      <td>MULTIPOLYGON (((753959.894 3769126.291, 753959...</td>\n",
       "    </tr>\n",
       "    <tr>\n",
       "      <th>2</th>\n",
       "      <td>Khushmaqam</td>\n",
       "      <td>Agriculture</td>\n",
       "      <td>0.315557</td>\n",
       "      <td>3</td>\n",
       "      <td>632.0</td>\n",
       "      <td>None</td>\n",
       "      <td>MULTIPOLYGON (((753839.267 3769129.693, 753841...</td>\n",
       "    </tr>\n",
       "    <tr>\n",
       "      <th>3</th>\n",
       "      <td>Khushmaqam</td>\n",
       "      <td>Agriculture</td>\n",
       "      <td>0.187644</td>\n",
       "      <td>4</td>\n",
       "      <td>669.0</td>\n",
       "      <td>None</td>\n",
       "      <td>MULTIPOLYGON (((753952.852 3769131.737, 753946...</td>\n",
       "    </tr>\n",
       "    <tr>\n",
       "      <th>4</th>\n",
       "      <td>Khushmaqam</td>\n",
       "      <td>Agriculture</td>\n",
       "      <td>0.161568</td>\n",
       "      <td>5</td>\n",
       "      <td>693.0</td>\n",
       "      <td>None</td>\n",
       "      <td>MULTIPOLYGON (((754361.202 3769166.424, 754269...</td>\n",
       "    </tr>\n",
       "  </tbody>\n",
       "</table>\n",
       "</div>"
      ],
      "text/plain": [
       "   Mouza_Name   Landuse_Ma  Area_Acre  FFID  Parcel_ID Crop_Type  \\\n",
       "0  Khushmaqam  Agriculture   0.101785     1      668.0      None   \n",
       "1  Khushmaqam     Built up   0.036718     2      670.0      None   \n",
       "2  Khushmaqam  Agriculture   0.315557     3      632.0      None   \n",
       "3  Khushmaqam  Agriculture   0.187644     4      669.0      None   \n",
       "4  Khushmaqam  Agriculture   0.161568     5      693.0      None   \n",
       "\n",
       "                                            geometry  \n",
       "0  MULTIPOLYGON (((753923.077 3769111.141, 753894...  \n",
       "1  MULTIPOLYGON (((753959.894 3769126.291, 753959...  \n",
       "2  MULTIPOLYGON (((753839.267 3769129.693, 753841...  \n",
       "3  MULTIPOLYGON (((753952.852 3769131.737, 753946...  \n",
       "4  MULTIPOLYGON (((754361.202 3769166.424, 754269...  "
      ]
     },
     "execution_count": 9,
     "metadata": {},
     "output_type": "execute_result"
    }
   ],
   "source": [
    "cropfile = 'pabbi_crop.geojson'\n",
    "gdf = gpd.read_file(cropfile)\n",
    "gdf.head()"
   ]
  },
  {
   "cell_type": "markdown",
   "id": "dd48ad1a",
   "metadata": {},
   "source": [
    "# Selecting those columns which have None in Crop_Type and Agricultue in Landuse_Ma\n",
    "# gdf.loc[(gdf['Crop_Type'].isna()) & (gdf['Landuse_Ma'] == 'Agriculture')]\n",
    "testinggdf = gdf.loc[(gdf['Crop_Type'].isna()) & (gdf['Landuse_Ma'] == 'Agriculture')]\n",
    "testinggdf"
   ]
  },
  {
   "cell_type": "markdown",
   "id": "3b473e66",
   "metadata": {},
   "source": [
    "# lets fill the Crop_Type with 'a' \n",
    "testinggdf.to_file('real_crop_testing.geojson', driver='GeoJSON')"
   ]
  },
  {
   "cell_type": "code",
   "execution_count": 4,
   "id": "a0c77cba",
   "metadata": {},
   "outputs": [
    {
     "data": {
      "text/html": [
       "\n",
       "            <style>\n",
       "                .geemap-dark {\n",
       "                    --jp-widgets-color: white;\n",
       "                    --jp-widgets-label-color: white;\n",
       "                    --jp-ui-font-color1: white;\n",
       "                    --jp-layout-color2: #454545;\n",
       "                    background-color: #383838;\n",
       "                }\n",
       "\n",
       "                .geemap-dark .jupyter-button {\n",
       "                    --jp-layout-color3: #383838;\n",
       "                }\n",
       "\n",
       "                .geemap-colab {\n",
       "                    background-color: var(--colab-primary-surface-color, white);\n",
       "                }\n",
       "\n",
       "                .geemap-colab .jupyter-button {\n",
       "                    --jp-layout-color3: var(--colab-primary-surface-color, white);\n",
       "                }\n",
       "            </style>\n",
       "            "
      ],
      "text/plain": [
       "<IPython.core.display.HTML object>"
      ]
     },
     "metadata": {},
     "output_type": "display_data"
    }
   ],
   "source": [
    "#Filter and clean data is now in the real_crop_testing.geojson\n",
    "file = 'real_crop_testing.geojson'\n",
    "cropgdf = gpd.read_file(file)\n"
   ]
  },
  {
   "cell_type": "code",
   "execution_count": null,
   "id": "75b7b17c",
   "metadata": {},
   "outputs": [
    {
     "data": {
      "text/html": [
       "\n",
       "            <style>\n",
       "                .geemap-dark {\n",
       "                    --jp-widgets-color: white;\n",
       "                    --jp-widgets-label-color: white;\n",
       "                    --jp-ui-font-color1: white;\n",
       "                    --jp-layout-color2: #454545;\n",
       "                    background-color: #383838;\n",
       "                }\n",
       "\n",
       "                .geemap-dark .jupyter-button {\n",
       "                    --jp-layout-color3: #383838;\n",
       "                }\n",
       "\n",
       "                .geemap-colab {\n",
       "                    background-color: var(--colab-primary-surface-color, white);\n",
       "                }\n",
       "\n",
       "                .geemap-colab .jupyter-button {\n",
       "                    --jp-layout-color3: var(--colab-primary-surface-color, white);\n",
       "                }\n",
       "            </style>\n",
       "            "
      ],
      "text/plain": [
       "<IPython.core.display.HTML object>"
      ]
     },
     "metadata": {},
     "output_type": "display_data"
    },
    {
     "name": "stdout",
     "output_type": "stream",
     "text": [
      "5288\n"
     ]
    }
   ],
   "source": [
    "print(cropgdf.head())   \n",
    "print(len(cropgdf))"
   ]
  },
  {
   "cell_type": "code",
   "execution_count": 11,
   "id": "659cdf62",
   "metadata": {},
   "outputs": [
    {
     "data": {
      "text/html": [
       "\n",
       "            <style>\n",
       "                .geemap-dark {\n",
       "                    --jp-widgets-color: white;\n",
       "                    --jp-widgets-label-color: white;\n",
       "                    --jp-ui-font-color1: white;\n",
       "                    --jp-layout-color2: #454545;\n",
       "                    background-color: #383838;\n",
       "                }\n",
       "\n",
       "                .geemap-dark .jupyter-button {\n",
       "                    --jp-layout-color3: #383838;\n",
       "                }\n",
       "\n",
       "                .geemap-colab {\n",
       "                    background-color: var(--colab-primary-surface-color, white);\n",
       "                }\n",
       "\n",
       "                .geemap-colab .jupyter-button {\n",
       "                    --jp-layout-color3: var(--colab-primary-surface-color, white);\n",
       "                }\n",
       "            </style>\n",
       "            "
      ],
      "text/plain": [
       "<IPython.core.display.HTML object>"
      ]
     },
     "metadata": {},
     "output_type": "display_data"
    }
   ],
   "source": [
    "# Lets convert the cropgdf to ee featues collection to be used for reduction.\n",
    "gdf_fc = geemap.gdf_to_ee(gdf) #this is the one we will used for clipping\n",
    "cropfeat=geemap.gdf_to_ee(cropgdf) #we will use this for reduction"
   ]
  },
  {
   "cell_type": "code",
   "execution_count": 14,
   "id": "3669efc4",
   "metadata": {},
   "outputs": [
    {
     "data": {
      "text/html": [
       "\n",
       "            <style>\n",
       "                .geemap-dark {\n",
       "                    --jp-widgets-color: white;\n",
       "                    --jp-widgets-label-color: white;\n",
       "                    --jp-ui-font-color1: white;\n",
       "                    --jp-layout-color2: #454545;\n",
       "                    background-color: #383838;\n",
       "                }\n",
       "\n",
       "                .geemap-dark .jupyter-button {\n",
       "                    --jp-layout-color3: #383838;\n",
       "                }\n",
       "\n",
       "                .geemap-colab {\n",
       "                    background-color: var(--colab-primary-surface-color, white);\n",
       "                }\n",
       "\n",
       "                .geemap-colab .jupyter-button {\n",
       "                    --jp-layout-color3: var(--colab-primary-surface-color, white);\n",
       "                }\n",
       "            </style>\n",
       "            "
      ],
      "text/plain": [
       "<IPython.core.display.HTML object>"
      ]
     },
     "metadata": {},
     "output_type": "display_data"
    }
   ],
   "source": [
    "# Define a function to get imagery an apply filter\n",
    "def get_imagery (start_date,end_date):\n",
    "    collection = ee.ImageCollection('COPERNICUS/S2_SR_HARMONIZED')\n",
    "    filtered_collection = collection.filterDate(start_date, end_date).filterBounds(gdf_fc).filter(ee.Filter.lt('CLOUDY_PIXEL_PERCENTAGE', 10))\n",
    "    median_image = filtered_collection.median().clip(gdf_fc.geometry())\n",
    "    return median_image\n"
   ]
  },
  {
   "cell_type": "code",
   "execution_count": 15,
   "id": "c7af2615",
   "metadata": {},
   "outputs": [
    {
     "data": {
      "text/html": [
       "\n",
       "            <style>\n",
       "                .geemap-dark {\n",
       "                    --jp-widgets-color: white;\n",
       "                    --jp-widgets-label-color: white;\n",
       "                    --jp-ui-font-color1: white;\n",
       "                    --jp-layout-color2: #454545;\n",
       "                    background-color: #383838;\n",
       "                }\n",
       "\n",
       "                .geemap-dark .jupyter-button {\n",
       "                    --jp-layout-color3: #383838;\n",
       "                }\n",
       "\n",
       "                .geemap-colab {\n",
       "                    background-color: var(--colab-primary-surface-color, white);\n",
       "                }\n",
       "\n",
       "                .geemap-colab .jupyter-button {\n",
       "                    --jp-layout-color3: var(--colab-primary-surface-color, white);\n",
       "                }\n",
       "            </style>\n",
       "            "
      ],
      "text/plain": [
       "<IPython.core.display.HTML object>"
      ]
     },
     "metadata": {},
     "output_type": "display_data"
    }
   ],
   "source": [
    "# Seperate for Rabi and Kharif Season of the current year\n",
    "\n",
    "\n",
    "def get_ndvindwi(median_image):\n",
    "    # Calculate NDVI\n",
    "    ndvi = median_image.normalizedDifference(['B8', 'B4']).rename('NDVI')\n",
    "    # McFeeters NDWI = (Green - NIR) / (Green + NIR)\n",
    "    ndwi = median_image.normalizedDifference(['B3', 'B8']).rename('NDWI')\n",
    "    return ndvi, ndwi\n",
    "\n",
    "def get_mndwi(median_image):\n",
    "    # Calculate MNDWI\n",
    "    mndwi = median_image.normalizedDifference(['B3', 'B11']).rename('MNDWI')\n",
    "    return mndwi\n",
    "\n",
    "def get_savi(median_image):\n",
    "    # Calculate Soil Adjusted Vetetation Index (SAVI)\n",
    "    savi = median_image.expression(\n",
    "        '(NIR - RED) / (NIR + RED + L) * (1 + L)', {\n",
    "            'NIR': median_image.select('B8'),\n",
    "            'RED': median_image.select('B4'),\n",
    "            'L': 0.5\n",
    "        }).rename('SAVI')\n",
    "    return savi\n",
    "def get_arvi(median_image):\n",
    "    # Calculate Atmospherically Resistant Vegetation Index (ARVI)\n",
    "    arvi = median_image.expression(\n",
    "        '(NIR - (2 * RED - BLUE)) / (NIR + (2 * RED - BLUE))', {\n",
    "            'NIR': median_image.select('B8'),\n",
    "            'RED': median_image.select('B4'),\n",
    "            'BLUE': median_image.select('B2')\n",
    "        }).rename('ARVI')\n",
    "    return arvi\n",
    "\n",
    "def get_otherbands(median_image):\n",
    "    # Adding other bans and calculating their mean\n",
    "    bands = ['B2', 'B3', 'B4', 'B8', 'B11', 'B12']\n",
    "    band_img = median_image.select(bands).rename([f'{b}_mean' for b in bands])\n",
    "    return band_img\n",
    "\n",
    "def get_texture(median_image):\n",
    "    # Calculating the texture\n",
    "    nir_int = median_image.select('B8').toInt32()\n",
    "    texture = nir_int.glcmTexture(size=3)\n",
    "    contrast = texture.select('B8_contrast').rename('contrast')\n",
    "    entropy = texture.select('B8_ent').rename('entropy')\n",
    "    return contrast,entropy\n",
    "\n",
    "def get_features(ndvi, ndwi, band_img, contrast, mndwi,entropy,savi,arvi):\n",
    "    # Combine all features into a single image\n",
    "    features_img = band_img.addBands([ndvi, ndwi,mndwi,entropy,savi,arvi])\n",
    "    features_img = features_img.addBands(contrast)\n",
    "    return features_img\n"
   ]
  },
  {
   "cell_type": "code",
   "execution_count": 16,
   "id": "1047e472",
   "metadata": {},
   "outputs": [
    {
     "data": {
      "text/html": [
       "\n",
       "            <style>\n",
       "                .geemap-dark {\n",
       "                    --jp-widgets-color: white;\n",
       "                    --jp-widgets-label-color: white;\n",
       "                    --jp-ui-font-color1: white;\n",
       "                    --jp-layout-color2: #454545;\n",
       "                    background-color: #383838;\n",
       "                }\n",
       "\n",
       "                .geemap-dark .jupyter-button {\n",
       "                    --jp-layout-color3: #383838;\n",
       "                }\n",
       "\n",
       "                .geemap-colab {\n",
       "                    background-color: var(--colab-primary-surface-color, white);\n",
       "                }\n",
       "\n",
       "                .geemap-colab .jupyter-button {\n",
       "                    --jp-layout-color3: var(--colab-primary-surface-color, white);\n",
       "                }\n",
       "            </style>\n",
       "            "
      ],
      "text/plain": [
       "<IPython.core.display.HTML object>"
      ]
     },
     "metadata": {},
     "output_type": "display_data"
    }
   ],
   "source": [
    "#---------------------------\n",
    "# Plan reduciton\n",
    "\n",
    "def get_reduction(fc):\n",
    "    # Step 2: Calculate mean NDVI for each agri polygon\n",
    "    pcs = fc.reduceRegions(\n",
    "    collection=cropfeat,\n",
    "    reducer=ee.Reducer.mean(),\n",
    "    scale=10,)\n",
    "    # Convert the result to dataframe\n",
    "    cf= geemap.ee_to_gdf(pcs)\n",
    "    return cf\n",
    "\n"
   ]
  },
  {
   "cell_type": "code",
   "execution_count": 17,
   "id": "38953e99",
   "metadata": {},
   "outputs": [
    {
     "data": {
      "text/html": [
       "\n",
       "            <style>\n",
       "                .geemap-dark {\n",
       "                    --jp-widgets-color: white;\n",
       "                    --jp-widgets-label-color: white;\n",
       "                    --jp-ui-font-color1: white;\n",
       "                    --jp-layout-color2: #454545;\n",
       "                    background-color: #383838;\n",
       "                }\n",
       "\n",
       "                .geemap-dark .jupyter-button {\n",
       "                    --jp-layout-color3: #383838;\n",
       "                }\n",
       "\n",
       "                .geemap-colab {\n",
       "                    background-color: var(--colab-primary-surface-color, white);\n",
       "                }\n",
       "\n",
       "                .geemap-colab .jupyter-button {\n",
       "                    --jp-layout-color3: var(--colab-primary-surface-color, white);\n",
       "                }\n",
       "            </style>\n",
       "            "
      ],
      "text/plain": [
       "<IPython.core.display.HTML object>"
      ]
     },
     "metadata": {},
     "output_type": "display_data"
    }
   ],
   "source": [
    "#----------------------------------\n",
    "# Now calculate area, perimeter etc\n",
    "def get_area(cropgdf):\n",
    "# We need to calculate the area of each polygon in square meters\n",
    "# Therefore we will convert the geometry to a projected coordinate system (EPSG:32643)\n",
    "    cropgdf=cropgdf.to_crs(epsg=32643)\n",
    "# Calculating the area , perimetere and compactness\n",
    "    cropgdf['Area_m2'] = cropgdf.geometry.area\n",
    "    cropgdf['Perimeter_m'] = cropgdf.geometry.length\n",
    "    cropgdf['Compactness'] = (4 * 3.14 * cropgdf['Area_m2']) / (cropgdf['Perimeter_m'] ** 2)\n",
    "\n",
    "# Switch back to lat/lon if needed for mapping\n",
    "    cropgdf = cropgdf.to_crs(epsg=4326)\n",
    "\n",
    "#Inspect the new columns\n",
    "#gdfcrop_features[['Area_m2','Perimeter_m','Compactness']].head()\n",
    "    return cropgdf\n",
    "\n"
   ]
  },
  {
   "cell_type": "code",
   "execution_count": 18,
   "id": "fb6d372b",
   "metadata": {},
   "outputs": [
    {
     "data": {
      "text/html": [
       "\n",
       "            <style>\n",
       "                .geemap-dark {\n",
       "                    --jp-widgets-color: white;\n",
       "                    --jp-widgets-label-color: white;\n",
       "                    --jp-ui-font-color1: white;\n",
       "                    --jp-layout-color2: #454545;\n",
       "                    background-color: #383838;\n",
       "                }\n",
       "\n",
       "                .geemap-dark .jupyter-button {\n",
       "                    --jp-layout-color3: #383838;\n",
       "                }\n",
       "\n",
       "                .geemap-colab {\n",
       "                    background-color: var(--colab-primary-surface-color, white);\n",
       "                }\n",
       "\n",
       "                .geemap-colab .jupyter-button {\n",
       "                    --jp-layout-color3: var(--colab-primary-surface-color, white);\n",
       "                }\n",
       "            </style>\n",
       "            "
      ],
      "text/plain": [
       "<IPython.core.display.HTML object>"
      ]
     },
     "metadata": {},
     "output_type": "display_data"
    }
   ],
   "source": [
    "# Getting imagery and features\n",
    "rabi = get_imagery('2024-10-01','2025-03-31')\n",
    "\n",
    "ndvi_rabi, ndwi_rabi = get_ndvindwi(rabi)\n",
    "\n",
    "savi_rabi = get_savi(rabi)\n",
    "\n",
    "arvi_rabi = get_arvi(rabi)\n",
    "\n",
    "mndwi_rabi = get_mndwi(rabi)    \n",
    "\n",
    "band_rabi = get_otherbands(rabi)\n",
    "\n",
    "contrast_rabi, entropy_rabi = get_texture(rabi)    \n",
    "\n",
    "rabi_feats =   get_features(ndvi_rabi, ndwi_rabi,band_rabi, contrast_rabi,entropy_rabi,mndwi_rabi,savi_rabi,arvi_rabi)    \n",
    "\n"
   ]
  },
  {
   "cell_type": "code",
   "execution_count": 20,
   "id": "193d18d7",
   "metadata": {},
   "outputs": [
    {
     "data": {
      "text/html": [
       "\n",
       "            <style>\n",
       "                .geemap-dark {\n",
       "                    --jp-widgets-color: white;\n",
       "                    --jp-widgets-label-color: white;\n",
       "                    --jp-ui-font-color1: white;\n",
       "                    --jp-layout-color2: #454545;\n",
       "                    background-color: #383838;\n",
       "                }\n",
       "\n",
       "                .geemap-dark .jupyter-button {\n",
       "                    --jp-layout-color3: #383838;\n",
       "                }\n",
       "\n",
       "                .geemap-colab {\n",
       "                    background-color: var(--colab-primary-surface-color, white);\n",
       "                }\n",
       "\n",
       "                .geemap-colab .jupyter-button {\n",
       "                    --jp-layout-color3: var(--colab-primary-surface-color, white);\n",
       "                }\n",
       "            </style>\n",
       "            "
      ],
      "text/plain": [
       "<IPython.core.display.HTML object>"
      ]
     },
     "metadata": {},
     "output_type": "display_data"
    }
   ],
   "source": [
    "# Get reduction gdf for  Kharif_feas,rabi_feats and composite_features\n",
    "rabi_reduced=get_reduction(rabi_feats)"
   ]
  },
  {
   "cell_type": "code",
   "execution_count": 22,
   "id": "cf973227",
   "metadata": {},
   "outputs": [
    {
     "data": {
      "text/html": [
       "\n",
       "            <style>\n",
       "                .geemap-dark {\n",
       "                    --jp-widgets-color: white;\n",
       "                    --jp-widgets-label-color: white;\n",
       "                    --jp-ui-font-color1: white;\n",
       "                    --jp-layout-color2: #454545;\n",
       "                    background-color: #383838;\n",
       "                }\n",
       "\n",
       "                .geemap-dark .jupyter-button {\n",
       "                    --jp-layout-color3: #383838;\n",
       "                }\n",
       "\n",
       "                .geemap-colab {\n",
       "                    background-color: var(--colab-primary-surface-color, white);\n",
       "                }\n",
       "\n",
       "                .geemap-colab .jupyter-button {\n",
       "                    --jp-layout-color3: var(--colab-primary-surface-color, white);\n",
       "                }\n",
       "            </style>\n",
       "            "
      ],
      "text/plain": [
       "<IPython.core.display.HTML object>"
      ]
     },
     "metadata": {},
     "output_type": "display_data"
    }
   ],
   "source": [
    "#Get area, perimetetr and compactness for kharif_reduced,rabi_reduced and composite_reduced\n",
    "rabi_reduced=get_area(rabi_reduced)"
   ]
  },
  {
   "cell_type": "code",
   "execution_count": 23,
   "id": "6ed05102",
   "metadata": {},
   "outputs": [
    {
     "data": {
      "text/html": [
       "\n",
       "            <style>\n",
       "                .geemap-dark {\n",
       "                    --jp-widgets-color: white;\n",
       "                    --jp-widgets-label-color: white;\n",
       "                    --jp-ui-font-color1: white;\n",
       "                    --jp-layout-color2: #454545;\n",
       "                    background-color: #383838;\n",
       "                }\n",
       "\n",
       "                .geemap-dark .jupyter-button {\n",
       "                    --jp-layout-color3: #383838;\n",
       "                }\n",
       "\n",
       "                .geemap-colab {\n",
       "                    background-color: var(--colab-primary-surface-color, white);\n",
       "                }\n",
       "\n",
       "                .geemap-colab .jupyter-button {\n",
       "                    --jp-layout-color3: var(--colab-primary-surface-color, white);\n",
       "                }\n",
       "            </style>\n",
       "            "
      ],
      "text/plain": [
       "<IPython.core.display.HTML object>"
      ]
     },
     "metadata": {},
     "output_type": "display_data"
    },
    {
     "data": {
      "text/plain": [
       "Index(['geometry', 'ARVI', 'Area_Acre', 'B11_mean', 'B12_mean', 'B2_mean',\n",
       "       'B3_mean', 'B4_mean', 'B8_mean', 'Crop_Type', 'FFID', 'Landuse_Ma',\n",
       "       'MNDWI', 'Mouza_Name', 'NDVI', 'NDWI', 'Parcel_ID', 'SAVI', 'contrast',\n",
       "       'entropy', 'Area_m2', 'Perimeter_m', 'Compactness'],\n",
       "      dtype='object')"
      ]
     },
     "execution_count": 23,
     "metadata": {},
     "output_type": "execute_result"
    }
   ],
   "source": [
    "rabi_reduced.columns"
   ]
  },
  {
   "cell_type": "code",
   "execution_count": 24,
   "id": "e6695288",
   "metadata": {},
   "outputs": [
    {
     "data": {
      "text/html": [
       "\n",
       "            <style>\n",
       "                .geemap-dark {\n",
       "                    --jp-widgets-color: white;\n",
       "                    --jp-widgets-label-color: white;\n",
       "                    --jp-ui-font-color1: white;\n",
       "                    --jp-layout-color2: #454545;\n",
       "                    background-color: #383838;\n",
       "                }\n",
       "\n",
       "                .geemap-dark .jupyter-button {\n",
       "                    --jp-layout-color3: #383838;\n",
       "                }\n",
       "\n",
       "                .geemap-colab {\n",
       "                    background-color: var(--colab-primary-surface-color, white);\n",
       "                }\n",
       "\n",
       "                .geemap-colab .jupyter-button {\n",
       "                    --jp-layout-color3: var(--colab-primary-surface-color, white);\n",
       "                }\n",
       "            </style>\n",
       "            "
      ],
      "text/plain": [
       "<IPython.core.display.HTML object>"
      ]
     },
     "metadata": {},
     "output_type": "display_data"
    },
    {
     "data": {
      "text/plain": [
       "Crop_Type\n",
       "a    5288\n",
       "Name: count, dtype: int64"
      ]
     },
     "execution_count": 24,
     "metadata": {},
     "output_type": "execute_result"
    }
   ],
   "source": [
    "rabi_reduced['Crop_Type'].value_counts()"
   ]
  },
  {
   "cell_type": "code",
   "execution_count": 25,
   "id": "a5a66e76",
   "metadata": {},
   "outputs": [
    {
     "data": {
      "text/html": [
       "\n",
       "            <style>\n",
       "                .geemap-dark {\n",
       "                    --jp-widgets-color: white;\n",
       "                    --jp-widgets-label-color: white;\n",
       "                    --jp-ui-font-color1: white;\n",
       "                    --jp-layout-color2: #454545;\n",
       "                    background-color: #383838;\n",
       "                }\n",
       "\n",
       "                .geemap-dark .jupyter-button {\n",
       "                    --jp-layout-color3: #383838;\n",
       "                }\n",
       "\n",
       "                .geemap-colab {\n",
       "                    background-color: var(--colab-primary-surface-color, white);\n",
       "                }\n",
       "\n",
       "                .geemap-colab .jupyter-button {\n",
       "                    --jp-layout-color3: var(--colab-primary-surface-color, white);\n",
       "                }\n",
       "            </style>\n",
       "            "
      ],
      "text/plain": [
       "<IPython.core.display.HTML object>"
      ]
     },
     "metadata": {},
     "output_type": "display_data"
    }
   ],
   "source": [
    "# List out the exact feature columns in your composite_reduced\n",
    "feature_cols = [\n",
    "    # early‑Kharif means (no “_1” suffix)\n",
    "    'B2_mean', 'B3_mean', 'B4_mean', 'B8_mean', 'B11_mean', 'B12_mean','ARVI',\n",
    "    'SAVI','NDVI', 'NDWI', 'contrast','MNDWI','entropy',\n",
    "    \n",
    "    # shape metrics (if present—you can add Area_Acre or Area_m2 etc.)\n",
    "    'Area_m2','Perimeter_m','Compactness'       # or 'Area_m2','Perimeter_m','Compactness'\n",
    "  \n",
    "]\n"
   ]
  },
  {
   "cell_type": "code",
   "execution_count": null,
   "id": "53356030",
   "metadata": {},
   "outputs": [
    {
     "data": {
      "text/html": [
       "\n",
       "            <style>\n",
       "                .geemap-dark {\n",
       "                    --jp-widgets-color: white;\n",
       "                    --jp-widgets-label-color: white;\n",
       "                    --jp-ui-font-color1: white;\n",
       "                    --jp-layout-color2: #454545;\n",
       "                    background-color: #383838;\n",
       "                }\n",
       "\n",
       "                .geemap-dark .jupyter-button {\n",
       "                    --jp-layout-color3: #383838;\n",
       "                }\n",
       "\n",
       "                .geemap-colab {\n",
       "                    background-color: var(--colab-primary-surface-color, white);\n",
       "                }\n",
       "\n",
       "                .geemap-colab .jupyter-button {\n",
       "                    --jp-layout-color3: var(--colab-primary-surface-color, white);\n",
       "                }\n",
       "            </style>\n",
       "            "
      ],
      "text/plain": [
       "<IPython.core.display.HTML object>"
      ]
     },
     "metadata": {},
     "output_type": "display_data"
    },
    {
     "name": "stdout",
     "output_type": "stream",
     "text": [
      "           count\n",
      "Crop_Type       \n",
      "a           5288\n",
      "                                                                                                                                                                                   count\n",
      "B2_mean     B3_mean     B4_mean     B8_mean     B11_mean    B12_mean    ARVI      SAVI     NDVI     NDWI      contrast     MNDWI     entropy  Area_m2     Perimeter_m Compactness       \n",
      "1497.155556 1735.107801 1990.675177 2342.493617 2475.573050 2441.695745 -0.029045 0.122933 0.081965 -0.150985 66090.655616 -0.178059 4.352179 229.589408  61.077188   0.773007         1\n",
      "342.239309  539.461349  455.721217  2151.990954 1243.381579 773.943257   0.585195 0.977162 0.651566 -0.598909 49302.192725 -0.395061 4.338324 396.694491  108.454549  0.423594         1\n",
      "347.981897  486.023676  400.400206  1892.511564 1158.293970 680.916731   0.615701 0.976124 0.650893 -0.590743 57975.827657 -0.407705 4.314263 1680.113701 264.864248  0.300803         1\n",
      "357.128555  593.677017  496.757110  2558.662217 1229.576611 734.751161   0.602714 1.012369 0.675023 -0.623286 28909.169530 -0.348835 4.341577 1120.256860 139.086001  0.727345         1\n",
      "368.220438  581.272993  427.699757  2275.420925 1399.386861 860.826764   0.646982 1.024356 0.683030 -0.592387 34389.970005 -0.412965 4.323648 666.353496  104.236282  0.770294         1\n",
      "...                                                                                                                                                                                  ...\n",
      "379.731663  624.601842  431.801136  2610.908747 1213.659607 703.528151   0.682709 1.067627 0.711870 -0.609959 50778.940728 -0.321205 4.333868 3776.708620 379.735237  0.328959         1\n",
      "380.738954  653.255891  467.957290  2782.939617 1526.470545 917.062960   0.662222 1.060925 0.707393 -0.616497 99915.426384 -0.400539 4.326207 882.863373  136.291018  0.596965         1\n",
      "381.215686  598.283660  515.997386  2133.065359 1416.125490 926.264052   0.532869 0.915355 0.610353 -0.562028 92526.637554 -0.407325 4.342180 255.462216  69.534670   0.663611         1\n",
      "381.806978  588.882139  469.006943  2589.006249 1320.677313 785.082451   0.646654 1.038484 0.692436 -0.628775 40657.256265 -0.383811 4.308455 1872.585388 188.685283  0.660625         1\n",
      "383.518931  582.829065  491.413697  2355.664811 1274.148107 790.095212   0.595791 0.982365 0.655025 -0.602981 62710.831460 -0.373616 4.352138 586.456102  114.617476  0.560691         1\n",
      "\n",
      "[5288 rows x 1 columns]\n"
     ]
    }
   ],
   "source": [
    "# Confirm target Class and features columns\n",
    "\n",
    "print(rabi_reduced['Crop_Type'].value_counts().to_frame('count'))\n",
    "print(rabi_reduced[feature_cols].value_counts())"
   ]
  },
  {
   "cell_type": "code",
   "execution_count": 36,
   "id": "f35157a4",
   "metadata": {},
   "outputs": [
    {
     "data": {
      "text/html": [
       "\n",
       "            <style>\n",
       "                .geemap-dark {\n",
       "                    --jp-widgets-color: white;\n",
       "                    --jp-widgets-label-color: white;\n",
       "                    --jp-ui-font-color1: white;\n",
       "                    --jp-layout-color2: #454545;\n",
       "                    background-color: #383838;\n",
       "                }\n",
       "\n",
       "                .geemap-dark .jupyter-button {\n",
       "                    --jp-layout-color3: #383838;\n",
       "                }\n",
       "\n",
       "                .geemap-colab {\n",
       "                    background-color: var(--colab-primary-surface-color, white);\n",
       "                }\n",
       "\n",
       "                .geemap-colab .jupyter-button {\n",
       "                    --jp-layout-color3: var(--colab-primary-surface-color, white);\n",
       "                }\n",
       "            </style>\n",
       "            "
      ],
      "text/plain": [
       "<IPython.core.display.HTML object>"
      ]
     },
     "metadata": {},
     "output_type": "display_data"
    },
    {
     "name": "stdout",
     "output_type": "stream",
     "text": [
      "                Count\n",
      "Crop_Type            \n",
      "Unknown          3086\n",
      "Wheat            1575\n",
      "Persian Clover    533\n",
      "Orchard            52\n",
      "Eucalyptus         28\n",
      "Potato             14\n"
     ]
    }
   ],
   "source": [
    "# This is the revised prediction with probability for unknow types\n",
    "pipeline = joblib.load('crop_rf_pipeline.pkl')\n",
    "rf_model = pipeline['model']\n",
    "feature_cols = pipeline['feature_cols']\n",
    "\n",
    "X = rabi_reduced[feature_cols].fillna(0).values\n",
    "\n",
    "# Compute the prediction probabilities\n",
    "probs = rf_model.predict_proba(X)\n",
    "max_probs = probs.max(axis=1)\n",
    "\n",
    "pred_class = rf_model.classes_[probs.argmax(axis=1)]\n",
    "# 6. Apply threshold: label “Unknown” if below 0.6\n",
    "threshold = 0.60\n",
    "\n",
    "rabi_reduced['Crop_Type'] = np.where(max_probs >= threshold, pred_class, 'Unknown')\n",
    "\n",
    "# 7. (Optional) Summarize counts per class\n",
    "counts = rabi_reduced['Crop_Type'].value_counts().to_frame('Count')\n",
    "print(counts)\n",
    "\n"
   ]
  },
  {
   "cell_type": "code",
   "execution_count": null,
   "id": "941ca980",
   "metadata": {},
   "outputs": [
    {
     "data": {
      "text/html": [
       "\n",
       "            <style>\n",
       "                .geemap-dark {\n",
       "                    --jp-widgets-color: white;\n",
       "                    --jp-widgets-label-color: white;\n",
       "                    --jp-ui-font-color1: white;\n",
       "                    --jp-layout-color2: #454545;\n",
       "                    background-color: #383838;\n",
       "                }\n",
       "\n",
       "                .geemap-dark .jupyter-button {\n",
       "                    --jp-layout-color3: #383838;\n",
       "                }\n",
       "\n",
       "                .geemap-colab {\n",
       "                    background-color: var(--colab-primary-surface-color, white);\n",
       "                }\n",
       "\n",
       "                .geemap-colab .jupyter-button {\n",
       "                    --jp-layout-color3: var(--colab-primary-surface-color, white);\n",
       "                }\n",
       "            </style>\n",
       "            "
      ],
      "text/plain": [
       "<IPython.core.display.HTML object>"
      ]
     },
     "metadata": {},
     "output_type": "display_data"
    },
    {
     "name": "stdout",
     "output_type": "stream",
     "text": [
      "                count\n",
      "Crop_Type            \n",
      "Unknown          3086\n",
      "Wheat            1575\n",
      "Persian Clover    533\n",
      "Orchard            52\n",
      "Eucalyptus         28\n",
      "Potato             14\n"
     ]
    }
   ],
   "source": [
    "# Checking the values of probabilities for understanding\n",
    "print(rabi_reduced['Crop_Type'].value_counts().to_frame('count'))"
   ]
  },
  {
   "cell_type": "markdown",
   "id": "982f0299",
   "metadata": {},
   "source": [
    "# This is original restore and without probability\n",
    "import joblib\n",
    "\n",
    "X = rabi_reduced[feature_cols].values\n",
    "\n",
    "\n",
    "# 1. Load your saved pipeline\n",
    "pipeline = joblib.load('crop_rf_pipeline.pkl')\n",
    "rf_model = pipeline['model']\n",
    "feature_cols = pipeline['feature_cols']\n",
    "\n",
    "\n",
    "# 2. Prepare the feature matrix (handle any NaNs exactly as during training)\n",
    "X = rabi_reduced[feature_cols].fillna(0).values\n",
    "\n",
    "# 5. Predict and assign back to gdf\n",
    "rabi_reduced['Crop_Type'] = rf_model.predict(X)\n",
    "\n",
    "# 6. (Optional) Save the updated gdf to a new file\n",
    "rabi_reduced.to_file(\"new_Prediction.geojson\", driver=\"GeoJSON\")\n",
    "\n",
    "print(\"Prediction complete — GeoJSON with predicted Crop_Type saved.\")\n"
   ]
  },
  {
   "cell_type": "code",
   "execution_count": 40,
   "id": "799e5321",
   "metadata": {},
   "outputs": [
    {
     "data": {
      "text/html": [
       "\n",
       "            <style>\n",
       "                .geemap-dark {\n",
       "                    --jp-widgets-color: white;\n",
       "                    --jp-widgets-label-color: white;\n",
       "                    --jp-ui-font-color1: white;\n",
       "                    --jp-layout-color2: #454545;\n",
       "                    background-color: #383838;\n",
       "                }\n",
       "\n",
       "                .geemap-dark .jupyter-button {\n",
       "                    --jp-layout-color3: #383838;\n",
       "                }\n",
       "\n",
       "                .geemap-colab {\n",
       "                    background-color: var(--colab-primary-surface-color, white);\n",
       "                }\n",
       "\n",
       "                .geemap-colab .jupyter-button {\n",
       "                    --jp-layout-color3: var(--colab-primary-surface-color, white);\n",
       "                }\n",
       "            </style>\n",
       "            "
      ],
      "text/plain": [
       "<IPython.core.display.HTML object>"
      ]
     },
     "metadata": {},
     "output_type": "display_data"
    }
   ],
   "source": [
    "newpred = rabi_reduced.to_file(\"new_Prediction_V1.geojson\", driver='GeoJSON')\n"
   ]
  },
  {
   "cell_type": "markdown",
   "id": "468c5185",
   "metadata": {},
   "source": [
    "# Result and Conclusion:\n",
    "The results are not good enough bez builtup parcels which were initially agriculture are labelled as wheat.\n",
    "WayForward: First split the parcels based on Landuse_Ma and then used the clean parcels for crop detection."
   ]
  }
 ],
 "metadata": {
  "kernelspec": {
   "display_name": "Python 3",
   "language": "python",
   "name": "python3"
  },
  "language_info": {
   "codemirror_mode": {
    "name": "ipython",
    "version": 3
   },
   "file_extension": ".py",
   "mimetype": "text/x-python",
   "name": "python",
   "nbconvert_exporter": "python",
   "pygments_lexer": "ipython3",
   "version": "3.10.17"
  }
 },
 "nbformat": 4,
 "nbformat_minor": 5
}
