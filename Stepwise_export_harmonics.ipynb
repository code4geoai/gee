{
 "cells": [
  {
   "cell_type": "markdown",
   "id": "9d8dec4a",
   "metadata": {},
   "source": [
    "# 1 Create Config Class "
   ]
  },
  {
   "cell_type": "code",
   "execution_count": null,
   "id": "955c2af2",
   "metadata": {},
   "outputs": [
    {
     "data": {
      "text/html": [
       "\n",
       "            <style>\n",
       "                .geemap-dark {\n",
       "                    --jp-widgets-color: white;\n",
       "                    --jp-widgets-label-color: white;\n",
       "                    --jp-ui-font-color1: white;\n",
       "                    --jp-layout-color2: #454545;\n",
       "                    background-color: #383838;\n",
       "                }\n",
       "\n",
       "                .geemap-dark .jupyter-button {\n",
       "                    --jp-layout-color3: #383838;\n",
       "                }\n",
       "\n",
       "                .geemap-colab {\n",
       "                    background-color: var(--colab-primary-surface-color, white);\n",
       "                }\n",
       "\n",
       "                .geemap-colab .jupyter-button {\n",
       "                    --jp-layout-color3: var(--colab-primary-surface-color, white);\n",
       "                }\n",
       "            </style>\n",
       "            "
      ],
      "text/plain": [
       "<IPython.core.display.HTML object>"
      ]
     },
     "metadata": {},
     "output_type": "display_data"
    }
   ],
   "source": [
    "# Configuration Class\n",
    "class Config:\n",
    "    # Time Parameters\n",
    "    START_DATE = '2022-10-01'\n",
    "    END_DATE = '2023-06-02'\n",
    "    \n",
    "    # Cloud Masking Parameters\n",
    "    CLOUD_FILTER = 60  # (%) Maximum cloud cover percentage\n",
    "    CLD_PRB_THRESH = 50  # (%) Cloud probability threshold\n",
    "    NIR_DRK_THRESH = 0.15  # NIR dark pixel threshold\n",
    "    CLD_PRJ_DIST = 1  # km (cloud projection distance)\n",
    "    BUFFER = 50  # m (dilation buffer for cloud masks)\n",
    "    \n",
    "    # Area Parameters\n",
    "    AOI_COUNTRY_CODE = 256  # FAO country code 586 for pakistan\n",
    "    CRS = 'EPSG:27700'  # Coordinate Reference System\n",
    "    \n",
    "    # Export Parameters\n",
    "    EXPORT_FOLDER = 'GEE_Exports'\n",
    "    EXPORT_PREFIX = 'ndvi_harmonics_'\n",
    "    EXPORT_SCALE = 10  # meters\n",
    "\n",
    "cfg = Config()"
   ]
  },
  {
   "cell_type": "markdown",
   "id": "1b960db9",
   "metadata": {},
   "source": [
    "# 2 EE Iniliazation and getting basic info"
   ]
  },
  {
   "cell_type": "code",
   "execution_count": 3,
   "id": "fdd62271",
   "metadata": {},
   "outputs": [
    {
     "data": {
      "text/html": [
       "\n",
       "            <style>\n",
       "                .geemap-dark {\n",
       "                    --jp-widgets-color: white;\n",
       "                    --jp-widgets-label-color: white;\n",
       "                    --jp-ui-font-color1: white;\n",
       "                    --jp-layout-color2: #454545;\n",
       "                    background-color: #383838;\n",
       "                }\n",
       "\n",
       "                .geemap-dark .jupyter-button {\n",
       "                    --jp-layout-color3: #383838;\n",
       "                }\n",
       "\n",
       "                .geemap-colab {\n",
       "                    background-color: var(--colab-primary-surface-color, white);\n",
       "                }\n",
       "\n",
       "                .geemap-colab .jupyter-button {\n",
       "                    --jp-layout-color3: var(--colab-primary-surface-color, white);\n",
       "                }\n",
       "            </style>\n",
       "            "
      ],
      "text/plain": [
       "<IPython.core.display.HTML object>"
      ]
     },
     "metadata": {},
     "output_type": "display_data"
    },
    {
     "name": "stdout",
     "output_type": "stream",
     "text": [
      "Earth Engine initialized successfully\n"
     ]
    }
   ],
   "source": [
    "# Initialize Earth Engine\n",
    "import ee\n",
    "try:\n",
    "    ee.Initialize()\n",
    "    print(\"Earth Engine initialized successfully\")\n",
    "except Exception as e:\n",
    "    ee.Authenticate()\n",
    "    ee.Initialize()\n",
    "\n",
    "# Helper Functions\n",
    "def print_info(collection, name):\n",
    "    \"\"\"Print basic collection information\"\"\"\n",
    "    size = collection.size().getInfo()\n",
    "    date_range = ee.Image(collection.first()).date().format('YYYY-MM-dd').getInfo()\n",
    "    print(f\"{name}: {size} images from {date_range}\")"
   ]
  },
  {
   "cell_type": "markdown",
   "id": "c26bacba",
   "metadata": {},
   "source": [
    "# 3 Data Acquisition"
   ]
  },
  {
   "cell_type": "code",
   "execution_count": null,
   "id": "dc2da4ef",
   "metadata": {},
   "outputs": [],
   "source": [
    "def get_s2_collection(aoi, start_date, end_date):\n",
    "    \"\"\"Get cloud-masked Sentinel-2 collection\"\"\"\n",
    "    s2_sr = (ee.ImageCollection('COPERNICUS/S2_SR')\n",
    "        .filterBounds(aoi)\n",
    "        .filterDate(start_date, end_date)\n",
    "        .filter(ee.Filter.lte('CLOUDY_PIXEL_PERCENTAGE', cfg.CLOUD_FILTER)))\n",
    "    \n",
    "    s2_cloudless = (ee.ImageCollection('COPERNICUS/S2_CLOUD_PROBABILITY')\n",
    "        .filterBounds(aoi)\n",
    "        .filterDate(start_date, end_date))\n",
    "    \n",
    "    return ee.ImageCollection(ee.Join.saveFirst('s2cloudless').apply(\n",
    "        primary=s2_sr,\n",
    "        secondary=s2_cloudless,\n",
    "        condition=ee.Filter.equals(\n",
    "            leftField='system:index',\n",
    "            rightField='system:index'\n",
    "        )\n",
    "    ))"
   ]
  },
  {
   "cell_type": "markdown",
   "id": "14d80d3e",
   "metadata": {},
   "source": [
    "# 4  Cloud & Shadow Masking."
   ]
  },
  {
   "cell_type": "code",
   "execution_count": null,
   "id": "6f8554eb",
   "metadata": {},
   "outputs": [],
   "source": [
    "def add_cloud_shadow_mask(img):\n",
    "    \"\"\"Add cloud and shadow masks to an image\"\"\"\n",
    "    # Cloud detection\n",
    "    cld_prb = ee.Image(img.get('s2cloudless')).select('probability')\n",
    "    is_cloud = cld_prb.gt(cfg.CLD_PRB_THRESH).rename('clouds')\n",
    "    \n",
    "    # Shadow detection\n",
    "    not_water = img.select('SCL').neq(6)\n",
    "    dark_pixels = img.select('B8').lt(cfg.NIR_DRK_THRESH*1e4).multiply(not_water)\n",
    "    shadow_azimuth = ee.Number(90).subtract(ee.Number(img.get('MEAN_SOLAR_AZIMUTH_ANGLE')))\n",
    "    \n",
    "    cld_proj = (img.select('clouds')\n",
    "        .directionalDistanceTransform(shadow_azimuth, cfg.CLD_PRJ_DIST*10)\n",
    "        .reproject(crs=img.select(0).projection(), scale=100)\n",
    "        .select('distance')\n",
    "        .mask()\n",
    "        .rename('cloud_transform'))\n",
    "    \n",
    "    shadows = cld_proj.multiply(dark_pixels).rename('shadows')\n",
    "    \n",
    "    # Combined mask\n",
    "    is_cld_shdw = (img.addBands(is_cloud)\n",
    "        .addBands(shadows)\n",
    "        .select('clouds').add(shadows).gt(0))\n",
    "    \n",
    "    return img.addBands(is_cld_shdw.rename('cloudmask'))\n",
    "\n",
    "def apply_mask(img):\n",
    "    \"\"\"Apply cloud/shadow mask to reflectance bands\"\"\"\n",
    "    return img.select('B.*').updateMask(img.select('cloudmask').Not())"
   ]
  },
  {
   "cell_type": "markdown",
   "id": "d5abc766",
   "metadata": {},
   "source": [
    "# 5 Harmonic Variables & Regression Setup."
   ]
  },
  {
   "cell_type": "code",
   "execution_count": null,
   "id": "5ab32561",
   "metadata": {},
   "outputs": [],
   "source": [
    "def add_harmonic_vars(img):\n",
    "    \"\"\"Add time and harmonic variables for regression\"\"\"\n",
    "    date = ee.Date(img.get('system:time_start'))\n",
    "    years = date.difference(ee.Date('1970-01-01'), 'year')\n",
    "    time_rad = years.multiply(2 * math.pi)\n",
    "    \n",
    "    return (img\n",
    "        .addBands(img.normalizedDifference(['B8', 'B4']).rename('NDVI'))\n",
    "        .addBands(ee.Image(years).rename('t'))\n",
    "        .addBands(time_rad.cos().rename('cos'))\n",
    "        .addBands(time_rad.sin().rename('sin'))\n",
    "        .addBands(ee.Image.constant(1).rename('constant')))"
   ]
  },
  {
   "cell_type": "markdown",
   "id": "9b709e61",
   "metadata": {},
   "source": [
    "# 6th Functional Unit: Harmonic Regression & Visualization."
   ]
  },
  {
   "cell_type": "code",
   "execution_count": null,
   "id": "ec999e85",
   "metadata": {},
   "outputs": [],
   "source": [
    "# 4. Perform harmonic regression\n",
    "harmonic_vars = ee.List(['constant', 't', 'cos', 'sin'])\n",
    "harmonic_trend = harmonic_col.select(harmonic_vars.add('NDVI')) \\\n",
    "    .reduce(ee.Reducer.linearRegression(harmonic_vars.length(), 1))\n",
    "\n",
    "# 5. Compute phase and amplitude\n",
    "coeffs = harmonic_trend.select('coefficients') \\\n",
    "    .arrayProject([0]) \\\n",
    "    .arrayFlatten([harmonic_vars])\n",
    "\n",
    "phase = coeffs.select('cos').atan2(coeffs.select('sin'))\n",
    "amplitude = coeffs.select('cos').hypot(coeffs.select('sin'))\n",
    "\n",
    "# 6. Create visualization\n",
    "rgb = (phase.unitScale(-math.pi, math.pi)\n",
    "    .addBands(amplitude.multiply(2.5))\n",
    "    .addBands(ee.Image(1))\n",
    "    .hsvToRgb()\n",
    "    .multiply(255)\n",
    "    .toByte())"
   ]
  },
  {
   "cell_type": "markdown",
   "id": "70df95ea",
   "metadata": {},
   "source": [
    "# Final Functional Unit: Export & Workflow Integration"
   ]
  },
  {
   "cell_type": "code",
   "execution_count": null,
   "id": "ae0642e6",
   "metadata": {},
   "outputs": [],
   "source": [
    "# 7. Export results\n",
    "timestamp = datetime.datetime.now().strftime(\"%Y%m%d_%H%M%S\")\n",
    "task = ee.batch.Export.image.toDrive(\n",
    "    image=rgb.clip(aoi),\n",
    "    description='NDVI_Harmonics',\n",
    "    folder=cfg.EXPORT_FOLDER,\n",
    "    fileNamePrefix=f\"{cfg.EXPORT_PREFIX}{timestamp}\",\n",
    "    region=aoi.geometry(),\n",
    "    scale=cfg.EXPORT_SCALE,\n",
    "    crs=cfg.CRS,\n",
    "    maxPixels=1e13\n",
    ")\n",
    "task.start()\n",
    "print(f\"Export started with Task ID: {task.id}\")\n",
    "print(f\"Monitor at: https://code.earthengine.google.com/tasks\")"
   ]
  }
 ],
 "metadata": {
  "kernelspec": {
   "display_name": "Python 3",
   "language": "python",
   "name": "python3"
  },
  "language_info": {
   "codemirror_mode": {
    "name": "ipython",
    "version": 3
   },
   "file_extension": ".py",
   "mimetype": "text/x-python",
   "name": "python",
   "nbconvert_exporter": "python",
   "pygments_lexer": "ipython3",
   "version": "3.10.16"
  }
 },
 "nbformat": 4,
 "nbformat_minor": 5
}
