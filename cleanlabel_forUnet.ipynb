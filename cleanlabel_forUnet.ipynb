{
 "cells": [
  {
   "cell_type": "markdown",
   "id": "0da11bcd",
   "metadata": {},
   "source": [
    "This notebook is to clear the LandUse_Ma columns of the Pabbi dataset and generate a filtered geojson for vectorization. The cleaning i mean that the agriculture land parcels have been convered into builtup and update them as per ground reality."
   ]
  },
  {
   "cell_type": "code",
   "execution_count": 1,
   "id": "d2c79a10",
   "metadata": {},
   "outputs": [],
   "source": [
    "\n",
    "import geopandas as gpd\n",
    "import pandas as pd\n",
    "import numpy as np\n",
    "import leafmap\n",
    "import geemap\n",
    "import ee"
   ]
  },
  {
   "cell_type": "code",
   "execution_count": 7,
   "id": "e8dfa154",
   "metadata": {},
   "outputs": [
    {
     "data": {
      "text/html": [
       "\n",
       "            <style>\n",
       "                .geemap-dark {\n",
       "                    --jp-widgets-color: white;\n",
       "                    --jp-widgets-label-color: white;\n",
       "                    --jp-ui-font-color1: white;\n",
       "                    --jp-layout-color2: #454545;\n",
       "                    background-color: #383838;\n",
       "                }\n",
       "\n",
       "                .geemap-dark .jupyter-button {\n",
       "                    --jp-layout-color3: #383838;\n",
       "                }\n",
       "\n",
       "                .geemap-colab {\n",
       "                    background-color: var(--colab-primary-surface-color, white);\n",
       "                }\n",
       "\n",
       "                .geemap-colab .jupyter-button {\n",
       "                    --jp-layout-color3: var(--colab-primary-surface-color, white);\n",
       "                }\n",
       "            </style>\n",
       "            "
      ],
      "text/plain": [
       "<IPython.core.display.HTML object>"
      ]
     },
     "metadata": {},
     "output_type": "display_data"
    },
    {
     "name": "stdout",
     "output_type": "stream",
     "text": [
      "Length of dataset7012\n"
     ]
    },
    {
     "data": {
      "application/vnd.microsoft.datawrangler.viewer.v0+json": {
       "columns": [
        {
         "name": "Landuse_Ma",
         "rawType": "object",
         "type": "string"
        },
        {
         "name": "Landuse_Ma",
         "rawType": "int64",
         "type": "integer"
        }
       ],
       "ref": "2b54d28f-6c17-45a0-91a6-f1f28299acd5",
       "rows": [
        [
         "Agriculture",
         "6321"
        ],
        [
         "Stream",
         "320"
        ],
        [
         "Road/Streets",
         "193"
        ],
        [
         "Built up",
         "149"
        ],
        [
         "Graveyard",
         "29"
        ]
       ],
       "shape": {
        "columns": 1,
        "rows": 5
       }
      },
      "text/plain": [
       "Landuse_Ma\n",
       "Agriculture     6321\n",
       "Stream           320\n",
       "Road/Streets     193\n",
       "Built up         149\n",
       "Graveyard         29\n",
       "Name: Landuse_Ma, dtype: int64"
      ]
     },
     "execution_count": 7,
     "metadata": {},
     "output_type": "execute_result"
    }
   ],
   "source": [
    "cropfile = 'Pabbi_Mouzas_updated_crops_v21.geojson'\n",
    "gdf = gpd.read_file(cropfile)\n",
    "print(f\"Length of dataset{len(gdf)}\")\n",
    "gdf['Landuse_Ma'].groupby(gdf['Landuse_Ma']).count().sort_values(ascending=False)"
   ]
  },
  {
   "cell_type": "markdown",
   "id": "8152f96d",
   "metadata": {},
   "source": [
    "# Visualizaiton of the Original data\n",
    "Lets first visualize the original data classes Landuse_Ma on as it basis."
   ]
  },
  {
   "cell_type": "code",
   "execution_count": 9,
   "id": "54c15bf9",
   "metadata": {},
   "outputs": [
    {
     "data": {
      "text/html": [
       "\n",
       "            <style>\n",
       "                .geemap-dark {\n",
       "                    --jp-widgets-color: white;\n",
       "                    --jp-widgets-label-color: white;\n",
       "                    --jp-ui-font-color1: white;\n",
       "                    --jp-layout-color2: #454545;\n",
       "                    background-color: #383838;\n",
       "                }\n",
       "\n",
       "                .geemap-dark .jupyter-button {\n",
       "                    --jp-layout-color3: #383838;\n",
       "                }\n",
       "\n",
       "                .geemap-colab {\n",
       "                    background-color: var(--colab-primary-surface-color, white);\n",
       "                }\n",
       "\n",
       "                .geemap-colab .jupyter-button {\n",
       "                    --jp-layout-color3: var(--colab-primary-surface-color, white);\n",
       "                }\n",
       "            </style>\n",
       "            "
      ],
      "text/plain": [
       "<IPython.core.display.HTML object>"
      ]
     },
     "metadata": {},
     "output_type": "display_data"
    },
    {
     "name": "stdout",
     "output_type": "stream",
     "text": [
      "Agriculture: 6321\n",
      "Stream: 320\n",
      "Road/Streets: 193\n",
      "Graveyard: 29\n",
      "Builtup: 149\n"
     ]
    }
   ],
   "source": [
    "agri = gdf[gdf['Landuse_Ma'] == 'Agriculture']\n",
    "stream = gdf[gdf['Landuse_Ma'] == 'Stream']\n",
    "road = gdf[gdf['Landuse_Ma'] == 'Road/Streets']\n",
    "graveyard = gdf[gdf['Landuse_Ma'] == 'Graveyard']\n",
    "builtup = gdf[gdf['Landuse_Ma'] == 'Built up']\n",
    "\n",
    "print('Agriculture:', len(agri))\n",
    "print('Stream:', len(stream))               \n",
    "print('Road/Streets:', len(road))\n",
    "print('Graveyard:', len(graveyard))\n",
    "print('Builtup:', len(builtup))\n"
   ]
  },
  {
   "cell_type": "code",
   "execution_count": 10,
   "id": "d8d19ede",
   "metadata": {},
   "outputs": [
    {
     "data": {
      "text/html": [
       "\n",
       "            <style>\n",
       "                .geemap-dark {\n",
       "                    --jp-widgets-color: white;\n",
       "                    --jp-widgets-label-color: white;\n",
       "                    --jp-ui-font-color1: white;\n",
       "                    --jp-layout-color2: #454545;\n",
       "                    background-color: #383838;\n",
       "                }\n",
       "\n",
       "                .geemap-dark .jupyter-button {\n",
       "                    --jp-layout-color3: #383838;\n",
       "                }\n",
       "\n",
       "                .geemap-colab {\n",
       "                    background-color: var(--colab-primary-surface-color, white);\n",
       "                }\n",
       "\n",
       "                .geemap-colab .jupyter-button {\n",
       "                    --jp-layout-color3: var(--colab-primary-surface-color, white);\n",
       "                }\n",
       "            </style>\n",
       "            "
      ],
      "text/plain": [
       "<IPython.core.display.HTML object>"
      ]
     },
     "metadata": {},
     "output_type": "display_data"
    },
    {
     "data": {
      "application/vnd.jupyter.widget-view+json": {
       "model_id": "25088d22a36145318f9bb3c7c1f752b2",
       "version_major": 2,
       "version_minor": 0
      },
      "text/plain": [
       "Map(center=[20, 0], controls=(ZoomControl(options=['position', 'zoom_in_text', 'zoom_in_title', 'zoom_out_text…"
      ]
     },
     "execution_count": 10,
     "metadata": {},
     "output_type": "execute_result"
    }
   ],
   "source": [
    "m = leafmap.Map()\n",
    "m.add_basemap(\"SATELLITE\")\n",
    "m.add_gdf(agri, layer_name='Agriculture', style={'color': 'green', 'fillColor': 'green', 'weight': 1, 'fillOpacity': 0.5})\n",
    "m.add_gdf(stream, layer_name='Stream', style={'color': 'blue', 'fillColor': 'blue', 'weight': 1, 'fillOpacity': 0.5})\n",
    "m.add_gdf(road, layer_name='Road/Streets', style={'color': 'orange', 'fillColor': 'orange', 'weight': 1, 'fillOpacity': 0.5})   \n",
    "m.add_gdf(graveyard, layer_name='Graveyard', style={'color': 'purple', 'fillColor': 'purple', 'weight': 1, 'fillOpacity': 0.5})\n",
    "m.add_gdf(builtup, layer_name='Built up', style={'color': 'red', 'fillColor': 'red', 'weight': 1, 'fillOpacity': 0.5},zoom_to_layer=True)\n",
    "\n",
    "m.add_layer_manager()\n",
    "m"
   ]
  },
  {
   "cell_type": "markdown",
   "id": "2e4d5ae0",
   "metadata": {},
   "source": [
    "# New Builtup Geodata frame Processing"
   ]
  },
  {
   "cell_type": "code",
   "execution_count": 17,
   "id": "bdd468c0",
   "metadata": {},
   "outputs": [
    {
     "data": {
      "text/html": [
       "\n",
       "            <style>\n",
       "                .geemap-dark {\n",
       "                    --jp-widgets-color: white;\n",
       "                    --jp-widgets-label-color: white;\n",
       "                    --jp-ui-font-color1: white;\n",
       "                    --jp-layout-color2: #454545;\n",
       "                    background-color: #383838;\n",
       "                }\n",
       "\n",
       "                .geemap-dark .jupyter-button {\n",
       "                    --jp-layout-color3: #383838;\n",
       "                }\n",
       "\n",
       "                .geemap-colab {\n",
       "                    background-color: var(--colab-primary-surface-color, white);\n",
       "                }\n",
       "\n",
       "                .geemap-colab .jupyter-button {\n",
       "                    --jp-layout-color3: var(--colab-primary-surface-color, white);\n",
       "                }\n",
       "            </style>\n",
       "            "
      ],
      "text/plain": [
       "<IPython.core.display.HTML object>"
      ]
     },
     "metadata": {},
     "output_type": "display_data"
    },
    {
     "name": "stdout",
     "output_type": "stream",
     "text": [
      "1081\n"
     ]
    }
   ],
   "source": [
    "# importing the Built up geojson seperately created.\n",
    "bu = 'builtup.geojson'\n",
    "bugdf = gpd.read_file(bu)\n",
    "\n",
    "#bugdf.head()\n",
    "print(len(bugdf))"
   ]
  },
  {
   "cell_type": "code",
   "execution_count": null,
   "id": "11af4256",
   "metadata": {},
   "outputs": [
    {
     "data": {
      "text/html": [
       "\n",
       "            <style>\n",
       "                .geemap-dark {\n",
       "                    --jp-widgets-color: white;\n",
       "                    --jp-widgets-label-color: white;\n",
       "                    --jp-ui-font-color1: white;\n",
       "                    --jp-layout-color2: #454545;\n",
       "                    background-color: #383838;\n",
       "                }\n",
       "\n",
       "                .geemap-dark .jupyter-button {\n",
       "                    --jp-layout-color3: #383838;\n",
       "                }\n",
       "\n",
       "                .geemap-colab {\n",
       "                    background-color: var(--colab-primary-surface-color, white);\n",
       "                }\n",
       "\n",
       "                .geemap-colab .jupyter-button {\n",
       "                    --jp-layout-color3: var(--colab-primary-surface-color, white);\n",
       "                }\n",
       "            </style>\n",
       "            "
      ],
      "text/plain": [
       "<IPython.core.display.HTML object>"
      ]
     },
     "metadata": {},
     "output_type": "display_data"
    },
    {
     "ename": "KeyError",
     "evalue": "\"None of ['FFID'] are in the columns\"",
     "output_type": "error",
     "traceback": [
      "\u001b[31m---------------------------------------------------------------------------\u001b[39m",
      "\u001b[31mKeyError\u001b[39m                                  Traceback (most recent call last)",
      "\u001b[32m~\\AppData\\Local\\Temp\\ipykernel_3820\\2824448809.py\u001b[39m in \u001b[36m?\u001b[39m\u001b[34m()\u001b[39m\n\u001b[32m----> \u001b[39m\u001b[32m1\u001b[39m gdf.set_index(\u001b[33m\"FFID\"\u001b[39m, inplace=\u001b[38;5;28;01mTrue\u001b[39;00m)\n\u001b[32m      2\u001b[39m bugdf.set_index(\u001b[33m\"FFID\"\u001b[39m, inplace=\u001b[38;5;28;01mTrue\u001b[39;00m)\n\u001b[32m      3\u001b[39m \n\u001b[32m      4\u001b[39m gdf[\u001b[33m'Landuse_Ma'\u001b[39m].update(bugdf[\u001b[33m'hc_label'\u001b[39m])\n",
      "\u001b[32md:\\Trainings\\geo\\Lib\\site-packages\\pandas\\core\\frame.py\u001b[39m in \u001b[36m?\u001b[39m\u001b[34m(self, keys, drop, append, inplace, verify_integrity)\u001b[39m\n\u001b[32m   6125\u001b[39m                     \u001b[38;5;28;01mif\u001b[39;00m \u001b[38;5;28;01mnot\u001b[39;00m found:\n\u001b[32m   6126\u001b[39m                         missing.append(col)\n\u001b[32m   6127\u001b[39m \n\u001b[32m   6128\u001b[39m         \u001b[38;5;28;01mif\u001b[39;00m missing:\n\u001b[32m-> \u001b[39m\u001b[32m6129\u001b[39m             \u001b[38;5;28;01mraise\u001b[39;00m KeyError(f\"None of {missing} are in the columns\")\n\u001b[32m   6130\u001b[39m \n\u001b[32m   6131\u001b[39m         \u001b[38;5;28;01mif\u001b[39;00m inplace:\n\u001b[32m   6132\u001b[39m             frame = self\n",
      "\u001b[31mKeyError\u001b[39m: \"None of ['FFID'] are in the columns\""
     ]
    }
   ],
   "source": [
    "gdf.set_index(\"FFID\", inplace=True)\n",
    "bugdf.set_index(\"FFID\", inplace=True)\n",
    "\n",
    "gdf['Landuse_Ma'].update(bugdf['hc_label'])\n"
   ]
  },
  {
   "cell_type": "code",
   "execution_count": 22,
   "id": "19e22e17",
   "metadata": {},
   "outputs": [
    {
     "data": {
      "text/html": [
       "\n",
       "            <style>\n",
       "                .geemap-dark {\n",
       "                    --jp-widgets-color: white;\n",
       "                    --jp-widgets-label-color: white;\n",
       "                    --jp-ui-font-color1: white;\n",
       "                    --jp-layout-color2: #454545;\n",
       "                    background-color: #383838;\n",
       "                }\n",
       "\n",
       "                .geemap-dark .jupyter-button {\n",
       "                    --jp-layout-color3: #383838;\n",
       "                }\n",
       "\n",
       "                .geemap-colab {\n",
       "                    background-color: var(--colab-primary-surface-color, white);\n",
       "                }\n",
       "\n",
       "                .geemap-colab .jupyter-button {\n",
       "                    --jp-layout-color3: var(--colab-primary-surface-color, white);\n",
       "                }\n",
       "            </style>\n",
       "            "
      ],
      "text/plain": [
       "<IPython.core.display.HTML object>"
      ]
     },
     "metadata": {},
     "output_type": "display_data"
    }
   ],
   "source": [
    "gdf.loc[gdf['Landuse_Ma'] =='Non-Agriculture' , 'Landuse_Ma'] = 'Built up'"
   ]
  },
  {
   "cell_type": "code",
   "execution_count": 23,
   "id": "f2063e9d",
   "metadata": {},
   "outputs": [
    {
     "data": {
      "text/html": [
       "\n",
       "            <style>\n",
       "                .geemap-dark {\n",
       "                    --jp-widgets-color: white;\n",
       "                    --jp-widgets-label-color: white;\n",
       "                    --jp-ui-font-color1: white;\n",
       "                    --jp-layout-color2: #454545;\n",
       "                    background-color: #383838;\n",
       "                }\n",
       "\n",
       "                .geemap-dark .jupyter-button {\n",
       "                    --jp-layout-color3: #383838;\n",
       "                }\n",
       "\n",
       "                .geemap-colab {\n",
       "                    background-color: var(--colab-primary-surface-color, white);\n",
       "                }\n",
       "\n",
       "                .geemap-colab .jupyter-button {\n",
       "                    --jp-layout-color3: var(--colab-primary-surface-color, white);\n",
       "                }\n",
       "            </style>\n",
       "            "
      ],
      "text/plain": [
       "<IPython.core.display.HTML object>"
      ]
     },
     "metadata": {},
     "output_type": "display_data"
    },
    {
     "name": "stdout",
     "output_type": "stream",
     "text": [
      "Length of dataset7012\n"
     ]
    },
    {
     "data": {
      "application/vnd.microsoft.datawrangler.viewer.v0+json": {
       "columns": [
        {
         "name": "Landuse_Ma",
         "rawType": "object",
         "type": "string"
        },
        {
         "name": "Landuse_Ma",
         "rawType": "int64",
         "type": "integer"
        }
       ],
       "ref": "50c71ea6-05be-44ad-84fc-c8b9da6d1801",
       "rows": [
        [
         "Agriculture",
         "5248"
        ],
        [
         "Built up",
         "1222"
        ],
        [
         "Stream",
         "320"
        ],
        [
         "Road/Streets",
         "193"
        ],
        [
         "Graveyard",
         "29"
        ]
       ],
       "shape": {
        "columns": 1,
        "rows": 5
       }
      },
      "text/plain": [
       "Landuse_Ma\n",
       "Agriculture     5248\n",
       "Built up        1222\n",
       "Stream           320\n",
       "Road/Streets     193\n",
       "Graveyard         29\n",
       "Name: Landuse_Ma, dtype: int64"
      ]
     },
     "execution_count": 23,
     "metadata": {},
     "output_type": "execute_result"
    }
   ],
   "source": [
    "print(f\"Length of dataset{len(gdf)}\")\n",
    "gdf['Landuse_Ma'].groupby(gdf['Landuse_Ma']).count().sort_values(ascending=False)"
   ]
  },
  {
   "cell_type": "code",
   "execution_count": 35,
   "id": "2b647762",
   "metadata": {},
   "outputs": [
    {
     "data": {
      "text/html": [
       "\n",
       "            <style>\n",
       "                .geemap-dark {\n",
       "                    --jp-widgets-color: white;\n",
       "                    --jp-widgets-label-color: white;\n",
       "                    --jp-ui-font-color1: white;\n",
       "                    --jp-layout-color2: #454545;\n",
       "                    background-color: #383838;\n",
       "                }\n",
       "\n",
       "                .geemap-dark .jupyter-button {\n",
       "                    --jp-layout-color3: #383838;\n",
       "                }\n",
       "\n",
       "                .geemap-colab {\n",
       "                    background-color: var(--colab-primary-surface-color, white);\n",
       "                }\n",
       "\n",
       "                .geemap-colab .jupyter-button {\n",
       "                    --jp-layout-color3: var(--colab-primary-surface-color, white);\n",
       "                }\n",
       "            </style>\n",
       "            "
      ],
      "text/plain": [
       "<IPython.core.display.HTML object>"
      ]
     },
     "metadata": {},
     "output_type": "display_data"
    }
   ],
   "source": [
    "agriculture = gdf[gdf['Landuse_Ma'] == 'Agriculture']\n",
    "streams = gdf[gdf['Landuse_Ma'] == 'Stream']\n",
    "roads = gdf[gdf['Landuse_Ma'] == 'Road/Streets']\n",
    "graveyards = gdf[gdf['Landuse_Ma'] == 'Graveyard']\n",
    "builtups = gdf[gdf['Landuse_Ma'] == 'Built up']\n"
   ]
  },
  {
   "cell_type": "code",
   "execution_count": 39,
   "id": "c71a445b",
   "metadata": {},
   "outputs": [
    {
     "data": {
      "text/html": [
       "\n",
       "            <style>\n",
       "                .geemap-dark {\n",
       "                    --jp-widgets-color: white;\n",
       "                    --jp-widgets-label-color: white;\n",
       "                    --jp-ui-font-color1: white;\n",
       "                    --jp-layout-color2: #454545;\n",
       "                    background-color: #383838;\n",
       "                }\n",
       "\n",
       "                .geemap-dark .jupyter-button {\n",
       "                    --jp-layout-color3: #383838;\n",
       "                }\n",
       "\n",
       "                .geemap-colab {\n",
       "                    background-color: var(--colab-primary-surface-color, white);\n",
       "                }\n",
       "\n",
       "                .geemap-colab .jupyter-button {\n",
       "                    --jp-layout-color3: var(--colab-primary-surface-color, white);\n",
       "                }\n",
       "            </style>\n",
       "            "
      ],
      "text/plain": [
       "<IPython.core.display.HTML object>"
      ]
     },
     "metadata": {},
     "output_type": "display_data"
    }
   ],
   "source": [
    "# writing the gdf to a shpaefile\n",
    "gdf.to_file('Pabbi_Mouzas_updated_crops_v23.shp')"
   ]
  },
  {
   "cell_type": "code",
   "execution_count": 38,
   "id": "7afb82d5",
   "metadata": {},
   "outputs": [
    {
     "data": {
      "text/html": [
       "\n",
       "            <style>\n",
       "                .geemap-dark {\n",
       "                    --jp-widgets-color: white;\n",
       "                    --jp-widgets-label-color: white;\n",
       "                    --jp-ui-font-color1: white;\n",
       "                    --jp-layout-color2: #454545;\n",
       "                    background-color: #383838;\n",
       "                }\n",
       "\n",
       "                .geemap-dark .jupyter-button {\n",
       "                    --jp-layout-color3: #383838;\n",
       "                }\n",
       "\n",
       "                .geemap-colab {\n",
       "                    background-color: var(--colab-primary-surface-color, white);\n",
       "                }\n",
       "\n",
       "                .geemap-colab .jupyter-button {\n",
       "                    --jp-layout-color3: var(--colab-primary-surface-color, white);\n",
       "                }\n",
       "            </style>\n",
       "            "
      ],
      "text/plain": [
       "<IPython.core.display.HTML object>"
      ]
     },
     "metadata": {},
     "output_type": "display_data"
    },
    {
     "data": {
      "application/vnd.jupyter.widget-view+json": {
       "model_id": "21efec55c0c345a8a2207272358cef53",
       "version_major": 2,
       "version_minor": 0
      },
      "text/plain": [
       "Map(center=[34.0174175, 71.77382399999999], controls=(ZoomControl(options=['position', 'zoom_in_text', 'zoom_i…"
      ]
     },
     "execution_count": 38,
     "metadata": {},
     "output_type": "execute_result"
    }
   ],
   "source": [
    "satellite_imagery = './pabbi_satellite_image_COG.tif'\n",
    "m = leafmap.Map()\n",
    "m.add_basemap(\"SATELLITE\")\n",
    "m.add_raster(satellite_imagery, layer_name='Satellite Imagery',  nodata=0)\n",
    "m.add_gdf(agriculture, layer_name='Agriculture', style={'color': 'green', 'fillColor': 'green', 'weight': 1, 'fillOpacity': 0.5}, zoom_to_layer=True)\n",
    "m.add_gdf(streams, layer_name='Stream', style={'color': 'blue', 'fillColor': 'blue', 'weight': 1, 'fillOpacity': 0.5})\n",
    "m.add_gdf(roads, layer_name='Road/Streets', style={'color': 'orange', 'fillColor': 'orange', 'weight': 1, 'fillOpacity': 0.5})   \n",
    "m.add_gdf(graveyards, layer_name='Graveyard', style={'color': 'purple', 'fillColor': 'purple', 'weight': 1, 'fillOpacity': 0.5})\n",
    "m.add_gdf(builtups, layer_name='Built up', style={'color': 'red', 'fillColor': 'red', 'weight': 1, 'fillOpacity': 0.5},zoom_to_layer=True)\n",
    "\n",
    "m.add_layer_manager()\n",
    "m"
   ]
  },
  {
   "cell_type": "markdown",
   "id": "7431a603",
   "metadata": {},
   "source": [
    "# The above dataset has been further cleaned manually in ArcGis Pro and displayed as V24."
   ]
  },
  {
   "cell_type": "code",
   "execution_count": 40,
   "id": "93a22e32",
   "metadata": {},
   "outputs": [
    {
     "data": {
      "text/html": [
       "\n",
       "            <style>\n",
       "                .geemap-dark {\n",
       "                    --jp-widgets-color: white;\n",
       "                    --jp-widgets-label-color: white;\n",
       "                    --jp-ui-font-color1: white;\n",
       "                    --jp-layout-color2: #454545;\n",
       "                    background-color: #383838;\n",
       "                }\n",
       "\n",
       "                .geemap-dark .jupyter-button {\n",
       "                    --jp-layout-color3: #383838;\n",
       "                }\n",
       "\n",
       "                .geemap-colab {\n",
       "                    background-color: var(--colab-primary-surface-color, white);\n",
       "                }\n",
       "\n",
       "                .geemap-colab .jupyter-button {\n",
       "                    --jp-layout-color3: var(--colab-primary-surface-color, white);\n",
       "                }\n",
       "            </style>\n",
       "            "
      ],
      "text/plain": [
       "<IPython.core.display.HTML object>"
      ]
     },
     "metadata": {},
     "output_type": "display_data"
    }
   ],
   "source": [
    "lastversion = 'Pabbi_Mouzas_updated_crops_v24.geojson'\n",
    "final_gdf = gpd.read_file(lastversion)"
   ]
  },
  {
   "cell_type": "code",
   "execution_count": 41,
   "id": "cfbd5138",
   "metadata": {},
   "outputs": [
    {
     "data": {
      "text/html": [
       "\n",
       "            <style>\n",
       "                .geemap-dark {\n",
       "                    --jp-widgets-color: white;\n",
       "                    --jp-widgets-label-color: white;\n",
       "                    --jp-ui-font-color1: white;\n",
       "                    --jp-layout-color2: #454545;\n",
       "                    background-color: #383838;\n",
       "                }\n",
       "\n",
       "                .geemap-dark .jupyter-button {\n",
       "                    --jp-layout-color3: #383838;\n",
       "                }\n",
       "\n",
       "                .geemap-colab {\n",
       "                    background-color: var(--colab-primary-surface-color, white);\n",
       "                }\n",
       "\n",
       "                .geemap-colab .jupyter-button {\n",
       "                    --jp-layout-color3: var(--colab-primary-surface-color, white);\n",
       "                }\n",
       "            </style>\n",
       "            "
      ],
      "text/plain": [
       "<IPython.core.display.HTML object>"
      ]
     },
     "metadata": {},
     "output_type": "display_data"
    },
    {
     "name": "stdout",
     "output_type": "stream",
     "text": [
      "Length of dataset7012\n"
     ]
    },
    {
     "data": {
      "application/vnd.microsoft.datawrangler.viewer.v0+json": {
       "columns": [
        {
         "name": "Landuse_Ma",
         "rawType": "object",
         "type": "string"
        },
        {
         "name": "Landuse_Ma",
         "rawType": "int64",
         "type": "integer"
        }
       ],
       "ref": "093f85dd-a006-48e8-8820-1b090de4970e",
       "rows": [
        [
         "Agriculture",
         "5265"
        ],
        [
         "Built up",
         "1204"
        ],
        [
         "Stream",
         "320"
        ],
        [
         "Road/Streets",
         "193"
        ],
        [
         "Graveyard",
         "29"
        ]
       ],
       "shape": {
        "columns": 1,
        "rows": 5
       }
      },
      "text/plain": [
       "Landuse_Ma\n",
       "Agriculture     5265\n",
       "Built up        1204\n",
       "Stream           320\n",
       "Road/Streets     193\n",
       "Graveyard         29\n",
       "Name: Landuse_Ma, dtype: int64"
      ]
     },
     "execution_count": 41,
     "metadata": {},
     "output_type": "execute_result"
    }
   ],
   "source": [
    "print(f\"Length of dataset{len(final_gdf)}\")\n",
    "gdf['Landuse_Ma'].groupby(final_gdf['Landuse_Ma']).count().sort_values(ascending=False)"
   ]
  },
  {
   "cell_type": "code",
   "execution_count": 43,
   "id": "df11ee0a",
   "metadata": {},
   "outputs": [
    {
     "data": {
      "text/html": [
       "\n",
       "            <style>\n",
       "                .geemap-dark {\n",
       "                    --jp-widgets-color: white;\n",
       "                    --jp-widgets-label-color: white;\n",
       "                    --jp-ui-font-color1: white;\n",
       "                    --jp-layout-color2: #454545;\n",
       "                    background-color: #383838;\n",
       "                }\n",
       "\n",
       "                .geemap-dark .jupyter-button {\n",
       "                    --jp-layout-color3: #383838;\n",
       "                }\n",
       "\n",
       "                .geemap-colab {\n",
       "                    background-color: var(--colab-primary-surface-color, white);\n",
       "                }\n",
       "\n",
       "                .geemap-colab .jupyter-button {\n",
       "                    --jp-layout-color3: var(--colab-primary-surface-color, white);\n",
       "                }\n",
       "            </style>\n",
       "            "
      ],
      "text/plain": [
       "<IPython.core.display.HTML object>"
      ]
     },
     "metadata": {},
     "output_type": "display_data"
    }
   ],
   "source": [
    "ag = final_gdf[final_gdf['Landuse_Ma'] == 'Agriculture']\n",
    "st = final_gdf[final_gdf['Landuse_Ma'] == 'Stream']\n",
    "ro = final_gdf[final_gdf['Landuse_Ma'] == 'Road/Streets']\n",
    "gr = final_gdf[final_gdf['Landuse_Ma'] == 'Graveyard']\n",
    "bu = final_gdf[final_gdf['Landuse_Ma'] == 'Built up']\n"
   ]
  },
  {
   "cell_type": "code",
   "execution_count": 44,
   "id": "7bc14f14",
   "metadata": {},
   "outputs": [
    {
     "data": {
      "text/html": [
       "\n",
       "            <style>\n",
       "                .geemap-dark {\n",
       "                    --jp-widgets-color: white;\n",
       "                    --jp-widgets-label-color: white;\n",
       "                    --jp-ui-font-color1: white;\n",
       "                    --jp-layout-color2: #454545;\n",
       "                    background-color: #383838;\n",
       "                }\n",
       "\n",
       "                .geemap-dark .jupyter-button {\n",
       "                    --jp-layout-color3: #383838;\n",
       "                }\n",
       "\n",
       "                .geemap-colab {\n",
       "                    background-color: var(--colab-primary-surface-color, white);\n",
       "                }\n",
       "\n",
       "                .geemap-colab .jupyter-button {\n",
       "                    --jp-layout-color3: var(--colab-primary-surface-color, white);\n",
       "                }\n",
       "            </style>\n",
       "            "
      ],
      "text/plain": [
       "<IPython.core.display.HTML object>"
      ]
     },
     "metadata": {},
     "output_type": "display_data"
    },
    {
     "data": {
      "application/vnd.jupyter.widget-view+json": {
       "model_id": "4b53a499dca34189a8b1aa20d9fd7fe9",
       "version_major": 2,
       "version_minor": 0
      },
      "text/plain": [
       "Map(center=[34.0174175, 71.77382399999999], controls=(ZoomControl(options=['position', 'zoom_in_text', 'zoom_i…"
      ]
     },
     "execution_count": 44,
     "metadata": {},
     "output_type": "execute_result"
    }
   ],
   "source": [
    "satellite_imagery = './pabbi_satellite_image_COG.tif'\n",
    "m = leafmap.Map()\n",
    "m.add_basemap(\"SATELLITE\")\n",
    "m.add_raster(satellite_imagery, layer_name='Satellite Imagery',  nodata=0)\n",
    "m.add_gdf(ag, layer_name='Agriculture', style={'color': 'green', 'fillColor': 'green', 'weight': 1, 'fillOpacity': 0.5}, zoom_to_layer=True)\n",
    "m.add_gdf(st, layer_name='Stream', style={'color': 'blue', 'fillColor': 'blue', 'weight': 1, 'fillOpacity': 0.5})\n",
    "m.add_gdf(ro, layer_name='Road/Streets', style={'color': 'orange', 'fillColor': 'orange', 'weight': 1, 'fillOpacity': 0.5})   \n",
    "m.add_gdf(gr, layer_name='Graveyard', style={'color': 'purple', 'fillColor': 'purple', 'weight': 1, 'fillOpacity': 0.5})\n",
    "m.add_gdf(bu, layer_name='Built up', style={'color': 'red', 'fillColor': 'red', 'weight': 1, 'fillOpacity': 0.5},zoom_to_layer=True)\n",
    "\n",
    "m.add_layer_manager()\n",
    "m"
   ]
  }
 ],
 "metadata": {
  "kernelspec": {
   "display_name": "Python 3",
   "language": "python",
   "name": "python3"
  },
  "language_info": {
   "codemirror_mode": {
    "name": "ipython",
    "version": 3
   },
   "file_extension": ".py",
   "mimetype": "text/x-python",
   "name": "python",
   "nbconvert_exporter": "python",
   "pygments_lexer": "ipython3",
   "version": "3.12.11"
  }
 },
 "nbformat": 4,
 "nbformat_minor": 5
}
