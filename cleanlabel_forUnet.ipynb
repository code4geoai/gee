{
 "cells": [
  {
   "cell_type": "markdown",
   "id": "0da11bcd",
   "metadata": {},
   "source": [
    "This notebook is to clear the LandUse_Ma columns of the Pabbi dataset and generate a filtered geojson for vectorization. The cleaning i mean that the agriculture land parcels have been convered into builtup and update them as per ground reality."
   ]
  },
  {
   "cell_type": "code",
   "execution_count": 2,
   "id": "d2c79a10",
   "metadata": {},
   "outputs": [],
   "source": [
    "\n",
    "import geopandas as gpd\n",
    "import pandas as pd\n",
    "import numpy as np\n",
    "import leafmap\n",
    "import geemap\n",
    "import ee"
   ]
  },
  {
   "cell_type": "code",
   "execution_count": 3,
   "id": "e8dfa154",
   "metadata": {},
   "outputs": [
    {
     "data": {
      "text/html": [
       "\n",
       "            <style>\n",
       "                .geemap-dark {\n",
       "                    --jp-widgets-color: white;\n",
       "                    --jp-widgets-label-color: white;\n",
       "                    --jp-ui-font-color1: white;\n",
       "                    --jp-layout-color2: #454545;\n",
       "                    background-color: #383838;\n",
       "                }\n",
       "\n",
       "                .geemap-dark .jupyter-button {\n",
       "                    --jp-layout-color3: #383838;\n",
       "                }\n",
       "\n",
       "                .geemap-colab {\n",
       "                    background-color: var(--colab-primary-surface-color, white);\n",
       "                }\n",
       "\n",
       "                .geemap-colab .jupyter-button {\n",
       "                    --jp-layout-color3: var(--colab-primary-surface-color, white);\n",
       "                }\n",
       "            </style>\n",
       "            "
      ],
      "text/plain": [
       "<IPython.core.display.HTML object>"
      ]
     },
     "metadata": {},
     "output_type": "display_data"
    },
    {
     "name": "stdout",
     "output_type": "stream",
     "text": [
      "Length of dataset7012\n"
     ]
    },
    {
     "data": {
      "application/vnd.microsoft.datawrangler.viewer.v0+json": {
       "columns": [
        {
         "name": "Landuse_Ma",
         "rawType": "object",
         "type": "string"
        },
        {
         "name": "Landuse_Ma",
         "rawType": "int64",
         "type": "integer"
        }
       ],
       "ref": "a49fbf79-2889-47b4-adbb-f692d32228e6",
       "rows": [
        [
         "Agriculture",
         "5759"
        ],
        [
         "Stream",
         "302"
        ],
        [
         "Other",
         "229"
        ],
        [
         "Road/Streets",
         "172"
        ],
        [
         "Graveyard",
         "29"
        ],
        [
         "Built up",
         "24"
        ]
       ],
       "shape": {
        "columns": 1,
        "rows": 6
       }
      },
      "text/plain": [
       "Landuse_Ma\n",
       "Agriculture     5759\n",
       "Stream           302\n",
       "Other            229\n",
       "Road/Streets     172\n",
       "Graveyard         29\n",
       "Built up          24\n",
       "Name: Landuse_Ma, dtype: int64"
      ]
     },
     "execution_count": 3,
     "metadata": {},
     "output_type": "execute_result"
    }
   ],
   "source": [
    "cropfile = 'D:\\Trainings\\gee\\pabb_crop_V3.geojson'\n",
    "gdf = gpd.read_file(cropfile)\n",
    "print(f\"Length of dataset{len(gdf)}\")\n",
    "gdf['Landuse_Ma'].groupby(gdf['Landuse_Ma']).count().sort_values(ascending=False)"
   ]
  },
  {
   "cell_type": "markdown",
   "id": "8152f96d",
   "metadata": {},
   "source": [
    "# Visualizaiton of the Original data\n",
    "Lets first visualize the original data classes Landuse_Ma on as it basis."
   ]
  },
  {
   "cell_type": "code",
   "execution_count": 3,
   "id": "54c15bf9",
   "metadata": {},
   "outputs": [
    {
     "data": {
      "text/html": [
       "\n",
       "            <style>\n",
       "                .geemap-dark {\n",
       "                    --jp-widgets-color: white;\n",
       "                    --jp-widgets-label-color: white;\n",
       "                    --jp-ui-font-color1: white;\n",
       "                    --jp-layout-color2: #454545;\n",
       "                    background-color: #383838;\n",
       "                }\n",
       "\n",
       "                .geemap-dark .jupyter-button {\n",
       "                    --jp-layout-color3: #383838;\n",
       "                }\n",
       "\n",
       "                .geemap-colab {\n",
       "                    background-color: var(--colab-primary-surface-color, white);\n",
       "                }\n",
       "\n",
       "                .geemap-colab .jupyter-button {\n",
       "                    --jp-layout-color3: var(--colab-primary-surface-color, white);\n",
       "                }\n",
       "            </style>\n",
       "            "
      ],
      "text/plain": [
       "<IPython.core.display.HTML object>"
      ]
     },
     "metadata": {},
     "output_type": "display_data"
    },
    {
     "name": "stdout",
     "output_type": "stream",
     "text": [
      "Agriculture: 5759\n",
      "Stream: 302\n",
      "Other: 229\n",
      "Road/Streets: 172\n",
      "Graveyard: 29\n",
      "Builtup: 24\n",
      "Not Assigned: 497\n"
     ]
    }
   ],
   "source": [
    "agri = gdf[gdf['Landuse_Ma'] == 'Agriculture']\n",
    "stream = gdf[gdf['Landuse_Ma'] == 'Stream']\n",
    "other = gdf[gdf['Landuse_Ma'] == 'Other']\n",
    "road = gdf[gdf['Landuse_Ma'] == 'Road/Streets']\n",
    "graveyard = gdf[gdf['Landuse_Ma'] == 'Graveyard']\n",
    "builtup = gdf[gdf['Landuse_Ma'] == 'Built up']\n",
    "notassigned = gdf[gdf['Landuse_Ma'].isna()]\n",
    "\n",
    "print('Agriculture:', len(agri))\n",
    "print('Stream:', len(stream))               \n",
    "print('Other:', len(other))\n",
    "print('Road/Streets:', len(road))\n",
    "print('Graveyard:', len(graveyard))\n",
    "print('Builtup:', len(builtup))\n",
    "print('Not Assigned:', len(notassigned))\n"
   ]
  },
  {
   "cell_type": "code",
   "execution_count": 4,
   "id": "d8d19ede",
   "metadata": {},
   "outputs": [
    {
     "data": {
      "text/html": [
       "\n",
       "            <style>\n",
       "                .geemap-dark {\n",
       "                    --jp-widgets-color: white;\n",
       "                    --jp-widgets-label-color: white;\n",
       "                    --jp-ui-font-color1: white;\n",
       "                    --jp-layout-color2: #454545;\n",
       "                    background-color: #383838;\n",
       "                }\n",
       "\n",
       "                .geemap-dark .jupyter-button {\n",
       "                    --jp-layout-color3: #383838;\n",
       "                }\n",
       "\n",
       "                .geemap-colab {\n",
       "                    background-color: var(--colab-primary-surface-color, white);\n",
       "                }\n",
       "\n",
       "                .geemap-colab .jupyter-button {\n",
       "                    --jp-layout-color3: var(--colab-primary-surface-color, white);\n",
       "                }\n",
       "            </style>\n",
       "            "
      ],
      "text/plain": [
       "<IPython.core.display.HTML object>"
      ]
     },
     "metadata": {},
     "output_type": "display_data"
    },
    {
     "data": {
      "application/vnd.jupyter.widget-view+json": {
       "model_id": "cebe77cfd2504b04ba8dc66b9eb67e7b",
       "version_major": 2,
       "version_minor": 0
      },
      "text/plain": [
       "Map(center=[20, 0], controls=(ZoomControl(options=['position', 'zoom_in_text', 'zoom_in_title', 'zoom_out_text…"
      ]
     },
     "execution_count": 4,
     "metadata": {},
     "output_type": "execute_result"
    }
   ],
   "source": [
    "m = leafmap.Map()\n",
    "m.add_basemap(\"SATELLITE\")\n",
    "m.add_gdf(agri, layer_name='Agriculture', style={'color': 'green', 'fillColor': 'green', 'weight': 1, 'fillOpacity': 0.5})\n",
    "m.add_gdf(stream, layer_name='Stream', style={'color': 'blue', 'fillColor': 'blue', 'weight': 1, 'fillOpacity': 0.5})\n",
    "m.add_gdf(other, layer_name='Other', style={'color': 'gray', 'fillColor': 'gray', 'weight': 1, 'fillOpacity': 0.5})\n",
    "m.add_gdf(road, layer_name='Road/Streets', style={'color': 'orange', 'fillColor': 'orange', 'weight': 1, 'fillOpacity': 0.5})   \n",
    "m.add_gdf(graveyard, layer_name='Graveyard', style={'color': 'purple', 'fillColor': 'purple', 'weight': 1, 'fillOpacity': 0.5})\n",
    "m.add_gdf(builtup, layer_name='Built up', style={'color': 'red', 'fillColor': 'red', 'weight': 1, 'fillOpacity': 0.5},zoom_to_layer=True)\n",
    "m.add_gdf(notassigned, layer_name='Not Assigned', style={'color': 'black', 'fillColor': 'black', 'weight': 1, 'fillOpacity': 0.5})\n",
    "\n",
    "m.add_layer_manager()\n",
    "m"
   ]
  }
 ],
 "metadata": {
  "kernelspec": {
   "display_name": "Python 3",
   "language": "python",
   "name": "python3"
  },
  "language_info": {
   "codemirror_mode": {
    "name": "ipython",
    "version": 3
   },
   "file_extension": ".py",
   "mimetype": "text/x-python",
   "name": "python",
   "nbconvert_exporter": "python",
   "pygments_lexer": "ipython3",
   "version": "3.12.11"
  }
 },
 "nbformat": 4,
 "nbformat_minor": 5
}
