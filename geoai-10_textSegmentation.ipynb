{
 "cells": [
  {
   "cell_type": "markdown",
   "id": "fe6b81fb",
   "metadata": {},
   "source": [
    "# Text Prompt Segmentation"
   ]
  },
  {
   "cell_type": "code",
   "execution_count": 1,
   "id": "ba0fb84c",
   "metadata": {},
   "outputs": [],
   "source": [
    "import geoai"
   ]
  },
  {
   "cell_type": "code",
   "execution_count": 2,
   "id": "28e9b189",
   "metadata": {},
   "outputs": [
    {
     "name": "stderr",
     "output_type": "stream",
     "text": [
      "trees_brazil.tif: 100%|██████████| 3.93M/3.93M [00:03<00:00, 1.37MB/s]\n"
     ]
    }
   ],
   "source": [
    "raster_url = (\n",
    "    \"https://huggingface.co/datasets/giswqs/geospatial/resolve/main/trees_brazil.tif\"\n",
    ")\n",
    "raster_path = geoai.download_file(raster_url)"
   ]
  },
  {
   "cell_type": "code",
   "execution_count": 3,
   "id": "79bd221e",
   "metadata": {},
   "outputs": [
    {
     "data": {
      "text/html": [
       "<iframe srcdoc=\"&lt;!DOCTYPE html&gt;\n",
       "&lt;html&gt;\n",
       "&lt;head&gt;\n",
       "    \n",
       "    &lt;meta http-equiv=&quot;content-type&quot; content=&quot;text/html; charset=UTF-8&quot; /&gt;\n",
       "    \n",
       "        &lt;script&gt;\n",
       "            L_NO_TOUCH = false;\n",
       "            L_DISABLE_3D = false;\n",
       "        &lt;/script&gt;\n",
       "    \n",
       "    &lt;style&gt;html, body {width: 100%;height: 100%;margin: 0;padding: 0;}&lt;/style&gt;\n",
       "    &lt;style&gt;#map {position:absolute;top:0;bottom:0;right:0;left:0;}&lt;/style&gt;\n",
       "    &lt;script src=&quot;https://cdn.jsdelivr.net/npm/leaflet@1.9.3/dist/leaflet.js&quot;&gt;&lt;/script&gt;\n",
       "    &lt;script src=&quot;https://code.jquery.com/jquery-3.7.1.min.js&quot;&gt;&lt;/script&gt;\n",
       "    &lt;script src=&quot;https://cdn.jsdelivr.net/npm/bootstrap@5.2.2/dist/js/bootstrap.bundle.min.js&quot;&gt;&lt;/script&gt;\n",
       "    &lt;script src=&quot;https://cdnjs.cloudflare.com/ajax/libs/Leaflet.awesome-markers/2.0.2/leaflet.awesome-markers.js&quot;&gt;&lt;/script&gt;\n",
       "    &lt;link rel=&quot;stylesheet&quot; href=&quot;https://cdn.jsdelivr.net/npm/leaflet@1.9.3/dist/leaflet.css&quot;/&gt;\n",
       "    &lt;link rel=&quot;stylesheet&quot; href=&quot;https://cdn.jsdelivr.net/npm/bootstrap@5.2.2/dist/css/bootstrap.min.css&quot;/&gt;\n",
       "    &lt;link rel=&quot;stylesheet&quot; href=&quot;https://netdna.bootstrapcdn.com/bootstrap/3.0.0/css/bootstrap-glyphicons.css&quot;/&gt;\n",
       "    &lt;link rel=&quot;stylesheet&quot; href=&quot;https://cdn.jsdelivr.net/npm/@fortawesome/fontawesome-free@6.2.0/css/all.min.css&quot;/&gt;\n",
       "    &lt;link rel=&quot;stylesheet&quot; href=&quot;https://cdnjs.cloudflare.com/ajax/libs/Leaflet.awesome-markers/2.0.2/leaflet.awesome-markers.css&quot;/&gt;\n",
       "    &lt;link rel=&quot;stylesheet&quot; href=&quot;https://cdn.jsdelivr.net/gh/python-visualization/folium/folium/templates/leaflet.awesome.rotate.min.css&quot;/&gt;\n",
       "    \n",
       "            &lt;meta name=&quot;viewport&quot; content=&quot;width=device-width,\n",
       "                initial-scale=1.0, maximum-scale=1.0, user-scalable=no&quot; /&gt;\n",
       "            &lt;style&gt;\n",
       "                #map_907cc7a4dc373eb560b07f1230d932d1 {\n",
       "                    position: relative;\n",
       "                    width: 100.0%;\n",
       "                    height: 100.0%;\n",
       "                    left: 0.0%;\n",
       "                    top: 0.0%;\n",
       "                }\n",
       "                .leaflet-container { font-size: 1rem; }\n",
       "            &lt;/style&gt;\n",
       "        \n",
       "    &lt;script src=&quot;https://cdn.jsdelivr.net/npm/leaflet.fullscreen@3.0.0/Control.FullScreen.min.js&quot;&gt;&lt;/script&gt;\n",
       "    &lt;link rel=&quot;stylesheet&quot; href=&quot;https://cdn.jsdelivr.net/npm/leaflet.fullscreen@3.0.0/Control.FullScreen.css&quot;/&gt;\n",
       "    &lt;script src=&quot;https://unpkg.com/leaflet-control-geocoder/dist/Control.Geocoder.js&quot;&gt;&lt;/script&gt;\n",
       "    &lt;link rel=&quot;stylesheet&quot; href=&quot;https://unpkg.com/leaflet-control-geocoder/dist/Control.Geocoder.css&quot;/&gt;\n",
       "&lt;/head&gt;\n",
       "&lt;body&gt;\n",
       "    \n",
       "    \n",
       "            &lt;div class=&quot;folium-map&quot; id=&quot;map_907cc7a4dc373eb560b07f1230d932d1&quot; &gt;&lt;/div&gt;\n",
       "        \n",
       "&lt;/body&gt;\n",
       "&lt;script&gt;\n",
       "    \n",
       "    \n",
       "            var map_907cc7a4dc373eb560b07f1230d932d1 = L.map(\n",
       "                &quot;map_907cc7a4dc373eb560b07f1230d932d1&quot;,\n",
       "                {\n",
       "                    center: [20.0, 0.0],\n",
       "                    crs: L.CRS.EPSG3857,\n",
       "                    ...{\n",
       "  &quot;zoom&quot;: 2,\n",
       "  &quot;zoomControl&quot;: true,\n",
       "  &quot;preferCanvas&quot;: false,\n",
       "  &quot;drawExport&quot;: false,\n",
       "  &quot;layersControl&quot;: true,\n",
       "}\n",
       "\n",
       "                }\n",
       "            );\n",
       "            L.control.scale().addTo(map_907cc7a4dc373eb560b07f1230d932d1);\n",
       "\n",
       "            \n",
       "\n",
       "        \n",
       "    \n",
       "            var tile_layer_680982578b80a9729202a8b552709c99 = L.tileLayer(\n",
       "                &quot;https://tile.openstreetmap.org/{z}/{x}/{y}.png&quot;,\n",
       "                {\n",
       "  &quot;minZoom&quot;: 0,\n",
       "  &quot;maxZoom&quot;: 24,\n",
       "  &quot;maxNativeZoom&quot;: 24,\n",
       "  &quot;noWrap&quot;: false,\n",
       "  &quot;attribution&quot;: &quot;\\u0026copy; \\u003ca href=\\&quot;https://www.openstreetmap.org/copyright\\&quot;\\u003eOpenStreetMap\\u003c/a\\u003e contributors&quot;,\n",
       "  &quot;subdomains&quot;: &quot;abc&quot;,\n",
       "  &quot;detectRetina&quot;: false,\n",
       "  &quot;tms&quot;: false,\n",
       "  &quot;opacity&quot;: 1,\n",
       "}\n",
       "\n",
       "            );\n",
       "        \n",
       "    \n",
       "            tile_layer_680982578b80a9729202a8b552709c99.addTo(map_907cc7a4dc373eb560b07f1230d932d1);\n",
       "        \n",
       "    \n",
       "            L.control.fullscreen(\n",
       "                {\n",
       "  &quot;position&quot;: &quot;topleft&quot;,\n",
       "  &quot;title&quot;: &quot;Full Screen&quot;,\n",
       "  &quot;titleCancel&quot;: &quot;Exit Full Screen&quot;,\n",
       "  &quot;forceSeparateButton&quot;: false,\n",
       "}\n",
       "            ).addTo(map_907cc7a4dc373eb560b07f1230d932d1);\n",
       "        \n",
       "    \n",
       "\n",
       "            var geocoderOpts_geocoder_cad8afbff2a174d89c49e18f4985a840 = {\n",
       "  &quot;collapsed&quot;: true,\n",
       "  &quot;position&quot;: &quot;topleft&quot;,\n",
       "  &quot;defaultMarkGeocode&quot;: true,\n",
       "  &quot;zoom&quot;: 11,\n",
       "  &quot;provider&quot;: &quot;nominatim&quot;,\n",
       "  &quot;providerOptions&quot;: {\n",
       "},\n",
       "};\n",
       "\n",
       "            // note: geocoder name should start with lowercase\n",
       "            var geocoderName_geocoder_cad8afbff2a174d89c49e18f4985a840 = geocoderOpts_geocoder_cad8afbff2a174d89c49e18f4985a840[&quot;provider&quot;];\n",
       "\n",
       "            var customGeocoder_geocoder_cad8afbff2a174d89c49e18f4985a840 = L.Control.Geocoder[ geocoderName_geocoder_cad8afbff2a174d89c49e18f4985a840 ](\n",
       "                geocoderOpts_geocoder_cad8afbff2a174d89c49e18f4985a840[&#x27;providerOptions&#x27;]\n",
       "            );\n",
       "            geocoderOpts_geocoder_cad8afbff2a174d89c49e18f4985a840[&quot;geocoder&quot;] = customGeocoder_geocoder_cad8afbff2a174d89c49e18f4985a840;\n",
       "\n",
       "            L.Control.geocoder(\n",
       "                geocoderOpts_geocoder_cad8afbff2a174d89c49e18f4985a840\n",
       "            ).on(&#x27;markgeocode&#x27;, function(e) {\n",
       "                var zoom = geocoderOpts_geocoder_cad8afbff2a174d89c49e18f4985a840[&#x27;zoom&#x27;] || map_907cc7a4dc373eb560b07f1230d932d1.getZoom();\n",
       "                map_907cc7a4dc373eb560b07f1230d932d1.setView(e.geocode.center, zoom);\n",
       "            }).addTo(map_907cc7a4dc373eb560b07f1230d932d1);\n",
       "\n",
       "        \n",
       "    \n",
       "            map_907cc7a4dc373eb560b07f1230d932d1.fitBounds(\n",
       "                [[20, 0], [20, 0]],\n",
       "                {&quot;maxZoom&quot;: 2}\n",
       "            );\n",
       "        \n",
       "    \n",
       "            var tile_layer_4129dd5f2fa143aa2c648f9cda2ef623 = L.tileLayer(\n",
       "                &quot;http://localhost:51367/api/tiles/{z}/{x}/{y}.png?\\u0026filename=d%3A%5CTrainings%5Cgee%5Ctrees_brazil.tif&quot;,\n",
       "                {\n",
       "  &quot;minZoom&quot;: 0,\n",
       "  &quot;maxZoom&quot;: 30,\n",
       "  &quot;maxNativeZoom&quot;: 30,\n",
       "  &quot;noWrap&quot;: false,\n",
       "  &quot;attribution&quot;: &quot;Raster file served by \\u003ca href=\\u0027https://github.com/banesullivan/localtileserver\\u0027 target=\\u0027_blank\\u0027\\u003elocaltileserver\\u003c/a\\u003e.&quot;,\n",
       "  &quot;subdomains&quot;: &quot;abc&quot;,\n",
       "  &quot;detectRetina&quot;: false,\n",
       "  &quot;tms&quot;: false,\n",
       "  &quot;opacity&quot;: 1.0,\n",
       "  &quot;bounds&quot;: [[-22.1777, -51.2565], [-22.175, -51.2512]],\n",
       "  &quot;zoomToLayer&quot;: true,\n",
       "  &quot;visible&quot;: true,\n",
       "  &quot;corsAll&quot;: false,\n",
       "}\n",
       "\n",
       "            );\n",
       "        \n",
       "    \n",
       "            tile_layer_4129dd5f2fa143aa2c648f9cda2ef623.addTo(map_907cc7a4dc373eb560b07f1230d932d1);\n",
       "        \n",
       "    \n",
       "            map_907cc7a4dc373eb560b07f1230d932d1.fitBounds(\n",
       "                [[-22.1777, -51.2565], [-22.175, -51.2512]],\n",
       "                {}\n",
       "            );\n",
       "        \n",
       "    \n",
       "            var layer_control_ede212448323e88a793e8e225970bb84_layers = {\n",
       "                base_layers : {\n",
       "                    &quot;openstreetmap&quot; : tile_layer_680982578b80a9729202a8b552709c99,\n",
       "                },\n",
       "                overlays :  {\n",
       "                    &quot;Raster&quot; : tile_layer_4129dd5f2fa143aa2c648f9cda2ef623,\n",
       "                },\n",
       "            };\n",
       "            let layer_control_ede212448323e88a793e8e225970bb84 = L.control.layers(\n",
       "                layer_control_ede212448323e88a793e8e225970bb84_layers.base_layers,\n",
       "                layer_control_ede212448323e88a793e8e225970bb84_layers.overlays,\n",
       "                {\n",
       "  &quot;position&quot;: &quot;topright&quot;,\n",
       "  &quot;collapsed&quot;: true,\n",
       "  &quot;autoZIndex&quot;: true,\n",
       "}\n",
       "            ).addTo(map_907cc7a4dc373eb560b07f1230d932d1);\n",
       "\n",
       "        \n",
       "&lt;/script&gt;\n",
       "&lt;/html&gt;\" width=\"100%\" height=\"600\"style=\"border:none !important;\" \"allowfullscreen\" \"webkitallowfullscreen\" \"mozallowfullscreen\"></iframe>"
      ],
      "text/plain": [
       "<leafmap.foliumap.Map at 0x269e87f21d0>"
      ]
     },
     "execution_count": 3,
     "metadata": {},
     "output_type": "execute_result"
    }
   ],
   "source": [
    "geoai.view_raster(raster_path)"
   ]
  },
  {
   "cell_type": "code",
   "execution_count": 4,
   "id": "4d64925d",
   "metadata": {},
   "outputs": [
    {
     "name": "stderr",
     "output_type": "stream",
     "text": [
      "Using a slow image processor as `use_fast` is unset and a slow processor was saved with this model. `use_fast=True` will be the default behavior in v4.52, even if the model was saved with a slow processor. This will result in minor differences in outputs. You'll still be able to use a slow processor with `use_fast=False`.\n"
     ]
    },
    {
     "data": {
      "application/vnd.jupyter.widget-view+json": {
       "model_id": "e90fce8d44704865adb17e723f08dd12",
       "version_major": 2,
       "version_minor": 0
      },
      "text/plain": [
       "preprocessor_config.json:   0%|          | 0.00/380 [00:00<?, ?B/s]"
      ]
     },
     "metadata": {},
     "output_type": "display_data"
    },
    {
     "data": {
      "application/vnd.jupyter.widget-view+json": {
       "model_id": "861d9f2b9b4a4bf898de0744ce50cb62",
       "version_major": 2,
       "version_minor": 0
      },
      "text/plain": [
       "tokenizer_config.json:   0%|          | 0.00/974 [00:00<?, ?B/s]"
      ]
     },
     "metadata": {},
     "output_type": "display_data"
    },
    {
     "data": {
      "application/vnd.jupyter.widget-view+json": {
       "model_id": "e56eafe2854c43cc95e3c9d0aa222fc1",
       "version_major": 2,
       "version_minor": 0
      },
      "text/plain": [
       "vocab.json:   0%|          | 0.00/1.06M [00:00<?, ?B/s]"
      ]
     },
     "metadata": {},
     "output_type": "display_data"
    },
    {
     "data": {
      "application/vnd.jupyter.widget-view+json": {
       "model_id": "66d07bf62ca04a4b88ef4c4a78c80532",
       "version_major": 2,
       "version_minor": 0
      },
      "text/plain": [
       "merges.txt:   0%|          | 0.00/525k [00:00<?, ?B/s]"
      ]
     },
     "metadata": {},
     "output_type": "display_data"
    },
    {
     "data": {
      "application/vnd.jupyter.widget-view+json": {
       "model_id": "fde6ea159e4146c6bc32d20fbcf9d850",
       "version_major": 2,
       "version_minor": 0
      },
      "text/plain": [
       "special_tokens_map.json:   0%|          | 0.00/472 [00:00<?, ?B/s]"
      ]
     },
     "metadata": {},
     "output_type": "display_data"
    },
    {
     "data": {
      "application/vnd.jupyter.widget-view+json": {
       "model_id": "f9ad9deb5fd94a9ba3751ada0c15e9f6",
       "version_major": 2,
       "version_minor": 0
      },
      "text/plain": [
       "config.json:   0%|          | 0.00/4.73k [00:00<?, ?B/s]"
      ]
     },
     "metadata": {},
     "output_type": "display_data"
    },
    {
     "data": {
      "application/vnd.jupyter.widget-view+json": {
       "model_id": "a909b51ecf90493f9d3eab1fb052adf0",
       "version_major": 2,
       "version_minor": 0
      },
      "text/plain": [
       "model.safetensors:   0%|          | 0.00/603M [00:00<?, ?B/s]"
      ]
     },
     "metadata": {},
     "output_type": "display_data"
    },
    {
     "name": "stdout",
     "output_type": "stream",
     "text": [
      "Model loaded on cpu\n"
     ]
    }
   ],
   "source": [
    "segmenter = geoai.CLIPSegmentation(tile_size=512, overlap= 25)"
   ]
  },
  {
   "cell_type": "code",
   "execution_count": 15,
   "id": "1fae7204",
   "metadata": {},
   "outputs": [],
   "source": [
    "output_path = 'tree_masks.tif'\n",
    "text_prompt = 'trees'\n",
    "\n"
   ]
  },
  {
   "cell_type": "code",
   "execution_count": 16,
   "id": "74baf07c",
   "metadata": {},
   "outputs": [
    {
     "name": "stderr",
     "output_type": "stream",
     "text": [
      "Processing tiles: 100%|██████████| 15/15 [00:08<00:00,  1.74it/s]\n"
     ]
    },
    {
     "ename": "CPLE_AppDefinedError",
     "evalue": "Deleting tree_masks.tif failed: Permission denied",
     "output_type": "error",
     "traceback": [
      "\u001b[1;31m---------------------------------------------------------------------------\u001b[0m",
      "\u001b[1;31mCPLE_AppDefinedError\u001b[0m                      Traceback (most recent call last)",
      "Cell \u001b[1;32mIn[16], line 1\u001b[0m\n\u001b[1;32m----> 1\u001b[0m \u001b[43msegmenter\u001b[49m\u001b[38;5;241;43m.\u001b[39;49m\u001b[43msegment_image\u001b[49m\u001b[43m(\u001b[49m\n\u001b[0;32m      2\u001b[0m \u001b[43m    \u001b[49m\u001b[43mraster_path\u001b[49m\u001b[43m,\u001b[49m\n\u001b[0;32m      3\u001b[0m \u001b[43m    \u001b[49m\u001b[43moutput_path\u001b[49m\u001b[38;5;241;43m=\u001b[39;49m\u001b[43moutput_path\u001b[49m\u001b[43m,\u001b[49m\n\u001b[0;32m      4\u001b[0m \u001b[43m    \u001b[49m\u001b[43mtext_prompt\u001b[49m\u001b[38;5;241;43m=\u001b[39;49m\u001b[43mtext_prompt\u001b[49m\u001b[43m,\u001b[49m\n\u001b[0;32m      5\u001b[0m \u001b[43m    \u001b[49m\u001b[43mthreshold\u001b[49m\u001b[38;5;241;43m=\u001b[39;49m\u001b[38;5;241;43m0.5\u001b[39;49m\u001b[43m,\u001b[49m\n\u001b[0;32m      6\u001b[0m \u001b[43m    \u001b[49m\u001b[43msmoothing_sigma\u001b[49m\u001b[38;5;241;43m=\u001b[39;49m\u001b[38;5;241;43m1.0\u001b[39;49m\u001b[43m,\u001b[49m\n\u001b[0;32m      7\u001b[0m \u001b[43m)\u001b[49m\n",
      "File \u001b[1;32md:\\Trainings\\geenv\\lib\\site-packages\\geoai\\segment.py:254\u001b[0m, in \u001b[0;36mCLIPSegmentation.segment_image\u001b[1;34m(self, input_path, output_path, text_prompt, threshold, smoothing_sigma)\u001b[0m\n\u001b[0;32m    251\u001b[0m segmentation \u001b[38;5;241m=\u001b[39m (probabilities \u001b[38;5;241m>\u001b[39m\u001b[38;5;241m=\u001b[39m threshold)\u001b[38;5;241m.\u001b[39mastype(np\u001b[38;5;241m.\u001b[39mfloat32)\n\u001b[0;32m    253\u001b[0m \u001b[38;5;66;03m# Write the output GeoTIFF\u001b[39;00m\n\u001b[1;32m--> 254\u001b[0m \u001b[38;5;28;01mwith\u001b[39;00m rasterio\u001b[38;5;241m.\u001b[39mopen(output_path, \u001b[38;5;124m\"\u001b[39m\u001b[38;5;124mw\u001b[39m\u001b[38;5;124m\"\u001b[39m, \u001b[38;5;241m*\u001b[39m\u001b[38;5;241m*\u001b[39mout_meta) \u001b[38;5;28;01mas\u001b[39;00m dst:\n\u001b[0;32m    255\u001b[0m     dst\u001b[38;5;241m.\u001b[39mwrite(segmentation, \u001b[38;5;241m1\u001b[39m)\n\u001b[0;32m    256\u001b[0m     dst\u001b[38;5;241m.\u001b[39mwrite(probabilities, \u001b[38;5;241m2\u001b[39m)\n",
      "File \u001b[1;32md:\\Trainings\\geenv\\lib\\site-packages\\rasterio\\env.py:463\u001b[0m, in \u001b[0;36mensure_env_with_credentials.<locals>.wrapper\u001b[1;34m(*args, **kwds)\u001b[0m\n\u001b[0;32m    460\u001b[0m     session \u001b[38;5;241m=\u001b[39m DummySession()\n\u001b[0;32m    462\u001b[0m \u001b[38;5;28;01mwith\u001b[39;00m env_ctor(session\u001b[38;5;241m=\u001b[39msession):\n\u001b[1;32m--> 463\u001b[0m     \u001b[38;5;28;01mreturn\u001b[39;00m f(\u001b[38;5;241m*\u001b[39margs, \u001b[38;5;241m*\u001b[39m\u001b[38;5;241m*\u001b[39mkwds)\n",
      "File \u001b[1;32md:\\Trainings\\geenv\\lib\\site-packages\\rasterio\\__init__.py:378\u001b[0m, in \u001b[0;36mopen\u001b[1;34m(fp, mode, driver, width, height, count, crs, transform, dtype, nodata, sharing, opener, **kwargs)\u001b[0m\n\u001b[0;32m    376\u001b[0m writer \u001b[38;5;241m=\u001b[39m get_writer_for_driver(driver)\n\u001b[0;32m    377\u001b[0m \u001b[38;5;28;01mif\u001b[39;00m writer \u001b[38;5;129;01mis\u001b[39;00m \u001b[38;5;129;01mnot\u001b[39;00m \u001b[38;5;28;01mNone\u001b[39;00m:\n\u001b[1;32m--> 378\u001b[0m     dataset \u001b[38;5;241m=\u001b[39m writer(\n\u001b[0;32m    379\u001b[0m         path,\n\u001b[0;32m    380\u001b[0m         mode,\n\u001b[0;32m    381\u001b[0m         driver\u001b[38;5;241m=\u001b[39mdriver,\n\u001b[0;32m    382\u001b[0m         width\u001b[38;5;241m=\u001b[39mwidth,\n\u001b[0;32m    383\u001b[0m         height\u001b[38;5;241m=\u001b[39mheight,\n\u001b[0;32m    384\u001b[0m         count\u001b[38;5;241m=\u001b[39mcount,\n\u001b[0;32m    385\u001b[0m         crs\u001b[38;5;241m=\u001b[39mcrs,\n\u001b[0;32m    386\u001b[0m         transform\u001b[38;5;241m=\u001b[39mtransform,\n\u001b[0;32m    387\u001b[0m         dtype\u001b[38;5;241m=\u001b[39mdtype,\n\u001b[0;32m    388\u001b[0m         nodata\u001b[38;5;241m=\u001b[39mnodata,\n\u001b[0;32m    389\u001b[0m         sharing\u001b[38;5;241m=\u001b[39msharing,\n\u001b[0;32m    390\u001b[0m         \u001b[38;5;241m*\u001b[39m\u001b[38;5;241m*\u001b[39mkwargs\n\u001b[0;32m    391\u001b[0m     )\n\u001b[0;32m    392\u001b[0m \u001b[38;5;28;01melse\u001b[39;00m:\n\u001b[0;32m    393\u001b[0m     \u001b[38;5;28;01mraise\u001b[39;00m DriverCapabilityError(\n\u001b[0;32m    394\u001b[0m         \u001b[38;5;124m\"\u001b[39m\u001b[38;5;124mWriter does not exist for driver: \u001b[39m\u001b[38;5;132;01m%s\u001b[39;00m\u001b[38;5;124m\"\u001b[39m \u001b[38;5;241m%\u001b[39m \u001b[38;5;28mstr\u001b[39m(driver)\n\u001b[0;32m    395\u001b[0m     )\n",
      "File \u001b[1;32mrasterio\\\\_io.pyx:1509\u001b[0m, in \u001b[0;36mrasterio._io.DatasetWriterBase.__init__\u001b[1;34m()\u001b[0m\n",
      "File \u001b[1;32mrasterio\\\\_io.pyx:322\u001b[0m, in \u001b[0;36mrasterio._io._delete_dataset_if_exists\u001b[1;34m()\u001b[0m\n",
      "File \u001b[1;32mrasterio\\\\_err.pyx:289\u001b[0m, in \u001b[0;36mrasterio._err.exc_wrap_int\u001b[1;34m()\u001b[0m\n",
      "\u001b[1;31mCPLE_AppDefinedError\u001b[0m: Deleting tree_masks.tif failed: Permission denied"
     ]
    }
   ],
   "source": [
    "segmenter.segment_image(\n",
    "    raster_path,\n",
    "    output_path=output_path,\n",
    "    text_prompt=text_prompt,\n",
    "    threshold=0.5,\n",
    "    smoothing_sigma=1.0,\n",
    ")"
   ]
  },
  {
   "cell_type": "code",
   "execution_count": 17,
   "id": "58a1cb00",
   "metadata": {},
   "outputs": [
    {
     "data": {
      "text/html": [
       "<iframe srcdoc=\"&lt;!DOCTYPE html&gt;\n",
       "&lt;html&gt;\n",
       "&lt;head&gt;\n",
       "    \n",
       "    &lt;meta http-equiv=&quot;content-type&quot; content=&quot;text/html; charset=UTF-8&quot; /&gt;\n",
       "    \n",
       "        &lt;script&gt;\n",
       "            L_NO_TOUCH = false;\n",
       "            L_DISABLE_3D = false;\n",
       "        &lt;/script&gt;\n",
       "    \n",
       "    &lt;style&gt;html, body {width: 100%;height: 100%;margin: 0;padding: 0;}&lt;/style&gt;\n",
       "    &lt;style&gt;#map {position:absolute;top:0;bottom:0;right:0;left:0;}&lt;/style&gt;\n",
       "    &lt;script src=&quot;https://cdn.jsdelivr.net/npm/leaflet@1.9.3/dist/leaflet.js&quot;&gt;&lt;/script&gt;\n",
       "    &lt;script src=&quot;https://code.jquery.com/jquery-3.7.1.min.js&quot;&gt;&lt;/script&gt;\n",
       "    &lt;script src=&quot;https://cdn.jsdelivr.net/npm/bootstrap@5.2.2/dist/js/bootstrap.bundle.min.js&quot;&gt;&lt;/script&gt;\n",
       "    &lt;script src=&quot;https://cdnjs.cloudflare.com/ajax/libs/Leaflet.awesome-markers/2.0.2/leaflet.awesome-markers.js&quot;&gt;&lt;/script&gt;\n",
       "    &lt;link rel=&quot;stylesheet&quot; href=&quot;https://cdn.jsdelivr.net/npm/leaflet@1.9.3/dist/leaflet.css&quot;/&gt;\n",
       "    &lt;link rel=&quot;stylesheet&quot; href=&quot;https://cdn.jsdelivr.net/npm/bootstrap@5.2.2/dist/css/bootstrap.min.css&quot;/&gt;\n",
       "    &lt;link rel=&quot;stylesheet&quot; href=&quot;https://netdna.bootstrapcdn.com/bootstrap/3.0.0/css/bootstrap-glyphicons.css&quot;/&gt;\n",
       "    &lt;link rel=&quot;stylesheet&quot; href=&quot;https://cdn.jsdelivr.net/npm/@fortawesome/fontawesome-free@6.2.0/css/all.min.css&quot;/&gt;\n",
       "    &lt;link rel=&quot;stylesheet&quot; href=&quot;https://cdnjs.cloudflare.com/ajax/libs/Leaflet.awesome-markers/2.0.2/leaflet.awesome-markers.css&quot;/&gt;\n",
       "    &lt;link rel=&quot;stylesheet&quot; href=&quot;https://cdn.jsdelivr.net/gh/python-visualization/folium/folium/templates/leaflet.awesome.rotate.min.css&quot;/&gt;\n",
       "    \n",
       "            &lt;meta name=&quot;viewport&quot; content=&quot;width=device-width,\n",
       "                initial-scale=1.0, maximum-scale=1.0, user-scalable=no&quot; /&gt;\n",
       "            &lt;style&gt;\n",
       "                #map_08d75f5916cb673c43372713b30a04bf {\n",
       "                    position: relative;\n",
       "                    width: 100.0%;\n",
       "                    height: 100.0%;\n",
       "                    left: 0.0%;\n",
       "                    top: 0.0%;\n",
       "                }\n",
       "                .leaflet-container { font-size: 1rem; }\n",
       "            &lt;/style&gt;\n",
       "        \n",
       "    &lt;script src=&quot;https://cdn.jsdelivr.net/npm/leaflet.fullscreen@3.0.0/Control.FullScreen.min.js&quot;&gt;&lt;/script&gt;\n",
       "    &lt;link rel=&quot;stylesheet&quot; href=&quot;https://cdn.jsdelivr.net/npm/leaflet.fullscreen@3.0.0/Control.FullScreen.css&quot;/&gt;\n",
       "    &lt;script src=&quot;https://unpkg.com/leaflet-control-geocoder/dist/Control.Geocoder.js&quot;&gt;&lt;/script&gt;\n",
       "    &lt;link rel=&quot;stylesheet&quot; href=&quot;https://unpkg.com/leaflet-control-geocoder/dist/Control.Geocoder.css&quot;/&gt;\n",
       "&lt;/head&gt;\n",
       "&lt;body&gt;\n",
       "    \n",
       "    \n",
       "            &lt;div class=&quot;folium-map&quot; id=&quot;map_08d75f5916cb673c43372713b30a04bf&quot; &gt;&lt;/div&gt;\n",
       "        \n",
       "&lt;/body&gt;\n",
       "&lt;script&gt;\n",
       "    \n",
       "    \n",
       "            var map_08d75f5916cb673c43372713b30a04bf = L.map(\n",
       "                &quot;map_08d75f5916cb673c43372713b30a04bf&quot;,\n",
       "                {\n",
       "                    center: [20.0, 0.0],\n",
       "                    crs: L.CRS.EPSG3857,\n",
       "                    ...{\n",
       "  &quot;zoom&quot;: 2,\n",
       "  &quot;zoomControl&quot;: true,\n",
       "  &quot;preferCanvas&quot;: false,\n",
       "  &quot;drawExport&quot;: false,\n",
       "  &quot;layersControl&quot;: true,\n",
       "}\n",
       "\n",
       "                }\n",
       "            );\n",
       "            L.control.scale().addTo(map_08d75f5916cb673c43372713b30a04bf);\n",
       "\n",
       "            \n",
       "\n",
       "        \n",
       "    \n",
       "            var tile_layer_2fd3d20635d4f47185f37c69f2f098c8 = L.tileLayer(\n",
       "                &quot;https://tile.openstreetmap.org/{z}/{x}/{y}.png&quot;,\n",
       "                {\n",
       "  &quot;minZoom&quot;: 0,\n",
       "  &quot;maxZoom&quot;: 24,\n",
       "  &quot;maxNativeZoom&quot;: 24,\n",
       "  &quot;noWrap&quot;: false,\n",
       "  &quot;attribution&quot;: &quot;\\u0026copy; \\u003ca href=\\&quot;https://www.openstreetmap.org/copyright\\&quot;\\u003eOpenStreetMap\\u003c/a\\u003e contributors&quot;,\n",
       "  &quot;subdomains&quot;: &quot;abc&quot;,\n",
       "  &quot;detectRetina&quot;: false,\n",
       "  &quot;tms&quot;: false,\n",
       "  &quot;opacity&quot;: 1,\n",
       "}\n",
       "\n",
       "            );\n",
       "        \n",
       "    \n",
       "            tile_layer_2fd3d20635d4f47185f37c69f2f098c8.addTo(map_08d75f5916cb673c43372713b30a04bf);\n",
       "        \n",
       "    \n",
       "            L.control.fullscreen(\n",
       "                {\n",
       "  &quot;position&quot;: &quot;topleft&quot;,\n",
       "  &quot;title&quot;: &quot;Full Screen&quot;,\n",
       "  &quot;titleCancel&quot;: &quot;Exit Full Screen&quot;,\n",
       "  &quot;forceSeparateButton&quot;: false,\n",
       "}\n",
       "            ).addTo(map_08d75f5916cb673c43372713b30a04bf);\n",
       "        \n",
       "    \n",
       "\n",
       "            var geocoderOpts_geocoder_5d923f27958ab4e80259bb0406d7d9e7 = {\n",
       "  &quot;collapsed&quot;: true,\n",
       "  &quot;position&quot;: &quot;topleft&quot;,\n",
       "  &quot;defaultMarkGeocode&quot;: true,\n",
       "  &quot;zoom&quot;: 11,\n",
       "  &quot;provider&quot;: &quot;nominatim&quot;,\n",
       "  &quot;providerOptions&quot;: {\n",
       "},\n",
       "};\n",
       "\n",
       "            // note: geocoder name should start with lowercase\n",
       "            var geocoderName_geocoder_5d923f27958ab4e80259bb0406d7d9e7 = geocoderOpts_geocoder_5d923f27958ab4e80259bb0406d7d9e7[&quot;provider&quot;];\n",
       "\n",
       "            var customGeocoder_geocoder_5d923f27958ab4e80259bb0406d7d9e7 = L.Control.Geocoder[ geocoderName_geocoder_5d923f27958ab4e80259bb0406d7d9e7 ](\n",
       "                geocoderOpts_geocoder_5d923f27958ab4e80259bb0406d7d9e7[&#x27;providerOptions&#x27;]\n",
       "            );\n",
       "            geocoderOpts_geocoder_5d923f27958ab4e80259bb0406d7d9e7[&quot;geocoder&quot;] = customGeocoder_geocoder_5d923f27958ab4e80259bb0406d7d9e7;\n",
       "\n",
       "            L.Control.geocoder(\n",
       "                geocoderOpts_geocoder_5d923f27958ab4e80259bb0406d7d9e7\n",
       "            ).on(&#x27;markgeocode&#x27;, function(e) {\n",
       "                var zoom = geocoderOpts_geocoder_5d923f27958ab4e80259bb0406d7d9e7[&#x27;zoom&#x27;] || map_08d75f5916cb673c43372713b30a04bf.getZoom();\n",
       "                map_08d75f5916cb673c43372713b30a04bf.setView(e.geocode.center, zoom);\n",
       "            }).addTo(map_08d75f5916cb673c43372713b30a04bf);\n",
       "\n",
       "        \n",
       "    \n",
       "            map_08d75f5916cb673c43372713b30a04bf.fitBounds(\n",
       "                [[20, 0], [20, 0]],\n",
       "                {&quot;maxZoom&quot;: 2}\n",
       "            );\n",
       "        \n",
       "    \n",
       "            var tile_layer_70c0bcd602e91f2106b788d3867eee99 = L.tileLayer(\n",
       "                &quot;https://giswqs-titiler-endpoint.hf.space/cog/tiles/WebMercatorQuad/{z}/{x}/{y}@1x?url=https%3A%2F%2Fhuggingface.co%2Fdatasets%2Fgiswqs%2Fgeospatial%2Fresolve%2Fmain%2Ftrees_brazil.tif\\u0026bidx=1\\u0026bidx=2\\u0026bidx=3\\u0026rescale=7.0%2C248.0\\u0026rescale=6.0%2C235.0\\u0026rescale=8.0%2C234.0&quot;,\n",
       "                {\n",
       "  &quot;minZoom&quot;: 0,\n",
       "  &quot;maxZoom&quot;: 30,\n",
       "  &quot;maxNativeZoom&quot;: 30,\n",
       "  &quot;noWrap&quot;: false,\n",
       "  &quot;attribution&quot;: &quot;.&quot;,\n",
       "  &quot;subdomains&quot;: &quot;abc&quot;,\n",
       "  &quot;detectRetina&quot;: false,\n",
       "  &quot;tms&quot;: false,\n",
       "  &quot;opacity&quot;: 1.0,\n",
       "}\n",
       "\n",
       "            );\n",
       "        \n",
       "    \n",
       "            tile_layer_70c0bcd602e91f2106b788d3867eee99.addTo(map_08d75f5916cb673c43372713b30a04bf);\n",
       "        \n",
       "    \n",
       "            map_08d75f5916cb673c43372713b30a04bf.fitBounds(\n",
       "                [[-22.177699999999998, -51.2565], [-22.174999999999994, -51.2512]],\n",
       "                {}\n",
       "            );\n",
       "        \n",
       "    \n",
       "            var tile_layer_17c5b6ea6ddb5c2f7c8f39c53056faaf = L.tileLayer(\n",
       "                &quot;http://localhost:51367/api/tiles/{z}/{x}/{y}.png?\\u0026filename=d%3A%5CTrainings%5Cgee%5Ctree_masks.tif\\u0026colormap=greens\\u0026nodata=0&quot;,\n",
       "                {\n",
       "  &quot;minZoom&quot;: 0,\n",
       "  &quot;maxZoom&quot;: 30,\n",
       "  &quot;maxNativeZoom&quot;: 30,\n",
       "  &quot;noWrap&quot;: false,\n",
       "  &quot;attribution&quot;: &quot;Raster file served by \\u003ca href=\\u0027https://github.com/banesullivan/localtileserver\\u0027 target=\\u0027_blank\\u0027\\u003elocaltileserver\\u003c/a\\u003e.&quot;,\n",
       "  &quot;subdomains&quot;: &quot;abc&quot;,\n",
       "  &quot;detectRetina&quot;: false,\n",
       "  &quot;tms&quot;: false,\n",
       "  &quot;opacity&quot;: 0.8,\n",
       "  &quot;bounds&quot;: [[-22.1777, -51.2565], [-22.175, -51.2512]],\n",
       "  &quot;zoomToLayer&quot;: true,\n",
       "  &quot;visible&quot;: true,\n",
       "  &quot;corsAll&quot;: false,\n",
       "}\n",
       "\n",
       "            );\n",
       "        \n",
       "    \n",
       "            tile_layer_17c5b6ea6ddb5c2f7c8f39c53056faaf.addTo(map_08d75f5916cb673c43372713b30a04bf);\n",
       "        \n",
       "    \n",
       "            map_08d75f5916cb673c43372713b30a04bf.fitBounds(\n",
       "                [[-22.1777, -51.2565], [-22.175, -51.2512]],\n",
       "                {}\n",
       "            );\n",
       "        \n",
       "    \n",
       "            var layer_control_e379389c925075df151de74bbd62a20c_layers = {\n",
       "                base_layers : {\n",
       "                    &quot;openstreetmap&quot; : tile_layer_2fd3d20635d4f47185f37c69f2f098c8,\n",
       "                },\n",
       "                overlays :  {\n",
       "                    &quot;Basemap&quot; : tile_layer_70c0bcd602e91f2106b788d3867eee99,\n",
       "                    &quot;Trees&quot; : tile_layer_17c5b6ea6ddb5c2f7c8f39c53056faaf,\n",
       "                },\n",
       "            };\n",
       "            let layer_control_e379389c925075df151de74bbd62a20c = L.control.layers(\n",
       "                layer_control_e379389c925075df151de74bbd62a20c_layers.base_layers,\n",
       "                layer_control_e379389c925075df151de74bbd62a20c_layers.overlays,\n",
       "                {\n",
       "  &quot;position&quot;: &quot;topright&quot;,\n",
       "  &quot;collapsed&quot;: true,\n",
       "  &quot;autoZIndex&quot;: true,\n",
       "}\n",
       "            ).addTo(map_08d75f5916cb673c43372713b30a04bf);\n",
       "\n",
       "        \n",
       "&lt;/script&gt;\n",
       "&lt;/html&gt;\" width=\"100%\" height=\"600\"style=\"border:none !important;\" \"allowfullscreen\" \"webkitallowfullscreen\" \"mozallowfullscreen\"></iframe>"
      ],
      "text/plain": [
       "<leafmap.foliumap.Map at 0x269ebfb74c0>"
      ]
     },
     "execution_count": 17,
     "metadata": {},
     "output_type": "execute_result"
    }
   ],
   "source": [
    "geoai.view_raster(\n",
    "    output_path,\n",
    "    nodata=0,\n",
    "    opacity=0.8,\n",
    "    colormap=\"greens\",\n",
    "    layer_name=\"Trees\",\n",
    "    basemap=raster_url,\n",
    ")"
   ]
  }
 ],
 "metadata": {
  "kernelspec": {
   "display_name": "Python 3",
   "language": "python",
   "name": "python3"
  },
  "language_info": {
   "codemirror_mode": {
    "name": "ipython",
    "version": 3
   },
   "file_extension": ".py",
   "mimetype": "text/x-python",
   "name": "python",
   "nbconvert_exporter": "python",
   "pygments_lexer": "ipython3",
   "version": "3.10.17"
  }
 },
 "nbformat": 4,
 "nbformat_minor": 5
}
