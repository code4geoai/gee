{
 "cells": [
  {
   "cell_type": "markdown",
   "id": "4c240833",
   "metadata": {},
   "source": [
    "This is a new notebook is to test the new dataset received from Atiq."
   ]
  },
  {
   "cell_type": "code",
   "execution_count": 1,
   "id": "ad3bcc21",
   "metadata": {},
   "outputs": [],
   "source": [
    "import geopandas as gpd\n",
    "import pandas as pd\n",
    "import numpy as np\n",
    "import leafmap\n",
    "import geemap\n",
    "import ee"
   ]
  },
  {
   "cell_type": "code",
   "execution_count": 40,
   "id": "4a264794",
   "metadata": {},
   "outputs": [
    {
     "data": {
      "text/html": [
       "\n",
       "            <style>\n",
       "                .geemap-dark {\n",
       "                    --jp-widgets-color: white;\n",
       "                    --jp-widgets-label-color: white;\n",
       "                    --jp-ui-font-color1: white;\n",
       "                    --jp-layout-color2: #454545;\n",
       "                    background-color: #383838;\n",
       "                }\n",
       "\n",
       "                .geemap-dark .jupyter-button {\n",
       "                    --jp-layout-color3: #383838;\n",
       "                }\n",
       "\n",
       "                .geemap-colab {\n",
       "                    background-color: var(--colab-primary-surface-color, white);\n",
       "                }\n",
       "\n",
       "                .geemap-colab .jupyter-button {\n",
       "                    --jp-layout-color3: var(--colab-primary-surface-color, white);\n",
       "                }\n",
       "            </style>\n",
       "            "
      ],
      "text/plain": [
       "<IPython.core.display.HTML object>"
      ]
     },
     "metadata": {},
     "output_type": "display_data"
    }
   ],
   "source": [
    "raster_image = \"Dir_Mauza.tif\"\n",
    "vector_path = 'new_DataSet-V1.geojson'\n",
    "gdf = gpd.read_file(vector_path)"
   ]
  },
  {
   "cell_type": "code",
   "execution_count": 34,
   "id": "3b2e0921",
   "metadata": {},
   "outputs": [
    {
     "data": {
      "text/html": [
       "\n",
       "            <style>\n",
       "                .geemap-dark {\n",
       "                    --jp-widgets-color: white;\n",
       "                    --jp-widgets-label-color: white;\n",
       "                    --jp-ui-font-color1: white;\n",
       "                    --jp-layout-color2: #454545;\n",
       "                    background-color: #383838;\n",
       "                }\n",
       "\n",
       "                .geemap-dark .jupyter-button {\n",
       "                    --jp-layout-color3: #383838;\n",
       "                }\n",
       "\n",
       "                .geemap-colab {\n",
       "                    background-color: var(--colab-primary-surface-color, white);\n",
       "                }\n",
       "\n",
       "                .geemap-colab .jupyter-button {\n",
       "                    --jp-layout-color3: var(--colab-primary-surface-color, white);\n",
       "                }\n",
       "            </style>\n",
       "            "
      ],
      "text/plain": [
       "<IPython.core.display.HTML object>"
      ]
     },
     "metadata": {},
     "output_type": "display_data"
    },
    {
     "data": {
      "text/html": [
       "<div>\n",
       "<style scoped>\n",
       "    .dataframe tbody tr th:only-of-type {\n",
       "        vertical-align: middle;\n",
       "    }\n",
       "\n",
       "    .dataframe tbody tr th {\n",
       "        vertical-align: top;\n",
       "    }\n",
       "\n",
       "    .dataframe thead th {\n",
       "        text-align: right;\n",
       "    }\n",
       "</style>\n",
       "<table border=\"1\" class=\"dataframe\">\n",
       "  <thead>\n",
       "    <tr style=\"text-align: right;\">\n",
       "      <th></th>\n",
       "      <th>OBJECTID</th>\n",
       "      <th>Mouza_Name</th>\n",
       "      <th>Land_Use</th>\n",
       "      <th>District</th>\n",
       "      <th>Tehsil</th>\n",
       "      <th>Khasra_No</th>\n",
       "      <th>Area</th>\n",
       "      <th>LULC_Landuse</th>\n",
       "      <th>Area_sqft</th>\n",
       "      <th>Area_Kanal</th>\n",
       "      <th>Shape_Length</th>\n",
       "      <th>Shape_Area</th>\n",
       "      <th>geometry</th>\n",
       "    </tr>\n",
       "  </thead>\n",
       "  <tbody>\n",
       "    <tr>\n",
       "      <th>0</th>\n",
       "      <td>1</td>\n",
       "      <td>Thin Dodag</td>\n",
       "      <td>غيرممكن آبادی</td>\n",
       "      <td>Lower Dir</td>\n",
       "      <td>Adlinzai</td>\n",
       "      <td></td>\n",
       "      <td>25609.650485</td>\n",
       "      <td>Builtup</td>\n",
       "      <td>25612</td>\n",
       "      <td>4.703765</td>\n",
       "      <td>196.123539</td>\n",
       "      <td>2379.223900</td>\n",
       "      <td>POLYGON ((72.03524 34.70202, 72.03479 34.70231...</td>\n",
       "    </tr>\n",
       "    <tr>\n",
       "      <th>1</th>\n",
       "      <td>2</td>\n",
       "      <td>Thin Dodag</td>\n",
       "      <td>زرعی اراضی</td>\n",
       "      <td>Lower Dir</td>\n",
       "      <td>Adlinzai</td>\n",
       "      <td></td>\n",
       "      <td>74031.856150</td>\n",
       "      <td>Agriculture</td>\n",
       "      <td>74038</td>\n",
       "      <td>13.597429</td>\n",
       "      <td>383.002630</td>\n",
       "      <td>6877.812004</td>\n",
       "      <td>POLYGON ((72.03494 34.70169, 72.03608 34.7009,...</td>\n",
       "    </tr>\n",
       "    <tr>\n",
       "      <th>2</th>\n",
       "      <td>3</td>\n",
       "      <td>Thin Dodag</td>\n",
       "      <td>زرعی اراضی</td>\n",
       "      <td>Lower Dir</td>\n",
       "      <td>Adlinzai</td>\n",
       "      <td></td>\n",
       "      <td>74484.593450</td>\n",
       "      <td>Agriculture</td>\n",
       "      <td>74492</td>\n",
       "      <td>13.680808</td>\n",
       "      <td>447.389557</td>\n",
       "      <td>6919.872844</td>\n",
       "      <td>POLYGON ((72.03838 34.70369, 72.03869 34.70359...</td>\n",
       "    </tr>\n",
       "    <tr>\n",
       "      <th>3</th>\n",
       "      <td>4</td>\n",
       "      <td>Thin Dodag</td>\n",
       "      <td>زرعی اراضی</td>\n",
       "      <td>Lower Dir</td>\n",
       "      <td>Adlinzai</td>\n",
       "      <td></td>\n",
       "      <td>70885.494912</td>\n",
       "      <td>Agriculture</td>\n",
       "      <td>70892</td>\n",
       "      <td>13.019651</td>\n",
       "      <td>371.709293</td>\n",
       "      <td>6585.504311</td>\n",
       "      <td>POLYGON ((72.03772 34.70422, 72.03886 34.70387...</td>\n",
       "    </tr>\n",
       "    <tr>\n",
       "      <th>4</th>\n",
       "      <td>5</td>\n",
       "      <td>Thin Dodag</td>\n",
       "      <td>زرعی اراضی</td>\n",
       "      <td>Lower Dir</td>\n",
       "      <td>Adlinzai</td>\n",
       "      <td></td>\n",
       "      <td>96568.890168</td>\n",
       "      <td>Agriculture</td>\n",
       "      <td>96578</td>\n",
       "      <td>17.737006</td>\n",
       "      <td>445.406563</td>\n",
       "      <td>8971.579352</td>\n",
       "      <td>POLYGON ((72.03923 34.70428, 72.03935 34.70434...</td>\n",
       "    </tr>\n",
       "  </tbody>\n",
       "</table>\n",
       "</div>"
      ],
      "text/plain": [
       "   OBJECTID  Mouza_Name       Land_Use   District    Tehsil Khasra_No  \\\n",
       "0         1  Thin Dodag  غيرممكن آبادی  Lower Dir  Adlinzai             \n",
       "1         2  Thin Dodag     زرعی اراضی  Lower Dir  Adlinzai             \n",
       "2         3  Thin Dodag     زرعی اراضی  Lower Dir  Adlinzai             \n",
       "3         4  Thin Dodag     زرعی اراضی  Lower Dir  Adlinzai             \n",
       "4         5  Thin Dodag     زرعی اراضی  Lower Dir  Adlinzai             \n",
       "\n",
       "           Area LULC_Landuse  Area_sqft  Area_Kanal  Shape_Length  \\\n",
       "0  25609.650485      Builtup      25612    4.703765    196.123539   \n",
       "1  74031.856150  Agriculture      74038   13.597429    383.002630   \n",
       "2  74484.593450  Agriculture      74492   13.680808    447.389557   \n",
       "3  70885.494912  Agriculture      70892   13.019651    371.709293   \n",
       "4  96568.890168  Agriculture      96578   17.737006    445.406563   \n",
       "\n",
       "    Shape_Area                                           geometry  \n",
       "0  2379.223900  POLYGON ((72.03524 34.70202, 72.03479 34.70231...  \n",
       "1  6877.812004  POLYGON ((72.03494 34.70169, 72.03608 34.7009,...  \n",
       "2  6919.872844  POLYGON ((72.03838 34.70369, 72.03869 34.70359...  \n",
       "3  6585.504311  POLYGON ((72.03772 34.70422, 72.03886 34.70387...  \n",
       "4  8971.579352  POLYGON ((72.03923 34.70428, 72.03935 34.70434...  "
      ]
     },
     "execution_count": 34,
     "metadata": {},
     "output_type": "execute_result"
    }
   ],
   "source": [
    "gdf.head()"
   ]
  },
  {
   "cell_type": "code",
   "execution_count": 35,
   "id": "c878504f",
   "metadata": {},
   "outputs": [
    {
     "data": {
      "text/html": [
       "\n",
       "            <style>\n",
       "                .geemap-dark {\n",
       "                    --jp-widgets-color: white;\n",
       "                    --jp-widgets-label-color: white;\n",
       "                    --jp-ui-font-color1: white;\n",
       "                    --jp-layout-color2: #454545;\n",
       "                    background-color: #383838;\n",
       "                }\n",
       "\n",
       "                .geemap-dark .jupyter-button {\n",
       "                    --jp-layout-color3: #383838;\n",
       "                }\n",
       "\n",
       "                .geemap-colab {\n",
       "                    background-color: var(--colab-primary-surface-color, white);\n",
       "                }\n",
       "\n",
       "                .geemap-colab .jupyter-button {\n",
       "                    --jp-layout-color3: var(--colab-primary-surface-color, white);\n",
       "                }\n",
       "            </style>\n",
       "            "
      ],
      "text/plain": [
       "<IPython.core.display.HTML object>"
      ]
     },
     "metadata": {},
     "output_type": "display_data"
    },
    {
     "name": "stdout",
     "output_type": "stream",
     "text": [
      "Length of dataset785\n"
     ]
    },
    {
     "data": {
      "application/vnd.microsoft.datawrangler.viewer.v0+json": {
       "columns": [
        {
         "name": "LULC_Landuse",
         "rawType": "object",
         "type": "string"
        },
        {
         "name": "LULC_Landuse",
         "rawType": "int64",
         "type": "integer"
        }
       ],
       "ref": "10bbb768-8afa-4182-b14f-42d49e1822ec",
       "rows": [
        [
         "Agriculture",
         "453"
        ],
        [
         "Builtup",
         "327"
        ],
        [
         "Water body",
         "3"
        ],
        [
         "Barren Land",
         "2"
        ]
       ],
       "shape": {
        "columns": 1,
        "rows": 4
       }
      },
      "text/plain": [
       "LULC_Landuse\n",
       "Agriculture    453\n",
       "Builtup        327\n",
       "Water body       3\n",
       "Barren Land      2\n",
       "Name: LULC_Landuse, dtype: int64"
      ]
     },
     "execution_count": 35,
     "metadata": {},
     "output_type": "execute_result"
    }
   ],
   "source": [
    "print(f\"Length of dataset{len(gdf)}\")\n",
    "gdf['LULC_Landuse'].groupby(gdf['LULC_Landuse']).count().sort_values(ascending=False)"
   ]
  },
  {
   "cell_type": "code",
   "execution_count": 36,
   "id": "557dd6d0",
   "metadata": {},
   "outputs": [
    {
     "data": {
      "text/html": [
       "\n",
       "            <style>\n",
       "                .geemap-dark {\n",
       "                    --jp-widgets-color: white;\n",
       "                    --jp-widgets-label-color: white;\n",
       "                    --jp-ui-font-color1: white;\n",
       "                    --jp-layout-color2: #454545;\n",
       "                    background-color: #383838;\n",
       "                }\n",
       "\n",
       "                .geemap-dark .jupyter-button {\n",
       "                    --jp-layout-color3: #383838;\n",
       "                }\n",
       "\n",
       "                .geemap-colab {\n",
       "                    background-color: var(--colab-primary-surface-color, white);\n",
       "                }\n",
       "\n",
       "                .geemap-colab .jupyter-button {\n",
       "                    --jp-layout-color3: var(--colab-primary-surface-color, white);\n",
       "                }\n",
       "            </style>\n",
       "            "
      ],
      "text/plain": [
       "<IPython.core.display.HTML object>"
      ]
     },
     "metadata": {},
     "output_type": "display_data"
    },
    {
     "name": "stdout",
     "output_type": "stream",
     "text": [
      "Agriculture: 453, Built-up: 327\n"
     ]
    }
   ],
   "source": [
    "agri = gdf[gdf['LULC_Landuse'] == 'Agriculture']\n",
    "builtup = gdf[gdf['LULC_Landuse'] == 'Builtup']\n",
    "print(f\"Agriculture: {len(agri)}, Built-up: {len(builtup)}\")"
   ]
  },
  {
   "cell_type": "code",
   "execution_count": 65,
   "id": "f700d216",
   "metadata": {},
   "outputs": [
    {
     "data": {
      "text/html": [
       "\n",
       "            <style>\n",
       "                .geemap-dark {\n",
       "                    --jp-widgets-color: white;\n",
       "                    --jp-widgets-label-color: white;\n",
       "                    --jp-ui-font-color1: white;\n",
       "                    --jp-layout-color2: #454545;\n",
       "                    background-color: #383838;\n",
       "                }\n",
       "\n",
       "                .geemap-dark .jupyter-button {\n",
       "                    --jp-layout-color3: #383838;\n",
       "                }\n",
       "\n",
       "                .geemap-colab {\n",
       "                    background-color: var(--colab-primary-surface-color, white);\n",
       "                }\n",
       "\n",
       "                .geemap-colab .jupyter-button {\n",
       "                    --jp-layout-color3: var(--colab-primary-surface-color, white);\n",
       "                }\n",
       "            </style>\n",
       "            "
      ],
      "text/plain": [
       "<IPython.core.display.HTML object>"
      ]
     },
     "metadata": {},
     "output_type": "display_data"
    },
    {
     "data": {
      "application/vnd.jupyter.widget-view+json": {
       "model_id": "d6d9a4d01bef48bbb6a2c72f7993582d",
       "version_major": 2,
       "version_minor": 0
      },
      "text/plain": [
       "Map(center=[34.7041205, 72.0423705], controls=(ZoomControl(options=['position', 'zoom_in_text', 'zoom_in_title…"
      ]
     },
     "execution_count": 65,
     "metadata": {},
     "output_type": "execute_result"
    }
   ],
   "source": [
    "import leafmap\n",
    "\n",
    "vis = {'bands': [3,2,1], 'min': 0, 'max': 4000,\n",
    "       'gamma': 1.3\n",
    "       }\n",
    "\n",
    "m = leafmap.Map()\n",
    "m.add_basemap(\"Satellite\")\n",
    "\n",
    "# ✅ Proper syntax with viz_params\n",
    "m.add_raster(raster_image, layer_name='Satellite Image', viz_params=vis, opacity=1.0, nodata=0)\n",
    "\n",
    "m.add_gdf(agri, layer_name='Agriculture', color='green', opacity=0.2, zoom_to_layer=True)\n",
    "m.add_gdf(builtup, layer_name='Built-up', color='red', opacity=0.2)\n",
    "\n",
    "m.add_layer_manager()\n",
    "m\n"
   ]
  },
  {
   "cell_type": "code",
   "execution_count": 66,
   "id": "0b5004cb",
   "metadata": {},
   "outputs": [
    {
     "data": {
      "text/html": [
       "\n",
       "            <style>\n",
       "                .geemap-dark {\n",
       "                    --jp-widgets-color: white;\n",
       "                    --jp-widgets-label-color: white;\n",
       "                    --jp-ui-font-color1: white;\n",
       "                    --jp-layout-color2: #454545;\n",
       "                    background-color: #383838;\n",
       "                }\n",
       "\n",
       "                .geemap-dark .jupyter-button {\n",
       "                    --jp-layout-color3: #383838;\n",
       "                }\n",
       "\n",
       "                .geemap-colab {\n",
       "                    background-color: var(--colab-primary-surface-color, white);\n",
       "                }\n",
       "\n",
       "                .geemap-colab .jupyter-button {\n",
       "                    --jp-layout-color3: var(--colab-primary-surface-color, white);\n",
       "                }\n",
       "            </style>\n",
       "            "
      ],
      "text/plain": [
       "<IPython.core.display.HTML object>"
      ]
     },
     "metadata": {},
     "output_type": "display_data"
    }
   ],
   "source": [
    "import geoai"
   ]
  },
  {
   "cell_type": "code",
   "execution_count": null,
   "id": "065691e0",
   "metadata": {},
   "outputs": [
    {
     "data": {
      "text/html": [
       "\n",
       "            <style>\n",
       "                .geemap-dark {\n",
       "                    --jp-widgets-color: white;\n",
       "                    --jp-widgets-label-color: white;\n",
       "                    --jp-ui-font-color1: white;\n",
       "                    --jp-layout-color2: #454545;\n",
       "                    background-color: #383838;\n",
       "                }\n",
       "\n",
       "                .geemap-dark .jupyter-button {\n",
       "                    --jp-layout-color3: #383838;\n",
       "                }\n",
       "\n",
       "                .geemap-colab {\n",
       "                    background-color: var(--colab-primary-surface-color, white);\n",
       "                }\n",
       "\n",
       "                .geemap-colab .jupyter-button {\n",
       "                    --jp-layout-color3: var(--colab-primary-surface-color, white);\n",
       "                }\n",
       "            </style>\n",
       "            "
      ],
      "text/plain": [
       "<IPython.core.display.HTML object>"
      ]
     },
     "metadata": {},
     "output_type": "display_data"
    },
    {
     "data": {
      "text/html": [
       "<iframe srcdoc=\"&lt;!DOCTYPE html&gt;\n",
       "&lt;html&gt;\n",
       "&lt;head&gt;\n",
       "    \n",
       "    &lt;meta http-equiv=&quot;content-type&quot; content=&quot;text/html; charset=UTF-8&quot; /&gt;\n",
       "    \n",
       "        &lt;script&gt;\n",
       "            L_NO_TOUCH = false;\n",
       "            L_DISABLE_3D = false;\n",
       "        &lt;/script&gt;\n",
       "    \n",
       "    &lt;style&gt;html, body {width: 100%;height: 100%;margin: 0;padding: 0;}&lt;/style&gt;\n",
       "    &lt;style&gt;#map {position:absolute;top:0;bottom:0;right:0;left:0;}&lt;/style&gt;\n",
       "    &lt;script src=&quot;https://cdn.jsdelivr.net/npm/leaflet@1.9.3/dist/leaflet.js&quot;&gt;&lt;/script&gt;\n",
       "    &lt;script src=&quot;https://code.jquery.com/jquery-3.7.1.min.js&quot;&gt;&lt;/script&gt;\n",
       "    &lt;script src=&quot;https://cdn.jsdelivr.net/npm/bootstrap@5.2.2/dist/js/bootstrap.bundle.min.js&quot;&gt;&lt;/script&gt;\n",
       "    &lt;script src=&quot;https://cdnjs.cloudflare.com/ajax/libs/Leaflet.awesome-markers/2.0.2/leaflet.awesome-markers.js&quot;&gt;&lt;/script&gt;\n",
       "    &lt;link rel=&quot;stylesheet&quot; href=&quot;https://cdn.jsdelivr.net/npm/leaflet@1.9.3/dist/leaflet.css&quot;/&gt;\n",
       "    &lt;link rel=&quot;stylesheet&quot; href=&quot;https://cdn.jsdelivr.net/npm/bootstrap@5.2.2/dist/css/bootstrap.min.css&quot;/&gt;\n",
       "    &lt;link rel=&quot;stylesheet&quot; href=&quot;https://netdna.bootstrapcdn.com/bootstrap/3.0.0/css/bootstrap-glyphicons.css&quot;/&gt;\n",
       "    &lt;link rel=&quot;stylesheet&quot; href=&quot;https://cdn.jsdelivr.net/npm/@fortawesome/fontawesome-free@6.2.0/css/all.min.css&quot;/&gt;\n",
       "    &lt;link rel=&quot;stylesheet&quot; href=&quot;https://cdnjs.cloudflare.com/ajax/libs/Leaflet.awesome-markers/2.0.2/leaflet.awesome-markers.css&quot;/&gt;\n",
       "    &lt;link rel=&quot;stylesheet&quot; href=&quot;https://cdn.jsdelivr.net/gh/python-visualization/folium/folium/templates/leaflet.awesome.rotate.min.css&quot;/&gt;\n",
       "    \n",
       "            &lt;meta name=&quot;viewport&quot; content=&quot;width=device-width,\n",
       "                initial-scale=1.0, maximum-scale=1.0, user-scalable=no&quot; /&gt;\n",
       "            &lt;style&gt;\n",
       "                #map_d7c01047743782fe6d932f09d7df3fe7 {\n",
       "                    position: relative;\n",
       "                    width: 100.0%;\n",
       "                    height: 100.0%;\n",
       "                    left: 0.0%;\n",
       "                    top: 0.0%;\n",
       "                }\n",
       "                .leaflet-container { font-size: 1rem; }\n",
       "            &lt;/style&gt;\n",
       "        \n",
       "    &lt;script src=&quot;https://cdn.jsdelivr.net/npm/leaflet.fullscreen@3.0.0/Control.FullScreen.min.js&quot;&gt;&lt;/script&gt;\n",
       "    &lt;link rel=&quot;stylesheet&quot; href=&quot;https://cdn.jsdelivr.net/npm/leaflet.fullscreen@3.0.0/Control.FullScreen.css&quot;/&gt;\n",
       "    &lt;script src=&quot;https://cdnjs.cloudflare.com/ajax/libs/leaflet.draw/1.0.2/leaflet.draw.js&quot;&gt;&lt;/script&gt;\n",
       "    &lt;link rel=&quot;stylesheet&quot; href=&quot;https://cdnjs.cloudflare.com/ajax/libs/leaflet.draw/1.0.2/leaflet.draw.css&quot;/&gt;\n",
       "    &lt;script src=&quot;https://unpkg.com/leaflet-control-geocoder/dist/Control.Geocoder.js&quot;&gt;&lt;/script&gt;\n",
       "    &lt;link rel=&quot;stylesheet&quot; href=&quot;https://unpkg.com/leaflet-control-geocoder/dist/Control.Geocoder.css&quot;/&gt;\n",
       "&lt;/head&gt;\n",
       "&lt;body&gt;\n",
       "    \n",
       "    \n",
       "            &lt;div class=&quot;folium-map&quot; id=&quot;map_d7c01047743782fe6d932f09d7df3fe7&quot; &gt;&lt;/div&gt;\n",
       "        \n",
       "&lt;/body&gt;\n",
       "&lt;script&gt;\n",
       "    \n",
       "    \n",
       "            var map_d7c01047743782fe6d932f09d7df3fe7 = L.map(\n",
       "                &quot;map_d7c01047743782fe6d932f09d7df3fe7&quot;,\n",
       "                {\n",
       "                    center: [20.0, 0.0],\n",
       "                    crs: L.CRS.EPSG3857,\n",
       "                    ...{\n",
       "  &quot;zoom&quot;: 2,\n",
       "  &quot;zoomControl&quot;: true,\n",
       "  &quot;preferCanvas&quot;: false,\n",
       "  &quot;drawExport&quot;: false,\n",
       "  &quot;layersControl&quot;: true,\n",
       "}\n",
       "\n",
       "                }\n",
       "            );\n",
       "            L.control.scale().addTo(map_d7c01047743782fe6d932f09d7df3fe7);\n",
       "\n",
       "            \n",
       "\n",
       "        \n",
       "    \n",
       "            var tile_layer_61c16cd949ce88232c189cc76e15500c = L.tileLayer(\n",
       "                &quot;https://tile.openstreetmap.org/{z}/{x}/{y}.png&quot;,\n",
       "                {\n",
       "  &quot;minZoom&quot;: 0,\n",
       "  &quot;maxZoom&quot;: 24,\n",
       "  &quot;maxNativeZoom&quot;: 24,\n",
       "  &quot;noWrap&quot;: false,\n",
       "  &quot;attribution&quot;: &quot;\\u0026copy; \\u003ca href=\\&quot;https://www.openstreetmap.org/copyright\\&quot;\\u003eOpenStreetMap\\u003c/a\\u003e contributors&quot;,\n",
       "  &quot;subdomains&quot;: &quot;abc&quot;,\n",
       "  &quot;detectRetina&quot;: false,\n",
       "  &quot;tms&quot;: false,\n",
       "  &quot;opacity&quot;: 1,\n",
       "}\n",
       "\n",
       "            );\n",
       "        \n",
       "    \n",
       "            tile_layer_61c16cd949ce88232c189cc76e15500c.addTo(map_d7c01047743782fe6d932f09d7df3fe7);\n",
       "        \n",
       "    \n",
       "            L.control.fullscreen(\n",
       "                {\n",
       "  &quot;position&quot;: &quot;topleft&quot;,\n",
       "  &quot;title&quot;: &quot;Full Screen&quot;,\n",
       "  &quot;titleCancel&quot;: &quot;Exit Full Screen&quot;,\n",
       "  &quot;forceSeparateButton&quot;: false,\n",
       "}\n",
       "            ).addTo(map_d7c01047743782fe6d932f09d7df3fe7);\n",
       "        \n",
       "    \n",
       "            var options = {\n",
       "              position: &quot;topleft&quot;,\n",
       "              draw: {},\n",
       "              edit: {},\n",
       "            }\n",
       "                // FeatureGroup is to store editable layers.\n",
       "                var drawnItems_draw_control_2c8c6f99b5134406beb4bcbb6dfcc30c =\n",
       "                    new L.featureGroup().addTo(\n",
       "                        map_d7c01047743782fe6d932f09d7df3fe7\n",
       "                    );\n",
       "\n",
       "            options.edit.featureGroup = drawnItems_draw_control_2c8c6f99b5134406beb4bcbb6dfcc30c;\n",
       "            var draw_control_2c8c6f99b5134406beb4bcbb6dfcc30c = new L.Control.Draw(\n",
       "                options\n",
       "            ).addTo( map_d7c01047743782fe6d932f09d7df3fe7 );\n",
       "            map_d7c01047743782fe6d932f09d7df3fe7.on(L.Draw.Event.CREATED, function(e) {\n",
       "                var layer = e.layer,\n",
       "                    type = e.layerType;\n",
       "                var coords = JSON.stringify(layer.toGeoJSON());\n",
       "                layer.on(&#x27;click&#x27;, function() {\n",
       "                    alert(coords);\n",
       "                    console.log(coords);\n",
       "                });\n",
       "                drawnItems_draw_control_2c8c6f99b5134406beb4bcbb6dfcc30c.addLayer(layer);\n",
       "            });\n",
       "            map_d7c01047743782fe6d932f09d7df3fe7.on(&#x27;draw:created&#x27;, function(e) {\n",
       "                drawnItems_draw_control_2c8c6f99b5134406beb4bcbb6dfcc30c.addLayer(e.layer);\n",
       "            });\n",
       "\n",
       "            \n",
       "        \n",
       "    \n",
       "\n",
       "            var geocoderOpts_geocoder_ab5db8cd8667d5e4fd0eeec2c8e49fe9 = {\n",
       "  &quot;collapsed&quot;: true,\n",
       "  &quot;position&quot;: &quot;topleft&quot;,\n",
       "  &quot;defaultMarkGeocode&quot;: true,\n",
       "  &quot;zoom&quot;: 11,\n",
       "  &quot;provider&quot;: &quot;nominatim&quot;,\n",
       "  &quot;providerOptions&quot;: {\n",
       "},\n",
       "};\n",
       "\n",
       "            // note: geocoder name should start with lowercase\n",
       "            var geocoderName_geocoder_ab5db8cd8667d5e4fd0eeec2c8e49fe9 = geocoderOpts_geocoder_ab5db8cd8667d5e4fd0eeec2c8e49fe9[&quot;provider&quot;];\n",
       "\n",
       "            var customGeocoder_geocoder_ab5db8cd8667d5e4fd0eeec2c8e49fe9 = L.Control.Geocoder[ geocoderName_geocoder_ab5db8cd8667d5e4fd0eeec2c8e49fe9 ](\n",
       "                geocoderOpts_geocoder_ab5db8cd8667d5e4fd0eeec2c8e49fe9[&#x27;providerOptions&#x27;]\n",
       "            );\n",
       "            geocoderOpts_geocoder_ab5db8cd8667d5e4fd0eeec2c8e49fe9[&quot;geocoder&quot;] = customGeocoder_geocoder_ab5db8cd8667d5e4fd0eeec2c8e49fe9;\n",
       "\n",
       "            L.Control.geocoder(\n",
       "                geocoderOpts_geocoder_ab5db8cd8667d5e4fd0eeec2c8e49fe9\n",
       "            ).on(&#x27;markgeocode&#x27;, function(e) {\n",
       "                var zoom = geocoderOpts_geocoder_ab5db8cd8667d5e4fd0eeec2c8e49fe9[&#x27;zoom&#x27;] || map_d7c01047743782fe6d932f09d7df3fe7.getZoom();\n",
       "                map_d7c01047743782fe6d932f09d7df3fe7.setView(e.geocode.center, zoom);\n",
       "            }).addTo(map_d7c01047743782fe6d932f09d7df3fe7);\n",
       "\n",
       "        \n",
       "    \n",
       "            map_d7c01047743782fe6d932f09d7df3fe7.fitBounds(\n",
       "                [[20, 0], [20, 0]],\n",
       "                {&quot;maxZoom&quot;: 2}\n",
       "            );\n",
       "        \n",
       "    \n",
       "            var tile_layer_20be87023d7e586c08082db80ba40259 = L.tileLayer(\n",
       "                &quot;http://localhost:57830/api/tiles/{z}/{x}/{y}.png?\\u0026filename=d%3A%5CTrainings%5Cgee%5CDir_Mauza.tif&quot;,\n",
       "                {\n",
       "  &quot;minZoom&quot;: 0,\n",
       "  &quot;maxZoom&quot;: 30,\n",
       "  &quot;maxNativeZoom&quot;: 30,\n",
       "  &quot;noWrap&quot;: false,\n",
       "  &quot;attribution&quot;: &quot;Raster file served by \\u003ca href=\\u0027https://github.com/banesullivan/localtileserver\\u0027 target=\\u0027_blank\\u0027\\u003elocaltileserver\\u003c/a\\u003e.&quot;,\n",
       "  &quot;subdomains&quot;: &quot;abc&quot;,\n",
       "  &quot;detectRetina&quot;: false,\n",
       "  &quot;tms&quot;: false,\n",
       "  &quot;opacity&quot;: 1.0,\n",
       "  &quot;bounds&quot;: [[34.694643, 72.030872], [34.713598, 72.053869]],\n",
       "  &quot;zoomToLayer&quot;: true,\n",
       "  &quot;visible&quot;: true,\n",
       "  &quot;corsAll&quot;: false,\n",
       "}\n",
       "\n",
       "            );\n",
       "        \n",
       "    \n",
       "            tile_layer_20be87023d7e586c08082db80ba40259.addTo(map_d7c01047743782fe6d932f09d7df3fe7);\n",
       "        \n",
       "    \n",
       "            map_d7c01047743782fe6d932f09d7df3fe7.fitBounds(\n",
       "                [[34.694643, 72.030872], [34.713598, 72.053869]],\n",
       "                {}\n",
       "            );\n",
       "        \n",
       "    \n",
       "            var layer_control_fa935521fb22d627c14153e1ef4ec35c_layers = {\n",
       "                base_layers : {\n",
       "                    &quot;openstreetmap&quot; : tile_layer_61c16cd949ce88232c189cc76e15500c,\n",
       "                },\n",
       "                overlays :  {\n",
       "                    &quot;Sentinel-2 Image&quot; : tile_layer_20be87023d7e586c08082db80ba40259,\n",
       "                },\n",
       "            };\n",
       "            let layer_control_fa935521fb22d627c14153e1ef4ec35c = L.control.layers(\n",
       "                layer_control_fa935521fb22d627c14153e1ef4ec35c_layers.base_layers,\n",
       "                layer_control_fa935521fb22d627c14153e1ef4ec35c_layers.overlays,\n",
       "                {\n",
       "  &quot;position&quot;: &quot;topright&quot;,\n",
       "  &quot;collapsed&quot;: true,\n",
       "  &quot;autoZIndex&quot;: true,\n",
       "}\n",
       "            ).addTo(map_d7c01047743782fe6d932f09d7df3fe7);\n",
       "\n",
       "        \n",
       "&lt;/script&gt;\n",
       "&lt;/html&gt;\" width=\"100%\" height=\"600\"style=\"border:none !important;\" \"allowfullscreen\" \"webkitallowfullscreen\" \"mozallowfullscreen\"></iframe>"
      ],
      "text/plain": [
       "<leafmap.foliumap.Map at 0x1ffbfd97290>"
      ]
     },
     "execution_count": 68,
     "metadata": {},
     "output_type": "execute_result"
    }
   ],
   "source": [
    "geoai.view_raster(raster_image, vis_params={'bands': ['B4', 'B3', 'B2'], 'min': 0, 'max': 3000}, layer_name='Sentinel-2 Image')"
   ]
  },
  {
   "cell_type": "code",
   "execution_count": 72,
   "id": "0da1b286",
   "metadata": {},
   "outputs": [
    {
     "data": {
      "text/html": [
       "\n",
       "            <style>\n",
       "                .geemap-dark {\n",
       "                    --jp-widgets-color: white;\n",
       "                    --jp-widgets-label-color: white;\n",
       "                    --jp-ui-font-color1: white;\n",
       "                    --jp-layout-color2: #454545;\n",
       "                    background-color: #383838;\n",
       "                }\n",
       "\n",
       "                .geemap-dark .jupyter-button {\n",
       "                    --jp-layout-color3: #383838;\n",
       "                }\n",
       "\n",
       "                .geemap-colab {\n",
       "                    background-color: var(--colab-primary-surface-color, white);\n",
       "                }\n",
       "\n",
       "                .geemap-colab .jupyter-button {\n",
       "                    --jp-layout-color3: var(--colab-primary-surface-color, white);\n",
       "                }\n",
       "            </style>\n",
       "            "
      ],
      "text/plain": [
       "<IPython.core.display.HTML object>"
      ]
     },
     "metadata": {},
     "output_type": "display_data"
    }
   ],
   "source": [
    "boundary = geemap.gdf_to_ee(gdf)"
   ]
  },
  {
   "cell_type": "code",
   "execution_count": 81,
   "id": "dd1566c5",
   "metadata": {},
   "outputs": [
    {
     "data": {
      "text/html": [
       "\n",
       "            <style>\n",
       "                .geemap-dark {\n",
       "                    --jp-widgets-color: white;\n",
       "                    --jp-widgets-label-color: white;\n",
       "                    --jp-ui-font-color1: white;\n",
       "                    --jp-layout-color2: #454545;\n",
       "                    background-color: #383838;\n",
       "                }\n",
       "\n",
       "                .geemap-dark .jupyter-button {\n",
       "                    --jp-layout-color3: #383838;\n",
       "                }\n",
       "\n",
       "                .geemap-colab {\n",
       "                    background-color: var(--colab-primary-surface-color, white);\n",
       "                }\n",
       "\n",
       "                .geemap-colab .jupyter-button {\n",
       "                    --jp-layout-color3: var(--colab-primary-surface-color, white);\n",
       "                }\n",
       "            </style>\n",
       "            "
      ],
      "text/plain": [
       "<IPython.core.display.HTML object>"
      ]
     },
     "metadata": {},
     "output_type": "display_data"
    },
    {
     "data": {
      "application/vnd.jupyter.widget-view+json": {
       "model_id": "2208fc83adeb4960b1edfad034e2e921",
       "version_major": 2,
       "version_minor": 0
      },
      "text/plain": [
       "Map(center=[34.7048552995146, 72.04184916809633], controls=(WidgetControl(options=['position', 'transparent_bg…"
      ]
     },
     "execution_count": 81,
     "metadata": {},
     "output_type": "execute_result"
    }
   ],
   "source": [
    "\n",
    "collection = ee.ImageCollection('COPERNICUS/S2_SR_HARMONIZED').filterDate('2025-01-01', '2025-06-30').filterBounds(boundary.geometry()).filter(ee.Filter.lt('CLOUDY_PIXEL_PERCENTAGE', 10));\n",
    "\n",
    "selected_image = collection.first()\n",
    "clipped_image = selected_image.clip(boundary.geometry())\n",
    "m = geemap.Map()\n",
    "vis = {\n",
    "    'min': 0,\n",
    "    'max': 3000,    \n",
    "    'bands': ['B4', 'B3', 'B2'],\n",
    "      \n",
    "}\n",
    "m.add_layer(clipped_image,vis,'Sentinel 2')\n",
    "m.centerObject(boundary,14)\n",
    "m\n",
    "\n"
   ]
  },
  {
   "cell_type": "markdown",
   "id": "a5a9fe6b",
   "metadata": {},
   "source": [
    "# Downloading the image"
   ]
  }
 ],
 "metadata": {
  "kernelspec": {
   "display_name": "Python 3",
   "language": "python",
   "name": "python3"
  },
  "language_info": {
   "codemirror_mode": {
    "name": "ipython",
    "version": 3
   },
   "file_extension": ".py",
   "mimetype": "text/x-python",
   "name": "python",
   "nbconvert_exporter": "python",
   "pygments_lexer": "ipython3",
   "version": "3.12.11"
  }
 },
 "nbformat": 4,
 "nbformat_minor": 5
}
