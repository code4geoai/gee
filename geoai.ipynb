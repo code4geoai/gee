{
 "cells": [
  {
   "cell_type": "code",
   "execution_count": 1,
   "id": "482d3d5b",
   "metadata": {},
   "outputs": [],
   "source": [
    "import geoai"
   ]
  },
  {
   "cell_type": "code",
   "execution_count": 2,
   "id": "b5d59f7a",
   "metadata": {},
   "outputs": [
    {
     "data": {
      "text/plain": [
       "'0.5.6'"
      ]
     },
     "execution_count": 2,
     "metadata": {},
     "output_type": "execute_result"
    }
   ],
   "source": [
    "geoai.__version__ "
   ]
  },
  {
   "cell_type": "code",
   "execution_count": 3,
   "id": "05f2df7b",
   "metadata": {},
   "outputs": [],
   "source": [
    "import leafmap\n",
    "from geoai.download import (\n",
    "    download_naip,\n",
    "    download_overture_buildings,\n",
    "    extract_building_stats,\n",
    ")"
   ]
  },
  {
   "cell_type": "code",
   "execution_count": 4,
   "id": "3ab781a9",
   "metadata": {},
   "outputs": [
    {
     "data": {
      "application/vnd.jupyter.widget-view+json": {
       "model_id": "d0bba675c9c7476fac977ce4bc8b297a",
       "version_major": 2,
       "version_minor": 0
      },
      "text/plain": [
       "Map(center=[47.6526, -117.5923], controls=(ZoomControl(options=['position', 'zoom_in_text', 'zoom_in_title', '…"
      ]
     },
     "execution_count": 4,
     "metadata": {},
     "output_type": "execute_result"
    }
   ],
   "source": [
    "m = leafmap.Map(center=[47.6526, -117.5923], zoom=16)\n",
    "m.add_basemap(\"SATELLITE\")\n",
    "m"
   ]
  },
  {
   "cell_type": "code",
   "execution_count": 7,
   "id": "3ca9c4c4",
   "metadata": {},
   "outputs": [],
   "source": [
    "bbox = m.user_roi_bounds()\n",
    "if bbox is None:\n",
    "    bbox = (-117.6029, 47.65, -117.5936, 47.6563)"
   ]
  },
  {
   "cell_type": "markdown",
   "id": "df88864b",
   "metadata": {},
   "source": [
    "bbox\n",
    "# [67.9791, 26.3066, 67.9833, 26.3092] a good location for testing"
   ]
  },
  {
   "cell_type": "code",
   "execution_count": 10,
   "id": "8c2fe655",
   "metadata": {},
   "outputs": [
    {
     "name": "stdout",
     "output_type": "stream",
     "text": [
      "Found 1 NAIP items.\n",
      "Downloading item 1/1: m_4711720_sw_11_060_20230701_20230911.tif\n"
     ]
    },
    {
     "name": "stderr",
     "output_type": "stream",
     "text": [
      "m_4711720_sw_11_060_20230701_20230911.tif: 100%|██████████| 342M/342M [25:41<00:00, 232kiB/s]    "
     ]
    },
    {
     "name": "stdout",
     "output_type": "stream",
     "text": [
      "Successfully saved to naip_data\\m_4711720_sw_11_060_20230701_20230911.tif\n",
      "Downloaded 1 files.\n"
     ]
    },
    {
     "name": "stderr",
     "output_type": "stream",
     "text": [
      "\n"
     ]
    }
   ],
   "source": [
    "# Download NAIP imagery for the specified region\n",
    "downloaded_files = download_naip(\n",
    "    bbox=bbox,\n",
    "    output_dir=\"naip_data\",\n",
    "    max_items=1,\n",
    "    # year=2020,\n",
    ")\n",
    "\n",
    "print(f\"Downloaded {len(downloaded_files)} files.\")"
   ]
  },
  {
   "cell_type": "code",
   "execution_count": 7,
   "id": "36e9d31a",
   "metadata": {},
   "outputs": [],
   "source": [
    "# Download buildings\n",
    "data_file = download_overture_buildings(\n",
    "    bbox=bbox,\n",
    "    output=\"buildings.geojson\",\n",
    ")"
   ]
  },
  {
   "cell_type": "code",
   "execution_count": 8,
   "id": "73145925",
   "metadata": {},
   "outputs": [
    {
     "name": "stdout",
     "output_type": "stream",
     "text": [
      "{'total_buildings': 199, 'has_height': 84, 'has_name': 0, 'bbox': [-117.6017984, 47.650168297348685, -117.5937308, 47.655846]}\n"
     ]
    }
   ],
   "source": [
    "stats = extract_building_stats(data_file)\n",
    "print(stats)"
   ]
  },
  {
   "cell_type": "code",
   "execution_count": 13,
   "id": "ff47b4d9",
   "metadata": {},
   "outputs": [
    {
     "data": {
      "application/vnd.jupyter.widget-view+json": {
       "model_id": "6ca62ee235bb477895add562e83a577c",
       "version_major": 2,
       "version_minor": 0
      },
      "text/plain": [
       "Map(center=[47.656245, -117.59382049999999], controls=(ZoomControl(options=['position', 'zoom_in_text', 'zoom_…"
      ]
     },
     "execution_count": 13,
     "metadata": {},
     "output_type": "execute_result"
    }
   ],
   "source": [
    "import leafmap\n",
    "m = leafmap.Map()\n",
    "m.add_basemap(\"SATELLITE\")\n",
    "m.add_raster(\"./naip_data/satellite_img.tif\", layer_name=\"NAIP\")\n",
    "m.add_geojson(\"buildings.geojson\", layer_name=\"Buildings\")\n",
    "m.add_layer_manager()\n",
    "m"
   ]
  }
 ],
 "metadata": {
  "kernelspec": {
   "display_name": "Python 3",
   "language": "python",
   "name": "python3"
  },
  "language_info": {
   "codemirror_mode": {
    "name": "ipython",
    "version": 3
   },
   "file_extension": ".py",
   "mimetype": "text/x-python",
   "name": "python",
   "nbconvert_exporter": "python",
   "pygments_lexer": "ipython3",
   "version": "3.10.17"
  }
 },
 "nbformat": 4,
 "nbformat_minor": 5
}
