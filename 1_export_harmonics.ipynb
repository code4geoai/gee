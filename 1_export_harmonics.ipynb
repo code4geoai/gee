{
 "cells": [
  {
   "cell_type": "markdown",
   "id": "ad7d79e6",
   "metadata": {},
   "source": [
    "# This is the functional code of Export Harmonics "
   ]
  },
  {
   "cell_type": "code",
   "execution_count": 2,
   "id": "f463f629",
   "metadata": {},
   "outputs": [],
   "source": [
    "import ee\n",
    "import geemap\n",
    "import math"
   ]
  },
  {
   "cell_type": "code",
   "execution_count": 3,
   "id": "fa2455aa",
   "metadata": {},
   "outputs": [
    {
     "data": {
      "text/html": [
       "\n",
       "            <style>\n",
       "                .geemap-dark {\n",
       "                    --jp-widgets-color: white;\n",
       "                    --jp-widgets-label-color: white;\n",
       "                    --jp-ui-font-color1: white;\n",
       "                    --jp-layout-color2: #454545;\n",
       "                    background-color: #383838;\n",
       "                }\n",
       "\n",
       "                .geemap-dark .jupyter-button {\n",
       "                    --jp-layout-color3: #383838;\n",
       "                }\n",
       "\n",
       "                .geemap-colab {\n",
       "                    background-color: var(--colab-primary-surface-color, white);\n",
       "                }\n",
       "\n",
       "                .geemap-colab .jupyter-button {\n",
       "                    --jp-layout-color3: var(--colab-primary-surface-color, white);\n",
       "                }\n",
       "            </style>\n",
       "            "
      ],
      "text/plain": [
       "<IPython.core.display.HTML object>"
      ]
     },
     "metadata": {},
     "output_type": "display_data"
    }
   ],
   "source": [
    "geemap.ee.Initialize()"
   ]
  },
  {
   "cell_type": "code",
   "execution_count": 4,
   "id": "c4b04cff",
   "metadata": {},
   "outputs": [
    {
     "data": {
      "text/html": [
       "\n",
       "            <style>\n",
       "                .geemap-dark {\n",
       "                    --jp-widgets-color: white;\n",
       "                    --jp-widgets-label-color: white;\n",
       "                    --jp-ui-font-color1: white;\n",
       "                    --jp-layout-color2: #454545;\n",
       "                    background-color: #383838;\n",
       "                }\n",
       "\n",
       "                .geemap-dark .jupyter-button {\n",
       "                    --jp-layout-color3: #383838;\n",
       "                }\n",
       "\n",
       "                .geemap-colab {\n",
       "                    background-color: var(--colab-primary-surface-color, white);\n",
       "                }\n",
       "\n",
       "                .geemap-colab .jupyter-button {\n",
       "                    --jp-layout-color3: var(--colab-primary-surface-color, white);\n",
       "                }\n",
       "            </style>\n",
       "            "
      ],
      "text/plain": [
       "<IPython.core.display.HTML object>"
      ]
     },
     "metadata": {},
     "output_type": "display_data"
    },
    {
     "name": "stderr",
     "output_type": "stream",
     "text": [
      "d:\\Trainings\\geenv\\lib\\site-packages\\ee\\deprecation.py:207: DeprecationWarning: \n",
      "\n",
      "Attention required for COPERNICUS/S2_SR! You are using a deprecated asset.\n",
      "To make sure your code keeps working, please update it.\n",
      "Learn more: https://developers.google.com/earth-engine/datasets/catalog/COPERNICUS_S2_SR\n",
      "\n",
      "  warnings.warn(warning, category=DeprecationWarning)\n"
     ]
    },
    {
     "name": "stdout",
     "output_type": "stream",
     "text": [
      "Export started with task ID: XZLL2W6ZASDUMW4UIT47D2G3\n"
     ]
    }
   ],
   "source": [
    "\n",
    "# Constants\n",
    "START_DATE = '2024-03-31'\n",
    "END_DATE = '2025-04-01'\n",
    "CLOUD_FILTER = 60\n",
    "CLD_PRB_THRESH = 50\n",
    "NIR_DRK_THRESH = 0.15\n",
    "CLD_PRJ_DIST = 1\n",
    "BUFFER = 50\n",
    "\n",
    "# Area of Interest\n",
    "aoi = ee.FeatureCollection('FAO/GAUL/2015/level0').filterMetadata('ADM0_CODE', 'equals', 188)\n",
    "geometry = aoi.geometry()\n",
    "\n",
    "# Dynamic World Processing\n",
    "dw = ee.ImageCollection('GOOGLE/DYNAMICWORLD/V1') \\\n",
    "        .filterDate(START_DATE, END_DATE) \\\n",
    "        .filterBounds(aoi)\n",
    "classification = dw.select('label')\n",
    "dwComposite = classification.reduce(ee.Reducer.mode())\n",
    "\n",
    "croplands = dwComposite.updateMask(dwComposite.clip(aoi).eq(4))\n",
    "grass = dwComposite.updateMask(dwComposite.clip(aoi).eq(2))\n",
    "combinedMask = croplands.blend(grass)\n",
    "\n",
    "def get_s2_sr_cld_col(aoi, start_date, end_date):\n",
    "    s2_sr_col = ee.ImageCollection('COPERNICUS/S2_SR') \\\n",
    "        .filterBounds(aoi) \\\n",
    "        .filterDate(start_date, end_date) \\\n",
    "        .filter(ee.Filter.lte('CLOUDY_PIXEL_PERCENTAGE', CLOUD_FILTER))\n",
    "\n",
    "    s2_cloudless_col = ee.ImageCollection('COPERNICUS/S2_CLOUD_PROBABILITY') \\\n",
    "        .filterBounds(aoi) \\\n",
    "        .filterDate(start_date, end_date)\n",
    "\n",
    "    return ee.ImageCollection(ee.Join.saveFirst('s2cloudless').apply(\n",
    "        primary=s2_sr_col,\n",
    "        secondary=s2_cloudless_col,\n",
    "        condition=ee.Filter.equals(\n",
    "            leftField='system:index',\n",
    "            rightField='system:index'\n",
    "        )\n",
    "    ))\n",
    "\n",
    "def add_cloud_bands(img):\n",
    "    cld_prb = ee.Image(img.get('s2cloudless')).select('probability')\n",
    "    is_cloud = cld_prb.gt(CLD_PRB_THRESH).rename('clouds')\n",
    "    return img.addBands(ee.Image([cld_prb, is_cloud]))\n",
    "\n",
    "def add_shadow_bands(img):\n",
    "    not_water = img.select('SCL').neq(6)\n",
    "    SR_BAND_SCALE = 1e4\n",
    "    dark_pixels = img.select('B8').lt(NIR_DRK_THRESH*SR_BAND_SCALE).multiply(not_water).rename('dark_pixels')\n",
    "    shadow_azimuth = ee.Number(90).subtract(ee.Number(img.get('MEAN_SOLAR_AZIMUTH_ANGLE')))\n",
    "    \n",
    "    cld_proj = img.select('clouds') \\\n",
    "        .directionalDistanceTransform(shadow_azimuth, CLD_PRJ_DIST*10) \\\n",
    "        .reproject(crs=img.select(0).projection(), scale=100) \\\n",
    "        .select('distance') \\\n",
    "        .mask() \\\n",
    "        .rename('cloud_transform')\n",
    "    \n",
    "    shadows = cld_proj.multiply(dark_pixels).rename('shadows')\n",
    "    return img.addBands(ee.Image([dark_pixels, cld_proj, shadows]))\n",
    "\n",
    "def add_cld_shdw_mask(img):\n",
    "    img_cloud = add_cloud_bands(img)\n",
    "    img_cloud_shadow = add_shadow_bands(img_cloud)\n",
    "    is_cld_shdw = img_cloud_shadow.select('clouds').add(img_cloud_shadow.select('shadows')).gt(0)\n",
    "    \n",
    "    is_cld_shdw = is_cld_shdw.focalMin(2).focalMax(BUFFER*2/20) \\\n",
    "        .reproject(crs=img.select([0]).projection(), scale=20) \\\n",
    "        .rename('cloudmask')\n",
    "    \n",
    "    return img_cloud_shadow.addBands(is_cld_shdw)\n",
    "\n",
    "def apply_cld_shdw_mask(img):\n",
    "    # Corrected .not() syntax here\n",
    "    not_cld_shdw = img.select('cloudmask').Not()\n",
    "    return img.select('B.*').updateMask(not_cld_shdw)\n",
    "\n",
    "# Main processing\n",
    "s2_sr_cld_col_eval = get_s2_sr_cld_col(aoi, START_DATE, END_DATE)\n",
    "l8toa = s2_sr_cld_col_eval.map(add_cld_shdw_mask).map(apply_cld_shdw_mask)\n",
    "\n",
    "# Time series analysis\n",
    "timeField = 'system:time_start'\n",
    "\n",
    "def add_variables(image):\n",
    "    date = ee.Date(image.get(timeField))\n",
    "    years = date.difference(ee.Date('1970-01-01'), 'year')\n",
    "    return image \\\n",
    "        .addBands(image.normalizedDifference(['B8', 'B4']).rename('NDVI')) \\\n",
    "        .addBands(ee.Image(years).rename('t')) \\\n",
    "        .addBands(ee.Image.constant(1))\n",
    "\n",
    "filteredLandsat = l8toa.filterBounds(geometry).map(add_variables)\n",
    "\n",
    "# Linear trend\n",
    "independents = ee.List(['constant', 't'])\n",
    "dependent = ee.String('NDVI')\n",
    "trend = filteredLandsat.select(independents.add(dependent)) \\\n",
    "    .reduce(ee.Reducer.linearRegression(independents.length(), 1))\n",
    "coefficients = trend.select('coefficients') \\\n",
    "    .arrayProject([0]) \\\n",
    "    .arrayFlatten([independents])\n",
    "\n",
    "def detrend_func(image):\n",
    "    return image.select(dependent) \\\n",
    "        .subtract(image.select(independents).multiply(coefficients).reduce('sum')) \\\n",
    "        .rename(dependent) \\\n",
    "        .copyProperties(image, [timeField])\n",
    "\n",
    "detrended = filteredLandsat.map(detrend_func)\n",
    "\n",
    "# Export\n",
    "eightbitRGB = combinedMask.visualize(min=0, max=1, palette=['000000', 'FFFFFF'])\n",
    "\n",
    "task = ee.batch.Export.image.toDrive(\n",
    "    image=eightbitRGB.clip(aoi),\n",
    "    description='NDVI_Analysis',\n",
    "    folder='GEE_Exports',\n",
    "    fileNamePrefix='ndvi_analysis',\n",
    "    region=aoi.geometry(),\n",
    "    scale=10,\n",
    "    crs='EPSG:27700',\n",
    "    maxPixels=1e13\n",
    ")\n",
    "task.start()\n",
    "\n",
    "print(f\"Export started with task ID: {task.id}\")"
   ]
  }
 ],
 "metadata": {
  "kernelspec": {
   "display_name": "Python 3",
   "language": "python",
   "name": "python3"
  },
  "language_info": {
   "codemirror_mode": {
    "name": "ipython",
    "version": 3
   },
   "file_extension": ".py",
   "mimetype": "text/x-python",
   "name": "python",
   "nbconvert_exporter": "python",
   "pygments_lexer": "ipython3",
   "version": "3.10.16"
  }
 },
 "nbformat": 4,
 "nbformat_minor": 5
}
