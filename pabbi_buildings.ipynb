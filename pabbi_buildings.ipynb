{
 "cells": [
  {
   "cell_type": "markdown",
   "id": "2e7b35c8",
   "metadata": {},
   "source": [
    "# Now detecting those Parcels/ Khasras of Pabbi which has now been converted to buildings.\n",
    "Steps:\n",
    "- Load Pabbi vector dataset and filterout the parcels which were originally agricultrue now has built up structure\n",
    "- Load building_dataset.geoparquet to detect buildings in these parcels\n",
    "- Visualize them."
   ]
  },
  {
   "cell_type": "code",
   "execution_count": 1,
   "id": "0d0cf8ab",
   "metadata": {},
   "outputs": [],
   "source": [
    "import geoai\n",
    "import leafmap\n",
    "import geemap\n",
    "import geopandas as gpd\n",
    "import ee"
   ]
  },
  {
   "cell_type": "code",
   "execution_count": 2,
   "id": "d402a98b",
   "metadata": {},
   "outputs": [
    {
     "data": {
      "text/html": [
       "\n",
       "            <style>\n",
       "                .geemap-dark {\n",
       "                    --jp-widgets-color: white;\n",
       "                    --jp-widgets-label-color: white;\n",
       "                    --jp-ui-font-color1: white;\n",
       "                    --jp-layout-color2: #454545;\n",
       "                    background-color: #383838;\n",
       "                }\n",
       "\n",
       "                .geemap-dark .jupyter-button {\n",
       "                    --jp-layout-color3: #383838;\n",
       "                }\n",
       "\n",
       "                .geemap-colab {\n",
       "                    background-color: var(--colab-primary-surface-color, white);\n",
       "                }\n",
       "\n",
       "                .geemap-colab .jupyter-button {\n",
       "                    --jp-layout-color3: var(--colab-primary-surface-color, white);\n",
       "                }\n",
       "            </style>\n",
       "            "
      ],
      "text/plain": [
       "<IPython.core.display.HTML object>"
      ]
     },
     "metadata": {},
     "output_type": "display_data"
    },
    {
     "data": {
      "text/html": [
       "<p>To authorize access needed by Earth Engine, open the following\n",
       "        URL in a web browser and follow the instructions:</p>\n",
       "        <p><a href=https://code.earthengine.google.com/client-auth?scopes=https%3A//www.googleapis.com/auth/earthengine%20https%3A//www.googleapis.com/auth/cloud-platform%20https%3A//www.googleapis.com/auth/devstorage.full_control&request_id=SgJAVHyLEyO5afW1hyZkWTRuH5ao5PGFpcPbUVom5j0&tc=My93UpggJEn7T1Cx774wxAAXZcR2Kl35UE0LI6xRdYs&cc=ubtptgHv0SjtnfrAnm9FHeLXssxIeqM0pe16KQbDhuo>https://code.earthengine.google.com/client-auth?scopes=https%3A//www.googleapis.com/auth/earthengine%20https%3A//www.googleapis.com/auth/cloud-platform%20https%3A//www.googleapis.com/auth/devstorage.full_control&request_id=SgJAVHyLEyO5afW1hyZkWTRuH5ao5PGFpcPbUVom5j0&tc=My93UpggJEn7T1Cx774wxAAXZcR2Kl35UE0LI6xRdYs&cc=ubtptgHv0SjtnfrAnm9FHeLXssxIeqM0pe16KQbDhuo</a></p>\n",
       "        <p>The authorization workflow will generate a code, which you should paste in the box below.</p>\n",
       "        "
      ],
      "text/plain": [
       "<IPython.core.display.HTML object>"
      ]
     },
     "metadata": {},
     "output_type": "display_data"
    },
    {
     "name": "stdout",
     "output_type": "stream",
     "text": [
      "\n",
      "Successfully saved authorization token.\n"
     ]
    }
   ],
   "source": [
    "ee.Authenticate()"
   ]
  },
  {
   "cell_type": "code",
   "execution_count": 3,
   "id": "72ecf356",
   "metadata": {},
   "outputs": [
    {
     "data": {
      "text/html": [
       "\n",
       "            <style>\n",
       "                .geemap-dark {\n",
       "                    --jp-widgets-color: white;\n",
       "                    --jp-widgets-label-color: white;\n",
       "                    --jp-ui-font-color1: white;\n",
       "                    --jp-layout-color2: #454545;\n",
       "                    background-color: #383838;\n",
       "                }\n",
       "\n",
       "                .geemap-dark .jupyter-button {\n",
       "                    --jp-layout-color3: #383838;\n",
       "                }\n",
       "\n",
       "                .geemap-colab {\n",
       "                    background-color: var(--colab-primary-surface-color, white);\n",
       "                }\n",
       "\n",
       "                .geemap-colab .jupyter-button {\n",
       "                    --jp-layout-color3: var(--colab-primary-surface-color, white);\n",
       "                }\n",
       "            </style>\n",
       "            "
      ],
      "text/plain": [
       "<IPython.core.display.HTML object>"
      ]
     },
     "metadata": {},
     "output_type": "display_data"
    }
   ],
   "source": [
    "geemap.ee.Initialize()"
   ]
  },
  {
   "cell_type": "code",
   "execution_count": 4,
   "id": "848c1b3f",
   "metadata": {},
   "outputs": [
    {
     "data": {
      "text/html": [
       "\n",
       "            <style>\n",
       "                .geemap-dark {\n",
       "                    --jp-widgets-color: white;\n",
       "                    --jp-widgets-label-color: white;\n",
       "                    --jp-ui-font-color1: white;\n",
       "                    --jp-layout-color2: #454545;\n",
       "                    background-color: #383838;\n",
       "                }\n",
       "\n",
       "                .geemap-dark .jupyter-button {\n",
       "                    --jp-layout-color3: #383838;\n",
       "                }\n",
       "\n",
       "                .geemap-colab {\n",
       "                    background-color: var(--colab-primary-surface-color, white);\n",
       "                }\n",
       "\n",
       "                .geemap-colab .jupyter-button {\n",
       "                    --jp-layout-color3: var(--colab-primary-surface-color, white);\n",
       "                }\n",
       "            </style>\n",
       "            "
      ],
      "text/plain": [
       "<IPython.core.display.HTML object>"
      ]
     },
     "metadata": {},
     "output_type": "display_data"
    }
   ],
   "source": [
    "#parquet_url = 'https://github.com/code4geoai/gee/releases/download/0.2/pabbi.parquet'\n",
    "parquet_file = 'pabbi.parquet'\n",
    "# The parquet file must be local or can be read from url with request. lets use the local file.\n",
    "gdf = gpd.read_parquet(parquet_file)\n"
   ]
  },
  {
   "cell_type": "code",
   "execution_count": 5,
   "id": "5e774028",
   "metadata": {},
   "outputs": [
    {
     "data": {
      "text/html": [
       "\n",
       "            <style>\n",
       "                .geemap-dark {\n",
       "                    --jp-widgets-color: white;\n",
       "                    --jp-widgets-label-color: white;\n",
       "                    --jp-ui-font-color1: white;\n",
       "                    --jp-layout-color2: #454545;\n",
       "                    background-color: #383838;\n",
       "                }\n",
       "\n",
       "                .geemap-dark .jupyter-button {\n",
       "                    --jp-layout-color3: #383838;\n",
       "                }\n",
       "\n",
       "                .geemap-colab {\n",
       "                    background-color: var(--colab-primary-surface-color, white);\n",
       "                }\n",
       "\n",
       "                .geemap-colab .jupyter-button {\n",
       "                    --jp-layout-color3: var(--colab-primary-surface-color, white);\n",
       "                }\n",
       "            </style>\n",
       "            "
      ],
      "text/plain": [
       "<IPython.core.display.HTML object>"
      ]
     },
     "metadata": {},
     "output_type": "display_data"
    },
    {
     "data": {
      "application/vnd.microsoft.datawrangler.viewer.v0+json": {
       "columns": [
        {
         "name": "('Mouza_Name', 'Landuse_Ma', 'Area_Acre', 'FFID', 'Parcel_ID', 'geometry')",
         "rawType": "object",
         "type": "unknown"
        },
        {
         "name": "count",
         "rawType": "int64",
         "type": "integer"
        }
       ],
       "ref": "d30f29be-84c1-45f9-8b3b-fde76af92b33",
       "rows": [
        [
         "('Khushmaqam', 'Stream', np.float64(1.23273), np.int32(116), np.float64(649.0), <MULTIPOLYGON (((754225.322 3769596.568, 754215.888 3769588.467, 754194.528 ...>)",
         "1"
        ],
        [
         "('Amankot', 'Agriculture', np.float64(0.00419292), np.int32(6623), np.float64(582.0), <MULTIPOLYGON (((754519.923 3769858.42, 754516.296 3769860.598, 754522.454 3...>)",
         "1"
        ],
        [
         "('Amankot', 'Agriculture', np.float64(0.0116622), np.int32(6518), np.float64(761.0), <MULTIPOLYGON (((754832.496 3770130.628, 754826.876 3770125.795, 754825.963 ...>)",
         "1"
        ],
        [
         "('Amankot', 'Agriculture', np.float64(0.0174726), np.int32(6526), np.float64(646.0), <MULTIPOLYGON (((754667.98 3770199.197, 754663.173 3770210.564, 754673.662 3...>)",
         "1"
        ],
        [
         "('Amankot', 'Agriculture', np.float64(0.0200419), np.int32(6222), np.float64(834.0), <MULTIPOLYGON (((755434.675 3770424.439, 755411.42 3770423.808, 755410.23 37...>)",
         "1"
        ],
        [
         "('Amankot', 'Agriculture', np.float64(0.0210322), np.int32(6597), np.float64(962.0), <MULTIPOLYGON (((756261.94 3769672.081, 756276.57 3769680.324, 756276.464 37...>)",
         "1"
        ],
        [
         "('Amankot', 'Agriculture', np.float64(0.021966), np.int32(6641), np.float64(1383.0), <MULTIPOLYGON (((756701.767 3768595.683, 756709.878 3768585.83, 756711.682 3...>)",
         "1"
        ],
        [
         "('Amankot', 'Agriculture', np.float64(0.0238438), np.int32(6729), np.float64(567.0), <MULTIPOLYGON (((754406.089 3769777.919, 754397.008 3769770.196, 754392.325 ...>)",
         "1"
        ],
        [
         "('Amankot', 'Agriculture', np.float64(0.0242496), np.int32(6355), np.float64(1847.0), <MULTIPOLYGON (((757449.18 3768140.164, 757448.485 3768136.49, 757431.504 37...>)",
         "1"
        ],
        [
         "('Amankot', 'Agriculture', np.float64(0.0250011), np.int32(6548), np.float64(708.0), <MULTIPOLYGON (((755186.155 3770499.497, 755182.591 3770510.286, 755202.695 ...>)",
         "1"
        ],
        [
         "('Amankot', 'Agriculture', np.float64(0.0254379), np.int32(6356), np.float64(1855.0), <MULTIPOLYGON (((757472.715 3768119.397, 757472.552 3768115.179, 757448.485 ...>)",
         "1"
        ],
        [
         "('Amankot', 'Agriculture', np.float64(0.0261575), np.int32(6556), np.float64(683.0), <MULTIPOLYGON (((754800.73 3770243.714, 754798.303 3770250.251, 754798.113 3...>)",
         "1"
        ],
        [
         "('Amankot', 'Agriculture', np.float64(0.0268316), np.int32(6322), np.float64(364.0), <MULTIPOLYGON (((755397.813 3769198.817, 755399.593 3769221.549, 755403.136 ...>)",
         "1"
        ],
        [
         "('Amankot', 'Agriculture', np.float64(0.0274295), np.int32(6521), np.float64(767.0), <MULTIPOLYGON (((754774.312 3770080.596, 754764.513 3770072.152, 754762.293 ...>)",
         "1"
        ],
        [
         "('Amankot', 'Agriculture', np.float64(0.0283369), np.int32(6640), np.float64(841.0), <MULTIPOLYGON (((755340.805 3770459.625, 755322.681 3770467.377, 755335.301 ...>)",
         "1"
        ],
        [
         "('Amankot', 'Agriculture', np.float64(0.0296085), np.int32(6525), np.float64(656.0), <MULTIPOLYGON (((754662.689 3769973.562, 754650.098 3769974.539, 754670.051 ...>)",
         "1"
        ],
        [
         "('Amankot', 'Agriculture', np.float64(0.0300397), np.int32(6614), np.float64(1986.0), <MULTIPOLYGON (((757612.71 3768369.81, 757622.485 3768370.198, 757621.661 37...>)",
         "1"
        ],
        [
         "('Amankot', 'Agriculture', np.float64(0.0312833), np.int32(6529), np.float64(60.0), <MULTIPOLYGON (((754908.409 3770193.976, 754895.058 3770183.066, 754892.568 ...>)",
         "1"
        ],
        [
         "('Amankot', 'Agriculture', np.float64(0.0320544), np.int32(6632), np.float64(1792.0), <MULTIPOLYGON (((756911.81 3768561.287, 756898.552 3768558.491, 756897.415 3...>)",
         "1"
        ],
        [
         "('Khushmaqam', 'Road/Streets', np.float64(0.284291), np.int32(220), np.float64(418.0), <MULTIPOLYGON (((752788.195 3769714.911, 752803.653 3769712.795, 752803.322 ...>)",
         "1"
        ],
        [
         "('Khushmaqam', 'Road/Streets', np.float64(0.335927), np.int32(77), np.float64(448.0), <MULTIPOLYGON (((753101.344 3769470.092, 753136.963 3769465.909, 753135.161 ...>)",
         "1"
        ],
        [
         "('Khushmaqam', 'Road/Streets', np.float64(0.399097), np.int32(196), np.float64(471.0), <MULTIPOLYGON (((753038.738 3769689.413, 753004.686 3769634.492, 753002.46 3...>)",
         "1"
        ],
        [
         "('Khushmaqam', 'Road/Streets', np.float64(0.419813), np.int32(671), np.float64(54.0), <MULTIPOLYGON (((753163.997 3770472.287, 753173.012 3770455.052, 753180.238 ...>)",
         "1"
        ],
        [
         "('Khushmaqam', 'Road/Streets', np.float64(0.426283), np.int32(440), np.float64(352.0), <MULTIPOLYGON (((752656.638 3770027.231, 752597.061 3769964.185, 752504.638 ...>)",
         "1"
        ],
        [
         "('Khushmaqam', 'Road/Streets', np.float64(0.430358), np.int32(527), np.float64(219.0), <MULTIPOLYGON (((753513.209 3770201.601, 753507.823 3770198.986, 753484.524 ...>)",
         "1"
        ],
        [
         "('Khushmaqam', 'Road/Streets', np.float64(0.47132), np.int32(579), np.float64(339.0), <MULTIPOLYGON (((752681.938 3770053.808, 752656.638 3770027.231, 752653.76 3...>)",
         "1"
        ],
        [
         "('Khushmaqam', 'Road/Streets', np.float64(0.559224), np.int32(258), np.float64(424.0), <MULTIPOLYGON (((752425.473 3769765.788, 752436.447 3769752.466, 752450.578 ...>)",
         "1"
        ],
        [
         "('Khushmaqam', 'Other', np.float64(0.462659), np.int32(334), np.float64(371.0), <MULTIPOLYGON (((752634.817 3769917.535, 752657.42 3769918.159, 752677.895 3...>)",
         "1"
        ],
        [
         "('Khushmaqam', 'Other', np.float64(1.98879), np.int32(674), np.float64(1.0), <MULTIPOLYGON (((752849.56 3770366.407, 752847.695 3770348.98, 752835.523 37...>)",
         "1"
        ],
        [
         "('Khushmaqam', 'Road/Streets', np.float64(0.0715021), np.int32(323), np.float64(198.0), <MULTIPOLYGON (((753543.495 3769931.704, 753540.055 3769930.839, 753499.579 ...>)",
         "1"
        ],
        [
         "('Khushmaqam', 'Road/Streets', np.float64(0.0856198), np.int32(501), np.float64(240.0), <MULTIPOLYGON (((753038.326 3770163.495, 753037.493 3770105.461, 753036.782 ...>)",
         "1"
        ],
        [
         "('Khushmaqam', 'Road/Streets', np.float64(0.18869), np.int32(693), np.float64(508.0), <MULTIPOLYGON (((753338.177 3769791.826, 753322.652 3769788.098, 753308.404 ...>)",
         "1"
        ],
        [
         "('Khushmaqam', 'Road/Streets', np.float64(0.224048), np.int32(577), np.float64(338.0), <MULTIPOLYGON (((752843.552 3770288.617, 752827.719 3770257.538, 752821.697 ...>)",
         "1"
        ],
        [
         "('Khushmaqam', 'Road/Streets', np.float64(0.270742), np.int32(675), np.float64(2.0), <MULTIPOLYGON (((752854.004 3770482.434, 752856.393 3770430.24, 752857.122 3...>)",
         "1"
        ],
        [
         "('Khushmaqam', 'Road/Streets', np.float64(0.278653), np.int32(650), np.float64(33.0), <MULTIPOLYGON (((753020.002 3770443.086, 753015.235 3770433.254, 753010.612 ...>)",
         "1"
        ],
        [
         "('Khushmaqam', 'Graveyard', np.float64(0.121782), np.int32(611), np.float64(13.0), <MULTIPOLYGON (((752869.787 3770342.905, 752870.559 3770319.255, 752849.139 ...>)",
         "1"
        ],
        [
         "('Khushmaqam', 'Graveyard', np.float64(0.130144), np.int32(647), np.float64(4.0), <MULTIPOLYGON (((752861.645 3770429.38, 752869.059 3770416.84, 752873.972 37...>)",
         "1"
        ],
        [
         "('Khushmaqam', 'Graveyard', np.float64(0.150475), np.int32(598), np.float64(17.0), <MULTIPOLYGON (((752887.915 3770308.875, 752890.195 3770301.47, 752862.601 3...>)",
         "1"
        ],
        [
         "('Khushmaqam', 'Graveyard', np.float64(0.219527), np.int32(325), np.float64(367.0), <MULTIPOLYGON (((752737.679 3769915.467, 752737.887 3769908.759, 752726.615 ...>)",
         "1"
        ],
        [
         "('Khushmaqam', 'Graveyard', np.float64(1.84912), np.int32(330), np.float64(374.0), <MULTIPOLYGON (((752672.99 3769883.381, 752666.265 3769870.085, 752600.836 3...>)",
         "1"
        ],
        [
         "('Khushmaqam', 'Other', np.float64(0.01476), np.int32(659), np.float64(111.0), <MULTIPOLYGON (((753495.652 3770476.154, 753479.652 3770476.217, 753497.712 ...>)",
         "1"
        ],
        [
         "('Khushmaqam', 'Other', np.float64(0.186387), np.int32(617), np.float64(15.0), <MULTIPOLYGON (((752905.95 3770353.586, 752915.075 3770353.709, 752916.952 3...>)",
         "1"
        ],
        [
         "('Khushmaqam', 'Other', np.float64(0.188803), np.int32(522), np.float64(130.0), <MULTIPOLYGON (((753837.731 3770197.415, 753854.337 3770190.106, 753858.222 ...>)",
         "1"
        ],
        [
         "('Khushmaqam', 'Built up', np.float64(0.139391), np.int32(314), np.float64(270.0), <MULTIPOLYGON (((753178.292 3769907.325, 753184.316 3769894.956, 753185.785 ...>)",
         "1"
        ],
        [
         "('Khushmaqam', 'Built up', np.float64(0.201933), np.int32(649), np.float64(47.0), <MULTIPOLYGON (((753038.325 3770411.133, 753010.327 3770410.187, 753010.612 ...>)",
         "1"
        ],
        [
         "('Khushmaqam', 'Built up', np.float64(0.278076), np.int32(352), np.float64(277.0), <MULTIPOLYGON (((753124.075 3769931.316, 753128.761 3769914.389, 753119.669 ...>)",
         "1"
        ],
        [
         "('Khushmaqam', 'Built up', np.float64(0.320389), np.int32(673), np.float64(3.0), <MULTIPOLYGON (((752884.572 3770469.369, 752881.404 3770428.987, 752861.645 ...>)",
         "1"
        ],
        [
         "('Khushmaqam', 'Built up', np.float64(1.43547), np.int32(553), np.float64(149.0), <MULTIPOLYGON (((753578.618 3770247.358, 753606.116 3770245.038, 753626.974 ...>)",
         "1"
        ],
        [
         "('Khushmaqam', 'Built up', np.float64(16.3429), np.int32(329), np.float64(506.0), <MULTIPOLYGON (((753006.179 3769922.493, 753018.902 3769917.912, 753026.518 ...>)",
         "1"
        ],
        [
         "('Khushmaqam', 'Graveyard', np.float64(0.038623), np.int32(591), np.float64(340.0), <MULTIPOLYGON (((752837.549 3770292.422, 752828.647 3770283.627, 752820.115 ...>)",
         "1"
        ]
       ],
       "shape": {
        "columns": 1,
        "rows": 6515
       }
      },
      "text/plain": [
       "Mouza_Name  Landuse_Ma   Area_Acre  FFID  Parcel_ID  geometry                                         \n",
       "Khushmaqam  Stream       1.232730   116   649.0      MULTIPOLYGON (((754225.322 3769596.568, 754215...    1\n",
       "Amankot     Agriculture  0.004193   6623  582.0      MULTIPOLYGON (((754519.923 3769858.42, 754516....    1\n",
       "                         0.011662   6518  761.0      MULTIPOLYGON (((754832.496 3770130.628, 754826...    1\n",
       "                         0.017473   6526  646.0      MULTIPOLYGON (((754667.98 3770199.197, 754663....    1\n",
       "                         0.020042   6222  834.0      MULTIPOLYGON (((755434.675 3770424.439, 755411...    1\n",
       "                                                                                                         ..\n",
       "                         0.034051   6643  285.0      MULTIPOLYGON (((754915.798 3769345.421, 754903...    1\n",
       "                         0.034832   5813  73.0       MULTIPOLYGON (((754314.423 3769802.321, 754311...    1\n",
       "                         0.035476   6227  830.0      MULTIPOLYGON (((755391.195 3770436.894, 755392...    1\n",
       "                         0.036332   6538  832.0      MULTIPOLYGON (((755154.759 3770388.368, 755129...    1\n",
       "                         0.037381   6418  1318.0     MULTIPOLYGON (((756492.07 3768988.024, 756489....    1\n",
       "Name: count, Length: 6515, dtype: int64"
      ]
     },
     "execution_count": 5,
     "metadata": {},
     "output_type": "execute_result"
    }
   ],
   "source": [
    "gdf.value_counts()"
   ]
  },
  {
   "cell_type": "code",
   "execution_count": 6,
   "id": "98fc07cd",
   "metadata": {},
   "outputs": [
    {
     "data": {
      "text/html": [
       "\n",
       "            <style>\n",
       "                .geemap-dark {\n",
       "                    --jp-widgets-color: white;\n",
       "                    --jp-widgets-label-color: white;\n",
       "                    --jp-ui-font-color1: white;\n",
       "                    --jp-layout-color2: #454545;\n",
       "                    background-color: #383838;\n",
       "                }\n",
       "\n",
       "                .geemap-dark .jupyter-button {\n",
       "                    --jp-layout-color3: #383838;\n",
       "                }\n",
       "\n",
       "                .geemap-colab {\n",
       "                    background-color: var(--colab-primary-surface-color, white);\n",
       "                }\n",
       "\n",
       "                .geemap-colab .jupyter-button {\n",
       "                    --jp-layout-color3: var(--colab-primary-surface-color, white);\n",
       "                }\n",
       "            </style>\n",
       "            "
      ],
      "text/plain": [
       "<IPython.core.display.HTML object>"
      ]
     },
     "metadata": {},
     "output_type": "display_data"
    },
    {
     "data": {
      "text/plain": [
       "6740"
      ]
     },
     "execution_count": 6,
     "metadata": {},
     "output_type": "execute_result"
    }
   ],
   "source": [
    "len(gdf)"
   ]
  },
  {
   "cell_type": "code",
   "execution_count": 7,
   "id": "c449ef85",
   "metadata": {},
   "outputs": [
    {
     "data": {
      "text/html": [
       "\n",
       "            <style>\n",
       "                .geemap-dark {\n",
       "                    --jp-widgets-color: white;\n",
       "                    --jp-widgets-label-color: white;\n",
       "                    --jp-ui-font-color1: white;\n",
       "                    --jp-layout-color2: #454545;\n",
       "                    background-color: #383838;\n",
       "                }\n",
       "\n",
       "                .geemap-dark .jupyter-button {\n",
       "                    --jp-layout-color3: #383838;\n",
       "                }\n",
       "\n",
       "                .geemap-colab {\n",
       "                    background-color: var(--colab-primary-surface-color, white);\n",
       "                }\n",
       "\n",
       "                .geemap-colab .jupyter-button {\n",
       "                    --jp-layout-color3: var(--colab-primary-surface-color, white);\n",
       "                }\n",
       "            </style>\n",
       "            "
      ],
      "text/plain": [
       "<IPython.core.display.HTML object>"
      ]
     },
     "metadata": {},
     "output_type": "display_data"
    }
   ],
   "source": [
    "#Converted the pabbi dataframe to google earth engine feature collection.\n",
    "pabbi= geemap.gdf_to_ee(gdf)"
   ]
  },
  {
   "cell_type": "code",
   "execution_count": 8,
   "id": "bc52de93",
   "metadata": {},
   "outputs": [
    {
     "data": {
      "text/html": [
       "\n",
       "            <style>\n",
       "                .geemap-dark {\n",
       "                    --jp-widgets-color: white;\n",
       "                    --jp-widgets-label-color: white;\n",
       "                    --jp-ui-font-color1: white;\n",
       "                    --jp-layout-color2: #454545;\n",
       "                    background-color: #383838;\n",
       "                }\n",
       "\n",
       "                .geemap-dark .jupyter-button {\n",
       "                    --jp-layout-color3: #383838;\n",
       "                }\n",
       "\n",
       "                .geemap-colab {\n",
       "                    background-color: var(--colab-primary-surface-color, white);\n",
       "                }\n",
       "\n",
       "                .geemap-colab .jupyter-button {\n",
       "                    --jp-layout-color3: var(--colab-primary-surface-color, white);\n",
       "                }\n",
       "            </style>\n",
       "            "
      ],
      "text/plain": [
       "<IPython.core.display.HTML object>"
      ]
     },
     "metadata": {},
     "output_type": "display_data"
    },
    {
     "data": {
      "application/vnd.microsoft.datawrangler.viewer.v0+json": {
       "columns": [
        {
         "name": "('Mouza_Name', 'Landuse_Ma', 'Area_Acre', 'FFID', 'Parcel_ID', 'geometry')",
         "rawType": "object",
         "type": "unknown"
        },
        {
         "name": "count",
         "rawType": "int64",
         "type": "integer"
        }
       ],
       "ref": "69e55e29-11d8-490f-84d2-b8b35d79db55",
       "rows": [
        [
         "('Khushmaqam', 'Agriculture', np.float64(7.35812), np.int32(448), np.float64(197.0), <MULTIPOLYGON (((753417.793 3770106.787, 753421.574 3770080.521, 753423.038 ...>)",
         "1"
        ],
        [
         "('Amankot', 'Agriculture', np.float64(0.00419292), np.int32(6623), np.float64(582.0), <MULTIPOLYGON (((754519.923 3769858.42, 754516.296 3769860.598, 754522.454 3...>)",
         "1"
        ],
        [
         "('Amankot', 'Agriculture', np.float64(0.0116622), np.int32(6518), np.float64(761.0), <MULTIPOLYGON (((754832.496 3770130.628, 754826.876 3770125.795, 754825.963 ...>)",
         "1"
        ],
        [
         "('Amankot', 'Agriculture', np.float64(0.0174726), np.int32(6526), np.float64(646.0), <MULTIPOLYGON (((754667.98 3770199.197, 754663.173 3770210.564, 754673.662 3...>)",
         "1"
        ],
        [
         "('Amankot', 'Agriculture', np.float64(0.0200419), np.int32(6222), np.float64(834.0), <MULTIPOLYGON (((755434.675 3770424.439, 755411.42 3770423.808, 755410.23 37...>)",
         "1"
        ],
        [
         "('Amankot', 'Agriculture', np.float64(0.0210322), np.int32(6597), np.float64(962.0), <MULTIPOLYGON (((756261.94 3769672.081, 756276.57 3769680.324, 756276.464 37...>)",
         "1"
        ],
        [
         "('Amankot', 'Agriculture', np.float64(0.021966), np.int32(6641), np.float64(1383.0), <MULTIPOLYGON (((756701.767 3768595.683, 756709.878 3768585.83, 756711.682 3...>)",
         "1"
        ],
        [
         "('Amankot', 'Agriculture', np.float64(0.0238438), np.int32(6729), np.float64(567.0), <MULTIPOLYGON (((754406.089 3769777.919, 754397.008 3769770.196, 754392.325 ...>)",
         "1"
        ],
        [
         "('Amankot', 'Agriculture', np.float64(0.0242496), np.int32(6355), np.float64(1847.0), <MULTIPOLYGON (((757449.18 3768140.164, 757448.485 3768136.49, 757431.504 37...>)",
         "1"
        ],
        [
         "('Amankot', 'Agriculture', np.float64(0.0250011), np.int32(6548), np.float64(708.0), <MULTIPOLYGON (((755186.155 3770499.497, 755182.591 3770510.286, 755202.695 ...>)",
         "1"
        ],
        [
         "('Amankot', 'Agriculture', np.float64(0.0254379), np.int32(6356), np.float64(1855.0), <MULTIPOLYGON (((757472.715 3768119.397, 757472.552 3768115.179, 757448.485 ...>)",
         "1"
        ],
        [
         "('Amankot', 'Agriculture', np.float64(0.0261575), np.int32(6556), np.float64(683.0), <MULTIPOLYGON (((754800.73 3770243.714, 754798.303 3770250.251, 754798.113 3...>)",
         "1"
        ],
        [
         "('Amankot', 'Agriculture', np.float64(0.0268316), np.int32(6322), np.float64(364.0), <MULTIPOLYGON (((755397.813 3769198.817, 755399.593 3769221.549, 755403.136 ...>)",
         "1"
        ],
        [
         "('Amankot', 'Agriculture', np.float64(0.0274295), np.int32(6521), np.float64(767.0), <MULTIPOLYGON (((754774.312 3770080.596, 754764.513 3770072.152, 754762.293 ...>)",
         "1"
        ],
        [
         "('Amankot', 'Agriculture', np.float64(0.0283369), np.int32(6640), np.float64(841.0), <MULTIPOLYGON (((755340.805 3770459.625, 755322.681 3770467.377, 755335.301 ...>)",
         "1"
        ],
        [
         "('Amankot', 'Agriculture', np.float64(0.0296085), np.int32(6525), np.float64(656.0), <MULTIPOLYGON (((754662.689 3769973.562, 754650.098 3769974.539, 754670.051 ...>)",
         "1"
        ],
        [
         "('Amankot', 'Agriculture', np.float64(0.0300397), np.int32(6614), np.float64(1986.0), <MULTIPOLYGON (((757612.71 3768369.81, 757622.485 3768370.198, 757621.661 37...>)",
         "1"
        ],
        [
         "('Amankot', 'Agriculture', np.float64(0.0312833), np.int32(6529), np.float64(60.0), <MULTIPOLYGON (((754908.409 3770193.976, 754895.058 3770183.066, 754892.568 ...>)",
         "1"
        ],
        [
         "('Amankot', 'Agriculture', np.float64(0.0320544), np.int32(6632), np.float64(1792.0), <MULTIPOLYGON (((756911.81 3768561.287, 756898.552 3768558.491, 756897.415 3...>)",
         "1"
        ],
        [
         "('Amankot', 'Agriculture', np.float64(0.0322901), np.int32(5530), np.float64(1049.0), <MULTIPOLYGON (((755811.98 3769603.7, 755804.066 3769604.464, 755804.71 3769...>)",
         "1"
        ],
        [
         "('Amankot', 'Agriculture', np.float64(0.0323444), np.int32(5048), np.float64(303.0), <MULTIPOLYGON (((754768.942 3768980.34, 754763.917 3768978.535, 754754.308 3...>)",
         "1"
        ],
        [
         "('Amankot', 'Agriculture', np.float64(0.0326427), np.int32(6483), np.float64(587.0), <MULTIPOLYGON (((754605.408 3769932.43, 754599.797 3769933.998, 754614.067 3...>)",
         "1"
        ],
        [
         "('Amankot', 'Agriculture', np.float64(0.0339734), np.int32(4614), np.float64(2008.0), <MULTIPOLYGON (((758000.269 3768537.963, 757995.238 3768536.566, 758002.592 ...>)",
         "1"
        ],
        [
         "('Amankot', 'Agriculture', np.float64(0.0340507), np.int32(6643), np.float64(285.0), <MULTIPOLYGON (((754915.798 3769345.421, 754903.728 3769346.421, 754894.814 ...>)",
         "1"
        ],
        [
         "('Amankot', 'Agriculture', np.float64(0.0348315), np.int32(5813), np.float64(73.0), <MULTIPOLYGON (((754314.423 3769802.321, 754311.941 3769796.188, 754294.422 ...>)",
         "1"
        ],
        [
         "('Amankot', 'Agriculture', np.float64(0.0354761), np.int32(6227), np.float64(830.0), <MULTIPOLYGON (((755391.195 3770436.894, 755392.139 3770423.76, 755382.305 3...>)",
         "1"
        ],
        [
         "('Amankot', 'Agriculture', np.float64(0.0363319), np.int32(6538), np.float64(832.0), <MULTIPOLYGON (((755154.759 3770388.368, 755129.497 3770380.659, 755150.926 ...>)",
         "1"
        ],
        [
         "('Amankot', 'Agriculture', np.float64(0.0373813), np.int32(6418), np.float64(1318.0), <MULTIPOLYGON (((756492.07 3768988.024, 756489.754 3768992.18, 756489.121 37...>)",
         "1"
        ],
        [
         "('Amankot', 'Agriculture', np.float64(0.037464), np.int32(6439), np.float64(1462.0), <MULTIPOLYGON (((756435.299 3769161.975, 756447.022 3769159.363, 756446.536 ...>)",
         "1"
        ],
        [
         "('Amankot', 'Agriculture', np.float64(0.0376984), np.int32(4505), np.float64(1908.0), <MULTIPOLYGON (((757869.191 3768199.063, 757855.259 3768196.559, 757852.082 ...>)",
         "1"
        ],
        [
         "('Amankot', 'Agriculture', np.float64(0.0383809), np.int32(6432), np.float64(1406.0), <MULTIPOLYGON (((756758.11 3768705.404, 756752.211 3768731.001, 756769.562 3...>)",
         "1"
        ],
        [
         "('Khushmaqam', 'Agriculture', np.float64(1.49183), np.int32(147), np.float64(481.0), <MULTIPOLYGON (((753121.499 3769606.316, 753112.868 3769557.53, 753106.931 3...>)",
         "1"
        ],
        [
         "('Khushmaqam', 'Agriculture', np.float64(1.49614), np.int32(27), np.float64(634.0), <MULTIPOLYGON (((753911.46 3769238.714, 753912.598 3769212.931, 753916.47 37...>)",
         "1"
        ],
        [
         "('Khushmaqam', 'Agriculture', np.float64(1.5261), np.int32(55), np.float64(680.0), <MULTIPOLYGON (((754415.938 3769406.998, 754442.01 3769379.01, 754412.173 37...>)",
         "1"
        ],
        [
         "('Khushmaqam', 'Agriculture', np.float64(1.57201), np.int32(515), np.float64(331.0), <MULTIPOLYGON (((752795.379 3770168.896, 752796.82 3770149.984, 752809.074 3...>)",
         "1"
        ],
        [
         "('Khushmaqam', 'Agriculture', np.float64(1.57525), np.int32(229), np.float64(563.0), <MULTIPOLYGON (((753989.801 3769753.098, 754041.295 3769738.005, 754040.77 3...>)",
         "1"
        ],
        [
         "('Khushmaqam', 'Agriculture', np.float64(1.61811), np.int32(99), np.float64(492.0), <MULTIPOLYGON (((753257.36 3769524.819, 753259.249 3769513.845, 753265.94 37...>)",
         "1"
        ],
        [
         "('Khushmaqam', 'Agriculture', np.float64(1.62048), np.int32(419), np.float64(160.0), <MULTIPOLYGON (((753638.439 3770081.001, 753644.355 3770071.989, 753644.581 ...>)",
         "1"
        ],
        [
         "('Khushmaqam', 'Agriculture', np.float64(1.65406), np.int32(140), np.float64(496.0), <MULTIPOLYGON (((753160.21 3769610.924, 753177.492 3769609.007, 753198.224 3...>)",
         "1"
        ],
        [
         "('Khushmaqam', 'Agriculture', np.float64(1.34695), np.int32(618), np.float64(42.0), <MULTIPOLYGON (((753126.927 3770360.228, 753121.902 3770359.056, 753117.781 ...>)",
         "1"
        ],
        [
         "('Khushmaqam', 'Agriculture', np.float64(1.40045), np.int32(293), np.float64(549.0), <MULTIPOLYGON (((753713.376 3769866.199, 753715.05 3769855.262, 753715.715 3...>)",
         "1"
        ],
        [
         "('Khushmaqam', 'Agriculture', np.float64(1.41636), np.int32(564), np.float64(334.0), <MULTIPOLYGON (((752835.151 3770249.383, 752858.571 3770208.034, 752875.214 ...>)",
         "1"
        ],
        [
         "('Khushmaqam', 'Agriculture', np.float64(1.42159), np.int32(506), np.float64(324.0), <MULTIPOLYGON (((752887.599 3770153.739, 752891.477 3770133.238, 752895.171 ...>)",
         "1"
        ],
        [
         "('Khushmaqam', 'Agriculture', np.float64(1.43642), np.int32(676), np.float64(113.0), <MULTIPOLYGON (((753536.94 3770490.219, 753551.229 3770478.182, 753561.005 3...>)",
         "1"
        ],
        [
         "('Khushmaqam', 'Agriculture', np.float64(1.44265), np.int32(193), np.float64(483.0), <MULTIPOLYGON (((753122.798 3769660.273, 753122.94 3769633.848, 753123.199 3...>)",
         "1"
        ],
        [
         "('Khushmaqam', 'Agriculture', np.float64(1.45421), np.int32(625), np.float64(343.0), <MULTIPOLYGON (((752789.864 3770321.115, 752780.831 3770296.183, 752772.067 ...>)",
         "1"
        ],
        [
         "('Khushmaqam', 'Agriculture', np.float64(1.46186), np.int32(85), np.float64(599.0), <MULTIPOLYGON (((753433.421 3769476.925, 753404.301 3769457.879, 753413.445 ...>)",
         "1"
        ],
        [
         "('Khushmaqam', 'Agriculture', np.float64(1.20482), np.int32(288), np.float64(552.0), <MULTIPOLYGON (((753789.913 3769801.634, 753756.976 3769797.216, 753743.629 ...>)",
         "1"
        ],
        [
         "('Khushmaqam', 'Agriculture', np.float64(1.20753), np.int32(284), np.float64(391.0), <MULTIPOLYGON (((752668.858 3769821.106, 752672.692 3769820.265, 752655.485 ...>)",
         "1"
        ],
        [
         "('Khushmaqam', 'Agriculture', np.float64(1.26829), np.int32(49), np.float64(659.0), <MULTIPOLYGON (((754133.776 3769354.085, 754159.778 3769359.114, 754159.071 ...>)",
         "1"
        ]
       ],
       "shape": {
        "columns": 1,
        "rows": 5759
       }
      },
      "text/plain": [
       "Mouza_Name  Landuse_Ma   Area_Acre  FFID  Parcel_ID  geometry                                         \n",
       "Khushmaqam  Agriculture  7.358120   448   197.0      MULTIPOLYGON (((753417.793 3770106.787, 753421...    1\n",
       "Amankot     Agriculture  0.004193   6623  582.0      MULTIPOLYGON (((754519.923 3769858.42, 754516....    1\n",
       "                         0.011662   6518  761.0      MULTIPOLYGON (((754832.496 3770130.628, 754826...    1\n",
       "                         0.017473   6526  646.0      MULTIPOLYGON (((754667.98 3770199.197, 754663....    1\n",
       "                         0.020042   6222  834.0      MULTIPOLYGON (((755434.675 3770424.439, 755411...    1\n",
       "                                                                                                         ..\n",
       "                         0.041556   6626  757.0      MULTIPOLYGON (((754866.603 3770058.608, 754865...    1\n",
       "                         0.043187   4530  1822.0     MULTIPOLYGON (((757240.969 3768293.951, 757222...    1\n",
       "                         0.043764   5851  542.0      MULTIPOLYGON (((754516.921 3769849.678, 754511...    1\n",
       "                         0.043877   4977  1436.0     MULTIPOLYGON (((756504.697 3768948.226, 756491...    1\n",
       "                         0.044446   6357  1856.0     MULTIPOLYGON (((757507.011 3768089.965, 757506...    1\n",
       "Name: count, Length: 5759, dtype: int64"
      ]
     },
     "execution_count": 8,
     "metadata": {},
     "output_type": "execute_result"
    }
   ],
   "source": [
    "#Filtering the features having Landuse_Ma as Agriculture\n",
    "agri_parcel=gdf[gdf['Landuse_Ma'] == 'Agriculture']\n",
    "agri_parcel.value_counts()"
   ]
  },
  {
   "cell_type": "code",
   "execution_count": 9,
   "id": "5018686a",
   "metadata": {},
   "outputs": [
    {
     "data": {
      "text/html": [
       "\n",
       "            <style>\n",
       "                .geemap-dark {\n",
       "                    --jp-widgets-color: white;\n",
       "                    --jp-widgets-label-color: white;\n",
       "                    --jp-ui-font-color1: white;\n",
       "                    --jp-layout-color2: #454545;\n",
       "                    background-color: #383838;\n",
       "                }\n",
       "\n",
       "                .geemap-dark .jupyter-button {\n",
       "                    --jp-layout-color3: #383838;\n",
       "                }\n",
       "\n",
       "                .geemap-colab {\n",
       "                    background-color: var(--colab-primary-surface-color, white);\n",
       "                }\n",
       "\n",
       "                .geemap-colab .jupyter-button {\n",
       "                    --jp-layout-color3: var(--colab-primary-surface-color, white);\n",
       "                }\n",
       "            </style>\n",
       "            "
      ],
      "text/plain": [
       "<IPython.core.display.HTML object>"
      ]
     },
     "metadata": {},
     "output_type": "display_data"
    }
   ],
   "source": [
    "#Converting Agri dataframe to google earth engine\n",
    "agri_feature = geemap.gdf_to_ee(agri_parcel)\n",
    "\n"
   ]
  },
  {
   "cell_type": "code",
   "execution_count": 11,
   "id": "c84d2d09",
   "metadata": {},
   "outputs": [
    {
     "data": {
      "text/html": [
       "\n",
       "            <style>\n",
       "                .geemap-dark {\n",
       "                    --jp-widgets-color: white;\n",
       "                    --jp-widgets-label-color: white;\n",
       "                    --jp-ui-font-color1: white;\n",
       "                    --jp-layout-color2: #454545;\n",
       "                    background-color: #383838;\n",
       "                }\n",
       "\n",
       "                .geemap-dark .jupyter-button {\n",
       "                    --jp-layout-color3: #383838;\n",
       "                }\n",
       "\n",
       "                .geemap-colab {\n",
       "                    background-color: var(--colab-primary-surface-color, white);\n",
       "                }\n",
       "\n",
       "                .geemap-colab .jupyter-button {\n",
       "                    --jp-layout-color3: var(--colab-primary-surface-color, white);\n",
       "                }\n",
       "            </style>\n",
       "            "
      ],
      "text/plain": [
       "<IPython.core.display.HTML object>"
      ]
     },
     "metadata": {},
     "output_type": "display_data"
    }
   ],
   "source": [
    "#Step 1 Processing satellite Imagery\n",
    "\n",
    "# Adding Satellite Imagery and calculating NDVI using Sentinel-2\n",
    "collection = ee.ImageCollection('COPERNICUS/S2_SR_HARMONIZED')\n",
    "# Filter the collection for a specific region and time period\n",
    "start_date = '2021-01-01'\n",
    "end_date = '2024-12-31'\n",
    "# Filter the collection by date and region\n",
    "filtered_collection = collection.filterDate(start_date, end_date).filterBounds(pabbi.geometry()).filter(ee.Filter.lt('CLOUDY_PIXEL_PERCENTAGE', 10))\n",
    "\n",
    "# Select the first image from the filtered collection\n",
    "median_image = filtered_collection.median().clip(pabbi.geometry())\n",
    "\n",
    "# Calculate NDVI\n",
    "ndvi = median_image.normalizedDifference(['B8', 'B4']).rename('NDVI')\n",
    "\n",
    "\n",
    "# Select the bands of interest (e.g.,NVDI)\n",
    "ndvi_vis = {\n",
    "    'min': 0.25,\n",
    "    'max': 0.8,\n",
    "    'palette': ['white', 'yellow', 'green', 'red']  # Red for highest vegetation\n",
    "}\n"
   ]
  },
  {
   "cell_type": "code",
   "execution_count": 12,
   "id": "730af689",
   "metadata": {},
   "outputs": [
    {
     "data": {
      "text/html": [
       "\n",
       "            <style>\n",
       "                .geemap-dark {\n",
       "                    --jp-widgets-color: white;\n",
       "                    --jp-widgets-label-color: white;\n",
       "                    --jp-ui-font-color1: white;\n",
       "                    --jp-layout-color2: #454545;\n",
       "                    background-color: #383838;\n",
       "                }\n",
       "\n",
       "                .geemap-dark .jupyter-button {\n",
       "                    --jp-layout-color3: #383838;\n",
       "                }\n",
       "\n",
       "                .geemap-colab {\n",
       "                    background-color: var(--colab-primary-surface-color, white);\n",
       "                }\n",
       "\n",
       "                .geemap-colab .jupyter-button {\n",
       "                    --jp-layout-color3: var(--colab-primary-surface-color, white);\n",
       "                }\n",
       "            </style>\n",
       "            "
      ],
      "text/plain": [
       "<IPython.core.display.HTML object>"
      ]
     },
     "metadata": {},
     "output_type": "display_data"
    },
    {
     "data": {
      "text/html": [
       "<div><style>:root {\n",
       "  --font-color-primary: var(--jp-content-font-color0, rgba(0, 0, 0, 1));\n",
       "  --font-color-secondary: var(--jp-content-font-color2, rgba(0, 0, 0, 0.7));\n",
       "  --font-color-accent: rgba(123, 31, 162, 1);\n",
       "  --border-color: var(--jp-border-color2, #e0e0e0);\n",
       "  --background-color: var(--jp-layout-color0, white);\n",
       "  --background-color-row-even: var(--jp-layout-color1, white);\n",
       "  --background-color-row-odd: var(--jp-layout-color2, #eeeeee);\n",
       "}\n",
       "\n",
       "html[theme=\"dark\"],\n",
       "body[data-theme=\"dark\"],\n",
       "body.vscode-dark {\n",
       "  --font-color-primary: rgba(255, 255, 255, 1);\n",
       "  --font-color-secondary: rgba(255, 255, 255, 0.7);\n",
       "  --font-color-accent: rgb(173, 132, 190);\n",
       "  --border-color: #2e2e2e;\n",
       "  --background-color: #111111;\n",
       "  --background-color-row-even: #111111;\n",
       "  --background-color-row-odd: #313131;\n",
       "}\n",
       "\n",
       ".eerepr {\n",
       "  padding: 1em;\n",
       "  line-height: 1.5em;\n",
       "  min-width: 300px;\n",
       "  max-width: 1200px;\n",
       "  overflow-y: scroll;\n",
       "  max-height: 600px;\n",
       "  border: 1px solid var(--border-color);\n",
       "  font-family: monospace;\n",
       "  font-size: 14px;\n",
       "}\n",
       "\n",
       ".eerepr li {\n",
       "  list-style-type: none;\n",
       "  margin: 0;\n",
       "}\n",
       "\n",
       ".eerepr ul {\n",
       "  padding-left: 1.5em !important;\n",
       "  margin: 0;\n",
       "}\n",
       "\n",
       ".eerepr > ul {\n",
       "  padding-left: 0 !important;\n",
       "}\n",
       "\n",
       ".eerepr summary {\n",
       "  color: var(--font-color-secondary);\n",
       "  cursor: pointer;\n",
       "  margin: 0;\n",
       "}\n",
       "\n",
       ".eerepr summary:hover {\n",
       "  color: var(--font-color-primary);\n",
       "  background-color: var(--background-color-row-odd)\n",
       "}\n",
       "\n",
       ".ee-k {\n",
       "  color: var(--font-color-accent);\n",
       "  margin-right: 6px;\n",
       "}\n",
       "\n",
       ".ee-v {\n",
       "  color: var(--font-color-primary);\n",
       "}\n",
       "\n",
       ".eerepr details > summary::before {\n",
       "  content: '▼';\n",
       "  display: inline-block;\n",
       "  margin-right: 6px;\n",
       "  transition: transform 0.2s;\n",
       "  transform: rotate(-90deg);\n",
       "}\n",
       "\n",
       ".eerepr details[open] > summary::before {\n",
       "  transform: rotate(0deg);\n",
       "}\n",
       "\n",
       ".eerepr details summary::-webkit-details-marker {\n",
       "  display:none;\n",
       "}\n",
       "\n",
       ".eerepr details summary {\n",
       "  list-style-type: none;\n",
       "}\n",
       "</style><div class='eerepr'><ul><li><span class='ee-v'>604</span></li></ul></div></div>"
      ],
      "text/plain": [
       "<ee.ee_number.Number at 0x1b4df3c0580>"
      ]
     },
     "execution_count": 12,
     "metadata": {},
     "output_type": "execute_result"
    }
   ],
   "source": [
    "filtered_collection.size() # Get the size of the image in bytes\n",
    "\n",
    "# for one year i.e. 2024 the number of images is 135 and for three years i.e. from 2021 to 2024 the number of images is 604"
   ]
  },
  {
   "cell_type": "code",
   "execution_count": 13,
   "id": "79192d36",
   "metadata": {},
   "outputs": [
    {
     "data": {
      "text/html": [
       "\n",
       "            <style>\n",
       "                .geemap-dark {\n",
       "                    --jp-widgets-color: white;\n",
       "                    --jp-widgets-label-color: white;\n",
       "                    --jp-ui-font-color1: white;\n",
       "                    --jp-layout-color2: #454545;\n",
       "                    background-color: #383838;\n",
       "                }\n",
       "\n",
       "                .geemap-dark .jupyter-button {\n",
       "                    --jp-layout-color3: #383838;\n",
       "                }\n",
       "\n",
       "                .geemap-colab {\n",
       "                    background-color: var(--colab-primary-surface-color, white);\n",
       "                }\n",
       "\n",
       "                .geemap-colab .jupyter-button {\n",
       "                    --jp-layout-color3: var(--colab-primary-surface-color, white);\n",
       "                }\n",
       "            </style>\n",
       "            "
      ],
      "text/plain": [
       "<IPython.core.display.HTML object>"
      ]
     },
     "metadata": {},
     "output_type": "display_data"
    }
   ],
   "source": [
    "# Filtering out the Agricultue parcles which are now built up \n",
    "# Step 1: Calculate NDVI for entire area alrady done above\n",
    "\n",
    "# Step 2: Calculate mean NDVI for each agri polygon\n",
    "agri_with_ndvi = ndvi.reduceRegions(\n",
    "    collection=agri_feature,\n",
    "    reducer=ee.Reducer.mean(),\n",
    "    scale=10,\n",
    ")\n",
    "\n",
    "\n",
    "# Step 3: Create a feature collection by Filterout polygons with NDVI less than 0.3\n",
    "# \n",
    "agri_to_builtup = agri_with_ndvi.filter(ee.Filter.lt('mean', 0.3))\n"
   ]
  },
  {
   "cell_type": "code",
   "execution_count": 14,
   "id": "66993c09",
   "metadata": {},
   "outputs": [
    {
     "data": {
      "text/html": [
       "\n",
       "            <style>\n",
       "                .geemap-dark {\n",
       "                    --jp-widgets-color: white;\n",
       "                    --jp-widgets-label-color: white;\n",
       "                    --jp-ui-font-color1: white;\n",
       "                    --jp-layout-color2: #454545;\n",
       "                    background-color: #383838;\n",
       "                }\n",
       "\n",
       "                .geemap-dark .jupyter-button {\n",
       "                    --jp-layout-color3: #383838;\n",
       "                }\n",
       "\n",
       "                .geemap-colab {\n",
       "                    background-color: var(--colab-primary-surface-color, white);\n",
       "                }\n",
       "\n",
       "                .geemap-colab .jupyter-button {\n",
       "                    --jp-layout-color3: var(--colab-primary-surface-color, white);\n",
       "                }\n",
       "            </style>\n",
       "            "
      ],
      "text/plain": [
       "<IPython.core.display.HTML object>"
      ]
     },
     "metadata": {},
     "output_type": "display_data"
    }
   ],
   "source": [
    "#Converting the filtered agri_to_builtup feature collection  to geodataframe\n",
    "builtup_parcels = geemap.ee_to_gdf(agri_to_builtup)\n"
   ]
  },
  {
   "cell_type": "code",
   "execution_count": 11,
   "id": "d8cc8f48",
   "metadata": {},
   "outputs": [
    {
     "data": {
      "text/html": [
       "\n",
       "            <style>\n",
       "                .geemap-dark {\n",
       "                    --jp-widgets-color: white;\n",
       "                    --jp-widgets-label-color: white;\n",
       "                    --jp-ui-font-color1: white;\n",
       "                    --jp-layout-color2: #454545;\n",
       "                    background-color: #383838;\n",
       "                }\n",
       "\n",
       "                .geemap-dark .jupyter-button {\n",
       "                    --jp-layout-color3: #383838;\n",
       "                }\n",
       "\n",
       "                .geemap-colab {\n",
       "                    background-color: var(--colab-primary-surface-color, white);\n",
       "                }\n",
       "\n",
       "                .geemap-colab .jupyter-button {\n",
       "                    --jp-layout-color3: var(--colab-primary-surface-color, white);\n",
       "                }\n",
       "            </style>\n",
       "            "
      ],
      "text/plain": [
       "<IPython.core.display.HTML object>"
      ]
     },
     "metadata": {},
     "output_type": "display_data"
    },
    {
     "data": {
      "text/html": [
       "<div><style>:root {\n",
       "  --font-color-primary: var(--jp-content-font-color0, rgba(0, 0, 0, 1));\n",
       "  --font-color-secondary: var(--jp-content-font-color2, rgba(0, 0, 0, 0.7));\n",
       "  --font-color-accent: rgba(123, 31, 162, 1);\n",
       "  --border-color: var(--jp-border-color2, #e0e0e0);\n",
       "  --background-color: var(--jp-layout-color0, white);\n",
       "  --background-color-row-even: var(--jp-layout-color1, white);\n",
       "  --background-color-row-odd: var(--jp-layout-color2, #eeeeee);\n",
       "}\n",
       "\n",
       "html[theme=\"dark\"],\n",
       "body[data-theme=\"dark\"],\n",
       "body.vscode-dark {\n",
       "  --font-color-primary: rgba(255, 255, 255, 1);\n",
       "  --font-color-secondary: rgba(255, 255, 255, 0.7);\n",
       "  --font-color-accent: rgb(173, 132, 190);\n",
       "  --border-color: #2e2e2e;\n",
       "  --background-color: #111111;\n",
       "  --background-color-row-even: #111111;\n",
       "  --background-color-row-odd: #313131;\n",
       "}\n",
       "\n",
       ".eerepr {\n",
       "  padding: 1em;\n",
       "  line-height: 1.5em;\n",
       "  min-width: 300px;\n",
       "  max-width: 1200px;\n",
       "  overflow-y: scroll;\n",
       "  max-height: 600px;\n",
       "  border: 1px solid var(--border-color);\n",
       "  font-family: monospace;\n",
       "  font-size: 14px;\n",
       "}\n",
       "\n",
       ".eerepr li {\n",
       "  list-style-type: none;\n",
       "  margin: 0;\n",
       "}\n",
       "\n",
       ".eerepr ul {\n",
       "  padding-left: 1.5em !important;\n",
       "  margin: 0;\n",
       "}\n",
       "\n",
       ".eerepr > ul {\n",
       "  padding-left: 0 !important;\n",
       "}\n",
       "\n",
       ".eerepr summary {\n",
       "  color: var(--font-color-secondary);\n",
       "  cursor: pointer;\n",
       "  margin: 0;\n",
       "}\n",
       "\n",
       ".eerepr summary:hover {\n",
       "  color: var(--font-color-primary);\n",
       "  background-color: var(--background-color-row-odd)\n",
       "}\n",
       "\n",
       ".ee-k {\n",
       "  color: var(--font-color-accent);\n",
       "  margin-right: 6px;\n",
       "}\n",
       "\n",
       ".ee-v {\n",
       "  color: var(--font-color-primary);\n",
       "}\n",
       "\n",
       ".eerepr details > summary::before {\n",
       "  content: '▼';\n",
       "  display: inline-block;\n",
       "  margin-right: 6px;\n",
       "  transition: transform 0.2s;\n",
       "  transform: rotate(-90deg);\n",
       "}\n",
       "\n",
       ".eerepr details[open] > summary::before {\n",
       "  transform: rotate(0deg);\n",
       "}\n",
       "\n",
       ".eerepr details summary::-webkit-details-marker {\n",
       "  display:none;\n",
       "}\n",
       "\n",
       ".eerepr details summary {\n",
       "  list-style-type: none;\n",
       "}\n",
       "</style><div class='eerepr'><ul><li><span class='ee-v'>1227</span></li></ul></div></div>"
      ],
      "text/plain": [
       "<ee.ee_number.Number at 0x2ab520eeaa0>"
      ]
     },
     "execution_count": 11,
     "metadata": {},
     "output_type": "execute_result"
    }
   ],
   "source": [
    "# No of parcles converted from agriculture to builtup\n",
    "agri_to_builtup.size()\n",
    "# Performance has been improved and number of builtup parcels has been reduced from 1279 to 1227.\n",
    "# 1227 are the potential parcels which have been converted from agriculture to builtup."
   ]
  },
  {
   "cell_type": "markdown",
   "id": "d4093f02",
   "metadata": {},
   "source": [
    "# Part 2\n",
    "## Working with building dataset geoparquet file"
   ]
  },
  {
   "cell_type": "code",
   "execution_count": 15,
   "id": "8ea63ef5",
   "metadata": {},
   "outputs": [
    {
     "data": {
      "text/html": [
       "\n",
       "            <style>\n",
       "                .geemap-dark {\n",
       "                    --jp-widgets-color: white;\n",
       "                    --jp-widgets-label-color: white;\n",
       "                    --jp-ui-font-color1: white;\n",
       "                    --jp-layout-color2: #454545;\n",
       "                    background-color: #383838;\n",
       "                }\n",
       "\n",
       "                .geemap-dark .jupyter-button {\n",
       "                    --jp-layout-color3: #383838;\n",
       "                }\n",
       "\n",
       "                .geemap-colab {\n",
       "                    background-color: var(--colab-primary-surface-color, white);\n",
       "                }\n",
       "\n",
       "                .geemap-colab .jupyter-button {\n",
       "                    --jp-layout-color3: var(--colab-primary-surface-color, white);\n",
       "                }\n",
       "            </style>\n",
       "            "
      ],
      "text/plain": [
       "<IPython.core.display.HTML object>"
      ]
     },
     "metadata": {},
     "output_type": "display_data"
    }
   ],
   "source": [
    "# Now load the building parquet file and filter the buildings which are in agriculture area.\n",
    "parquet_file = 'building_dataset.geoparquet'\n",
    "# reading the parquet file\n",
    "building = gpd.read_parquet(parquet_file)\n"
   ]
  },
  {
   "cell_type": "code",
   "execution_count": 16,
   "id": "efe4a2fc",
   "metadata": {},
   "outputs": [
    {
     "data": {
      "text/html": [
       "\n",
       "            <style>\n",
       "                .geemap-dark {\n",
       "                    --jp-widgets-color: white;\n",
       "                    --jp-widgets-label-color: white;\n",
       "                    --jp-ui-font-color1: white;\n",
       "                    --jp-layout-color2: #454545;\n",
       "                    background-color: #383838;\n",
       "                }\n",
       "\n",
       "                .geemap-dark .jupyter-button {\n",
       "                    --jp-layout-color3: #383838;\n",
       "                }\n",
       "\n",
       "                .geemap-colab {\n",
       "                    background-color: var(--colab-primary-surface-color, white);\n",
       "                }\n",
       "\n",
       "                .geemap-colab .jupyter-button {\n",
       "                    --jp-layout-color3: var(--colab-primary-surface-color, white);\n",
       "                }\n",
       "            </style>\n",
       "            "
      ],
      "text/plain": [
       "<IPython.core.display.HTML object>"
      ]
     },
     "metadata": {},
     "output_type": "display_data"
    },
    {
     "data": {
      "application/vnd.microsoft.datawrangler.viewer.v0+json": {
       "columns": [
        {
         "name": "index",
         "rawType": "object",
         "type": "string"
        },
        {
         "name": "0",
         "rawType": "int64",
         "type": "integer"
        }
       ],
       "ref": "e0d8a61f-f482-4efe-96c6-f472b149c6a3",
       "rows": [
        [
         "id",
         "36806"
        ],
        [
         "geometry",
         "36806"
        ],
        [
         "theme",
         "36806"
        ],
        [
         "type",
         "36806"
        ],
        [
         "version",
         "36806"
        ],
        [
         "sources",
         "36806"
        ],
        [
         "level",
         "0"
        ],
        [
         "subtype",
         "0"
        ],
        [
         "class",
         "0"
        ],
        [
         "height",
         "0"
        ],
        [
         "names",
         "0"
        ],
        [
         "has_parts",
         "36806"
        ],
        [
         "is_underground",
         "36806"
        ],
        [
         "num_floors",
         "0"
        ],
        [
         "num_floors_underground",
         "0"
        ],
        [
         "min_height",
         "0"
        ],
        [
         "min_floor",
         "0"
        ],
        [
         "facade_color",
         "0"
        ],
        [
         "facade_material",
         "0"
        ],
        [
         "roof_material",
         "0"
        ],
        [
         "roof_shape",
         "0"
        ],
        [
         "roof_direction",
         "0"
        ],
        [
         "roof_orientation",
         "0"
        ],
        [
         "roof_color",
         "0"
        ],
        [
         "roof_height",
         "0"
        ]
       ],
       "shape": {
        "columns": 1,
        "rows": 25
       }
      },
      "text/plain": [
       "id                        36806\n",
       "geometry                  36806\n",
       "theme                     36806\n",
       "type                      36806\n",
       "version                   36806\n",
       "sources                   36806\n",
       "level                         0\n",
       "subtype                       0\n",
       "class                         0\n",
       "height                        0\n",
       "names                         0\n",
       "has_parts                 36806\n",
       "is_underground            36806\n",
       "num_floors                    0\n",
       "num_floors_underground        0\n",
       "min_height                    0\n",
       "min_floor                     0\n",
       "facade_color                  0\n",
       "facade_material               0\n",
       "roof_material                 0\n",
       "roof_shape                    0\n",
       "roof_direction                0\n",
       "roof_orientation              0\n",
       "roof_color                    0\n",
       "roof_height                   0\n",
       "dtype: int64"
      ]
     },
     "execution_count": 16,
     "metadata": {},
     "output_type": "execute_result"
    }
   ],
   "source": [
    "building.count()"
   ]
  },
  {
   "cell_type": "code",
   "execution_count": 17,
   "id": "a16fca91",
   "metadata": {},
   "outputs": [
    {
     "data": {
      "text/html": [
       "\n",
       "            <style>\n",
       "                .geemap-dark {\n",
       "                    --jp-widgets-color: white;\n",
       "                    --jp-widgets-label-color: white;\n",
       "                    --jp-ui-font-color1: white;\n",
       "                    --jp-layout-color2: #454545;\n",
       "                    background-color: #383838;\n",
       "                }\n",
       "\n",
       "                .geemap-dark .jupyter-button {\n",
       "                    --jp-layout-color3: #383838;\n",
       "                }\n",
       "\n",
       "                .geemap-colab {\n",
       "                    background-color: var(--colab-primary-surface-color, white);\n",
       "                }\n",
       "\n",
       "                .geemap-colab .jupyter-button {\n",
       "                    --jp-layout-color3: var(--colab-primary-surface-color, white);\n",
       "                }\n",
       "            </style>\n",
       "            "
      ],
      "text/plain": [
       "<IPython.core.display.HTML object>"
      ]
     },
     "metadata": {},
     "output_type": "display_data"
    },
    {
     "data": {
      "application/vnd.microsoft.datawrangler.viewer.v0+json": {
       "columns": [
        {
         "name": "index",
         "rawType": "object",
         "type": "string"
        },
        {
         "name": "0",
         "rawType": "int64",
         "type": "integer"
        }
       ],
       "ref": "e222bbbc-12f6-455c-8e19-8dfb479e4d20",
       "rows": [
        [
         "geometry",
         "1144"
        ],
        [
         "Area_Acre",
         "1144"
        ],
        [
         "FFID",
         "1144"
        ],
        [
         "Landuse_Ma",
         "1144"
        ],
        [
         "Mouza_Name",
         "1144"
        ],
        [
         "Parcel_ID",
         "1144"
        ],
        [
         "mean",
         "1144"
        ]
       ],
       "shape": {
        "columns": 1,
        "rows": 7
       }
      },
      "text/plain": [
       "geometry      1144\n",
       "Area_Acre     1144\n",
       "FFID          1144\n",
       "Landuse_Ma    1144\n",
       "Mouza_Name    1144\n",
       "Parcel_ID     1144\n",
       "mean          1144\n",
       "dtype: int64"
      ]
     },
     "execution_count": 17,
     "metadata": {},
     "output_type": "execute_result"
    }
   ],
   "source": [
    "from shapely.ops import unary_union\n",
    "\n",
    "# Step 1: Create a single unified geometry from all building polygons\n",
    "building_union = unary_union(building.geometry)\n",
    "\n",
    "# Step 2: Filter builtup_parcels that intersect the building_union\n",
    "intersected_parcels = builtup_parcels[builtup_parcels.geometry.intersects(building_union)]\n",
    "intersected_parcels = intersected_parcels.reset_index(drop=True)\n",
    "intersected_parcels.count()\n",
    "\n"
   ]
  },
  {
   "cell_type": "markdown",
   "id": "535bfe3c",
   "metadata": {},
   "source": [
    "## BuiltUp Parcels:\n",
    "# Out of the potential 1227 parcels, 1144 parcels are confirmed with buildings."
   ]
  },
  {
   "cell_type": "markdown",
   "id": "0f6c33df",
   "metadata": {},
   "source": [
    "### Part 3: Visualizing Building footprint"
   ]
  },
  {
   "cell_type": "code",
   "execution_count": 18,
   "id": "314ae452",
   "metadata": {},
   "outputs": [
    {
     "data": {
      "text/html": [
       "\n",
       "            <style>\n",
       "                .geemap-dark {\n",
       "                    --jp-widgets-color: white;\n",
       "                    --jp-widgets-label-color: white;\n",
       "                    --jp-ui-font-color1: white;\n",
       "                    --jp-layout-color2: #454545;\n",
       "                    background-color: #383838;\n",
       "                }\n",
       "\n",
       "                .geemap-dark .jupyter-button {\n",
       "                    --jp-layout-color3: #383838;\n",
       "                }\n",
       "\n",
       "                .geemap-colab {\n",
       "                    background-color: var(--colab-primary-surface-color, white);\n",
       "                }\n",
       "\n",
       "                .geemap-colab .jupyter-button {\n",
       "                    --jp-layout-color3: var(--colab-primary-surface-color, white);\n",
       "                }\n",
       "            </style>\n",
       "            "
      ],
      "text/plain": [
       "<IPython.core.display.HTML object>"
      ]
     },
     "metadata": {},
     "output_type": "display_data"
    },
    {
     "data": {
      "application/vnd.microsoft.datawrangler.viewer.v0+json": {
       "columns": [
        {
         "name": "index",
         "rawType": "object",
         "type": "string"
        },
        {
         "name": "0",
         "rawType": "int64",
         "type": "integer"
        }
       ],
       "ref": "50da689a-7118-4283-8328-90384ecd7fdb",
       "rows": [
        [
         "id",
         "20372"
        ],
        [
         "geometry",
         "20372"
        ],
        [
         "theme",
         "20372"
        ],
        [
         "type",
         "20372"
        ],
        [
         "version",
         "20372"
        ],
        [
         "sources",
         "20372"
        ],
        [
         "level",
         "0"
        ],
        [
         "subtype",
         "0"
        ],
        [
         "class",
         "0"
        ],
        [
         "height",
         "0"
        ],
        [
         "names",
         "0"
        ],
        [
         "has_parts",
         "20372"
        ],
        [
         "is_underground",
         "20372"
        ],
        [
         "num_floors",
         "0"
        ],
        [
         "num_floors_underground",
         "0"
        ],
        [
         "min_height",
         "0"
        ],
        [
         "min_floor",
         "0"
        ],
        [
         "facade_color",
         "0"
        ],
        [
         "facade_material",
         "0"
        ],
        [
         "roof_material",
         "0"
        ],
        [
         "roof_shape",
         "0"
        ],
        [
         "roof_direction",
         "0"
        ],
        [
         "roof_orientation",
         "0"
        ],
        [
         "roof_color",
         "0"
        ],
        [
         "roof_height",
         "0"
        ],
        [
         "index_right",
         "20372"
        ],
        [
         "Mouza_Name",
         "20372"
        ],
        [
         "Landuse_Ma",
         "19791"
        ],
        [
         "Area_Acre",
         "20372"
        ],
        [
         "FFID",
         "20372"
        ],
        [
         "Parcel_ID",
         "20372"
        ]
       ],
       "shape": {
        "columns": 1,
        "rows": 31
       }
      },
      "text/plain": [
       "id                        20372\n",
       "geometry                  20372\n",
       "theme                     20372\n",
       "type                      20372\n",
       "version                   20372\n",
       "sources                   20372\n",
       "level                         0\n",
       "subtype                       0\n",
       "class                         0\n",
       "height                        0\n",
       "names                         0\n",
       "has_parts                 20372\n",
       "is_underground            20372\n",
       "num_floors                    0\n",
       "num_floors_underground        0\n",
       "min_height                    0\n",
       "min_floor                     0\n",
       "facade_color                  0\n",
       "facade_material               0\n",
       "roof_material                 0\n",
       "roof_shape                    0\n",
       "roof_direction                0\n",
       "roof_orientation              0\n",
       "roof_color                    0\n",
       "roof_height                   0\n",
       "index_right               20372\n",
       "Mouza_Name                20372\n",
       "Landuse_Ma                19791\n",
       "Area_Acre                 20372\n",
       "FFID                      20372\n",
       "Parcel_ID                 20372\n",
       "dtype: int64"
      ]
     },
     "execution_count": 18,
     "metadata": {},
     "output_type": "execute_result"
    }
   ],
   "source": [
    "# Ensure both GeoDataFrames are in the same CRS\n",
    "building = building.to_crs(gdf.crs)\n",
    "\n",
    "# Spatial join — keep only buildings that intersect with gdf polygons\n",
    "buildings_in_gdf = gpd.sjoin(building, gdf, how=\"inner\", predicate=\"intersects\")\n",
    "\n",
    "buildings_in_gdf.count()"
   ]
  },
  {
   "cell_type": "code",
   "execution_count": 19,
   "id": "32608bd4",
   "metadata": {},
   "outputs": [
    {
     "data": {
      "text/html": [
       "\n",
       "            <style>\n",
       "                .geemap-dark {\n",
       "                    --jp-widgets-color: white;\n",
       "                    --jp-widgets-label-color: white;\n",
       "                    --jp-ui-font-color1: white;\n",
       "                    --jp-layout-color2: #454545;\n",
       "                    background-color: #383838;\n",
       "                }\n",
       "\n",
       "                .geemap-dark .jupyter-button {\n",
       "                    --jp-layout-color3: #383838;\n",
       "                }\n",
       "\n",
       "                .geemap-colab {\n",
       "                    background-color: var(--colab-primary-surface-color, white);\n",
       "                }\n",
       "\n",
       "                .geemap-colab .jupyter-button {\n",
       "                    --jp-layout-color3: var(--colab-primary-surface-color, white);\n",
       "                }\n",
       "            </style>\n",
       "            "
      ],
      "text/plain": [
       "<IPython.core.display.HTML object>"
      ]
     },
     "metadata": {},
     "output_type": "display_data"
    }
   ],
   "source": [
    "agristyle ={\"color\": \"lightgreen\", \"fillColor\": \" \", \"fillOpacity\": 0.1, \"weight\": 2}\n",
    "\n",
    "pbuiltupstyle = {\"color\": \"yellow\", \"fillColor\": \"yellow\", \"fillOpacity\": 0.1, \"weight\": 2}\n",
    "\n",
    "buildingstyle ={\"color\": \"pink\", \"fillColor\": \"pink\", \"fillOpacity\": 0.1, \"weight\": 2}\n",
    "\n",
    "bfootprintstyle ={\"color\": \"blue\", \"fillColor\": \"blue\", \"fillOpacity\": 0.4, \"weight\": 1}"
   ]
  },
  {
   "cell_type": "code",
   "execution_count": 1,
   "id": "690f5643",
   "metadata": {},
   "outputs": [
    {
     "ename": "NameError",
     "evalue": "name 'leafmap' is not defined",
     "output_type": "error",
     "traceback": [
      "\u001b[1;31m---------------------------------------------------------------------------\u001b[0m",
      "\u001b[1;31mNameError\u001b[0m                                 Traceback (most recent call last)",
      "Cell \u001b[1;32mIn[1], line 2\u001b[0m\n\u001b[0;32m      1\u001b[0m \u001b[38;5;66;03m# Plotting agri_features and agri_to_builtup\u001b[39;00m\n\u001b[1;32m----> 2\u001b[0m m \u001b[38;5;241m=\u001b[39m \u001b[43mleafmap\u001b[49m\u001b[38;5;241m.\u001b[39mMap(zoom_control\u001b[38;5;241m=\u001b[39m\u001b[38;5;28;01mFalse\u001b[39;00m,\n\u001b[0;32m      3\u001b[0m     draw_control\u001b[38;5;241m=\u001b[39m\u001b[38;5;28;01mFalse\u001b[39;00m,\n\u001b[0;32m      4\u001b[0m     scale_control\u001b[38;5;241m=\u001b[39m\u001b[38;5;28;01mFalse\u001b[39;00m,\n\u001b[0;32m      5\u001b[0m     fullscreen_control\u001b[38;5;241m=\u001b[39m\u001b[38;5;28;01mFalse\u001b[39;00m,)\n\u001b[0;32m      6\u001b[0m m\u001b[38;5;241m.\u001b[39madd_layer_control()\n\u001b[0;32m      7\u001b[0m m\u001b[38;5;241m.\u001b[39madd_basemap(\u001b[38;5;124m'\u001b[39m\u001b[38;5;124mSATELLITE\u001b[39m\u001b[38;5;124m'\u001b[39m)\n",
      "\u001b[1;31mNameError\u001b[0m: name 'leafmap' is not defined"
     ]
    }
   ],
   "source": [
    "# Plotting agri_features and agri_to_builtup\n",
    "m = leafmap.Map(zoom_control=False,\n",
    "    draw_control=False,\n",
    "    scale_control=False,\n",
    "    fullscreen_control=False,)\n",
    "m.add_layer_control()\n",
    "m.add_basemap('SATELLITE')\n",
    "\n",
    "m.add_gdf(agri_parcel,style=agristyle,layer_name= 'Massavi Agri Parcels')\n",
    "# visualizing the building footprint\n",
    "m.add_gdf(buildings_in_gdf, style=bfootprintstyle, layer_name='Building Footprint')\n",
    "m.add_gdf(intersected_parcels, style=buildingstyle, layer_name='Builtup Parcels',zoom_to_layer=True)\n",
    "\n",
    "#m.add_gdf(builtup_parcels, style=pbuiltupstyle, layer_name='Potential Builtup Parcels',zoom_to_layer=True) \n",
    "\n",
    "\n",
    "\n",
    "\n",
    "m\n"
   ]
  }
 ],
 "metadata": {
  "kernelspec": {
   "display_name": "Python 3",
   "language": "python",
   "name": "python3"
  },
  "language_info": {
   "codemirror_mode": {
    "name": "ipython",
    "version": 3
   },
   "file_extension": ".py",
   "mimetype": "text/x-python",
   "name": "python",
   "nbconvert_exporter": "python",
   "pygments_lexer": "ipython3",
   "version": "3.10.17"
  }
 },
 "nbformat": 4,
 "nbformat_minor": 5
}
