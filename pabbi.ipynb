{
 "cells": [
  {
   "cell_type": "markdown",
   "id": "6f01f93d",
   "metadata": {},
   "source": [
    "# Pabbi Land Cover Classification Project"
   ]
  },
  {
   "cell_type": "code",
   "execution_count": 1,
   "id": "53b4635d",
   "metadata": {},
   "outputs": [],
   "source": [
    "import ee\n",
    "import geemap"
   ]
  },
  {
   "cell_type": "code",
   "execution_count": 2,
   "id": "3f30c687",
   "metadata": {},
   "outputs": [
    {
     "data": {
      "text/html": [
       "\n",
       "            <style>\n",
       "                .geemap-dark {\n",
       "                    --jp-widgets-color: white;\n",
       "                    --jp-widgets-label-color: white;\n",
       "                    --jp-ui-font-color1: white;\n",
       "                    --jp-layout-color2: #454545;\n",
       "                    background-color: #383838;\n",
       "                }\n",
       "\n",
       "                .geemap-dark .jupyter-button {\n",
       "                    --jp-layout-color3: #383838;\n",
       "                }\n",
       "\n",
       "                .geemap-colab {\n",
       "                    background-color: var(--colab-primary-surface-color, white);\n",
       "                }\n",
       "\n",
       "                .geemap-colab .jupyter-button {\n",
       "                    --jp-layout-color3: var(--colab-primary-surface-color, white);\n",
       "                }\n",
       "            </style>\n",
       "            "
      ],
      "text/plain": [
       "<IPython.core.display.HTML object>"
      ]
     },
     "metadata": {},
     "output_type": "display_data"
    }
   ],
   "source": [
    "geemap.ee.Initialize()\n"
   ]
  },
  {
   "cell_type": "code",
   "execution_count": 5,
   "id": "089690f4",
   "metadata": {},
   "outputs": [
    {
     "data": {
      "text/html": [
       "\n",
       "            <style>\n",
       "                .geemap-dark {\n",
       "                    --jp-widgets-color: white;\n",
       "                    --jp-widgets-label-color: white;\n",
       "                    --jp-ui-font-color1: white;\n",
       "                    --jp-layout-color2: #454545;\n",
       "                    background-color: #383838;\n",
       "                }\n",
       "\n",
       "                .geemap-dark .jupyter-button {\n",
       "                    --jp-layout-color3: #383838;\n",
       "                }\n",
       "\n",
       "                .geemap-colab {\n",
       "                    background-color: var(--colab-primary-surface-color, white);\n",
       "                }\n",
       "\n",
       "                .geemap-colab .jupyter-button {\n",
       "                    --jp-layout-color3: var(--colab-primary-surface-color, white);\n",
       "                }\n",
       "            </style>\n",
       "            "
      ],
      "text/plain": [
       "<IPython.core.display.HTML object>"
      ]
     },
     "metadata": {},
     "output_type": "display_data"
    },
    {
     "name": "stderr",
     "output_type": "stream",
     "text": [
      "Downloading...\n",
      "From: https://github.com/code4geoai/gee/releases/download/0.1/pabbigeojson.geojson\n",
      "To: C:\\Users\\USER\\AppData\\Local\\Temp\\24ba2a8a-73f5-4465-af50-9346dcc07fcb.geojson\n",
      "100%|██████████| 4.57M/4.57M [00:04<00:00, 969kB/s] \n"
     ]
    }
   ],
   "source": [
    "url = 'https://github.com/code4geoai/gee/releases/download/0.1/pabbigeojson.geojson'\n",
    "#url = \"https://github.com/code4geoai/gee/releases/download/0.1/Pabbi_Mouzas.zip\"\n",
    "m = geemap.Map()\n",
    "fc = geemap.geojson_to_ee(url)\n",
    "#style = {'color': 'red', 'width': 2}\n",
    "#fc = geemap.shp_to_ee (url)\n",
    "#m.add_layer(fc, {}, 'Pabbi Mouzas')\n",
    "#m.center_object(fc, 10)\n",
    "#m"
   ]
  },
  {
   "cell_type": "code",
   "execution_count": 6,
   "id": "74baeb43",
   "metadata": {},
   "outputs": [
    {
     "data": {
      "text/html": [
       "\n",
       "            <style>\n",
       "                .geemap-dark {\n",
       "                    --jp-widgets-color: white;\n",
       "                    --jp-widgets-label-color: white;\n",
       "                    --jp-ui-font-color1: white;\n",
       "                    --jp-layout-color2: #454545;\n",
       "                    background-color: #383838;\n",
       "                }\n",
       "\n",
       "                .geemap-dark .jupyter-button {\n",
       "                    --jp-layout-color3: #383838;\n",
       "                }\n",
       "\n",
       "                .geemap-colab {\n",
       "                    background-color: var(--colab-primary-surface-color, white);\n",
       "                }\n",
       "\n",
       "                .geemap-colab .jupyter-button {\n",
       "                    --jp-layout-color3: var(--colab-primary-surface-color, white);\n",
       "                }\n",
       "            </style>\n",
       "            "
      ],
      "text/plain": [
       "<IPython.core.display.HTML object>"
      ]
     },
     "metadata": {},
     "output_type": "display_data"
    },
    {
     "name": "stderr",
     "output_type": "stream",
     "text": [
      "Downloading...\n",
      "From: https://github.com/code4geoai/gee/releases/download/0.1/pabbigeojson.geojson\n",
      "To: C:\\Users\\USER\\AppData\\Local\\Temp\\9eba57ab-7c7a-465e-aa09-4beb18e6f478.geojson\n",
      "100%|██████████| 4.57M/4.57M [00:11<00:00, 409kB/s]\n"
     ]
    },
    {
     "data": {
      "text/plain": [
       "{'type': 'Feature',\n",
       " 'geometry': {'geodesic': False,\n",
       "  'type': 'MultiPolygon',\n",
       "  'coordinates': [[[[753923.0771000003, 3769111.1411000006],\n",
       "     [753894.5981000001, 3769108.1548999995],\n",
       "     [753894.5959999999, 3769123.1240999997],\n",
       "     [753917.5783000002, 3769127.4113],\n",
       "     [753923.0771000003, 3769111.1411000006]]]]},\n",
       " 'id': '0',\n",
       " 'properties': {'Area_Acre': 0.101785,\n",
       "  'FFID': 1,\n",
       "  'Landuse_Ma': 'Agriculture',\n",
       "  'Mouza_Name': 'Khushmaqam',\n",
       "  'Parcel_ID': 668}}"
      ]
     },
     "execution_count": 6,
     "metadata": {},
     "output_type": "execute_result"
    }
   ],
   "source": [
    "geemap.geojson_to_ee(url).first().getInfo()"
   ]
  },
  {
   "cell_type": "code",
   "execution_count": 50,
   "id": "39dd2e34",
   "metadata": {},
   "outputs": [
    {
     "data": {
      "text/html": [
       "\n",
       "            <style>\n",
       "                .geemap-dark {\n",
       "                    --jp-widgets-color: white;\n",
       "                    --jp-widgets-label-color: white;\n",
       "                    --jp-ui-font-color1: white;\n",
       "                    --jp-layout-color2: #454545;\n",
       "                    background-color: #383838;\n",
       "                }\n",
       "\n",
       "                .geemap-dark .jupyter-button {\n",
       "                    --jp-layout-color3: #383838;\n",
       "                }\n",
       "\n",
       "                .geemap-colab {\n",
       "                    background-color: var(--colab-primary-surface-color, white);\n",
       "                }\n",
       "\n",
       "                .geemap-colab .jupyter-button {\n",
       "                    --jp-layout-color3: var(--colab-primary-surface-color, white);\n",
       "                }\n",
       "            </style>\n",
       "            "
      ],
      "text/plain": [
       "<IPython.core.display.HTML object>"
      ]
     },
     "metadata": {},
     "output_type": "display_data"
    }
   ],
   "source": [
    "import geopandas as gpd\n",
    "\n",
    "filepath = \"D:\\Trainings\\Pabbi_Mouzas\\pabbigeojson.geojson\"\n",
    "gdf = gpd.read_file(filepath)\n",
    "pabbi= geemap.gdf_to_ee(gdf)\n"
   ]
  },
  {
   "cell_type": "code",
   "execution_count": null,
   "id": "3100dc5e",
   "metadata": {},
   "outputs": [],
   "source": []
  },
  {
   "cell_type": "code",
   "execution_count": 51,
   "id": "96bae0f8",
   "metadata": {},
   "outputs": [
    {
     "data": {
      "text/html": [
       "\n",
       "            <style>\n",
       "                .geemap-dark {\n",
       "                    --jp-widgets-color: white;\n",
       "                    --jp-widgets-label-color: white;\n",
       "                    --jp-ui-font-color1: white;\n",
       "                    --jp-layout-color2: #454545;\n",
       "                    background-color: #383838;\n",
       "                }\n",
       "\n",
       "                .geemap-dark .jupyter-button {\n",
       "                    --jp-layout-color3: #383838;\n",
       "                }\n",
       "\n",
       "                .geemap-colab {\n",
       "                    background-color: var(--colab-primary-surface-color, white);\n",
       "                }\n",
       "\n",
       "                .geemap-colab .jupyter-button {\n",
       "                    --jp-layout-color3: var(--colab-primary-surface-color, white);\n",
       "                }\n",
       "            </style>\n",
       "            "
      ],
      "text/plain": [
       "<IPython.core.display.HTML object>"
      ]
     },
     "metadata": {},
     "output_type": "display_data"
    },
    {
     "data": {
      "text/plain": [
       "Landuse_Ma\n",
       "Agriculture     5759\n",
       "Stream           302\n",
       "Other            229\n",
       "Road/Streets     172\n",
       "Graveyard         29\n",
       "Built up          24\n",
       "Name: count, dtype: int64"
      ]
     },
     "execution_count": 51,
     "metadata": {},
     "output_type": "execute_result"
    }
   ],
   "source": [
    "# Applying filters on the features\n",
    "gdf.head()\n",
    "# Counting Landuse_Ma field having value Agriculture\n",
    "gdf['Landuse_Ma'].value_counts()"
   ]
  },
  {
   "cell_type": "code",
   "execution_count": 52,
   "id": "71b5b436",
   "metadata": {},
   "outputs": [
    {
     "data": {
      "text/html": [
       "\n",
       "            <style>\n",
       "                .geemap-dark {\n",
       "                    --jp-widgets-color: white;\n",
       "                    --jp-widgets-label-color: white;\n",
       "                    --jp-ui-font-color1: white;\n",
       "                    --jp-layout-color2: #454545;\n",
       "                    background-color: #383838;\n",
       "                }\n",
       "\n",
       "                .geemap-dark .jupyter-button {\n",
       "                    --jp-layout-color3: #383838;\n",
       "                }\n",
       "\n",
       "                .geemap-colab {\n",
       "                    background-color: var(--colab-primary-surface-color, white);\n",
       "                }\n",
       "\n",
       "                .geemap-colab .jupyter-button {\n",
       "                    --jp-layout-color3: var(--colab-primary-surface-color, white);\n",
       "                }\n",
       "            </style>\n",
       "            "
      ],
      "text/plain": [
       "<IPython.core.display.HTML object>"
      ]
     },
     "metadata": {},
     "output_type": "display_data"
    }
   ],
   "source": [
    "\n",
    "#Filtering the features having Landuse_Ma as Builtup\n",
    "builtup=gdf[gdf['Landuse_Ma'] == 'Built up']\n",
    "\n",
    "builtstyle = {'color': 'red', \n",
    "         'width': 1,\n",
    "         'fillColor': '00000000',\n",
    "            \n",
    "         }"
   ]
  },
  {
   "cell_type": "code",
   "execution_count": 53,
   "id": "5960bd4a",
   "metadata": {},
   "outputs": [
    {
     "data": {
      "text/html": [
       "\n",
       "            <style>\n",
       "                .geemap-dark {\n",
       "                    --jp-widgets-color: white;\n",
       "                    --jp-widgets-label-color: white;\n",
       "                    --jp-ui-font-color1: white;\n",
       "                    --jp-layout-color2: #454545;\n",
       "                    background-color: #383838;\n",
       "                }\n",
       "\n",
       "                .geemap-dark .jupyter-button {\n",
       "                    --jp-layout-color3: #383838;\n",
       "                }\n",
       "\n",
       "                .geemap-colab {\n",
       "                    background-color: var(--colab-primary-surface-color, white);\n",
       "                }\n",
       "\n",
       "                .geemap-colab .jupyter-button {\n",
       "                    --jp-layout-color3: var(--colab-primary-surface-color, white);\n",
       "                }\n",
       "            </style>\n",
       "            "
      ],
      "text/plain": [
       "<IPython.core.display.HTML object>"
      ]
     },
     "metadata": {},
     "output_type": "display_data"
    }
   ],
   "source": [
    "#Filtering the features having Landuse_Ma as Agriculture\n",
    "agri=gdf[gdf['Landuse_Ma'] == 'Agriculture']\n",
    "\n",
    "agristyle = {'color': 'pink', \n",
    "         'width': 1,\n",
    "         'fillColor': '00000000',\n",
    "            \n",
    "         }"
   ]
  },
  {
   "cell_type": "code",
   "execution_count": 54,
   "id": "f85b9f79",
   "metadata": {},
   "outputs": [
    {
     "data": {
      "text/html": [
       "\n",
       "            <style>\n",
       "                .geemap-dark {\n",
       "                    --jp-widgets-color: white;\n",
       "                    --jp-widgets-label-color: white;\n",
       "                    --jp-ui-font-color1: white;\n",
       "                    --jp-layout-color2: #454545;\n",
       "                    background-color: #383838;\n",
       "                }\n",
       "\n",
       "                .geemap-dark .jupyter-button {\n",
       "                    --jp-layout-color3: #383838;\n",
       "                }\n",
       "\n",
       "                .geemap-colab {\n",
       "                    background-color: var(--colab-primary-surface-color, white);\n",
       "                }\n",
       "\n",
       "                .geemap-colab .jupyter-button {\n",
       "                    --jp-layout-color3: var(--colab-primary-surface-color, white);\n",
       "                }\n",
       "            </style>\n",
       "            "
      ],
      "text/plain": [
       "<IPython.core.display.HTML object>"
      ]
     },
     "metadata": {},
     "output_type": "display_data"
    }
   ],
   "source": [
    "#Filtering the features having Landuse_Ma as Graveyard\n",
    "graveyard=gdf[gdf['Landuse_Ma'] == 'Graveyard']\n",
    "\n",
    "gravestyle = {'color': 'black', \n",
    "         'width': 1,\n",
    "         'fillColor': '00000000',\n",
    "            \n",
    "         }"
   ]
  },
  {
   "cell_type": "code",
   "execution_count": 55,
   "id": "27d75c93",
   "metadata": {},
   "outputs": [
    {
     "data": {
      "text/html": [
       "\n",
       "            <style>\n",
       "                .geemap-dark {\n",
       "                    --jp-widgets-color: white;\n",
       "                    --jp-widgets-label-color: white;\n",
       "                    --jp-ui-font-color1: white;\n",
       "                    --jp-layout-color2: #454545;\n",
       "                    background-color: #383838;\n",
       "                }\n",
       "\n",
       "                .geemap-dark .jupyter-button {\n",
       "                    --jp-layout-color3: #383838;\n",
       "                }\n",
       "\n",
       "                .geemap-colab {\n",
       "                    background-color: var(--colab-primary-surface-color, white);\n",
       "                }\n",
       "\n",
       "                .geemap-colab .jupyter-button {\n",
       "                    --jp-layout-color3: var(--colab-primary-surface-color, white);\n",
       "                }\n",
       "            </style>\n",
       "            "
      ],
      "text/plain": [
       "<IPython.core.display.HTML object>"
      ]
     },
     "metadata": {},
     "output_type": "display_data"
    },
    {
     "data": {
      "application/vnd.jupyter.widget-view+json": {
       "model_id": "8e3dbfa61f744d559a7cc6f30f9090de",
       "version_major": 2,
       "version_minor": 0
      },
      "text/plain": [
       "Map(center=[34.02510458074524, 71.77439125564787], controls=(WidgetControl(options=['position', 'transparent_b…"
      ]
     },
     "execution_count": 55,
     "metadata": {},
     "output_type": "execute_result"
    }
   ],
   "source": [
    "m1 = geemap.Map()\n",
    "style = {'color': 'blue', \n",
    "         'width': 1,\n",
    "         'fillColor': '00000000',\n",
    "             \n",
    "         }\n",
    "m1.add_basemap('HYBRID')\n",
    "m1.addLayer(pabbi.style(**style), {}, 'Pabbi Mouzas')\n",
    "m1.add_gdf(builtup, layer_name='Built up', style=builtstyle)\n",
    "m1.add_gdf(agri, layer_name='Agriculture', style=agristyle)\n",
    "m1.add_gdf(graveyard, layer_name='Graveyard', style=gravestyle)\n",
    "m1.center_object(pabbi, 10)\n",
    "m1"
   ]
  },
  {
   "cell_type": "code",
   "execution_count": null,
   "id": "18941763",
   "metadata": {},
   "outputs": [],
   "source": [
    "\n",
    "style = {'color': 'blue', \n",
    "         'width': 1,\n",
    "         'fillColor': '00000000',\n",
    "             \n",
    "         }"
   ]
  },
  {
   "cell_type": "code",
   "execution_count": 63,
   "id": "67c4d3c9",
   "metadata": {},
   "outputs": [
    {
     "data": {
      "text/html": [
       "\n",
       "            <style>\n",
       "                .geemap-dark {\n",
       "                    --jp-widgets-color: white;\n",
       "                    --jp-widgets-label-color: white;\n",
       "                    --jp-ui-font-color1: white;\n",
       "                    --jp-layout-color2: #454545;\n",
       "                    background-color: #383838;\n",
       "                }\n",
       "\n",
       "                .geemap-dark .jupyter-button {\n",
       "                    --jp-layout-color3: #383838;\n",
       "                }\n",
       "\n",
       "                .geemap-colab {\n",
       "                    background-color: var(--colab-primary-surface-color, white);\n",
       "                }\n",
       "\n",
       "                .geemap-colab .jupyter-button {\n",
       "                    --jp-layout-color3: var(--colab-primary-surface-color, white);\n",
       "                }\n",
       "            </style>\n",
       "            "
      ],
      "text/plain": [
       "<IPython.core.display.HTML object>"
      ]
     },
     "metadata": {},
     "output_type": "display_data"
    },
    {
     "data": {
      "application/vnd.jupyter.widget-view+json": {
       "model_id": "4da850f844284951a6486cd52d82bd2a",
       "version_major": 2,
       "version_minor": 0
      },
      "text/plain": [
       "Map(center=[34.02510458074524, 71.77439125564787], controls=(WidgetControl(options=['position', 'transparent_b…"
      ]
     },
     "execution_count": 63,
     "metadata": {},
     "output_type": "execute_result"
    }
   ],
   "source": [
    "p = geemap.Map()\n",
    "p.add_basemap('HYBRID')\n",
    "\n",
    "collection = ee.ImageCollection('COPERNICUS/S2_SR_HARMONIZED')\n",
    "# Filter the collection for a specific region and time period\n",
    "start_date = '2024-01-01'\n",
    "end_date = '2024-12-31'\n",
    "# Filter the collection by date and region\n",
    "filtered_collection = collection.filterDate(start_date, end_date).filterBounds(pabbi.geometry()).filter(ee.Filter.lt('CLOUDY_PIXEL_PERCENTAGE', 10))\n",
    "\n",
    "# Select the first image from the filtered collection\n",
    "median_image = filtered_collection.median().clip(pabbi.geometry())\n",
    "\n",
    "# Calculate NDVI\n",
    "ndvi = median_image.normalizedDifference(['B8', 'B4']).rename('NDVI')\n",
    "\n",
    "# Select the bands of interest (e.g.,NVDI)\n",
    "ndvi_vis = {\n",
    "    'min': 0.25,\n",
    "    'max': 0.8,\n",
    "    'palette': ['white', 'yellow', 'green', 'red']  # Red for highest vegetation\n",
    "}\n",
    "\n",
    "# Add the image to the map\n",
    "p.addLayer(ndvi, ndvi_vis,  name='Median NDVI')\n",
    "\n",
    "p.add_colorbar(\n",
    "    vis_params=ndvi_vis,\n",
    "    label='NDVI',\n",
    "    orientation='horizontal',\n",
    "    position='bottomright',\n",
    "    layer_name = 'Median NDVI',\n",
    "    \n",
    ")\n",
    "\n",
    "p.addLayer(pabbi.style(**style), {}, 'Pabbi Mouzas')\n",
    "p.add_gdf(builtup, layer_name='Built up', style=builtstyle)\n",
    "p.add_gdf(agri, layer_name='Agriculture', style=agristyle)\n",
    "p.add_gdf(graveyard, layer_name='Graveyard', style=gravestyle)\n",
    "\n",
    "\n",
    "\n",
    "p.center_object(pabbi, 10)\n",
    "\n",
    "p\n",
    "\n"
   ]
  },
  {
   "cell_type": "markdown",
   "id": "0db0d6ac",
   "metadata": {},
   "source": [
    "# Selecting only those parcels which have ndvi value between .3 and 0.7 "
   ]
  },
  {
   "cell_type": "code",
   "execution_count": 64,
   "id": "7edb73dc",
   "metadata": {},
   "outputs": [
    {
     "data": {
      "text/html": [
       "\n",
       "            <style>\n",
       "                .geemap-dark {\n",
       "                    --jp-widgets-color: white;\n",
       "                    --jp-widgets-label-color: white;\n",
       "                    --jp-ui-font-color1: white;\n",
       "                    --jp-layout-color2: #454545;\n",
       "                    background-color: #383838;\n",
       "                }\n",
       "\n",
       "                .geemap-dark .jupyter-button {\n",
       "                    --jp-layout-color3: #383838;\n",
       "                }\n",
       "\n",
       "                .geemap-colab {\n",
       "                    background-color: var(--colab-primary-surface-color, white);\n",
       "                }\n",
       "\n",
       "                .geemap-colab .jupyter-button {\n",
       "                    --jp-layout-color3: var(--colab-primary-surface-color, white);\n",
       "                }\n",
       "            </style>\n",
       "            "
      ],
      "text/plain": [
       "<IPython.core.display.HTML object>"
      ]
     },
     "metadata": {},
     "output_type": "display_data"
    }
   ],
   "source": [
    "# Step 1: Threshold NDVI values\n",
    "ndvi_mask = ndvi.gt(0.3).And(ndvi.lt(0.7))\n",
    "\n",
    "# Step 2: Convert boolean mask to integer (1s and 0s)\n",
    "ndvi_mask_int = ndvi_mask.updateMask(ndvi_mask).multiply(1).toInt()\n",
    "\n",
    "# Step 3: Convert NDVI mask to vector polygons\n",
    "ndvi_vector = ndvi_mask_int.reduceToVectors(\n",
    "    geometry=pabbi.geometry(),\n",
    "    scale=10,\n",
    "    geometryType='polygon',\n",
    "    labelProperty='ndvi_class',\n",
    "    maxPixels=1e13\n",
    ")\n",
    "\n",
    "# Step 4: Spatial join - filter pabbi polygons that intersect with NDVI areas\n",
    "pabbi_ndvi_filtered = pabbi.filterBounds(ndvi_vector.geometry())\n",
    "\n",
    "# Style the filtered pabbi\n",
    "highlight_style = {'color': 'blue', 'fillColor': '00000000'}\n",
    "\n",
    "# Add to map\n",
    "p.addLayer(ndvi_mask_int, {'min': 0, 'max': 1, 'palette': ['white', 'green'],'opacity':0.4}, 'NDVI Mask 0.3–0.7')\n",
    "#p.addLayer(pabbi_ndvi_filtered.style(**highlight_style), {}, 'Pabbi in NDVI Range')\n"
   ]
  },
  {
   "cell_type": "code",
   "execution_count": 65,
   "id": "946b7203",
   "metadata": {},
   "outputs": [
    {
     "data": {
      "text/html": [
       "\n",
       "            <style>\n",
       "                .geemap-dark {\n",
       "                    --jp-widgets-color: white;\n",
       "                    --jp-widgets-label-color: white;\n",
       "                    --jp-ui-font-color1: white;\n",
       "                    --jp-layout-color2: #454545;\n",
       "                    background-color: #383838;\n",
       "                }\n",
       "\n",
       "                .geemap-dark .jupyter-button {\n",
       "                    --jp-layout-color3: #383838;\n",
       "                }\n",
       "\n",
       "                .geemap-colab {\n",
       "                    background-color: var(--colab-primary-surface-color, white);\n",
       "                }\n",
       "\n",
       "                .geemap-colab .jupyter-button {\n",
       "                    --jp-layout-color3: var(--colab-primary-surface-color, white);\n",
       "                }\n",
       "            </style>\n",
       "            "
      ],
      "text/plain": [
       "<IPython.core.display.HTML object>"
      ]
     },
     "metadata": {},
     "output_type": "display_data"
    },
    {
     "data": {
      "application/vnd.jupyter.widget-view+json": {
       "model_id": "4da850f844284951a6486cd52d82bd2a",
       "version_major": 2,
       "version_minor": 0
      },
      "text/plain": [
       "Map(bottom=1675472.0, center=[34.022786817002, 71.78328837919378], controls=(WidgetControl(options=['position'…"
      ]
     },
     "execution_count": 65,
     "metadata": {},
     "output_type": "execute_result"
    }
   ],
   "source": [
    "p"
   ]
  }
 ],
 "metadata": {
  "kernelspec": {
   "display_name": "Python 3",
   "language": "python",
   "name": "python3"
  },
  "language_info": {
   "codemirror_mode": {
    "name": "ipython",
    "version": 3
   },
   "file_extension": ".py",
   "mimetype": "text/x-python",
   "name": "python",
   "nbconvert_exporter": "python",
   "pygments_lexer": "ipython3",
   "version": "3.10.17"
  }
 },
 "nbformat": 4,
 "nbformat_minor": 5
}
