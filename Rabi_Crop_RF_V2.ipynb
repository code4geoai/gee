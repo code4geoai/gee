{
 "cells": [
  {
   "cell_type": "code",
   "execution_count": 2,
   "id": "6dd4d5cb",
   "metadata": {},
   "outputs": [],
   "source": [
    "import geopandas as gpd\n",
    "import pandas as pd\n",
    "import geemap\n",
    "import ee\n"
   ]
  },
  {
   "cell_type": "code",
   "execution_count": 3,
   "id": "3744485d",
   "metadata": {},
   "outputs": [
    {
     "data": {
      "text/html": [
       "\n",
       "            <style>\n",
       "                .geemap-dark {\n",
       "                    --jp-widgets-color: white;\n",
       "                    --jp-widgets-label-color: white;\n",
       "                    --jp-ui-font-color1: white;\n",
       "                    --jp-layout-color2: #454545;\n",
       "                    background-color: #383838;\n",
       "                }\n",
       "\n",
       "                .geemap-dark .jupyter-button {\n",
       "                    --jp-layout-color3: #383838;\n",
       "                }\n",
       "\n",
       "                .geemap-colab {\n",
       "                    background-color: var(--colab-primary-surface-color, white);\n",
       "                }\n",
       "\n",
       "                .geemap-colab .jupyter-button {\n",
       "                    --jp-layout-color3: var(--colab-primary-surface-color, white);\n",
       "                }\n",
       "            </style>\n",
       "            "
      ],
      "text/plain": [
       "<IPython.core.display.HTML object>"
      ]
     },
     "metadata": {},
     "output_type": "display_data"
    },
    {
     "name": "stdout",
     "output_type": "stream",
     "text": [
      "7012\n",
      "Total Size of Crop data: 587\n",
      "Details of Crop are : Crop_Type\n",
      "Tomato                        131\n",
      "Sugarcane                     123\n",
      "Persian Clover                104\n",
      "Barren                         58\n",
      "Corn                           37\n",
      "Wheat                          31\n",
      "Builtup                        25\n",
      "Orchard / Persian clover       15\n",
      "Forest Tree                     9\n",
      "Water Body                      9\n",
      "Orchard / Wheat                 8\n",
      "Sugarcane / Persian Clover      6\n",
      "Lady Finger                     6\n",
      "Orchard                         6\n",
      "Indian Squash                   4\n",
      "Tobacco                         4\n",
      "Nursery farm                    2\n",
      "Sugarcane / Wheat               2\n",
      "Potato                          2\n",
      "Graveyard                       2\n",
      "Barley                          1\n",
      "Garlic                          1\n",
      "Indian Squash / Sugarcane       1\n",
      "Name: count, dtype: int64\n"
     ]
    }
   ],
   "source": [
    "cropfile = 'D:\\Trainings\\gee\\pabb_crop_V3.geojson'\n",
    "#cropfile = 'D:\\Trainings\\gee\\Pabbi_AgriVsNonAgri-V-1.geojson'\n",
    "gdf = gpd.read_file(cropfile)\n",
    "\n",
    "print(len(gdf))\n",
    "\n",
    "print(f\"Total Size of Crop data: {gdf['Crop_Type'].notna().sum()}\")\n",
    "\n",
    "print(f\"Details of Crop are : {gdf['Crop_Type'].value_counts()}\")"
   ]
  },
  {
   "cell_type": "code",
   "execution_count": 33,
   "id": "a6d58959",
   "metadata": {},
   "outputs": [
    {
     "data": {
      "text/html": [
       "\n",
       "            <style>\n",
       "                .geemap-dark {\n",
       "                    --jp-widgets-color: white;\n",
       "                    --jp-widgets-label-color: white;\n",
       "                    --jp-ui-font-color1: white;\n",
       "                    --jp-layout-color2: #454545;\n",
       "                    background-color: #383838;\n",
       "                }\n",
       "\n",
       "                .geemap-dark .jupyter-button {\n",
       "                    --jp-layout-color3: #383838;\n",
       "                }\n",
       "\n",
       "                .geemap-colab {\n",
       "                    background-color: var(--colab-primary-surface-color, white);\n",
       "                }\n",
       "\n",
       "                .geemap-colab .jupyter-button {\n",
       "                    --jp-layout-color3: var(--colab-primary-surface-color, white);\n",
       "                }\n",
       "            </style>\n",
       "            "
      ],
      "text/plain": [
       "<IPython.core.display.HTML object>"
      ]
     },
     "metadata": {},
     "output_type": "display_data"
    },
    {
     "name": "stdout",
     "output_type": "stream",
     "text": [
      "Total Size of filtered Crop dataset:451\n",
      "Filtered Crop datasetCrop_Type\n",
      "Tomato            131\n",
      "Sugarcane         123\n",
      "Persian Clover    104\n",
      "Corn               37\n",
      "Wheat              31\n",
      "Forest Tree         9\n",
      "Orchard             6\n",
      "Lady Finger         6\n",
      "Potato              2\n",
      "Graveyard           2\n",
      "Name: count, dtype: int64\n"
     ]
    }
   ],
   "source": [
    "# Filtering the composite labeling\n",
    "#step 1: Remove rows with '/' in 'Crop_Type'\n",
    "gdf_filtered = gdf[~gdf['Crop_Type'].fillna('').str.contains('/')]\n",
    "\n",
    "#Step 2: Remove the nocrop type from the filtered data\n",
    "nocrop = ['No crop' ,'Mix','Tobacco' ,'Trees','Nursery farm','Barley','Garlic' ,'Buitup' ,'Water Body', 'Water Channel','Other','Builtup','Barren','Egg Plant','Indian Squash', ]\n",
    "gdf_filtered = gdf_filtered[~gdf_filtered['Crop_Type'].isin(nocrop)]\n",
    "\n",
    "# 0) Drop any rows with missing Crop_Type\n",
    "gdf_filtered = gdf_filtered.dropna(subset=['Crop_Type'])\n",
    "\n",
    "#Step 3: Final filtered data\n",
    "print (f\"Total Size of filtered Crop dataset:{(gdf_filtered['Crop_Type'].notna().sum())}\")\n",
    "print(f\"Filtered Crop dataset{gdf_filtered['Crop_Type'].value_counts()}\")\n"
   ]
  },
  {
   "cell_type": "code",
   "execution_count": 34,
   "id": "ce209597",
   "metadata": {},
   "outputs": [
    {
     "data": {
      "text/html": [
       "\n",
       "            <style>\n",
       "                .geemap-dark {\n",
       "                    --jp-widgets-color: white;\n",
       "                    --jp-widgets-label-color: white;\n",
       "                    --jp-ui-font-color1: white;\n",
       "                    --jp-layout-color2: #454545;\n",
       "                    background-color: #383838;\n",
       "                }\n",
       "\n",
       "                .geemap-dark .jupyter-button {\n",
       "                    --jp-layout-color3: #383838;\n",
       "                }\n",
       "\n",
       "                .geemap-colab {\n",
       "                    background-color: var(--colab-primary-surface-color, white);\n",
       "                }\n",
       "\n",
       "                .geemap-colab .jupyter-button {\n",
       "                    --jp-layout-color3: var(--colab-primary-surface-color, white);\n",
       "                }\n",
       "            </style>\n",
       "            "
      ],
      "text/plain": [
       "<IPython.core.display.HTML object>"
      ]
     },
     "metadata": {},
     "output_type": "display_data"
    },
    {
     "name": "stdout",
     "output_type": "stream",
     "text": [
      "Final list of Rabi Crops for Analysis ['Wheat' 'Persian Clover' 'Orchard' 'Potato']\n",
      "Total Size of Rabi Crop dataset:143\n"
     ]
    },
    {
     "data": {
      "text/plain": [
       "Crop_Type\n",
       "Persian Clover    104\n",
       "Wheat              31\n",
       "Orchard             6\n",
       "Potato              2\n",
       "Name: count, dtype: int64"
      ]
     },
     "execution_count": 34,
     "metadata": {},
     "output_type": "execute_result"
    }
   ],
   "source": [
    "# 1) Filter to rabi crops only\n",
    "rabi_crop = ['Wheat','Persian Clover','Barley','Garlic','Potato','Orchard','Eucalyptus']\n",
    "gdf_filtered = gdf_filtered[gdf_filtered['Crop_Type'].isin(rabi_crop)]\n",
    "print('Final list of Rabi Crops for Analysis',gdf_filtered['Crop_Type'].unique())\n",
    "print (f\"Total Size of Rabi Crop dataset:{(gdf_filtered['Crop_Type'].notna().sum())}\")\n",
    "\n",
    "gdf_filtered['Crop_Type'].value_counts()"
   ]
  },
  {
   "cell_type": "code",
   "execution_count": null,
   "id": "2153d104",
   "metadata": {},
   "outputs": [],
   "source": [
    "gdf_filtered"
   ]
  },
  {
   "cell_type": "code",
   "execution_count": 9,
   "id": "59911d24",
   "metadata": {},
   "outputs": [
    {
     "data": {
      "text/html": [
       "\n",
       "            <style>\n",
       "                .geemap-dark {\n",
       "                    --jp-widgets-color: white;\n",
       "                    --jp-widgets-label-color: white;\n",
       "                    --jp-ui-font-color1: white;\n",
       "                    --jp-layout-color2: #454545;\n",
       "                    background-color: #383838;\n",
       "                }\n",
       "\n",
       "                .geemap-dark .jupyter-button {\n",
       "                    --jp-layout-color3: #383838;\n",
       "                }\n",
       "\n",
       "                .geemap-colab {\n",
       "                    background-color: var(--colab-primary-surface-color, white);\n",
       "                }\n",
       "\n",
       "                .geemap-colab .jupyter-button {\n",
       "                    --jp-layout-color3: var(--colab-primary-surface-color, white);\n",
       "                }\n",
       "            </style>\n",
       "            "
      ],
      "text/plain": [
       "<IPython.core.display.HTML object>"
      ]
     },
     "metadata": {},
     "output_type": "display_data"
    },
    {
     "name": "stdout",
     "output_type": "stream",
     "text": [
      "Major Crop: ['Wheat', 'Persian Clover']\n",
      "Minor Crop: ['Orchard', 'Potato']\n"
     ]
    }
   ],
   "source": [
    "\n",
    "\n",
    "major_crop = ['Wheat','Persian Clover']\n",
    "all_crops  = gdf_filtered['Crop_Type'].unique().tolist()\n",
    "minor_crop = [c for c in all_crops if c not in major_crop]\n",
    "print('Major Crop:', major_crop)\n",
    "print('Minor Crop:', minor_crop)"
   ]
  },
  {
   "cell_type": "code",
   "execution_count": 10,
   "id": "50e11102",
   "metadata": {},
   "outputs": [
    {
     "data": {
      "text/html": [
       "\n",
       "            <style>\n",
       "                .geemap-dark {\n",
       "                    --jp-widgets-color: white;\n",
       "                    --jp-widgets-label-color: white;\n",
       "                    --jp-ui-font-color1: white;\n",
       "                    --jp-layout-color2: #454545;\n",
       "                    background-color: #383838;\n",
       "                }\n",
       "\n",
       "                .geemap-dark .jupyter-button {\n",
       "                    --jp-layout-color3: #383838;\n",
       "                }\n",
       "\n",
       "                .geemap-colab {\n",
       "                    background-color: var(--colab-primary-surface-color, white);\n",
       "                }\n",
       "\n",
       "                .geemap-colab .jupyter-button {\n",
       "                    --jp-layout-color3: var(--colab-primary-surface-color, white);\n",
       "                }\n",
       "            </style>\n",
       "            "
      ],
      "text/plain": [
       "<IPython.core.display.HTML object>"
      ]
     },
     "metadata": {},
     "output_type": "display_data"
    },
    {
     "name": "stdout",
     "output_type": "stream",
     "text": [
      "Major average = 37.0, target for minors = 22\n"
     ]
    }
   ],
   "source": [
    "# 2) Compute overall mean of majors, set targets\n",
    "counts    = gdf_filtered['Crop_Type'].value_counts()\n",
    "mean_major = counts[major_crop].mean()            # avg size of the two majors\n",
    "target_min = int(mean_major * 0.6)                # 60% of that for minors\n",
    "print(f\"Major average = {mean_major:.1f}, target for minors = {target_min}\")\n"
   ]
  },
  {
   "cell_type": "code",
   "execution_count": 11,
   "id": "21b688da",
   "metadata": {},
   "outputs": [
    {
     "data": {
      "text/html": [
       "\n",
       "            <style>\n",
       "                .geemap-dark {\n",
       "                    --jp-widgets-color: white;\n",
       "                    --jp-widgets-label-color: white;\n",
       "                    --jp-ui-font-color1: white;\n",
       "                    --jp-layout-color2: #454545;\n",
       "                    background-color: #383838;\n",
       "                }\n",
       "\n",
       "                .geemap-dark .jupyter-button {\n",
       "                    --jp-layout-color3: #383838;\n",
       "                }\n",
       "\n",
       "                .geemap-colab {\n",
       "                    background-color: var(--colab-primary-surface-color, white);\n",
       "                }\n",
       "\n",
       "                .geemap-colab .jupyter-button {\n",
       "                    --jp-layout-color3: var(--colab-primary-surface-color, white);\n",
       "                }\n",
       "            </style>\n",
       "            "
      ],
      "text/plain": [
       "<IPython.core.display.HTML object>"
      ]
     },
     "metadata": {},
     "output_type": "display_data"
    },
    {
     "name": "stdout",
     "output_type": "stream",
     "text": [
      "Target sample sizes per class: {'Persian Clover': 44, 'Wheat': 44, 'Orchard': 37, 'Potato': 37}\n"
     ]
    }
   ],
   "source": [
    "from sklearn.utils import resample\n",
    "\n",
    "\n",
    "# 3) Build per-class target_counts\n",
    "target_counts = {}\n",
    "for crop, cnt in gdf_filtered['Crop_Type'].value_counts().items():\n",
    "    if crop == 'Persian Clover':\n",
    "        target_counts[crop] = int(mean_major * 1.2)\n",
    "    elif crop == 'Wheat':\n",
    "        target_counts[crop] = int(mean_major * 1.2)\n",
    "    else:\n",
    "        target_counts[crop] = int(mean_major)    # baseline for everyone else\n",
    "\n",
    "print(\"Target sample sizes per class:\", target_counts)"
   ]
  },
  {
   "cell_type": "code",
   "execution_count": 12,
   "id": "84f75fb4",
   "metadata": {},
   "outputs": [
    {
     "data": {
      "text/html": [
       "\n",
       "            <style>\n",
       "                .geemap-dark {\n",
       "                    --jp-widgets-color: white;\n",
       "                    --jp-widgets-label-color: white;\n",
       "                    --jp-ui-font-color1: white;\n",
       "                    --jp-layout-color2: #454545;\n",
       "                    background-color: #383838;\n",
       "                }\n",
       "\n",
       "                .geemap-dark .jupyter-button {\n",
       "                    --jp-layout-color3: #383838;\n",
       "                }\n",
       "\n",
       "                .geemap-colab {\n",
       "                    background-color: var(--colab-primary-surface-color, white);\n",
       "                }\n",
       "\n",
       "                .geemap-colab .jupyter-button {\n",
       "                    --jp-layout-color3: var(--colab-primary-surface-color, white);\n",
       "                }\n",
       "            </style>\n",
       "            "
      ],
      "text/plain": [
       "<IPython.core.display.HTML object>"
      ]
     },
     "metadata": {},
     "output_type": "display_data"
    },
    {
     "name": "stdout",
     "output_type": "stream",
     "text": [
      "\n",
      "New balanced counts:\n",
      "Crop_Type\n",
      "Persian Clover    44\n",
      "Wheat             44\n",
      "Orchard           37\n",
      "Potato            37\n",
      "Name: count, dtype: int64\n"
     ]
    }
   ],
   "source": [
    "# 4) Remove any crops that are already larger than target\n",
    "# 4) Resample each group to its target\n",
    "balanced_parts = []\n",
    "for crop, group in gdf_filtered.groupby('Crop_Type'):\n",
    "    target = target_counts[crop]\n",
    "    if len(group) < target:\n",
    "        # oversample with replacement\n",
    "        samp = resample(\n",
    "            group,\n",
    "            replace=True,\n",
    "            n_samples=target,\n",
    "            random_state=42\n",
    "        )\n",
    "    else:\n",
    "        # downsample or keep exact\n",
    "        samp = group.sample(n=target, random_state=42)\n",
    "    balanced_parts.append(samp)\n",
    "\n",
    "gdf_strat = pd.concat(balanced_parts, ignore_index=True)\n",
    "\n",
    "# 5) Verify\n",
    "print(\"\\nNew balanced counts:\")\n",
    "print(gdf_strat['Crop_Type'].value_counts())"
   ]
  },
  {
   "cell_type": "code",
   "execution_count": 13,
   "id": "2649e0ac",
   "metadata": {},
   "outputs": [
    {
     "data": {
      "text/html": [
       "\n",
       "            <style>\n",
       "                .geemap-dark {\n",
       "                    --jp-widgets-color: white;\n",
       "                    --jp-widgets-label-color: white;\n",
       "                    --jp-ui-font-color1: white;\n",
       "                    --jp-layout-color2: #454545;\n",
       "                    background-color: #383838;\n",
       "                }\n",
       "\n",
       "                .geemap-dark .jupyter-button {\n",
       "                    --jp-layout-color3: #383838;\n",
       "                }\n",
       "\n",
       "                .geemap-colab {\n",
       "                    background-color: var(--colab-primary-surface-color, white);\n",
       "                }\n",
       "\n",
       "                .geemap-colab .jupyter-button {\n",
       "                    --jp-layout-color3: var(--colab-primary-surface-color, white);\n",
       "                }\n",
       "            </style>\n",
       "            "
      ],
      "text/plain": [
       "<IPython.core.display.HTML object>"
      ]
     },
     "metadata": {},
     "output_type": "display_data"
    },
    {
     "data": {
      "text/plain": [
       "True"
      ]
     },
     "execution_count": 13,
     "metadata": {},
     "output_type": "execute_result"
    }
   ],
   "source": [
    "ee.Authenticate()"
   ]
  },
  {
   "cell_type": "code",
   "execution_count": 14,
   "id": "dd7e4141",
   "metadata": {},
   "outputs": [
    {
     "data": {
      "text/html": [
       "\n",
       "            <style>\n",
       "                .geemap-dark {\n",
       "                    --jp-widgets-color: white;\n",
       "                    --jp-widgets-label-color: white;\n",
       "                    --jp-ui-font-color1: white;\n",
       "                    --jp-layout-color2: #454545;\n",
       "                    background-color: #383838;\n",
       "                }\n",
       "\n",
       "                .geemap-dark .jupyter-button {\n",
       "                    --jp-layout-color3: #383838;\n",
       "                }\n",
       "\n",
       "                .geemap-colab {\n",
       "                    background-color: var(--colab-primary-surface-color, white);\n",
       "                }\n",
       "\n",
       "                .geemap-colab .jupyter-button {\n",
       "                    --jp-layout-color3: var(--colab-primary-surface-color, white);\n",
       "                }\n",
       "            </style>\n",
       "            "
      ],
      "text/plain": [
       "<IPython.core.display.HTML object>"
      ]
     },
     "metadata": {},
     "output_type": "display_data"
    }
   ],
   "source": [
    "ee.Initialize()"
   ]
  },
  {
   "cell_type": "code",
   "execution_count": 15,
   "id": "41f61c17",
   "metadata": {},
   "outputs": [
    {
     "data": {
      "text/html": [
       "\n",
       "            <style>\n",
       "                .geemap-dark {\n",
       "                    --jp-widgets-color: white;\n",
       "                    --jp-widgets-label-color: white;\n",
       "                    --jp-ui-font-color1: white;\n",
       "                    --jp-layout-color2: #454545;\n",
       "                    background-color: #383838;\n",
       "                }\n",
       "\n",
       "                .geemap-dark .jupyter-button {\n",
       "                    --jp-layout-color3: #383838;\n",
       "                }\n",
       "\n",
       "                .geemap-colab {\n",
       "                    background-color: var(--colab-primary-surface-color, white);\n",
       "                }\n",
       "\n",
       "                .geemap-colab .jupyter-button {\n",
       "                    --jp-layout-color3: var(--colab-primary-surface-color, white);\n",
       "                }\n",
       "            </style>\n",
       "            "
      ],
      "text/plain": [
       "<IPython.core.display.HTML object>"
      ]
     },
     "metadata": {},
     "output_type": "display_data"
    }
   ],
   "source": [
    "# Converting the gdf and  gdf_balanced to ee feature collection\n",
    "crop_fc = geemap.gdf_to_ee(gdf)\n",
    "crop_fc_balanced = geemap.gdf_to_ee(gdf_strat)"
   ]
  },
  {
   "cell_type": "code",
   "execution_count": 16,
   "id": "22f4461b",
   "metadata": {},
   "outputs": [
    {
     "data": {
      "text/html": [
       "\n",
       "            <style>\n",
       "                .geemap-dark {\n",
       "                    --jp-widgets-color: white;\n",
       "                    --jp-widgets-label-color: white;\n",
       "                    --jp-ui-font-color1: white;\n",
       "                    --jp-layout-color2: #454545;\n",
       "                    background-color: #383838;\n",
       "                }\n",
       "\n",
       "                .geemap-dark .jupyter-button {\n",
       "                    --jp-layout-color3: #383838;\n",
       "                }\n",
       "\n",
       "                .geemap-colab {\n",
       "                    background-color: var(--colab-primary-surface-color, white);\n",
       "                }\n",
       "\n",
       "                .geemap-colab .jupyter-button {\n",
       "                    --jp-layout-color3: var(--colab-primary-surface-color, white);\n",
       "                }\n",
       "            </style>\n",
       "            "
      ],
      "text/plain": [
       "<IPython.core.display.HTML object>"
      ]
     },
     "metadata": {},
     "output_type": "display_data"
    }
   ],
   "source": [
    "# Define a function to get imagery an apply filter\n",
    "def get_imagery (start_date,end_date):\n",
    "    collection = ee.ImageCollection('COPERNICUS/S2_SR_HARMONIZED')\n",
    "    filtered_collection = collection.filterDate(start_date, end_date).filterBounds(crop_fc).filter(ee.Filter.lt('CLOUDY_PIXEL_PERCENTAGE', 10))\n",
    "    median_image = filtered_collection.median().clip(crop_fc.geometry())\n",
    "    return median_image\n"
   ]
  },
  {
   "cell_type": "code",
   "execution_count": null,
   "id": "819f03b5",
   "metadata": {},
   "outputs": [
    {
     "data": {
      "text/html": [
       "\n",
       "            <style>\n",
       "                .geemap-dark {\n",
       "                    --jp-widgets-color: white;\n",
       "                    --jp-widgets-label-color: white;\n",
       "                    --jp-ui-font-color1: white;\n",
       "                    --jp-layout-color2: #454545;\n",
       "                    background-color: #383838;\n",
       "                }\n",
       "\n",
       "                .geemap-dark .jupyter-button {\n",
       "                    --jp-layout-color3: #383838;\n",
       "                }\n",
       "\n",
       "                .geemap-colab {\n",
       "                    background-color: var(--colab-primary-surface-color, white);\n",
       "                }\n",
       "\n",
       "                .geemap-colab .jupyter-button {\n",
       "                    --jp-layout-color3: var(--colab-primary-surface-color, white);\n",
       "                }\n",
       "            </style>\n",
       "            "
      ],
      "text/plain": [
       "<IPython.core.display.HTML object>"
      ]
     },
     "metadata": {},
     "output_type": "display_data"
    }
   ],
   "source": [
    "# Seperate for Rabi  Season of the current year\n",
    "\n",
    "\n",
    "def get_ndvindwi(median_image):\n",
    "    # Calculate NDVI\n",
    "    ndvi = median_image.normalizedDifference(['B8', 'B4']).rename('NDVI')\n",
    "    # McFeeters NDWI = (Green - NIR) / (Green + NIR)\n",
    "    ndwi = median_image.normalizedDifference(['B3', 'B8']).rename('NDWI')\n",
    "    return ndvi, ndwi\n",
    "\n",
    "def get_mndwi(median_image):\n",
    "    # Calculate MNDWI\n",
    "    mndwi = median_image.normalizedDifference(['B3', 'B11']).rename('MNDWI')\n",
    "    return mndwi\n",
    "\n",
    "def get_savi(median_image):\n",
    "    # Calculate Soil Adjusted Vetetation Index (SAVI)\n",
    "    savi = median_image.expression(\n",
    "        '(NIR - RED) / (NIR + RED + L) * (1 + L)', {\n",
    "            'NIR': median_image.select('B8'),\n",
    "            'RED': median_image.select('B4'),\n",
    "            'L': 0.5\n",
    "        }).rename('SAVI')\n",
    "    return savi\n",
    "def get_arvi(median_image):\n",
    "    # Calculate Atmospherically Resistant Vegetation Index (ARVI)\n",
    "    arvi = median_image.expression(\n",
    "        '(NIR - (2 * RED - BLUE)) / (NIR + (2 * RED - BLUE))', {\n",
    "            'NIR': median_image.select('B8'),\n",
    "            'RED': median_image.select('B4'),\n",
    "            'BLUE': median_image.select('B2')\n",
    "        }).rename('ARVI')\n",
    "    return arvi\n",
    "\n",
    "def get_otherbands(median_image):\n",
    "    # Adding other bans and calculating their mean\n",
    "    bands = ['B2', 'B3', 'B4', 'B8', 'B11', 'B12']\n",
    "    band_img = median_image.select(bands).rename([f'{b}_mean' for b in bands])\n",
    "    return band_img\n",
    "\n",
    "def get_texture(median_image):\n",
    "    # Calculating the texture\n",
    "    nir_int = median_image.select('B8').toInt32()\n",
    "    texture = nir_int.glcmTexture(size=3)\n",
    "    contrast = texture.select('B8_contrast').rename('contrast')\n",
    "    entropy = texture.select('B8_ent').rename('entropy')\n",
    "    return contrast,entropy\n",
    "\n",
    "def get_features(ndvi, ndwi, band_img, contrast, mndwi,entropy,savi,arvi):\n",
    "    # Combine all features into a single image\n",
    "    features_img = band_img.addBands([ndvi, ndwi,mndwi,entropy,savi,arvi])\n",
    "    features_img = features_img.addBands(contrast)\n",
    "    return features_img\n"
   ]
  },
  {
   "cell_type": "code",
   "execution_count": 101,
   "id": "0364b1af",
   "metadata": {},
   "outputs": [
    {
     "data": {
      "text/html": [
       "\n",
       "            <style>\n",
       "                .geemap-dark {\n",
       "                    --jp-widgets-color: white;\n",
       "                    --jp-widgets-label-color: white;\n",
       "                    --jp-ui-font-color1: white;\n",
       "                    --jp-layout-color2: #454545;\n",
       "                    background-color: #383838;\n",
       "                }\n",
       "\n",
       "                .geemap-dark .jupyter-button {\n",
       "                    --jp-layout-color3: #383838;\n",
       "                }\n",
       "\n",
       "                .geemap-colab {\n",
       "                    background-color: var(--colab-primary-surface-color, white);\n",
       "                }\n",
       "\n",
       "                .geemap-colab .jupyter-button {\n",
       "                    --jp-layout-color3: var(--colab-primary-surface-color, white);\n",
       "                }\n",
       "            </style>\n",
       "            "
      ],
      "text/plain": [
       "<IPython.core.display.HTML object>"
      ]
     },
     "metadata": {},
     "output_type": "display_data"
    }
   ],
   "source": [
    "#---------------------------\n",
    "# Plan reduciton\n",
    "\n",
    "def get_reduction(fc):\n",
    "    # Step 2: Calculate mean NDVI for each agri polygon\n",
    "    pcs = fc.reduceRegions(\n",
    "    collection=crop_fc_balanced,\n",
    "    reducer=ee.Reducer.mean(),\n",
    "    scale=10,)\n",
    "    # Convert the result to dataframe\n",
    "    cf= geemap.ee_to_gdf(pcs)\n",
    "    return cf\n",
    "\n"
   ]
  },
  {
   "cell_type": "code",
   "execution_count": 102,
   "id": "83093ca4",
   "metadata": {},
   "outputs": [
    {
     "data": {
      "text/html": [
       "\n",
       "            <style>\n",
       "                .geemap-dark {\n",
       "                    --jp-widgets-color: white;\n",
       "                    --jp-widgets-label-color: white;\n",
       "                    --jp-ui-font-color1: white;\n",
       "                    --jp-layout-color2: #454545;\n",
       "                    background-color: #383838;\n",
       "                }\n",
       "\n",
       "                .geemap-dark .jupyter-button {\n",
       "                    --jp-layout-color3: #383838;\n",
       "                }\n",
       "\n",
       "                .geemap-colab {\n",
       "                    background-color: var(--colab-primary-surface-color, white);\n",
       "                }\n",
       "\n",
       "                .geemap-colab .jupyter-button {\n",
       "                    --jp-layout-color3: var(--colab-primary-surface-color, white);\n",
       "                }\n",
       "            </style>\n",
       "            "
      ],
      "text/plain": [
       "<IPython.core.display.HTML object>"
      ]
     },
     "metadata": {},
     "output_type": "display_data"
    }
   ],
   "source": [
    "#----------------------------------\n",
    "# Now calculate area, perimeter etc\n",
    "def get_area(cropgdf):\n",
    "# We need to calculate the area of each polygon in square meters\n",
    "# Therefore we will convert the geometry to a projected coordinate system (EPSG:32643)\n",
    "    cropgdf=cropgdf.to_crs(epsg=32643)\n",
    "# Calculating the area , perimetere and compactness\n",
    "    cropgdf['Area_m2'] = cropgdf.geometry.area\n",
    "    cropgdf['Perimeter_m'] = cropgdf.geometry.length\n",
    "    cropgdf['Compactness'] = (4 * 3.14 * cropgdf['Area_m2']) / (cropgdf['Perimeter_m'] ** 2)\n",
    "\n",
    "# Switch back to lat/lon if needed for mapping\n",
    "    cropgdf = cropgdf.to_crs(epsg=4326)\n",
    "\n",
    "#Inspect the new columns\n",
    "#gdfcrop_features[['Area_m2','Perimeter_m','Compactness']].head()\n",
    "    return cropgdf\n",
    "\n"
   ]
  },
  {
   "cell_type": "code",
   "execution_count": 103,
   "id": "b5b895e8",
   "metadata": {},
   "outputs": [
    {
     "data": {
      "text/html": [
       "\n",
       "            <style>\n",
       "                .geemap-dark {\n",
       "                    --jp-widgets-color: white;\n",
       "                    --jp-widgets-label-color: white;\n",
       "                    --jp-ui-font-color1: white;\n",
       "                    --jp-layout-color2: #454545;\n",
       "                    background-color: #383838;\n",
       "                }\n",
       "\n",
       "                .geemap-dark .jupyter-button {\n",
       "                    --jp-layout-color3: #383838;\n",
       "                }\n",
       "\n",
       "                .geemap-colab {\n",
       "                    background-color: var(--colab-primary-surface-color, white);\n",
       "                }\n",
       "\n",
       "                .geemap-colab .jupyter-button {\n",
       "                    --jp-layout-color3: var(--colab-primary-surface-color, white);\n",
       "                }\n",
       "            </style>\n",
       "            "
      ],
      "text/plain": [
       "<IPython.core.display.HTML object>"
      ]
     },
     "metadata": {},
     "output_type": "display_data"
    }
   ],
   "source": [
    "# Getting imagery and features\n",
    "rabi = get_imagery('2024-10-01','2025-03-31')\n",
    "\n",
    "ndvi_rabi, ndwi_rabi = get_ndvindwi(rabi)\n",
    "\n",
    "savi_rabi = get_savi(rabi)\n",
    "\n",
    "arvi_rabi = get_arvi(rabi)\n",
    "\n",
    "mndwi_rabi = get_mndwi(rabi)    \n",
    "\n",
    "band_rabi = get_otherbands(rabi)\n",
    "\n",
    "contrast_rabi, entropy_rabi = get_texture(rabi)    \n",
    "\n",
    "rabi_feats =   get_features(ndvi_rabi, ndwi_rabi,band_rabi, contrast_rabi,entropy_rabi,mndwi_rabi,savi_rabi,arvi_rabi)    \n",
    "\n"
   ]
  },
  {
   "cell_type": "code",
   "execution_count": 104,
   "id": "6cd8eaea",
   "metadata": {},
   "outputs": [
    {
     "data": {
      "text/html": [
       "\n",
       "            <style>\n",
       "                .geemap-dark {\n",
       "                    --jp-widgets-color: white;\n",
       "                    --jp-widgets-label-color: white;\n",
       "                    --jp-ui-font-color1: white;\n",
       "                    --jp-layout-color2: #454545;\n",
       "                    background-color: #383838;\n",
       "                }\n",
       "\n",
       "                .geemap-dark .jupyter-button {\n",
       "                    --jp-layout-color3: #383838;\n",
       "                }\n",
       "\n",
       "                .geemap-colab {\n",
       "                    background-color: var(--colab-primary-surface-color, white);\n",
       "                }\n",
       "\n",
       "                .geemap-colab .jupyter-button {\n",
       "                    --jp-layout-color3: var(--colab-primary-surface-color, white);\n",
       "                }\n",
       "            </style>\n",
       "            "
      ],
      "text/plain": [
       "<IPython.core.display.HTML object>"
      ]
     },
     "metadata": {},
     "output_type": "display_data"
    }
   ],
   "source": [
    "# Get reduction gdf for  Kharif_feas,rabi_feats and composite_features\n",
    "rabi_reduced=get_reduction(rabi_feats)\n"
   ]
  },
  {
   "cell_type": "code",
   "execution_count": 105,
   "id": "f69f833a",
   "metadata": {},
   "outputs": [
    {
     "data": {
      "text/html": [
       "\n",
       "            <style>\n",
       "                .geemap-dark {\n",
       "                    --jp-widgets-color: white;\n",
       "                    --jp-widgets-label-color: white;\n",
       "                    --jp-ui-font-color1: white;\n",
       "                    --jp-layout-color2: #454545;\n",
       "                    background-color: #383838;\n",
       "                }\n",
       "\n",
       "                .geemap-dark .jupyter-button {\n",
       "                    --jp-layout-color3: #383838;\n",
       "                }\n",
       "\n",
       "                .geemap-colab {\n",
       "                    background-color: var(--colab-primary-surface-color, white);\n",
       "                }\n",
       "\n",
       "                .geemap-colab .jupyter-button {\n",
       "                    --jp-layout-color3: var(--colab-primary-surface-color, white);\n",
       "                }\n",
       "            </style>\n",
       "            "
      ],
      "text/plain": [
       "<IPython.core.display.HTML object>"
      ]
     },
     "metadata": {},
     "output_type": "display_data"
    }
   ],
   "source": [
    "#Get area, perimetetr and compactness for kharif_reduced,rabi_reduced and composite_reduced\n",
    "rabi_reduced=get_area(rabi_reduced)\n"
   ]
  },
  {
   "cell_type": "markdown",
   "id": "0ac0d46c",
   "metadata": {},
   "source": [
    "rabi_reduced['delta_NDVI'] = rabi_reduced['NDVI'] - rabi_reduced['NDVI_1']"
   ]
  },
  {
   "cell_type": "code",
   "execution_count": 106,
   "id": "2c5af0b2",
   "metadata": {},
   "outputs": [
    {
     "data": {
      "text/html": [
       "\n",
       "            <style>\n",
       "                .geemap-dark {\n",
       "                    --jp-widgets-color: white;\n",
       "                    --jp-widgets-label-color: white;\n",
       "                    --jp-ui-font-color1: white;\n",
       "                    --jp-layout-color2: #454545;\n",
       "                    background-color: #383838;\n",
       "                }\n",
       "\n",
       "                .geemap-dark .jupyter-button {\n",
       "                    --jp-layout-color3: #383838;\n",
       "                }\n",
       "\n",
       "                .geemap-colab {\n",
       "                    background-color: var(--colab-primary-surface-color, white);\n",
       "                }\n",
       "\n",
       "                .geemap-colab .jupyter-button {\n",
       "                    --jp-layout-color3: var(--colab-primary-surface-color, white);\n",
       "                }\n",
       "            </style>\n",
       "            "
      ],
      "text/plain": [
       "<IPython.core.display.HTML object>"
      ]
     },
     "metadata": {},
     "output_type": "display_data"
    },
    {
     "data": {
      "text/plain": [
       "Index(['geometry', 'ARVI', 'Area_Acre', 'B11_mean', 'B12_mean', 'B2_mean',\n",
       "       'B3_mean', 'B4_mean', 'B8_mean', 'Crop_Type', 'FFID', 'Landuse_Ma',\n",
       "       'MNDWI', 'Mouza_Name', 'NDVI', 'NDWI', 'Parcel_ID', 'SAVI', 'contrast',\n",
       "       'entropy', 'Area_m2', 'Perimeter_m', 'Compactness'],\n",
       "      dtype='object')"
      ]
     },
     "execution_count": 106,
     "metadata": {},
     "output_type": "execute_result"
    }
   ],
   "source": [
    "rabi_reduced.columns"
   ]
  },
  {
   "cell_type": "code",
   "execution_count": 107,
   "id": "92ec4ddc",
   "metadata": {},
   "outputs": [
    {
     "data": {
      "text/html": [
       "\n",
       "            <style>\n",
       "                .geemap-dark {\n",
       "                    --jp-widgets-color: white;\n",
       "                    --jp-widgets-label-color: white;\n",
       "                    --jp-ui-font-color1: white;\n",
       "                    --jp-layout-color2: #454545;\n",
       "                    background-color: #383838;\n",
       "                }\n",
       "\n",
       "                .geemap-dark .jupyter-button {\n",
       "                    --jp-layout-color3: #383838;\n",
       "                }\n",
       "\n",
       "                .geemap-colab {\n",
       "                    background-color: var(--colab-primary-surface-color, white);\n",
       "                }\n",
       "\n",
       "                .geemap-colab .jupyter-button {\n",
       "                    --jp-layout-color3: var(--colab-primary-surface-color, white);\n",
       "                }\n",
       "            </style>\n",
       "            "
      ],
      "text/plain": [
       "<IPython.core.display.HTML object>"
      ]
     },
     "metadata": {},
     "output_type": "display_data"
    },
    {
     "data": {
      "text/plain": [
       "Crop_Type\n",
       "Persian Clover    82\n",
       "Wheat             82\n",
       "Barley            69\n",
       "Garlic            69\n",
       "Eucalyptus        69\n",
       "Orchard           69\n",
       "Potato            69\n",
       "Name: count, dtype: int64"
      ]
     },
     "execution_count": 107,
     "metadata": {},
     "output_type": "execute_result"
    }
   ],
   "source": [
    "rabi_reduced['Crop_Type'].value_counts()"
   ]
  },
  {
   "cell_type": "code",
   "execution_count": 108,
   "id": "87c9a12d",
   "metadata": {},
   "outputs": [
    {
     "data": {
      "text/html": [
       "\n",
       "            <style>\n",
       "                .geemap-dark {\n",
       "                    --jp-widgets-color: white;\n",
       "                    --jp-widgets-label-color: white;\n",
       "                    --jp-ui-font-color1: white;\n",
       "                    --jp-layout-color2: #454545;\n",
       "                    background-color: #383838;\n",
       "                }\n",
       "\n",
       "                .geemap-dark .jupyter-button {\n",
       "                    --jp-layout-color3: #383838;\n",
       "                }\n",
       "\n",
       "                .geemap-colab {\n",
       "                    background-color: var(--colab-primary-surface-color, white);\n",
       "                }\n",
       "\n",
       "                .geemap-colab .jupyter-button {\n",
       "                    --jp-layout-color3: var(--colab-primary-surface-color, white);\n",
       "                }\n",
       "            </style>\n",
       "            "
      ],
      "text/plain": [
       "<IPython.core.display.HTML object>"
      ]
     },
     "metadata": {},
     "output_type": "display_data"
    }
   ],
   "source": [
    "# List out the exact feature columns in your composite_reduced\n",
    "feature_cols = [\n",
    "    # early‑Kharif means (no “_1” suffix)\n",
    "    'B2_mean', 'B3_mean', 'B4_mean', 'B8_mean', 'B11_mean', 'B12_mean','ARVI',\n",
    "    'SAVI','NDVI', 'NDWI', 'contrast','MNDWI','entropy',\n",
    "    \n",
    "    # shape metrics (if present—you can add Area_Acre or Area_m2 etc.)\n",
    "    'Area_m2','Perimeter_m','Compactness'       # or 'Area_m2','Perimeter_m','Compactness'\n",
    "  \n",
    "]\n"
   ]
  },
  {
   "cell_type": "code",
   "execution_count": 109,
   "id": "ee8e7b93",
   "metadata": {},
   "outputs": [
    {
     "data": {
      "text/html": [
       "\n",
       "            <style>\n",
       "                .geemap-dark {\n",
       "                    --jp-widgets-color: white;\n",
       "                    --jp-widgets-label-color: white;\n",
       "                    --jp-ui-font-color1: white;\n",
       "                    --jp-layout-color2: #454545;\n",
       "                    background-color: #383838;\n",
       "                }\n",
       "\n",
       "                .geemap-dark .jupyter-button {\n",
       "                    --jp-layout-color3: #383838;\n",
       "                }\n",
       "\n",
       "                .geemap-colab {\n",
       "                    background-color: var(--colab-primary-surface-color, white);\n",
       "                }\n",
       "\n",
       "                .geemap-colab .jupyter-button {\n",
       "                    --jp-layout-color3: var(--colab-primary-surface-color, white);\n",
       "                }\n",
       "            </style>\n",
       "            "
      ],
      "text/plain": [
       "<IPython.core.display.HTML object>"
      ]
     },
     "metadata": {},
     "output_type": "display_data"
    },
    {
     "name": "stdout",
     "output_type": "stream",
     "text": [
      "Crop_Type\n",
      "Persian Clover    82\n",
      "Wheat             82\n",
      "Barley            69\n",
      "Garlic            69\n",
      "Eucalyptus        69\n",
      "Orchard           69\n",
      "Potato            69\n",
      "Name: count, dtype: int64\n",
      "B2_mean     B3_mean      B4_mean      B8_mean      B11_mean     B12_mean     ARVI      SAVI      NDVI      NDWI       contrast       MNDWI      entropy   Area_m2      Perimeter_m  Compactness\n",
      "541.846204  788.003286   779.887282   2418.290338  1652.071311  1191.102202  0.406829  0.766610  0.511153  -0.507069  94292.960745   -0.353062  4.331032  989.607358   149.857712   0.553470       69\n",
      "625.893036  847.338054   979.838554   2118.323559  1721.361380  1364.426191  0.228597  0.552028  0.368078  -0.428703  10867.769511   -0.338140  4.335070  1949.881836  207.017949   0.571455       69\n",
      "659.370318  904.737809   1001.175972  1953.619788  1859.055124  1500.055830  0.186054  0.483851  0.322622  -0.366973  11123.254399   -0.344852  4.285690  460.787680   129.001352   0.347778       35\n",
      "676.094789  922.021340   1042.462531  1923.653598  1824.088834  1504.888834  0.155368  0.445531  0.297071  -0.351750  10022.576617   -0.328208  4.268519  654.505989   142.308886   0.405919       34\n",
      "520.549409  705.241511   785.195727   1841.456314  1530.278138  1094.056467  0.277378  0.605328  0.403629  -0.446417  31645.854514   -0.369656  4.338351  852.433324   134.264258   0.593922       21\n",
      "                                                                                                                                                                                                   ..\n",
      "694.644725  922.877082   999.506252   2106.515068  1840.703514  1499.418450  0.251090  0.548314  0.365604  -0.392673  66953.935974   -0.336642  4.321139  7662.696519  462.176082   0.450564        1\n",
      "686.160408  928.183179   1064.707052  2127.590270  1991.619872  1600.908375  0.192447  0.499133  0.332808  -0.391622  35677.763329   -0.364025  4.339113  8985.261662  414.023655   0.658370        1\n",
      "703.417194  943.596203   972.772257   2404.925422  1941.207278  1512.025211  0.310129  0.617042  0.411421  -0.423513  92251.795189   -0.348443  4.348211  1540.310752  164.809115   0.712255        1\n",
      "722.086973  973.940571   1106.625931  2287.639206  2072.914888  1665.343300  0.213872  0.523242  0.348879  -0.401990  68436.403682   -0.361820  4.351375  2611.426280  223.764477   0.655066        1\n",
      "858.071339  1106.266969  1242.761448  2489.612356  2173.161404  1805.417133  0.212966  0.502636  0.335136  -0.383557  101419.566547  -0.329894  4.347946  2724.453128  288.658958   0.410676        1\n",
      "Name: count, Length: 109, dtype: int64\n"
     ]
    }
   ],
   "source": [
    "# Confirm target Class and features columns\n",
    "\n",
    "print(rabi_reduced['Crop_Type'].value_counts())\n",
    "print(rabi_reduced[feature_cols].value_counts())"
   ]
  },
  {
   "cell_type": "code",
   "execution_count": 110,
   "id": "01344027",
   "metadata": {},
   "outputs": [
    {
     "data": {
      "text/html": [
       "\n",
       "            <style>\n",
       "                .geemap-dark {\n",
       "                    --jp-widgets-color: white;\n",
       "                    --jp-widgets-label-color: white;\n",
       "                    --jp-ui-font-color1: white;\n",
       "                    --jp-layout-color2: #454545;\n",
       "                    background-color: #383838;\n",
       "                }\n",
       "\n",
       "                .geemap-dark .jupyter-button {\n",
       "                    --jp-layout-color3: #383838;\n",
       "                }\n",
       "\n",
       "                .geemap-colab {\n",
       "                    background-color: var(--colab-primary-surface-color, white);\n",
       "                }\n",
       "\n",
       "                .geemap-colab .jupyter-button {\n",
       "                    --jp-layout-color3: var(--colab-primary-surface-color, white);\n",
       "                }\n",
       "            </style>\n",
       "            "
      ],
      "text/plain": [
       "<IPython.core.display.HTML object>"
      ]
     },
     "metadata": {},
     "output_type": "display_data"
    }
   ],
   "source": [
    "from sklearn.model_selection import train_test_split\n",
    "# Splitting the data into training and testing sets\n",
    "\n",
    "#Step 1 Define features (NDVI mean) and target label (Crop_Type)\n",
    "X = rabi_reduced[feature_cols].values\n",
    "y = rabi_reduced['Crop_Type'].values\n",
    "\n",
    "# Train-test Split 80 % train and 20% test\n",
    "X_train, X_test, y_train, y_test = train_test_split(X, y, test_size=0.2, random_state=42,stratify=y)\n",
    "\n"
   ]
  },
  {
   "cell_type": "code",
   "execution_count": 111,
   "id": "3e2b6ce3",
   "metadata": {},
   "outputs": [
    {
     "data": {
      "text/html": [
       "\n",
       "            <style>\n",
       "                .geemap-dark {\n",
       "                    --jp-widgets-color: white;\n",
       "                    --jp-widgets-label-color: white;\n",
       "                    --jp-ui-font-color1: white;\n",
       "                    --jp-layout-color2: #454545;\n",
       "                    background-color: #383838;\n",
       "                }\n",
       "\n",
       "                .geemap-dark .jupyter-button {\n",
       "                    --jp-layout-color3: #383838;\n",
       "                }\n",
       "\n",
       "                .geemap-colab {\n",
       "                    background-color: var(--colab-primary-surface-color, white);\n",
       "                }\n",
       "\n",
       "                .geemap-colab .jupyter-button {\n",
       "                    --jp-layout-color3: var(--colab-primary-surface-color, white);\n",
       "                }\n",
       "            </style>\n",
       "            "
      ],
      "text/plain": [
       "<IPython.core.display.HTML object>"
      ]
     },
     "metadata": {},
     "output_type": "display_data"
    },
    {
     "name": "stdout",
     "output_type": "stream",
     "text": [
      "Classification Report:\n",
      "                precision    recall  f1-score   support\n",
      "\n",
      "        Barley       1.00      1.00      1.00        14\n",
      "    Eucalyptus       0.93      1.00      0.97        14\n",
      "        Garlic       1.00      1.00      1.00        14\n",
      "       Orchard       1.00      1.00      1.00        14\n",
      "Persian Clover       0.93      0.88      0.90        16\n",
      "        Potato       0.93      1.00      0.97        14\n",
      "         Wheat       0.87      0.81      0.84        16\n",
      "\n",
      "      accuracy                           0.95       102\n",
      "     macro avg       0.95      0.96      0.95       102\n",
      "  weighted avg       0.95      0.95      0.95       102\n",
      "\n",
      "Confusion Matrix:\n",
      "[[14  0  0  0  0  0  0]\n",
      " [ 0 14  0  0  0  0  0]\n",
      " [ 0  0 14  0  0  0  0]\n",
      " [ 0  0  0 14  0  0  0]\n",
      " [ 0  0  0  0 14  0  2]\n",
      " [ 0  0  0  0  0 14  0]\n",
      " [ 0  1  0  0  1  1 13]]\n"
     ]
    }
   ],
   "source": [
    "\n",
    "from sklearn.ensemble import RandomForestClassifier\n",
    "from sklearn.metrics import classification_report, confusion_matrix\n",
    "\n",
    "# Initialize the model\n",
    "rf_model = RandomForestClassifier(n_estimators=300,\n",
    "    max_depth=20,\n",
    "    min_samples_split=2,\n",
    "    min_samples_leaf=1,\n",
    "    class_weight='balanced',\n",
    "    random_state=42)\n",
    "\n",
    "# Train the model\n",
    "rf_model.fit(X_train, y_train)\n",
    "\n",
    "# Predict on the test set\n",
    "y_pred = rf_model.predict(X_test)\n",
    "\n",
    "# Evaluate the model\n",
    "print(\"Classification Report:\")\n",
    "print(classification_report(y_test, y_pred,zero_division=0))\n",
    "\n",
    "print(\"Confusion Matrix:\")\n",
    "print(confusion_matrix(y_test, y_pred))\n"
   ]
  },
  {
   "cell_type": "code",
   "execution_count": null,
   "id": "e03e19ed",
   "metadata": {},
   "outputs": [],
   "source": [
    "rabi_reduced"
   ]
  },
  {
   "cell_type": "code",
   "execution_count": 122,
   "id": "c340d7da",
   "metadata": {},
   "outputs": [
    {
     "data": {
      "text/html": [
       "\n",
       "            <style>\n",
       "                .geemap-dark {\n",
       "                    --jp-widgets-color: white;\n",
       "                    --jp-widgets-label-color: white;\n",
       "                    --jp-ui-font-color1: white;\n",
       "                    --jp-layout-color2: #454545;\n",
       "                    background-color: #383838;\n",
       "                }\n",
       "\n",
       "                .geemap-dark .jupyter-button {\n",
       "                    --jp-layout-color3: #383838;\n",
       "                }\n",
       "\n",
       "                .geemap-colab {\n",
       "                    background-color: var(--colab-primary-surface-color, white);\n",
       "                }\n",
       "\n",
       "                .geemap-colab .jupyter-button {\n",
       "                    --jp-layout-color3: var(--colab-primary-surface-color, white);\n",
       "                }\n",
       "            </style>\n",
       "            "
      ],
      "text/plain": [
       "<IPython.core.display.HTML object>"
      ]
     },
     "metadata": {},
     "output_type": "display_data"
    },
    {
     "data": {
      "text/html": [
       "<div>\n",
       "<style scoped>\n",
       "    .dataframe tbody tr th:only-of-type {\n",
       "        vertical-align: middle;\n",
       "    }\n",
       "\n",
       "    .dataframe tbody tr th {\n",
       "        vertical-align: top;\n",
       "    }\n",
       "\n",
       "    .dataframe thead th {\n",
       "        text-align: right;\n",
       "    }\n",
       "</style>\n",
       "<table border=\"1\" class=\"dataframe\">\n",
       "  <thead>\n",
       "    <tr style=\"text-align: right;\">\n",
       "      <th></th>\n",
       "      <th>geometry</th>\n",
       "      <th>ARVI</th>\n",
       "      <th>Area_Acre</th>\n",
       "      <th>B11_mean</th>\n",
       "      <th>B12_mean</th>\n",
       "      <th>B2_mean</th>\n",
       "      <th>B3_mean</th>\n",
       "      <th>B4_mean</th>\n",
       "      <th>B8_mean</th>\n",
       "      <th>Crop_Type</th>\n",
       "      <th>...</th>\n",
       "      <th>NDVI</th>\n",
       "      <th>NDWI</th>\n",
       "      <th>Parcel_ID</th>\n",
       "      <th>SAVI</th>\n",
       "      <th>contrast</th>\n",
       "      <th>entropy</th>\n",
       "      <th>Area_m2</th>\n",
       "      <th>Perimeter_m</th>\n",
       "      <th>Compactness</th>\n",
       "      <th>pred</th>\n",
       "    </tr>\n",
       "  </thead>\n",
       "  <tbody>\n",
       "    <tr>\n",
       "      <th>299</th>\n",
       "      <td>POLYGON ((71.76047 34.01957, 71.76073 34.01904...</td>\n",
       "      <td>0.527841</td>\n",
       "      <td>1.028830</td>\n",
       "      <td>1675.379300</td>\n",
       "      <td>1076.317058</td>\n",
       "      <td>522.384291</td>\n",
       "      <td>775.090399</td>\n",
       "      <td>689.512987</td>\n",
       "      <td>2801.897200</td>\n",
       "      <td>Persian Clover</td>\n",
       "      <td>...</td>\n",
       "      <td>0.600248</td>\n",
       "      <td>-0.562776</td>\n",
       "      <td>725</td>\n",
       "      <td>0.900244</td>\n",
       "      <td>77733.890198</td>\n",
       "      <td>4.345630</td>\n",
       "      <td>4166.026128</td>\n",
       "      <td>272.406620</td>\n",
       "      <td>0.705142</td>\n",
       "      <td>Wheat</td>\n",
       "    </tr>\n",
       "    <tr>\n",
       "      <th>300</th>\n",
       "      <td>POLYGON ((71.75593 34.02925, 71.75593 34.02905...</td>\n",
       "      <td>0.112545</td>\n",
       "      <td>1.122320</td>\n",
       "      <td>1918.902038</td>\n",
       "      <td>1641.451555</td>\n",
       "      <td>699.017733</td>\n",
       "      <td>941.780694</td>\n",
       "      <td>1193.876582</td>\n",
       "      <td>2102.544870</td>\n",
       "      <td>Persian Clover</td>\n",
       "      <td>...</td>\n",
       "      <td>0.277520</td>\n",
       "      <td>-0.381736</td>\n",
       "      <td>86</td>\n",
       "      <td>0.416217</td>\n",
       "      <td>11057.473316</td>\n",
       "      <td>4.317353</td>\n",
       "      <td>4544.654666</td>\n",
       "      <td>278.364921</td>\n",
       "      <td>0.736651</td>\n",
       "      <td>Wheat</td>\n",
       "    </tr>\n",
       "    <tr>\n",
       "      <th>445</th>\n",
       "      <td>POLYGON ((71.76392 34.02308, 71.76397 34.02298...</td>\n",
       "      <td>0.106045</td>\n",
       "      <td>0.624940</td>\n",
       "      <td>1685.645178</td>\n",
       "      <td>1341.998973</td>\n",
       "      <td>662.477719</td>\n",
       "      <td>879.670733</td>\n",
       "      <td>1143.296006</td>\n",
       "      <td>2008.619366</td>\n",
       "      <td>Wheat</td>\n",
       "      <td>...</td>\n",
       "      <td>0.274570</td>\n",
       "      <td>-0.390756</td>\n",
       "      <td>477</td>\n",
       "      <td>0.411789</td>\n",
       "      <td>3035.607938</td>\n",
       "      <td>4.309255</td>\n",
       "      <td>2530.544987</td>\n",
       "      <td>235.176111</td>\n",
       "      <td>0.574668</td>\n",
       "      <td>Potato</td>\n",
       "    </tr>\n",
       "    <tr>\n",
       "      <th>449</th>\n",
       "      <td>POLYGON ((71.76003 34.02746, 71.76028 34.02748...</td>\n",
       "      <td>0.451785</td>\n",
       "      <td>1.169670</td>\n",
       "      <td>1623.686835</td>\n",
       "      <td>1074.107292</td>\n",
       "      <td>477.497702</td>\n",
       "      <td>694.430267</td>\n",
       "      <td>676.281745</td>\n",
       "      <td>2361.149208</td>\n",
       "      <td>Wheat</td>\n",
       "      <td>...</td>\n",
       "      <td>0.547101</td>\n",
       "      <td>-0.540104</td>\n",
       "      <td>169</td>\n",
       "      <td>0.820516</td>\n",
       "      <td>101561.933690</td>\n",
       "      <td>4.322029</td>\n",
       "      <td>4736.328599</td>\n",
       "      <td>358.428455</td>\n",
       "      <td>0.463049</td>\n",
       "      <td>Eucalyptus</td>\n",
       "    </tr>\n",
       "    <tr>\n",
       "      <th>507</th>\n",
       "      <td>POLYGON ((71.7625 34.01874, 71.7628 34.0184, 7...</td>\n",
       "      <td>0.546707</td>\n",
       "      <td>0.402284</td>\n",
       "      <td>1606.376097</td>\n",
       "      <td>1067.024940</td>\n",
       "      <td>484.612530</td>\n",
       "      <td>708.484038</td>\n",
       "      <td>617.067438</td>\n",
       "      <td>2628.333400</td>\n",
       "      <td>Wheat</td>\n",
       "      <td>...</td>\n",
       "      <td>0.609987</td>\n",
       "      <td>-0.567626</td>\n",
       "      <td>816</td>\n",
       "      <td>0.914839</td>\n",
       "      <td>124452.720035</td>\n",
       "      <td>4.341471</td>\n",
       "      <td>1628.960798</td>\n",
       "      <td>166.139837</td>\n",
       "      <td>0.741230</td>\n",
       "      <td>Persian Clover</td>\n",
       "    </tr>\n",
       "  </tbody>\n",
       "</table>\n",
       "<p>5 rows × 24 columns</p>\n",
       "</div>"
      ],
      "text/plain": [
       "                                              geometry      ARVI  Area_Acre  \\\n",
       "299  POLYGON ((71.76047 34.01957, 71.76073 34.01904...  0.527841   1.028830   \n",
       "300  POLYGON ((71.75593 34.02925, 71.75593 34.02905...  0.112545   1.122320   \n",
       "445  POLYGON ((71.76392 34.02308, 71.76397 34.02298...  0.106045   0.624940   \n",
       "449  POLYGON ((71.76003 34.02746, 71.76028 34.02748...  0.451785   1.169670   \n",
       "507  POLYGON ((71.7625 34.01874, 71.7628 34.0184, 7...  0.546707   0.402284   \n",
       "\n",
       "        B11_mean     B12_mean     B2_mean     B3_mean      B4_mean  \\\n",
       "299  1675.379300  1076.317058  522.384291  775.090399   689.512987   \n",
       "300  1918.902038  1641.451555  699.017733  941.780694  1193.876582   \n",
       "445  1685.645178  1341.998973  662.477719  879.670733  1143.296006   \n",
       "449  1623.686835  1074.107292  477.497702  694.430267   676.281745   \n",
       "507  1606.376097  1067.024940  484.612530  708.484038   617.067438   \n",
       "\n",
       "         B8_mean       Crop_Type  ...      NDVI      NDWI  Parcel_ID  \\\n",
       "299  2801.897200  Persian Clover  ...  0.600248 -0.562776        725   \n",
       "300  2102.544870  Persian Clover  ...  0.277520 -0.381736         86   \n",
       "445  2008.619366           Wheat  ...  0.274570 -0.390756        477   \n",
       "449  2361.149208           Wheat  ...  0.547101 -0.540104        169   \n",
       "507  2628.333400           Wheat  ...  0.609987 -0.567626        816   \n",
       "\n",
       "         SAVI       contrast   entropy      Area_m2  Perimeter_m  Compactness  \\\n",
       "299  0.900244   77733.890198  4.345630  4166.026128   272.406620     0.705142   \n",
       "300  0.416217   11057.473316  4.317353  4544.654666   278.364921     0.736651   \n",
       "445  0.411789    3035.607938  4.309255  2530.544987   235.176111     0.574668   \n",
       "449  0.820516  101561.933690  4.322029  4736.328599   358.428455     0.463049   \n",
       "507  0.914839  124452.720035  4.341471  1628.960798   166.139837     0.741230   \n",
       "\n",
       "               pred  \n",
       "299           Wheat  \n",
       "300           Wheat  \n",
       "445          Potato  \n",
       "449      Eucalyptus  \n",
       "507  Persian Clover  \n",
       "\n",
       "[5 rows x 24 columns]"
      ]
     },
     "execution_count": 122,
     "metadata": {},
     "output_type": "execute_result"
    }
   ],
   "source": [
    "# show me those records of rabi_reduced that prediction is different from the actual Crop_Type\n",
    "diff = rabi_reduced[rabi_reduced['Crop_Type'] != rabi_reduced['pred']]\n",
    "diff"
   ]
  },
  {
   "cell_type": "code",
   "execution_count": 123,
   "id": "65a4374d",
   "metadata": {},
   "outputs": [
    {
     "data": {
      "text/html": [
       "\n",
       "            <style>\n",
       "                .geemap-dark {\n",
       "                    --jp-widgets-color: white;\n",
       "                    --jp-widgets-label-color: white;\n",
       "                    --jp-ui-font-color1: white;\n",
       "                    --jp-layout-color2: #454545;\n",
       "                    background-color: #383838;\n",
       "                }\n",
       "\n",
       "                .geemap-dark .jupyter-button {\n",
       "                    --jp-layout-color3: #383838;\n",
       "                }\n",
       "\n",
       "                .geemap-colab {\n",
       "                    background-color: var(--colab-primary-surface-color, white);\n",
       "                }\n",
       "\n",
       "                .geemap-colab .jupyter-button {\n",
       "                    --jp-layout-color3: var(--colab-primary-surface-color, white);\n",
       "                }\n",
       "            </style>\n",
       "            "
      ],
      "text/plain": [
       "<IPython.core.display.HTML object>"
      ]
     },
     "metadata": {},
     "output_type": "display_data"
    }
   ],
   "source": [
    "# Add predictions to gdf_strat (or full set)\n",
    "#['pred'] = rf_model.predict(gdf['Crop_Type'].values)\n",
    "\n",
    "# Convert back to EE for mapping\n",
    "#fc_pred = geemap.gdf_to_ee(gdf_strat, id_property='Parcel_ID')\n",
    "#Map.addLayer(fc_pred.style(color='pred', palette='viridis'), {}, 'Predicted Crop Types')\n"
   ]
  },
  {
   "cell_type": "markdown",
   "id": "d1235aa7",
   "metadata": {},
   "source": [
    "# Save the model prediction to a geojson file\n",
    "rabi_reduced.to_file(\"rabbi_crop_predictions.geojson\", driver=\"GeoJSON\")\n"
   ]
  },
  {
   "cell_type": "code",
   "execution_count": 124,
   "id": "61c4249b",
   "metadata": {},
   "outputs": [
    {
     "data": {
      "text/html": [
       "\n",
       "            <style>\n",
       "                .geemap-dark {\n",
       "                    --jp-widgets-color: white;\n",
       "                    --jp-widgets-label-color: white;\n",
       "                    --jp-ui-font-color1: white;\n",
       "                    --jp-layout-color2: #454545;\n",
       "                    background-color: #383838;\n",
       "                }\n",
       "\n",
       "                .geemap-dark .jupyter-button {\n",
       "                    --jp-layout-color3: #383838;\n",
       "                }\n",
       "\n",
       "                .geemap-colab {\n",
       "                    background-color: var(--colab-primary-surface-color, white);\n",
       "                }\n",
       "\n",
       "                .geemap-colab .jupyter-button {\n",
       "                    --jp-layout-color3: var(--colab-primary-surface-color, white);\n",
       "                }\n",
       "            </style>\n",
       "            "
      ],
      "text/plain": [
       "<IPython.core.display.HTML object>"
      ]
     },
     "metadata": {},
     "output_type": "display_data"
    },
    {
     "data": {
      "text/plain": [
       "['crop_rf_pipeline.pkl']"
      ]
     },
     "execution_count": 124,
     "metadata": {},
     "output_type": "execute_result"
    }
   ],
   "source": [
    "#Export your model and features for reproducibility\n",
    "#You can pickle your RF and the feature‐extraction parameters so that any future user can apply the exact same classification:\n",
    "\n",
    "import joblib\n",
    "joblib.dump({\n",
    "    'model': rf_model,\n",
    "    'feature_cols': feature_cols\n",
    "}, 'crop_rf_pipeline.pkl')\n"
   ]
  },
  {
   "cell_type": "code",
   "execution_count": 112,
   "id": "5295d2d2",
   "metadata": {},
   "outputs": [
    {
     "data": {
      "text/html": [
       "\n",
       "            <style>\n",
       "                .geemap-dark {\n",
       "                    --jp-widgets-color: white;\n",
       "                    --jp-widgets-label-color: white;\n",
       "                    --jp-ui-font-color1: white;\n",
       "                    --jp-layout-color2: #454545;\n",
       "                    background-color: #383838;\n",
       "                }\n",
       "\n",
       "                .geemap-dark .jupyter-button {\n",
       "                    --jp-layout-color3: #383838;\n",
       "                }\n",
       "\n",
       "                .geemap-colab {\n",
       "                    background-color: var(--colab-primary-surface-color, white);\n",
       "                }\n",
       "\n",
       "                .geemap-colab .jupyter-button {\n",
       "                    --jp-layout-color3: var(--colab-primary-surface-color, white);\n",
       "                }\n",
       "            </style>\n",
       "            "
      ],
      "text/plain": [
       "<IPython.core.display.HTML object>"
      ]
     },
     "metadata": {},
     "output_type": "display_data"
    },
    {
     "name": "stdout",
     "output_type": "stream",
     "text": [
      "Fitting 5 folds for each of 30 candidates, totalling 150 fits\n",
      "Best hyperparameters found:\n",
      "  n_estimators: 200\n",
      "  min_samples_split: 2\n",
      "  min_samples_leaf: 1\n",
      "  max_depth: 20\n",
      "  class_weight: balanced\n",
      "\n",
      "Classification Report (best estimator):\n",
      "                precision    recall  f1-score   support\n",
      "\n",
      "        Barley       1.00      1.00      1.00        14\n",
      "    Eucalyptus       0.88      1.00      0.93        14\n",
      "        Garlic       1.00      1.00      1.00        14\n",
      "       Orchard       1.00      1.00      1.00        14\n",
      "Persian Clover       0.93      0.81      0.87        16\n",
      "        Potato       0.93      1.00      0.97        14\n",
      "         Wheat       0.87      0.81      0.84        16\n",
      "\n",
      "      accuracy                           0.94       102\n",
      "     macro avg       0.94      0.95      0.94       102\n",
      "  weighted avg       0.94      0.94      0.94       102\n",
      "\n"
     ]
    }
   ],
   "source": [
    "# Hyper Parameter Tuning using RandomizedSearchCV\n",
    "from sklearn.model_selection import RandomizedSearchCV\n",
    "from sklearn.ensemble import RandomForestClassifier\n",
    "from sklearn.metrics import classification_report\n",
    "\n",
    "# 1) Define the parameter search space\n",
    "param_dist = {\n",
    "    'n_estimators':       [100, 200, 300, 400, 500],\n",
    "    'max_depth':          [None, 10, 15, 20, 25],\n",
    "    'min_samples_split':  [2, 5, 10],\n",
    "    'min_samples_leaf':   [1, 2, 4, 6],\n",
    "    'class_weight':       ['balanced', 'balanced_subsample']\n",
    "}\n",
    "\n",
    "# 2) Set up the RandomizedSearchCV\n",
    "rs = RandomizedSearchCV(\n",
    "    estimator=RandomForestClassifier(random_state=42),\n",
    "    param_distributions=param_dist,\n",
    "    n_iter=30,              # number of combinations to try\n",
    "    scoring='f1_weighted',  # optimize for weighted F1\n",
    "    cv=5,                   # 5‑fold cross‑validation\n",
    "    n_jobs=-1,              # use all cores\n",
    "    random_state=42,\n",
    "    verbose=1\n",
    ")\n",
    "\n",
    "# 3) Run the search on your training data\n",
    "rs.fit(X_train, y_train)\n",
    "\n",
    "# 4) Inspect the best parameters\n",
    "print(\"Best hyperparameters found:\")\n",
    "for k, v in rs.best_params_.items():\n",
    "    print(f\"  {k}: {v}\")\n",
    "\n",
    "# 5) Evaluate the best estimator on the test set\n",
    "best_rf = rs.best_estimator_\n",
    "y_pred = best_rf.predict(X_test)\n",
    "print(\"\\nClassification Report (best estimator):\")\n",
    "print(classification_report(y_test, y_pred, zero_division=0))\n"
   ]
  },
  {
   "cell_type": "code",
   "execution_count": 595,
   "id": "87b0fffe",
   "metadata": {},
   "outputs": [
    {
     "data": {
      "text/html": [
       "\n",
       "            <style>\n",
       "                .geemap-dark {\n",
       "                    --jp-widgets-color: white;\n",
       "                    --jp-widgets-label-color: white;\n",
       "                    --jp-ui-font-color1: white;\n",
       "                    --jp-layout-color2: #454545;\n",
       "                    background-color: #383838;\n",
       "                }\n",
       "\n",
       "                .geemap-dark .jupyter-button {\n",
       "                    --jp-layout-color3: #383838;\n",
       "                }\n",
       "\n",
       "                .geemap-colab {\n",
       "                    background-color: var(--colab-primary-surface-color, white);\n",
       "                }\n",
       "\n",
       "                .geemap-colab .jupyter-button {\n",
       "                    --jp-layout-color3: var(--colab-primary-surface-color, white);\n",
       "                }\n",
       "            </style>\n",
       "            "
      ],
      "text/plain": [
       "<IPython.core.display.HTML object>"
      ]
     },
     "metadata": {},
     "output_type": "display_data"
    },
    {
     "name": "stdout",
     "output_type": "stream",
     "text": [
      "B3_mean: 0.060\n",
      "contrast_1: 0.054\n",
      "B3_mean_1: 0.053\n",
      "B11_mean: 0.048\n",
      "B8_mean: 0.047\n",
      "MNDWI: 0.045\n",
      "B12_mean_1: 0.041\n",
      "contrast: 0.040\n",
      "B11_mean_1: 0.036\n",
      "Perimeter_m: 0.035\n",
      "MNDWI_1: 0.034\n",
      "Area_Acre: 0.032\n",
      "B12_mean: 0.032\n",
      "B8_mean_1: 0.031\n",
      "NDWI_1: 0.031\n",
      "Compactness: 0.031\n",
      "Area_m2: 0.030\n",
      "B2_mean: 0.029\n",
      "ARVI: 0.027\n",
      "B4_mean: 0.027\n",
      "B4_mean_1: 0.025\n",
      "NDWI: 0.025\n",
      "NDVI: 0.024\n",
      "delta_NDVI: 0.024\n",
      "entropy: 0.024\n",
      "NDVI_1: 0.024\n",
      "SAVI: 0.023\n",
      "entropy_1: 0.022\n",
      "SAVI_1: 0.022\n",
      "ARVI_1: 0.021\n"
     ]
    }
   ],
   "source": [
    "\n",
    "importances = rf_model.feature_importances_\n",
    "for name, imp in sorted(zip(feature_cols, importances), key=lambda x: -x[1]):\n",
    "    print(f\"{name}: {imp:.3f}\")\n"
   ]
  },
  {
   "cell_type": "code",
   "execution_count": 834,
   "id": "718d5c6d",
   "metadata": {},
   "outputs": [
    {
     "data": {
      "text/html": [
       "\n",
       "            <style>\n",
       "                .geemap-dark {\n",
       "                    --jp-widgets-color: white;\n",
       "                    --jp-widgets-label-color: white;\n",
       "                    --jp-ui-font-color1: white;\n",
       "                    --jp-layout-color2: #454545;\n",
       "                    background-color: #383838;\n",
       "                }\n",
       "\n",
       "                .geemap-dark .jupyter-button {\n",
       "                    --jp-layout-color3: #383838;\n",
       "                }\n",
       "\n",
       "                .geemap-colab {\n",
       "                    background-color: var(--colab-primary-surface-color, white);\n",
       "                }\n",
       "\n",
       "                .geemap-colab .jupyter-button {\n",
       "                    --jp-layout-color3: var(--colab-primary-surface-color, white);\n",
       "                }\n",
       "            </style>\n",
       "            "
      ],
      "text/plain": [
       "<IPython.core.display.HTML object>"
      ]
     },
     "metadata": {},
     "output_type": "display_data"
    },
    {
     "name": "stdout",
     "output_type": "stream",
     "text": [
      "5‑fold F1_macro scores: [0.92630082 0.90411156 0.97159832 0.94072997 0.94010879]\n",
      "Mean: 0.9365698932627712 Std: 0.02198098357458017\n"
     ]
    }
   ],
   "source": [
    "from sklearn.model_selection import cross_val_score\n",
    "scores = cross_val_score(\n",
    "    rf_model, X, y, cv=5, scoring='f1_macro', n_jobs=-1\n",
    ")\n",
    "print(\"5‑fold F1_macro scores:\", scores)\n",
    "print(\"Mean:\", scores.mean(), \"Std:\", scores.std())\n"
   ]
  }
 ],
 "metadata": {
  "kernelspec": {
   "display_name": "Python 3",
   "language": "python",
   "name": "python3"
  },
  "language_info": {
   "codemirror_mode": {
    "name": "ipython",
    "version": 3
   },
   "file_extension": ".py",
   "mimetype": "text/x-python",
   "name": "python",
   "nbconvert_exporter": "python",
   "pygments_lexer": "ipython3",
   "version": "3.10.17"
  }
 },
 "nbformat": 4,
 "nbformat_minor": 5
}
