{
 "cells": [
  {
   "cell_type": "code",
   "execution_count": 85,
   "id": "6dd4d5cb",
   "metadata": {},
   "outputs": [
    {
     "data": {
      "text/html": [
       "\n",
       "            <style>\n",
       "                .geemap-dark {\n",
       "                    --jp-widgets-color: white;\n",
       "                    --jp-widgets-label-color: white;\n",
       "                    --jp-ui-font-color1: white;\n",
       "                    --jp-layout-color2: #454545;\n",
       "                    background-color: #383838;\n",
       "                }\n",
       "\n",
       "                .geemap-dark .jupyter-button {\n",
       "                    --jp-layout-color3: #383838;\n",
       "                }\n",
       "\n",
       "                .geemap-colab {\n",
       "                    background-color: var(--colab-primary-surface-color, white);\n",
       "                }\n",
       "\n",
       "                .geemap-colab .jupyter-button {\n",
       "                    --jp-layout-color3: var(--colab-primary-surface-color, white);\n",
       "                }\n",
       "            </style>\n",
       "            "
      ],
      "text/plain": [
       "<IPython.core.display.HTML object>"
      ]
     },
     "metadata": {},
     "output_type": "display_data"
    }
   ],
   "source": [
    "import geopandas as gpd\n",
    "import pandas as pd\n",
    "import geemap\n",
    "import ee\n",
    "import leafmap\n"
   ]
  },
  {
   "cell_type": "code",
   "execution_count": 86,
   "id": "3744485d",
   "metadata": {},
   "outputs": [
    {
     "data": {
      "text/html": [
       "\n",
       "            <style>\n",
       "                .geemap-dark {\n",
       "                    --jp-widgets-color: white;\n",
       "                    --jp-widgets-label-color: white;\n",
       "                    --jp-ui-font-color1: white;\n",
       "                    --jp-layout-color2: #454545;\n",
       "                    background-color: #383838;\n",
       "                }\n",
       "\n",
       "                .geemap-dark .jupyter-button {\n",
       "                    --jp-layout-color3: #383838;\n",
       "                }\n",
       "\n",
       "                .geemap-colab {\n",
       "                    background-color: var(--colab-primary-surface-color, white);\n",
       "                }\n",
       "\n",
       "                .geemap-colab .jupyter-button {\n",
       "                    --jp-layout-color3: var(--colab-primary-surface-color, white);\n",
       "                }\n",
       "            </style>\n",
       "            "
      ],
      "text/plain": [
       "<IPython.core.display.HTML object>"
      ]
     },
     "metadata": {},
     "output_type": "display_data"
    }
   ],
   "source": [
    "cropfile = 'pabbi_crop.geojson'\n",
    "gdf = gpd.read_file(cropfile)\n",
    "#gdf.head()"
   ]
  },
  {
   "cell_type": "code",
   "execution_count": 87,
   "id": "a6d58959",
   "metadata": {},
   "outputs": [
    {
     "data": {
      "text/html": [
       "\n",
       "            <style>\n",
       "                .geemap-dark {\n",
       "                    --jp-widgets-color: white;\n",
       "                    --jp-widgets-label-color: white;\n",
       "                    --jp-ui-font-color1: white;\n",
       "                    --jp-layout-color2: #454545;\n",
       "                    background-color: #383838;\n",
       "                }\n",
       "\n",
       "                .geemap-dark .jupyter-button {\n",
       "                    --jp-layout-color3: #383838;\n",
       "                }\n",
       "\n",
       "                .geemap-colab {\n",
       "                    background-color: var(--colab-primary-surface-color, white);\n",
       "                }\n",
       "\n",
       "                .geemap-colab .jupyter-button {\n",
       "                    --jp-layout-color3: var(--colab-primary-surface-color, white);\n",
       "                }\n",
       "            </style>\n",
       "            "
      ],
      "text/plain": [
       "<IPython.core.display.HTML object>"
      ]
     },
     "metadata": {},
     "output_type": "display_data"
    },
    {
     "name": "stdout",
     "output_type": "stream",
     "text": [
      "Crop_Type\n",
      "Tomato            94\n",
      "Wheat             81\n",
      "Persian Clover    57\n",
      "Corn              16\n",
      "Orchard            6\n",
      "Eucalyptus         5\n",
      "Lady Finger        5\n",
      "Name: count, dtype: int64\n",
      "Mean of Crop_Type 37.714285714285715\n"
     ]
    }
   ],
   "source": [
    "# Filtering the composite labeling\n",
    "#step 1: Remove rows with '/' in 'Crop_Type'\n",
    "gdf_filtered = gdf[~gdf['Crop_Type'].fillna('').str.contains('/')]\n",
    "\n",
    "#Step 2: Remove the nocrop type from the filtered data\n",
    "nocrop = ['No crop' ,'Mix', 'Trees', 'Buitup' ,'Water body', 'Water Channel','Other','Builtup','Barren','Barley','Garlic','Egg Plant','Potato','Indian Squash','Sugarcane' ]\n",
    "gdf_filtered = gdf_filtered[~gdf_filtered['Crop_Type'].isin(nocrop)]\n",
    "\n",
    "#Step 3: Final filtered data\n",
    "gdf_filtered['Crop_Type'].value_counts()\n",
    "print(gdf_filtered['Crop_Type'].value_counts())\n",
    "print ('Mean of Crop_Type',gdf_filtered['Crop_Type'].value_counts().mean())\n",
    "\n",
    "# 0) Drop any rows with missing Crop_Type\n",
    "gdf_filtered = gdf_filtered.dropna(subset=['Crop_Type'])"
   ]
  },
  {
   "cell_type": "code",
   "execution_count": 88,
   "id": "59911d24",
   "metadata": {},
   "outputs": [
    {
     "data": {
      "text/html": [
       "\n",
       "            <style>\n",
       "                .geemap-dark {\n",
       "                    --jp-widgets-color: white;\n",
       "                    --jp-widgets-label-color: white;\n",
       "                    --jp-ui-font-color1: white;\n",
       "                    --jp-layout-color2: #454545;\n",
       "                    background-color: #383838;\n",
       "                }\n",
       "\n",
       "                .geemap-dark .jupyter-button {\n",
       "                    --jp-layout-color3: #383838;\n",
       "                }\n",
       "\n",
       "                .geemap-colab {\n",
       "                    background-color: var(--colab-primary-surface-color, white);\n",
       "                }\n",
       "\n",
       "                .geemap-colab .jupyter-button {\n",
       "                    --jp-layout-color3: var(--colab-primary-surface-color, white);\n",
       "                }\n",
       "            </style>\n",
       "            "
      ],
      "text/plain": [
       "<IPython.core.display.HTML object>"
      ]
     },
     "metadata": {},
     "output_type": "display_data"
    },
    {
     "name": "stdout",
     "output_type": "stream",
     "text": [
      "Major Crop: ['Wheat', 'Persian Clover', 'Tomato']\n",
      "Minor Crop: ['Corn', 'Orchard', 'Eucalyptus', 'Lady Finger']\n"
     ]
    }
   ],
   "source": [
    "# 1) Identify major vs. minor\n",
    "major_crop = ['Wheat','Persian Clover','Tomato']\n",
    "all_crops  = gdf_filtered['Crop_Type'].unique().tolist()\n",
    "minor_crop = [c for c in all_crops if c not in major_crop]\n",
    "print('Major Crop:', major_crop)\n",
    "print('Minor Crop:', minor_crop)"
   ]
  },
  {
   "cell_type": "code",
   "execution_count": 89,
   "id": "50e11102",
   "metadata": {},
   "outputs": [
    {
     "data": {
      "text/html": [
       "\n",
       "            <style>\n",
       "                .geemap-dark {\n",
       "                    --jp-widgets-color: white;\n",
       "                    --jp-widgets-label-color: white;\n",
       "                    --jp-ui-font-color1: white;\n",
       "                    --jp-layout-color2: #454545;\n",
       "                    background-color: #383838;\n",
       "                }\n",
       "\n",
       "                .geemap-dark .jupyter-button {\n",
       "                    --jp-layout-color3: #383838;\n",
       "                }\n",
       "\n",
       "                .geemap-colab {\n",
       "                    background-color: var(--colab-primary-surface-color, white);\n",
       "                }\n",
       "\n",
       "                .geemap-colab .jupyter-button {\n",
       "                    --jp-layout-color3: var(--colab-primary-surface-color, white);\n",
       "                }\n",
       "            </style>\n",
       "            "
      ],
      "text/plain": [
       "<IPython.core.display.HTML object>"
      ]
     },
     "metadata": {},
     "output_type": "display_data"
    },
    {
     "name": "stdout",
     "output_type": "stream",
     "text": [
      "Major average = 77.3, target for minors = 46\n"
     ]
    }
   ],
   "source": [
    "# 2) Compute overall mean of majors, set targets\n",
    "counts    = gdf_filtered['Crop_Type'].value_counts()\n",
    "mean_major = counts[major_crop].mean()            # avg size of the two majors\n",
    "target_min = int(mean_major * 0.6)                # 60% of that for minors\n",
    "print(f\"Major average = {mean_major:.1f}, target for minors = {target_min}\")\n"
   ]
  },
  {
   "cell_type": "code",
   "execution_count": 90,
   "id": "21b688da",
   "metadata": {},
   "outputs": [
    {
     "data": {
      "text/html": [
       "\n",
       "            <style>\n",
       "                .geemap-dark {\n",
       "                    --jp-widgets-color: white;\n",
       "                    --jp-widgets-label-color: white;\n",
       "                    --jp-ui-font-color1: white;\n",
       "                    --jp-layout-color2: #454545;\n",
       "                    background-color: #383838;\n",
       "                }\n",
       "\n",
       "                .geemap-dark .jupyter-button {\n",
       "                    --jp-layout-color3: #383838;\n",
       "                }\n",
       "\n",
       "                .geemap-colab {\n",
       "                    background-color: var(--colab-primary-surface-color, white);\n",
       "                }\n",
       "\n",
       "                .geemap-colab .jupyter-button {\n",
       "                    --jp-layout-color3: var(--colab-primary-surface-color, white);\n",
       "                }\n",
       "            </style>\n",
       "            "
      ],
      "text/plain": [
       "<IPython.core.display.HTML object>"
      ]
     },
     "metadata": {},
     "output_type": "display_data"
    },
    {
     "name": "stdout",
     "output_type": "stream",
     "text": [
      "Target sample sizes per class: {'Tomato': 108, 'Wheat': 92, 'Persian Clover': 100, 'Corn': 77, 'Orchard': 77, 'Eucalyptus': 77, 'Lady Finger': 77}\n"
     ]
    }
   ],
   "source": [
    "from sklearn.utils import resample\n",
    "\n",
    "\n",
    "# 3) Build per-class target_counts\n",
    "target_counts = {}\n",
    "for crop, cnt in gdf_filtered['Crop_Type'].value_counts().items():\n",
    "    if crop == 'Persian Clover':\n",
    "        target_counts[crop] = int(mean_major * 1.3)\n",
    "    elif crop == 'Wheat':\n",
    "        target_counts[crop] = int(mean_major * 1.2)\n",
    "    elif crop == 'Tomato':\n",
    "        target_counts[crop] = int(mean_major * 1.4)\n",
    "    else:\n",
    "        target_counts[crop] = int(mean_major)    # baseline for everyone else\n",
    "\n",
    "print(\"Target sample sizes per class:\", target_counts)"
   ]
  },
  {
   "cell_type": "code",
   "execution_count": 91,
   "id": "84f75fb4",
   "metadata": {},
   "outputs": [
    {
     "data": {
      "text/html": [
       "\n",
       "            <style>\n",
       "                .geemap-dark {\n",
       "                    --jp-widgets-color: white;\n",
       "                    --jp-widgets-label-color: white;\n",
       "                    --jp-ui-font-color1: white;\n",
       "                    --jp-layout-color2: #454545;\n",
       "                    background-color: #383838;\n",
       "                }\n",
       "\n",
       "                .geemap-dark .jupyter-button {\n",
       "                    --jp-layout-color3: #383838;\n",
       "                }\n",
       "\n",
       "                .geemap-colab {\n",
       "                    background-color: var(--colab-primary-surface-color, white);\n",
       "                }\n",
       "\n",
       "                .geemap-colab .jupyter-button {\n",
       "                    --jp-layout-color3: var(--colab-primary-surface-color, white);\n",
       "                }\n",
       "            </style>\n",
       "            "
      ],
      "text/plain": [
       "<IPython.core.display.HTML object>"
      ]
     },
     "metadata": {},
     "output_type": "display_data"
    },
    {
     "name": "stdout",
     "output_type": "stream",
     "text": [
      "\n",
      "New balanced counts:\n",
      "Crop_Type\n",
      "Tomato            108\n",
      "Persian Clover    100\n",
      "Wheat              92\n",
      "Lady Finger        77\n",
      "Eucalyptus         77\n",
      "Corn               77\n",
      "Orchard            77\n",
      "Name: count, dtype: int64\n"
     ]
    }
   ],
   "source": [
    "# 4) Remove any crops that are already larger than target\n",
    "# 4) Resample each group to its target\n",
    "balanced_parts = []\n",
    "for crop, group in gdf_filtered.groupby('Crop_Type'):\n",
    "    target = target_counts[crop]\n",
    "    if len(group) < target:\n",
    "        # oversample with replacement\n",
    "        samp = resample(\n",
    "            group,\n",
    "            replace=True,\n",
    "            n_samples=target,\n",
    "            random_state=42\n",
    "        )\n",
    "    else:\n",
    "        # downsample or keep exact\n",
    "        samp = group.sample(n=target, random_state=42)\n",
    "    balanced_parts.append(samp)\n",
    "\n",
    "gdf_strat = pd.concat(balanced_parts, ignore_index=True)\n",
    "\n",
    "# 5) Verify\n",
    "print(\"\\nNew balanced counts:\")\n",
    "print(gdf_strat['Crop_Type'].value_counts())"
   ]
  },
  {
   "cell_type": "code",
   "execution_count": 92,
   "id": "2649e0ac",
   "metadata": {},
   "outputs": [
    {
     "data": {
      "text/html": [
       "\n",
       "            <style>\n",
       "                .geemap-dark {\n",
       "                    --jp-widgets-color: white;\n",
       "                    --jp-widgets-label-color: white;\n",
       "                    --jp-ui-font-color1: white;\n",
       "                    --jp-layout-color2: #454545;\n",
       "                    background-color: #383838;\n",
       "                }\n",
       "\n",
       "                .geemap-dark .jupyter-button {\n",
       "                    --jp-layout-color3: #383838;\n",
       "                }\n",
       "\n",
       "                .geemap-colab {\n",
       "                    background-color: var(--colab-primary-surface-color, white);\n",
       "                }\n",
       "\n",
       "                .geemap-colab .jupyter-button {\n",
       "                    --jp-layout-color3: var(--colab-primary-surface-color, white);\n",
       "                }\n",
       "            </style>\n",
       "            "
      ],
      "text/plain": [
       "<IPython.core.display.HTML object>"
      ]
     },
     "metadata": {},
     "output_type": "display_data"
    },
    {
     "data": {
      "text/plain": [
       "True"
      ]
     },
     "execution_count": 92,
     "metadata": {},
     "output_type": "execute_result"
    }
   ],
   "source": [
    "ee.Authenticate()"
   ]
  },
  {
   "cell_type": "code",
   "execution_count": 93,
   "id": "dd7e4141",
   "metadata": {},
   "outputs": [
    {
     "data": {
      "text/html": [
       "\n",
       "            <style>\n",
       "                .geemap-dark {\n",
       "                    --jp-widgets-color: white;\n",
       "                    --jp-widgets-label-color: white;\n",
       "                    --jp-ui-font-color1: white;\n",
       "                    --jp-layout-color2: #454545;\n",
       "                    background-color: #383838;\n",
       "                }\n",
       "\n",
       "                .geemap-dark .jupyter-button {\n",
       "                    --jp-layout-color3: #383838;\n",
       "                }\n",
       "\n",
       "                .geemap-colab {\n",
       "                    background-color: var(--colab-primary-surface-color, white);\n",
       "                }\n",
       "\n",
       "                .geemap-colab .jupyter-button {\n",
       "                    --jp-layout-color3: var(--colab-primary-surface-color, white);\n",
       "                }\n",
       "            </style>\n",
       "            "
      ],
      "text/plain": [
       "<IPython.core.display.HTML object>"
      ]
     },
     "metadata": {},
     "output_type": "display_data"
    }
   ],
   "source": [
    "ee.Initialize()"
   ]
  },
  {
   "cell_type": "code",
   "execution_count": 115,
   "id": "41f61c17",
   "metadata": {},
   "outputs": [
    {
     "data": {
      "text/html": [
       "\n",
       "            <style>\n",
       "                .geemap-dark {\n",
       "                    --jp-widgets-color: white;\n",
       "                    --jp-widgets-label-color: white;\n",
       "                    --jp-ui-font-color1: white;\n",
       "                    --jp-layout-color2: #454545;\n",
       "                    background-color: #383838;\n",
       "                }\n",
       "\n",
       "                .geemap-dark .jupyter-button {\n",
       "                    --jp-layout-color3: #383838;\n",
       "                }\n",
       "\n",
       "                .geemap-colab {\n",
       "                    background-color: var(--colab-primary-surface-color, white);\n",
       "                }\n",
       "\n",
       "                .geemap-colab .jupyter-button {\n",
       "                    --jp-layout-color3: var(--colab-primary-surface-color, white);\n",
       "                }\n",
       "            </style>\n",
       "            "
      ],
      "text/plain": [
       "<IPython.core.display.HTML object>"
      ]
     },
     "metadata": {},
     "output_type": "display_data"
    }
   ],
   "source": [
    "# Converting the gdf_balanced to ee feature collection\n",
    "crop_fc = geemap.gdf_to_ee(gdf_strat)"
   ]
  },
  {
   "cell_type": "code",
   "execution_count": 116,
   "id": "22f4461b",
   "metadata": {},
   "outputs": [
    {
     "data": {
      "text/html": [
       "\n",
       "            <style>\n",
       "                .geemap-dark {\n",
       "                    --jp-widgets-color: white;\n",
       "                    --jp-widgets-label-color: white;\n",
       "                    --jp-ui-font-color1: white;\n",
       "                    --jp-layout-color2: #454545;\n",
       "                    background-color: #383838;\n",
       "                }\n",
       "\n",
       "                .geemap-dark .jupyter-button {\n",
       "                    --jp-layout-color3: #383838;\n",
       "                }\n",
       "\n",
       "                .geemap-colab {\n",
       "                    background-color: var(--colab-primary-surface-color, white);\n",
       "                }\n",
       "\n",
       "                .geemap-colab .jupyter-button {\n",
       "                    --jp-layout-color3: var(--colab-primary-surface-color, white);\n",
       "                }\n",
       "            </style>\n",
       "            "
      ],
      "text/plain": [
       "<IPython.core.display.HTML object>"
      ]
     },
     "metadata": {},
     "output_type": "display_data"
    }
   ],
   "source": [
    "# Define a function to get imagery an apply filter\n",
    "def get_imagery (start_date,end_date):\n",
    "    collection = ee.ImageCollection('COPERNICUS/S2_SR_HARMONIZED')\n",
    "    filtered_collection = collection.filterDate(start_date, end_date).filterBounds(crop_fc).filter(ee.Filter.lt('CLOUDY_PIXEL_PERCENTAGE', 10))\n",
    "    #median_image = collection.median().clip(crop_fc)\n",
    "    # Select the first image from the filtered collection\n",
    "    median_image = filtered_collection.median()\n",
    "    return median_image\n"
   ]
  },
  {
   "cell_type": "code",
   "execution_count": 122,
   "id": "819f03b5",
   "metadata": {},
   "outputs": [
    {
     "data": {
      "text/html": [
       "\n",
       "            <style>\n",
       "                .geemap-dark {\n",
       "                    --jp-widgets-color: white;\n",
       "                    --jp-widgets-label-color: white;\n",
       "                    --jp-ui-font-color1: white;\n",
       "                    --jp-layout-color2: #454545;\n",
       "                    background-color: #383838;\n",
       "                }\n",
       "\n",
       "                .geemap-dark .jupyter-button {\n",
       "                    --jp-layout-color3: #383838;\n",
       "                }\n",
       "\n",
       "                .geemap-colab {\n",
       "                    background-color: var(--colab-primary-surface-color, white);\n",
       "                }\n",
       "\n",
       "                .geemap-colab .jupyter-button {\n",
       "                    --jp-layout-color3: var(--colab-primary-surface-color, white);\n",
       "                }\n",
       "            </style>\n",
       "            "
      ],
      "text/plain": [
       "<IPython.core.display.HTML object>"
      ]
     },
     "metadata": {},
     "output_type": "display_data"
    }
   ],
   "source": [
    "# Seperate for Rabi and Kharif Season of the current year\n",
    "\n",
    "\n",
    "def get_ndvindwi(median_image):\n",
    "    # Calculate NDVI\n",
    "    ndvi = median_image.normalizedDifference(['B8', 'B4']).rename('NDVI')\n",
    "    # McFeeters NDWI = (Green - NIR) / (Green + NIR)\n",
    "    ndwi = median_image.normalizedDifference(['B3', 'B8']).rename('NDWI')\n",
    "    return ndvi, ndwi\n",
    "\n",
    "def get_mndwi(median_image):\n",
    "    # Calculate MNDWI\n",
    "    mndwi = median_image.normalizedDifference(['B3', 'B11']).rename('MNDWI')\n",
    "    return mndwi\n",
    "\n",
    "def get_savi(median_image):\n",
    "    # Calculate Soil Adjusted Vetetation Index (SAVI)\n",
    "    savi = median_image.expression(\n",
    "        '(NIR - RED) / (NIR + RED + L) * (1 + L)', {\n",
    "            'NIR': median_image.select('B8'),\n",
    "            'RED': median_image.select('B4'),\n",
    "            'L': 0.5\n",
    "        }).rename('SAVI')\n",
    "    return savi\n",
    "def get_arvi(median_image):\n",
    "    # Calculate Atmospherically Resistant Vegetation Index (ARVI)\n",
    "    arvi = median_image.expression(\n",
    "        '(NIR - (2 * RED - BLUE)) / (NIR + (2 * RED - BLUE))', {\n",
    "            'NIR': median_image.select('B8'),\n",
    "            'RED': median_image.select('B4'),\n",
    "            'BLUE': median_image.select('B2')\n",
    "        }).rename('ARVI')\n",
    "    return arvi\n",
    "\n",
    "def get_otherbands(median_image):\n",
    "    # Adding other bans and calculating their mean\n",
    "    bands = ['B2', 'B3', 'B4', 'B8', 'B11', 'B12']\n",
    "    band_img = median_image.select(bands).rename([f'{b}_mean' for b in bands])\n",
    "    return band_img\n",
    "\n",
    "def get_texture(median_image):\n",
    "    # Calculating the texture\n",
    "    nir_int = median_image.select('B8').toInt32()\n",
    "    texture = nir_int.glcmTexture(size=3)\n",
    "    contrast = texture.select('B8_contrast').rename('contrast')\n",
    "    entropy = texture.select('B8_ent').rename('entropy')\n",
    "    return contrast,entropy\n",
    "\n",
    "def get_features(ndvi, ndwi, band_img, contrast, mndwi,entropy,savi,arvi):\n",
    "    # Combine all features into a single image\n",
    "    features_img = band_img.addBands([ndvi, ndwi,mndwi,entropy,savi,arvi])\n",
    "    features_img = features_img.addBands(contrast)\n",
    "    return features_img\n"
   ]
  },
  {
   "cell_type": "code",
   "execution_count": 123,
   "id": "0364b1af",
   "metadata": {},
   "outputs": [
    {
     "data": {
      "text/html": [
       "\n",
       "            <style>\n",
       "                .geemap-dark {\n",
       "                    --jp-widgets-color: white;\n",
       "                    --jp-widgets-label-color: white;\n",
       "                    --jp-ui-font-color1: white;\n",
       "                    --jp-layout-color2: #454545;\n",
       "                    background-color: #383838;\n",
       "                }\n",
       "\n",
       "                .geemap-dark .jupyter-button {\n",
       "                    --jp-layout-color3: #383838;\n",
       "                }\n",
       "\n",
       "                .geemap-colab {\n",
       "                    background-color: var(--colab-primary-surface-color, white);\n",
       "                }\n",
       "\n",
       "                .geemap-colab .jupyter-button {\n",
       "                    --jp-layout-color3: var(--colab-primary-surface-color, white);\n",
       "                }\n",
       "            </style>\n",
       "            "
      ],
      "text/plain": [
       "<IPython.core.display.HTML object>"
      ]
     },
     "metadata": {},
     "output_type": "display_data"
    }
   ],
   "source": [
    "#---------------------------\n",
    "# Plan reduciton\n",
    "\n",
    "def get_reduction(fc):\n",
    "    # Step 2: Calculate mean NDVI for each agri polygon\n",
    "    pcs = fc.reduceRegions(\n",
    "    collection=crop_fc,\n",
    "    reducer=ee.Reducer.mean(),\n",
    "    scale=10,)\n",
    "    # Convert the result to dataframe\n",
    "    cf= geemap.ee_to_gdf(pcs)\n",
    "    return cf\n",
    "\n"
   ]
  },
  {
   "cell_type": "code",
   "execution_count": 124,
   "id": "83093ca4",
   "metadata": {},
   "outputs": [
    {
     "data": {
      "text/html": [
       "\n",
       "            <style>\n",
       "                .geemap-dark {\n",
       "                    --jp-widgets-color: white;\n",
       "                    --jp-widgets-label-color: white;\n",
       "                    --jp-ui-font-color1: white;\n",
       "                    --jp-layout-color2: #454545;\n",
       "                    background-color: #383838;\n",
       "                }\n",
       "\n",
       "                .geemap-dark .jupyter-button {\n",
       "                    --jp-layout-color3: #383838;\n",
       "                }\n",
       "\n",
       "                .geemap-colab {\n",
       "                    background-color: var(--colab-primary-surface-color, white);\n",
       "                }\n",
       "\n",
       "                .geemap-colab .jupyter-button {\n",
       "                    --jp-layout-color3: var(--colab-primary-surface-color, white);\n",
       "                }\n",
       "            </style>\n",
       "            "
      ],
      "text/plain": [
       "<IPython.core.display.HTML object>"
      ]
     },
     "metadata": {},
     "output_type": "display_data"
    }
   ],
   "source": [
    "#----------------------------------\n",
    "# Now calculate area, perimeter etc\n",
    "def get_area(cropgdf):\n",
    "# We need to calculate the area of each polygon in square meters\n",
    "# Therefore we will convert the geometry to a projected coordinate system (EPSG:32643)\n",
    "    cropgdf=cropgdf.to_crs(epsg=32643)\n",
    "# Calculating the area , perimetere and compactness\n",
    "    cropgdf['Area_m2'] = cropgdf.geometry.area\n",
    "    cropgdf['Perimeter_m'] = cropgdf.geometry.length\n",
    "    cropgdf['Compactness'] = (4 * 3.14 * cropgdf['Area_m2']) / (cropgdf['Perimeter_m'] ** 2)\n",
    "\n",
    "# Switch back to lat/lon if needed for mapping\n",
    "    cropgdf = cropgdf.to_crs(epsg=4326)\n",
    "\n",
    "#Inspect the new columns\n",
    "#gdfcrop_features[['Area_m2','Perimeter_m','Compactness']].head()\n",
    "    return cropgdf\n",
    "\n"
   ]
  },
  {
   "cell_type": "code",
   "execution_count": 125,
   "id": "b5b895e8",
   "metadata": {},
   "outputs": [
    {
     "data": {
      "text/html": [
       "\n",
       "            <style>\n",
       "                .geemap-dark {\n",
       "                    --jp-widgets-color: white;\n",
       "                    --jp-widgets-label-color: white;\n",
       "                    --jp-ui-font-color1: white;\n",
       "                    --jp-layout-color2: #454545;\n",
       "                    background-color: #383838;\n",
       "                }\n",
       "\n",
       "                .geemap-dark .jupyter-button {\n",
       "                    --jp-layout-color3: #383838;\n",
       "                }\n",
       "\n",
       "                .geemap-colab {\n",
       "                    background-color: var(--colab-primary-surface-color, white);\n",
       "                }\n",
       "\n",
       "                .geemap-colab .jupyter-button {\n",
       "                    --jp-layout-color3: var(--colab-primary-surface-color, white);\n",
       "                }\n",
       "            </style>\n",
       "            "
      ],
      "text/plain": [
       "<IPython.core.display.HTML object>"
      ]
     },
     "metadata": {},
     "output_type": "display_data"
    }
   ],
   "source": [
    "# Getting imagery and features\n",
    "early_Kharif=get_imagery('2025-04-01','2025-05-05')\n",
    "rabi = get_imagery('2024-10-01','2025-03-31')\n",
    "full_year = get_imagery('2024-09-01','2025-05-05')\n",
    "\n",
    "ndvi_kharif, ndwi_kharif = get_ndvindwi(early_Kharif)\n",
    "ndvi_rabi, ndwi_rabi = get_ndvindwi(rabi)\n",
    "ndvi_full, ndwi_full = get_ndvindwi(full_year)\n",
    "\n",
    "savi_kharif = get_savi(early_Kharif)\n",
    "savi_rabi = get_savi(rabi)\n",
    "savi_full = get_savi(full_year)\n",
    "\n",
    "arvi_kharif = get_arvi(early_Kharif)\n",
    "arvi_rabi = get_arvi(rabi)\n",
    "arvi_full = get_arvi(full_year)\n",
    "\n",
    "mndwi_kharif = get_mndwi(early_Kharif)\n",
    "mndwi_rabi = get_mndwi(rabi)    \n",
    "mndwi_full = get_mndwi(full_year)\n",
    "\n",
    "band_kharif = get_otherbands(early_Kharif)\n",
    "band_rabi = get_otherbands(rabi)\n",
    "band_full = get_otherbands(full_year)\n",
    "\n",
    "contrast_kharif,entropy_kharif = get_texture(early_Kharif)\n",
    "contrast_rabi, entropy_rabi = get_texture(rabi)    \n",
    "contrast_full,entropy_full = get_texture(full_year)\n",
    "\n",
    "kharif_feats = get_features(ndvi_kharif, ndwi_kharif,band_kharif, contrast_kharif,entropy_kharif,mndwi_kharif,savi_kharif,arvi_kharif)\n",
    "rabi_feats =   get_features(ndvi_rabi, ndwi_rabi,band_rabi, contrast_rabi,entropy_rabi,mndwi_rabi,savi_rabi,arvi_rabi)    \n",
    "full_feats =   get_features(ndvi_full, ndwi_full,band_full, contrast_full,entropy_full,mndwi_full,savi_full,arvi_full)    \n",
    "\n",
    "composite_features = kharif_feats.addBands(full_feats)"
   ]
  },
  {
   "cell_type": "code",
   "execution_count": 126,
   "id": "6cd8eaea",
   "metadata": {},
   "outputs": [
    {
     "data": {
      "text/html": [
       "\n",
       "            <style>\n",
       "                .geemap-dark {\n",
       "                    --jp-widgets-color: white;\n",
       "                    --jp-widgets-label-color: white;\n",
       "                    --jp-ui-font-color1: white;\n",
       "                    --jp-layout-color2: #454545;\n",
       "                    background-color: #383838;\n",
       "                }\n",
       "\n",
       "                .geemap-dark .jupyter-button {\n",
       "                    --jp-layout-color3: #383838;\n",
       "                }\n",
       "\n",
       "                .geemap-colab {\n",
       "                    background-color: var(--colab-primary-surface-color, white);\n",
       "                }\n",
       "\n",
       "                .geemap-colab .jupyter-button {\n",
       "                    --jp-layout-color3: var(--colab-primary-surface-color, white);\n",
       "                }\n",
       "            </style>\n",
       "            "
      ],
      "text/plain": [
       "<IPython.core.display.HTML object>"
      ]
     },
     "metadata": {},
     "output_type": "display_data"
    }
   ],
   "source": [
    "# Get reduction gdf for  Kharif_feas,rabi_feats and composite_features\n",
    "kharif_reduced=get_reduction(kharif_feats)\n",
    "rabi_reduced=get_reduction(rabi_feats)\n",
    "full_reduced=get_reduction(full_feats)\n",
    "\n",
    "composite_reduced=get_reduction(composite_features)\n"
   ]
  },
  {
   "cell_type": "code",
   "execution_count": 127,
   "id": "f69f833a",
   "metadata": {},
   "outputs": [
    {
     "data": {
      "text/html": [
       "\n",
       "            <style>\n",
       "                .geemap-dark {\n",
       "                    --jp-widgets-color: white;\n",
       "                    --jp-widgets-label-color: white;\n",
       "                    --jp-ui-font-color1: white;\n",
       "                    --jp-layout-color2: #454545;\n",
       "                    background-color: #383838;\n",
       "                }\n",
       "\n",
       "                .geemap-dark .jupyter-button {\n",
       "                    --jp-layout-color3: #383838;\n",
       "                }\n",
       "\n",
       "                .geemap-colab {\n",
       "                    background-color: var(--colab-primary-surface-color, white);\n",
       "                }\n",
       "\n",
       "                .geemap-colab .jupyter-button {\n",
       "                    --jp-layout-color3: var(--colab-primary-surface-color, white);\n",
       "                }\n",
       "            </style>\n",
       "            "
      ],
      "text/plain": [
       "<IPython.core.display.HTML object>"
      ]
     },
     "metadata": {},
     "output_type": "display_data"
    }
   ],
   "source": [
    "#Get area, perimetetr and compactness for kharif_reduced,rabi_reduced and composite_reduced\n",
    "kharif_reduced=get_area(kharif_reduced)\n",
    "rabi_reduced=get_area(rabi_reduced)\n",
    "composite_reduced=get_area(composite_reduced)\n",
    "full_reduced=get_area(full_reduced)"
   ]
  },
  {
   "cell_type": "code",
   "execution_count": 128,
   "id": "eb0b2f0b",
   "metadata": {},
   "outputs": [
    {
     "data": {
      "text/html": [
       "\n",
       "            <style>\n",
       "                .geemap-dark {\n",
       "                    --jp-widgets-color: white;\n",
       "                    --jp-widgets-label-color: white;\n",
       "                    --jp-ui-font-color1: white;\n",
       "                    --jp-layout-color2: #454545;\n",
       "                    background-color: #383838;\n",
       "                }\n",
       "\n",
       "                .geemap-dark .jupyter-button {\n",
       "                    --jp-layout-color3: #383838;\n",
       "                }\n",
       "\n",
       "                .geemap-colab {\n",
       "                    background-color: var(--colab-primary-surface-color, white);\n",
       "                }\n",
       "\n",
       "                .geemap-colab .jupyter-button {\n",
       "                    --jp-layout-color3: var(--colab-primary-surface-color, white);\n",
       "                }\n",
       "            </style>\n",
       "            "
      ],
      "text/plain": [
       "<IPython.core.display.HTML object>"
      ]
     },
     "metadata": {},
     "output_type": "display_data"
    },
    {
     "data": {
      "text/plain": [
       "Index(['geometry', 'ARVI', 'ARVI_1', 'Area_Acre', 'B11_mean', 'B11_mean_1',\n",
       "       'B12_mean', 'B12_mean_1', 'B2_mean', 'B2_mean_1', 'B3_mean',\n",
       "       'B3_mean_1', 'B4_mean', 'B4_mean_1', 'B8_mean', 'B8_mean_1',\n",
       "       'Crop_Type', 'FFID', 'Landuse_Ma', 'MNDWI', 'MNDWI_1', 'Mouza_Name',\n",
       "       'NDVI', 'NDVI_1', 'NDWI', 'NDWI_1', 'Parcel_ID', 'SAVI', 'SAVI_1',\n",
       "       'contrast', 'contrast_1', 'entropy', 'entropy_1', 'Area_m2',\n",
       "       'Perimeter_m', 'Compactness'],\n",
       "      dtype='object')"
      ]
     },
     "execution_count": 128,
     "metadata": {},
     "output_type": "execute_result"
    }
   ],
   "source": [
    "composite_reduced.columns"
   ]
  },
  {
   "cell_type": "code",
   "execution_count": 129,
   "id": "0ac0d46c",
   "metadata": {},
   "outputs": [
    {
     "data": {
      "text/html": [
       "\n",
       "            <style>\n",
       "                .geemap-dark {\n",
       "                    --jp-widgets-color: white;\n",
       "                    --jp-widgets-label-color: white;\n",
       "                    --jp-ui-font-color1: white;\n",
       "                    --jp-layout-color2: #454545;\n",
       "                    background-color: #383838;\n",
       "                }\n",
       "\n",
       "                .geemap-dark .jupyter-button {\n",
       "                    --jp-layout-color3: #383838;\n",
       "                }\n",
       "\n",
       "                .geemap-colab {\n",
       "                    background-color: var(--colab-primary-surface-color, white);\n",
       "                }\n",
       "\n",
       "                .geemap-colab .jupyter-button {\n",
       "                    --jp-layout-color3: var(--colab-primary-surface-color, white);\n",
       "                }\n",
       "            </style>\n",
       "            "
      ],
      "text/plain": [
       "<IPython.core.display.HTML object>"
      ]
     },
     "metadata": {},
     "output_type": "display_data"
    }
   ],
   "source": [
    "composite_reduced['delta_NDVI'] = composite_reduced['NDVI'] - composite_reduced['NDVI_1']"
   ]
  },
  {
   "cell_type": "code",
   "execution_count": 130,
   "id": "2c5af0b2",
   "metadata": {},
   "outputs": [
    {
     "data": {
      "text/html": [
       "\n",
       "            <style>\n",
       "                .geemap-dark {\n",
       "                    --jp-widgets-color: white;\n",
       "                    --jp-widgets-label-color: white;\n",
       "                    --jp-ui-font-color1: white;\n",
       "                    --jp-layout-color2: #454545;\n",
       "                    background-color: #383838;\n",
       "                }\n",
       "\n",
       "                .geemap-dark .jupyter-button {\n",
       "                    --jp-layout-color3: #383838;\n",
       "                }\n",
       "\n",
       "                .geemap-colab {\n",
       "                    background-color: var(--colab-primary-surface-color, white);\n",
       "                }\n",
       "\n",
       "                .geemap-colab .jupyter-button {\n",
       "                    --jp-layout-color3: var(--colab-primary-surface-color, white);\n",
       "                }\n",
       "            </style>\n",
       "            "
      ],
      "text/plain": [
       "<IPython.core.display.HTML object>"
      ]
     },
     "metadata": {},
     "output_type": "display_data"
    },
    {
     "data": {
      "text/plain": [
       "Index(['geometry', 'ARVI', 'ARVI_1', 'Area_Acre', 'B11_mean', 'B11_mean_1',\n",
       "       'B12_mean', 'B12_mean_1', 'B2_mean', 'B2_mean_1', 'B3_mean',\n",
       "       'B3_mean_1', 'B4_mean', 'B4_mean_1', 'B8_mean', 'B8_mean_1',\n",
       "       'Crop_Type', 'FFID', 'Landuse_Ma', 'MNDWI', 'MNDWI_1', 'Mouza_Name',\n",
       "       'NDVI', 'NDVI_1', 'NDWI', 'NDWI_1', 'Parcel_ID', 'SAVI', 'SAVI_1',\n",
       "       'contrast', 'contrast_1', 'entropy', 'entropy_1', 'Area_m2',\n",
       "       'Perimeter_m', 'Compactness', 'delta_NDVI'],\n",
       "      dtype='object')"
      ]
     },
     "execution_count": 130,
     "metadata": {},
     "output_type": "execute_result"
    }
   ],
   "source": [
    "composite_reduced.columns"
   ]
  },
  {
   "cell_type": "code",
   "execution_count": 131,
   "id": "0a1e2c98",
   "metadata": {},
   "outputs": [
    {
     "data": {
      "text/html": [
       "\n",
       "            <style>\n",
       "                .geemap-dark {\n",
       "                    --jp-widgets-color: white;\n",
       "                    --jp-widgets-label-color: white;\n",
       "                    --jp-ui-font-color1: white;\n",
       "                    --jp-layout-color2: #454545;\n",
       "                    background-color: #383838;\n",
       "                }\n",
       "\n",
       "                .geemap-dark .jupyter-button {\n",
       "                    --jp-layout-color3: #383838;\n",
       "                }\n",
       "\n",
       "                .geemap-colab {\n",
       "                    background-color: var(--colab-primary-surface-color, white);\n",
       "                }\n",
       "\n",
       "                .geemap-colab .jupyter-button {\n",
       "                    --jp-layout-color3: var(--colab-primary-surface-color, white);\n",
       "                }\n",
       "            </style>\n",
       "            "
      ],
      "text/plain": [
       "<IPython.core.display.HTML object>"
      ]
     },
     "metadata": {},
     "output_type": "display_data"
    }
   ],
   "source": [
    "# Checking one by one\n",
    "\n",
    "#gdfcrop_features= kharif_reduced # Checking the Kharif Season\n",
    "#gdfcrop_features= rabi_reduced # Checking the rabi Season\n",
    "#gdfcrop_features= full_reduced # Checking the full Season\n",
    "gdfcrop_features= composite_reduced # Checking the composite Season\n",
    "\n",
    "\n"
   ]
  },
  {
   "cell_type": "code",
   "execution_count": 132,
   "id": "87c9a12d",
   "metadata": {},
   "outputs": [
    {
     "data": {
      "text/html": [
       "\n",
       "            <style>\n",
       "                .geemap-dark {\n",
       "                    --jp-widgets-color: white;\n",
       "                    --jp-widgets-label-color: white;\n",
       "                    --jp-ui-font-color1: white;\n",
       "                    --jp-layout-color2: #454545;\n",
       "                    background-color: #383838;\n",
       "                }\n",
       "\n",
       "                .geemap-dark .jupyter-button {\n",
       "                    --jp-layout-color3: #383838;\n",
       "                }\n",
       "\n",
       "                .geemap-colab {\n",
       "                    background-color: var(--colab-primary-surface-color, white);\n",
       "                }\n",
       "\n",
       "                .geemap-colab .jupyter-button {\n",
       "                    --jp-layout-color3: var(--colab-primary-surface-color, white);\n",
       "                }\n",
       "            </style>\n",
       "            "
      ],
      "text/plain": [
       "<IPython.core.display.HTML object>"
      ]
     },
     "metadata": {},
     "output_type": "display_data"
    }
   ],
   "source": [
    "# List out the exact feature columns in your composite_reduced\n",
    "feature_cols = [\n",
    "    # early‑Kharif means (no “_1” suffix)\n",
    "    'B2_mean', 'B3_mean', 'B4_mean', 'B8_mean', 'B11_mean', 'B12_mean','ARVI',\n",
    "    'SAVI','NDVI', 'NDWI', 'contrast','MNDWI','entropy',\n",
    "    # full‑year means (with “_1” suffix)\n",
    "    'B2_mean_1', 'B3_mean_1', 'B4_mean_1', 'B8_mean_1', 'B11_mean_1', 'B12_mean_1','ARVI_1','SAVI_1',\n",
    "    'NDVI_1', 'NDWI_1', 'contrast_1', 'MNDWI_1','entropy_1',\n",
    "    # delta\n",
    "    'delta_NDVI',\n",
    "    # shape metrics (if present—you can add Area_Acre or Area_m2 etc.)\n",
    "    'Area_m2','Perimeter_m','Compactness'       # or 'Area_m2','Perimeter_m','Compactness'\n",
    "  \n",
    "]\n",
    "\n",
    "#drop_feats = ['B2_mean_1']\n",
    "#feature_cols = [f for f in feature_cols if f not in drop_feats]\n"
   ]
  },
  {
   "cell_type": "code",
   "execution_count": 133,
   "id": "01344027",
   "metadata": {},
   "outputs": [
    {
     "data": {
      "text/html": [
       "\n",
       "            <style>\n",
       "                .geemap-dark {\n",
       "                    --jp-widgets-color: white;\n",
       "                    --jp-widgets-label-color: white;\n",
       "                    --jp-ui-font-color1: white;\n",
       "                    --jp-layout-color2: #454545;\n",
       "                    background-color: #383838;\n",
       "                }\n",
       "\n",
       "                .geemap-dark .jupyter-button {\n",
       "                    --jp-layout-color3: #383838;\n",
       "                }\n",
       "\n",
       "                .geemap-colab {\n",
       "                    background-color: var(--colab-primary-surface-color, white);\n",
       "                }\n",
       "\n",
       "                .geemap-colab .jupyter-button {\n",
       "                    --jp-layout-color3: var(--colab-primary-surface-color, white);\n",
       "                }\n",
       "            </style>\n",
       "            "
      ],
      "text/plain": [
       "<IPython.core.display.HTML object>"
      ]
     },
     "metadata": {},
     "output_type": "display_data"
    }
   ],
   "source": [
    "from sklearn.model_selection import train_test_split\n",
    "# Splitting the data into training and testing sets\n",
    "\n",
    "#Step 1 Define features (NDVI mean) and target label (Crop_Type)\n",
    "X = composite_reduced[feature_cols].values\n",
    "y = composite_reduced['Crop_Type'].values\n",
    "\n",
    "# Train-test Split 80 % train and 20% test\n",
    "X_train, X_test, y_train, y_test = train_test_split(X, y, test_size=0.2, random_state=42,stratify=y)\n",
    "\n"
   ]
  },
  {
   "cell_type": "code",
   "execution_count": 134,
   "id": "3e2b6ce3",
   "metadata": {},
   "outputs": [
    {
     "data": {
      "text/html": [
       "\n",
       "            <style>\n",
       "                .geemap-dark {\n",
       "                    --jp-widgets-color: white;\n",
       "                    --jp-widgets-label-color: white;\n",
       "                    --jp-ui-font-color1: white;\n",
       "                    --jp-layout-color2: #454545;\n",
       "                    background-color: #383838;\n",
       "                }\n",
       "\n",
       "                .geemap-dark .jupyter-button {\n",
       "                    --jp-layout-color3: #383838;\n",
       "                }\n",
       "\n",
       "                .geemap-colab {\n",
       "                    background-color: var(--colab-primary-surface-color, white);\n",
       "                }\n",
       "\n",
       "                .geemap-colab .jupyter-button {\n",
       "                    --jp-layout-color3: var(--colab-primary-surface-color, white);\n",
       "                }\n",
       "            </style>\n",
       "            "
      ],
      "text/plain": [
       "<IPython.core.display.HTML object>"
      ]
     },
     "metadata": {},
     "output_type": "display_data"
    },
    {
     "name": "stdout",
     "output_type": "stream",
     "text": [
      "Classification Report:\n",
      "                precision    recall  f1-score   support\n",
      "\n",
      "          Corn       0.94      1.00      0.97        15\n",
      "    Eucalyptus       1.00      1.00      1.00        15\n",
      "   Lady Finger       1.00      1.00      1.00        16\n",
      "       Orchard       1.00      1.00      1.00        15\n",
      "Persian Clover       0.90      0.90      0.90        20\n",
      "        Tomato       0.95      0.82      0.88        22\n",
      "         Wheat       0.81      0.89      0.85        19\n",
      "\n",
      "      accuracy                           0.93       122\n",
      "     macro avg       0.94      0.94      0.94       122\n",
      "  weighted avg       0.94      0.93      0.93       122\n",
      "\n",
      "Confusion Matrix:\n",
      "[[15  0  0  0  0  0  0]\n",
      " [ 0 15  0  0  0  0  0]\n",
      " [ 0  0 16  0  0  0  0]\n",
      " [ 0  0  0 15  0  0  0]\n",
      " [ 0  0  0  0 18  0  2]\n",
      " [ 1  0  0  0  1 18  2]\n",
      " [ 0  0  0  0  1  1 17]]\n"
     ]
    }
   ],
   "source": [
    "\n",
    "from sklearn.ensemble import RandomForestClassifier\n",
    "from sklearn.metrics import classification_report, confusion_matrix\n",
    "\n",
    "# Initialize the model\n",
    "rf_model = RandomForestClassifier(n_estimators=300,\n",
    "    max_depth=20,\n",
    "    min_samples_split=2,\n",
    "    min_samples_leaf=1,\n",
    "    class_weight='balanced',\n",
    "    random_state=42)\n",
    "\n",
    "# Train the model\n",
    "rf_model.fit(X_train, y_train)\n",
    "\n",
    "# Predict on the test set\n",
    "y_pred = rf_model.predict(X_test)\n",
    "\n",
    "# Evaluate the model\n",
    "print(\"Classification Report:\")\n",
    "print(classification_report(y_test, y_pred,zero_division=0))\n",
    "\n",
    "print(\"Confusion Matrix:\")\n",
    "print(confusion_matrix(y_test, y_pred))\n"
   ]
  },
  {
   "cell_type": "code",
   "execution_count": null,
   "id": "c340d7da",
   "metadata": {},
   "outputs": [
    {
     "data": {
      "text/html": [
       "\n",
       "            <style>\n",
       "                .geemap-dark {\n",
       "                    --jp-widgets-color: white;\n",
       "                    --jp-widgets-label-color: white;\n",
       "                    --jp-ui-font-color1: white;\n",
       "                    --jp-layout-color2: #454545;\n",
       "                    background-color: #383838;\n",
       "                }\n",
       "\n",
       "                .geemap-dark .jupyter-button {\n",
       "                    --jp-layout-color3: #383838;\n",
       "                }\n",
       "\n",
       "                .geemap-colab {\n",
       "                    background-color: var(--colab-primary-surface-color, white);\n",
       "                }\n",
       "\n",
       "                .geemap-colab .jupyter-button {\n",
       "                    --jp-layout-color3: var(--colab-primary-surface-color, white);\n",
       "                }\n",
       "            </style>\n",
       "            "
      ],
      "text/plain": [
       "<IPython.core.display.HTML object>"
      ]
     },
     "metadata": {},
     "output_type": "display_data"
    }
   ],
   "source": [
    "# Merge the features dataframe with the original gdf_strat dataframe on parcle id .\n",
    "\n",
    "gdf_strat = gdf_strat.reset_index(drop=True)  \n",
    "composite_reduced = composite_reduced.reset_index(drop=True)\n",
    "\n",
    "\n",
    "\n",
    "# 2. merge the features onto gdf_strat\n",
    "gdf_with_feats = gdf_strat.merge(\n",
    "    composite_reduced[['Parcel_ID'] + feature_cols],\n",
    "    on='Parcel_ID',\n",
    "    how='left'\n",
    ")\n"
   ]
  },
  {
   "cell_type": "code",
   "execution_count": 56,
   "id": "df76fe00",
   "metadata": {},
   "outputs": [
    {
     "data": {
      "text/html": [
       "\n",
       "            <style>\n",
       "                .geemap-dark {\n",
       "                    --jp-widgets-color: white;\n",
       "                    --jp-widgets-label-color: white;\n",
       "                    --jp-ui-font-color1: white;\n",
       "                    --jp-layout-color2: #454545;\n",
       "                    background-color: #383838;\n",
       "                }\n",
       "\n",
       "                .geemap-dark .jupyter-button {\n",
       "                    --jp-layout-color3: #383838;\n",
       "                }\n",
       "\n",
       "                .geemap-colab {\n",
       "                    background-color: var(--colab-primary-surface-color, white);\n",
       "                }\n",
       "\n",
       "                .geemap-colab .jupyter-button {\n",
       "                    --jp-layout-color3: var(--colab-primary-surface-color, white);\n",
       "                }\n",
       "            </style>\n",
       "            "
      ],
      "text/plain": [
       "<IPython.core.display.HTML object>"
      ]
     },
     "metadata": {},
     "output_type": "display_data"
    },
    {
     "name": "stdout",
     "output_type": "stream",
     "text": [
      "Crop_Type\n",
      "Tomato            108\n",
      "Persian Clover    100\n",
      "Wheat              92\n",
      "Lady Finger        77\n",
      "Eucalyptus         77\n",
      "Corn               77\n",
      "Orchard            77\n",
      "Name: count, dtype: int64\n",
      "pred\n",
      "Eucalyptus        1302\n",
      "Lady Finger       1291\n",
      "Orchard           1055\n",
      "Corn               403\n",
      "Persian Clover     279\n",
      "Tomato             249\n",
      "Wheat              227\n",
      "Name: count, dtype: int64\n"
     ]
    }
   ],
   "source": [
    "original = gdf_strat['Crop_Type'].value_counts()\n",
    "predicted=gdf_with_feats['pred'].value_counts()\n",
    "print(original)\n",
    "print(predicted)"
   ]
  },
  {
   "cell_type": "code",
   "execution_count": 26,
   "id": "65a4374d",
   "metadata": {},
   "outputs": [
    {
     "data": {
      "text/html": [
       "\n",
       "            <style>\n",
       "                .geemap-dark {\n",
       "                    --jp-widgets-color: white;\n",
       "                    --jp-widgets-label-color: white;\n",
       "                    --jp-ui-font-color1: white;\n",
       "                    --jp-layout-color2: #454545;\n",
       "                    background-color: #383838;\n",
       "                }\n",
       "\n",
       "                .geemap-dark .jupyter-button {\n",
       "                    --jp-layout-color3: #383838;\n",
       "                }\n",
       "\n",
       "                .geemap-colab {\n",
       "                    background-color: var(--colab-primary-surface-color, white);\n",
       "                }\n",
       "\n",
       "                .geemap-colab .jupyter-button {\n",
       "                    --jp-layout-color3: var(--colab-primary-surface-color, white);\n",
       "                }\n",
       "            </style>\n",
       "            "
      ],
      "text/plain": [
       "<IPython.core.display.HTML object>"
      ]
     },
     "metadata": {},
     "output_type": "display_data"
    }
   ],
   "source": [
    "\n",
    "# 3. now you can predict\n",
    "gdf_with_feats['pred'] = rf_model.predict(gdf_with_feats[feature_cols].values)"
   ]
  },
  {
   "cell_type": "code",
   "execution_count": 75,
   "id": "d1235aa7",
   "metadata": {},
   "outputs": [
    {
     "data": {
      "text/html": [
       "\n",
       "            <style>\n",
       "                .geemap-dark {\n",
       "                    --jp-widgets-color: white;\n",
       "                    --jp-widgets-label-color: white;\n",
       "                    --jp-ui-font-color1: white;\n",
       "                    --jp-layout-color2: #454545;\n",
       "                    background-color: #383838;\n",
       "                }\n",
       "\n",
       "                .geemap-dark .jupyter-button {\n",
       "                    --jp-layout-color3: #383838;\n",
       "                }\n",
       "\n",
       "                .geemap-colab {\n",
       "                    background-color: var(--colab-primary-surface-color, white);\n",
       "                }\n",
       "\n",
       "                .geemap-colab .jupyter-button {\n",
       "                    --jp-layout-color3: var(--colab-primary-surface-color, white);\n",
       "                }\n",
       "            </style>\n",
       "            "
      ],
      "text/plain": [
       "<IPython.core.display.HTML object>"
      ]
     },
     "metadata": {},
     "output_type": "display_data"
    }
   ],
   "source": [
    "# Save the model prediction to a geojson file\n",
    "gdf_with_feats.to_file(\"pabbi_crop_predictions.geojson\", driver=\"GeoJSON\")\n"
   ]
  },
  {
   "cell_type": "code",
   "execution_count": null,
   "id": "edbf2975",
   "metadata": {},
   "outputs": [
    {
     "data": {
      "text/html": [
       "\n",
       "            <style>\n",
       "                .geemap-dark {\n",
       "                    --jp-widgets-color: white;\n",
       "                    --jp-widgets-label-color: white;\n",
       "                    --jp-ui-font-color1: white;\n",
       "                    --jp-layout-color2: #454545;\n",
       "                    background-color: #383838;\n",
       "                }\n",
       "\n",
       "                .geemap-dark .jupyter-button {\n",
       "                    --jp-layout-color3: #383838;\n",
       "                }\n",
       "\n",
       "                .geemap-colab {\n",
       "                    background-color: var(--colab-primary-surface-color, white);\n",
       "                }\n",
       "\n",
       "                .geemap-colab .jupyter-button {\n",
       "                    --jp-layout-color3: var(--colab-primary-surface-color, white);\n",
       "                }\n",
       "            </style>\n",
       "            "
      ],
      "text/plain": [
       "<IPython.core.display.HTML object>"
      ]
     },
     "metadata": {},
     "output_type": "display_data"
    }
   ],
   "source": [
    "originalstyle ={\"color\": \"lightgreen\", \"fillColor\": \" \", \"fillOpacity\": 0.1, \"weight\": 2}\n",
    "\n",
    "filteredstyle = {\"color\": \"yellow\", \"fillColor\": \"yellow\", \"fillOpacity\": 0.1, \"weight\": 2}\n",
    "\n",
    "predictedstyle ={\"color\": \"red\", \"fillColor\": \"red\", \"fillOpacity\": 0.1, \"weight\": 2}\n",
    "\n",
    "#Define fixed color mapping for known crops\n",
    "crop_colors = {\n",
    "    \"Wheat\": \"#FFD700\",      # gold\n",
    "    \"Corn\": \"#32CD32\",      # lime green\n",
    "    \"Tomato\": \"#1E90FF\",     # blue\n",
    "    \"Lady Finger\": \"#006400\",  # dark green\n",
    "    \"Persian Clover\": \"#800080\",     # purple\n",
    "    \"Eucalyptus\": \"#A9A9A9\",      # dark gray\n",
    "    \"Orchard\": \"#FF6347\",     # tomato  \n",
    "    \"Other\": \"#FF69B0\",      # orange red\n",
    "    \n",
    "}"
   ]
  },
  {
   "cell_type": "code",
   "execution_count": null,
   "id": "71de335e",
   "metadata": {},
   "outputs": [
    {
     "data": {
      "text/html": [
       "\n",
       "            <style>\n",
       "                .geemap-dark {\n",
       "                    --jp-widgets-color: white;\n",
       "                    --jp-widgets-label-color: white;\n",
       "                    --jp-ui-font-color1: white;\n",
       "                    --jp-layout-color2: #454545;\n",
       "                    background-color: #383838;\n",
       "                }\n",
       "\n",
       "                .geemap-dark .jupyter-button {\n",
       "                    --jp-layout-color3: #383838;\n",
       "                }\n",
       "\n",
       "                .geemap-colab {\n",
       "                    background-color: var(--colab-primary-surface-color, white);\n",
       "                }\n",
       "\n",
       "                .geemap-colab .jupyter-button {\n",
       "                    --jp-layout-color3: var(--colab-primary-surface-color, white);\n",
       "                }\n",
       "            </style>\n",
       "            "
      ],
      "text/plain": [
       "<IPython.core.display.HTML object>"
      ]
     },
     "metadata": {},
     "output_type": "display_data"
    },
    {
     "ename": "AttributeError",
     "evalue": "'Image' object has no attribute 'strip'",
     "output_type": "error",
     "traceback": [
      "\u001b[1;31m---------------------------------------------------------------------------\u001b[0m",
      "\u001b[1;31mAttributeError\u001b[0m                            Traceback (most recent call last)",
      "Cell \u001b[1;32mIn[84], line 9\u001b[0m\n\u001b[0;32m      6\u001b[0m m\u001b[38;5;241m.\u001b[39madd_layer_control()\n\u001b[0;32m      7\u001b[0m \u001b[38;5;66;03m#m.add_basemap(\"Google Satellite\")\u001b[39;00m\n\u001b[0;32m      8\u001b[0m \u001b[38;5;66;03m#First add the median image to the map\u001b[39;00m\n\u001b[1;32m----> 9\u001b[0m \u001b[43mm\u001b[49m\u001b[38;5;241;43m.\u001b[39;49m\u001b[43madd_ee_layer\u001b[49m\u001b[43m(\u001b[49m\u001b[43mfull_year\u001b[49m\u001b[43m,\u001b[49m\u001b[43m \u001b[49m\u001b[43m{\u001b[49m\u001b[43m}\u001b[49m\u001b[43m,\u001b[49m\u001b[43m \u001b[49m\u001b[38;5;124;43m\"\u001b[39;49m\u001b[38;5;124;43mMedian Image\u001b[39;49m\u001b[38;5;124;43m\"\u001b[39;49m\u001b[43m,\u001b[49m\u001b[43m \u001b[49m\u001b[38;5;241;43m0.7\u001b[39;49m\u001b[43m)\u001b[49m\n\u001b[0;32m     11\u001b[0m \u001b[38;5;66;03m#m.add_colorbar(title=\"Crop Type\", cmap=color_dict, layer_name=\"Crop Type\")\u001b[39;00m\n\u001b[0;32m     12\u001b[0m m\u001b[38;5;241m.\u001b[39madd_gdf(gdf,layer_name\u001b[38;5;241m=\u001b[39m\u001b[38;5;124m\"\u001b[39m\u001b[38;5;124mOriginal Crop Type\u001b[39m\u001b[38;5;124m\"\u001b[39m,style\u001b[38;5;241m=\u001b[39m originalstyle)\n",
      "File \u001b[1;32md:\\Trainings\\geenv\\lib\\site-packages\\leafmap\\leafmap.py:477\u001b[0m, in \u001b[0;36mMap.add_ee_layer\u001b[1;34m(self, asset_id, name, attribution, shown, opacity, **kwargs)\u001b[0m\n\u001b[0;32m    470\u001b[0m \u001b[38;5;28;01mimport\u001b[39;00m\u001b[38;5;250m \u001b[39m\u001b[38;5;21;01mpandas\u001b[39;00m\u001b[38;5;250m \u001b[39m\u001b[38;5;28;01mas\u001b[39;00m\u001b[38;5;250m \u001b[39m\u001b[38;5;21;01mpd\u001b[39;00m\n\u001b[0;32m    472\u001b[0m df \u001b[38;5;241m=\u001b[39m pd\u001b[38;5;241m.\u001b[39mread_csv(\n\u001b[0;32m    473\u001b[0m     \u001b[38;5;124m\"\u001b[39m\u001b[38;5;124mhttps://raw.githubusercontent.com/opengeos/ee-tile-layers/main/datasets.tsv\u001b[39m\u001b[38;5;124m\"\u001b[39m,\n\u001b[0;32m    474\u001b[0m     sep\u001b[38;5;241m=\u001b[39m\u001b[38;5;124m\"\u001b[39m\u001b[38;5;130;01m\\t\u001b[39;00m\u001b[38;5;124m\"\u001b[39m,\n\u001b[0;32m    475\u001b[0m )\n\u001b[1;32m--> 477\u001b[0m asset_id \u001b[38;5;241m=\u001b[39m \u001b[43masset_id\u001b[49m\u001b[38;5;241;43m.\u001b[39;49m\u001b[43mstrip\u001b[49m()\n\u001b[0;32m    478\u001b[0m \u001b[38;5;28;01mif\u001b[39;00m name \u001b[38;5;129;01mis\u001b[39;00m \u001b[38;5;28;01mNone\u001b[39;00m:\n\u001b[0;32m    479\u001b[0m     name \u001b[38;5;241m=\u001b[39m asset_id\n",
      "\u001b[1;31mAttributeError\u001b[0m: 'Image' object has no attribute 'strip'"
     ]
    }
   ],
   "source": [
    "m = leafmap.Map(zoom_control=False,\n",
    "    draw_control=False,\n",
    "    scale_control=False,\n",
    "    fullscreen_control=False,)\n",
    "\n",
    "m.add_layer_control()\n",
    "\n",
    "#First add the median image to the map\n",
    "\n",
    "m.add_ee_layer(full_year, {}, \"Median Image\", 0.7)\n",
    "\n",
    "#m.add_colorbar(title=\"Crop Type\", cmap=color_dict, layer_name=\"Crop Type\")\n",
    "m.add_gdf(gdf,layer_name=\"Original Crop Type\",style= originalstyle)\n",
    "m.add_gdf(gdf_filtered,layer_name=\"Filtered Crop Type\",style=filteredstyle, zoom_to_layer=True)\n",
    "\n",
    "\n",
    "m\n",
    "\n",
    "\n"
   ]
  },
  {
   "cell_type": "code",
   "execution_count": null,
   "id": "61c4249b",
   "metadata": {},
   "outputs": [],
   "source": [
    "#Export your model and features for reproducibility\n",
    "#You can pickle your RF and the feature‐extraction parameters so that any future user can apply the exact same classification:\n",
    "\n",
    "import joblib\n",
    "joblib.dump({\n",
    "    'model': rf_model,\n",
    "    'feature_cols': feature_cols\n",
    "}, 'crop_rf_pipeline.pkl')\n"
   ]
  },
  {
   "cell_type": "code",
   "execution_count": 829,
   "id": "5295d2d2",
   "metadata": {},
   "outputs": [
    {
     "data": {
      "text/html": [
       "\n",
       "            <style>\n",
       "                .geemap-dark {\n",
       "                    --jp-widgets-color: white;\n",
       "                    --jp-widgets-label-color: white;\n",
       "                    --jp-ui-font-color1: white;\n",
       "                    --jp-layout-color2: #454545;\n",
       "                    background-color: #383838;\n",
       "                }\n",
       "\n",
       "                .geemap-dark .jupyter-button {\n",
       "                    --jp-layout-color3: #383838;\n",
       "                }\n",
       "\n",
       "                .geemap-colab {\n",
       "                    background-color: var(--colab-primary-surface-color, white);\n",
       "                }\n",
       "\n",
       "                .geemap-colab .jupyter-button {\n",
       "                    --jp-layout-color3: var(--colab-primary-surface-color, white);\n",
       "                }\n",
       "            </style>\n",
       "            "
      ],
      "text/plain": [
       "<IPython.core.display.HTML object>"
      ]
     },
     "metadata": {},
     "output_type": "display_data"
    },
    {
     "name": "stdout",
     "output_type": "stream",
     "text": [
      "Fitting 5 folds for each of 30 candidates, totalling 150 fits\n",
      "Best hyperparameters found:\n",
      "  n_estimators: 300\n",
      "  min_samples_split: 2\n",
      "  min_samples_leaf: 1\n",
      "  max_depth: None\n",
      "  class_weight: balanced\n",
      "\n",
      "Classification Report (best estimator):\n",
      "                precision    recall  f1-score   support\n",
      "\n",
      "          Corn       1.00      1.00      1.00        15\n",
      "    Eucalyptus       1.00      1.00      1.00        15\n",
      "   Lady Finger       1.00      1.00      1.00        16\n",
      "       Orchard       1.00      1.00      1.00        15\n",
      "Persian Clover       0.82      0.90      0.86        20\n",
      "        Tomato       0.95      0.86      0.90        22\n",
      "         Wheat       0.84      0.84      0.84        19\n",
      "\n",
      "      accuracy                           0.93       122\n",
      "     macro avg       0.94      0.94      0.94       122\n",
      "  weighted avg       0.94      0.93      0.93       122\n",
      "\n"
     ]
    }
   ],
   "source": [
    "# Hyper Parameter Tuning using RandomizedSearchCV\n",
    "from sklearn.model_selection import RandomizedSearchCV\n",
    "from sklearn.ensemble import RandomForestClassifier\n",
    "from sklearn.metrics import classification_report\n",
    "\n",
    "# 1) Define the parameter search space\n",
    "param_dist = {\n",
    "    'n_estimators':       [100, 200, 300, 400, 500],\n",
    "    'max_depth':          [None, 10, 15, 20, 25],\n",
    "    'min_samples_split':  [2, 5, 10],\n",
    "    'min_samples_leaf':   [1, 2, 4, 6],\n",
    "    'class_weight':       ['balanced', 'balanced_subsample']\n",
    "}\n",
    "\n",
    "# 2) Set up the RandomizedSearchCV\n",
    "rs = RandomizedSearchCV(\n",
    "    estimator=RandomForestClassifier(random_state=42),\n",
    "    param_distributions=param_dist,\n",
    "    n_iter=30,              # number of combinations to try\n",
    "    scoring='f1_weighted',  # optimize for weighted F1\n",
    "    cv=5,                   # 5‑fold cross‑validation\n",
    "    n_jobs=-1,              # use all cores\n",
    "    random_state=42,\n",
    "    verbose=1\n",
    ")\n",
    "\n",
    "# 3) Run the search on your training data\n",
    "rs.fit(X_train, y_train)\n",
    "\n",
    "# 4) Inspect the best parameters\n",
    "print(\"Best hyperparameters found:\")\n",
    "for k, v in rs.best_params_.items():\n",
    "    print(f\"  {k}: {v}\")\n",
    "\n",
    "# 5) Evaluate the best estimator on the test set\n",
    "best_rf = rs.best_estimator_\n",
    "y_pred = best_rf.predict(X_test)\n",
    "print(\"\\nClassification Report (best estimator):\")\n",
    "print(classification_report(y_test, y_pred, zero_division=0))\n"
   ]
  },
  {
   "cell_type": "code",
   "execution_count": 595,
   "id": "87b0fffe",
   "metadata": {},
   "outputs": [
    {
     "data": {
      "text/html": [
       "\n",
       "            <style>\n",
       "                .geemap-dark {\n",
       "                    --jp-widgets-color: white;\n",
       "                    --jp-widgets-label-color: white;\n",
       "                    --jp-ui-font-color1: white;\n",
       "                    --jp-layout-color2: #454545;\n",
       "                    background-color: #383838;\n",
       "                }\n",
       "\n",
       "                .geemap-dark .jupyter-button {\n",
       "                    --jp-layout-color3: #383838;\n",
       "                }\n",
       "\n",
       "                .geemap-colab {\n",
       "                    background-color: var(--colab-primary-surface-color, white);\n",
       "                }\n",
       "\n",
       "                .geemap-colab .jupyter-button {\n",
       "                    --jp-layout-color3: var(--colab-primary-surface-color, white);\n",
       "                }\n",
       "            </style>\n",
       "            "
      ],
      "text/plain": [
       "<IPython.core.display.HTML object>"
      ]
     },
     "metadata": {},
     "output_type": "display_data"
    },
    {
     "name": "stdout",
     "output_type": "stream",
     "text": [
      "B3_mean: 0.060\n",
      "contrast_1: 0.054\n",
      "B3_mean_1: 0.053\n",
      "B11_mean: 0.048\n",
      "B8_mean: 0.047\n",
      "MNDWI: 0.045\n",
      "B12_mean_1: 0.041\n",
      "contrast: 0.040\n",
      "B11_mean_1: 0.036\n",
      "Perimeter_m: 0.035\n",
      "MNDWI_1: 0.034\n",
      "Area_Acre: 0.032\n",
      "B12_mean: 0.032\n",
      "B8_mean_1: 0.031\n",
      "NDWI_1: 0.031\n",
      "Compactness: 0.031\n",
      "Area_m2: 0.030\n",
      "B2_mean: 0.029\n",
      "ARVI: 0.027\n",
      "B4_mean: 0.027\n",
      "B4_mean_1: 0.025\n",
      "NDWI: 0.025\n",
      "NDVI: 0.024\n",
      "delta_NDVI: 0.024\n",
      "entropy: 0.024\n",
      "NDVI_1: 0.024\n",
      "SAVI: 0.023\n",
      "entropy_1: 0.022\n",
      "SAVI_1: 0.022\n",
      "ARVI_1: 0.021\n"
     ]
    }
   ],
   "source": [
    "\n",
    "importances = rf_model.feature_importances_\n",
    "for name, imp in sorted(zip(feature_cols, importances), key=lambda x: -x[1]):\n",
    "    print(f\"{name}: {imp:.3f}\")\n"
   ]
  },
  {
   "cell_type": "code",
   "execution_count": 834,
   "id": "718d5c6d",
   "metadata": {},
   "outputs": [
    {
     "data": {
      "text/html": [
       "\n",
       "            <style>\n",
       "                .geemap-dark {\n",
       "                    --jp-widgets-color: white;\n",
       "                    --jp-widgets-label-color: white;\n",
       "                    --jp-ui-font-color1: white;\n",
       "                    --jp-layout-color2: #454545;\n",
       "                    background-color: #383838;\n",
       "                }\n",
       "\n",
       "                .geemap-dark .jupyter-button {\n",
       "                    --jp-layout-color3: #383838;\n",
       "                }\n",
       "\n",
       "                .geemap-colab {\n",
       "                    background-color: var(--colab-primary-surface-color, white);\n",
       "                }\n",
       "\n",
       "                .geemap-colab .jupyter-button {\n",
       "                    --jp-layout-color3: var(--colab-primary-surface-color, white);\n",
       "                }\n",
       "            </style>\n",
       "            "
      ],
      "text/plain": [
       "<IPython.core.display.HTML object>"
      ]
     },
     "metadata": {},
     "output_type": "display_data"
    },
    {
     "name": "stdout",
     "output_type": "stream",
     "text": [
      "5‑fold F1_macro scores: [0.92630082 0.90411156 0.97159832 0.94072997 0.94010879]\n",
      "Mean: 0.9365698932627712 Std: 0.02198098357458017\n"
     ]
    }
   ],
   "source": [
    "from sklearn.model_selection import cross_val_score\n",
    "scores = cross_val_score(\n",
    "    rf_model, X, y, cv=5, scoring='f1_macro', n_jobs=-1\n",
    ")\n",
    "print(\"5‑fold F1_macro scores:\", scores)\n",
    "print(\"Mean:\", scores.mean(), \"Std:\", scores.std())\n"
   ]
  }
 ],
 "metadata": {
  "kernelspec": {
   "display_name": "Python 3",
   "language": "python",
   "name": "python3"
  },
  "language_info": {
   "codemirror_mode": {
    "name": "ipython",
    "version": 3
   },
   "file_extension": ".py",
   "mimetype": "text/x-python",
   "name": "python",
   "nbconvert_exporter": "python",
   "pygments_lexer": "ipython3",
   "version": "3.10.17"
  }
 },
 "nbformat": 4,
 "nbformat_minor": 5
}
