{
 "cells": [
  {
   "cell_type": "markdown",
   "id": "9550b386",
   "metadata": {},
   "source": [
    "# Agriculture Parcels Vs Non-Agriculture Parcels"
   ]
  },
  {
   "cell_type": "code",
   "execution_count": 2,
   "id": "abfa99ca",
   "metadata": {},
   "outputs": [],
   "source": [
    "#Step 1: Load the original dataset having Landuse_Ma columon. This dataset also have crop information. \n",
    "\n",
    "import geopandas as gpd\n",
    "import pandas as pd\n",
    "import numpy as np\n",
    "import leafmap\n",
    "import geemap\n",
    "import ee"
   ]
  },
  {
   "cell_type": "code",
   "execution_count": 7,
   "id": "2ece1198",
   "metadata": {},
   "outputs": [
    {
     "data": {
      "text/html": [
       "\n",
       "            <style>\n",
       "                .geemap-dark {\n",
       "                    --jp-widgets-color: white;\n",
       "                    --jp-widgets-label-color: white;\n",
       "                    --jp-ui-font-color1: white;\n",
       "                    --jp-layout-color2: #454545;\n",
       "                    background-color: #383838;\n",
       "                }\n",
       "\n",
       "                .geemap-dark .jupyter-button {\n",
       "                    --jp-layout-color3: #383838;\n",
       "                }\n",
       "\n",
       "                .geemap-colab {\n",
       "                    background-color: var(--colab-primary-surface-color, white);\n",
       "                }\n",
       "\n",
       "                .geemap-colab .jupyter-button {\n",
       "                    --jp-layout-color3: var(--colab-primary-surface-color, white);\n",
       "                }\n",
       "            </style>\n",
       "            "
      ],
      "text/plain": [
       "<IPython.core.display.HTML object>"
      ]
     },
     "metadata": {},
     "output_type": "display_data"
    },
    {
     "data": {
      "text/plain": [
       "Landuse_Ma\n",
       "Agriculture     5759\n",
       "Stream           302\n",
       "Other            229\n",
       "Road/Streets     172\n",
       "Graveyard         29\n",
       "Built up          24\n",
       "Name: Landuse_Ma, dtype: int64"
      ]
     },
     "execution_count": 7,
     "metadata": {},
     "output_type": "execute_result"
    }
   ],
   "source": [
    "cropfile = 'D:\\Trainings\\gee\\pabb_crop_V3.geojson'\n",
    "gdf = gpd.read_file(cropfile)\n",
    "gdf['Landuse_Ma'].groupby(gdf['Landuse_Ma']).count().sort_values(ascending=False)"
   ]
  },
  {
   "cell_type": "code",
   "execution_count": 8,
   "id": "9ce045c4",
   "metadata": {},
   "outputs": [
    {
     "data": {
      "text/html": [
       "\n",
       "            <style>\n",
       "                .geemap-dark {\n",
       "                    --jp-widgets-color: white;\n",
       "                    --jp-widgets-label-color: white;\n",
       "                    --jp-ui-font-color1: white;\n",
       "                    --jp-layout-color2: #454545;\n",
       "                    background-color: #383838;\n",
       "                }\n",
       "\n",
       "                .geemap-dark .jupyter-button {\n",
       "                    --jp-layout-color3: #383838;\n",
       "                }\n",
       "\n",
       "                .geemap-colab {\n",
       "                    background-color: var(--colab-primary-surface-color, white);\n",
       "                }\n",
       "\n",
       "                .geemap-colab .jupyter-button {\n",
       "                    --jp-layout-color3: var(--colab-primary-surface-color, white);\n",
       "                }\n",
       "            </style>\n",
       "            "
      ],
      "text/plain": [
       "<IPython.core.display.HTML object>"
      ]
     },
     "metadata": {},
     "output_type": "display_data"
    },
    {
     "name": "stdout",
     "output_type": "stream",
     "text": [
      "Total Agriculture Parcels are :5759\n"
     ]
    }
   ],
   "source": [
    "\n",
    "selected_parcels = gdf[gdf['Landuse_Ma'] == 'Agriculture']\n",
    "print(f'Total Agriculture Parcels are :{len(selected_parcels)}') \n",
    "# These are the parcels with Landuse_Ma as Agriculture and will be used for further analysis."
   ]
  },
  {
   "cell_type": "markdown",
   "id": "fc8f49a5",
   "metadata": {},
   "source": [
    "## Data Cleansing\n",
    "1. Calculating NDVI and NDBI of the selected agriculture parcels : 5759."
   ]
  },
  {
   "cell_type": "code",
   "execution_count": 9,
   "id": "c090a0ab",
   "metadata": {},
   "outputs": [
    {
     "data": {
      "text/html": [
       "\n",
       "            <style>\n",
       "                .geemap-dark {\n",
       "                    --jp-widgets-color: white;\n",
       "                    --jp-widgets-label-color: white;\n",
       "                    --jp-ui-font-color1: white;\n",
       "                    --jp-layout-color2: #454545;\n",
       "                    background-color: #383838;\n",
       "                }\n",
       "\n",
       "                .geemap-dark .jupyter-button {\n",
       "                    --jp-layout-color3: #383838;\n",
       "                }\n",
       "\n",
       "                .geemap-colab {\n",
       "                    background-color: var(--colab-primary-surface-color, white);\n",
       "                }\n",
       "\n",
       "                .geemap-colab .jupyter-button {\n",
       "                    --jp-layout-color3: var(--colab-primary-surface-color, white);\n",
       "                }\n",
       "            </style>\n",
       "            "
      ],
      "text/plain": [
       "<IPython.core.display.HTML object>"
      ]
     },
     "metadata": {},
     "output_type": "display_data"
    }
   ],
   "source": [
    "# Lets Convert the gdf of the original file to ee features utilizing earth engine power\n",
    "ee.Authenticate()\n",
    "\n",
    "ee.Initialize()\n",
    "boundary = geemap.gdf_to_ee(gdf) # this is for cliping the images\n",
    "selectedparcels_fc = geemap.gdf_to_ee(selected_parcels) # this is for getting the agriculture parcels features Collection \n"
   ]
  },
  {
   "cell_type": "code",
   "execution_count": 10,
   "id": "4668bd79",
   "metadata": {},
   "outputs": [
    {
     "data": {
      "text/html": [
       "\n",
       "            <style>\n",
       "                .geemap-dark {\n",
       "                    --jp-widgets-color: white;\n",
       "                    --jp-widgets-label-color: white;\n",
       "                    --jp-ui-font-color1: white;\n",
       "                    --jp-layout-color2: #454545;\n",
       "                    background-color: #383838;\n",
       "                }\n",
       "\n",
       "                .geemap-dark .jupyter-button {\n",
       "                    --jp-layout-color3: #383838;\n",
       "                }\n",
       "\n",
       "                .geemap-colab {\n",
       "                    background-color: var(--colab-primary-surface-color, white);\n",
       "                }\n",
       "\n",
       "                .geemap-colab .jupyter-button {\n",
       "                    --jp-layout-color3: var(--colab-primary-surface-color, white);\n",
       "                }\n",
       "            </style>\n",
       "            "
      ],
      "text/plain": [
       "<IPython.core.display.HTML object>"
      ]
     },
     "metadata": {},
     "output_type": "display_data"
    }
   ],
   "source": [
    "# Define a function to get imagery an apply filter\n",
    "def get_collection (start_date,end_date):\n",
    "    collection = ee.ImageCollection('COPERNICUS/S2_SR_HARMONIZED')\n",
    "    filtered_collection = collection.filterDate(start_date, end_date).filterBounds(boundary.geometry()).filter(ee.Filter.lt('CLOUDY_PIXEL_PERCENTAGE', 10))\n",
    "    return filtered_collection"
   ]
  },
  {
   "cell_type": "code",
   "execution_count": 12,
   "id": "319b6367",
   "metadata": {},
   "outputs": [
    {
     "data": {
      "text/html": [
       "\n",
       "            <style>\n",
       "                .geemap-dark {\n",
       "                    --jp-widgets-color: white;\n",
       "                    --jp-widgets-label-color: white;\n",
       "                    --jp-ui-font-color1: white;\n",
       "                    --jp-layout-color2: #454545;\n",
       "                    background-color: #383838;\n",
       "                }\n",
       "\n",
       "                .geemap-dark .jupyter-button {\n",
       "                    --jp-layout-color3: #383838;\n",
       "                }\n",
       "\n",
       "                .geemap-colab {\n",
       "                    background-color: var(--colab-primary-surface-color, white);\n",
       "                }\n",
       "\n",
       "                .geemap-colab .jupyter-button {\n",
       "                    --jp-layout-color3: var(--colab-primary-surface-color, white);\n",
       "                }\n",
       "            </style>\n",
       "            "
      ],
      "text/plain": [
       "<IPython.core.display.HTML object>"
      ]
     },
     "metadata": {},
     "output_type": "display_data"
    }
   ],
   "source": [
    "# defing ndvi , NDBI , BUI and UI indices\n",
    "\n",
    "def get_ndvi(filtered_collection):\n",
    "    # Calculate the annual NDVI from the filtered collection (filtered_collection)\n",
    "    ndvi_collection = filtered_collection.map(lambda img: img.normalizedDifference(['B8', 'B4']).rename('NDVI'))\n",
    "    # Calculate the mean NDVI for the year\n",
    "    mean_ndvi = ndvi_collection.mean()\n",
    "    return mean_ndvi\n",
    "    \n",
    "def get_ndbi(filtered_collection):\n",
    "    # Calculate Normalized Difference Built-up Index (NDBI) (SWIR−NIR)/(SWIR+NIR) from the filtered collection filtered_collection\n",
    "    # NDBI = (B11 - B8) / (B11 + B8)\n",
    "    # Built‑up areas (positive values) vs. vegetation/water (negative)\n",
    "    ndbi_collection = filtered_collection.map(lambda img: img.normalizedDifference(['B11', 'B8']).rename('NDBI'))\n",
    "    # Calculate the mean NDBI for the year\n",
    "    mean_ndbi = ndbi_collection.mean()\n",
    "    return mean_ndbi\n",
    "def get_ndwi(filtered_collection):\n",
    "    # Calculate Normalized Difference Water Index (NDWI) (Green-NIR)/(Green+NIR) from the filtered collection filtered_collection\n",
    "    # NDWI = (B3 - B8) / (B3 + B8)\n",
    "    # Water (positive values) vs. built-up/vegetation (negative)\n",
    "    ndwi_collection = filtered_collection.map(lambda img: img.normalizedDifference(['B3', 'B8']).rename('NDWI'))\n",
    "    # Calculate the mean NDWI for the year\n",
    "    mean_ndwi = ndwi_collection.mean()\n",
    "    return mean_ndwi\n",
    "\n",
    "def get_bui(filtered_collection):\n",
    "    # Calculate the annual Built-Up Index (BUI) for an ee.ImageCollection `filtered_collection`.\n",
    "    # BUI: (B11 + B4 - B8 - B2) / (B11 + B4 + B8 + B2)\n",
    "    # Enhances urban density separation from other land‑covers\n",
    "    bui_collection = filtered_collection.map(lambda img: (img.select('B11').add(img.select('B4')).subtract(img.select('B8'))\n",
    "           .subtract(img.select('B2'))\n",
    "           .divide(\n",
    "               img.select('B11').add(img.select('B4'))\n",
    "                  .add(img.select('B8'))\n",
    "                  .add(img.select('B2'))\n",
    "           )\n",
    "           .rename('BUI')      \n",
    "                    ))\n",
    "    mean_bui = bui_collection.mean()\n",
    "    return mean_bui\n",
    "    \n",
    "def get_ui(filtered_collection):\n",
    "    # Calculate Urban Index (UI) (NDBI−NDVI)/(NDBI+NDVI) for the collection\n",
    "    # Separates built‑up from vegetation more robustly\n",
    "    mean_ndvi = get_ndvi(filtered_collection)\n",
    "    mean_ndbi = get_ndbi(filtered_collection)\n",
    "    mean_ui = mean_ndbi.subtract(mean_ndvi).divide(mean_ndbi.add(mean_ndvi)).rename('UI')\n",
    "    return mean_ui\n",
    "\n"
   ]
  },
  {
   "cell_type": "code",
   "execution_count": 13,
   "id": "c9641659",
   "metadata": {},
   "outputs": [
    {
     "data": {
      "text/html": [
       "\n",
       "            <style>\n",
       "                .geemap-dark {\n",
       "                    --jp-widgets-color: white;\n",
       "                    --jp-widgets-label-color: white;\n",
       "                    --jp-ui-font-color1: white;\n",
       "                    --jp-layout-color2: #454545;\n",
       "                    background-color: #383838;\n",
       "                }\n",
       "\n",
       "                .geemap-dark .jupyter-button {\n",
       "                    --jp-layout-color3: #383838;\n",
       "                }\n",
       "\n",
       "                .geemap-colab {\n",
       "                    background-color: var(--colab-primary-surface-color, white);\n",
       "                }\n",
       "\n",
       "                .geemap-colab .jupyter-button {\n",
       "                    --jp-layout-color3: var(--colab-primary-surface-color, white);\n",
       "                }\n",
       "            </style>\n",
       "            "
      ],
      "text/plain": [
       "<IPython.core.display.HTML object>"
      ]
     },
     "metadata": {},
     "output_type": "display_data"
    }
   ],
   "source": [
    "def get_composite(filtered_collection,ndvi_img, ndbi_img, bui_img, ui_img,ndwi_img):\n",
    "    \"\"\"\n",
    "    Stack the four annual‐mean index images into one composite,\n",
    "    then clip it to the boundary.\n",
    "    \"\"\"\n",
    "    selected_bands = ['B2', 'B3', 'B4', 'B8', 'B11']\n",
    "    filtered_collection = filtered_collection.select(selected_bands)\n",
    "    \n",
    "    #Now add the indices to each image in the filtered collection\n",
    "    filtered_collection = filtered_collection.map(lambda img: img.addBands(ndvi_img).addBands(ndbi_img).addBands(bui_img).addBands(ui_img).addBands(ndwi_img))  \n",
    "    \n",
    "    # Reduce the collection to a mean single image\n",
    "    composite_img = filtered_collection.mean()\n",
    "    \n",
    "    # Rename the bands in the correct order\n",
    "    composite_img = composite_img.rename(['B2', 'B3', 'B4', 'B8', 'B11', 'NDVI', 'NDBI', 'BUI', 'UI','NDWI'])\n",
    "    \n",
    "    # 3. Clip to your boundary\n",
    "    composite_img = composite_img.clip(boundary.geometry())\n",
    "    \n",
    "    return composite_img\n"
   ]
  },
  {
   "cell_type": "code",
   "execution_count": 14,
   "id": "602ab61f",
   "metadata": {},
   "outputs": [
    {
     "data": {
      "text/html": [
       "\n",
       "            <style>\n",
       "                .geemap-dark {\n",
       "                    --jp-widgets-color: white;\n",
       "                    --jp-widgets-label-color: white;\n",
       "                    --jp-ui-font-color1: white;\n",
       "                    --jp-layout-color2: #454545;\n",
       "                    background-color: #383838;\n",
       "                }\n",
       "\n",
       "                .geemap-dark .jupyter-button {\n",
       "                    --jp-layout-color3: #383838;\n",
       "                }\n",
       "\n",
       "                .geemap-colab {\n",
       "                    background-color: var(--colab-primary-surface-color, white);\n",
       "                }\n",
       "\n",
       "                .geemap-colab .jupyter-button {\n",
       "                    --jp-layout-color3: var(--colab-primary-surface-color, white);\n",
       "                }\n",
       "            </style>\n",
       "            "
      ],
      "text/plain": [
       "<IPython.core.display.HTML object>"
      ]
     },
     "metadata": {},
     "output_type": "display_data"
    }
   ],
   "source": [
    "filtered_collection = get_collection('2022-01-01', '2024-12-31')\n",
    "ndvi_img = get_ndvi(filtered_collection)\n",
    "ndbi_img = get_ndbi(filtered_collection)\n",
    "bui_img = get_bui(filtered_collection)\n",
    "ui_img = get_ui(filtered_collection)\n",
    "ndwi_img = get_ndwi(filtered_collection)\n",
    "\n",
    "composite_img = get_composite(filtered_collection, ndvi_img, ndbi_img, bui_img, ui_img, ndwi_img)"
   ]
  },
  {
   "cell_type": "code",
   "execution_count": 15,
   "id": "cf86a7a8",
   "metadata": {},
   "outputs": [
    {
     "data": {
      "text/html": [
       "\n",
       "            <style>\n",
       "                .geemap-dark {\n",
       "                    --jp-widgets-color: white;\n",
       "                    --jp-widgets-label-color: white;\n",
       "                    --jp-ui-font-color1: white;\n",
       "                    --jp-layout-color2: #454545;\n",
       "                    background-color: #383838;\n",
       "                }\n",
       "\n",
       "                .geemap-dark .jupyter-button {\n",
       "                    --jp-layout-color3: #383838;\n",
       "                }\n",
       "\n",
       "                .geemap-colab {\n",
       "                    background-color: var(--colab-primary-surface-color, white);\n",
       "                }\n",
       "\n",
       "                .geemap-colab .jupyter-button {\n",
       "                    --jp-layout-color3: var(--colab-primary-surface-color, white);\n",
       "                }\n",
       "            </style>\n",
       "            "
      ],
      "text/plain": [
       "<IPython.core.display.HTML object>"
      ]
     },
     "metadata": {},
     "output_type": "display_data"
    },
    {
     "data": {
      "application/vnd.jupyter.widget-view+json": {
       "model_id": "fb5037c91d6547b4ad7fb5e1d69d5b32",
       "version_major": 2,
       "version_minor": 0
      },
      "text/plain": [
       "Map(center=[34.025104580270586, 71.77439126406186], controls=(WidgetControl(options=['position', 'transparent_…"
      ]
     },
     "execution_count": 15,
     "metadata": {},
     "output_type": "execute_result"
    }
   ],
   "source": [
    "Map = geemap.Map(center=(37.5,70), zoom=10)\n",
    "\n",
    "# To confirm that the composite Image is cropped \n",
    "vis_tc = {\n",
    "    'bands': ['B4','B3','B2'],  # Red, Green, Blue\n",
    "    'min': 0, 'max': 3000,      # Sentinel-2 SR values ~0–3000\n",
    "    'gamma': 1.2\n",
    "}\n",
    "Map.addLayer(composite_img, vis_tc, 'True Color Composite', True)\n",
    "\n",
    "Map.center_object(boundary, 10)\n",
    "Map\n"
   ]
  },
  {
   "cell_type": "code",
   "execution_count": 16,
   "id": "af7f4697",
   "metadata": {},
   "outputs": [
    {
     "data": {
      "text/html": [
       "\n",
       "            <style>\n",
       "                .geemap-dark {\n",
       "                    --jp-widgets-color: white;\n",
       "                    --jp-widgets-label-color: white;\n",
       "                    --jp-ui-font-color1: white;\n",
       "                    --jp-layout-color2: #454545;\n",
       "                    background-color: #383838;\n",
       "                }\n",
       "\n",
       "                .geemap-dark .jupyter-button {\n",
       "                    --jp-layout-color3: #383838;\n",
       "                }\n",
       "\n",
       "                .geemap-colab {\n",
       "                    background-color: var(--colab-primary-surface-color, white);\n",
       "                }\n",
       "\n",
       "                .geemap-colab .jupyter-button {\n",
       "                    --jp-layout-color3: var(--colab-primary-surface-color, white);\n",
       "                }\n",
       "            </style>\n",
       "            "
      ],
      "text/plain": [
       "<IPython.core.display.HTML object>"
      ]
     },
     "metadata": {},
     "output_type": "display_data"
    }
   ],
   "source": [
    "def sum_count(filtered_collection, parcels_fc,agrithresh=0.3, builtdiff =0.0):\n",
    "        \n",
    "    flagged = filtered_collection.map(lambda img: mask_flags(img, agrithresh, builtdiff))\n",
    "    \n",
    "    count_image = flagged.select(['agri_count','built_count']).sum()\n",
    "\n",
    "    stats_fc = count_image.reduceRegions(\n",
    "        collection=parcels_fc,\n",
    "        reducer=ee.Reducer.sum(),\n",
    "        scale=10,\n",
    "        crs=count_image.projection()\n",
    "    )\n",
    "    return stats_fc\n",
    "\n",
    "\n",
    "def mask_flags(img,agrithresh, builtdiff):\n",
    "    \n",
    "    #compute the NDVI and NDBI for each image in the collection\n",
    "    ndvi = img.normalizedDifference(['B8', 'B4'])\n",
    "    ndbi = img.normalizedDifference(['B11', 'B8'])\n",
    "    # create a boolean mask and cast to int (1 if true and 0 if false)\n",
    "    agri_flag = ndvi.gt(agrithresh).rename('agri_count').toInt()\n",
    "    built_flag = ndbi.gt(builtdiff).rename('built_count').toInt()\n",
    "    return img.addBands([agri_flag,built_flag])\n"
   ]
  },
  {
   "cell_type": "code",
   "execution_count": 17,
   "id": "97fda530",
   "metadata": {},
   "outputs": [
    {
     "data": {
      "text/html": [
       "\n",
       "            <style>\n",
       "                .geemap-dark {\n",
       "                    --jp-widgets-color: white;\n",
       "                    --jp-widgets-label-color: white;\n",
       "                    --jp-ui-font-color1: white;\n",
       "                    --jp-layout-color2: #454545;\n",
       "                    background-color: #383838;\n",
       "                }\n",
       "\n",
       "                .geemap-dark .jupyter-button {\n",
       "                    --jp-layout-color3: #383838;\n",
       "                }\n",
       "\n",
       "                .geemap-colab {\n",
       "                    background-color: var(--colab-primary-surface-color, white);\n",
       "                }\n",
       "\n",
       "                .geemap-colab .jupyter-button {\n",
       "                    --jp-layout-color3: var(--colab-primary-surface-color, white);\n",
       "                }\n",
       "            </style>\n",
       "            "
      ],
      "text/plain": [
       "<IPython.core.display.HTML object>"
      ]
     },
     "metadata": {},
     "output_type": "display_data"
    }
   ],
   "source": [
    "# The composite Image which is mean of all the indices and bands is now used to \n",
    "# calculate the mean of each index and bands in the composite image.\n",
    "\n",
    "def mean_indices(composite_img, parcels_fc):\n",
    "    #Select the bands of interest\n",
    "    b2 = composite_img.select('B2')\n",
    "    b3 = composite_img.select('B3')\n",
    "    b4 = composite_img.select('B4')\n",
    "    b8 = composite_img.select('B8')\n",
    "    b11 = composite_img.select('B11')\n",
    "\n",
    "\n",
    "    # Select the indices\n",
    "    ndvi = composite_img.select('NDVI')\n",
    "    ndbi = composite_img.select('NDBI')\n",
    "    ui = composite_img.select('UI')\n",
    "    bui = composite_img.select('BUI')\n",
    "    ndwi = composite_img.select('NDWI')\n",
    "\n",
    "    index_img = ee.Image.cat([b2,b3,b4,b8,b11,ndvi,ndbi,bui,ui,ndwi])\n",
    "    mean_img = index_img.reduceRegions(\n",
    "        collection=parcels_fc,\n",
    "        reducer=ee.Reducer.mean(),\n",
    "        scale=10,\n",
    "        crs=composite_img.projection()\n",
    "    )\n",
    "    return mean_img\n"
   ]
  },
  {
   "cell_type": "code",
   "execution_count": 18,
   "id": "73a5612e",
   "metadata": {},
   "outputs": [
    {
     "data": {
      "text/html": [
       "\n",
       "            <style>\n",
       "                .geemap-dark {\n",
       "                    --jp-widgets-color: white;\n",
       "                    --jp-widgets-label-color: white;\n",
       "                    --jp-ui-font-color1: white;\n",
       "                    --jp-layout-color2: #454545;\n",
       "                    background-color: #383838;\n",
       "                }\n",
       "\n",
       "                .geemap-dark .jupyter-button {\n",
       "                    --jp-layout-color3: #383838;\n",
       "                }\n",
       "\n",
       "                .geemap-colab {\n",
       "                    background-color: var(--colab-primary-surface-color, white);\n",
       "                }\n",
       "\n",
       "                .geemap-colab .jupyter-button {\n",
       "                    --jp-layout-color3: var(--colab-primary-surface-color, white);\n",
       "                }\n",
       "            </style>\n",
       "            "
      ],
      "text/plain": [
       "<IPython.core.display.HTML object>"
      ]
     },
     "metadata": {},
     "output_type": "display_data"
    }
   ],
   "source": [
    "pxlsum = sum_count(filtered_collection,selectedparcels_fc,agrithresh=0.3, builtdiff =0.0)\n",
    "pxlmean = mean_indices(composite_img, selectedparcels_fc)\n",
    "# Convert the ee.FeatureCollection to a pandas DataFrame\n",
    "pxlsum_gdf= geemap.ee_to_gdf(pxlsum)\n",
    "pxlmean_gdf= geemap.ee_to_gdf(pxlmean)  \n"
   ]
  },
  {
   "cell_type": "code",
   "execution_count": 19,
   "id": "bb5b9411",
   "metadata": {},
   "outputs": [
    {
     "data": {
      "text/html": [
       "\n",
       "            <style>\n",
       "                .geemap-dark {\n",
       "                    --jp-widgets-color: white;\n",
       "                    --jp-widgets-label-color: white;\n",
       "                    --jp-ui-font-color1: white;\n",
       "                    --jp-layout-color2: #454545;\n",
       "                    background-color: #383838;\n",
       "                }\n",
       "\n",
       "                .geemap-dark .jupyter-button {\n",
       "                    --jp-layout-color3: #383838;\n",
       "                }\n",
       "\n",
       "                .geemap-colab {\n",
       "                    background-color: var(--colab-primary-surface-color, white);\n",
       "                }\n",
       "\n",
       "                .geemap-colab .jupyter-button {\n",
       "                    --jp-layout-color3: var(--colab-primary-surface-color, white);\n",
       "                }\n",
       "            </style>\n",
       "            "
      ],
      "text/plain": [
       "<IPython.core.display.HTML object>"
      ]
     },
     "metadata": {},
     "output_type": "display_data"
    },
    {
     "data": {
      "text/html": [
       "<div>\n",
       "<style scoped>\n",
       "    .dataframe tbody tr th:only-of-type {\n",
       "        vertical-align: middle;\n",
       "    }\n",
       "\n",
       "    .dataframe tbody tr th {\n",
       "        vertical-align: top;\n",
       "    }\n",
       "\n",
       "    .dataframe thead th {\n",
       "        text-align: right;\n",
       "    }\n",
       "</style>\n",
       "<table border=\"1\" class=\"dataframe\">\n",
       "  <thead>\n",
       "    <tr style=\"text-align: right;\">\n",
       "      <th></th>\n",
       "      <th>geometry</th>\n",
       "      <th>Area_Acre</th>\n",
       "      <th>B11</th>\n",
       "      <th>B2</th>\n",
       "      <th>B3</th>\n",
       "      <th>B4</th>\n",
       "      <th>B8</th>\n",
       "      <th>BUI</th>\n",
       "      <th>Crop_Type</th>\n",
       "      <th>FFID</th>\n",
       "      <th>Landuse_Ma</th>\n",
       "      <th>Mouza_Name</th>\n",
       "      <th>NDBI</th>\n",
       "      <th>NDVI</th>\n",
       "      <th>NDWI</th>\n",
       "      <th>Parcel_ID</th>\n",
       "      <th>UI</th>\n",
       "    </tr>\n",
       "  </thead>\n",
       "  <tbody>\n",
       "    <tr>\n",
       "      <th>0</th>\n",
       "      <td>POLYGON ((71.74996 34.03193, 71.75027 34.03195...</td>\n",
       "      <td>0.101785</td>\n",
       "      <td>2147.930654</td>\n",
       "      <td>1080.794583</td>\n",
       "      <td>1314.424346</td>\n",
       "      <td>1412.001354</td>\n",
       "      <td>2250.015724</td>\n",
       "      <td>0.037398</td>\n",
       "      <td>None</td>\n",
       "      <td>1</td>\n",
       "      <td>Agriculture</td>\n",
       "      <td>Khushmaqam</td>\n",
       "      <td>-0.016614</td>\n",
       "      <td>0.226656</td>\n",
       "      <td>-0.261929</td>\n",
       "      <td>668</td>\n",
       "      <td>-1.202087</td>\n",
       "    </tr>\n",
       "    <tr>\n",
       "      <th>1</th>\n",
       "      <td>POLYGON ((71.74868 34.03205, 71.74869 34.03195...</td>\n",
       "      <td>0.315557</td>\n",
       "      <td>2148.237869</td>\n",
       "      <td>905.980655</td>\n",
       "      <td>1133.265953</td>\n",
       "      <td>1248.493593</td>\n",
       "      <td>2115.168267</td>\n",
       "      <td>0.060771</td>\n",
       "      <td>None</td>\n",
       "      <td>3</td>\n",
       "      <td>Agriculture</td>\n",
       "      <td>Khushmaqam</td>\n",
       "      <td>0.013744</td>\n",
       "      <td>0.254974</td>\n",
       "      <td>-0.298905</td>\n",
       "      <td>632</td>\n",
       "      <td>-0.876391</td>\n",
       "    </tr>\n",
       "    <tr>\n",
       "      <th>2</th>\n",
       "      <td>POLYGON ((71.75021 34.03218, 71.75022 34.0321,...</td>\n",
       "      <td>0.187644</td>\n",
       "      <td>2198.647527</td>\n",
       "      <td>989.403836</td>\n",
       "      <td>1234.108843</td>\n",
       "      <td>1331.561342</td>\n",
       "      <td>2231.942662</td>\n",
       "      <td>0.047527</td>\n",
       "      <td>None</td>\n",
       "      <td>4</td>\n",
       "      <td>Agriculture</td>\n",
       "      <td>Khushmaqam</td>\n",
       "      <td>-0.003842</td>\n",
       "      <td>0.248897</td>\n",
       "      <td>-0.284861</td>\n",
       "      <td>669</td>\n",
       "      <td>-1.022695</td>\n",
       "    </tr>\n",
       "    <tr>\n",
       "      <th>3</th>\n",
       "      <td>POLYGON ((71.75401 34.03224, 71.75403 34.03219...</td>\n",
       "      <td>0.161568</td>\n",
       "      <td>2193.297278</td>\n",
       "      <td>806.999988</td>\n",
       "      <td>1099.118312</td>\n",
       "      <td>1177.751882</td>\n",
       "      <td>2761.666157</td>\n",
       "      <td>-0.038227</td>\n",
       "      <td>None</td>\n",
       "      <td>5</td>\n",
       "      <td>Agriculture</td>\n",
       "      <td>Khushmaqam</td>\n",
       "      <td>-0.109844</td>\n",
       "      <td>0.410130</td>\n",
       "      <td>-0.431634</td>\n",
       "      <td>693</td>\n",
       "      <td>-1.738528</td>\n",
       "    </tr>\n",
       "    <tr>\n",
       "      <th>4</th>\n",
       "      <td>POLYGON ((71.74971 34.03192, 71.74996 34.03193...</td>\n",
       "      <td>0.229336</td>\n",
       "      <td>2126.134001</td>\n",
       "      <td>1160.127481</td>\n",
       "      <td>1376.297936</td>\n",
       "      <td>1480.144814</td>\n",
       "      <td>2196.267099</td>\n",
       "      <td>0.039058</td>\n",
       "      <td>None</td>\n",
       "      <td>6</td>\n",
       "      <td>Agriculture</td>\n",
       "      <td>Khushmaqam</td>\n",
       "      <td>-0.011919</td>\n",
       "      <td>0.197473</td>\n",
       "      <td>-0.233127</td>\n",
       "      <td>667</td>\n",
       "      <td>-1.196795</td>\n",
       "    </tr>\n",
       "  </tbody>\n",
       "</table>\n",
       "</div>"
      ],
      "text/plain": [
       "                                            geometry  Area_Acre          B11  \\\n",
       "0  POLYGON ((71.74996 34.03193, 71.75027 34.03195...   0.101785  2147.930654   \n",
       "1  POLYGON ((71.74868 34.03205, 71.74869 34.03195...   0.315557  2148.237869   \n",
       "2  POLYGON ((71.75021 34.03218, 71.75022 34.0321,...   0.187644  2198.647527   \n",
       "3  POLYGON ((71.75401 34.03224, 71.75403 34.03219...   0.161568  2193.297278   \n",
       "4  POLYGON ((71.74971 34.03192, 71.74996 34.03193...   0.229336  2126.134001   \n",
       "\n",
       "            B2           B3           B4           B8       BUI Crop_Type  \\\n",
       "0  1080.794583  1314.424346  1412.001354  2250.015724  0.037398      None   \n",
       "1   905.980655  1133.265953  1248.493593  2115.168267  0.060771      None   \n",
       "2   989.403836  1234.108843  1331.561342  2231.942662  0.047527      None   \n",
       "3   806.999988  1099.118312  1177.751882  2761.666157 -0.038227      None   \n",
       "4  1160.127481  1376.297936  1480.144814  2196.267099  0.039058      None   \n",
       "\n",
       "   FFID   Landuse_Ma  Mouza_Name      NDBI      NDVI      NDWI  Parcel_ID  \\\n",
       "0     1  Agriculture  Khushmaqam -0.016614  0.226656 -0.261929        668   \n",
       "1     3  Agriculture  Khushmaqam  0.013744  0.254974 -0.298905        632   \n",
       "2     4  Agriculture  Khushmaqam -0.003842  0.248897 -0.284861        669   \n",
       "3     5  Agriculture  Khushmaqam -0.109844  0.410130 -0.431634        693   \n",
       "4     6  Agriculture  Khushmaqam -0.011919  0.197473 -0.233127        667   \n",
       "\n",
       "         UI  \n",
       "0 -1.202087  \n",
       "1 -0.876391  \n",
       "2 -1.022695  \n",
       "3 -1.738528  \n",
       "4 -1.196795  "
      ]
     },
     "execution_count": 19,
     "metadata": {},
     "output_type": "execute_result"
    }
   ],
   "source": [
    "pxlmean_gdf.head()"
   ]
  },
  {
   "cell_type": "code",
   "execution_count": 20,
   "id": "81da174b",
   "metadata": {},
   "outputs": [
    {
     "data": {
      "text/html": [
       "\n",
       "            <style>\n",
       "                .geemap-dark {\n",
       "                    --jp-widgets-color: white;\n",
       "                    --jp-widgets-label-color: white;\n",
       "                    --jp-ui-font-color1: white;\n",
       "                    --jp-layout-color2: #454545;\n",
       "                    background-color: #383838;\n",
       "                }\n",
       "\n",
       "                .geemap-dark .jupyter-button {\n",
       "                    --jp-layout-color3: #383838;\n",
       "                }\n",
       "\n",
       "                .geemap-colab {\n",
       "                    background-color: var(--colab-primary-surface-color, white);\n",
       "                }\n",
       "\n",
       "                .geemap-colab .jupyter-button {\n",
       "                    --jp-layout-color3: var(--colab-primary-surface-color, white);\n",
       "                }\n",
       "            </style>\n",
       "            "
      ],
      "text/plain": [
       "<IPython.core.display.HTML object>"
      ]
     },
     "metadata": {},
     "output_type": "display_data"
    },
    {
     "name": "stdout",
     "output_type": "stream",
     "text": [
      "['geometry', 'Area_Acre', 'Crop_Type', 'FFID', 'Landuse_Ma', 'Mouza_Name', 'Parcel_ID', 'agri_count', 'built_count', 'NDVI', 'NDBI', 'BUI', 'UI', 'NDWI', 'B2', 'B3', 'B4', 'B8', 'B11']\n"
     ]
    }
   ],
   "source": [
    "# since both dataframes have duplicate columns therefore to avoid duplicaiton \n",
    "# we will select the columns we need for merging\n",
    "mean_cols = ['geometry','NDVI','NDBI','BUI','UI','NDWI','B2','B3','B4','B8','B11']\n",
    "plxmean_small = pxlmean_gdf[mean_cols]\n",
    "\n",
    "#Now we will merge the two dataframes\n",
    "stats_gdf = pxlsum_gdf.merge(plxmean_small, on='geometry', how='left')\n",
    "\n",
    "print(stats_gdf.columns.tolist())"
   ]
  },
  {
   "cell_type": "code",
   "execution_count": 21,
   "id": "4c9ae6e7",
   "metadata": {},
   "outputs": [
    {
     "data": {
      "text/html": [
       "\n",
       "            <style>\n",
       "                .geemap-dark {\n",
       "                    --jp-widgets-color: white;\n",
       "                    --jp-widgets-label-color: white;\n",
       "                    --jp-ui-font-color1: white;\n",
       "                    --jp-layout-color2: #454545;\n",
       "                    background-color: #383838;\n",
       "                }\n",
       "\n",
       "                .geemap-dark .jupyter-button {\n",
       "                    --jp-layout-color3: #383838;\n",
       "                }\n",
       "\n",
       "                .geemap-colab {\n",
       "                    background-color: var(--colab-primary-surface-color, white);\n",
       "                }\n",
       "\n",
       "                .geemap-colab .jupyter-button {\n",
       "                    --jp-layout-color3: var(--colab-primary-surface-color, white);\n",
       "                }\n",
       "            </style>\n",
       "            "
      ],
      "text/plain": [
       "<IPython.core.display.HTML object>"
      ]
     },
     "metadata": {},
     "output_type": "display_data"
    }
   ],
   "source": [
    "# Now stats_gdf has columns 'built_count' and 'agri_count' per parcel\n",
    "# Lets compute the percentage of built and agri land\n",
    "stats_gdf['pct_built'] = stats_gdf['built_count'] / (stats_gdf['built_count'] + stats_gdf['agri_count'])\n",
    "stats_gdf['pct_agri']  = stats_gdf['agri_count']  / (stats_gdf['built_count'] + stats_gdf['agri_count'])\n"
   ]
  },
  {
   "cell_type": "code",
   "execution_count": 22,
   "id": "ee4db75c",
   "metadata": {},
   "outputs": [
    {
     "data": {
      "text/html": [
       "\n",
       "            <style>\n",
       "                .geemap-dark {\n",
       "                    --jp-widgets-color: white;\n",
       "                    --jp-widgets-label-color: white;\n",
       "                    --jp-ui-font-color1: white;\n",
       "                    --jp-layout-color2: #454545;\n",
       "                    background-color: #383838;\n",
       "                }\n",
       "\n",
       "                .geemap-dark .jupyter-button {\n",
       "                    --jp-layout-color3: #383838;\n",
       "                }\n",
       "\n",
       "                .geemap-colab {\n",
       "                    background-color: var(--colab-primary-surface-color, white);\n",
       "                }\n",
       "\n",
       "                .geemap-colab .jupyter-button {\n",
       "                    --jp-layout-color3: var(--colab-primary-surface-color, white);\n",
       "                }\n",
       "            </style>\n",
       "            "
      ],
      "text/plain": [
       "<IPython.core.display.HTML object>"
      ]
     },
     "metadata": {},
     "output_type": "display_data"
    },
    {
     "data": {
      "text/html": [
       "<div>\n",
       "<style scoped>\n",
       "    .dataframe tbody tr th:only-of-type {\n",
       "        vertical-align: middle;\n",
       "    }\n",
       "\n",
       "    .dataframe tbody tr th {\n",
       "        vertical-align: top;\n",
       "    }\n",
       "\n",
       "    .dataframe thead th {\n",
       "        text-align: right;\n",
       "    }\n",
       "</style>\n",
       "<table border=\"1\" class=\"dataframe\">\n",
       "  <thead>\n",
       "    <tr style=\"text-align: right;\">\n",
       "      <th></th>\n",
       "      <th>geometry</th>\n",
       "      <th>Area_Acre</th>\n",
       "      <th>Crop_Type</th>\n",
       "      <th>FFID</th>\n",
       "      <th>Landuse_Ma</th>\n",
       "      <th>Mouza_Name</th>\n",
       "      <th>Parcel_ID</th>\n",
       "      <th>agri_count</th>\n",
       "      <th>built_count</th>\n",
       "      <th>NDVI</th>\n",
       "      <th>...</th>\n",
       "      <th>BUI</th>\n",
       "      <th>UI</th>\n",
       "      <th>NDWI</th>\n",
       "      <th>B2</th>\n",
       "      <th>B3</th>\n",
       "      <th>B4</th>\n",
       "      <th>B8</th>\n",
       "      <th>B11</th>\n",
       "      <th>pct_built</th>\n",
       "      <th>pct_agri</th>\n",
       "    </tr>\n",
       "  </thead>\n",
       "  <tbody>\n",
       "    <tr>\n",
       "      <th>0</th>\n",
       "      <td>POLYGON ((71.74996 34.03193, 71.75027 34.03195...</td>\n",
       "      <td>0.101785</td>\n",
       "      <td>None</td>\n",
       "      <td>1</td>\n",
       "      <td>Agriculture</td>\n",
       "      <td>Khushmaqam</td>\n",
       "      <td>668</td>\n",
       "      <td>90.725490</td>\n",
       "      <td>181.058824</td>\n",
       "      <td>0.226656</td>\n",
       "      <td>...</td>\n",
       "      <td>0.037398</td>\n",
       "      <td>-1.202087</td>\n",
       "      <td>-0.261929</td>\n",
       "      <td>1080.794583</td>\n",
       "      <td>1314.424346</td>\n",
       "      <td>1412.001354</td>\n",
       "      <td>2250.015724</td>\n",
       "      <td>2147.930654</td>\n",
       "      <td>0.666186</td>\n",
       "      <td>0.333814</td>\n",
       "    </tr>\n",
       "    <tr>\n",
       "      <th>1</th>\n",
       "      <td>POLYGON ((71.74868 34.03205, 71.74869 34.03195...</td>\n",
       "      <td>0.315557</td>\n",
       "      <td>None</td>\n",
       "      <td>3</td>\n",
       "      <td>Agriculture</td>\n",
       "      <td>Khushmaqam</td>\n",
       "      <td>632</td>\n",
       "      <td>445.384314</td>\n",
       "      <td>928.509804</td>\n",
       "      <td>0.254974</td>\n",
       "      <td>...</td>\n",
       "      <td>0.060771</td>\n",
       "      <td>-0.876391</td>\n",
       "      <td>-0.298905</td>\n",
       "      <td>905.980655</td>\n",
       "      <td>1133.265953</td>\n",
       "      <td>1248.493593</td>\n",
       "      <td>2115.168267</td>\n",
       "      <td>2148.237869</td>\n",
       "      <td>0.675823</td>\n",
       "      <td>0.324177</td>\n",
       "    </tr>\n",
       "    <tr>\n",
       "      <th>2</th>\n",
       "      <td>POLYGON ((71.75021 34.03218, 71.75022 34.0321,...</td>\n",
       "      <td>0.187644</td>\n",
       "      <td>None</td>\n",
       "      <td>4</td>\n",
       "      <td>Agriculture</td>\n",
       "      <td>Khushmaqam</td>\n",
       "      <td>669</td>\n",
       "      <td>241.717647</td>\n",
       "      <td>430.784314</td>\n",
       "      <td>0.248897</td>\n",
       "      <td>...</td>\n",
       "      <td>0.047527</td>\n",
       "      <td>-1.022695</td>\n",
       "      <td>-0.284861</td>\n",
       "      <td>989.403836</td>\n",
       "      <td>1234.108843</td>\n",
       "      <td>1331.561342</td>\n",
       "      <td>2231.942662</td>\n",
       "      <td>2198.647527</td>\n",
       "      <td>0.640570</td>\n",
       "      <td>0.359430</td>\n",
       "    </tr>\n",
       "    <tr>\n",
       "      <th>3</th>\n",
       "      <td>POLYGON ((71.75401 34.03224, 71.75403 34.03219...</td>\n",
       "      <td>0.161568</td>\n",
       "      <td>None</td>\n",
       "      <td>5</td>\n",
       "      <td>Agriculture</td>\n",
       "      <td>Khushmaqam</td>\n",
       "      <td>693</td>\n",
       "      <td>955.690196</td>\n",
       "      <td>434.231373</td>\n",
       "      <td>0.410130</td>\n",
       "      <td>...</td>\n",
       "      <td>-0.038227</td>\n",
       "      <td>-1.738528</td>\n",
       "      <td>-0.431634</td>\n",
       "      <td>806.999988</td>\n",
       "      <td>1099.118312</td>\n",
       "      <td>1177.751882</td>\n",
       "      <td>2761.666157</td>\n",
       "      <td>2193.297278</td>\n",
       "      <td>0.312414</td>\n",
       "      <td>0.687586</td>\n",
       "    </tr>\n",
       "    <tr>\n",
       "      <th>4</th>\n",
       "      <td>POLYGON ((71.74971 34.03192, 71.74996 34.03193...</td>\n",
       "      <td>0.229336</td>\n",
       "      <td>None</td>\n",
       "      <td>6</td>\n",
       "      <td>Agriculture</td>\n",
       "      <td>Khushmaqam</td>\n",
       "      <td>667</td>\n",
       "      <td>170.831373</td>\n",
       "      <td>437.709804</td>\n",
       "      <td>0.197473</td>\n",
       "      <td>...</td>\n",
       "      <td>0.039058</td>\n",
       "      <td>-1.196795</td>\n",
       "      <td>-0.233127</td>\n",
       "      <td>1160.127481</td>\n",
       "      <td>1376.297936</td>\n",
       "      <td>1480.144814</td>\n",
       "      <td>2196.267099</td>\n",
       "      <td>2126.134001</td>\n",
       "      <td>0.719277</td>\n",
       "      <td>0.280723</td>\n",
       "    </tr>\n",
       "    <tr>\n",
       "      <th>...</th>\n",
       "      <td>...</td>\n",
       "      <td>...</td>\n",
       "      <td>...</td>\n",
       "      <td>...</td>\n",
       "      <td>...</td>\n",
       "      <td>...</td>\n",
       "      <td>...</td>\n",
       "      <td>...</td>\n",
       "      <td>...</td>\n",
       "      <td>...</td>\n",
       "      <td>...</td>\n",
       "      <td>...</td>\n",
       "      <td>...</td>\n",
       "      <td>...</td>\n",
       "      <td>...</td>\n",
       "      <td>...</td>\n",
       "      <td>...</td>\n",
       "      <td>...</td>\n",
       "      <td>...</td>\n",
       "      <td>...</td>\n",
       "      <td>...</td>\n",
       "    </tr>\n",
       "    <tr>\n",
       "      <th>5754</th>\n",
       "      <td>POLYGON ((71.76623 34.0439, 71.76626 34.04366,...</td>\n",
       "      <td>0.171500</td>\n",
       "      <td>None</td>\n",
       "      <td>6723</td>\n",
       "      <td>Agriculture</td>\n",
       "      <td>Amankot</td>\n",
       "      <td>843</td>\n",
       "      <td>1553.215686</td>\n",
       "      <td>112.615686</td>\n",
       "      <td>0.571489</td>\n",
       "      <td>...</td>\n",
       "      <td>-0.101405</td>\n",
       "      <td>-1.856395</td>\n",
       "      <td>-0.555056</td>\n",
       "      <td>460.745576</td>\n",
       "      <td>706.997455</td>\n",
       "      <td>669.423946</td>\n",
       "      <td>2584.963943</td>\n",
       "      <td>1786.159601</td>\n",
       "      <td>0.067603</td>\n",
       "      <td>0.932397</td>\n",
       "    </tr>\n",
       "    <tr>\n",
       "      <th>5755</th>\n",
       "      <td>POLYGON ((71.76681 34.0447, 71.76711 34.04347,...</td>\n",
       "      <td>0.466952</td>\n",
       "      <td>None</td>\n",
       "      <td>6724</td>\n",
       "      <td>Agriculture</td>\n",
       "      <td>Amankot</td>\n",
       "      <td>848</td>\n",
       "      <td>2741.811765</td>\n",
       "      <td>1695.423529</td>\n",
       "      <td>0.420987</td>\n",
       "      <td>...</td>\n",
       "      <td>-0.035676</td>\n",
       "      <td>-1.744243</td>\n",
       "      <td>-0.461200</td>\n",
       "      <td>606.152732</td>\n",
       "      <td>866.504644</td>\n",
       "      <td>990.755175</td>\n",
       "      <td>2359.760189</td>\n",
       "      <td>1915.876354</td>\n",
       "      <td>0.382090</td>\n",
       "      <td>0.617910</td>\n",
       "    </tr>\n",
       "    <tr>\n",
       "      <th>5756</th>\n",
       "      <td>POLYGON ((71.77762 34.02896, 71.77766 34.02877...</td>\n",
       "      <td>-0.303899</td>\n",
       "      <td>None</td>\n",
       "      <td>6725</td>\n",
       "      <td>Agriculture</td>\n",
       "      <td>Amankot</td>\n",
       "      <td>1331</td>\n",
       "      <td>3572.301961</td>\n",
       "      <td>813.478431</td>\n",
       "      <td>0.488737</td>\n",
       "      <td>...</td>\n",
       "      <td>-0.062202</td>\n",
       "      <td>-1.782541</td>\n",
       "      <td>-0.494530</td>\n",
       "      <td>601.428608</td>\n",
       "      <td>912.079541</td>\n",
       "      <td>938.331616</td>\n",
       "      <td>2769.259731</td>\n",
       "      <td>2078.009210</td>\n",
       "      <td>0.185481</td>\n",
       "      <td>0.814519</td>\n",
       "    </tr>\n",
       "    <tr>\n",
       "      <th>5757</th>\n",
       "      <td>POLYGON ((71.79385 34.02814, 71.79411 34.02642...</td>\n",
       "      <td>3.634200</td>\n",
       "      <td>None</td>\n",
       "      <td>6726</td>\n",
       "      <td>Agriculture</td>\n",
       "      <td>Amankot</td>\n",
       "      <td>2070</td>\n",
       "      <td>45075.819608</td>\n",
       "      <td>22076.682353</td>\n",
       "      <td>0.417301</td>\n",
       "      <td>...</td>\n",
       "      <td>-0.031983</td>\n",
       "      <td>-1.711403</td>\n",
       "      <td>-0.453149</td>\n",
       "      <td>676.936347</td>\n",
       "      <td>959.914195</td>\n",
       "      <td>1077.387722</td>\n",
       "      <td>2598.212482</td>\n",
       "      <td>2088.983032</td>\n",
       "      <td>0.328754</td>\n",
       "      <td>0.671246</td>\n",
       "    </tr>\n",
       "    <tr>\n",
       "      <th>5758</th>\n",
       "      <td>POLYGON ((71.75546 34.03786, 71.75554 34.03779...</td>\n",
       "      <td>0.023844</td>\n",
       "      <td>None</td>\n",
       "      <td>6729</td>\n",
       "      <td>Agriculture</td>\n",
       "      <td>Amankot</td>\n",
       "      <td>567</td>\n",
       "      <td>188.117647</td>\n",
       "      <td>44.627451</td>\n",
       "      <td>0.398917</td>\n",
       "      <td>...</td>\n",
       "      <td>0.005704</td>\n",
       "      <td>-1.441162</td>\n",
       "      <td>-0.438244</td>\n",
       "      <td>647.300653</td>\n",
       "      <td>916.417662</td>\n",
       "      <td>1012.460889</td>\n",
       "      <td>2355.819741</td>\n",
       "      <td>2042.111837</td>\n",
       "      <td>0.191744</td>\n",
       "      <td>0.808256</td>\n",
       "    </tr>\n",
       "  </tbody>\n",
       "</table>\n",
       "<p>5759 rows × 21 columns</p>\n",
       "</div>"
      ],
      "text/plain": [
       "                                               geometry  Area_Acre Crop_Type  \\\n",
       "0     POLYGON ((71.74996 34.03193, 71.75027 34.03195...   0.101785      None   \n",
       "1     POLYGON ((71.74868 34.03205, 71.74869 34.03195...   0.315557      None   \n",
       "2     POLYGON ((71.75021 34.03218, 71.75022 34.0321,...   0.187644      None   \n",
       "3     POLYGON ((71.75401 34.03224, 71.75403 34.03219...   0.161568      None   \n",
       "4     POLYGON ((71.74971 34.03192, 71.74996 34.03193...   0.229336      None   \n",
       "...                                                 ...        ...       ...   \n",
       "5754  POLYGON ((71.76623 34.0439, 71.76626 34.04366,...   0.171500      None   \n",
       "5755  POLYGON ((71.76681 34.0447, 71.76711 34.04347,...   0.466952      None   \n",
       "5756  POLYGON ((71.77762 34.02896, 71.77766 34.02877...  -0.303899      None   \n",
       "5757  POLYGON ((71.79385 34.02814, 71.79411 34.02642...   3.634200      None   \n",
       "5758  POLYGON ((71.75546 34.03786, 71.75554 34.03779...   0.023844      None   \n",
       "\n",
       "      FFID   Landuse_Ma  Mouza_Name  Parcel_ID    agri_count   built_count  \\\n",
       "0        1  Agriculture  Khushmaqam        668     90.725490    181.058824   \n",
       "1        3  Agriculture  Khushmaqam        632    445.384314    928.509804   \n",
       "2        4  Agriculture  Khushmaqam        669    241.717647    430.784314   \n",
       "3        5  Agriculture  Khushmaqam        693    955.690196    434.231373   \n",
       "4        6  Agriculture  Khushmaqam        667    170.831373    437.709804   \n",
       "...    ...          ...         ...        ...           ...           ...   \n",
       "5754  6723  Agriculture     Amankot        843   1553.215686    112.615686   \n",
       "5755  6724  Agriculture     Amankot        848   2741.811765   1695.423529   \n",
       "5756  6725  Agriculture     Amankot       1331   3572.301961    813.478431   \n",
       "5757  6726  Agriculture     Amankot       2070  45075.819608  22076.682353   \n",
       "5758  6729  Agriculture     Amankot        567    188.117647     44.627451   \n",
       "\n",
       "          NDVI  ...       BUI        UI      NDWI           B2           B3  \\\n",
       "0     0.226656  ...  0.037398 -1.202087 -0.261929  1080.794583  1314.424346   \n",
       "1     0.254974  ...  0.060771 -0.876391 -0.298905   905.980655  1133.265953   \n",
       "2     0.248897  ...  0.047527 -1.022695 -0.284861   989.403836  1234.108843   \n",
       "3     0.410130  ... -0.038227 -1.738528 -0.431634   806.999988  1099.118312   \n",
       "4     0.197473  ...  0.039058 -1.196795 -0.233127  1160.127481  1376.297936   \n",
       "...        ...  ...       ...       ...       ...          ...          ...   \n",
       "5754  0.571489  ... -0.101405 -1.856395 -0.555056   460.745576   706.997455   \n",
       "5755  0.420987  ... -0.035676 -1.744243 -0.461200   606.152732   866.504644   \n",
       "5756  0.488737  ... -0.062202 -1.782541 -0.494530   601.428608   912.079541   \n",
       "5757  0.417301  ... -0.031983 -1.711403 -0.453149   676.936347   959.914195   \n",
       "5758  0.398917  ...  0.005704 -1.441162 -0.438244   647.300653   916.417662   \n",
       "\n",
       "               B4           B8          B11  pct_built  pct_agri  \n",
       "0     1412.001354  2250.015724  2147.930654   0.666186  0.333814  \n",
       "1     1248.493593  2115.168267  2148.237869   0.675823  0.324177  \n",
       "2     1331.561342  2231.942662  2198.647527   0.640570  0.359430  \n",
       "3     1177.751882  2761.666157  2193.297278   0.312414  0.687586  \n",
       "4     1480.144814  2196.267099  2126.134001   0.719277  0.280723  \n",
       "...           ...          ...          ...        ...       ...  \n",
       "5754   669.423946  2584.963943  1786.159601   0.067603  0.932397  \n",
       "5755   990.755175  2359.760189  1915.876354   0.382090  0.617910  \n",
       "5756   938.331616  2769.259731  2078.009210   0.185481  0.814519  \n",
       "5757  1077.387722  2598.212482  2088.983032   0.328754  0.671246  \n",
       "5758  1012.460889  2355.819741  2042.111837   0.191744  0.808256  \n",
       "\n",
       "[5759 rows x 21 columns]"
      ]
     },
     "execution_count": 22,
     "metadata": {},
     "output_type": "execute_result"
    }
   ],
   "source": [
    "stats_gdf"
   ]
  },
  {
   "cell_type": "code",
   "execution_count": 23,
   "id": "86580e1a",
   "metadata": {},
   "outputs": [
    {
     "data": {
      "text/html": [
       "\n",
       "            <style>\n",
       "                .geemap-dark {\n",
       "                    --jp-widgets-color: white;\n",
       "                    --jp-widgets-label-color: white;\n",
       "                    --jp-ui-font-color1: white;\n",
       "                    --jp-layout-color2: #454545;\n",
       "                    background-color: #383838;\n",
       "                }\n",
       "\n",
       "                .geemap-dark .jupyter-button {\n",
       "                    --jp-layout-color3: #383838;\n",
       "                }\n",
       "\n",
       "                .geemap-colab {\n",
       "                    background-color: var(--colab-primary-surface-color, white);\n",
       "                }\n",
       "\n",
       "                .geemap-colab .jupyter-button {\n",
       "                    --jp-layout-color3: var(--colab-primary-surface-color, white);\n",
       "                }\n",
       "            </style>\n",
       "            "
      ],
      "text/plain": [
       "<IPython.core.display.HTML object>"
      ]
     },
     "metadata": {},
     "output_type": "display_data"
    },
    {
     "name": "stdout",
     "output_type": "stream",
     "text": [
      "hc_label\n",
      "Agriculture        1985\n",
      "Non-Agriculture    1425\n",
      "Name: count, dtype: int64\n"
     ]
    }
   ],
   "source": [
    "def high_confidence_label(row,\n",
    "                          ndvi_ag=0.35,     # only very green\n",
    "                          ui_ag_max=0.05,   # near zero build\n",
    "                          pa_ag=0.80,       # ≥80% ag cover\n",
    "                          ui_non=0.25,      # definitely built\n",
    "                          pb_non=0.50       # ≥50% built cover\n",
    "                         ):\n",
    "    ndvi = row['NDVI']\n",
    "    ui   = row['UI']\n",
    "    pa   = row['pct_agri']\n",
    "    pb   = row['pct_built']\n",
    "    \n",
    "    # HIGH-CONFIDENCE AGRICULTURE\n",
    "    if ndvi >= ndvi_ag and ui <= ui_ag_max and pa >= pa_ag:\n",
    "        return 'Agriculture'\n",
    "    \n",
    "    # HIGH-CONFIDENCE NON-AGRICULTURE\n",
    "    if ui >= ui_non or pb >= pb_non:\n",
    "        return 'Non-Agriculture'\n",
    "    \n",
    "    # UNCERTAIN\n",
    "    return None\n",
    "\n",
    "stats_gdf['hc_label'] = stats_gdf.apply(high_confidence_label, axis=1)\n",
    "print(stats_gdf['hc_label'].value_counts())"
   ]
  },
  {
   "cell_type": "code",
   "execution_count": 24,
   "id": "acea75f8",
   "metadata": {},
   "outputs": [
    {
     "data": {
      "text/html": [
       "\n",
       "            <style>\n",
       "                .geemap-dark {\n",
       "                    --jp-widgets-color: white;\n",
       "                    --jp-widgets-label-color: white;\n",
       "                    --jp-ui-font-color1: white;\n",
       "                    --jp-layout-color2: #454545;\n",
       "                    background-color: #383838;\n",
       "                }\n",
       "\n",
       "                .geemap-dark .jupyter-button {\n",
       "                    --jp-layout-color3: #383838;\n",
       "                }\n",
       "\n",
       "                .geemap-colab {\n",
       "                    background-color: var(--colab-primary-surface-color, white);\n",
       "                }\n",
       "\n",
       "                .geemap-colab .jupyter-button {\n",
       "                    --jp-layout-color3: var(--colab-primary-surface-color, white);\n",
       "                }\n",
       "            </style>\n",
       "            "
      ],
      "text/plain": [
       "<IPython.core.display.HTML object>"
      ]
     },
     "metadata": {},
     "output_type": "display_data"
    }
   ],
   "source": [
    "agriculture = stats_gdf[stats_gdf['hc_label'] == 'Agriculture']\n",
    "nonagriculture = stats_gdf[stats_gdf['hc_label'] == 'Non-Agriculture']\n"
   ]
  },
  {
   "cell_type": "code",
   "execution_count": 25,
   "id": "cc11fc5a",
   "metadata": {},
   "outputs": [
    {
     "data": {
      "text/html": [
       "\n",
       "            <style>\n",
       "                .geemap-dark {\n",
       "                    --jp-widgets-color: white;\n",
       "                    --jp-widgets-label-color: white;\n",
       "                    --jp-ui-font-color1: white;\n",
       "                    --jp-layout-color2: #454545;\n",
       "                    background-color: #383838;\n",
       "                }\n",
       "\n",
       "                .geemap-dark .jupyter-button {\n",
       "                    --jp-layout-color3: #383838;\n",
       "                }\n",
       "\n",
       "                .geemap-colab {\n",
       "                    background-color: var(--colab-primary-surface-color, white);\n",
       "                }\n",
       "\n",
       "                .geemap-colab .jupyter-button {\n",
       "                    --jp-layout-color3: var(--colab-primary-surface-color, white);\n",
       "                }\n",
       "            </style>\n",
       "            "
      ],
      "text/plain": [
       "<IPython.core.display.HTML object>"
      ]
     },
     "metadata": {},
     "output_type": "display_data"
    },
    {
     "data": {
      "application/vnd.jupyter.widget-view+json": {
       "model_id": "9bcea1de4d6b465b84fe00426c125597",
       "version_major": 2,
       "version_minor": 0
      },
      "text/plain": [
       "Map(center=[37.5, 70], controls=(ZoomControl(options=['position', 'zoom_in_text', 'zoom_in_title', 'zoom_out_t…"
      ]
     },
     "execution_count": 25,
     "metadata": {},
     "output_type": "execute_result"
    }
   ],
   "source": [
    "#This map just give you the visualization of High confident labels\n",
    "\n",
    "m = leafmap.Map(center=(37.5, 70), )\n",
    "m.add_basemap('Google Satellite')\n",
    "\n",
    "# 1. Create a minimal GeoDataFrame with only geometry + landuse_class\n",
    "popup_gdf = stats_gdf[['geometry', 'hc_label']].copy()\n",
    "\n",
    "\n",
    "legend_dict = {\n",
    "    'Agriculture':           '#00AA00',  # dark green\n",
    "    'Non-Agriculture':       '#00008B',  # darkblue\n",
    "    }\n",
    "\n",
    "\n",
    "m.add_gdf(\n",
    "    popup_gdf,\n",
    "    layer_name='Landuse Class',\n",
    "    style={                      # pick any style you like\n",
    "        'color':   'black',\n",
    "        'fillColor':'transparent',\n",
    "        'fillOpacity': 0.1,\n",
    "        'weight':  1\n",
    "    },\n",
    "    zoom_to_layer=True,\n",
    "    info_mode='on_click'        # show popup when you click\n",
    ")\n",
    "\n",
    "# Agriculture\n",
    "m.add_gdf(\n",
    "    agriculture,\n",
    "    layer_name='Agriculture',\n",
    "    style={\n",
    "        'color': 'green',      # border\n",
    "        'fillColor': 'green',  # interior\n",
    "        'fillOpacity': 0.4,\n",
    "        'weight': 1\n",
    "    }, info_mode='off'\n",
    "     \n",
    ")\n",
    "# Non-Agriculture\n",
    "m.add_gdf(\n",
    "    nonagriculture,\n",
    "    layer_name='Non-Agriculture',\n",
    "    style={\n",
    "        'color': 'blue',\n",
    "        'fillColor': 'blue',\n",
    "        'fillOpacity': 0.4,\n",
    "        'weight': 1\n",
    "    }, info_mode='off'\n",
    "    \n",
    ")\n",
    "# Add legend\n",
    "m.add_legend(\n",
    "    legend_title='Landuse Classification',\n",
    "    legend_dict=legend_dict,\n",
    "    position='bottomleft'\n",
    ")\n",
    "\n",
    "m.add_layer_manager()\n",
    "\n",
    "m"
   ]
  },
  {
   "cell_type": "code",
   "execution_count": 105,
   "id": "f9a98320",
   "metadata": {},
   "outputs": [
    {
     "data": {
      "text/html": [
       "\n",
       "            <style>\n",
       "                .geemap-dark {\n",
       "                    --jp-widgets-color: white;\n",
       "                    --jp-widgets-label-color: white;\n",
       "                    --jp-ui-font-color1: white;\n",
       "                    --jp-layout-color2: #454545;\n",
       "                    background-color: #383838;\n",
       "                }\n",
       "\n",
       "                .geemap-dark .jupyter-button {\n",
       "                    --jp-layout-color3: #383838;\n",
       "                }\n",
       "\n",
       "                .geemap-colab {\n",
       "                    background-color: var(--colab-primary-surface-color, white);\n",
       "                }\n",
       "\n",
       "                .geemap-colab .jupyter-button {\n",
       "                    --jp-layout-color3: var(--colab-primary-surface-color, white);\n",
       "                }\n",
       "            </style>\n",
       "            "
      ],
      "text/plain": [
       "<IPython.core.display.HTML object>"
      ]
     },
     "metadata": {},
     "output_type": "display_data"
    }
   ],
   "source": [
    "#len(stats_gdf)\n",
    "#stats_gdf.head()"
   ]
  },
  {
   "cell_type": "markdown",
   "id": "19acece9",
   "metadata": {},
   "source": [
    "\n",
    "\n",
    "# Adding the land classification raster\n",
    "colorlist = ['green','blue']\n",
    "classified_img = 'D:/Trainings/gee/classified_image-V2-clipped.tif'\n",
    "\n",
    "#clippedimage = imagepath.clip(boundary.geometry())\n",
    "\n",
    "\n",
    "m.add_raster(\n",
    "    classified_img,\n",
    "    layer_name='Landuse Classification',\n",
    "    colormap= colorlist,\n",
    "    opacity=0.5,\n",
    "    vmin=0,\n",
    "    vmax=4,\n",
    "    nodata=None,\n",
    "    legend=True,\n",
    "    layer_opacity=0.5\n",
    ")\n",
    "\n",
    "m.add_layer_manager()"
   ]
  },
  {
   "cell_type": "markdown",
   "id": "01462ba2",
   "metadata": {},
   "source": []
  },
  {
   "cell_type": "markdown",
   "id": "83473956",
   "metadata": {},
   "source": [
    "# Training Random Forest"
   ]
  },
  {
   "cell_type": "code",
   "execution_count": 26,
   "id": "ddf1db3a",
   "metadata": {},
   "outputs": [
    {
     "data": {
      "text/html": [
       "\n",
       "            <style>\n",
       "                .geemap-dark {\n",
       "                    --jp-widgets-color: white;\n",
       "                    --jp-widgets-label-color: white;\n",
       "                    --jp-ui-font-color1: white;\n",
       "                    --jp-layout-color2: #454545;\n",
       "                    background-color: #383838;\n",
       "                }\n",
       "\n",
       "                .geemap-dark .jupyter-button {\n",
       "                    --jp-layout-color3: #383838;\n",
       "                }\n",
       "\n",
       "                .geemap-colab {\n",
       "                    background-color: var(--colab-primary-surface-color, white);\n",
       "                }\n",
       "\n",
       "                .geemap-colab .jupyter-button {\n",
       "                    --jp-layout-color3: var(--colab-primary-surface-color, white);\n",
       "                }\n",
       "            </style>\n",
       "            "
      ],
      "text/plain": [
       "<IPython.core.display.HTML object>"
      ]
     },
     "metadata": {},
     "output_type": "display_data"
    }
   ],
   "source": [
    "from sklearn.ensemble import RandomForestClassifier\n",
    "from sklearn.model_selection import train_test_split\n",
    "from sklearn.metrics import classification_report, confusion_matrix\n",
    "\n",
    "#prepare training data\n",
    "train = stats_gdf.dropna(subset = ['hc_label'])\n",
    "\n",
    "X = train[['NDVI','UI','BUI','NDBI','NDWI','B2','B3','B4','B8','B11']].values\n",
    "y = (train['hc_label'] == 'Agriculture').astype(int)\n",
    "\n",
    "X_train,X_test,y_train,y_test = train_test_split(X,y,test_size=0.2,random_state=42,stratify=y)\n",
    "\n",
    "#Train the model\n",
    "rf= RandomForestClassifier(n_estimators=200, max_depth=15, random_state=42)\n",
    "rf.fit(X_train ,y_train)\n",
    "y_pred = rf.predict(X_test)"
   ]
  },
  {
   "cell_type": "code",
   "execution_count": 27,
   "id": "97f6c6b4",
   "metadata": {},
   "outputs": [
    {
     "data": {
      "text/html": [
       "\n",
       "            <style>\n",
       "                .geemap-dark {\n",
       "                    --jp-widgets-color: white;\n",
       "                    --jp-widgets-label-color: white;\n",
       "                    --jp-ui-font-color1: white;\n",
       "                    --jp-layout-color2: #454545;\n",
       "                    background-color: #383838;\n",
       "                }\n",
       "\n",
       "                .geemap-dark .jupyter-button {\n",
       "                    --jp-layout-color3: #383838;\n",
       "                }\n",
       "\n",
       "                .geemap-colab {\n",
       "                    background-color: var(--colab-primary-surface-color, white);\n",
       "                }\n",
       "\n",
       "                .geemap-colab .jupyter-button {\n",
       "                    --jp-layout-color3: var(--colab-primary-surface-color, white);\n",
       "                }\n",
       "            </style>\n",
       "            "
      ],
      "text/plain": [
       "<IPython.core.display.HTML object>"
      ]
     },
     "metadata": {},
     "output_type": "display_data"
    },
    {
     "name": "stdout",
     "output_type": "stream",
     "text": [
      "Classification Report:\n",
      "\n",
      "                 precision    recall  f1-score   support\n",
      "\n",
      "Non-Agriculture       0.99      0.98      0.99       285\n",
      "    Agriculture       0.99      0.99      0.99       397\n",
      "\n",
      "       accuracy                           0.99       682\n",
      "      macro avg       0.99      0.99      0.99       682\n",
      "   weighted avg       0.99      0.99      0.99       682\n",
      "\n",
      "Confusion Matrix:\n",
      " [[279   6]\n",
      " [  2 395]]\n"
     ]
    }
   ],
   "source": [
    "#Priting classification report and Confusion matrix\n",
    "# Evaluate the Performance of the model\n",
    "\n",
    "# 5) Print the classification report\n",
    "print(\"Classification Report:\\n\")\n",
    "print(classification_report(\n",
    "    y_test, y_pred,\n",
    "    target_names=['Non-Agriculture','Agriculture']\n",
    "))\n",
    "\n",
    "# 6) Print the confusion matrix\n",
    "cm = confusion_matrix(y_test, y_pred)\n",
    "print(\"Confusion Matrix:\\n\", cm)"
   ]
  },
  {
   "cell_type": "code",
   "execution_count": 28,
   "id": "bd6c88ea",
   "metadata": {},
   "outputs": [
    {
     "data": {
      "text/html": [
       "\n",
       "            <style>\n",
       "                .geemap-dark {\n",
       "                    --jp-widgets-color: white;\n",
       "                    --jp-widgets-label-color: white;\n",
       "                    --jp-ui-font-color1: white;\n",
       "                    --jp-layout-color2: #454545;\n",
       "                    background-color: #383838;\n",
       "                }\n",
       "\n",
       "                .geemap-dark .jupyter-button {\n",
       "                    --jp-layout-color3: #383838;\n",
       "                }\n",
       "\n",
       "                .geemap-colab {\n",
       "                    background-color: var(--colab-primary-surface-color, white);\n",
       "                }\n",
       "\n",
       "                .geemap-colab .jupyter-button {\n",
       "                    --jp-layout-color3: var(--colab-primary-surface-color, white);\n",
       "                }\n",
       "            </style>\n",
       "            "
      ],
      "text/plain": [
       "<IPython.core.display.HTML object>"
      ]
     },
     "metadata": {},
     "output_type": "display_data"
    }
   ],
   "source": [
    "# Predicting the unlabeled Parcels\n",
    "\n",
    "unlabeled = stats_gdf[stats_gdf['hc_label'].isna()]\n",
    "\n",
    "X_unlbl = unlabeled[['NDVI','UI','BUI','NDBI','NDWI','B2','B3','B4','B8','B11']].values\n",
    "\n",
    "probs = rf.predict_proba(X_unlbl)[:,1]\n",
    "unlabeled['rf_prob_ag'] = probs\n",
    "\n",
    "#Hard-Classify at 0.5 (threshold)\n",
    "\n",
    "unlabeled['rf_label'] = np.where(probs>0.5, 'Agriculture', 'Non-Agriculture')"
   ]
  },
  {
   "cell_type": "code",
   "execution_count": 29,
   "id": "309e8992",
   "metadata": {},
   "outputs": [
    {
     "data": {
      "text/html": [
       "\n",
       "            <style>\n",
       "                .geemap-dark {\n",
       "                    --jp-widgets-color: white;\n",
       "                    --jp-widgets-label-color: white;\n",
       "                    --jp-ui-font-color1: white;\n",
       "                    --jp-layout-color2: #454545;\n",
       "                    background-color: #383838;\n",
       "                }\n",
       "\n",
       "                .geemap-dark .jupyter-button {\n",
       "                    --jp-layout-color3: #383838;\n",
       "                }\n",
       "\n",
       "                .geemap-colab {\n",
       "                    background-color: var(--colab-primary-surface-color, white);\n",
       "                }\n",
       "\n",
       "                .geemap-colab .jupyter-button {\n",
       "                    --jp-layout-color3: var(--colab-primary-surface-color, white);\n",
       "                }\n",
       "            </style>\n",
       "            "
      ],
      "text/plain": [
       "<IPython.core.display.HTML object>"
      ]
     },
     "metadata": {},
     "output_type": "display_data"
    }
   ],
   "source": [
    "# To leave the very low confidence RF Preictions unassigned.\n",
    "threshold_low , threshold_high= 0.3,0.7\n",
    "\n",
    "unlabeled['predicted_label'] = np.where(probs > threshold_high, 'Agriculture',\n",
    "                                        np.where(probs < threshold_low, 'Non-Agriculture', None))\n"
   ]
  },
  {
   "cell_type": "code",
   "execution_count": 30,
   "id": "128ddaae",
   "metadata": {},
   "outputs": [
    {
     "data": {
      "text/html": [
       "\n",
       "            <style>\n",
       "                .geemap-dark {\n",
       "                    --jp-widgets-color: white;\n",
       "                    --jp-widgets-label-color: white;\n",
       "                    --jp-ui-font-color1: white;\n",
       "                    --jp-layout-color2: #454545;\n",
       "                    background-color: #383838;\n",
       "                }\n",
       "\n",
       "                .geemap-dark .jupyter-button {\n",
       "                    --jp-layout-color3: #383838;\n",
       "                }\n",
       "\n",
       "                .geemap-colab {\n",
       "                    background-color: var(--colab-primary-surface-color, white);\n",
       "                }\n",
       "\n",
       "                .geemap-colab .jupyter-button {\n",
       "                    --jp-layout-color3: var(--colab-primary-surface-color, white);\n",
       "                }\n",
       "            </style>\n",
       "            "
      ],
      "text/plain": [
       "<IPython.core.display.HTML object>"
      ]
     },
     "metadata": {},
     "output_type": "display_data"
    }
   ],
   "source": [
    "pred_agri = unlabeled[unlabeled['predicted_label']== 'Agriculture']\n",
    "pred_nonagri = unlabeled[unlabeled['predicted_label']== 'Non-Agriculture']\n",
    "pred_unassigned = unlabeled[unlabeled['predicted_label']== None]"
   ]
  },
  {
   "cell_type": "code",
   "execution_count": 31,
   "id": "db4e241e",
   "metadata": {},
   "outputs": [
    {
     "data": {
      "text/html": [
       "\n",
       "            <style>\n",
       "                .geemap-dark {\n",
       "                    --jp-widgets-color: white;\n",
       "                    --jp-widgets-label-color: white;\n",
       "                    --jp-ui-font-color1: white;\n",
       "                    --jp-layout-color2: #454545;\n",
       "                    background-color: #383838;\n",
       "                }\n",
       "\n",
       "                .geemap-dark .jupyter-button {\n",
       "                    --jp-layout-color3: #383838;\n",
       "                }\n",
       "\n",
       "                .geemap-colab {\n",
       "                    background-color: var(--colab-primary-surface-color, white);\n",
       "                }\n",
       "\n",
       "                .geemap-colab .jupyter-button {\n",
       "                    --jp-layout-color3: var(--colab-primary-surface-color, white);\n",
       "                }\n",
       "            </style>\n",
       "            "
      ],
      "text/plain": [
       "<IPython.core.display.HTML object>"
      ]
     },
     "metadata": {},
     "output_type": "display_data"
    },
    {
     "data": {
      "text/html": [
       "<div>\n",
       "<style scoped>\n",
       "    .dataframe tbody tr th:only-of-type {\n",
       "        vertical-align: middle;\n",
       "    }\n",
       "\n",
       "    .dataframe tbody tr th {\n",
       "        vertical-align: top;\n",
       "    }\n",
       "\n",
       "    .dataframe thead th {\n",
       "        text-align: right;\n",
       "    }\n",
       "</style>\n",
       "<table border=\"1\" class=\"dataframe\">\n",
       "  <thead>\n",
       "    <tr style=\"text-align: right;\">\n",
       "      <th></th>\n",
       "      <th>geometry</th>\n",
       "      <th>Area_Acre</th>\n",
       "      <th>Crop_Type</th>\n",
       "      <th>FFID</th>\n",
       "      <th>Landuse_Ma</th>\n",
       "      <th>Mouza_Name</th>\n",
       "      <th>Parcel_ID</th>\n",
       "      <th>agri_count</th>\n",
       "      <th>built_count</th>\n",
       "      <th>NDVI</th>\n",
       "      <th>...</th>\n",
       "      <th>B2</th>\n",
       "      <th>B3</th>\n",
       "      <th>B4</th>\n",
       "      <th>B8</th>\n",
       "      <th>B11</th>\n",
       "      <th>pct_built</th>\n",
       "      <th>pct_agri</th>\n",
       "      <th>hc_label</th>\n",
       "      <th>predicted_label</th>\n",
       "      <th>target_label</th>\n",
       "    </tr>\n",
       "  </thead>\n",
       "  <tbody>\n",
       "    <tr>\n",
       "      <th>0</th>\n",
       "      <td>POLYGON ((71.74996 34.03193, 71.75027 34.03195...</td>\n",
       "      <td>0.101785</td>\n",
       "      <td>None</td>\n",
       "      <td>1</td>\n",
       "      <td>Agriculture</td>\n",
       "      <td>Khushmaqam</td>\n",
       "      <td>668</td>\n",
       "      <td>90.725490</td>\n",
       "      <td>181.058824</td>\n",
       "      <td>0.226656</td>\n",
       "      <td>...</td>\n",
       "      <td>1080.794583</td>\n",
       "      <td>1314.424346</td>\n",
       "      <td>1412.001354</td>\n",
       "      <td>2250.015724</td>\n",
       "      <td>2147.930654</td>\n",
       "      <td>0.666186</td>\n",
       "      <td>0.333814</td>\n",
       "      <td>Non-Agriculture</td>\n",
       "      <td>NaN</td>\n",
       "      <td>Non-Agriculture</td>\n",
       "    </tr>\n",
       "    <tr>\n",
       "      <th>1</th>\n",
       "      <td>POLYGON ((71.74868 34.03205, 71.74869 34.03195...</td>\n",
       "      <td>0.315557</td>\n",
       "      <td>None</td>\n",
       "      <td>3</td>\n",
       "      <td>Agriculture</td>\n",
       "      <td>Khushmaqam</td>\n",
       "      <td>632</td>\n",
       "      <td>445.384314</td>\n",
       "      <td>928.509804</td>\n",
       "      <td>0.254974</td>\n",
       "      <td>...</td>\n",
       "      <td>905.980655</td>\n",
       "      <td>1133.265953</td>\n",
       "      <td>1248.493593</td>\n",
       "      <td>2115.168267</td>\n",
       "      <td>2148.237869</td>\n",
       "      <td>0.675823</td>\n",
       "      <td>0.324177</td>\n",
       "      <td>Non-Agriculture</td>\n",
       "      <td>NaN</td>\n",
       "      <td>Non-Agriculture</td>\n",
       "    </tr>\n",
       "    <tr>\n",
       "      <th>2</th>\n",
       "      <td>POLYGON ((71.75021 34.03218, 71.75022 34.0321,...</td>\n",
       "      <td>0.187644</td>\n",
       "      <td>None</td>\n",
       "      <td>4</td>\n",
       "      <td>Agriculture</td>\n",
       "      <td>Khushmaqam</td>\n",
       "      <td>669</td>\n",
       "      <td>241.717647</td>\n",
       "      <td>430.784314</td>\n",
       "      <td>0.248897</td>\n",
       "      <td>...</td>\n",
       "      <td>989.403836</td>\n",
       "      <td>1234.108843</td>\n",
       "      <td>1331.561342</td>\n",
       "      <td>2231.942662</td>\n",
       "      <td>2198.647527</td>\n",
       "      <td>0.640570</td>\n",
       "      <td>0.359430</td>\n",
       "      <td>Non-Agriculture</td>\n",
       "      <td>NaN</td>\n",
       "      <td>Non-Agriculture</td>\n",
       "    </tr>\n",
       "    <tr>\n",
       "      <th>3</th>\n",
       "      <td>POLYGON ((71.75401 34.03224, 71.75403 34.03219...</td>\n",
       "      <td>0.161568</td>\n",
       "      <td>None</td>\n",
       "      <td>5</td>\n",
       "      <td>Agriculture</td>\n",
       "      <td>Khushmaqam</td>\n",
       "      <td>693</td>\n",
       "      <td>955.690196</td>\n",
       "      <td>434.231373</td>\n",
       "      <td>0.410130</td>\n",
       "      <td>...</td>\n",
       "      <td>806.999988</td>\n",
       "      <td>1099.118312</td>\n",
       "      <td>1177.751882</td>\n",
       "      <td>2761.666157</td>\n",
       "      <td>2193.297278</td>\n",
       "      <td>0.312414</td>\n",
       "      <td>0.687586</td>\n",
       "      <td>None</td>\n",
       "      <td>Agriculture</td>\n",
       "      <td>Agriculture</td>\n",
       "    </tr>\n",
       "    <tr>\n",
       "      <th>4</th>\n",
       "      <td>POLYGON ((71.74971 34.03192, 71.74996 34.03193...</td>\n",
       "      <td>0.229336</td>\n",
       "      <td>None</td>\n",
       "      <td>6</td>\n",
       "      <td>Agriculture</td>\n",
       "      <td>Khushmaqam</td>\n",
       "      <td>667</td>\n",
       "      <td>170.831373</td>\n",
       "      <td>437.709804</td>\n",
       "      <td>0.197473</td>\n",
       "      <td>...</td>\n",
       "      <td>1160.127481</td>\n",
       "      <td>1376.297936</td>\n",
       "      <td>1480.144814</td>\n",
       "      <td>2196.267099</td>\n",
       "      <td>2126.134001</td>\n",
       "      <td>0.719277</td>\n",
       "      <td>0.280723</td>\n",
       "      <td>Non-Agriculture</td>\n",
       "      <td>NaN</td>\n",
       "      <td>Non-Agriculture</td>\n",
       "    </tr>\n",
       "  </tbody>\n",
       "</table>\n",
       "<p>5 rows × 24 columns</p>\n",
       "</div>"
      ],
      "text/plain": [
       "                                            geometry  Area_Acre Crop_Type  \\\n",
       "0  POLYGON ((71.74996 34.03193, 71.75027 34.03195...   0.101785      None   \n",
       "1  POLYGON ((71.74868 34.03205, 71.74869 34.03195...   0.315557      None   \n",
       "2  POLYGON ((71.75021 34.03218, 71.75022 34.0321,...   0.187644      None   \n",
       "3  POLYGON ((71.75401 34.03224, 71.75403 34.03219...   0.161568      None   \n",
       "4  POLYGON ((71.74971 34.03192, 71.74996 34.03193...   0.229336      None   \n",
       "\n",
       "   FFID   Landuse_Ma  Mouza_Name  Parcel_ID  agri_count  built_count  \\\n",
       "0     1  Agriculture  Khushmaqam        668   90.725490   181.058824   \n",
       "1     3  Agriculture  Khushmaqam        632  445.384314   928.509804   \n",
       "2     4  Agriculture  Khushmaqam        669  241.717647   430.784314   \n",
       "3     5  Agriculture  Khushmaqam        693  955.690196   434.231373   \n",
       "4     6  Agriculture  Khushmaqam        667  170.831373   437.709804   \n",
       "\n",
       "       NDVI  ...           B2           B3           B4           B8  \\\n",
       "0  0.226656  ...  1080.794583  1314.424346  1412.001354  2250.015724   \n",
       "1  0.254974  ...   905.980655  1133.265953  1248.493593  2115.168267   \n",
       "2  0.248897  ...   989.403836  1234.108843  1331.561342  2231.942662   \n",
       "3  0.410130  ...   806.999988  1099.118312  1177.751882  2761.666157   \n",
       "4  0.197473  ...  1160.127481  1376.297936  1480.144814  2196.267099   \n",
       "\n",
       "           B11  pct_built  pct_agri         hc_label  predicted_label  \\\n",
       "0  2147.930654   0.666186  0.333814  Non-Agriculture              NaN   \n",
       "1  2148.237869   0.675823  0.324177  Non-Agriculture              NaN   \n",
       "2  2198.647527   0.640570  0.359430  Non-Agriculture              NaN   \n",
       "3  2193.297278   0.312414  0.687586             None      Agriculture   \n",
       "4  2126.134001   0.719277  0.280723  Non-Agriculture              NaN   \n",
       "\n",
       "      target_label  \n",
       "0  Non-Agriculture  \n",
       "1  Non-Agriculture  \n",
       "2  Non-Agriculture  \n",
       "3      Agriculture  \n",
       "4  Non-Agriculture  \n",
       "\n",
       "[5 rows x 24 columns]"
      ]
     },
     "execution_count": 31,
     "metadata": {},
     "output_type": "execute_result"
    }
   ],
   "source": [
    "# Lets Create one Final dataset with target_labels for crop Random Forest\n",
    "stats_gdf = stats_gdf.merge(unlabeled[['FFID','predicted_label']], on='FFID',how= 'left')\n",
    "stats_gdf['target_label'] = stats_gdf['hc_label'].fillna(stats_gdf['predicted_label'])\n",
    "\n",
    "stats_gdf.head()"
   ]
  },
  {
   "cell_type": "code",
   "execution_count": 34,
   "id": "a24aed6b",
   "metadata": {},
   "outputs": [
    {
     "data": {
      "text/html": [
       "\n",
       "            <style>\n",
       "                .geemap-dark {\n",
       "                    --jp-widgets-color: white;\n",
       "                    --jp-widgets-label-color: white;\n",
       "                    --jp-ui-font-color1: white;\n",
       "                    --jp-layout-color2: #454545;\n",
       "                    background-color: #383838;\n",
       "                }\n",
       "\n",
       "                .geemap-dark .jupyter-button {\n",
       "                    --jp-layout-color3: #383838;\n",
       "                }\n",
       "\n",
       "                .geemap-colab {\n",
       "                    background-color: var(--colab-primary-surface-color, white);\n",
       "                }\n",
       "\n",
       "                .geemap-colab .jupyter-button {\n",
       "                    --jp-layout-color3: var(--colab-primary-surface-color, white);\n",
       "                }\n",
       "            </style>\n",
       "            "
      ],
      "text/plain": [
       "<IPython.core.display.HTML object>"
      ]
     },
     "metadata": {},
     "output_type": "display_data"
    }
   ],
   "source": [
    "stats_gdf.to_file('Pabbi_AgriVsNonAgri-V-1.geojson')"
   ]
  },
  {
   "cell_type": "code",
   "execution_count": 40,
   "id": "7a8bb446",
   "metadata": {},
   "outputs": [
    {
     "data": {
      "text/html": [
       "\n",
       "            <style>\n",
       "                .geemap-dark {\n",
       "                    --jp-widgets-color: white;\n",
       "                    --jp-widgets-label-color: white;\n",
       "                    --jp-ui-font-color1: white;\n",
       "                    --jp-layout-color2: #454545;\n",
       "                    background-color: #383838;\n",
       "                }\n",
       "\n",
       "                .geemap-dark .jupyter-button {\n",
       "                    --jp-layout-color3: #383838;\n",
       "                }\n",
       "\n",
       "                .geemap-colab {\n",
       "                    background-color: var(--colab-primary-surface-color, white);\n",
       "                }\n",
       "\n",
       "                .geemap-colab .jupyter-button {\n",
       "                    --jp-layout-color3: var(--colab-primary-surface-color, white);\n",
       "                }\n",
       "            </style>\n",
       "            "
      ],
      "text/plain": [
       "<IPython.core.display.HTML object>"
      ]
     },
     "metadata": {},
     "output_type": "display_data"
    },
    {
     "data": {
      "text/plain": [
       "['agri_nonagri-V1.pkl']"
      ]
     },
     "execution_count": 40,
     "metadata": {},
     "output_type": "execute_result"
    }
   ],
   "source": [
    "# Lets save the model for future use\n",
    "import joblib\n",
    "joblib.dump(rf, 'agri_nonagri-V1.pkl')   "
   ]
  },
  {
   "cell_type": "code",
   "execution_count": 32,
   "id": "b2393c0a",
   "metadata": {},
   "outputs": [
    {
     "data": {
      "text/html": [
       "\n",
       "            <style>\n",
       "                .geemap-dark {\n",
       "                    --jp-widgets-color: white;\n",
       "                    --jp-widgets-label-color: white;\n",
       "                    --jp-ui-font-color1: white;\n",
       "                    --jp-layout-color2: #454545;\n",
       "                    background-color: #383838;\n",
       "                }\n",
       "\n",
       "                .geemap-dark .jupyter-button {\n",
       "                    --jp-layout-color3: #383838;\n",
       "                }\n",
       "\n",
       "                .geemap-colab {\n",
       "                    background-color: var(--colab-primary-surface-color, white);\n",
       "                }\n",
       "\n",
       "                .geemap-colab .jupyter-button {\n",
       "                    --jp-layout-color3: var(--colab-primary-surface-color, white);\n",
       "                }\n",
       "            </style>\n",
       "            "
      ],
      "text/plain": [
       "<IPython.core.display.HTML object>"
      ]
     },
     "metadata": {},
     "output_type": "display_data"
    },
    {
     "data": {
      "application/vnd.jupyter.widget-view+json": {
       "model_id": "1cc0afc358c34fd0a4188000da7c5f1f",
       "version_major": 2,
       "version_minor": 0
      },
      "text/plain": [
       "Map(center=[37.5, 70], controls=(ZoomControl(options=['position', 'zoom_in_text', 'zoom_in_title', 'zoom_out_t…"
      ]
     },
     "execution_count": 32,
     "metadata": {},
     "output_type": "execute_result"
    }
   ],
   "source": [
    "m = leafmap.Map(center=(37.5, 70), zoom=6)\n",
    "m.add_basemap('Google Satellite')\n",
    "\n",
    "# 1. Create a minimal GeoDataFrame with only geometry + Target Labels\n",
    "popup_gdf = stats_gdf[['geometry', 'target_label']].copy()\n",
    "\n",
    "# 2. Add your styling layers *without* popups\n",
    "layers_lsit = [ \n",
    "    (agriculture,    'Agriculture',             legend_dict['Agriculture']),\n",
    "    (nonagriculture,   'NonAgricultrue',        legend_dict['Non-Agriculture']),\n",
    "        ]\n",
    "\n",
    "for gdf, name, color in layers_lsit:\n",
    "    # 2.1 Add the layer to the map   \n",
    "    m.add_gdf(\n",
    "        gdf,\n",
    "        layer_name=name,\n",
    "        style={\n",
    "            'color':    color,\n",
    "            'fillColor':color,\n",
    "            'fillOpacity':0.3,\n",
    "            'weight':   1\n",
    "        },\n",
    "        zoom_to_layer=True,\n",
    "        info_mode='off'   # make sure no popups for these layers\n",
    "    )\n",
    "\n",
    "# 3. Add your minimal layer *last*, with popups ON only for landuse_class\n",
    "m.add_gdf(\n",
    "    popup_gdf,\n",
    "    layer_name='Landuse Class',\n",
    "    style={\n",
    "        'color':      'black',\n",
    "        'fillColor': 'transparent',\n",
    "        'fillOpacity':0.1,\n",
    "        'weight':     1\n",
    "    },\n",
    "    info_mode='on_click'  # only this layer shows a popup\n",
    ")\n",
    "\n",
    "# Adding the predicted Agriculture and Non-Agriculture parcels\n",
    "m.add_gdf(\n",
    "    pred_agri,\n",
    "    layer_name='Predicted Agriculture',\n",
    "    style={\n",
    "        'color': 'lightgreen',\n",
    "        'fillColor': 'lightgreen',\n",
    "        'fillOpacity': 0.4,\n",
    "        'weight': 1\n",
    "    }, info_mode='off'\n",
    ")\n",
    "m.add_gdf(\n",
    "    pred_nonagri,\n",
    "    layer_name='Predicted Non-Agriculture',\n",
    "    style={\n",
    "        'color': 'lightblue',\n",
    "        'fillColor': 'lightblue',\n",
    "        'fillOpacity': 0.4,\n",
    "        'weight': 1\n",
    "    }, info_mode='off'\n",
    ")\n",
    "\n",
    "\n",
    "# 4. Legend & Layer Manager\n",
    "m.add_legend(\n",
    "    legend_title='Agriculture vs Non-Agriculture',\n",
    "    legend_dict=legend_dict,\n",
    "    position='bottomleft'\n",
    ")\n",
    "\n",
    "m.add_layer_manager()\n",
    "\n",
    "m\n"
   ]
  },
  {
   "cell_type": "markdown",
   "id": "cc792d50",
   "metadata": {},
   "source": [
    "# Multiband Classified Vector "
   ]
  },
  {
   "cell_type": "markdown",
   "id": "c426e39b",
   "metadata": {},
   "source": [
    "# This is one time activity to create the composite image marked it down\n",
    "\n",
    "bands = ['NDVI','UI','BUI','NDBI','NDWI','B2','B3','B4','B8','B11']\n",
    "stacked = composite_img.select(bands)\n",
    "\n",
    "# Export the image to a local GeoTiff at 10m resolution\n",
    "out_tif = 'Pabbi_AgriVsNonAgri-V-1.tif'\n",
    "\n",
    "geemap.ee_export_image(\n",
    "    stacked,\n",
    "    filename=out_tif,\n",
    "    scale=10,\n",
    "    region=boundary.geometry().bounds(),                 # your AOI\n",
    "    file_per_band=False,                        # one multiband file\n",
    "    crs='EPSG:4326' ,                            # or your preferred CRS\n",
    "    \n",
    ")\n",
    "\n",
    "print(f\"Exported multiband GeoTIFF: {out_tif}\")\n"
   ]
  },
  {
   "cell_type": "code",
   "execution_count": 62,
   "id": "72080e17",
   "metadata": {},
   "outputs": [
    {
     "data": {
      "text/html": [
       "\n",
       "            <style>\n",
       "                .geemap-dark {\n",
       "                    --jp-widgets-color: white;\n",
       "                    --jp-widgets-label-color: white;\n",
       "                    --jp-ui-font-color1: white;\n",
       "                    --jp-layout-color2: #454545;\n",
       "                    background-color: #383838;\n",
       "                }\n",
       "\n",
       "                .geemap-dark .jupyter-button {\n",
       "                    --jp-layout-color3: #383838;\n",
       "                }\n",
       "\n",
       "                .geemap-colab {\n",
       "                    background-color: var(--colab-primary-surface-color, white);\n",
       "                }\n",
       "\n",
       "                .geemap-colab .jupyter-button {\n",
       "                    --jp-layout-color3: var(--colab-primary-surface-color, white);\n",
       "                }\n",
       "            </style>\n",
       "            "
      ],
      "text/plain": [
       "<IPython.core.display.HTML object>"
      ]
     },
     "metadata": {},
     "output_type": "display_data"
    }
   ],
   "source": [
    "# 1. Load your trained RF pipeline\n",
    "rf_model = joblib.load('./agri_nonagri-V1.pkl')\n",
    "feature_cols = ['NDVI','UI','BUI','NDBI','NDWI','B2','B3','B4','B8','B11']\n",
    "classes  = rf_model.classes_"
   ]
  },
  {
   "cell_type": "code",
   "execution_count": null,
   "id": "4fa8094c",
   "metadata": {},
   "outputs": [
    {
     "data": {
      "text/html": [
       "\n",
       "            <style>\n",
       "                .geemap-dark {\n",
       "                    --jp-widgets-color: white;\n",
       "                    --jp-widgets-label-color: white;\n",
       "                    --jp-ui-font-color1: white;\n",
       "                    --jp-layout-color2: #454545;\n",
       "                    background-color: #383838;\n",
       "                }\n",
       "\n",
       "                .geemap-dark .jupyter-button {\n",
       "                    --jp-layout-color3: #383838;\n",
       "                }\n",
       "\n",
       "                .geemap-colab {\n",
       "                    background-color: var(--colab-primary-surface-color, white);\n",
       "                }\n",
       "\n",
       "                .geemap-colab .jupyter-button {\n",
       "                    --jp-layout-color3: var(--colab-primary-surface-color, white);\n",
       "                }\n",
       "            </style>\n",
       "            "
      ],
      "text/plain": [
       "<IPython.core.display.HTML object>"
      ]
     },
     "metadata": {},
     "output_type": "display_data"
    }
   ],
   "source": [
    "# 2 Open the 10-band GeoTIFF file\n",
    "import rasterio\n",
    "\n",
    "with rasterio.open('Pabbi_AgriVsNonAgri-V-1.tif') as src:\n",
    "    profile = src.profile.copy()\n",
    "    data = src.read()  # Read all bands into a 3D numpy array shape (bands, height, width)\n",
    "    assert data.shape[0] == len(feature_cols),f\"Expected {len(feature_cols)} bands, found {data.shape[0]} bands in the file.\""
   ]
  },
  {
   "cell_type": "code",
   "execution_count": 64,
   "id": "1e9e8bee",
   "metadata": {},
   "outputs": [
    {
     "data": {
      "text/html": [
       "\n",
       "            <style>\n",
       "                .geemap-dark {\n",
       "                    --jp-widgets-color: white;\n",
       "                    --jp-widgets-label-color: white;\n",
       "                    --jp-ui-font-color1: white;\n",
       "                    --jp-layout-color2: #454545;\n",
       "                    background-color: #383838;\n",
       "                }\n",
       "\n",
       "                .geemap-dark .jupyter-button {\n",
       "                    --jp-layout-color3: #383838;\n",
       "                }\n",
       "\n",
       "                .geemap-colab {\n",
       "                    background-color: var(--colab-primary-surface-color, white);\n",
       "                }\n",
       "\n",
       "                .geemap-colab .jupyter-button {\n",
       "                    --jp-layout-color3: var(--colab-primary-surface-color, white);\n",
       "                }\n",
       "            </style>\n",
       "            "
      ],
      "text/plain": [
       "<IPython.core.display.HTML object>"
      ]
     },
     "metadata": {},
     "output_type": "display_data"
    },
    {
     "data": {
      "text/plain": [
       "(570064, 10)"
      ]
     },
     "execution_count": 64,
     "metadata": {},
     "output_type": "execute_result"
    }
   ],
   "source": [
    "# 3 Prepare the feature array (pixels x features)\n",
    "bands , h, w = data.shape\n",
    "#transpose to (h,w,bands) then reshape to (h*w,bands)\n",
    "X = np.transpose(data, (1,2,0)).reshape(-1,bands)\n",
    "X.shape"
   ]
  },
  {
   "cell_type": "code",
   "execution_count": 65,
   "id": "1cba1d96",
   "metadata": {},
   "outputs": [
    {
     "data": {
      "text/html": [
       "\n",
       "            <style>\n",
       "                .geemap-dark {\n",
       "                    --jp-widgets-color: white;\n",
       "                    --jp-widgets-label-color: white;\n",
       "                    --jp-ui-font-color1: white;\n",
       "                    --jp-layout-color2: #454545;\n",
       "                    background-color: #383838;\n",
       "                }\n",
       "\n",
       "                .geemap-dark .jupyter-button {\n",
       "                    --jp-layout-color3: #383838;\n",
       "                }\n",
       "\n",
       "                .geemap-colab {\n",
       "                    background-color: var(--colab-primary-surface-color, white);\n",
       "                }\n",
       "\n",
       "                .geemap-colab .jupyter-button {\n",
       "                    --jp-layout-color3: var(--colab-primary-surface-color, white);\n",
       "                }\n",
       "            </style>\n",
       "            "
      ],
      "text/plain": [
       "<IPython.core.display.HTML object>"
      ]
     },
     "metadata": {},
     "output_type": "display_data"
    },
    {
     "name": "stdout",
     "output_type": "stream",
     "text": [
      "(570064,)\n"
     ]
    }
   ],
   "source": [
    "# 4 Predict every pixel\n",
    "y_flat = rf_model.predict(X)  # Predict the class labels for each pixel\n",
    "print(y_flat.shape)"
   ]
  },
  {
   "cell_type": "code",
   "execution_count": 66,
   "id": "4558f572",
   "metadata": {},
   "outputs": [
    {
     "data": {
      "text/html": [
       "\n",
       "            <style>\n",
       "                .geemap-dark {\n",
       "                    --jp-widgets-color: white;\n",
       "                    --jp-widgets-label-color: white;\n",
       "                    --jp-ui-font-color1: white;\n",
       "                    --jp-layout-color2: #454545;\n",
       "                    background-color: #383838;\n",
       "                }\n",
       "\n",
       "                .geemap-dark .jupyter-button {\n",
       "                    --jp-layout-color3: #383838;\n",
       "                }\n",
       "\n",
       "                .geemap-colab {\n",
       "                    background-color: var(--colab-primary-surface-color, white);\n",
       "                }\n",
       "\n",
       "                .geemap-colab .jupyter-button {\n",
       "                    --jp-layout-color3: var(--colab-primary-surface-color, white);\n",
       "                }\n",
       "            </style>\n",
       "            "
      ],
      "text/plain": [
       "<IPython.core.display.HTML object>"
      ]
     },
     "metadata": {},
     "output_type": "display_data"
    }
   ],
   "source": [
    "# 5 Reshape back to 2D\n",
    "classified = y_flat.reshape(h,w).astype(np.uint8)  # Reshape to (height, width) and convert to uint8  "
   ]
  },
  {
   "cell_type": "code",
   "execution_count": 67,
   "id": "96c04023",
   "metadata": {},
   "outputs": [
    {
     "data": {
      "text/html": [
       "\n",
       "            <style>\n",
       "                .geemap-dark {\n",
       "                    --jp-widgets-color: white;\n",
       "                    --jp-widgets-label-color: white;\n",
       "                    --jp-ui-font-color1: white;\n",
       "                    --jp-layout-color2: #454545;\n",
       "                    background-color: #383838;\n",
       "                }\n",
       "\n",
       "                .geemap-dark .jupyter-button {\n",
       "                    --jp-layout-color3: #383838;\n",
       "                }\n",
       "\n",
       "                .geemap-colab {\n",
       "                    background-color: var(--colab-primary-surface-color, white);\n",
       "                }\n",
       "\n",
       "                .geemap-colab .jupyter-button {\n",
       "                    --jp-layout-color3: var(--colab-primary-surface-color, white);\n",
       "                }\n",
       "            </style>\n",
       "            "
      ],
      "text/plain": [
       "<IPython.core.display.HTML object>"
      ]
     },
     "metadata": {},
     "output_type": "display_data"
    },
    {
     "name": "stdout",
     "output_type": "stream",
     "text": [
      "Exported classified image: Agri_NonAgri-V1.tif\n"
     ]
    }
   ],
   "source": [
    "#6 write out the classified raster\n",
    "out_profile = profile.copy()\n",
    "out_profile.update({\n",
    "    'dtype': 'uint8',\n",
    "    'count': 1,\n",
    "    'compress': 'lzw',\n",
    "    'nodata': 0\n",
    "})\n",
    "with rasterio.open('Agri_NonAgri-V1.tif', 'w', **out_profile) as dst:\n",
    "    dst.write(classified, 1)  # Write the classified data to the first band\n",
    "print(\"Exported classified image: Agri_NonAgri-V1.tif\")"
   ]
  },
  {
   "cell_type": "code",
   "execution_count": 68,
   "id": "f1b6e80e",
   "metadata": {},
   "outputs": [
    {
     "data": {
      "text/html": [
       "\n",
       "            <style>\n",
       "                .geemap-dark {\n",
       "                    --jp-widgets-color: white;\n",
       "                    --jp-widgets-label-color: white;\n",
       "                    --jp-ui-font-color1: white;\n",
       "                    --jp-layout-color2: #454545;\n",
       "                    background-color: #383838;\n",
       "                }\n",
       "\n",
       "                .geemap-dark .jupyter-button {\n",
       "                    --jp-layout-color3: #383838;\n",
       "                }\n",
       "\n",
       "                .geemap-colab {\n",
       "                    background-color: var(--colab-primary-surface-color, white);\n",
       "                }\n",
       "\n",
       "                .geemap-colab .jupyter-button {\n",
       "                    --jp-layout-color3: var(--colab-primary-surface-color, white);\n",
       "                }\n",
       "            </style>\n",
       "            "
      ],
      "text/plain": [
       "<IPython.core.display.HTML object>"
      ]
     },
     "metadata": {},
     "output_type": "display_data"
    },
    {
     "data": {
      "image/png": "[encoded data removed]",
      "text/plain": [
       "<Figure size 800x800 with 2 Axes>"
      ]
     },
     "metadata": {},
     "output_type": "display_data"
    }
   ],
   "source": [
    "import matplotlib.pyplot as plt\n",
    "\n",
    "vmin,vmax = 0,len(classes)-1\n",
    "\n",
    "# Map class codes back to names, if you saved them\n",
    "if classes is not None:\n",
    "    cmap = plt.get_cmap('tab10', len(classes))\n",
    "else:\n",
    "    cmap = 'viridis'\n",
    "\n",
    "with rasterio.open('classified_image-V3.tif') as src:\n",
    "    img = src.read(1)\n",
    "\n",
    "plt.figure(figsize=(8,8))\n",
    "im = plt.imshow(img, cmap='RdYlGn', vmin=vmin, vmax=vmax)\n",
    "plt.axis('off')\n",
    "cbar = plt.colorbar(im, ticks=np.arange(len(classes)),shrink=0.6)\n",
    "cbar.ax.set_yticklabels(classes)\n",
    "plt.title(\"Per-Pixel Land Cover Classification\")\n",
    "plt.show()\n"
   ]
  },
  {
   "cell_type": "markdown",
   "id": "50ca03cc",
   "metadata": {},
   "source": [
    "import rasterio\n",
    "\n",
    "with rasterio.open('Pabbi_AgriVsNonAgri-V-1.tif') as src:\n",
    "    profile = src.profile.copy()\n",
    "    feature_cube = src.read().astype(np.float32)\n",
    "print(profile)\n",
    "print(feature_cube.shape)\n",
    "bands,height,width = feature_cube.shape"
   ]
  },
  {
   "cell_type": "markdown",
   "id": "2c7882e7",
   "metadata": {},
   "source": [
    "# NOw lets Flatten the array and predict \n",
    "flattened_per_band = feature_cube.reshape(bands,height*width)\n",
    "X_pixels = flattened_per_band.T\n",
    "print(X_pixels.shape)\n",
    "\n",
    "\n"
   ]
  },
  {
   "cell_type": "code",
   "execution_count": 48,
   "id": "6287c287",
   "metadata": {},
   "outputs": [
    {
     "data": {
      "text/html": [
       "\n",
       "            <style>\n",
       "                .geemap-dark {\n",
       "                    --jp-widgets-color: white;\n",
       "                    --jp-widgets-label-color: white;\n",
       "                    --jp-ui-font-color1: white;\n",
       "                    --jp-layout-color2: #454545;\n",
       "                    background-color: #383838;\n",
       "                }\n",
       "\n",
       "                .geemap-dark .jupyter-button {\n",
       "                    --jp-layout-color3: #383838;\n",
       "                }\n",
       "\n",
       "                .geemap-colab {\n",
       "                    background-color: var(--colab-primary-surface-color, white);\n",
       "                }\n",
       "\n",
       "                .geemap-colab .jupyter-button {\n",
       "                    --jp-layout-color3: var(--colab-primary-surface-color, white);\n",
       "                }\n",
       "            </style>\n",
       "            "
      ],
      "text/plain": [
       "<IPython.core.display.HTML object>"
      ]
     },
     "metadata": {},
     "output_type": "display_data"
    },
    {
     "name": "stdout",
     "output_type": "stream",
     "text": [
      "(570064,)\n",
      "[0 1]\n"
     ]
    }
   ],
   "source": [
    "y_flat = rf_model.predict(X_pixels)  # Predict the class labels for each pixel\n",
    "classes  = rf.classes_\n",
    "\n",
    "print(y_flat.shape)\n",
    "\n",
    "print(classes)"
   ]
  },
  {
   "cell_type": "code",
   "execution_count": null,
   "id": "0751b142",
   "metadata": {},
   "outputs": [],
   "source": [
    "# 5 Reshape back to 2D\n",
    "classified = y_flat.reshape(h,w).astype(np.uint8)  # Reshape to (height, width) and convert to uint8  "
   ]
  },
  {
   "cell_type": "code",
   "execution_count": 35,
   "id": "740bf777",
   "metadata": {},
   "outputs": [
    {
     "data": {
      "text/html": [
       "\n",
       "            <style>\n",
       "                .geemap-dark {\n",
       "                    --jp-widgets-color: white;\n",
       "                    --jp-widgets-label-color: white;\n",
       "                    --jp-ui-font-color1: white;\n",
       "                    --jp-layout-color2: #454545;\n",
       "                    background-color: #383838;\n",
       "                }\n",
       "\n",
       "                .geemap-dark .jupyter-button {\n",
       "                    --jp-layout-color3: #383838;\n",
       "                }\n",
       "\n",
       "                .geemap-colab {\n",
       "                    background-color: var(--colab-primary-surface-color, white);\n",
       "                }\n",
       "\n",
       "                .geemap-colab .jupyter-button {\n",
       "                    --jp-layout-color3: var(--colab-primary-surface-color, white);\n",
       "                }\n",
       "            </style>\n",
       "            "
      ],
      "text/plain": [
       "<IPython.core.display.HTML object>"
      ]
     },
     "metadata": {},
     "output_type": "display_data"
    },
    {
     "name": "stdout",
     "output_type": "stream",
     "text": [
      "(656, 869)\n",
      "(2, 656, 869)\n"
     ]
    }
   ],
   "source": [
    "# Reshape back to raster form\n",
    "\n",
    "n_classes = probs.shape[1]\n",
    "\n",
    "# One probability per class\n",
    "probs_rasters = probs.T.reshape(n_classes, height, width)\n",
    "\n",
    "# One hard-classification band\n",
    "\n",
    "pred_raster = pred.reshape(height,width).astype(np.uint8)\n",
    "\n",
    "print(pred_raster.shape)\n",
    "print(probs_rasters.shape)\n"
   ]
  },
  {
   "cell_type": "code",
   "execution_count": 36,
   "id": "806baadd",
   "metadata": {},
   "outputs": [
    {
     "data": {
      "text/html": [
       "\n",
       "            <style>\n",
       "                .geemap-dark {\n",
       "                    --jp-widgets-color: white;\n",
       "                    --jp-widgets-label-color: white;\n",
       "                    --jp-ui-font-color1: white;\n",
       "                    --jp-layout-color2: #454545;\n",
       "                    background-color: #383838;\n",
       "                }\n",
       "\n",
       "                .geemap-dark .jupyter-button {\n",
       "                    --jp-layout-color3: #383838;\n",
       "                }\n",
       "\n",
       "                .geemap-colab {\n",
       "                    background-color: var(--colab-primary-surface-color, white);\n",
       "                }\n",
       "\n",
       "                .geemap-colab .jupyter-button {\n",
       "                    --jp-layout-color3: var(--colab-primary-surface-color, white);\n",
       "                }\n",
       "            </style>\n",
       "            "
      ],
      "text/plain": [
       "<IPython.core.display.HTML object>"
      ]
     },
     "metadata": {},
     "output_type": "display_data"
    },
    {
     "name": "stdout",
     "output_type": "stream",
     "text": [
      "Export complete: lc_prob_and_pred.tif\n"
     ]
    }
   ],
   "source": [
    "# Write the multband geotiff\n",
    "# 1) Clean up profile\n",
    "out_profile = profile.copy()\n",
    "out_profile.update({\n",
    "    'dtype':    'float32',\n",
    "    'count':    n_classes + 1,\n",
    "    'compress': 'lzw',\n",
    "})\n",
    "out_profile.pop('nodata', None)         # ensure no nodata masking\n",
    "\n",
    "# 2) Clean arrays\n",
    "import numpy as np\n",
    "prob_rasters = np.nan_to_num(probs_rasters, nan=0.0)\n",
    "pred_raster  = np.nan_to_num(pred_raster,  nan=0).astype(np.float32)\n",
    "\n",
    "# 3) Write to disk\n",
    "with rasterio.open('lc_prob_and_pred.tif', 'w', **out_profile) as dst:\n",
    "    # Prob bands\n",
    "    for i, cls in enumerate(classes, start=1):\n",
    "        dst.write(prob_rasters[i-1], i)\n",
    "        dst.set_band_description(i, f'Prob_{cls}')\n",
    "    # Hard‐class band\n",
    "    dst.write(pred_raster, n_classes + 1)\n",
    "    dst.set_band_description(n_classes + 1, 'Predicted_Class_ID')\n",
    "\n",
    "print(\"Export complete: lc_prob_and_pred.tif\")\n"
   ]
  },
  {
   "cell_type": "code",
   "execution_count": 37,
   "id": "20df5c07",
   "metadata": {},
   "outputs": [
    {
     "data": {
      "text/html": [
       "\n",
       "            <style>\n",
       "                .geemap-dark {\n",
       "                    --jp-widgets-color: white;\n",
       "                    --jp-widgets-label-color: white;\n",
       "                    --jp-ui-font-color1: white;\n",
       "                    --jp-layout-color2: #454545;\n",
       "                    background-color: #383838;\n",
       "                }\n",
       "\n",
       "                .geemap-dark .jupyter-button {\n",
       "                    --jp-layout-color3: #383838;\n",
       "                }\n",
       "\n",
       "                .geemap-colab {\n",
       "                    background-color: var(--colab-primary-surface-color, white);\n",
       "                }\n",
       "\n",
       "                .geemap-colab .jupyter-button {\n",
       "                    --jp-layout-color3: var(--colab-primary-surface-color, white);\n",
       "                }\n",
       "            </style>\n",
       "            "
      ],
      "text/plain": [
       "<IPython.core.display.HTML object>"
      ]
     },
     "metadata": {},
     "output_type": "display_data"
    },
    {
     "name": "stdout",
     "output_type": "stream",
     "text": [
      "Band 1 (Prob_0): min=0.385, max=0.385\n",
      "Band 2 (Prob_1): min=0.615, max=0.615\n",
      "Band 3 (Predicted_Class_ID): min=1.000, max=1.000\n"
     ]
    }
   ],
   "source": [
    "with rasterio.open('lc_prob_and_pred.tif') as src:\n",
    "    for i in range(1, src.count+1):\n",
    "        band = src.read(i)\n",
    "        print(f\"Band {i} ({src.descriptions[i-1]}): min={band.min():.3f}, max={band.max():.3f}\")\n"
   ]
  },
  {
   "cell_type": "code",
   "execution_count": 38,
   "id": "6d79a5ca",
   "metadata": {},
   "outputs": [
    {
     "data": {
      "text/html": [
       "\n",
       "            <style>\n",
       "                .geemap-dark {\n",
       "                    --jp-widgets-color: white;\n",
       "                    --jp-widgets-label-color: white;\n",
       "                    --jp-ui-font-color1: white;\n",
       "                    --jp-layout-color2: #454545;\n",
       "                    background-color: #383838;\n",
       "                }\n",
       "\n",
       "                .geemap-dark .jupyter-button {\n",
       "                    --jp-layout-color3: #383838;\n",
       "                }\n",
       "\n",
       "                .geemap-colab {\n",
       "                    background-color: var(--colab-primary-surface-color, white);\n",
       "                }\n",
       "\n",
       "                .geemap-colab .jupyter-button {\n",
       "                    --jp-layout-color3: var(--colab-primary-surface-color, white);\n",
       "                }\n",
       "            </style>\n",
       "            "
      ],
      "text/plain": [
       "<IPython.core.display.HTML object>"
      ]
     },
     "metadata": {},
     "output_type": "display_data"
    },
    {
     "data": {
      "image/png": "[encoded data removed]",
      "text/plain": [
       "<Figure size 800x800 with 2 Axes>"
      ]
     },
     "metadata": {},
     "output_type": "display_data"
    }
   ],
   "source": [
    "import matplotlib.pyplot as plt\n",
    "\n",
    "vmin,vmax = 0,len(classes)-1\n",
    "\n",
    "# Map class codes back to names, if you saved them\n",
    "if classes is not None:\n",
    "    cmap = plt.get_cmap('tab10', len(classes))\n",
    "else:\n",
    "    cmap = 'viridis'\n",
    "\n",
    "with rasterio.open('classified_image-V3.tif') as src:\n",
    "    img = src.read(1)\n",
    "\n",
    "plt.figure(figsize=(8,8))\n",
    "im = plt.imshow(img, cmap='RdYlGn', vmin=vmin, vmax=vmax)\n",
    "plt.axis('off')\n",
    "cbar = plt.colorbar(im, ticks=np.arange(len(classes)),shrink=0.6)\n",
    "cbar.ax.set_yticklabels(classes)\n",
    "plt.title(\"Per-Pixel Land Cover Classification\")\n",
    "plt.show()\n"
   ]
  }
 ],
 "metadata": {
  "kernelspec": {
   "display_name": "Python 3",
   "language": "python",
   "name": "python3"
  },
  "language_info": {
   "codemirror_mode": {
    "name": "ipython",
    "version": 3
   },
   "file_extension": ".py",
   "mimetype": "text/x-python",
   "name": "python",
   "nbconvert_exporter": "python",
   "pygments_lexer": "ipython3",
   "version": "3.10.17"
  }
 },
 "nbformat": 4,
 "nbformat_minor": 5
}
