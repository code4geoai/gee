{
 "cells": [
  {
   "cell_type": "markdown",
   "id": "f0e8448e",
   "metadata": {},
   "source": [
    "# Exercise 1: Visualizing DEM Data\n",
    "Find a DEM dataset in the Earth Engine Data Catalog and clip it to a specific area (e.g., your country, state, or city). Display it with an appropriate color palette. For example, the sample map below shows the DEM of the state of Colorado."
   ]
  },
  {
   "cell_type": "code",
   "execution_count": 1,
   "id": "fe6d2bb2",
   "metadata": {},
   "outputs": [],
   "source": [
    "import ee\n",
    "import geemap"
   ]
  },
  {
   "cell_type": "code",
   "execution_count": 2,
   "id": "96cdde51",
   "metadata": {},
   "outputs": [
    {
     "data": {
      "text/html": [
       "\n",
       "            <style>\n",
       "                .geemap-dark {\n",
       "                    --jp-widgets-color: white;\n",
       "                    --jp-widgets-label-color: white;\n",
       "                    --jp-ui-font-color1: white;\n",
       "                    --jp-layout-color2: #454545;\n",
       "                    background-color: #383838;\n",
       "                }\n",
       "\n",
       "                .geemap-dark .jupyter-button {\n",
       "                    --jp-layout-color3: #383838;\n",
       "                }\n",
       "\n",
       "                .geemap-colab {\n",
       "                    background-color: var(--colab-primary-surface-color, white);\n",
       "                }\n",
       "\n",
       "                .geemap-colab .jupyter-button {\n",
       "                    --jp-layout-color3: var(--colab-primary-surface-color, white);\n",
       "                }\n",
       "            </style>\n",
       "            "
      ],
      "text/plain": [
       "<IPython.core.display.HTML object>"
      ]
     },
     "metadata": {},
     "output_type": "display_data"
    },
    {
     "data": {
      "text/plain": [
       "<function ee.Authenticate(authorization_code: Optional[str] = None, quiet: Optional[bool] = None, code_verifier: Optional[str] = None, auth_mode: Optional[str] = None, scopes: Optional[Sequence[str]] = None, force: bool = False) -> Optional[bool]>"
      ]
     },
     "execution_count": 2,
     "metadata": {},
     "output_type": "execute_result"
    }
   ],
   "source": [
    "ee.Authenticate"
   ]
  },
  {
   "cell_type": "code",
   "execution_count": 3,
   "id": "9fc3a30b",
   "metadata": {},
   "outputs": [
    {
     "data": {
      "text/html": [
       "\n",
       "            <style>\n",
       "                .geemap-dark {\n",
       "                    --jp-widgets-color: white;\n",
       "                    --jp-widgets-label-color: white;\n",
       "                    --jp-ui-font-color1: white;\n",
       "                    --jp-layout-color2: #454545;\n",
       "                    background-color: #383838;\n",
       "                }\n",
       "\n",
       "                .geemap-dark .jupyter-button {\n",
       "                    --jp-layout-color3: #383838;\n",
       "                }\n",
       "\n",
       "                .geemap-colab {\n",
       "                    background-color: var(--colab-primary-surface-color, white);\n",
       "                }\n",
       "\n",
       "                .geemap-colab .jupyter-button {\n",
       "                    --jp-layout-color3: var(--colab-primary-surface-color, white);\n",
       "                }\n",
       "            </style>\n",
       "            "
      ],
      "text/plain": [
       "<IPython.core.display.HTML object>"
      ]
     },
     "metadata": {},
     "output_type": "display_data"
    }
   ],
   "source": [
    "geemap.ee_initialize()"
   ]
  },
  {
   "cell_type": "code",
   "execution_count": 4,
   "id": "01c91302",
   "metadata": {},
   "outputs": [
    {
     "data": {
      "text/html": [
       "\n",
       "            <style>\n",
       "                .geemap-dark {\n",
       "                    --jp-widgets-color: white;\n",
       "                    --jp-widgets-label-color: white;\n",
       "                    --jp-ui-font-color1: white;\n",
       "                    --jp-layout-color2: #454545;\n",
       "                    background-color: #383838;\n",
       "                }\n",
       "\n",
       "                .geemap-dark .jupyter-button {\n",
       "                    --jp-layout-color3: #383838;\n",
       "                }\n",
       "\n",
       "                .geemap-colab {\n",
       "                    background-color: var(--colab-primary-surface-color, white);\n",
       "                }\n",
       "\n",
       "                .geemap-colab .jupyter-button {\n",
       "                    --jp-layout-color3: var(--colab-primary-surface-color, white);\n",
       "                }\n",
       "            </style>\n",
       "            "
      ],
      "text/plain": [
       "<IPython.core.display.HTML object>"
      ]
     },
     "metadata": {},
     "output_type": "display_data"
    },
    {
     "data": {
      "application/vnd.jupyter.widget-view+json": {
       "model_id": "6628d31994344f70b01e57484bf18415",
       "version_major": 2,
       "version_minor": 0
      },
      "text/plain": [
       "Map(center=[29.353755316316565, 68.69347442477485], controls=(WidgetControl(options=['position', 'transparent_…"
      ]
     },
     "execution_count": 4,
     "metadata": {},
     "output_type": "execute_result"
    }
   ],
   "source": [
    "m = geemap.Map()\n",
    "countries = ee.FeatureCollection('FAO/GAUL_SIMPLIFIED_500m/2015/level0')\n",
    "# visualize the countries and filer for Pakistan\n",
    "pak = countries.filter(ee.Filter.eq('ADM0_NAME', 'Pakistan'))\n",
    "# Access the DEM data from USGS\n",
    "dem = ee.Image('USGS/SRTMGL1_003')\n",
    "# Clip the DEM to the countries  \n",
    "dem = dem.clip(pak.geometry())\n",
    "# visualize the DEM\n",
    "vis_parms = {\n",
    "    'min': 0,\n",
    "    'max': 3000,\n",
    "    'palette': 'terrain'   \n",
    "}\n",
    "\n",
    "m.add_layer(pak, {}, 'countries')\n",
    "m.add_layer(dem, vis_parms, 'DEM')\n",
    "m.center_object(pak, 5)\n",
    "m"
   ]
  },
  {
   "cell_type": "markdown",
   "id": "b699829b",
   "metadata": {},
   "source": [
    "# Exercise 2: Cloud-Free Composite with Sentinel-2 or Landsat\n",
    "Use Sentinel-2 or Landsat-9 data to create a cloud-free composite for a specific year in a region of your choice.\n",
    "\n",
    "Use Sentinel-2 or Landsat-9 data data to create a cloud-free composite for a specific year in a region of your choice. Display the imagery on the map with a proper band combination. For example, the sample map below shows a cloud-free false-color composite of Sentinel-2 imagery of the year 2021 for the state of Colorado."
   ]
  },
  {
   "cell_type": "code",
   "execution_count": 5,
   "id": "d0ccb0e4",
   "metadata": {},
   "outputs": [
    {
     "data": {
      "text/html": [
       "\n",
       "            <style>\n",
       "                .geemap-dark {\n",
       "                    --jp-widgets-color: white;\n",
       "                    --jp-widgets-label-color: white;\n",
       "                    --jp-ui-font-color1: white;\n",
       "                    --jp-layout-color2: #454545;\n",
       "                    background-color: #383838;\n",
       "                }\n",
       "\n",
       "                .geemap-dark .jupyter-button {\n",
       "                    --jp-layout-color3: #383838;\n",
       "                }\n",
       "\n",
       "                .geemap-colab {\n",
       "                    background-color: var(--colab-primary-surface-color, white);\n",
       "                }\n",
       "\n",
       "                .geemap-colab .jupyter-button {\n",
       "                    --jp-layout-color3: var(--colab-primary-surface-color, white);\n",
       "                }\n",
       "            </style>\n",
       "            "
      ],
      "text/plain": [
       "<IPython.core.display.HTML object>"
      ]
     },
     "metadata": {},
     "output_type": "display_data"
    },
    {
     "data": {
      "application/vnd.jupyter.widget-view+json": {
       "model_id": "42fb55ef90bc4ada9c83716fdcaa0f6b",
       "version_major": 2,
       "version_minor": 0
      },
      "text/plain": [
       "Map(center=[0, 0], controls=(WidgetControl(options=['position', 'transparent_bg'], widget=SearchDataGUI(childr…"
      ]
     },
     "execution_count": 5,
     "metadata": {},
     "output_type": "execute_result"
    }
   ],
   "source": [
    "m = geemap.Map()\n",
    "collection = ee.ImageCollection(\"COPERNICUS/S2_SR_HARMONIZED\")\n",
    "countries = ee.FeatureCollection('FAO/GAUL_SIMPLIFIED_500m/2015/level0')\n",
    "\n",
    "pak = countries.filter(ee.Filter.eq('ADM0_NAME', 'Pakistan'))\n",
    "# Filter the collection for a specific region and time period\n",
    "start_date = '2022-01-01'\n",
    "end_date = '2022-12-31'\n",
    "\n",
    "# Filter the collection by date and region\n",
    "filtered_collection = collection.filterDate(start_date, end_date).filterBounds(pak).filter(ee.Filter.lt('CLOUDY_PIXEL_PERCENTAGE', 20))\n",
    "# Select the first image from the filtered collection\n",
    "first_image = filtered_collection.mean().clip(pak)\n",
    "# Define visualization parameters   \n",
    "vis_params = {\n",
    "    'bands': ['B4', 'B3', 'B2'],  # RGB bands\n",
    "    'min': 0,\n",
    "    'max': 3000,\n",
    "}\n",
    "# Add the image to the map\n",
    "m.addLayer(first_image, vis_params, 'Clipped Image')\n",
    "# Add the Pakistan geometry to the map\n",
    "m.addLayer(pak, {}, 'Pakistan')  \n",
    "# Center the map on Pakistan\n",
    "#m.center_object(pakistan, 5)\n",
    "m"
   ]
  },
  {
   "cell_type": "markdown",
   "id": "aff1fbb6",
   "metadata": {},
   "source": [
    "# Exercise 3: Visualizing NAIP Imagery\n",
    "Use NAIP imagery to create a cloud-free imagery for a U.S. county of your choice. For example, the sample map below shows a cloud-free true-color composite of NAIP imagery for Knox County, Tennessee. Keep in mind that there might be some counties with the same name in different states, so make sure to select the correct county for the selected state."
   ]
  },
  {
   "cell_type": "code",
   "execution_count": 62,
   "id": "5e2cceb4",
   "metadata": {},
   "outputs": [
    {
     "data": {
      "text/html": [
       "\n",
       "            <style>\n",
       "                .geemap-dark {\n",
       "                    --jp-widgets-color: white;\n",
       "                    --jp-widgets-label-color: white;\n",
       "                    --jp-ui-font-color1: white;\n",
       "                    --jp-layout-color2: #454545;\n",
       "                    background-color: #383838;\n",
       "                }\n",
       "\n",
       "                .geemap-dark .jupyter-button {\n",
       "                    --jp-layout-color3: #383838;\n",
       "                }\n",
       "\n",
       "                .geemap-colab {\n",
       "                    background-color: var(--colab-primary-surface-color, white);\n",
       "                }\n",
       "\n",
       "                .geemap-colab .jupyter-button {\n",
       "                    --jp-layout-color3: var(--colab-primary-surface-color, white);\n",
       "                }\n",
       "            </style>\n",
       "            "
      ],
      "text/plain": [
       "<IPython.core.display.HTML object>"
      ]
     },
     "metadata": {},
     "output_type": "display_data"
    },
    {
     "data": {
      "application/vnd.jupyter.widget-view+json": {
       "model_id": "26072b6684e640259b04f975a6a3e419",
       "version_major": 2,
       "version_minor": 0
      },
      "text/plain": [
       "Map(center=[33.78154196015792, -83.73383594069], controls=(WidgetControl(options=['position', 'transparent_bg'…"
      ]
     },
     "execution_count": 62,
     "metadata": {},
     "output_type": "execute_result"
    }
   ],
   "source": [
    "m = geemap.Map()\n",
    "# Load the US county boundaries\n",
    "counties = ee.FeatureCollection('TIGER/2018/Counties')  \n",
    "# Filter the counties to a specific county (e.g., walton county, Georgia)\n",
    "walton_county = counties.filter(ee.Filter.eq('NAME', 'Walton')).filter(ee.Filter.eq('STATEFP', '13'))\n",
    "\n",
    "\n",
    "# Loading the NAIP dataset\n",
    "collection = ee.ImageCollection('USDA/NAIP/DOQQ').filterBounds(walton_county).filterDate('2021-01-01', '2024-12-31')\n",
    "\n",
    "clipped_image = collection.mean().clip(walton_county)\n",
    "# Define visualization parameters for NAIP  \n",
    "vis_params = {\n",
    "    'bands': ['R', 'G','B'],\n",
    "    'min': 0,\n",
    "    'max': 255,\n",
    "}\n",
    "style = {\"color\": \"ff0000ff\", \"width\": 2, \"lineType\": \"solid\", \"fillColor\": \"00000000\"}\n",
    "\n",
    "# Add the clipped image to the map\n",
    "m.add_layer(clipped_image,vis_params, 'NAIP Walton Georgia')\n",
    "m.add_layer(walton_county.style(**style), {}, 'Walton County, Georgia')\n",
    "m.center_object(walton_county, 11)\n",
    "m\n"
   ]
  },
  {
   "cell_type": "markdown",
   "id": "33935046",
   "metadata": {},
   "source": [
    "# Exercise 4: Visualizing Watershed Boundaries\n",
    "Visualize the USGS Watershed Boundary Dataset with outline color only, no fill color."
   ]
  },
  {
   "cell_type": "code",
   "execution_count": 74,
   "id": "dc6c377b",
   "metadata": {},
   "outputs": [
    {
     "data": {
      "text/html": [
       "\n",
       "            <style>\n",
       "                .geemap-dark {\n",
       "                    --jp-widgets-color: white;\n",
       "                    --jp-widgets-label-color: white;\n",
       "                    --jp-ui-font-color1: white;\n",
       "                    --jp-layout-color2: #454545;\n",
       "                    background-color: #383838;\n",
       "                }\n",
       "\n",
       "                .geemap-dark .jupyter-button {\n",
       "                    --jp-layout-color3: #383838;\n",
       "                }\n",
       "\n",
       "                .geemap-colab {\n",
       "                    background-color: var(--colab-primary-surface-color, white);\n",
       "                }\n",
       "\n",
       "                .geemap-colab .jupyter-button {\n",
       "                    --jp-layout-color3: var(--colab-primary-surface-color, white);\n",
       "                }\n",
       "            </style>\n",
       "            "
      ],
      "text/plain": [
       "<IPython.core.display.HTML object>"
      ]
     },
     "metadata": {},
     "output_type": "display_data"
    },
    {
     "data": {
      "application/vnd.jupyter.widget-view+json": {
       "model_id": "2119a31d0de640e9abe642c8c32f374f",
       "version_major": 2,
       "version_minor": 0
      },
      "text/plain": [
       "Map(center=[46.82734212613181, -68.58604139603923], controls=(WidgetControl(options=['position', 'transparent_…"
      ]
     },
     "execution_count": 74,
     "metadata": {},
     "output_type": "execute_result"
    }
   ],
   "source": [
    "m = geemap.Map()\n",
    "collection = ee.FeatureCollection('USGS/WBD/2017/HUC04')\n",
    "\n",
    "style= {\n",
    "    'color': '0000ffff',\n",
    "    'width': 2,\n",
    "    'lineType': 'solid',\n",
    "    'fillColor': '00000000'\n",
    "}\n",
    "m.add_layer(collection.style(**style), {}, 'HUC4')\n",
    "m.center_object(collection.first(),4)\n",
    "m"
   ]
  },
  {
   "cell_type": "markdown",
   "id": "7717eabd",
   "metadata": {},
   "source": [
    "# Exercise 5: Visualizing Land Cover Change\n",
    "Use the USGS National Land Cover Database and US Census States to create a split-panel map for visualizing land cover change (2001-2019) for a US state of your choice. Make sure you add the NLCD legend to the map.\n",
    "\n"
   ]
  },
  {
   "cell_type": "code",
   "execution_count": null,
   "id": "1625100d",
   "metadata": {},
   "outputs": [
    {
     "data": {
      "text/html": [
       "\n",
       "            <style>\n",
       "                .geemap-dark {\n",
       "                    --jp-widgets-color: white;\n",
       "                    --jp-widgets-label-color: white;\n",
       "                    --jp-ui-font-color1: white;\n",
       "                    --jp-layout-color2: #454545;\n",
       "                    background-color: #383838;\n",
       "                }\n",
       "\n",
       "                .geemap-dark .jupyter-button {\n",
       "                    --jp-layout-color3: #383838;\n",
       "                }\n",
       "\n",
       "                .geemap-colab {\n",
       "                    background-color: var(--colab-primary-surface-color, white);\n",
       "                }\n",
       "\n",
       "                .geemap-colab .jupyter-button {\n",
       "                    --jp-layout-color3: var(--colab-primary-surface-color, white);\n",
       "                }\n",
       "            </style>\n",
       "            "
      ],
      "text/plain": [
       "<IPython.core.display.HTML object>"
      ]
     },
     "metadata": {},
     "output_type": "display_data"
    },
    {
     "data": {
      "application/vnd.jupyter.widget-view+json": {
       "model_id": "1dc81f2dfa904e1cba5c7a47ee20f89a",
       "version_major": 2,
       "version_minor": 0
      },
      "text/plain": [
       "Map(center=[40, -100], controls=(ZoomControl(options=['position', 'zoom_in_text', 'zoom_in_title', 'zoom_out_t…"
      ]
     },
     "execution_count": 77,
     "metadata": {},
     "output_type": "execute_result"
    }
   ],
   "source": [
    "m = geemap.Map(center=(40, -100), zoom=4, height=600)\n",
    "# load the usGS National Cover Database\n",
    "collection = ee.Image('USGS/NLCD/NLCD2016').select('landcover')\n",
    "# Load the us Census State boundaries\n",
    "states = ee.FeatureCollection('TIGER/2018/States')\n",
    "\n",
    "left_layer = geemap.ee_tile_layer(collection, {}, 'NLCD 2016')\n",
    "\n",
    "\n",
    "right_layer = geemap.ee_tile_layer(states, {}, 'States')\n",
    "\n",
    "m.split_map(left_layer, right_layer, 0.5)\n",
    "# Adding NLCD legend to the map\n",
    "m.add_legend(builtin_legend='NLCD')\n",
    "m"
   ]
  },
  {
   "cell_type": "markdown",
   "id": "89eaf391",
   "metadata": {},
   "source": [
    "# Exercise 6: Creating a Landsat Timelapse Animation\n",
    "Generate a timelapse animation using Landsat data to show changes over time for a selected region.\n"
   ]
  },
  {
   "cell_type": "code",
   "execution_count": 1,
   "id": "54bb64a1",
   "metadata": {},
   "outputs": [
    {
     "ename": "NameError",
     "evalue": "name 'geemap' is not defined",
     "output_type": "error",
     "traceback": [
      "\u001b[1;31m---------------------------------------------------------------------------\u001b[0m",
      "\u001b[1;31mNameError\u001b[0m                                 Traceback (most recent call last)",
      "Cell \u001b[1;32mIn[1], line 1\u001b[0m\n\u001b[1;32m----> 1\u001b[0m m \u001b[38;5;241m=\u001b[39m \u001b[43mgeemap\u001b[49m\u001b[38;5;241m.\u001b[39mMap(center\u001b[38;5;241m=\u001b[39m(\u001b[38;5;241m40\u001b[39m, \u001b[38;5;241m-\u001b[39m\u001b[38;5;241m100\u001b[39m), zoom\u001b[38;5;241m=\u001b[39m\u001b[38;5;241m4\u001b[39m, height\u001b[38;5;241m=\u001b[39m\u001b[38;5;241m600\u001b[39m)\n\u001b[0;32m      2\u001b[0m roi \u001b[38;5;241m=\u001b[39m ee\u001b[38;5;241m.\u001b[39mGeometry\u001b[38;5;241m.\u001b[39mBBox(\u001b[38;5;241m-\u001b[39m\u001b[38;5;241m115.5541\u001b[39m,\u001b[38;5;241m35.8044\u001b[39m, \u001b[38;5;241m-\u001b[39m\u001b[38;5;241m113.9035\u001b[39m, \u001b[38;5;241m36.5581\u001b[39m)\n\u001b[0;32m      3\u001b[0m m\u001b[38;5;241m.\u001b[39madd_layer(roi, {},\u001b[38;5;124m'\u001b[39m\u001b[38;5;124mLas Vegas\u001b[39m\u001b[38;5;124m'\u001b[39m)\n",
      "\u001b[1;31mNameError\u001b[0m: name 'geemap' is not defined"
     ]
    }
   ],
   "source": [
    "m = geemap.Map(center=(40, -100), zoom=4, height=600)\n",
    "roi = ee.Geometry.BBox(-115.5541,35.8044, -113.9035, 36.5581)\n",
    "m.add_layer(roi, {},'Las Vegas')\n",
    "m.center_object(roi, 6)\n",
    "m"
   ]
  },
  {
   "cell_type": "code",
   "execution_count": 84,
   "id": "49163ea0",
   "metadata": {},
   "outputs": [
    {
     "data": {
      "text/html": [
       "\n",
       "            <style>\n",
       "                .geemap-dark {\n",
       "                    --jp-widgets-color: white;\n",
       "                    --jp-widgets-label-color: white;\n",
       "                    --jp-ui-font-color1: white;\n",
       "                    --jp-layout-color2: #454545;\n",
       "                    background-color: #383838;\n",
       "                }\n",
       "\n",
       "                .geemap-dark .jupyter-button {\n",
       "                    --jp-layout-color3: #383838;\n",
       "                }\n",
       "\n",
       "                .geemap-colab {\n",
       "                    background-color: var(--colab-primary-surface-color, white);\n",
       "                }\n",
       "\n",
       "                .geemap-colab .jupyter-button {\n",
       "                    --jp-layout-color3: var(--colab-primary-surface-color, white);\n",
       "                }\n",
       "            </style>\n",
       "            "
      ],
      "text/plain": [
       "<IPython.core.display.HTML object>"
      ]
     },
     "metadata": {},
     "output_type": "display_data"
    },
    {
     "name": "stdout",
     "output_type": "stream",
     "text": [
      "Generating URL...\n",
      "Downloading GIF image from https://earthengine.googleapis.com/v1/projects/532839098761/videoThumbnails/79a069b6e29e232eeab819615520f5b8-aac68b80cc9f2de0e9db0b8a0a358f6b:getPixels\n",
      "Please wait ...\n",
      "The GIF image has been saved to: d:\\Trainings\\gee\\las_vegas.gif\n"
     ]
    },
    {
     "ename": "Exception",
     "evalue": "No module named 'ffmpeg'",
     "output_type": "error",
     "traceback": [
      "\u001b[1;31m---------------------------------------------------------------------------\u001b[0m",
      "\u001b[1;31mModuleNotFoundError\u001b[0m                       Traceback (most recent call last)",
      "File \u001b[1;32md:\\Trainings\\geenv\\lib\\site-packages\\geemap\\timelapse.py:2904\u001b[0m, in \u001b[0;36mlandsat_timelapse\u001b[1;34m(roi, out_gif, start_year, end_year, start_date, end_date, bands, vis_params, dimensions, frames_per_second, crs, apply_fmask, nd_bands, nd_threshold, nd_palette, overlay_data, overlay_color, overlay_width, overlay_opacity, frequency, date_format, title, title_xy, add_text, text_xy, text_sequence, font_type, font_size, font_color, add_progress_bar, progress_bar_color, progress_bar_height, loop, mp4, fading, step)\u001b[0m\n\u001b[0;32m   2903\u001b[0m \u001b[38;5;28;01mif\u001b[39;00m os\u001b[38;5;241m.\u001b[39mpath\u001b[38;5;241m.\u001b[39mexists(out_gif):\n\u001b[1;32m-> 2904\u001b[0m     \u001b[43mreduce_gif_size\u001b[49m\u001b[43m(\u001b[49m\u001b[43mout_gif\u001b[49m\u001b[43m)\u001b[49m\n\u001b[0;32m   2906\u001b[0m \u001b[38;5;28;01mif\u001b[39;00m \u001b[38;5;28misinstance\u001b[39m(fading, \u001b[38;5;28mbool\u001b[39m):\n",
      "File \u001b[1;32md:\\Trainings\\geenv\\lib\\site-packages\\geemap\\timelapse.py:691\u001b[0m, in \u001b[0;36mreduce_gif_size\u001b[1;34m(in_gif, out_gif)\u001b[0m\n\u001b[0;32m    685\u001b[0m \u001b[38;5;250m\u001b[39m\u001b[38;5;124;03m\"\"\"Reduces a GIF image using ffmpeg.\u001b[39;00m\n\u001b[0;32m    686\u001b[0m \n\u001b[0;32m    687\u001b[0m \u001b[38;5;124;03mArgs:\u001b[39;00m\n\u001b[0;32m    688\u001b[0m \u001b[38;5;124;03m    in_gif (str): The input file path to the GIF image.\u001b[39;00m\n\u001b[0;32m    689\u001b[0m \u001b[38;5;124;03m    out_gif (str, optional): The output file path to the GIF image. Defaults to None.\u001b[39;00m\n\u001b[0;32m    690\u001b[0m \u001b[38;5;124;03m\"\"\"\u001b[39;00m\n\u001b[1;32m--> 691\u001b[0m \u001b[38;5;28;01mimport\u001b[39;00m\u001b[38;5;250m \u001b[39m\u001b[38;5;21;01mffmpeg\u001b[39;00m\n\u001b[0;32m    692\u001b[0m \u001b[38;5;28;01mimport\u001b[39;00m\u001b[38;5;250m \u001b[39m\u001b[38;5;21;01mwarnings\u001b[39;00m\n",
      "\u001b[1;31mModuleNotFoundError\u001b[0m: No module named 'ffmpeg'",
      "\nDuring handling of the above exception, another exception occurred:\n",
      "\u001b[1;31mException\u001b[0m                                 Traceback (most recent call last)",
      "Cell \u001b[1;32mIn[84], line 1\u001b[0m\n\u001b[1;32m----> 1\u001b[0m timelapse \u001b[38;5;241m=\u001b[39m \u001b[43mgeemap\u001b[49m\u001b[38;5;241;43m.\u001b[39;49m\u001b[43mlandsat_timelapse\u001b[49m\u001b[43m(\u001b[49m\n\u001b[0;32m      2\u001b[0m \u001b[43m    \u001b[49m\u001b[43mroi\u001b[49m\u001b[43m,\u001b[49m\n\u001b[0;32m      3\u001b[0m \u001b[43m    \u001b[49m\u001b[43mout_gif\u001b[49m\u001b[38;5;241;43m=\u001b[39;49m\u001b[38;5;124;43m'\u001b[39;49m\u001b[38;5;124;43mlas_vegas.gif\u001b[39;49m\u001b[38;5;124;43m'\u001b[39;49m\u001b[43m,\u001b[49m\n\u001b[0;32m      4\u001b[0m \u001b[43m    \u001b[49m\u001b[43mstart_year\u001b[49m\u001b[38;5;241;43m=\u001b[39;49m\u001b[38;5;241;43m1984\u001b[39;49m\u001b[43m,\u001b[49m\n\u001b[0;32m      5\u001b[0m \u001b[43m    \u001b[49m\u001b[43mend_year\u001b[49m\u001b[38;5;241;43m=\u001b[39;49m\u001b[38;5;241;43m2023\u001b[39;49m\u001b[43m,\u001b[49m\n\u001b[0;32m      6\u001b[0m \u001b[43m    \u001b[49m\u001b[43mbands\u001b[49m\u001b[38;5;241;43m=\u001b[39;49m\u001b[43m[\u001b[49m\u001b[38;5;124;43m'\u001b[39;49m\u001b[38;5;124;43mNIR\u001b[39;49m\u001b[38;5;124;43m'\u001b[39;49m\u001b[43m,\u001b[49m\u001b[43m \u001b[49m\u001b[38;5;124;43m'\u001b[39;49m\u001b[38;5;124;43mRed\u001b[39;49m\u001b[38;5;124;43m'\u001b[39;49m\u001b[43m,\u001b[49m\u001b[43m \u001b[49m\u001b[38;5;124;43m'\u001b[39;49m\u001b[38;5;124;43mGreen\u001b[39;49m\u001b[38;5;124;43m'\u001b[39;49m\u001b[43m]\u001b[49m\u001b[43m,\u001b[49m\n\u001b[0;32m      7\u001b[0m \u001b[43m    \u001b[49m\u001b[43mframes_per_second\u001b[49m\u001b[38;5;241;43m=\u001b[39;49m\u001b[38;5;241;43m5\u001b[39;49m\u001b[43m,\u001b[49m\n\u001b[0;32m      8\u001b[0m \u001b[43m    \u001b[49m\u001b[43mtitle\u001b[49m\u001b[43m \u001b[49m\u001b[38;5;241;43m=\u001b[39;49m\u001b[43m \u001b[49m\u001b[38;5;124;43m'\u001b[39;49m\u001b[38;5;124;43mLas Vegas, NV\u001b[39;49m\u001b[38;5;124;43m'\u001b[39;49m\u001b[43m,\u001b[49m\n\u001b[0;32m      9\u001b[0m \u001b[43m    \u001b[49m\u001b[43mfont_color\u001b[49m\u001b[38;5;241;43m=\u001b[39;49m\u001b[38;5;124;43m'\u001b[39;49m\u001b[38;5;124;43mblue\u001b[39;49m\u001b[38;5;124;43m'\u001b[39;49m\u001b[43m,\u001b[49m\n\u001b[0;32m     10\u001b[0m \u001b[43m)\u001b[49m\n\u001b[0;32m     11\u001b[0m geemap\u001b[38;5;241m.\u001b[39mshow_image(timelapse)\n",
      "File \u001b[1;32md:\\Trainings\\geenv\\lib\\site-packages\\geemap\\timelapse.py:2918\u001b[0m, in \u001b[0;36mlandsat_timelapse\u001b[1;34m(roi, out_gif, start_year, end_year, start_date, end_date, bands, vis_params, dimensions, frames_per_second, crs, apply_fmask, nd_bands, nd_threshold, nd_palette, overlay_data, overlay_color, overlay_width, overlay_opacity, frequency, date_format, title, title_xy, add_text, text_xy, text_sequence, font_type, font_size, font_color, add_progress_bar, progress_bar_color, progress_bar_height, loop, mp4, fading, step)\u001b[0m\n\u001b[0;32m   2915\u001b[0m     \u001b[38;5;28;01mreturn\u001b[39;00m out_gif\n\u001b[0;32m   2917\u001b[0m \u001b[38;5;28;01mexcept\u001b[39;00m \u001b[38;5;167;01mException\u001b[39;00m \u001b[38;5;28;01mas\u001b[39;00m e:\n\u001b[1;32m-> 2918\u001b[0m     \u001b[38;5;28;01mraise\u001b[39;00m \u001b[38;5;167;01mException\u001b[39;00m(e)\n",
      "\u001b[1;31mException\u001b[0m: No module named 'ffmpeg'"
     ]
    }
   ],
   "source": [
    "timelapse = geemap.landsat_timelapse(\n",
    "    roi,\n",
    "    out_gif='las_vegas.gif',\n",
    "    start_year=1984,\n",
    "    end_year=2023,\n",
    "    bands=['NIR', 'Red', 'Green'],\n",
    "    frames_per_second=5,\n",
    "    title = 'Las Vegas, NV',\n",
    "    font_color='blue',\n",
    ")\n",
    "geemap.show_image(timelapse)"
   ]
  },
  {
   "cell_type": "code",
   "execution_count": null,
   "id": "4407a1d5",
   "metadata": {},
   "outputs": [
    {
     "data": {
      "text/html": [
       "\n",
       "            <style>\n",
       "                .geemap-dark {\n",
       "                    --jp-widgets-color: white;\n",
       "                    --jp-widgets-label-color: white;\n",
       "                    --jp-ui-font-color1: white;\n",
       "                    --jp-layout-color2: #454545;\n",
       "                    background-color: #383838;\n",
       "                }\n",
       "\n",
       "                .geemap-dark .jupyter-button {\n",
       "                    --jp-layout-color3: #383838;\n",
       "                }\n",
       "\n",
       "                .geemap-colab {\n",
       "                    background-color: var(--colab-primary-surface-color, white);\n",
       "                }\n",
       "\n",
       "                .geemap-colab .jupyter-button {\n",
       "                    --jp-layout-color3: var(--colab-primary-surface-color, white);\n",
       "                }\n",
       "            </style>\n",
       "            "
      ],
      "text/plain": [
       "<IPython.core.display.HTML object>"
      ]
     },
     "metadata": {},
     "output_type": "display_data"
    },
    {
     "data": {
      "application/vnd.jupyter.widget-view+json": {
       "model_id": "15ac0bd8dd174269a96c2b7d789a5003",
       "version_major": 2,
       "version_minor": 0
      },
      "text/plain": [
       "Map(center=[34.01000720791501, 71.50000000000091], controls=(WidgetControl(options=['position', 'transparent_b…"
      ]
     },
     "execution_count": 89,
     "metadata": {},
     "output_type": "execute_result"
    }
   ],
   "source": [
    "m = geemap.Map()\n",
    "roi = ee.Geometry.BBox(71.40,33.97,71.60, 34.05)\n",
    "m.add_layer(roi, {},'Peshawar')\n",
    "m.center_object(roi, 10)\n",
    "m"
   ]
  },
  {
   "cell_type": "code",
   "execution_count": 92,
   "id": "538f8f98",
   "metadata": {},
   "outputs": [
    {
     "data": {
      "text/html": [
       "\n",
       "            <style>\n",
       "                .geemap-dark {\n",
       "                    --jp-widgets-color: white;\n",
       "                    --jp-widgets-label-color: white;\n",
       "                    --jp-ui-font-color1: white;\n",
       "                    --jp-layout-color2: #454545;\n",
       "                    background-color: #383838;\n",
       "                }\n",
       "\n",
       "                .geemap-dark .jupyter-button {\n",
       "                    --jp-layout-color3: #383838;\n",
       "                }\n",
       "\n",
       "                .geemap-colab {\n",
       "                    background-color: var(--colab-primary-surface-color, white);\n",
       "                }\n",
       "\n",
       "                .geemap-colab .jupyter-button {\n",
       "                    --jp-layout-color3: var(--colab-primary-surface-color, white);\n",
       "                }\n",
       "            </style>\n",
       "            "
      ],
      "text/plain": [
       "<IPython.core.display.HTML object>"
      ]
     },
     "metadata": {},
     "output_type": "display_data"
    },
    {
     "name": "stdout",
     "output_type": "stream",
     "text": [
      "Generating URL...\n",
      "Downloading GIF image from https://earthengine.googleapis.com/v1/projects/532839098761/videoThumbnails/3194f9b355b694a588954e427a918716-76072b1f7998341f98ede47506595e91:getPixels\n",
      "Please wait ...\n",
      "The GIF image has been saved to: d:\\Trainings\\gee\\Peshawar.gif\n",
      "ffmpeg is not installed on your computer.\n"
     ]
    },
    {
     "data": {
      "application/vnd.jupyter.widget-view+json": {
       "model_id": "f603418ca2494fdd86b1e74b506eb54f",
       "version_major": 2,
       "version_minor": 0
      },
      "text/plain": [
       "Output()"
      ]
     },
     "metadata": {},
     "output_type": "display_data"
    }
   ],
   "source": [
    "timelapse = geemap.landsat_timelapse(\n",
    "    roi,\n",
    "    out_gif='Peshawar.gif',\n",
    "    start_year=1984,\n",
    "    end_year=2023,\n",
    "    bands=['NIR', 'Red', 'Green'],\n",
    "    frames_per_second=2,\n",
    "    title = 'Peshawar, NV',\n",
    "    font_color='blue',\n",
    ")\n",
    "geemap.show_image(timelapse)\n"
   ]
  }
 ],
 "metadata": {
  "kernelspec": {
   "display_name": "Python 3",
   "language": "python",
   "name": "python3"
  },
  "language_info": {
   "codemirror_mode": {
    "name": "ipython",
    "version": 3
   },
   "file_extension": ".py",
   "mimetype": "text/x-python",
   "name": "python",
   "nbconvert_exporter": "python",
   "pygments_lexer": "ipython3",
   "version": "3.10.16"
  }
 },
 "nbformat": 4,
 "nbformat_minor": 5
}
