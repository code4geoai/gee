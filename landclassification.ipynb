{
 "cells": [
  {
   "cell_type": "markdown",
   "id": "f0eeec61",
   "metadata": {},
   "source": [
    "# Land Cover Classification\n",
    "The original land use mentoined in the Landuse_Ma columns of the massavi is out dated and donot match with the ground realities. The land use and total number of parcels in the given dataset are \n",
    "\n",
    "  | Land Use      | No. of Parcels | Area (Kanal, Approx.) |\n",
    "  |---------------|----------------|------------------------|\n",
    "  | Agriculture   | 5,759          | 32,729                 |\n",
    "  | Stream        | 302            | 822                    |\n",
    "  | Other         | 229            | 1,047                  |\n",
    "  | Road/Street   | 172            | 1,668                  |\n",
    "  | Graveyard     | 29             | 202                    |\n",
    "  | Built-Up      | 24             | 602                    |\n",
    "\n",
    "\n",
    "Some of the anomalies in this dataset are as follow\n",
    "- The type mentioned in Land use column as agricultue has been converted into builtup, not suitable for crop classification dataset.\n",
    "- The type mentioned in Land use column as agricultue has now both builtup and agriculture, should be cleaned to make it suiutable for crop classification.\n",
    "- Some of the on ground agriculture parcels has been recorded as other in Land use column maynot participate in crop classificaiton dataset as per this dataset.\n",
    "## Purpose\n",
    "The purpose of this exercise is to get clean agriculture parcels dataset for crop classificaiton using artifical intelligence algorithms like random forest, SVM etc. \n",
    "\n",
    "## Data Cleansing Methodology:\n",
    "Since the agriculture column in the Land use column does not give us a clear idea of the current land type therefore, we have to use other means to computer the current land use type. Therefore, as first step we will filter the 5,759 agriculter parcels and compute NDVI and NDBI.\n",
    "1. Get imagery from the ee for the time peroid. In this case i got 135 images for the year 2024. \n",
    "2. Pure agriculture: if NDVI is >= 3 and <= 7  the current_land_type is agriculture\n",
    "3. Pure builtup: if the NDBI value is >0 and NDVI value is <=2 the current_land_type is builtup\n",
    "4. Mix: compute the percentage parcel coverage of NDVI and NDBI and use a threshold to classify either builtup or agriculture\n",
    "The resultant dataset will be clean revised agriculture parcels and can be used for crop classification.\n",
    "\n",
    "\n",
    "\n"
   ]
  },
  {
   "cell_type": "code",
   "execution_count": 158,
   "id": "abfa99ca",
   "metadata": {},
   "outputs": [
    {
     "data": {
      "text/html": [
       "\n",
       "            <style>\n",
       "                .geemap-dark {\n",
       "                    --jp-widgets-color: white;\n",
       "                    --jp-widgets-label-color: white;\n",
       "                    --jp-ui-font-color1: white;\n",
       "                    --jp-layout-color2: #454545;\n",
       "                    background-color: #383838;\n",
       "                }\n",
       "\n",
       "                .geemap-dark .jupyter-button {\n",
       "                    --jp-layout-color3: #383838;\n",
       "                }\n",
       "\n",
       "                .geemap-colab {\n",
       "                    background-color: var(--colab-primary-surface-color, white);\n",
       "                }\n",
       "\n",
       "                .geemap-colab .jupyter-button {\n",
       "                    --jp-layout-color3: var(--colab-primary-surface-color, white);\n",
       "                }\n",
       "            </style>\n",
       "            "
      ],
      "text/plain": [
       "<IPython.core.display.HTML object>"
      ]
     },
     "metadata": {},
     "output_type": "display_data"
    }
   ],
   "source": [
    "#Step 1: Load the original dataset having Landuse_Ma columon. This dataset also have crop information. \n",
    "\n",
    "import geopandas as gpd\n",
    "import pandas as pd\n",
    "import numpy as np\n",
    "import leafmap\n",
    "import geemap\n",
    "import ee"
   ]
  },
  {
   "cell_type": "code",
   "execution_count": 173,
   "id": "2ece1198",
   "metadata": {},
   "outputs": [
    {
     "data": {
      "text/html": [
       "\n",
       "            <style>\n",
       "                .geemap-dark {\n",
       "                    --jp-widgets-color: white;\n",
       "                    --jp-widgets-label-color: white;\n",
       "                    --jp-ui-font-color1: white;\n",
       "                    --jp-layout-color2: #454545;\n",
       "                    background-color: #383838;\n",
       "                }\n",
       "\n",
       "                .geemap-dark .jupyter-button {\n",
       "                    --jp-layout-color3: #383838;\n",
       "                }\n",
       "\n",
       "                .geemap-colab {\n",
       "                    background-color: var(--colab-primary-surface-color, white);\n",
       "                }\n",
       "\n",
       "                .geemap-colab .jupyter-button {\n",
       "                    --jp-layout-color3: var(--colab-primary-surface-color, white);\n",
       "                }\n",
       "            </style>\n",
       "            "
      ],
      "text/plain": [
       "<IPython.core.display.HTML object>"
      ]
     },
     "metadata": {},
     "output_type": "display_data"
    },
    {
     "data": {
      "text/plain": [
       "Landuse_Ma\n",
       "Agriculture     5759\n",
       "Stream           302\n",
       "Other            229\n",
       "Road/Streets     172\n",
       "Graveyard         29\n",
       "Built up          24\n",
       "Name: Landuse_Ma, dtype: int64"
      ]
     },
     "execution_count": 173,
     "metadata": {},
     "output_type": "execute_result"
    }
   ],
   "source": [
    "cropfile = 'pabbi_crop.geojson'\n",
    "gdf = gpd.read_file(cropfile)\n",
    "gdf['Landuse_Ma'].groupby(gdf['Landuse_Ma']).count().sort_values(ascending=False)"
   ]
  },
  {
   "cell_type": "code",
   "execution_count": 160,
   "id": "9ce045c4",
   "metadata": {},
   "outputs": [
    {
     "data": {
      "text/html": [
       "\n",
       "            <style>\n",
       "                .geemap-dark {\n",
       "                    --jp-widgets-color: white;\n",
       "                    --jp-widgets-label-color: white;\n",
       "                    --jp-ui-font-color1: white;\n",
       "                    --jp-layout-color2: #454545;\n",
       "                    background-color: #383838;\n",
       "                }\n",
       "\n",
       "                .geemap-dark .jupyter-button {\n",
       "                    --jp-layout-color3: #383838;\n",
       "                }\n",
       "\n",
       "                .geemap-colab {\n",
       "                    background-color: var(--colab-primary-surface-color, white);\n",
       "                }\n",
       "\n",
       "                .geemap-colab .jupyter-button {\n",
       "                    --jp-layout-color3: var(--colab-primary-surface-color, white);\n",
       "                }\n",
       "            </style>\n",
       "            "
      ],
      "text/plain": [
       "<IPython.core.display.HTML object>"
      ]
     },
     "metadata": {},
     "output_type": "display_data"
    },
    {
     "name": "stdout",
     "output_type": "stream",
     "text": [
      "Total Agriculture Parcels are :5759\n"
     ]
    }
   ],
   "source": [
    "\n",
    "selected_parcels = gdf[gdf['Landuse_Ma'] == 'Agriculture']\n",
    "print(f'Total Agriculture Parcels are :{len(selected_parcels)}') \n",
    "# These are the parcels with Landuse_Ma as Agriculture and will be used for further analysis."
   ]
  },
  {
   "cell_type": "markdown",
   "id": "fc8f49a5",
   "metadata": {},
   "source": [
    "## Data Cleansing\n",
    "1. Calculating NDVI and NDBI of the selected agriculture parcels : 5759."
   ]
  },
  {
   "cell_type": "code",
   "execution_count": 161,
   "id": "c090a0ab",
   "metadata": {},
   "outputs": [
    {
     "data": {
      "text/html": [
       "\n",
       "            <style>\n",
       "                .geemap-dark {\n",
       "                    --jp-widgets-color: white;\n",
       "                    --jp-widgets-label-color: white;\n",
       "                    --jp-ui-font-color1: white;\n",
       "                    --jp-layout-color2: #454545;\n",
       "                    background-color: #383838;\n",
       "                }\n",
       "\n",
       "                .geemap-dark .jupyter-button {\n",
       "                    --jp-layout-color3: #383838;\n",
       "                }\n",
       "\n",
       "                .geemap-colab {\n",
       "                    background-color: var(--colab-primary-surface-color, white);\n",
       "                }\n",
       "\n",
       "                .geemap-colab .jupyter-button {\n",
       "                    --jp-layout-color3: var(--colab-primary-surface-color, white);\n",
       "                }\n",
       "            </style>\n",
       "            "
      ],
      "text/plain": [
       "<IPython.core.display.HTML object>"
      ]
     },
     "metadata": {},
     "output_type": "display_data"
    }
   ],
   "source": [
    "# Lets Convert the gdf of the original file to ee features utilizing earth engine power\n",
    "ee.Initialize()\n",
    "ee.Authenticate()\n",
    "boundary = geemap.gdf_to_ee(gdf) # this is for cliping the images\n",
    "selectedparcels_fc = geemap.gdf_to_ee(selected_parcels) # this is for getting the agriculture parcels features Collection \n"
   ]
  },
  {
   "cell_type": "code",
   "execution_count": 162,
   "id": "4668bd79",
   "metadata": {},
   "outputs": [
    {
     "data": {
      "text/html": [
       "\n",
       "            <style>\n",
       "                .geemap-dark {\n",
       "                    --jp-widgets-color: white;\n",
       "                    --jp-widgets-label-color: white;\n",
       "                    --jp-ui-font-color1: white;\n",
       "                    --jp-layout-color2: #454545;\n",
       "                    background-color: #383838;\n",
       "                }\n",
       "\n",
       "                .geemap-dark .jupyter-button {\n",
       "                    --jp-layout-color3: #383838;\n",
       "                }\n",
       "\n",
       "                .geemap-colab {\n",
       "                    background-color: var(--colab-primary-surface-color, white);\n",
       "                }\n",
       "\n",
       "                .geemap-colab .jupyter-button {\n",
       "                    --jp-layout-color3: var(--colab-primary-surface-color, white);\n",
       "                }\n",
       "            </style>\n",
       "            "
      ],
      "text/plain": [
       "<IPython.core.display.HTML object>"
      ]
     },
     "metadata": {},
     "output_type": "display_data"
    }
   ],
   "source": [
    "# Define a function to get imagery an apply filter\n",
    "def get_collection (start_date,end_date):\n",
    "    collection = ee.ImageCollection('COPERNICUS/S2_SR_HARMONIZED')\n",
    "    filtered_collection = collection.filterDate(start_date, end_date).filterBounds(boundary.geometry()).filter(ee.Filter.lt('CLOUDY_PIXEL_PERCENTAGE', 10))\n",
    "    return filtered_collection"
   ]
  },
  {
   "cell_type": "code",
   "execution_count": 163,
   "id": "319b6367",
   "metadata": {},
   "outputs": [
    {
     "data": {
      "text/html": [
       "\n",
       "            <style>\n",
       "                .geemap-dark {\n",
       "                    --jp-widgets-color: white;\n",
       "                    --jp-widgets-label-color: white;\n",
       "                    --jp-ui-font-color1: white;\n",
       "                    --jp-layout-color2: #454545;\n",
       "                    background-color: #383838;\n",
       "                }\n",
       "\n",
       "                .geemap-dark .jupyter-button {\n",
       "                    --jp-layout-color3: #383838;\n",
       "                }\n",
       "\n",
       "                .geemap-colab {\n",
       "                    background-color: var(--colab-primary-surface-color, white);\n",
       "                }\n",
       "\n",
       "                .geemap-colab .jupyter-button {\n",
       "                    --jp-layout-color3: var(--colab-primary-surface-color, white);\n",
       "                }\n",
       "            </style>\n",
       "            "
      ],
      "text/plain": [
       "<IPython.core.display.HTML object>"
      ]
     },
     "metadata": {},
     "output_type": "display_data"
    }
   ],
   "source": [
    "# defing ndvi , NDBI , BUI and UI indices\n",
    "\n",
    "def get_ndvi(filtered_collection):\n",
    "    # Calculate the annual NDVI from the filtered collection (filtered_collection)\n",
    "    ndvi_collection = filtered_collection.map(lambda img: img.normalizedDifference(['B8', 'B4']).rename('NDVI'))\n",
    "    # Calculate the mean NDVI for the year\n",
    "    mean_ndvi = ndvi_collection.mean()\n",
    "    return mean_ndvi\n",
    "    \n",
    "def get_ndbi(filtered_collection):\n",
    "    # Calculate Normalized Difference Built-up Index (NDBI) (SWIR−NIR)/(SWIR+NIR) from the filtered collection filtered_collection\n",
    "    # NDBI = (B11 - B8) / (B11 + B8)\n",
    "    # Built‑up areas (positive values) vs. vegetation/water (negative)\n",
    "    ndbi_collection = filtered_collection.map(lambda img: img.normalizedDifference(['B11', 'B8']).rename('NDBI'))\n",
    "    # Calculate the mean NDBI for the year\n",
    "    mean_ndbi = ndbi_collection.mean()\n",
    "    return mean_ndbi\n",
    "def get_ndwi(filtered_collection):\n",
    "    # Calculate Normalized Difference Water Index (NDWI) (Green-NIR)/(Green+NIR) from the filtered collection filtered_collection\n",
    "    # NDWI = (B3 - B8) / (B3 + B8)\n",
    "    # Water (positive values) vs. built-up/vegetation (negative)\n",
    "    ndwi_collection = filtered_collection.map(lambda img: img.normalizedDifference(['B3', 'B8']).rename('NDWI'))\n",
    "    # Calculate the mean NDWI for the year\n",
    "    mean_ndwi = ndwi_collection.mean()\n",
    "    return mean_ndwi\n",
    "\n",
    "def get_bui(filtered_collection):\n",
    "    # Calculate the annual Built-Up Index (BUI) for an ee.ImageCollection `filtered_collection`.\n",
    "    # BUI: (B11 + B4 - B8 - B2) / (B11 + B4 + B8 + B2)\n",
    "    # Enhances urban density separation from other land‑covers\n",
    "    bui_collection = filtered_collection.map(lambda img: (img.select('B11').add(img.select('B4')).subtract(img.select('B8'))\n",
    "           .subtract(img.select('B2'))\n",
    "           .divide(\n",
    "               img.select('B11').add(img.select('B4'))\n",
    "                  .add(img.select('B8'))\n",
    "                  .add(img.select('B2'))\n",
    "           )\n",
    "           .rename('BUI')      \n",
    "                    ))\n",
    "    mean_bui = bui_collection.mean()\n",
    "    return mean_bui\n",
    "    \n",
    "def get_ui(filtered_collection):\n",
    "    # Calculate Urban Index (UI) (NDBI−NDVI)/(NDBI+NDVI) for the collection\n",
    "    # Separates built‑up from vegetation more robustly\n",
    "    mean_ndvi = get_ndvi(filtered_collection)\n",
    "    mean_ndbi = get_ndbi(filtered_collection)\n",
    "    mean_ui = mean_ndbi.subtract(mean_ndvi).divide(mean_ndbi.add(mean_ndvi)).rename('UI')\n",
    "    return mean_ui\n",
    "\n"
   ]
  },
  {
   "cell_type": "code",
   "execution_count": 164,
   "id": "c9641659",
   "metadata": {},
   "outputs": [
    {
     "data": {
      "text/html": [
       "\n",
       "            <style>\n",
       "                .geemap-dark {\n",
       "                    --jp-widgets-color: white;\n",
       "                    --jp-widgets-label-color: white;\n",
       "                    --jp-ui-font-color1: white;\n",
       "                    --jp-layout-color2: #454545;\n",
       "                    background-color: #383838;\n",
       "                }\n",
       "\n",
       "                .geemap-dark .jupyter-button {\n",
       "                    --jp-layout-color3: #383838;\n",
       "                }\n",
       "\n",
       "                .geemap-colab {\n",
       "                    background-color: var(--colab-primary-surface-color, white);\n",
       "                }\n",
       "\n",
       "                .geemap-colab .jupyter-button {\n",
       "                    --jp-layout-color3: var(--colab-primary-surface-color, white);\n",
       "                }\n",
       "            </style>\n",
       "            "
      ],
      "text/plain": [
       "<IPython.core.display.HTML object>"
      ]
     },
     "metadata": {},
     "output_type": "display_data"
    }
   ],
   "source": [
    "def get_composite(ndvi_img, ndbi_img, bui_img, ui_img,ndwi_img):\n",
    "    \"\"\"\n",
    "    Stack the four annual‐mean index images into one composite,\n",
    "    then clip it to the boundary.\n",
    "    \"\"\"\n",
    "    # 1. Concatenate the four single‐band images\n",
    "    composite_img = ee.Image.cat([ndvi_img, ndbi_img, bui_img, ui_img,ndwi_img])\n",
    "    \n",
    "    # 2. Rename the bands in the correct order\n",
    "    composite_img = composite_img.rename(['NDVI','NDBI','BUI','UI','NDWI'])\n",
    "    \n",
    "    # 3. Clip to your boundary\n",
    "    composite_img = composite_img.clip(boundary.geometry())\n",
    "    \n",
    "    return composite_img\n"
   ]
  },
  {
   "cell_type": "code",
   "execution_count": 165,
   "id": "602ab61f",
   "metadata": {},
   "outputs": [
    {
     "data": {
      "text/html": [
       "\n",
       "            <style>\n",
       "                .geemap-dark {\n",
       "                    --jp-widgets-color: white;\n",
       "                    --jp-widgets-label-color: white;\n",
       "                    --jp-ui-font-color1: white;\n",
       "                    --jp-layout-color2: #454545;\n",
       "                    background-color: #383838;\n",
       "                }\n",
       "\n",
       "                .geemap-dark .jupyter-button {\n",
       "                    --jp-layout-color3: #383838;\n",
       "                }\n",
       "\n",
       "                .geemap-colab {\n",
       "                    background-color: var(--colab-primary-surface-color, white);\n",
       "                }\n",
       "\n",
       "                .geemap-colab .jupyter-button {\n",
       "                    --jp-layout-color3: var(--colab-primary-surface-color, white);\n",
       "                }\n",
       "            </style>\n",
       "            "
      ],
      "text/plain": [
       "<IPython.core.display.HTML object>"
      ]
     },
     "metadata": {},
     "output_type": "display_data"
    }
   ],
   "source": [
    "filtered_collection = get_collection('2024-01-01', '2024-12-31')\n",
    "ndvi_img = get_ndvi(filtered_collection)\n",
    "ndbi_img = get_ndbi(filtered_collection)\n",
    "bui_img = get_bui(filtered_collection)\n",
    "ui_img = get_ui(filtered_collection)\n",
    "ndwi_img = get_ndwi(filtered_collection)\n",
    "\n",
    "composite_img = get_composite(ndvi_img, ndbi_img, bui_img, ui_img, ndwi_img)"
   ]
  },
  {
   "cell_type": "code",
   "execution_count": 166,
   "id": "de38ae10",
   "metadata": {},
   "outputs": [
    {
     "data": {
      "text/html": [
       "\n",
       "            <style>\n",
       "                .geemap-dark {\n",
       "                    --jp-widgets-color: white;\n",
       "                    --jp-widgets-label-color: white;\n",
       "                    --jp-ui-font-color1: white;\n",
       "                    --jp-layout-color2: #454545;\n",
       "                    background-color: #383838;\n",
       "                }\n",
       "\n",
       "                .geemap-dark .jupyter-button {\n",
       "                    --jp-layout-color3: #383838;\n",
       "                }\n",
       "\n",
       "                .geemap-colab {\n",
       "                    background-color: var(--colab-primary-surface-color, white);\n",
       "                }\n",
       "\n",
       "                .geemap-colab .jupyter-button {\n",
       "                    --jp-layout-color3: var(--colab-primary-surface-color, white);\n",
       "                }\n",
       "            </style>\n",
       "            "
      ],
      "text/plain": [
       "<IPython.core.display.HTML object>"
      ]
     },
     "metadata": {},
     "output_type": "display_data"
    },
    {
     "data": {
      "text/plain": [
       "135"
      ]
     },
     "execution_count": 166,
     "metadata": {},
     "output_type": "execute_result"
    }
   ],
   "source": [
    "filtered_collection.size().getInfo() # this will give the number of images in the collection"
   ]
  },
  {
   "cell_type": "markdown",
   "id": "2e4aaeb7",
   "metadata": {},
   "source": [
    "## Create a binary mask for each pixel in the composite.\n",
    "1. if the NDVI value of a pixel is greater than 0.25 it is agricultue pixel\n",
    "2. if the NDBI value of a pixel is greater than 0.0 than it is a builtup pixel\n",
    "3. if the NDWI value of a pixel is greate than 0.3 than its water."
   ]
  },
  {
   "cell_type": "code",
   "execution_count": 167,
   "id": "96bf89df",
   "metadata": {},
   "outputs": [
    {
     "data": {
      "text/html": [
       "\n",
       "            <style>\n",
       "                .geemap-dark {\n",
       "                    --jp-widgets-color: white;\n",
       "                    --jp-widgets-label-color: white;\n",
       "                    --jp-ui-font-color1: white;\n",
       "                    --jp-layout-color2: #454545;\n",
       "                    background-color: #383838;\n",
       "                }\n",
       "\n",
       "                .geemap-dark .jupyter-button {\n",
       "                    --jp-layout-color3: #383838;\n",
       "                }\n",
       "\n",
       "                .geemap-colab {\n",
       "                    background-color: var(--colab-primary-surface-color, white);\n",
       "                }\n",
       "\n",
       "                .geemap-colab .jupyter-button {\n",
       "                    --jp-layout-color3: var(--colab-primary-surface-color, white);\n",
       "                }\n",
       "            </style>\n",
       "            "
      ],
      "text/plain": [
       "<IPython.core.display.HTML object>"
      ]
     },
     "metadata": {},
     "output_type": "display_data"
    }
   ],
   "source": [
    "builtmask = composite_img.select('BUI').gt(0)\n",
    "agrimask = composite_img.select('NDVI').gt(0.25)\n",
    "watermask = composite_img.select('NDWI').gt(0.3)"
   ]
  },
  {
   "cell_type": "code",
   "execution_count": 174,
   "id": "97fda530",
   "metadata": {},
   "outputs": [
    {
     "data": {
      "text/html": [
       "\n",
       "            <style>\n",
       "                .geemap-dark {\n",
       "                    --jp-widgets-color: white;\n",
       "                    --jp-widgets-label-color: white;\n",
       "                    --jp-ui-font-color1: white;\n",
       "                    --jp-layout-color2: #454545;\n",
       "                    background-color: #383838;\n",
       "                }\n",
       "\n",
       "                .geemap-dark .jupyter-button {\n",
       "                    --jp-layout-color3: #383838;\n",
       "                }\n",
       "\n",
       "                .geemap-colab {\n",
       "                    background-color: var(--colab-primary-surface-color, white);\n",
       "                }\n",
       "\n",
       "                .geemap-colab .jupyter-button {\n",
       "                    --jp-layout-color3: var(--colab-primary-surface-color, white);\n",
       "                }\n",
       "            </style>\n",
       "            "
      ],
      "text/plain": [
       "<IPython.core.display.HTML object>"
      ]
     },
     "metadata": {},
     "output_type": "display_data"
    }
   ],
   "source": [
    "  # Getting pixel count for calculating percentage of parcel and plx mean for pure agri/built \n",
    "def sum_count(composite_img, builtmask, agrimask,watermask ,parcels_fc):\n",
    "    \n",
    "    built = builtmask.rename('built_count').toInt()\n",
    "    agri  = agrimask.rename('agri_count').toInt()\n",
    "    water = watermask.rename('water_count').toInt()\n",
    "\n",
    "    mask_img = ee.Image.cat([built, agri,water])\n",
    "\n",
    "    pixel_sum = mask_img.reduceRegions(\n",
    "        collection=parcels_fc,\n",
    "        reducer=ee.Reducer.sum(),\n",
    "        scale=10,\n",
    "        crs=composite_img.projection()\n",
    "    )\n",
    "    return pixel_sum\n",
    "\n",
    "def mean_indices(composite_img, parcels_fc):\n",
    "    ndvi = composite_img.select('NDVI')\n",
    "    ndbi = composite_img.select('NDBI')\n",
    "    ui = composite_img.select('UI')\n",
    "    bui = composite_img.select('BUI')\n",
    "    ndwi = composite_img.select('NDWI')\n",
    "\n",
    "    index_img = ee.Image.cat([ndvi,ndbi,bui,ui,ndwi])\n",
    "    mean_img = index_img.reduceRegions(\n",
    "        collection=parcels_fc,\n",
    "        reducer=ee.Reducer.mean(),\n",
    "        scale=10,\n",
    "        crs=composite_img.projection()\n",
    "    )\n",
    "    return mean_img\n"
   ]
  },
  {
   "cell_type": "code",
   "execution_count": 175,
   "id": "73a5612e",
   "metadata": {},
   "outputs": [
    {
     "data": {
      "text/html": [
       "\n",
       "            <style>\n",
       "                .geemap-dark {\n",
       "                    --jp-widgets-color: white;\n",
       "                    --jp-widgets-label-color: white;\n",
       "                    --jp-ui-font-color1: white;\n",
       "                    --jp-layout-color2: #454545;\n",
       "                    background-color: #383838;\n",
       "                }\n",
       "\n",
       "                .geemap-dark .jupyter-button {\n",
       "                    --jp-layout-color3: #383838;\n",
       "                }\n",
       "\n",
       "                .geemap-colab {\n",
       "                    background-color: var(--colab-primary-surface-color, white);\n",
       "                }\n",
       "\n",
       "                .geemap-colab .jupyter-button {\n",
       "                    --jp-layout-color3: var(--colab-primary-surface-color, white);\n",
       "                }\n",
       "            </style>\n",
       "            "
      ],
      "text/plain": [
       "<IPython.core.display.HTML object>"
      ]
     },
     "metadata": {},
     "output_type": "display_data"
    }
   ],
   "source": [
    "pxlsum = sum_count(composite_img, builtmask, agrimask,watermask, selectedparcels_fc)\n",
    "pxlmean = mean_indices(composite_img, selectedparcels_fc)\n",
    "# Convert the ee.FeatureCollection to a pandas DataFrame\n",
    "pxlsum_gdf= geemap.ee_to_gdf(pxlsum)\n",
    "pxlmean_gdf= geemap.ee_to_gdf(pxlmean)  \n"
   ]
  },
  {
   "cell_type": "code",
   "execution_count": 182,
   "id": "81da174b",
   "metadata": {},
   "outputs": [
    {
     "data": {
      "text/html": [
       "\n",
       "            <style>\n",
       "                .geemap-dark {\n",
       "                    --jp-widgets-color: white;\n",
       "                    --jp-widgets-label-color: white;\n",
       "                    --jp-ui-font-color1: white;\n",
       "                    --jp-layout-color2: #454545;\n",
       "                    background-color: #383838;\n",
       "                }\n",
       "\n",
       "                .geemap-dark .jupyter-button {\n",
       "                    --jp-layout-color3: #383838;\n",
       "                }\n",
       "\n",
       "                .geemap-colab {\n",
       "                    background-color: var(--colab-primary-surface-color, white);\n",
       "                }\n",
       "\n",
       "                .geemap-colab .jupyter-button {\n",
       "                    --jp-layout-color3: var(--colab-primary-surface-color, white);\n",
       "                }\n",
       "            </style>\n",
       "            "
      ],
      "text/plain": [
       "<IPython.core.display.HTML object>"
      ]
     },
     "metadata": {},
     "output_type": "display_data"
    },
    {
     "name": "stdout",
     "output_type": "stream",
     "text": [
      "['geometry', 'Area_Acre', 'Crop_Type', 'FFID', 'Landuse_Ma', 'Mouza_Name', 'Parcel_ID', 'agri_count', 'built_count', 'water_count', 'NDVI', 'NDBI', 'BUI', 'UI', 'NDWI']\n"
     ]
    }
   ],
   "source": [
    "# since both dataframes have duplicate columns therefore to avoid duplicaiton \n",
    "# we will select the columns we need for merging\n",
    "mean_cols = ['geometry','NDVI','NDBI','BUI','UI','NDWI']\n",
    "plxmean_small = pxlmean_gdf[mean_cols]\n",
    "\n",
    "#Now we will merge the two dataframes\n",
    "stats_gdf = pxlsum_gdf.merge(plxmean_small, on='geometry', how='left')\n",
    "\n",
    "print(stats_gdf.columns.tolist())"
   ]
  },
  {
   "cell_type": "code",
   "execution_count": 183,
   "id": "4c9ae6e7",
   "metadata": {},
   "outputs": [
    {
     "data": {
      "text/html": [
       "\n",
       "            <style>\n",
       "                .geemap-dark {\n",
       "                    --jp-widgets-color: white;\n",
       "                    --jp-widgets-label-color: white;\n",
       "                    --jp-ui-font-color1: white;\n",
       "                    --jp-layout-color2: #454545;\n",
       "                    background-color: #383838;\n",
       "                }\n",
       "\n",
       "                .geemap-dark .jupyter-button {\n",
       "                    --jp-layout-color3: #383838;\n",
       "                }\n",
       "\n",
       "                .geemap-colab {\n",
       "                    background-color: var(--colab-primary-surface-color, white);\n",
       "                }\n",
       "\n",
       "                .geemap-colab .jupyter-button {\n",
       "                    --jp-layout-color3: var(--colab-primary-surface-color, white);\n",
       "                }\n",
       "            </style>\n",
       "            "
      ],
      "text/plain": [
       "<IPython.core.display.HTML object>"
      ]
     },
     "metadata": {},
     "output_type": "display_data"
    }
   ],
   "source": [
    "# Now stats_gdf has columns 'built_count' and 'agri_count' per parcel\n",
    "# Lets compute the percentage of built and agri land\n",
    "stats_gdf['pct_built'] = stats_gdf['built_count'] / (stats_gdf['built_count'] + stats_gdf['agri_count']+ stats_gdf['water_count'])\n",
    "stats_gdf['pct_agri']  = stats_gdf['agri_count']  / (stats_gdf['built_count'] + stats_gdf['agri_count']+ stats_gdf['water_count'])\n",
    "stats_gdf['pct_water'] = stats_gdf['water_count']  / (stats_gdf['built_count'] + stats_gdf['agri_count']+stats_gdf['water_count'])\n",
    "# Now we will drop the columns we do not need"
   ]
  },
  {
   "cell_type": "code",
   "execution_count": null,
   "id": "ee4db75c",
   "metadata": {},
   "outputs": [
    {
     "data": {
      "text/html": [
       "\n",
       "            <style>\n",
       "                .geemap-dark {\n",
       "                    --jp-widgets-color: white;\n",
       "                    --jp-widgets-label-color: white;\n",
       "                    --jp-ui-font-color1: white;\n",
       "                    --jp-layout-color2: #454545;\n",
       "                    background-color: #383838;\n",
       "                }\n",
       "\n",
       "                .geemap-dark .jupyter-button {\n",
       "                    --jp-layout-color3: #383838;\n",
       "                }\n",
       "\n",
       "                .geemap-colab {\n",
       "                    background-color: var(--colab-primary-surface-color, white);\n",
       "                }\n",
       "\n",
       "                .geemap-colab .jupyter-button {\n",
       "                    --jp-layout-color3: var(--colab-primary-surface-color, white);\n",
       "                }\n",
       "            </style>\n",
       "            "
      ],
      "text/plain": [
       "<IPython.core.display.HTML object>"
      ]
     },
     "metadata": {},
     "output_type": "display_data"
    },
    {
     "data": {
      "text/plain": [
       "['geometry',\n",
       " 'Area_Acre',\n",
       " 'Crop_Type',\n",
       " 'FFID',\n",
       " 'Landuse_Ma',\n",
       " 'Mouza_Name',\n",
       " 'Parcel_ID',\n",
       " 'agri_count',\n",
       " 'built_count',\n",
       " 'water_count',\n",
       " 'NDVI',\n",
       " 'NDBI',\n",
       " 'BUI',\n",
       " 'UI',\n",
       " 'NDWI',\n",
       " 'pct_built',\n",
       " 'pct_agri',\n",
       " 'pct_water']"
      ]
     },
     "execution_count": 184,
     "metadata": {},
     "output_type": "execute_result"
    }
   ],
   "source": [
    "stats_gdf"
   ]
  },
  {
   "cell_type": "code",
   "execution_count": null,
   "id": "86580e1a",
   "metadata": {},
   "outputs": [
    {
     "data": {
      "text/html": [
       "\n",
       "            <style>\n",
       "                .geemap-dark {\n",
       "                    --jp-widgets-color: white;\n",
       "                    --jp-widgets-label-color: white;\n",
       "                    --jp-ui-font-color1: white;\n",
       "                    --jp-layout-color2: #454545;\n",
       "                    background-color: #383838;\n",
       "                }\n",
       "\n",
       "                .geemap-dark .jupyter-button {\n",
       "                    --jp-layout-color3: #383838;\n",
       "                }\n",
       "\n",
       "                .geemap-colab {\n",
       "                    background-color: var(--colab-primary-surface-color, white);\n",
       "                }\n",
       "\n",
       "                .geemap-colab .jupyter-button {\n",
       "                    --jp-layout-color3: var(--colab-primary-surface-color, white);\n",
       "                }\n",
       "            </style>\n",
       "            "
      ],
      "text/plain": [
       "<IPython.core.display.HTML object>"
      ]
     },
     "metadata": {},
     "output_type": "display_data"
    },
    {
     "name": "stdout",
     "output_type": "stream",
     "text": [
      "landuse_class\n",
      "Pure-Agriculture       2945\n",
      "Partial-Agriculture    1269\n",
      "Pure-Builtup            812\n",
      "Partial-Builtup         641\n",
      "Mixed                    92\n",
      "Name: count, dtype: int64\n"
     ]
    }
   ],
   "source": [
    "def classify_hybrid(row,\n",
    "                    ndvi_ag=0.6, ui_built=0.2,\n",
    "                    maj_pct=0.75, min_pct=0.25):\n",
    "    ndvi = row['NDVI']\n",
    "    ui   = row['UI']\n",
    "    pa   = row['pct_agri']\n",
    "    pb   = row['pct_built']\n",
    "    pw   = row['pct_water']\n",
    "    ndwi = row['NDWI']\n",
    "\n",
    "    # 1) Spectral “easy wins”\n",
    "    if pw > maj_pct:\n",
    "        return 'Water'\n",
    "    if ndvi >= ndvi_ag and ui <= 0:\n",
    "        return 'Pure-Agriculture'\n",
    "    if ui >= ui_built:\n",
    "        return 'Pure-Builtup'\n",
    "\n",
    "    # 2) Percent-based majority\n",
    "    if pa >= maj_pct:\n",
    "        return 'Pure-Agriculture'\n",
    "    if pb >= maj_pct:\n",
    "        return 'Pure-Builtup'\n",
    "\n",
    "    # 3) Partial by percent\n",
    "    if pa >= min_pct and pa > pb:\n",
    "        return 'Partial-Agriculture'\n",
    "    if pb >= min_pct and pb > pa:\n",
    "        return 'Partial-Builtup'\n",
    "\n",
    "    # 4) Everything else → Mixed\n",
    "    return 'Mixed'\n",
    "\n",
    "# Apply and inspect\n",
    "stats_gdf['landuse_class'] = stats_gdf.apply(classify_hybrid, axis=1)\n",
    "print(stats_gdf['landuse_class'].value_counts())\n"
   ]
  },
  {
   "cell_type": "code",
   "execution_count": null,
   "id": "acea75f8",
   "metadata": {},
   "outputs": [
    {
     "data": {
      "text/html": [
       "\n",
       "            <style>\n",
       "                .geemap-dark {\n",
       "                    --jp-widgets-color: white;\n",
       "                    --jp-widgets-label-color: white;\n",
       "                    --jp-ui-font-color1: white;\n",
       "                    --jp-layout-color2: #454545;\n",
       "                    background-color: #383838;\n",
       "                }\n",
       "\n",
       "                .geemap-dark .jupyter-button {\n",
       "                    --jp-layout-color3: #383838;\n",
       "                }\n",
       "\n",
       "                .geemap-colab {\n",
       "                    background-color: var(--colab-primary-surface-color, white);\n",
       "                }\n",
       "\n",
       "                .geemap-colab .jupyter-button {\n",
       "                    --jp-layout-color3: var(--colab-primary-surface-color, white);\n",
       "                }\n",
       "            </style>\n",
       "            "
      ],
      "text/plain": [
       "<IPython.core.display.HTML object>"
      ]
     },
     "metadata": {},
     "output_type": "display_data"
    }
   ],
   "source": [
    "pure_agri = stats_gdf[stats_gdf['landuse_class'] == 'Pure-Agriculture']\n",
    "pure_built = stats_gdf[stats_gdf['landuse_class'] == 'Pure-Builtup']\n",
    "partial_agri = stats_gdf[stats_gdf['landuse_class'] == 'Partial-Agriculture']\n",
    "partial_built = stats_gdf[stats_gdf['landuse_class'] == 'Partial-Builtup']\n",
    "mixed = stats_gdf[stats_gdf['landuse_class'] == 'Mixed']\n"
   ]
  },
  {
   "cell_type": "code",
   "execution_count": 188,
   "id": "22d15103",
   "metadata": {},
   "outputs": [
    {
     "data": {
      "text/html": [
       "\n",
       "            <style>\n",
       "                .geemap-dark {\n",
       "                    --jp-widgets-color: white;\n",
       "                    --jp-widgets-label-color: white;\n",
       "                    --jp-ui-font-color1: white;\n",
       "                    --jp-layout-color2: #454545;\n",
       "                    background-color: #383838;\n",
       "                }\n",
       "\n",
       "                .geemap-dark .jupyter-button {\n",
       "                    --jp-layout-color3: #383838;\n",
       "                }\n",
       "\n",
       "                .geemap-colab {\n",
       "                    background-color: var(--colab-primary-surface-color, white);\n",
       "                }\n",
       "\n",
       "                .geemap-colab .jupyter-button {\n",
       "                    --jp-layout-color3: var(--colab-primary-surface-color, white);\n",
       "                }\n",
       "            </style>\n",
       "            "
      ],
      "text/plain": [
       "<IPython.core.display.HTML object>"
      ]
     },
     "metadata": {},
     "output_type": "display_data"
    },
    {
     "data": {
      "application/vnd.jupyter.widget-view+json": {
       "model_id": "5925f5939c654ec4b1f27f5e4066cb07",
       "version_major": 2,
       "version_minor": 0
      },
      "text/plain": [
       "Map(center=[37.5, 70], controls=(ZoomControl(options=['position', 'zoom_in_text', 'zoom_in_title', 'zoom_out_t…"
      ]
     },
     "execution_count": 188,
     "metadata": {},
     "output_type": "execute_result"
    }
   ],
   "source": [
    "m = leafmap.Map(center=(37.5, 70), )\n",
    "m.add_basemap('Google Satellite')\n",
    "\n",
    "\n",
    "# 1. Create a minimal GeoDataFrame with only geometry + landuse_class\n",
    "popup_gdf = stats_gdf[['geometry', 'landuse_class']].copy()\n",
    "\n",
    "\n",
    "legend_dict = {\n",
    "    'Pure Agriculture':           '#00AA00',  # dark green\n",
    "    'Pure Builtup':               '#0000FF',  # blue\n",
    "    'Partial Agri(25-75%)':       '#FFA500',  # orange\n",
    "    'Partial Builtup(25-75%)':    '#800080',  # purple\n",
    "    'Mixed':                      '#FFFF00',  # yellow\n",
    "}\n",
    "\n",
    "\n",
    "m.add_gdf(\n",
    "    popup_gdf,\n",
    "    layer_name='Landuse Class',\n",
    "    style={                      # pick any style you like\n",
    "        'color':   'black',\n",
    "        'fillColor':'transparent',\n",
    "        'fillOpacity': 0.1,\n",
    "        'weight':  1\n",
    "    },\n",
    "    zoom_to_layer=True,\n",
    "    info_mode='on_click'        # show popup when you click\n",
    ")\n",
    "\n",
    "# Pure Agriculture\n",
    "m.add_gdf(\n",
    "    pure_agri,\n",
    "    layer_name='Pure Agriculture',\n",
    "    style={\n",
    "        'color': 'green',      # border\n",
    "        'fillColor': 'green',  # interior\n",
    "        'fillOpacity': 0.4,\n",
    "        'weight': 1\n",
    "    }, info_mode='off'\n",
    "     \n",
    ")\n",
    "\n",
    "# Pure Builtup\n",
    "m.add_gdf(\n",
    "    pure_built,\n",
    "    layer_name='Pure Builtup',\n",
    "    style={\n",
    "        'color': 'blue',\n",
    "        'fillColor': 'blue',\n",
    "        'fillOpacity': 0.4,\n",
    "        'weight': 1\n",
    "    }, info_mode='off'\n",
    "    \n",
    ")\n",
    "\n",
    "# Partial Agriculture\n",
    "m.add_gdf(\n",
    "    partial_agri,\n",
    "    layer_name='Partial Agri (25-75%)',\n",
    "    style={\n",
    "        'color': 'orange',\n",
    "        'fillColor': 'orange',\n",
    "        'fillOpacity': 0.4,\n",
    "        'weight': 1\n",
    "    }, info_mode='off'\n",
    "    \n",
    ")\n",
    "\n",
    "# Partial Builtup\n",
    "m.add_gdf(\n",
    "    partial_built,\n",
    "    layer_name='Partial Builtup(25-75%)',\n",
    "    style={\n",
    "        'color': 'purple',\n",
    "        'fillColor': 'purple',\n",
    "        'fillOpacity': 0.4,\n",
    "        'weight': 1\n",
    "    }, info_mode='off'\n",
    "    \n",
    ")\n",
    "\n",
    "# Other\n",
    "m.add_gdf(\n",
    "    mixed,\n",
    "    layer_name='Other',\n",
    "    style={\n",
    "        'color': 'yellow',\n",
    "        'fillColor': 'yellow',\n",
    "        'fillOpacity': 0.4,\n",
    "        'weight': 1\n",
    "    }, info_mode='off'\n",
    "    \n",
    ")\n",
    "\n",
    "# Add legend\n",
    "m.add_legend(\n",
    "    legend_title='Landuse Classification',\n",
    "    legend_dict=legend_dict,\n",
    "    position='bottomleft'\n",
    ")\n",
    "\n",
    "m.add_layer_manager()\n",
    "m\n",
    "\n",
    "\n"
   ]
  },
  {
   "cell_type": "code",
   "execution_count": 187,
   "id": "e3ba5609",
   "metadata": {},
   "outputs": [
    {
     "data": {
      "text/html": [
       "\n",
       "            <style>\n",
       "                .geemap-dark {\n",
       "                    --jp-widgets-color: white;\n",
       "                    --jp-widgets-label-color: white;\n",
       "                    --jp-ui-font-color1: white;\n",
       "                    --jp-layout-color2: #454545;\n",
       "                    background-color: #383838;\n",
       "                }\n",
       "\n",
       "                .geemap-dark .jupyter-button {\n",
       "                    --jp-layout-color3: #383838;\n",
       "                }\n",
       "\n",
       "                .geemap-colab {\n",
       "                    background-color: var(--colab-primary-surface-color, white);\n",
       "                }\n",
       "\n",
       "                .geemap-colab .jupyter-button {\n",
       "                    --jp-layout-color3: var(--colab-primary-surface-color, white);\n",
       "                }\n",
       "            </style>\n",
       "            "
      ],
      "text/plain": [
       "<IPython.core.display.HTML object>"
      ]
     },
     "metadata": {},
     "output_type": "display_data"
    }
   ],
   "source": [
    "stats_gdf.to_file('Pabbi_RevisedLandtype-V1.geojson', driver='GeoJSON')"
   ]
  },
  {
   "cell_type": "code",
   "execution_count": 137,
   "id": "0d12b954",
   "metadata": {},
   "outputs": [
    {
     "data": {
      "text/html": [
       "\n",
       "            <style>\n",
       "                .geemap-dark {\n",
       "                    --jp-widgets-color: white;\n",
       "                    --jp-widgets-label-color: white;\n",
       "                    --jp-ui-font-color1: white;\n",
       "                    --jp-layout-color2: #454545;\n",
       "                    background-color: #383838;\n",
       "                }\n",
       "\n",
       "                .geemap-dark .jupyter-button {\n",
       "                    --jp-layout-color3: #383838;\n",
       "                }\n",
       "\n",
       "                .geemap-colab {\n",
       "                    background-color: var(--colab-primary-surface-color, white);\n",
       "                }\n",
       "\n",
       "                .geemap-colab .jupyter-button {\n",
       "                    --jp-layout-color3: var(--colab-primary-surface-color, white);\n",
       "                }\n",
       "            </style>\n",
       "            "
      ],
      "text/plain": [
       "<IPython.core.display.HTML object>"
      ]
     },
     "metadata": {},
     "output_type": "display_data"
    },
    {
     "data": {
      "application/vnd.jupyter.widget-view+json": {
       "model_id": "5aed3b2d7c144536b920ebfb2a3e04cc",
       "version_major": 2,
       "version_minor": 0
      },
      "text/plain": [
       "Map(center=[37.5, 70], controls=(ZoomControl(options=['position', 'zoom_in_text', 'zoom_in_title', 'zoom_out_t…"
      ]
     },
     "execution_count": 137,
     "metadata": {},
     "output_type": "execute_result"
    }
   ],
   "source": [
    "m = leafmap.Map(center=(37.5, 70), zoom=6)\n",
    "m.add_basemap('Google Satellite')\n",
    "\n",
    "# 1. Create a minimal GeoDataFrame with only geometry + landuse_class\n",
    "popup_gdf = stats_gdf[['geometry', 'landuse_class']].copy()\n",
    "\n",
    "# 2. Add your styling layers *without* popups\n",
    "layers_lsit = [ \n",
    "    (pure_agri,    'Pure Agriculture',    legend_dict['Pure Agriculture']),\n",
    "    (pure_built,   'Pure Builtup',        legend_dict['Pure Builtup']),\n",
    "    (partial_agri, 'Partial Agriculture', legend_dict['Partial Agriculture']),\n",
    "    (partial_built,'Partial Builtup',     legend_dict['Partial Builtup']),\n",
    "    (mixed,        'Mixed',               legend_dict['Mixed']),\n",
    "        ]\n",
    "\n",
    "for gdf, name, color in layers_lsit:\n",
    "    # 2.1 Add the layer to the map   \n",
    "    m.add_gdf(\n",
    "        gdf,\n",
    "        layer_name=name,\n",
    "        style={\n",
    "            'color':    color,\n",
    "            'fillColor':color,\n",
    "            'fillOpacity':0.3,\n",
    "            'weight':   1\n",
    "        },\n",
    "        zoom_to_layer=True,\n",
    "        info_mode='off'   # make sure no popups for these layers\n",
    "    )\n",
    "\n",
    "# 3. Add your minimal layer *last*, with popups ON only for landuse_class\n",
    "m.add_gdf(\n",
    "    popup_gdf,\n",
    "    layer_name='Landuse Class',\n",
    "    style={\n",
    "        'color':      'black',\n",
    "        'fillColor': 'transparent',\n",
    "        'fillOpacity':0.1,\n",
    "        'weight':     1\n",
    "    },\n",
    "    info_mode='on_click'  # only this layer shows a popup\n",
    ")\n",
    "\n",
    "# 4. Legend & Layer Manager\n",
    "m.add_legend(\n",
    "    legend_title='Landuse Classification',\n",
    "    legend_dict=legend_dict,\n",
    "    position='bottomleft'\n",
    ")\n",
    "m.add_layer_manager()\n",
    "\n",
    "m\n"
   ]
  }
 ],
 "metadata": {
  "kernelspec": {
   "display_name": "Python 3",
   "language": "python",
   "name": "python3"
  },
  "language_info": {
   "codemirror_mode": {
    "name": "ipython",
    "version": 3
   },
   "file_extension": ".py",
   "mimetype": "text/x-python",
   "name": "python",
   "nbconvert_exporter": "python",
   "pygments_lexer": "ipython3",
   "version": "3.10.17"
  }
 },
 "nbformat": 4,
 "nbformat_minor": 5
}
