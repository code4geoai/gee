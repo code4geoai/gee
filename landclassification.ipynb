{
 "cells": [
  {
   "cell_type": "markdown",
   "id": "f0eeec61",
   "metadata": {},
   "source": [
    "# Land Cover Classification\n",
    "The original land use mentoined in the Landuse_Ma columns of the massavi is out dated and donot match with the ground realities. The land use and total number of parcels in the given dataset are \n",
    "\n",
    "  | Land Use      | No. of Parcels | Area (Kanal, Approx.) |\n",
    "  |---------------|----------------|------------------------|\n",
    "  | Agriculture   | 5,759          | 32,729                 |\n",
    "  | Stream        | 302            | 822                    |\n",
    "  | Other         | 229            | 1,047                  |\n",
    "  | Road/Street   | 172            | 1,668                  |\n",
    "  | Graveyard     | 29             | 202                    |\n",
    "  | Built-Up      | 24             | 602                    |\n",
    "\n",
    "\n",
    "Some of the anomalies in this dataset are as follow\n",
    "- The type mentioned in Land use column as agricultue has been converted into builtup, not suitable for crop classification dataset.\n",
    "- The type mentioned in Land use column as agricultue has now both builtup and agriculture, should be cleaned to make it suiutable for crop classification.\n",
    "- Some of the on ground agriculture parcels has been recorded as other in Land use column maynot participate in crop classificaiton dataset as per this dataset.\n",
    "## Purpose\n",
    "The purpose of this exercise is to get clean agriculture parcels dataset for crop classificaiton using artifical intelligence algorithms like random forest, SVM etc. \n",
    "\n",
    "## Data Cleansing Methodology:\n",
    "Since the agriculture column in the Land use column does not give us a clear idea of the current land type therefore, we have to use other means to computer the current land use type. Therefore, as first step we will filter the 5,759 agriculter parcels and compute NDVI and NDBI.\n",
    "1. Get imagery from the ee for the time peroid. In this case i got 135 images for the year 2024. \n",
    "2. Pure agriculture: if NDVI is >= 3 and <= 7  the current_land_type is agriculture\n",
    "3. Pure builtup: if the NDBI value is >0 and NDVI value is <=2 the current_land_type is builtup\n",
    "4. Mix: compute the percentage parcel coverage of NDVI and NDBI and use a threshold to classify either builtup or agriculture\n",
    "The resultant dataset will be clean revised agriculture parcels and can be used for crop classification.\n",
    "\n",
    "\n",
    "\n"
   ]
  },
  {
   "cell_type": "code",
   "execution_count": 43,
   "id": "abfa99ca",
   "metadata": {},
   "outputs": [
    {
     "data": {
      "text/html": [
       "\n",
       "            <style>\n",
       "                .geemap-dark {\n",
       "                    --jp-widgets-color: white;\n",
       "                    --jp-widgets-label-color: white;\n",
       "                    --jp-ui-font-color1: white;\n",
       "                    --jp-layout-color2: #454545;\n",
       "                    background-color: #383838;\n",
       "                }\n",
       "\n",
       "                .geemap-dark .jupyter-button {\n",
       "                    --jp-layout-color3: #383838;\n",
       "                }\n",
       "\n",
       "                .geemap-colab {\n",
       "                    background-color: var(--colab-primary-surface-color, white);\n",
       "                }\n",
       "\n",
       "                .geemap-colab .jupyter-button {\n",
       "                    --jp-layout-color3: var(--colab-primary-surface-color, white);\n",
       "                }\n",
       "            </style>\n",
       "            "
      ],
      "text/plain": [
       "<IPython.core.display.HTML object>"
      ]
     },
     "metadata": {},
     "output_type": "display_data"
    }
   ],
   "source": [
    "#Step 1: Load the original dataset having Landuse_Ma columon. This dataset also have crop information. \n",
    "\n",
    "import geopandas as gpd\n",
    "import pandas as pd\n",
    "import numpy as np\n",
    "import leafmap\n",
    "import geemap\n",
    "import ee"
   ]
  },
  {
   "cell_type": "code",
   "execution_count": 3,
   "id": "2ece1198",
   "metadata": {},
   "outputs": [
    {
     "data": {
      "text/html": [
       "\n",
       "            <style>\n",
       "                .geemap-dark {\n",
       "                    --jp-widgets-color: white;\n",
       "                    --jp-widgets-label-color: white;\n",
       "                    --jp-ui-font-color1: white;\n",
       "                    --jp-layout-color2: #454545;\n",
       "                    background-color: #383838;\n",
       "                }\n",
       "\n",
       "                .geemap-dark .jupyter-button {\n",
       "                    --jp-layout-color3: #383838;\n",
       "                }\n",
       "\n",
       "                .geemap-colab {\n",
       "                    background-color: var(--colab-primary-surface-color, white);\n",
       "                }\n",
       "\n",
       "                .geemap-colab .jupyter-button {\n",
       "                    --jp-layout-color3: var(--colab-primary-surface-color, white);\n",
       "                }\n",
       "            </style>\n",
       "            "
      ],
      "text/plain": [
       "<IPython.core.display.HTML object>"
      ]
     },
     "metadata": {},
     "output_type": "display_data"
    },
    {
     "data": {
      "text/plain": [
       "Landuse_Ma\n",
       "Agriculture     5759\n",
       "Stream           302\n",
       "Other            229\n",
       "Road/Streets     172\n",
       "Graveyard         29\n",
       "Built up          24\n",
       "Name: Landuse_Ma, dtype: int64"
      ]
     },
     "execution_count": 3,
     "metadata": {},
     "output_type": "execute_result"
    }
   ],
   "source": [
    "cropfile = 'pabbi_crop.geojson'\n",
    "gdf = gpd.read_file(cropfile)\n",
    "gdf['Landuse_Ma'].groupby(gdf['Landuse_Ma']).count().sort_values(ascending=False)"
   ]
  },
  {
   "cell_type": "code",
   "execution_count": 4,
   "id": "9ce045c4",
   "metadata": {},
   "outputs": [
    {
     "data": {
      "text/html": [
       "\n",
       "            <style>\n",
       "                .geemap-dark {\n",
       "                    --jp-widgets-color: white;\n",
       "                    --jp-widgets-label-color: white;\n",
       "                    --jp-ui-font-color1: white;\n",
       "                    --jp-layout-color2: #454545;\n",
       "                    background-color: #383838;\n",
       "                }\n",
       "\n",
       "                .geemap-dark .jupyter-button {\n",
       "                    --jp-layout-color3: #383838;\n",
       "                }\n",
       "\n",
       "                .geemap-colab {\n",
       "                    background-color: var(--colab-primary-surface-color, white);\n",
       "                }\n",
       "\n",
       "                .geemap-colab .jupyter-button {\n",
       "                    --jp-layout-color3: var(--colab-primary-surface-color, white);\n",
       "                }\n",
       "            </style>\n",
       "            "
      ],
      "text/plain": [
       "<IPython.core.display.HTML object>"
      ]
     },
     "metadata": {},
     "output_type": "display_data"
    },
    {
     "name": "stdout",
     "output_type": "stream",
     "text": [
      "Total Agriculture Parcels are :5759\n"
     ]
    }
   ],
   "source": [
    "\n",
    "selected_parcels = gdf[gdf['Landuse_Ma'] == 'Agriculture']\n",
    "print(f'Total Agriculture Parcels are :{len(selected_parcels)}') \n",
    "# These are the parcels with Landuse_Ma as Agriculture and will be used for further analysis."
   ]
  },
  {
   "cell_type": "markdown",
   "id": "fc8f49a5",
   "metadata": {},
   "source": [
    "## Data Cleansing\n",
    "1. Calculating NDVI and NDBI of the selected agriculture parcels : 5759."
   ]
  },
  {
   "cell_type": "code",
   "execution_count": 5,
   "id": "c090a0ab",
   "metadata": {},
   "outputs": [
    {
     "data": {
      "text/html": [
       "\n",
       "            <style>\n",
       "                .geemap-dark {\n",
       "                    --jp-widgets-color: white;\n",
       "                    --jp-widgets-label-color: white;\n",
       "                    --jp-ui-font-color1: white;\n",
       "                    --jp-layout-color2: #454545;\n",
       "                    background-color: #383838;\n",
       "                }\n",
       "\n",
       "                .geemap-dark .jupyter-button {\n",
       "                    --jp-layout-color3: #383838;\n",
       "                }\n",
       "\n",
       "                .geemap-colab {\n",
       "                    background-color: var(--colab-primary-surface-color, white);\n",
       "                }\n",
       "\n",
       "                .geemap-colab .jupyter-button {\n",
       "                    --jp-layout-color3: var(--colab-primary-surface-color, white);\n",
       "                }\n",
       "            </style>\n",
       "            "
      ],
      "text/plain": [
       "<IPython.core.display.HTML object>"
      ]
     },
     "metadata": {},
     "output_type": "display_data"
    }
   ],
   "source": [
    "# Lets Convert the gdf of the original file to ee features utilizing earth engine power\n",
    "ee.Initialize()\n",
    "ee.Authenticate()\n",
    "boundary = geemap.gdf_to_ee(gdf) # this is for cliping the images\n",
    "selectedparcels_fc = geemap.gdf_to_ee(selected_parcels) # this is for getting the agriculture parcels features Collection \n"
   ]
  },
  {
   "cell_type": "code",
   "execution_count": 6,
   "id": "4668bd79",
   "metadata": {},
   "outputs": [
    {
     "data": {
      "text/html": [
       "\n",
       "            <style>\n",
       "                .geemap-dark {\n",
       "                    --jp-widgets-color: white;\n",
       "                    --jp-widgets-label-color: white;\n",
       "                    --jp-ui-font-color1: white;\n",
       "                    --jp-layout-color2: #454545;\n",
       "                    background-color: #383838;\n",
       "                }\n",
       "\n",
       "                .geemap-dark .jupyter-button {\n",
       "                    --jp-layout-color3: #383838;\n",
       "                }\n",
       "\n",
       "                .geemap-colab {\n",
       "                    background-color: var(--colab-primary-surface-color, white);\n",
       "                }\n",
       "\n",
       "                .geemap-colab .jupyter-button {\n",
       "                    --jp-layout-color3: var(--colab-primary-surface-color, white);\n",
       "                }\n",
       "            </style>\n",
       "            "
      ],
      "text/plain": [
       "<IPython.core.display.HTML object>"
      ]
     },
     "metadata": {},
     "output_type": "display_data"
    }
   ],
   "source": [
    "# Define a function to get imagery an apply filter\n",
    "def get_collection (start_date,end_date):\n",
    "    collection = ee.ImageCollection('COPERNICUS/S2_SR_HARMONIZED')\n",
    "    filtered_collection = collection.filterDate(start_date, end_date).filterBounds(boundary.geometry()).filter(ee.Filter.lt('CLOUDY_PIXEL_PERCENTAGE', 10))\n",
    "    return filtered_collection"
   ]
  },
  {
   "cell_type": "code",
   "execution_count": 7,
   "id": "319b6367",
   "metadata": {},
   "outputs": [
    {
     "data": {
      "text/html": [
       "\n",
       "            <style>\n",
       "                .geemap-dark {\n",
       "                    --jp-widgets-color: white;\n",
       "                    --jp-widgets-label-color: white;\n",
       "                    --jp-ui-font-color1: white;\n",
       "                    --jp-layout-color2: #454545;\n",
       "                    background-color: #383838;\n",
       "                }\n",
       "\n",
       "                .geemap-dark .jupyter-button {\n",
       "                    --jp-layout-color3: #383838;\n",
       "                }\n",
       "\n",
       "                .geemap-colab {\n",
       "                    background-color: var(--colab-primary-surface-color, white);\n",
       "                }\n",
       "\n",
       "                .geemap-colab .jupyter-button {\n",
       "                    --jp-layout-color3: var(--colab-primary-surface-color, white);\n",
       "                }\n",
       "            </style>\n",
       "            "
      ],
      "text/plain": [
       "<IPython.core.display.HTML object>"
      ]
     },
     "metadata": {},
     "output_type": "display_data"
    }
   ],
   "source": [
    "# defing ndvi , NDBI , BUI and UI indices\n",
    "\n",
    "def get_ndvi(filtered_collection):\n",
    "    # Calculate the annual NDVI from the filtered collection (filtered_collection)\n",
    "    ndvi_collection = filtered_collection.map(lambda img: img.normalizedDifference(['B8', 'B4']).rename('NDVI'))\n",
    "    # Calculate the mean NDVI for the year\n",
    "    mean_ndvi = ndvi_collection.mean()\n",
    "    return mean_ndvi\n",
    "    \n",
    "def get_ndbi(filtered_collection):\n",
    "    # Calculate Normalized Difference Built-up Index (NDBI) (SWIR−NIR)/(SWIR+NIR) from the filtered collection filtered_collection\n",
    "    # NDBI = (B11 - B8) / (B11 + B8)\n",
    "    # Built‑up areas (positive values) vs. vegetation/water (negative)\n",
    "    ndbi_collection = filtered_collection.map(lambda img: img.normalizedDifference(['B11', 'B8']).rename('NDBI'))\n",
    "    # Calculate the mean NDBI for the year\n",
    "    mean_ndbi = ndbi_collection.mean()\n",
    "    return mean_ndbi\n",
    "\n",
    "def get_bui(filtered_collection):\n",
    "    # Calculate the annual Built-Up Index (BUI) for an ee.ImageCollection `filtered_collection`.\n",
    "    # BUI: (B11 + B4 - B8 - B2) / (B11 + B4 + B8 + B2)\n",
    "    # Enhances urban density separation from other land‑covers\n",
    "    bui_collection = filtered_collection.map(lambda img: (img.select('B11').add(img.select('B4')).subtract(img.select('B8'))\n",
    "           .subtract(img.select('B2'))\n",
    "           .divide(\n",
    "               img.select('B11').add(img.select('B4'))\n",
    "                  .add(img.select('B8'))\n",
    "                  .add(img.select('B2'))\n",
    "           )\n",
    "           .rename('BUI')      \n",
    "                    ))\n",
    "    mean_bui = bui_collection.mean()\n",
    "    return mean_bui\n",
    "    \n",
    "def get_ui(filtered_collection):\n",
    "    # Calculate Urban Index (UI) (NDBI−NDVI)/(NDBI+NDVI) for the collection\n",
    "    # Separates built‑up from vegetation more robustly\n",
    "    mean_ndvi = get_ndvi(filtered_collection)\n",
    "    mean_ndbi = get_ndbi(filtered_collection)\n",
    "    mean_ui = mean_ndbi.subtract(mean_ndvi).divide(mean_ndbi.add(mean_ndvi)).rename('UI')\n",
    "    return mean_ui\n",
    "\n"
   ]
  },
  {
   "cell_type": "code",
   "execution_count": 8,
   "id": "c9641659",
   "metadata": {},
   "outputs": [
    {
     "data": {
      "text/html": [
       "\n",
       "            <style>\n",
       "                .geemap-dark {\n",
       "                    --jp-widgets-color: white;\n",
       "                    --jp-widgets-label-color: white;\n",
       "                    --jp-ui-font-color1: white;\n",
       "                    --jp-layout-color2: #454545;\n",
       "                    background-color: #383838;\n",
       "                }\n",
       "\n",
       "                .geemap-dark .jupyter-button {\n",
       "                    --jp-layout-color3: #383838;\n",
       "                }\n",
       "\n",
       "                .geemap-colab {\n",
       "                    background-color: var(--colab-primary-surface-color, white);\n",
       "                }\n",
       "\n",
       "                .geemap-colab .jupyter-button {\n",
       "                    --jp-layout-color3: var(--colab-primary-surface-color, white);\n",
       "                }\n",
       "            </style>\n",
       "            "
      ],
      "text/plain": [
       "<IPython.core.display.HTML object>"
      ]
     },
     "metadata": {},
     "output_type": "display_data"
    }
   ],
   "source": [
    "def get_composite(ndvi_img, ndbi_img, bui_img, ui_img):\n",
    "    \"\"\"\n",
    "    Stack the four annual‐mean index images into one composite,\n",
    "    then clip it to the boundary.\n",
    "    \"\"\"\n",
    "    # 1. Concatenate the four single‐band images\n",
    "    composite_img = ee.Image.cat([ndvi_img, ndbi_img, bui_img, ui_img])\n",
    "    \n",
    "    # 2. Rename the bands in the correct order\n",
    "    composite_img = composite_img.rename(['NDVI','NDBI','BUI','UI'])\n",
    "    \n",
    "    # 3. Clip to your boundary\n",
    "    composite_img = composite_img.clip(boundary.geometry())\n",
    "    \n",
    "    return composite_img\n"
   ]
  },
  {
   "cell_type": "code",
   "execution_count": 9,
   "id": "602ab61f",
   "metadata": {},
   "outputs": [
    {
     "data": {
      "text/html": [
       "\n",
       "            <style>\n",
       "                .geemap-dark {\n",
       "                    --jp-widgets-color: white;\n",
       "                    --jp-widgets-label-color: white;\n",
       "                    --jp-ui-font-color1: white;\n",
       "                    --jp-layout-color2: #454545;\n",
       "                    background-color: #383838;\n",
       "                }\n",
       "\n",
       "                .geemap-dark .jupyter-button {\n",
       "                    --jp-layout-color3: #383838;\n",
       "                }\n",
       "\n",
       "                .geemap-colab {\n",
       "                    background-color: var(--colab-primary-surface-color, white);\n",
       "                }\n",
       "\n",
       "                .geemap-colab .jupyter-button {\n",
       "                    --jp-layout-color3: var(--colab-primary-surface-color, white);\n",
       "                }\n",
       "            </style>\n",
       "            "
      ],
      "text/plain": [
       "<IPython.core.display.HTML object>"
      ]
     },
     "metadata": {},
     "output_type": "display_data"
    }
   ],
   "source": [
    "filtered_collection = get_collection('2024-01-01', '2024-12-31')\n",
    "ndvi_img = get_ndvi(filtered_collection)\n",
    "ndbi_img = get_ndbi(filtered_collection)\n",
    "bui_img = get_bui(filtered_collection)\n",
    "ui_img = get_ui(filtered_collection)\n",
    "\n",
    "composite_img = get_composite(ndvi_img, ndbi_img, bui_img, ui_img)"
   ]
  },
  {
   "cell_type": "code",
   "execution_count": 10,
   "id": "de38ae10",
   "metadata": {},
   "outputs": [
    {
     "data": {
      "text/html": [
       "\n",
       "            <style>\n",
       "                .geemap-dark {\n",
       "                    --jp-widgets-color: white;\n",
       "                    --jp-widgets-label-color: white;\n",
       "                    --jp-ui-font-color1: white;\n",
       "                    --jp-layout-color2: #454545;\n",
       "                    background-color: #383838;\n",
       "                }\n",
       "\n",
       "                .geemap-dark .jupyter-button {\n",
       "                    --jp-layout-color3: #383838;\n",
       "                }\n",
       "\n",
       "                .geemap-colab {\n",
       "                    background-color: var(--colab-primary-surface-color, white);\n",
       "                }\n",
       "\n",
       "                .geemap-colab .jupyter-button {\n",
       "                    --jp-layout-color3: var(--colab-primary-surface-color, white);\n",
       "                }\n",
       "            </style>\n",
       "            "
      ],
      "text/plain": [
       "<IPython.core.display.HTML object>"
      ]
     },
     "metadata": {},
     "output_type": "display_data"
    },
    {
     "data": {
      "text/plain": [
       "135"
      ]
     },
     "execution_count": 10,
     "metadata": {},
     "output_type": "execute_result"
    }
   ],
   "source": [
    "filtered_collection.size().getInfo() # this will give the number of images in the collection"
   ]
  },
  {
   "cell_type": "markdown",
   "id": "2e4aaeb7",
   "metadata": {},
   "source": [
    "## Create a binary mask for each pixel in the composite.\n",
    "1. if the NDVI value of a pixel is greater than 0.25 it is agricultue pixel\n",
    "2. if the NDBI value of a pixel is greater than 0.0 than it is a builtup pixel"
   ]
  },
  {
   "cell_type": "code",
   "execution_count": 11,
   "id": "96bf89df",
   "metadata": {},
   "outputs": [
    {
     "data": {
      "text/html": [
       "\n",
       "            <style>\n",
       "                .geemap-dark {\n",
       "                    --jp-widgets-color: white;\n",
       "                    --jp-widgets-label-color: white;\n",
       "                    --jp-ui-font-color1: white;\n",
       "                    --jp-layout-color2: #454545;\n",
       "                    background-color: #383838;\n",
       "                }\n",
       "\n",
       "                .geemap-dark .jupyter-button {\n",
       "                    --jp-layout-color3: #383838;\n",
       "                }\n",
       "\n",
       "                .geemap-colab {\n",
       "                    background-color: var(--colab-primary-surface-color, white);\n",
       "                }\n",
       "\n",
       "                .geemap-colab .jupyter-button {\n",
       "                    --jp-layout-color3: var(--colab-primary-surface-color, white);\n",
       "                }\n",
       "            </style>\n",
       "            "
      ],
      "text/plain": [
       "<IPython.core.display.HTML object>"
      ]
     },
     "metadata": {},
     "output_type": "display_data"
    }
   ],
   "source": [
    "builtmask = composite_img.select('BUI').gt(0)\n",
    "agrimask = composite_img.select('NDVI').gt(0.25)"
   ]
  },
  {
   "cell_type": "code",
   "execution_count": 12,
   "id": "97fda530",
   "metadata": {},
   "outputs": [
    {
     "data": {
      "text/html": [
       "\n",
       "            <style>\n",
       "                .geemap-dark {\n",
       "                    --jp-widgets-color: white;\n",
       "                    --jp-widgets-label-color: white;\n",
       "                    --jp-ui-font-color1: white;\n",
       "                    --jp-layout-color2: #454545;\n",
       "                    background-color: #383838;\n",
       "                }\n",
       "\n",
       "                .geemap-dark .jupyter-button {\n",
       "                    --jp-layout-color3: #383838;\n",
       "                }\n",
       "\n",
       "                .geemap-colab {\n",
       "                    background-color: var(--colab-primary-surface-color, white);\n",
       "                }\n",
       "\n",
       "                .geemap-colab .jupyter-button {\n",
       "                    --jp-layout-color3: var(--colab-primary-surface-color, white);\n",
       "                }\n",
       "            </style>\n",
       "            "
      ],
      "text/plain": [
       "<IPython.core.display.HTML object>"
      ]
     },
     "metadata": {},
     "output_type": "display_data"
    }
   ],
   "source": [
    "  # Getting pixel count for calculating percentage of parcel and plx mean for pure agri/built \n",
    "def sum_count(composite_img, builtmask, agrimask, parcels_fc):\n",
    "    \n",
    "    built = builtmask.rename('built_count').toInt()\n",
    "    agri  = agrimask.rename('agri_count').toInt()\n",
    "\n",
    "    mask_img = ee.Image.cat([built, agri])\n",
    "\n",
    "    pixel_sum = mask_img.reduceRegions(\n",
    "        collection=parcels_fc,\n",
    "        reducer=ee.Reducer.sum(),\n",
    "        scale=10,\n",
    "        crs=composite_img.projection()\n",
    "    )\n",
    "    return pixel_sum\n",
    "\n",
    "def mean_indices(composite_img, parcels_fc):\n",
    "    ndvi = composite_img.select('NDVI')\n",
    "    ndbi = composite_img.select('NDBI')\n",
    "    ui = composite_img.select('UI')\n",
    "    bui = composite_img.select('BUI')\n",
    "\n",
    "    index_img = ee.Image.cat([ndvi,ndbi,bui,ui])\n",
    "    mean_img = index_img.reduceRegions(\n",
    "        collection=parcels_fc,\n",
    "        reducer=ee.Reducer.mean(),\n",
    "        scale=10,\n",
    "        crs=composite_img.projection()\n",
    "    )\n",
    "    return mean_img\n"
   ]
  },
  {
   "cell_type": "code",
   "execution_count": 13,
   "id": "73a5612e",
   "metadata": {},
   "outputs": [
    {
     "data": {
      "text/html": [
       "\n",
       "            <style>\n",
       "                .geemap-dark {\n",
       "                    --jp-widgets-color: white;\n",
       "                    --jp-widgets-label-color: white;\n",
       "                    --jp-ui-font-color1: white;\n",
       "                    --jp-layout-color2: #454545;\n",
       "                    background-color: #383838;\n",
       "                }\n",
       "\n",
       "                .geemap-dark .jupyter-button {\n",
       "                    --jp-layout-color3: #383838;\n",
       "                }\n",
       "\n",
       "                .geemap-colab {\n",
       "                    background-color: var(--colab-primary-surface-color, white);\n",
       "                }\n",
       "\n",
       "                .geemap-colab .jupyter-button {\n",
       "                    --jp-layout-color3: var(--colab-primary-surface-color, white);\n",
       "                }\n",
       "            </style>\n",
       "            "
      ],
      "text/plain": [
       "<IPython.core.display.HTML object>"
      ]
     },
     "metadata": {},
     "output_type": "display_data"
    }
   ],
   "source": [
    "pxlsum = sum_count(composite_img, builtmask, agrimask, selectedparcels_fc)\n",
    "pxlmean = mean_indices(composite_img, selectedparcels_fc)\n",
    "# Convert the ee.FeatureCollection to a pandas DataFrame\n",
    "pxlsum_gdf= geemap.ee_to_gdf(pxlsum)\n",
    "pxlmean_gdf= geemap.ee_to_gdf(pxlmean)  \n"
   ]
  },
  {
   "cell_type": "code",
   "execution_count": 16,
   "id": "81da174b",
   "metadata": {},
   "outputs": [
    {
     "data": {
      "text/html": [
       "\n",
       "            <style>\n",
       "                .geemap-dark {\n",
       "                    --jp-widgets-color: white;\n",
       "                    --jp-widgets-label-color: white;\n",
       "                    --jp-ui-font-color1: white;\n",
       "                    --jp-layout-color2: #454545;\n",
       "                    background-color: #383838;\n",
       "                }\n",
       "\n",
       "                .geemap-dark .jupyter-button {\n",
       "                    --jp-layout-color3: #383838;\n",
       "                }\n",
       "\n",
       "                .geemap-colab {\n",
       "                    background-color: var(--colab-primary-surface-color, white);\n",
       "                }\n",
       "\n",
       "                .geemap-colab .jupyter-button {\n",
       "                    --jp-layout-color3: var(--colab-primary-surface-color, white);\n",
       "                }\n",
       "            </style>\n",
       "            "
      ],
      "text/plain": [
       "<IPython.core.display.HTML object>"
      ]
     },
     "metadata": {},
     "output_type": "display_data"
    },
    {
     "name": "stdout",
     "output_type": "stream",
     "text": [
      "['geometry', 'Area_Acre', 'Crop_Type', 'FFID', 'Landuse_Ma', 'Mouza_Name', 'Parcel_ID', 'agri_count', 'built_count', 'NDVI', 'NDBI', 'BUI', 'UI']\n"
     ]
    }
   ],
   "source": [
    "# since both dataframes have duplicate columns therefore to avoid duplicaiton \n",
    "# we will select the columns we need for merging\n",
    "mean_cols = ['geometry','NDVI','NDBI','BUI','UI']\n",
    "plxmean_small = pxlmean_gdf[mean_cols]\n",
    "\n",
    "#Now we will merge the two dataframes\n",
    "stats_gdf = pxlsum_gdf.merge(plxmean_small, on='geometry', how='left')\n",
    "\n",
    "print(stats_gdf.columns.tolist())"
   ]
  },
  {
   "cell_type": "code",
   "execution_count": 17,
   "id": "4c9ae6e7",
   "metadata": {},
   "outputs": [
    {
     "data": {
      "text/html": [
       "\n",
       "            <style>\n",
       "                .geemap-dark {\n",
       "                    --jp-widgets-color: white;\n",
       "                    --jp-widgets-label-color: white;\n",
       "                    --jp-ui-font-color1: white;\n",
       "                    --jp-layout-color2: #454545;\n",
       "                    background-color: #383838;\n",
       "                }\n",
       "\n",
       "                .geemap-dark .jupyter-button {\n",
       "                    --jp-layout-color3: #383838;\n",
       "                }\n",
       "\n",
       "                .geemap-colab {\n",
       "                    background-color: var(--colab-primary-surface-color, white);\n",
       "                }\n",
       "\n",
       "                .geemap-colab .jupyter-button {\n",
       "                    --jp-layout-color3: var(--colab-primary-surface-color, white);\n",
       "                }\n",
       "            </style>\n",
       "            "
      ],
      "text/plain": [
       "<IPython.core.display.HTML object>"
      ]
     },
     "metadata": {},
     "output_type": "display_data"
    }
   ],
   "source": [
    "# Now stats_gdf has columns 'built_count' and 'agri_count' per parcel\n",
    "# Lets compute the percentage of built and agri land\n",
    "stats_gdf['pct_built'] = stats_gdf['built_count'] / (stats_gdf['built_count'] + stats_gdf['agri_count'])\n",
    "stats_gdf['pct_agri']  = stats_gdf['agri_count']  / (stats_gdf['built_count'] + stats_gdf['agri_count'])"
   ]
  },
  {
   "cell_type": "code",
   "execution_count": 18,
   "id": "ee4db75c",
   "metadata": {},
   "outputs": [
    {
     "data": {
      "text/html": [
       "\n",
       "            <style>\n",
       "                .geemap-dark {\n",
       "                    --jp-widgets-color: white;\n",
       "                    --jp-widgets-label-color: white;\n",
       "                    --jp-ui-font-color1: white;\n",
       "                    --jp-layout-color2: #454545;\n",
       "                    background-color: #383838;\n",
       "                }\n",
       "\n",
       "                .geemap-dark .jupyter-button {\n",
       "                    --jp-layout-color3: #383838;\n",
       "                }\n",
       "\n",
       "                .geemap-colab {\n",
       "                    background-color: var(--colab-primary-surface-color, white);\n",
       "                }\n",
       "\n",
       "                .geemap-colab .jupyter-button {\n",
       "                    --jp-layout-color3: var(--colab-primary-surface-color, white);\n",
       "                }\n",
       "            </style>\n",
       "            "
      ],
      "text/plain": [
       "<IPython.core.display.HTML object>"
      ]
     },
     "metadata": {},
     "output_type": "display_data"
    },
    {
     "data": {
      "text/plain": [
       "['geometry',\n",
       " 'Area_Acre',\n",
       " 'Crop_Type',\n",
       " 'FFID',\n",
       " 'Landuse_Ma',\n",
       " 'Mouza_Name',\n",
       " 'Parcel_ID',\n",
       " 'agri_count',\n",
       " 'built_count',\n",
       " 'NDVI',\n",
       " 'NDBI',\n",
       " 'BUI',\n",
       " 'UI',\n",
       " 'pct_built',\n",
       " 'pct_agri']"
      ]
     },
     "execution_count": 18,
     "metadata": {},
     "output_type": "execute_result"
    }
   ],
   "source": [
    "stats_gdf.columns.tolist()"
   ]
  },
  {
   "cell_type": "code",
   "execution_count": 53,
   "id": "86580e1a",
   "metadata": {},
   "outputs": [
    {
     "data": {
      "text/html": [
       "\n",
       "            <style>\n",
       "                .geemap-dark {\n",
       "                    --jp-widgets-color: white;\n",
       "                    --jp-widgets-label-color: white;\n",
       "                    --jp-ui-font-color1: white;\n",
       "                    --jp-layout-color2: #454545;\n",
       "                    background-color: #383838;\n",
       "                }\n",
       "\n",
       "                .geemap-dark .jupyter-button {\n",
       "                    --jp-layout-color3: #383838;\n",
       "                }\n",
       "\n",
       "                .geemap-colab {\n",
       "                    background-color: var(--colab-primary-surface-color, white);\n",
       "                }\n",
       "\n",
       "                .geemap-colab .jupyter-button {\n",
       "                    --jp-layout-color3: var(--colab-primary-surface-color, white);\n",
       "                }\n",
       "            </style>\n",
       "            "
      ],
      "text/plain": [
       "<IPython.core.display.HTML object>"
      ]
     },
     "metadata": {},
     "output_type": "display_data"
    },
    {
     "name": "stdout",
     "output_type": "stream",
     "text": [
      "landuse_class\n",
      "Pure-Agriculture       2945\n",
      "Partial-Agriculture    1269\n",
      "Pure-Builtup            810\n",
      "Partial-Builtup         643\n",
      "Mixed                    92\n",
      "Name: count, dtype: int64\n"
     ]
    }
   ],
   "source": [
    "def classify_parcel(row,\n",
    "                    ndvi_barren_thresh=0.2,\n",
    "                    ui_built_thresh=0.1,\n",
    "                    maj_thresh=0.75,\n",
    "                    min_thresh=0.25):\n",
    "    ndvi = row['NDVI']\n",
    "    ui   = row['UI']\n",
    "    pa   = row['pct_agri']\n",
    "    pb   = row['pct_built']\n",
    "\n",
    "    # 1a) Absolutely pure agriculture\n",
    "    if pa == 1.0:\n",
    "        return 'Pure-Agriculture'\n",
    "\n",
    "    # 1b) Absolutely pure built-up\n",
    "    if pb == 1.0:\n",
    "        return 'Pure-Builtup'\n",
    "\n",
    "    # 2a) Strong pure agriculture\n",
    "    if pa >= maj_thresh:\n",
    "        return 'Pure-Agriculture'\n",
    "\n",
    "    # 2b) Strong pure built-up\n",
    "    if pb >= maj_thresh:\n",
    "        return 'Pure-Builtup'\n",
    "\n",
    "    # 3) Barren\n",
    "    if ndvi < ndvi_barren_thresh and abs(ui) < ui_built_thresh:\n",
    "        return 'Barren'\n",
    "\n",
    "    # 4a) Partial agriculture\n",
    "    if pa >= min_thresh and pa > pb:\n",
    "        return 'Partial-Agriculture'\n",
    "\n",
    "    # 4b) Partial built-up\n",
    "    if pb >= min_thresh and pb > pa:\n",
    "        return 'Partial-Builtup'\n",
    "\n",
    "    # 5) Mixed / no clear leader\n",
    "    return 'Mixed'\n",
    "\n",
    "# Apply to your GeoDataFrame\n",
    "stats_gdf['landuse_class'] = stats_gdf.apply(classify_parcel, axis=1)\n",
    "\n",
    "# Quick tally\n",
    "print(stats_gdf['landuse_class'].value_counts())\n"
   ]
  },
  {
   "cell_type": "code",
   "execution_count": 54,
   "id": "acea75f8",
   "metadata": {},
   "outputs": [
    {
     "data": {
      "text/html": [
       "\n",
       "            <style>\n",
       "                .geemap-dark {\n",
       "                    --jp-widgets-color: white;\n",
       "                    --jp-widgets-label-color: white;\n",
       "                    --jp-ui-font-color1: white;\n",
       "                    --jp-layout-color2: #454545;\n",
       "                    background-color: #383838;\n",
       "                }\n",
       "\n",
       "                .geemap-dark .jupyter-button {\n",
       "                    --jp-layout-color3: #383838;\n",
       "                }\n",
       "\n",
       "                .geemap-colab {\n",
       "                    background-color: var(--colab-primary-surface-color, white);\n",
       "                }\n",
       "\n",
       "                .geemap-colab .jupyter-button {\n",
       "                    --jp-layout-color3: var(--colab-primary-surface-color, white);\n",
       "                }\n",
       "            </style>\n",
       "            "
      ],
      "text/plain": [
       "<IPython.core.display.HTML object>"
      ]
     },
     "metadata": {},
     "output_type": "display_data"
    }
   ],
   "source": [
    "pure_agri = stats_gdf[stats_gdf['landuse_class'] == 'Pure-Agriculture']\n",
    "pure_built = stats_gdf[stats_gdf['landuse_class'] == 'Pure-Builtup']\n",
    "partial_agri = stats_gdf[stats_gdf['landuse_class'] == 'Partial-Agriculture']\n",
    "partial_built = stats_gdf[stats_gdf['landuse_class'] == 'Partial-Builtup']\n",
    "mixed = stats_gdf[stats_gdf['landuse_class'] == 'Mixed']\n",
    "barren = stats_gdf[stats_gdf['landuse_class'] == 'Barren']"
   ]
  },
  {
   "cell_type": "code",
   "execution_count": null,
   "id": "22d15103",
   "metadata": {},
   "outputs": [
    {
     "data": {
      "text/html": [
       "\n",
       "            <style>\n",
       "                .geemap-dark {\n",
       "                    --jp-widgets-color: white;\n",
       "                    --jp-widgets-label-color: white;\n",
       "                    --jp-ui-font-color1: white;\n",
       "                    --jp-layout-color2: #454545;\n",
       "                    background-color: #383838;\n",
       "                }\n",
       "\n",
       "                .geemap-dark .jupyter-button {\n",
       "                    --jp-layout-color3: #383838;\n",
       "                }\n",
       "\n",
       "                .geemap-colab {\n",
       "                    background-color: var(--colab-primary-surface-color, white);\n",
       "                }\n",
       "\n",
       "                .geemap-colab .jupyter-button {\n",
       "                    --jp-layout-color3: var(--colab-primary-surface-color, white);\n",
       "                }\n",
       "            </style>\n",
       "            "
      ],
      "text/plain": [
       "<IPython.core.display.HTML object>"
      ]
     },
     "metadata": {},
     "output_type": "display_data"
    },
    {
     "data": {
      "application/vnd.jupyter.widget-view+json": {
       "model_id": "55836c1a3eae42bdb0edc7c811f9a72b",
       "version_major": 2,
       "version_minor": 0
      },
      "text/plain": [
       "Map(center=[37.5, 70], controls=(ZoomControl(options=['position', 'zoom_in_text', 'zoom_in_title', 'zoom_out_t…"
      ]
     },
     "execution_count": 67,
     "metadata": {},
     "output_type": "execute_result"
    }
   ],
   "source": [
    "m = leafmap.Map(center=(37.5, 70), zoom=6)\n",
    "m.add_basemap('Google Satellite')\n",
    "\n",
    "# 1. Create a minimal GeoDataFrame with only geometry + landuse_class\n",
    "popup_gdf = stats_gdf[['geometry', 'landuse_class']].copy()\n",
    "\n",
    "\n",
    "legend_dict = {\n",
    "    'Pure Agriculture':   '#00AA00',  # dark green\n",
    "    'Pure Builtup':       '#0000FF',  # blue\n",
    "    'Partial Agriculture':'#FFA500',  # orange\n",
    "    'Partial Builtup':    '#800080',  # purple\n",
    "    'Mixed':              '#FFFF00',  # yellow\n",
    "    'Barren':             '#808080',  # gray, if you have that class\n",
    "}\n",
    "\n",
    "\n",
    "m.add_gdf(\n",
    "    popup_gdf,\n",
    "    layer_name='Landuse Class',\n",
    "    style={                      # pick any style you like\n",
    "        'color':   'black',\n",
    "        'fillColor':'transparent',\n",
    "        'weight':  1\n",
    "    },\n",
    "    zoom_to_layer=False,\n",
    "    info_mode='on_click'        # show popup when you click\n",
    ")\n",
    "\n",
    "# Pure Agriculture\n",
    "m.add_gdf(\n",
    "    pure_agri,\n",
    "    layer_name='Pure Agriculture',\n",
    "    style={\n",
    "        'color': 'green',      # border\n",
    "        'fillColor': 'green',  # interior\n",
    "        'fillOpacity': 0.4,\n",
    "        'weight': 1\n",
    "    },\n",
    "    zoom_to_layer=True, \n",
    ")\n",
    "\n",
    "# Pure Builtup\n",
    "m.add_gdf(\n",
    "    pure_built,\n",
    "    layer_name='Pure Builtup',\n",
    "    style={\n",
    "        'color': 'blue',\n",
    "        'fillColor': 'blue',\n",
    "        'fillOpacity': 0.4,\n",
    "        'weight': 1\n",
    "    }, info_mode = 'off'\n",
    "    \n",
    ")\n",
    "\n",
    "# Partial Agriculture\n",
    "m.add_gdf(\n",
    "    partial_agri,\n",
    "    layer_name='Partial Agriculture',\n",
    "    style={\n",
    "        'color': 'orange',\n",
    "        'fillColor': 'orange',\n",
    "        'fillOpacity': 0.4,\n",
    "        'weight': 1\n",
    "    },info_mode = 'off'\n",
    "    \n",
    ")\n",
    "\n",
    "# Partial Builtup\n",
    "m.add_gdf(\n",
    "    partial_built,\n",
    "    layer_name='Partial Builtup',\n",
    "    style={\n",
    "        'color': 'purple',\n",
    "        'fillColor': 'purple',\n",
    "        'fillOpacity': 0.4,\n",
    "        'weight': 1\n",
    "    },info_mode = 'off'\n",
    "    \n",
    ")\n",
    "\n",
    "# Mixed\n",
    "m.add_gdf(\n",
    "    mixed,\n",
    "    layer_name='Mixed',\n",
    "    style={\n",
    "        'color': 'yellow',\n",
    "        'fillColor': 'yellow',\n",
    "        'fillOpacity': 0.4,\n",
    "        'weight': 1\n",
    "    },info_mode = 'off'\n",
    "    \n",
    ")\n",
    "m.add_legend(\n",
    "    legend_title='Landuse Classification',\n",
    "    legend_dict=legend_dict,\n",
    "    position='bottomleft'\n",
    ")\n",
    "\n",
    "m\n",
    "\n",
    "\n"
   ]
  },
  {
   "cell_type": "code",
   "execution_count": 20,
   "id": "c049efb1",
   "metadata": {},
   "outputs": [
    {
     "data": {
      "text/html": [
       "\n",
       "            <style>\n",
       "                .geemap-dark {\n",
       "                    --jp-widgets-color: white;\n",
       "                    --jp-widgets-label-color: white;\n",
       "                    --jp-ui-font-color1: white;\n",
       "                    --jp-layout-color2: #454545;\n",
       "                    background-color: #383838;\n",
       "                }\n",
       "\n",
       "                .geemap-dark .jupyter-button {\n",
       "                    --jp-layout-color3: #383838;\n",
       "                }\n",
       "\n",
       "                .geemap-colab {\n",
       "                    background-color: var(--colab-primary-surface-color, white);\n",
       "                }\n",
       "\n",
       "                .geemap-colab .jupyter-button {\n",
       "                    --jp-layout-color3: var(--colab-primary-surface-color, white);\n",
       "                }\n",
       "            </style>\n",
       "            "
      ],
      "text/plain": [
       "<IPython.core.display.HTML object>"
      ]
     },
     "metadata": {},
     "output_type": "display_data"
    },
    {
     "data": {
      "text/html": [
       "<div>\n",
       "<style scoped>\n",
       "    .dataframe tbody tr th:only-of-type {\n",
       "        vertical-align: middle;\n",
       "    }\n",
       "\n",
       "    .dataframe tbody tr th {\n",
       "        vertical-align: top;\n",
       "    }\n",
       "\n",
       "    .dataframe thead th {\n",
       "        text-align: right;\n",
       "    }\n",
       "</style>\n",
       "<table border=\"1\" class=\"dataframe\">\n",
       "  <thead>\n",
       "    <tr style=\"text-align: right;\">\n",
       "      <th></th>\n",
       "      <th>geometry</th>\n",
       "      <th>Area_Acre</th>\n",
       "      <th>Crop_Type</th>\n",
       "      <th>FFID</th>\n",
       "      <th>Landuse_Ma</th>\n",
       "      <th>Mouza_Name</th>\n",
       "      <th>Parcel_ID</th>\n",
       "      <th>agri_count</th>\n",
       "      <th>built_count</th>\n",
       "      <th>NDVI</th>\n",
       "      <th>NDBI</th>\n",
       "      <th>BUI</th>\n",
       "      <th>UI</th>\n",
       "      <th>pct_built</th>\n",
       "      <th>pct_agri</th>\n",
       "      <th>landuse_class</th>\n",
       "    </tr>\n",
       "  </thead>\n",
       "  <tbody>\n",
       "    <tr>\n",
       "      <th>0</th>\n",
       "      <td>POLYGON ((71.74996 34.03193, 71.75027 34.03195...</td>\n",
       "      <td>0.101785</td>\n",
       "      <td>None</td>\n",
       "      <td>1</td>\n",
       "      <td>Agriculture</td>\n",
       "      <td>Khushmaqam</td>\n",
       "      <td>668</td>\n",
       "      <td>1.152941</td>\n",
       "      <td>4.980392</td>\n",
       "      <td>0.224979</td>\n",
       "      <td>-0.011819</td>\n",
       "      <td>0.040415</td>\n",
       "      <td>-1.152070</td>\n",
       "      <td>0.812020</td>\n",
       "      <td>0.187980</td>\n",
       "      <td>Partial-Builtup</td>\n",
       "    </tr>\n",
       "    <tr>\n",
       "      <th>1</th>\n",
       "      <td>POLYGON ((71.74868 34.03205, 71.74869 34.03195...</td>\n",
       "      <td>0.315557</td>\n",
       "      <td>None</td>\n",
       "      <td>3</td>\n",
       "      <td>Agriculture</td>\n",
       "      <td>Khushmaqam</td>\n",
       "      <td>632</td>\n",
       "      <td>7.882353</td>\n",
       "      <td>12.996078</td>\n",
       "      <td>0.268993</td>\n",
       "      <td>-0.000361</td>\n",
       "      <td>0.046918</td>\n",
       "      <td>-0.967483</td>\n",
       "      <td>0.622464</td>\n",
       "      <td>0.377536</td>\n",
       "      <td>Partial-Builtup</td>\n",
       "    </tr>\n",
       "    <tr>\n",
       "      <th>2</th>\n",
       "      <td>POLYGON ((71.75021 34.03218, 71.75022 34.0321,...</td>\n",
       "      <td>0.187644</td>\n",
       "      <td>None</td>\n",
       "      <td>4</td>\n",
       "      <td>Agriculture</td>\n",
       "      <td>Khushmaqam</td>\n",
       "      <td>669</td>\n",
       "      <td>5.988235</td>\n",
       "      <td>9.149020</td>\n",
       "      <td>0.260441</td>\n",
       "      <td>-0.005099</td>\n",
       "      <td>0.042763</td>\n",
       "      <td>-1.030890</td>\n",
       "      <td>0.604404</td>\n",
       "      <td>0.395596</td>\n",
       "      <td>Partial-Builtup</td>\n",
       "    </tr>\n",
       "    <tr>\n",
       "      <th>3</th>\n",
       "      <td>POLYGON ((71.75401 34.03224, 71.75403 34.03219...</td>\n",
       "      <td>0.161568</td>\n",
       "      <td>None</td>\n",
       "      <td>5</td>\n",
       "      <td>Agriculture</td>\n",
       "      <td>Khushmaqam</td>\n",
       "      <td>693</td>\n",
       "      <td>6.192157</td>\n",
       "      <td>1.698039</td>\n",
       "      <td>0.492108</td>\n",
       "      <td>-0.161509</td>\n",
       "      <td>-0.095039</td>\n",
       "      <td>-1.924145</td>\n",
       "      <td>0.215209</td>\n",
       "      <td>0.784791</td>\n",
       "      <td>Pure-Agriculture</td>\n",
       "    </tr>\n",
       "    <tr>\n",
       "      <th>4</th>\n",
       "      <td>POLYGON ((71.74971 34.03192, 71.74996 34.03193...</td>\n",
       "      <td>0.229336</td>\n",
       "      <td>None</td>\n",
       "      <td>6</td>\n",
       "      <td>Agriculture</td>\n",
       "      <td>Khushmaqam</td>\n",
       "      <td>667</td>\n",
       "      <td>2.109804</td>\n",
       "      <td>10.537255</td>\n",
       "      <td>0.191511</td>\n",
       "      <td>-0.012476</td>\n",
       "      <td>0.038271</td>\n",
       "      <td>-1.600421</td>\n",
       "      <td>0.833178</td>\n",
       "      <td>0.166822</td>\n",
       "      <td>Partial-Builtup</td>\n",
       "    </tr>\n",
       "  </tbody>\n",
       "</table>\n",
       "</div>"
      ],
      "text/plain": [
       "                                            geometry  Area_Acre Crop_Type  \\\n",
       "0  POLYGON ((71.74996 34.03193, 71.75027 34.03195...   0.101785      None   \n",
       "1  POLYGON ((71.74868 34.03205, 71.74869 34.03195...   0.315557      None   \n",
       "2  POLYGON ((71.75021 34.03218, 71.75022 34.0321,...   0.187644      None   \n",
       "3  POLYGON ((71.75401 34.03224, 71.75403 34.03219...   0.161568      None   \n",
       "4  POLYGON ((71.74971 34.03192, 71.74996 34.03193...   0.229336      None   \n",
       "\n",
       "   FFID   Landuse_Ma  Mouza_Name  Parcel_ID  agri_count  built_count  \\\n",
       "0     1  Agriculture  Khushmaqam        668    1.152941     4.980392   \n",
       "1     3  Agriculture  Khushmaqam        632    7.882353    12.996078   \n",
       "2     4  Agriculture  Khushmaqam        669    5.988235     9.149020   \n",
       "3     5  Agriculture  Khushmaqam        693    6.192157     1.698039   \n",
       "4     6  Agriculture  Khushmaqam        667    2.109804    10.537255   \n",
       "\n",
       "       NDVI      NDBI       BUI        UI  pct_built  pct_agri  \\\n",
       "0  0.224979 -0.011819  0.040415 -1.152070   0.812020  0.187980   \n",
       "1  0.268993 -0.000361  0.046918 -0.967483   0.622464  0.377536   \n",
       "2  0.260441 -0.005099  0.042763 -1.030890   0.604404  0.395596   \n",
       "3  0.492108 -0.161509 -0.095039 -1.924145   0.215209  0.784791   \n",
       "4  0.191511 -0.012476  0.038271 -1.600421   0.833178  0.166822   \n",
       "\n",
       "      landuse_class  \n",
       "0   Partial-Builtup  \n",
       "1   Partial-Builtup  \n",
       "2   Partial-Builtup  \n",
       "3  Pure-Agriculture  \n",
       "4   Partial-Builtup  "
      ]
     },
     "execution_count": 20,
     "metadata": {},
     "output_type": "execute_result"
    }
   ],
   "source": [
    "stats_gdf.head()"
   ]
  },
  {
   "cell_type": "code",
   "execution_count": 39,
   "id": "e3ba5609",
   "metadata": {},
   "outputs": [
    {
     "data": {
      "text/html": [
       "\n",
       "            <style>\n",
       "                .geemap-dark {\n",
       "                    --jp-widgets-color: white;\n",
       "                    --jp-widgets-label-color: white;\n",
       "                    --jp-ui-font-color1: white;\n",
       "                    --jp-layout-color2: #454545;\n",
       "                    background-color: #383838;\n",
       "                }\n",
       "\n",
       "                .geemap-dark .jupyter-button {\n",
       "                    --jp-layout-color3: #383838;\n",
       "                }\n",
       "\n",
       "                .geemap-colab {\n",
       "                    background-color: var(--colab-primary-surface-color, white);\n",
       "                }\n",
       "\n",
       "                .geemap-colab .jupyter-button {\n",
       "                    --jp-layout-color3: var(--colab-primary-surface-color, white);\n",
       "                }\n",
       "            </style>\n",
       "            "
      ],
      "text/plain": [
       "<IPython.core.display.HTML object>"
      ]
     },
     "metadata": {},
     "output_type": "display_data"
    }
   ],
   "source": [
    "stats_gdf.to_file('Pabbi_RevisedLandtype.geojson', driver='GeoJSON')"
   ]
  },
  {
   "cell_type": "code",
   "execution_count": 132,
   "id": "e701258d",
   "metadata": {},
   "outputs": [
    {
     "data": {
      "text/html": [
       "\n",
       "            <style>\n",
       "                .geemap-dark {\n",
       "                    --jp-widgets-color: white;\n",
       "                    --jp-widgets-label-color: white;\n",
       "                    --jp-ui-font-color1: white;\n",
       "                    --jp-layout-color2: #454545;\n",
       "                    background-color: #383838;\n",
       "                }\n",
       "\n",
       "                .geemap-dark .jupyter-button {\n",
       "                    --jp-layout-color3: #383838;\n",
       "                }\n",
       "\n",
       "                .geemap-colab {\n",
       "                    background-color: var(--colab-primary-surface-color, white);\n",
       "                }\n",
       "\n",
       "                .geemap-colab .jupyter-button {\n",
       "                    --jp-layout-color3: var(--colab-primary-surface-color, white);\n",
       "                }\n",
       "            </style>\n",
       "            "
      ],
      "text/plain": [
       "<IPython.core.display.HTML object>"
      ]
     },
     "metadata": {},
     "output_type": "display_data"
    },
    {
     "data": {
      "image/png": "[encoded data removed]",
      "text/plain": [
       "<Figure size 1000x800 with 4 Axes>"
      ]
     },
     "metadata": {},
     "output_type": "display_data"
    }
   ],
   "source": [
    "import matplotlib.pyplot as plt\n",
    "\n",
    "fig, axes = plt.subplots(2,2, figsize=(10,8))\n",
    "\n",
    "axes[0,0].hist(stats_gdf['NDVI'], bins=50)\n",
    "axes[0,0].set_title('Mean NDVI distribution')\n",
    "\n",
    "axes[0,1].hist(stats_gdf['NDBI'], bins=50)\n",
    "axes[0,1].set_title('Mean NDBI distribution')\n",
    "\n",
    "axes[1,0].hist(stats_gdf['pct_agri'], bins=50)\n",
    "axes[1,0].set_title('% Agriculture pixels')\n",
    "\n",
    "axes[1,1].hist(stats_gdf['pct_built'], bins=50)\n",
    "axes[1,1].set_title('% Built-up pixels')\n",
    "\n",
    "plt.tight_layout()\n",
    "plt.show()\n"
   ]
  }
 ],
 "metadata": {
  "kernelspec": {
   "display_name": "Python 3",
   "language": "python",
   "name": "python3"
  },
  "language_info": {
   "codemirror_mode": {
    "name": "ipython",
    "version": 3
   },
   "file_extension": ".py",
   "mimetype": "text/x-python",
   "name": "python",
   "nbconvert_exporter": "python",
   "pygments_lexer": "ipython3",
   "version": "3.10.17"
  }
 },
 "nbformat": 4,
 "nbformat_minor": 5
}
