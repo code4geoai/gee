{
 "cells": [
  {
   "cell_type": "code",
   "execution_count": 40,
   "id": "4908613b",
   "metadata": {},
   "outputs": [],
   "source": [
    "import geopandas as gpd\n",
    "import leafmap\n",
    "import rasterio "
   ]
  },
  {
   "cell_type": "code",
   "execution_count": 41,
   "id": "c371a15d",
   "metadata": {},
   "outputs": [],
   "source": [
    "filepath = 'D:\\Trainings\\gee\\Pabbi_RevisedLandtype-V4.geojson'\n",
    "gdf=gpd.read_file(filepath)\n"
   ]
  },
  {
   "cell_type": "code",
   "execution_count": 42,
   "id": "c52c77b8",
   "metadata": {},
   "outputs": [],
   "source": [
    "pure_agri = gdf[gdf['landuse_class'] == 'Pure-Agriculture']\n",
    "pure_built = gdf[gdf['landuse_class'] == 'Pure-Builtup']\n",
    "partial_agri = gdf[gdf['landuse_class'] == 'Partial-Agriculture']\n",
    "partial_built = gdf[gdf['landuse_class'] == 'Partial-Builtup']\n",
    "mixed = gdf[gdf['landuse_class'] == 'Mixed']\n"
   ]
  },
  {
   "cell_type": "code",
   "execution_count": 43,
   "id": "7627ede0",
   "metadata": {},
   "outputs": [],
   "source": [
    "pabbicrop = 'D:\\Trainings\\gee\\pabb_crop_V3.geojson'\n",
    "landusema_gdf = gpd.read_file(pabbicrop)\n"
   ]
  },
  {
   "cell_type": "code",
   "execution_count": null,
   "id": "a9252135",
   "metadata": {},
   "outputs": [],
   "source": [
    "classified_img = 'D:/Trainings/gee/classified_image-V3.tif'"
   ]
  },
  {
   "cell_type": "code",
   "execution_count": 44,
   "id": "59732dec",
   "metadata": {},
   "outputs": [
    {
     "name": "stdout",
     "output_type": "stream",
     "text": [
      "✅ Clipped raster saved to: D:/Trainings/gee/classified_image-V3-clipped.tif\n"
     ]
    }
   ],
   "source": [
    "with rasterio.open(classified_img) as src:\n",
    "    landusema_gdf = landusema_gdf.to_crs(src.crs)\n",
    "    clipped_image, clipped_transform = rasterio.mask.mask(\n",
    "        dataset=src,\n",
    "        shapes=landusema_gdf.geometry,\n",
    "        crop=True,\n",
    "        nodata=0,  # or use original nodata if needed\n",
    "    )\n",
    "    clipped_meta = src.meta.copy()\n",
    "\n",
    "# Step 3: Update metadata\n",
    "clipped_meta.update({\n",
    "    \"height\": clipped_image.shape[1],\n",
    "    \"width\": clipped_image.shape[2],\n",
    "    \"transform\": clipped_transform\n",
    "})\n",
    "\n",
    "# Step 4: Save the clipped raster\n",
    "clipped_path = 'D:/Trainings/gee/classified_image-V3-clipped.tif'\n",
    "with rasterio.open(clipped_path, 'w', **clipped_meta) as dest:\n",
    "    dest.write(clipped_image)\n",
    "\n",
    "print(f\"✅ Clipped raster saved to: {clipped_path}\")\n"
   ]
  },
  {
   "cell_type": "code",
   "execution_count": 45,
   "id": "c8fead35",
   "metadata": {},
   "outputs": [
    {
     "data": {
      "application/vnd.jupyter.widget-view+json": {
       "model_id": "3729bed7b9b74ab48f7f390a061570c7",
       "version_major": 2,
       "version_minor": 0
      },
      "text/plain": [
       "Map(center=[34.016954, 71.7731905], controls=(ZoomControl(options=['position', 'zoom_in_text', 'zoom_in_title'…"
      ]
     },
     "execution_count": 45,
     "metadata": {},
     "output_type": "execute_result"
    }
   ],
   "source": [
    "import leafmap\n",
    "\n",
    "# 1. Define the mapping of raster values → colors\n",
    "#    Make sure these integer codes match how your RF labels were encoded:\n",
    "#    0: Pure-Agriculture, 1: Partial-Agriculture, 2: Pure-Builtup,\n",
    "#    3: Partial-Builtup, 4: Mixed\n",
    "\n",
    "colorlist = ['lightgreen','lightblue','darkgreen','darkblue']\n",
    "mycolors = {\n",
    "    1: '#006400',    # Pure-Agriculture\n",
    "    2: '#90EE90',   # Partial-Agriculture\n",
    "    3: '#00008B',     # Pure-Builtup\n",
    "    4: '#ADD8E6',    # Partial-Builtup\n",
    "   # 5: '#FF0000',           # Mixed\n",
    "}\n",
    "classified_clipped='D:/Trainings/gee/classified_image-V2-clipped.tif'\n",
    "\n",
    "m = leafmap.Map(center=(37.5, 70), zoom=6)\n",
    "m.add_basemap('Google Satellite')\n",
    "\n",
    "# 2. Add the classified raster with your discrete colormap\n",
    "m.add_raster(\n",
    "    classified_clipped,\n",
    "    layer_name='Pabbi Revised Landtype',\n",
    "    colormap=colorlist,     \n",
    "    opacity=0.5,\n",
    "    vmin=0,\n",
    "    vmax=4,\n",
    "    layer_opacity=0.5\n",
    ")\n",
    "\n",
    "# 2. Manually add a legend for those codes\n",
    "legend_dict = {\n",
    "    'Pure-Agriculture':   '#006400',\n",
    "    'Partial-Agriculture':'#90EE90',\n",
    "    'Pure-Builtup':       '#00008B',\n",
    "    'Partial-Builtup':    '#ADD8E6',\n",
    "  #  'Mixed':              '#FF0000',\n",
    "}\n",
    "\n",
    "# Adding landusema_gdf to the map\n",
    "m.add_gdf(\n",
    "    landusema_gdf,\n",
    "    layer_name='Boundaries',\n",
    "    #color='landuse_class',\n",
    "    #palette=legend_dict,\n",
    "    opacity=0.3,\n",
    "    legend=True\n",
    ")\n",
    "\n",
    "m.add_legend(\n",
    "    legend_title='Landuse Classification',\n",
    "    legend_dict=legend_dict,\n",
    "    position='bottomleft'\n",
    ")\n",
    "m.add_layer_manager()\n",
    "m\n"
   ]
  }
 ],
 "metadata": {
  "kernelspec": {
   "display_name": "Python 3",
   "language": "python",
   "name": "python3"
  },
  "language_info": {
   "codemirror_mode": {
    "name": "ipython",
    "version": 3
   },
   "file_extension": ".py",
   "mimetype": "text/x-python",
   "name": "python",
   "nbconvert_exporter": "python",
   "pygments_lexer": "ipython3",
   "version": "3.12.9"
  }
 },
 "nbformat": 4,
 "nbformat_minor": 5
}
