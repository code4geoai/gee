{
 "cells": [
  {
   "cell_type": "code",
   "execution_count": 1,
   "id": "e1e49490",
   "metadata": {},
   "outputs": [],
   "source": [
    "import ee\n",
    "import geemap\n"
   ]
  },
  {
   "cell_type": "code",
   "execution_count": 2,
   "id": "7acf1d8e",
   "metadata": {},
   "outputs": [
    {
     "data": {
      "text/plain": [
       "True"
      ]
     },
     "execution_count": 2,
     "metadata": {},
     "output_type": "execute_result"
    }
   ],
   "source": [
    "ee.Authenticate()"
   ]
  },
  {
   "cell_type": "code",
   "execution_count": 3,
   "id": "2eb285fb",
   "metadata": {},
   "outputs": [],
   "source": [
    "ee.Initialize(project='ee-imhayatkhan')"
   ]
  },
  {
   "cell_type": "code",
   "execution_count": 2,
   "id": "839c776b",
   "metadata": {},
   "outputs": [
    {
     "data": {
      "text/html": [
       "\n",
       "            <style>\n",
       "                .geemap-dark {\n",
       "                    --jp-widgets-color: white;\n",
       "                    --jp-widgets-label-color: white;\n",
       "                    --jp-ui-font-color1: white;\n",
       "                    --jp-layout-color2: #454545;\n",
       "                    background-color: #383838;\n",
       "                }\n",
       "\n",
       "                .geemap-dark .jupyter-button {\n",
       "                    --jp-layout-color3: #383838;\n",
       "                }\n",
       "\n",
       "                .geemap-colab {\n",
       "                    background-color: var(--colab-primary-surface-color, white);\n",
       "                }\n",
       "\n",
       "                .geemap-colab .jupyter-button {\n",
       "                    --jp-layout-color3: var(--colab-primary-surface-color, white);\n",
       "                }\n",
       "            </style>\n",
       "            "
      ],
      "text/plain": [
       "<IPython.core.display.HTML object>"
      ]
     },
     "metadata": {},
     "output_type": "display_data"
    }
   ],
   "source": [
    "# This is shortcut for the above two lines\n",
    "geemap.ee.Initialize()"
   ]
  },
  {
   "cell_type": "code",
   "execution_count": 5,
   "id": "24a4484e",
   "metadata": {},
   "outputs": [
    {
     "data": {
      "text/html": [
       "\n",
       "            <style>\n",
       "                .geemap-dark {\n",
       "                    --jp-widgets-color: white;\n",
       "                    --jp-widgets-label-color: white;\n",
       "                    --jp-ui-font-color1: white;\n",
       "                    --jp-layout-color2: #454545;\n",
       "                    background-color: #383838;\n",
       "                }\n",
       "\n",
       "                .geemap-dark .jupyter-button {\n",
       "                    --jp-layout-color3: #383838;\n",
       "                }\n",
       "\n",
       "                .geemap-colab {\n",
       "                    background-color: var(--colab-primary-surface-color, white);\n",
       "                }\n",
       "\n",
       "                .geemap-colab .jupyter-button {\n",
       "                    --jp-layout-color3: var(--colab-primary-surface-color, white);\n",
       "                }\n",
       "            </style>\n",
       "            "
      ],
      "text/plain": [
       "<IPython.core.display.HTML object>"
      ]
     },
     "metadata": {},
     "output_type": "display_data"
    },
    {
     "data": {
      "application/vnd.jupyter.widget-view+json": {
       "model_id": "5bf6ab774b374582847acd4a1349fb1c",
       "version_major": 2,
       "version_minor": 0
      },
      "text/plain": [
       "Map(center=[0, 0], controls=(WidgetControl(options=['position', 'transparent_bg'], widget=SearchDataGUI(childr…"
      ]
     },
     "execution_count": 5,
     "metadata": {},
     "output_type": "execute_result"
    },
    {
     "data": {
      "application/javascript": "\n        var code = IPython.notebook.insert_cell_below('code');\n        code.set_text(atob(\"aW1wb3J0IG1hdGgKClNUQVJUX0RBVEUgPSAnMjAyMi0xMC0wMScKRU5EX0RBVEUgPSAnMjAyMy0wNi0wMicKQ0xPVURfRklMVEVSID0gNjAKQ0xEX1BSQl9USFJFU0ggPSA1MApOSVJfRFJLX1RIUkVTSCA9IDAuMTUKQ0xEX1BSSl9ESVNUID0gMQpCVUZGRVIgPSA1MAoKYW9pID0gZWUuRmVhdHVyZUNvbGxlY3Rpb24oJ0ZBTy9HQVVMLzIwMTUvbGV2ZWwwJykuZmlsdGVyTWV0YWRhdGEoJ0FETTBfQ09ERScsJ2VxdWFscycsMjU2KQoKZHcgPSBlZS5JbWFnZUNvbGxlY3Rpb24oJ0dPT0dMRS9EWU5BTUlDV09STEQvVjEnKSBcCi5maWx0ZXJEYXRlKFNUQVJUX0RBVEUsIEVORF9EQVRFKSBcCi5maWx0ZXJCb3VuZHMoYW9pKQoKY2xhc3NpZmljYXRpb24gPSBkdy5zZWxlY3QoJ2xhYmVsJykKZHdDb21wb3NpdGUgPSBjbGFzc2lmaWNhdGlvbi5yZWR1Y2UoZWUuUmVkdWNlci5tb2RlKCkpCgojIENsaXAgdGhlIGNvbXBvc2l0ZSBhbmQgYWRkIGl0IHRvIHRoZSBNYXAuCmNyb3BsYW5kcyA9IGR3Q29tcG9zaXRlLnVwZGF0ZU1hc2soZHdDb21wb3NpdGUuY2xpcChhb2kpLmVxKDQpKQpncmFzcyA9IGR3Q29tcG9zaXRlLnVwZGF0ZU1hc2soZHdDb21wb3NpdGUuY2xpcChhb2kpLmVxKDIpKQpjb21iaW5lZE1hc2sgPSBjcm9wbGFuZHMuYmxlbmQoZ3Jhc3MpCgpkZWYgZnVuY19zZGooYW9pLCBzdGFydF9kYXRlLCBlbmRfZGF0ZSk6CiAgICAjIEltcG9ydCBhbmQgZmlsdGVyIFMyIFNSLgogICAgczJfc3JfY29sID0gKGVlLkltYWdlQ29sbGVjdGlvbignQ09QRVJOSUNVUy9TMl9TUicpIFwKICAgIC5maWx0ZXJCb3VuZHMoYW9pKSBcCiAgICAuZmlsdGVyRGF0ZShzdGFydF9kYXRlLCBlbmRfZGF0ZSkgXAogICAgLmZpbHRlcihlZS5GaWx0ZXIubHRlKCdDTE9VRFlfUElYRUxfUEVSQ0VOVEFHRScsIENMT1VEX0ZJTFRFUikpKQoKICAgICMgSW1wb3J0IGFuZCBmaWx0ZXIgczJjbG91ZGxlc3MuCiAgICBzMl9jbG91ZGxlc3NfY29sID0gKGVlLkltYWdlQ29sbGVjdGlvbignQ09QRVJOSUNVUy9TMl9DTE9VRF9QUk9CQUJJTElUWScpIFwKICAgIC5maWx0ZXJCb3VuZHMoYW9pKSBcCiAgICAuZmlsdGVyRGF0ZShzdGFydF9kYXRlLCBlbmRfZGF0ZSkpCgogICAgIyBKb2luIHRoZSBmaWx0ZXJlZCBzMmNsb3VkbGVzcyBjb2xsZWN0aW9uIHRvIHRoZSBTUiBjb2xsZWN0aW9uIGJ5IHRoZSAnInN5c3RlbSI6aW5kZXgnIHByb3BlcnR5LgogICAgcmV0dXJuIGVlLkltYWdlQ29sbGVjdGlvbihlZS5Kb2luLnNhdmVGaXJzdCgnczJjbG91ZGxlc3MnKS5hcHBseSgKICAgICAgICAncHJpbWFyeSc9czJfc3JfY29sLAogICAgICAgICdzZWNvbmRhcnknPXMyX2Nsb3VkbGVzc19jb2wsCiAgICAgICAgJ2NvbmRpdGlvbic9ZWUuRmlsdGVyLmVxdWFscygKICAgICAgICAgICAgJ2xlZnRGaWVsZCc9JyJzeXN0ZW0iID1pbmRleCcsCiAgICAgICAgICAgICdyaWdodEZpZWxkJz0nInN5c3RlbSIgPWluZGV4JwogICAgICAgICAgICApCiAgICAgICAgKSkKCmdldF9zMl9zcl9jbGRfY29sID0gZnVuY19zZGoKCmRlZiBmdW5jX2p4aChpbWcpOgogICAgIyBHZXQgczJjbG91ZGxlc3MgaW1hZ2UsIHN1YnNldCB0aGUgcHJvYmFiaWxpdHkgYmFuZC4KICAgIGNsZF9wcmIgPSBlZS5JbWFnZShpbWcuZ2V0KCdzMmNsb3VkbGVzcycpKS5zZWxlY3QoJ3Byb2JhYmlsaXR5JykKCiAgICAjIENvbmRpdGlvbiBzMmNsb3VkbGVzcyBieSB0aGUgcHJvYmFiaWxpdHkgdGhyZXNob2xkIHZhbHVlLgogICAgaXNfY2xvdWQgPSBjbGRfcHJiLmd0KENMRF9QUkJfVEhSRVNIKS5yZW5hbWUoJ2Nsb3VkcycpCgogICAgIyBBZGQgdGhlIGNsb3VkIHByb2JhYmlsaXR5IGxheWVyIGFuZCBjbG91ZCBtYXNrIGFzIGltYWdlIGJhbmRzLgogICAgcmV0dXJuIGltZy5hZGRCYW5kcyhlZS5JbWFnZShbY2xkX3ByYiwgaXNfY2xvdWRdKSkKCmFkZF9jbG91ZF9iYW5kcyA9IGZ1bmNfanhoCgpkZWYgZnVuY19iY20oaW1nKToKICAgICMgSWRlbnRpZnkgd2F0ZXIgcGl4ZWxzIGZyb20gdGhlIFNDTCBiYW5kLgogICAgbm90X3dhdGVyID0gaW1nLnNlbGVjdCgnU0NMJykubmVxKDYpCgogICAgIyBJZGVudGlmeSBkYXJrIE5JUiBwaXhlbHMgdGhhdCBhcmUgbm90IHdhdGVyIChwb3RlbnRpYWwgY2xvdWQgc2hhZG93IHBpeGVscykuCiAgICBTUl9CQU5EX1NDQUxFID0gMWU0CiAgICBkYXJrX3BpeGVscyA9IGltZy5zZWxlY3QoJ0I4JykubHQoTklSX0RSS19USFJFU0gqU1JfQkFORF9TQ0FMRSkubXVsdGlwbHkobm90X3dhdGVyKS5yZW5hbWUoJ2RhcmtfcGl4ZWxzJykKCiAgICAjIERldGVybWluZSB0aGUgZGlyZWN0aW9uIHRvIHByb2plY3QgY2xvdWQgc2hhZG93IGZyb20gY2xvdWRzIChhc3N1bWVzIFVUTSBwcm9qZWN0aW9uKS4KICAgIHNoYWRvd19hemltdXRoID0gZWUuTnVtYmVyKDkwKS5zdWJ0cmFjdChlZS5OdW1iZXIoaW1nLmdldCgnTUVBTl9TT0xBUl9BWklNVVRIX0FOR0xFJykpKQoKICAgICMgUHJvamVjdCBzaGFkb3dzIGZyb20gY2xvdWRzIGZvciB0aGUgZGlzdGFuY2Ugc3BlY2lmaWVkIGJ5IHRoZSBDTERfUFJKX0RJU1QgaW5wdXQuCiAgICBjbGRfcHJvaiA9IChpbWcuc2VsZWN0KCdjbG91ZHMnKS5kaXJlY3Rpb25hbERpc3RhbmNlVHJhbnNmb3JtKHNoYWRvd19hemltdXRoLCBDTERfUFJKX0RJU1QqMTApIFwKICAgIC5yZXByb2plY3QoKip7J2Nycyc6IGltZy5zZWxlY3QoMCkucHJvamVjdGlvbigpLCAnc2NhbGUnOiAxMDB9KSBcCiAgICAuc2VsZWN0KCdkaXN0YW5jZScpIFwKICAgIC5tYXNrKCkgXAogICAgLnJlbmFtZSgnY2xvdWRfdHJhbnNmb3JtJykpCgogICAgIyBJZGVudGlmeSB0aGUgaW50ZXJzZWN0aW9uIG9mIGRhcmsgcGl4ZWxzIHdpdGggY2xvdWQgc2hhZG93IHByb2plY3Rpb24uCiAgICBzaGFkb3dzID0gY2xkX3Byb2oubXVsdGlwbHkoZGFya19waXhlbHMpLnJlbmFtZSgnc2hhZG93cycpCgogICAgIyBBZGQgZGFyayBwaXhlbHMsIGNsb3VkIHByb2plY3Rpb24sIGFuZCBpZGVudGlmaWVkIHNoYWRvd3MgYXMgaW1hZ2UgYmFuZHMuCiAgICByZXR1cm4gaW1nLmFkZEJhbmRzKGVlLkltYWdlKFtkYXJrX3BpeGVscywgY2xkX3Byb2osIHNoYWRvd3NdKSkKCmFkZF9zaGFkb3dfYmFuZHMgPSBmdW5jX2JjbQoKZGVmIGZ1bmNfcm11KGltZyk6CiAgICAjIEFkZCBjbG91ZCBjb21wb25lbnQgYmFuZHMuCiAgICBpbWdfY2xvdWQgPSBhZGRfY2xvdWRfYmFuZHMoaW1nKQoKICAgICMgIEFkZCBjbG91ZCBzaGFkb3cgY29tcG9uZW50IGJhbmRzLgogICAgaW1nX2Nsb3VkX3NoYWRvdyA9IGFkZF9zaGFkb3dfYmFuZHMoaW1nX2Nsb3VkKQoKICAgICMgIENvbWJpbmUgY2xvdWQgYW5kIHNoYWRvdyBtYXNrLCBzZXQgY2xvdWQgYW5kIHNoYWRvdyBhcyB2YWx1ZSAxLCBlbHNlIDAuCiAgICBpc19jbGRfc2hkdyA9IGltZ19jbG91ZF9zaGFkb3cuc2VsZWN0KCdjbG91ZHMnKS5hZGQoaW1nX2Nsb3VkX3NoYWRvdy5zZWxlY3QoJ3NoYWRvd3MnKSkuZ3QoMCkKCiAgICAjICBSZW1vdmUgc21hbGwgY2xvdWQtc2hhZG93IHBhdGNoZXMgYW5kIGRpbGF0ZSByZW1haW5pbmcgcGl4ZWxzIGJ5IEJVRkZFUiBpbnB1dC4KICAgICMgIDIwIG0gc2NhbGUgaXMgZm9yIHNwZWVkLCBhbmQgYXNzdW1lcyBjbG91ZHMgZG9uJ3QgcmVxdWlyZSAxMCBtIHByZWNpc2lvbi4KICAgIGlzX2NsZF9zaGR3ID0gKGlzX2NsZF9zaGR3LmZvY2FsTWluKDIpLmZvY2FsTWF4KEJVRkZFUioyLzIwKSBcCiAgICAucmVwcm9qZWN0KCoqeydjcnMnOiBpbWcuc2VsZWN0KFswXSkucHJvamVjdGlvbigpLCAnc2NhbGUnOiAyMH0pIFwKICAgIC5yZW5hbWUoJ2Nsb3VkbWFzaycpKQoKICAgICMgIEFkZCB0aGUgZmluYWwgY2xvdWQtc2hhZG93IG1hc2sgdG8gdGhlIGltYWdlLgogICAgcmV0dXJuIGltZ19jbG91ZF9zaGFkb3cuYWRkQmFuZHMoaXNfY2xkX3NoZHcpCgphZGRfY2xkX3NoZHdfbWFzayA9IGZ1bmNfcm11CgpkZWYgZnVuY194bXgoaW1nKToKICAgICMgU3Vic2V0IHRoZSBjbG91ZG1hc2sgYmFuZCBhbmQgaW52ZXJ0IGl0IHNvIGNsb3Vkcy9zaGFkb3cgYXJlIDAsIGVsc2UgMS4KICAgIG5vdF9jbGRfc2hkdyA9IGltZy5zZWxlY3QoJ2Nsb3VkbWFzaycpLk5vdCgpCgogICAgIyBTdWJzZXQgcmVmbGVjdGFuY2UgYmFuZHMgYW5kIHVwZGF0ZSB0aGVpciBtYXNrcywgcmV0dXJuIHRoZSByZXN1bHQuCiAgICByZXR1cm4gaW1nLnNlbGVjdCgnQi4qJykudXBkYXRlTWFzayhub3RfY2xkX3NoZHcpCgphcHBseV9jbGRfc2hkd19tYXNrID0gZnVuY194bXgKCnMyX3NyX2NsZF9jb2xfZXZhbCA9IGdldF9zMl9zcl9jbGRfY29sKGdlb21ldHJ5LCBTVEFSVF9EQVRFLCBFTkRfREFURSkKbDh0b2EgPSBzMl9zcl9jbGRfY29sX2V2YWwubWFwKGFkZF9jbGRfc2hkd19tYXNrKS5tYXAoYXBwbHlfY2xkX3NoZHdfbWFzaykKCiNyb2kgPSBlZS5HZW9tZXRyeS5Qb2ludCgtNi4xNzM1NDM5MDQxMTE4NzksIDguMDYyNjI4MjI3NTc4ODU3KQpyb2kgPSBnZW9tZXRyeTIgCgpNYXAuY2VudGVyT2JqZWN0KHJvaSwgMTApCgojIFRoaXMgZmllbGQgY29udGFpbnMgVU5JWCB0aW1lIGluIG1pbGxpc2Vjb25kcy4KdGltZUZpZWxkID0gJyJzeXN0ZW0iOnRpbWVfc3RhcnQnCgojIFVzZSB0aGlzIGZ1bmN0aW9uIHRvIG1hc2sgY2xvdWRzIGluIExhbmRzYXQgOCBpbWFnZXJ5LgoKZGVmIGZ1bmNfanlmKGltYWdlKToKICAgIHF1YWxpdHkgPSBpbWFnZS5zZWxlY3QoJ0JRQScpCiAgICBjbG91ZDAxID0gcXVhbGl0eS5lcSg2MTQ0MCkKICAgIGNsb3VkMDIgPSBxdWFsaXR5LmVxKDUzMjQ4KQogICAgY2xvdWQwMyA9IHF1YWxpdHkuZXEoMjg2NzIpCiAgICBtYXNrID0gY2xvdWQwMS5PcihjbG91ZDAyKS5PcihjbG91ZDAzKS5Ob3QoKQogICAgcmV0dXJuIGltYWdlLnVwZGF0ZU1hc2sobWFzaykKCm1hc2tDbG91ZHMgPSBmdW5jX2p5ZgoKIyBVc2UgdGhpcyBmdW5jdGlvbiB0byBhZGQgdmFyaWFibGVzIGZvciBORFZJLCB0aW1lIGFuZCBhIGNvbnN0YW50CiMgdG8gTGFuZHNhdCA4IGltYWdlcnkuCgpkZWYgZnVuY19waGMoaW1hZ2UpOgogICAgIyBDb21wdXRlIHRpbWUgaW4gZnJhY3Rpb25hbCB5ZWFycyBzaW5jZSB0aGUgZXBvY2guCiAgICBkYXRlID0gZWUuRGF0ZShpbWFnZS5nZXQodGltZUZpZWxkKSkKICAgIHllYXJzID0gZGF0ZS5kaWZmZXJlbmNlKGVlLkRhdGUoJzE5NzAtMDEtMDEnKSwgJ3llYXInKQogICAgIyBSZXR1cm4gdGhlIGltYWdlIHdpdGggdGhlIGFkZGVkIGJhbmRzLgogICAgcmV0dXJuIGltYWdlIFwKICAgIC5hZGRCYW5kcyhpbWFnZS5ub3JtYWxpemVkRGlmZmVyZW5jZShbJ0I4JywgJ0I0J10pLnJlbmFtZSgnTkRWSScpKS5mbG9hdCgpIFwKICAgIC5hZGRCYW5kcyhlZS5JbWFnZSh5ZWFycykucmVuYW1lKCd0JykuZmxvYXQoKSkgXAogICAgLmFkZEJhbmRzKGVlLkltYWdlLmNvbnN0YW50KDEpKQoKYWRkVmFyaWFibGVzID0gZnVuY19waGMKCiMgUmVtb3ZlIGNsb3VkcywgYWRkIHZhcmlhYmxlcyBhbmQgZmlsdGVyIHRvIHRoZSBhcmVhIG9mIGludGVyZXN0LgpmaWx0ZXJlZExhbmRzYXQgPSBsOHRvYSBcCi5maWx0ZXJCb3VuZHMoZ2VvbWV0cnkpIFwKLm1hcChhZGRWYXJpYWJsZXMpCgojIFBsb3QgYSB0aW1lIHNlcmllcyBvZiBORFZJIGF0IGEgc2luZ2xlIGxvY2F0aW9uLgpsOENoYXJ0ID0gdWkuQ2hhcnQuaW1hZ2Uuc2VyaWVzKGZpbHRlcmVkTGFuZHNhdC5zZWxlY3QoJ05EVkknKSwgcm9pKSBcCi5zZXRDaGFydFR5cGUoJ1NjYXR0ZXJDaGFydCcpIFwKLnNldE9wdGlvbnMoCiJ0aXRsZSI9J0xhbmRzYXQgOCBORFZJIHRpbWUgc2VyaWVzIGF0IFJPSScsCiJ0cmVuZGxpbmVzIj17IjAiPXsKICAgICJjb2xvciI9J0NDMDAwMCcKfX0sCiJsaW5lV2lkdGgiPTEsCiJwb2ludFNpemUiPTMsCikKcHJpbnQobDhDaGFydC5nZXRJbmZvKCkpCgojIExpbmVhciB0cmVuZCAtLS0tLS0tLS0tLS0tLS0tLS0tLS0tLS0tLS0tLS0tLS0tLS0tLS0tLS0tLS0tLS0tLS0tLS0tLS0tLS0tLS0tCiMgTGlzdCBvZiB0aGUgaW5kZXBlbmRlbnQgdmFyaWFibGUgbmFtZXMKaW5kZXBlbmRlbnRzID0gZWUuTGlzdChbJ2NvbnN0YW50JywgJ3QnXSkKCiMgTmFtZSBvZiB0aGUgZGVwZW5kZW50IHZhcmlhYmxlLgpkZXBlbmRlbnQgPSBlZS5TdHJpbmcoJ05EVkknKQoKIyBDb21wdXRlIGEgbGluZWFyIHRyZW5kLiAgVGhpcyB3aWxsIGhhdmUgdHdvICJiYW5kcyI6ICdyZXNpZHVhbHMnIGFuZAojIGEgMngxIGJhbmQgY2FsbGVkIGNvZWZmaWNpZW50cyAoY29sdW1ucyBhcmUgZm9yIGRlcGVuZGVudCB2YXJpYWJsZXMpLgp0cmVuZCA9IGZpbHRlcmVkTGFuZHNhdC5zZWxlY3QoaW5kZXBlbmRlbnRzLmFkZChkZXBlbmRlbnQpKSBcCi5yZWR1Y2UoZWUuUmVkdWNlci5saW5lYXJSZWdyZXNzaW9uKGluZGVwZW5kZW50cy5sZW5ndGgoKSwgMSkpCiMgTWFwLmFkZExheWVyKHRyZW5kLCB7fSwgJ3RyZW5kIGFycmF5IGltYWdlJykKCiMgRmxhdHRlbiB0aGUgY29lZmZpY2llbnRzIGludG8gYSAyLWJhbmQgaW1hZ2UKY29lZmZpY2llbnRzID0gdHJlbmQuc2VsZWN0KCdjb2VmZmljaWVudHMnKSBcCi5hcnJheVByb2plY3QoWzBdKSBcCi5hcnJheUZsYXR0ZW4oW2luZGVwZW5kZW50c10pCgojIENvbXB1dGUgYSBkZS10cmVuZGVkIHNlcmllcy4KCmRlZiBmdW5jX2ZoYyhpbWFnZSk6CiAgICByZXR1cm4gaW1hZ2Uuc2VsZWN0KGRlcGVuZGVudCkuc3VidHJhY3QoCiAgICBpbWFnZS5zZWxlY3QoaW5kZXBlbmRlbnRzKS5tdWx0aXBseShjb2VmZmljaWVudHMpLnJlZHVjZSgnc3VtJykpIFwKICAgIC5yZW5hbWUoZGVwZW5kZW50KSBcCiAgICAuY29weVByb3BlcnRpZXMoaW1hZ2UsIFt0aW1lRmllbGRdKQoKZGV0cmVuZGVkID0gZmlsdGVyZWRMYW5kc2F0Lm1hcChmdW5jX2ZoYykKCiMgUGxvdCB0aGUgZGV0cmVuZGVkIHJlc3VsdHMuCmRldHJlbmRlZENoYXJ0ID0gdWkuQ2hhcnQuaW1hZ2Uuc2VyaWVzKGRldHJlbmRlZCwgcm9pLCBOb25lLCAzMCkgXAouc2V0T3B0aW9ucygKInRpdGxlIj0nRGV0cmVuZGVkIExhbmRzYXQgdGltZSBzZXJpZXMgYXQgUk9JJywKImxpbmVXaWR0aCI9MSwKInBvaW50U2l6ZSI9MywKKQpwcmludChkZXRyZW5kZWRDaGFydC5nZXRJbmZvKCkpCgojIEhhcm1vbmljIHRyZW5kIC0tLS0tLS0tLS0tLS0tLS0tLS0tLS0tLS0tLS0tLS0tLS0tLS0tLS0tLS0tLS0tLS0tLS0tLS0tLS0tLS0tLS0KIyBVc2UgdGhlc2UgaW5kZXBlbmRlbnQgdmFyaWFibGVzIGluIHRoZSBoYXJtb25pYyByZWdyZXNzaW9uLgpoYXJtb25pY0luZGVwZW5kZW50cyA9IGVlLkxpc3QoWydjb25zdGFudCcsICd0JywgJ2NvcycsICdzaW4nXSkKCiMgQWRkIGhhcm1vbmljIHRlcm1zIGFzIG5ldyBpbWFnZSBiYW5kcy4KCmRlZiBmdW5jX3JodihpbWFnZSk6CiAgICB0aW1lUmFkaWFucyA9IGltYWdlLnNlbGVjdCgndCcpLm11bHRpcGx5KDIgKiBtYXRoLnBpKQogICAgcmV0dXJuIGltYWdlIFwKICAgIC5hZGRCYW5kcyh0aW1lUmFkaWFucy5jb3MoKS5yZW5hbWUoJ2NvcycpKSBcCiAgICAuYWRkQmFuZHModGltZVJhZGlhbnMuc2luKCkucmVuYW1lKCdzaW4nKSkKCmhhcm1vbmljTGFuZHNhdCA9IGZpbHRlcmVkTGFuZHNhdC5tYXAoZnVuY19yaHYpCgojIFRoZSBvdXRwdXQgb2YgdGhlIHJlZ3Jlc3Npb24gcmVkdWN0aW9uIGlzIGEgNHgxIGFycmF5IGltYWdlLgpoYXJtb25pY1RyZW5kID0gaGFybW9uaWNMYW5kc2F0IFwKLnNlbGVjdChoYXJtb25pY0luZGVwZW5kZW50cy5hZGQoZGVwZW5kZW50KSkgXAoucmVkdWNlKGVlLlJlZHVjZXIubGluZWFyUmVncmVzc2lvbihoYXJtb25pY0luZGVwZW5kZW50cy5sZW5ndGgoKSwgMSkpCgojIFR1cm4gdGhlIGFycmF5IGltYWdlIGludG8gYSBtdWx0aS1iYW5kIGltYWdlIG9mIGNvZWZmaWNpZW50cy4KaGFybW9uaWNUcmVuZENvZWZmaWNpZW50cyA9IGhhcm1vbmljVHJlbmQuc2VsZWN0KCdjb2VmZmljaWVudHMnKSBcCi5hcnJheVByb2plY3QoWzBdKSBcCi5hcnJheUZsYXR0ZW4oW2hhcm1vbmljSW5kZXBlbmRlbnRzXSkKCiMgQ29tcHV0ZSBmaXR0ZWQgdmFsdWVzLgoKZGVmIGZ1bmNfYm9kKGltYWdlKToKICAgIHJldHVybiBpbWFnZS5hZGRCYW5kcygKICAgIGltYWdlLnNlbGVjdChoYXJtb25pY0luZGVwZW5kZW50cykgXAogICAgLm11bHRpcGx5KGhhcm1vbmljVHJlbmRDb2VmZmljaWVudHMpIFwKICAgIC5yZWR1Y2UoJ3N1bScpIFwKICAgIC5yZW5hbWUoJ2ZpdHRlZCcpKQoKZml0dGVkSGFybW9uaWMgPSBoYXJtb25pY0xhbmRzYXQubWFwKGZ1bmNfYm9kKQoKIyBQbG90IHRoZSBmaXR0ZWQgbW9kZWwgYW5kIHRoZSBvcmlnaW5hbCBkYXRhIGF0IHRoZSBST0kuCnByaW50KHVpLkNoYXJ0LmltYWdlLnNlcmllcygKZml0dGVkSGFybW9uaWMuc2VsZWN0KFsnZml0dGVkJywnTkRWSSddKSwgcm9pLCBlZS5SZWR1Y2VyLm1lYW4oKSwgMzAuZ2V0SW5mbygpKSBcCi5zZXRTZXJpZXNOYW1lcyhbJ05EVkknLCAnZml0dGVkJ10pIFwKLnNldE9wdGlvbnMoCiJ0aXRsZSI9J0hhcm1vbmljICJtb2RlbCI9b3JpZ2luYWwgYW5kIGZpdHRlZCB2YWx1ZXMnLAoibGluZVdpZHRoIj0xLAoicG9pbnRTaXplIj0zLAopKQoKIyBDb21wdXRlIHBoYXNlIGFuZCBhbXBsaXR1ZGUuCnBoYXNlID0gaGFybW9uaWNUcmVuZENvZWZmaWNpZW50cy5zZWxlY3QoJ2NvcycpLmF0YW4yKApoYXJtb25pY1RyZW5kQ29lZmZpY2llbnRzLnNlbGVjdCgnc2luJykpCgphbXBsaXR1ZGUgPSBoYXJtb25pY1RyZW5kQ29lZmZpY2llbnRzLnNlbGVjdCgnY29zJykuaHlwb3QoCmhhcm1vbmljVHJlbmRDb2VmZmljaWVudHMuc2VsZWN0KCdzaW4nKSkKCiMgVXNlIHRoZSBIU1YgdG8gUkdCIHRyYW5zZm9ybSB0byBkaXNwbGF5IHBoYXNlIGFuZCBhbXBsaXR1ZGUKcmdiID0gcGhhc2UudW5pdFNjYWxlKC1tYXRoLnBpLCBtYXRoLnBpKS5hZGRCYW5kcygKYW1wbGl0dWRlLm11bHRpcGx5KDIuNSkpLmFkZEJhbmRzKApmaWx0ZXJlZExhbmRzYXQuc2VsZWN0KCdORFZJJykubWVkaWFuKCkpLmhzdlRvUmdiKCkKcmdiID0gcmdiLnVwZGF0ZU1hc2soY29tYmluZWRNYXNrKQoKTWFwLmFkZExheWVyKGw4dG9hLmZpbHRlckRhdGUoJzIwMjMtMDUtMDEnLCcyMDIzLTA2LTAxJykubWVkaWFuKCksIHsnYmFuZHMnOlsnQjQnLCdCMycsJ0IyJ10sICJtaW4iOjAsICJtYXgiOjMwMDB9LCAnU2VudGluZWwgMicsIEZhbHNlKQpNYXAuYWRkTGF5ZXIobDh0b2EuZmlsdGVyRGF0ZSgnMjAxOS0wNS0wMScsJzIwMTktMDYtMDEnKS5tZWRpYW4oKSwgeydiYW5kcyc6WydCNCcsJ0IzJywnQjInXSwgIm1pbiI6MCwgIm1heCI6MC4zfSwgJ0xhbmRzYXQgOCcsIEZhbHNlKQpNYXAuYWRkTGF5ZXIocmdiLCB7fSwgJ3BoYXNlIChodWUpLCBhbXBsaXR1ZGUgKHNhdHVyYXRpb24pJykKCiMgdXNlIHVuaXQgc2NhbGUgdG8gbm9ybWFsaXplIHRoZSBwaXhlbCB2YWx1ZXMKcmdiID0gcmdiLnVuaXRTY2FsZSgwLCAxKQoKZWlnaHRiaXRSR0IgPSByZ2IubXVsdGlwbHkoMjU1KS50b0J5dGUoKQoKcHJpbnQoZWlnaHRiaXRSR0IuZ2V0SW5mbygpKQoKTWFwLmFkZExheWVyKGVpZ2h0Yml0UkdCLCB7Im1pbiI6MCwgIm1heCI6MjU1fSwgJ3JnYl8nKQoKaW1hZ2VfZXhwb3J0X29wdGlvbnMgPSB7CiAgICAncGF0Y2hEaW1lbnNpb25zJzogWzc2OCwgNzY4XSwKICAgICdtYXhGaWxlU2l6ZSc6IDEwNDg1NzYwMCwKICAgICdrZXJuZWxTaXplJzogWzI1NiwgMjU2XSwKICAgICdjb21wcmVzc2VkJzogVHJ1ZQp9Cmdlb21ldHJ5ID0gZWUuRmVhdHVyZUNvbGxlY3Rpb24oJ0ZBTy9HQVVMLzIwMTUvbGV2ZWwwJykuZmlsdGVyTWV0YWRhdGEoJ0FETTBfQ09ERScsJ2VxdWFscycsMjU2KQpFeHBvcnQuaW1hZ2UudG9Ecml2ZSgKImltYWdlIj1laWdodGJpdFJHQi5jbGlwKGdlb21ldHJ5KSwKImRlc2NyaXB0aW9uIj0iRXhwb3J0X1Rhc2siLAoiZm9sZGVyIj0nZXh0cmFfY291bnR5JywKImZpbGVOYW1lUHJlZml4Ij0iZXh0cmFfY291bnR5IiwKInJlZ2lvbiI9Z2VvbWV0cnksCiJzY2FsZSI9MTAsCiJjcnMiPSIiRVBTRyIgPTI3NzAwIiwKIm1heFBpeGVscyI9MjkwNzMwNTc5MzYsCiJmb3JtYXRPcHRpb25zIj1pbWFnZV9leHBvcnRfb3B0aW9ucywKImZpbGVGb3JtYXQiPSdURlJlY29yZCcsCikK\"));\n    ",
      "text/plain": [
       "<IPython.core.display.Javascript object>"
      ]
     },
     "metadata": {},
     "output_type": "display_data"
    }
   ],
   "source": [
    "m = geemap.Map()\n",
    "m"
   ]
  },
  {
   "cell_type": "code",
   "execution_count": 19,
   "id": "e4f7e779",
   "metadata": {},
   "outputs": [
    {
     "data": {
      "text/html": [
       "\n",
       "            <style>\n",
       "                .geemap-dark {\n",
       "                    --jp-widgets-color: white;\n",
       "                    --jp-widgets-label-color: white;\n",
       "                    --jp-ui-font-color1: white;\n",
       "                    --jp-layout-color2: #454545;\n",
       "                    background-color: #383838;\n",
       "                }\n",
       "\n",
       "                .geemap-dark .jupyter-button {\n",
       "                    --jp-layout-color3: #383838;\n",
       "                }\n",
       "\n",
       "                .geemap-colab {\n",
       "                    background-color: var(--colab-primary-surface-color, white);\n",
       "                }\n",
       "\n",
       "                .geemap-colab .jupyter-button {\n",
       "                    --jp-layout-color3: var(--colab-primary-surface-color, white);\n",
       "                }\n",
       "            </style>\n",
       "            "
      ],
      "text/plain": [
       "<IPython.core.display.HTML object>"
      ]
     },
     "metadata": {},
     "output_type": "display_data"
    },
    {
     "data": {
      "application/vnd.jupyter.widget-view+json": {
       "model_id": "da7b10d2fb2f433d8acabf5d1c8b3c8f",
       "version_major": 2,
       "version_minor": 0
      },
      "text/plain": [
       "Map(center=[53.3811, 1.4701], controls=(WidgetControl(options=['position', 'transparent_bg'], widget=SearchDat…"
      ]
     },
     "execution_count": 19,
     "metadata": {},
     "output_type": "execute_result"
    }
   ],
   "source": [
    "m = geemap.Map(center = [53.3811, 1.4701], zoom = 8) # UK\n",
    "m"
   ]
  },
  {
   "cell_type": "code",
   "execution_count": 22,
   "id": "1995fad6",
   "metadata": {},
   "outputs": [
    {
     "data": {
      "text/html": [
       "\n",
       "            <style>\n",
       "                .geemap-dark {\n",
       "                    --jp-widgets-color: white;\n",
       "                    --jp-widgets-label-color: white;\n",
       "                    --jp-ui-font-color1: white;\n",
       "                    --jp-layout-color2: #454545;\n",
       "                    background-color: #383838;\n",
       "                }\n",
       "\n",
       "                .geemap-dark .jupyter-button {\n",
       "                    --jp-layout-color3: #383838;\n",
       "                }\n",
       "\n",
       "                .geemap-colab {\n",
       "                    background-color: var(--colab-primary-surface-color, white);\n",
       "                }\n",
       "\n",
       "                .geemap-colab .jupyter-button {\n",
       "                    --jp-layout-color3: var(--colab-primary-surface-color, white);\n",
       "                }\n",
       "            </style>\n",
       "            "
      ],
      "text/plain": [
       "<IPython.core.display.HTML object>"
      ]
     },
     "metadata": {},
     "output_type": "display_data"
    },
    {
     "data": {
      "application/vnd.jupyter.widget-view+json": {
       "model_id": "e579e77f048740f484902da612825f80",
       "version_major": 2,
       "version_minor": 0
      },
      "text/plain": [
       "Map(center=[0, 0], controls=(ZoomControl(options=['position', 'zoom_in_text', 'zoom_in_title', 'zoom_out_text'…"
      ]
     },
     "execution_count": 22,
     "metadata": {},
     "output_type": "execute_result"
    }
   ],
   "source": [
    "m = geemap.Map(data_ctrl=False,toolbar_ctrl=False, search_ctrl=False, draw_ctrl=False, measure_ctrl=False, layer_ctrl=False, geocoder_ctrl=False,fullscreen_ctrl=False, home_ctrl=False, add_data_ctrl=False, print_ctrl=False, time_slider_ctrl=False, inspector_ctrl=False, add_marker_ctrl=False, add_polygon_ctrl=False, add_rectangle_ctrl=False, add_circle_ctrl=False, add_ee_layer_ctrl=False, add_text_ctrl=False, add_image_marker_ctrl=False, add_geojson_file_ctrl=False) # UK\n",
    "m"
   ]
  },
  {
   "cell_type": "markdown",
   "id": "268721b7",
   "metadata": {},
   "source": [
    "# Adding Basemaps"
   ]
  },
  {
   "cell_type": "code",
   "execution_count": 24,
   "id": "6f7ec995",
   "metadata": {},
   "outputs": [
    {
     "data": {
      "text/html": [
       "\n",
       "            <style>\n",
       "                .geemap-dark {\n",
       "                    --jp-widgets-color: white;\n",
       "                    --jp-widgets-label-color: white;\n",
       "                    --jp-ui-font-color1: white;\n",
       "                    --jp-layout-color2: #454545;\n",
       "                    background-color: #383838;\n",
       "                }\n",
       "\n",
       "                .geemap-dark .jupyter-button {\n",
       "                    --jp-layout-color3: #383838;\n",
       "                }\n",
       "\n",
       "                .geemap-colab {\n",
       "                    background-color: var(--colab-primary-surface-color, white);\n",
       "                }\n",
       "\n",
       "                .geemap-colab .jupyter-button {\n",
       "                    --jp-layout-color3: var(--colab-primary-surface-color, white);\n",
       "                }\n",
       "            </style>\n",
       "            "
      ],
      "text/plain": [
       "<IPython.core.display.HTML object>"
      ]
     },
     "metadata": {},
     "output_type": "display_data"
    },
    {
     "data": {
      "application/vnd.jupyter.widget-view+json": {
       "model_id": "a936ef5f54ef49c3ab0d7267791447d2",
       "version_major": 2,
       "version_minor": 0
      },
      "text/plain": [
       "Map(center=[0, 0], controls=(WidgetControl(options=['position', 'transparent_bg'], widget=SearchDataGUI(childr…"
      ]
     },
     "execution_count": 24,
     "metadata": {},
     "output_type": "execute_result"
    }
   ],
   "source": [
    "m = geemap.Map(basemap = 'Esri.WorldImagery')\n",
    "m.add_basemap('Esri.WorldTopoMap')\n",
    "m.add_basemap('OpenTopoMap')\n",
    "m"
   ]
  },
  {
   "cell_type": "code",
   "execution_count": 26,
   "id": "a3108705",
   "metadata": {},
   "outputs": [
    {
     "data": {
      "text/html": [
       "\n",
       "            <style>\n",
       "                .geemap-dark {\n",
       "                    --jp-widgets-color: white;\n",
       "                    --jp-widgets-label-color: white;\n",
       "                    --jp-ui-font-color1: white;\n",
       "                    --jp-layout-color2: #454545;\n",
       "                    background-color: #383838;\n",
       "                }\n",
       "\n",
       "                .geemap-dark .jupyter-button {\n",
       "                    --jp-layout-color3: #383838;\n",
       "                }\n",
       "\n",
       "                .geemap-colab {\n",
       "                    background-color: var(--colab-primary-surface-color, white);\n",
       "                }\n",
       "\n",
       "                .geemap-colab .jupyter-button {\n",
       "                    --jp-layout-color3: var(--colab-primary-surface-color, white);\n",
       "                }\n",
       "            </style>\n",
       "            "
      ],
      "text/plain": [
       "<IPython.core.display.HTML object>"
      ]
     },
     "metadata": {},
     "output_type": "display_data"
    },
    {
     "name": "stdout",
     "output_type": "stream",
     "text": [
      "Total basemaps Available: 150\n"
     ]
    }
   ],
   "source": [
    "# Listing Available Basemaps\n",
    "basemap = list(geemap.basemaps.keys())\n",
    "print(f'Total basemaps Available: {len(basemap)}')"
   ]
  },
  {
   "cell_type": "code",
   "execution_count": 27,
   "id": "715bff43",
   "metadata": {},
   "outputs": [
    {
     "data": {
      "text/html": [
       "\n",
       "            <style>\n",
       "                .geemap-dark {\n",
       "                    --jp-widgets-color: white;\n",
       "                    --jp-widgets-label-color: white;\n",
       "                    --jp-ui-font-color1: white;\n",
       "                    --jp-layout-color2: #454545;\n",
       "                    background-color: #383838;\n",
       "                }\n",
       "\n",
       "                .geemap-dark .jupyter-button {\n",
       "                    --jp-layout-color3: #383838;\n",
       "                }\n",
       "\n",
       "                .geemap-colab {\n",
       "                    background-color: var(--colab-primary-surface-color, white);\n",
       "                }\n",
       "\n",
       "                .geemap-colab .jupyter-button {\n",
       "                    --jp-layout-color3: var(--colab-primary-surface-color, white);\n",
       "                }\n",
       "            </style>\n",
       "            "
      ],
      "text/plain": [
       "<IPython.core.display.HTML object>"
      ]
     },
     "metadata": {},
     "output_type": "display_data"
    },
    {
     "data": {
      "text/plain": [
       "['OpenStreetMap',\n",
       " 'Esri.WorldStreetMap',\n",
       " 'Esri.WorldImagery',\n",
       " 'Esri.WorldTopoMap',\n",
       " 'FWS NWI Wetlands']"
      ]
     },
     "execution_count": 27,
     "metadata": {},
     "output_type": "execute_result"
    }
   ],
   "source": [
    "basemap[0:5] # First 5 Basemaps"
   ]
  },
  {
   "cell_type": "markdown",
   "id": "48ca8153",
   "metadata": {},
   "source": [
    "# Interactive basemap Select"
   ]
  },
  {
   "cell_type": "code",
   "execution_count": 28,
   "id": "a4a279cf",
   "metadata": {},
   "outputs": [
    {
     "data": {
      "text/html": [
       "\n",
       "            <style>\n",
       "                .geemap-dark {\n",
       "                    --jp-widgets-color: white;\n",
       "                    --jp-widgets-label-color: white;\n",
       "                    --jp-ui-font-color1: white;\n",
       "                    --jp-layout-color2: #454545;\n",
       "                    background-color: #383838;\n",
       "                }\n",
       "\n",
       "                .geemap-dark .jupyter-button {\n",
       "                    --jp-layout-color3: #383838;\n",
       "                }\n",
       "\n",
       "                .geemap-colab {\n",
       "                    background-color: var(--colab-primary-surface-color, white);\n",
       "                }\n",
       "\n",
       "                .geemap-colab .jupyter-button {\n",
       "                    --jp-layout-color3: var(--colab-primary-surface-color, white);\n",
       "                }\n",
       "            </style>\n",
       "            "
      ],
      "text/plain": [
       "<IPython.core.display.HTML object>"
      ]
     },
     "metadata": {},
     "output_type": "display_data"
    },
    {
     "data": {
      "application/vnd.jupyter.widget-view+json": {
       "model_id": "3951fac36f1541678e5b4a3b69fd939f",
       "version_major": 2,
       "version_minor": 0
      },
      "text/plain": [
       "Map(center=[0, 0], controls=(WidgetControl(options=['position', 'transparent_bg'], widget=SearchDataGUI(childr…"
      ]
     },
     "execution_count": 28,
     "metadata": {},
     "output_type": "execute_result"
    }
   ],
   "source": [
    "m = geemap.Map()\n",
    "m.add('basemap_selector')\n",
    "m"
   ]
  },
  {
   "cell_type": "markdown",
   "id": "712a0ad9",
   "metadata": {},
   "source": [
    "# Layer Manager"
   ]
  },
  {
   "cell_type": "code",
   "execution_count": null,
   "id": "e2550493",
   "metadata": {},
   "outputs": [
    {
     "data": {
      "text/html": [
       "\n",
       "            <style>\n",
       "                .geemap-dark {\n",
       "                    --jp-widgets-color: white;\n",
       "                    --jp-widgets-label-color: white;\n",
       "                    --jp-ui-font-color1: white;\n",
       "                    --jp-layout-color2: #454545;\n",
       "                    background-color: #383838;\n",
       "                }\n",
       "\n",
       "                .geemap-dark .jupyter-button {\n",
       "                    --jp-layout-color3: #383838;\n",
       "                }\n",
       "\n",
       "                .geemap-colab {\n",
       "                    background-color: var(--colab-primary-surface-color, white);\n",
       "                }\n",
       "\n",
       "                .geemap-colab .jupyter-button {\n",
       "                    --jp-layout-color3: var(--colab-primary-surface-color, white);\n",
       "                }\n",
       "            </style>\n",
       "            "
      ],
      "text/plain": [
       "<IPython.core.display.HTML object>"
      ]
     },
     "metadata": {},
     "output_type": "display_data"
    },
    {
     "data": {
      "application/vnd.jupyter.widget-view+json": {
       "model_id": "5bc36454ccf64bcdb1d4c22648dff006",
       "version_major": 2,
       "version_minor": 0
      },
      "text/plain": [
       "Map(center=[40, -100], controls=(WidgetControl(options=['position', 'transparent_bg'], widget=SearchDataGUI(ch…"
      ]
     },
     "execution_count": 27,
     "metadata": {},
     "output_type": "execute_result"
    }
   ],
   "source": [
    "m = geemap.Map( center = (40,-100), zoom = 4)\n",
    "dem = ee.Image('USGS/SRTMGL1_003') # the String is the unique ID of the image in the Earth Engine data catalog\n",
    "states = ee.FeatureCollection('TIGER/2018/States') # the string is the unique ID of the featue collection (shape file ) in the google earth engine data catalog \n",
    "\n",
    "vis_params = {\n",
    "    'min' : 0,\n",
    "    'max' : 4000,\n",
    "    'palette' : ['blue', 'green', 'yellow', 'orange', 'red']\n",
    "}\n",
    "#m.addLayer(dem, vis_params, 'SRTM DEM')\n",
    "m.add_layer(dem, vis_params, 'SRTM DEM') # m.addLayer is the same as m.add_layer\n",
    "m.addLayer(states, {}, 'States')    \n",
    "m"
   ]
  },
  {
   "cell_type": "markdown",
   "id": "2328b513",
   "metadata": {},
   "source": [
    "# Inspector Tool"
   ]
  },
  {
   "cell_type": "code",
   "execution_count": 29,
   "id": "6fb88b8a",
   "metadata": {},
   "outputs": [
    {
     "data": {
      "text/html": [
       "\n",
       "            <style>\n",
       "                .geemap-dark {\n",
       "                    --jp-widgets-color: white;\n",
       "                    --jp-widgets-label-color: white;\n",
       "                    --jp-ui-font-color1: white;\n",
       "                    --jp-layout-color2: #454545;\n",
       "                    background-color: #383838;\n",
       "                }\n",
       "\n",
       "                .geemap-dark .jupyter-button {\n",
       "                    --jp-layout-color3: #383838;\n",
       "                }\n",
       "\n",
       "                .geemap-colab {\n",
       "                    background-color: var(--colab-primary-surface-color, white);\n",
       "                }\n",
       "\n",
       "                .geemap-colab .jupyter-button {\n",
       "                    --jp-layout-color3: var(--colab-primary-surface-color, white);\n",
       "                }\n",
       "            </style>\n",
       "            "
      ],
      "text/plain": [
       "<IPython.core.display.HTML object>"
      ]
     },
     "metadata": {},
     "output_type": "display_data"
    },
    {
     "data": {
      "application/vnd.jupyter.widget-view+json": {
       "model_id": "d0774e5d33144d669cb3438d3bc9f22c",
       "version_major": 2,
       "version_minor": 0
      },
      "text/plain": [
       "Map(center=[40, -100], controls=(WidgetControl(options=['position', 'transparent_bg'], widget=SearchDataGUI(ch…"
      ]
     },
     "execution_count": 29,
     "metadata": {},
     "output_type": "execute_result"
    }
   ],
   "source": [
    "m = geemap.Map(center = (40,-100), zoom = 4)\n",
    "dem = ee.Image('USGS/SRTMGL1_003') # the String is the unique ID of the image in the Earth Engine data catalog\n",
    "states = ee.FeatureCollection('TIGER/2018/States') # the string is the unique ID of the featue collection (shape file ) in the google earth engine data catalog \n",
    "lansat7 = ee.Image('LANDSAT/LE7_TOA_5YEAR/1999_2003') # the String is the unique ID of the image in the Earth Engine data catalog\n",
    "vis_params = {\n",
    "    'min': 0,\n",
    "    'max': 4000,\n",
    "    'palette': ['blue', 'green', 'yellow', 'orange', 'red']\n",
    "    }\n",
    "m.addLayer(dem,vis_params,'SRTM DEM')\n",
    "m.addLayer(states, {}, 'States')\n",
    "m.addLayer(lansat7, \n",
    "           {\n",
    "                'bands': ['B4', 'B3', 'B2'],\n",
    "                'min': 20,\n",
    "                'max': 200,\n",
    "                'gamma': 2.0\n",
    "           },   'Landsat 7')\n",
    "m.add('inspector')\n",
    "m"
   ]
  },
  {
   "cell_type": "markdown",
   "id": "e77f4794",
   "metadata": {},
   "source": [
    "# Layer Editor"
   ]
  },
  {
   "cell_type": "code",
   "execution_count": null,
   "id": "62487179",
   "metadata": {},
   "outputs": [
    {
     "data": {
      "text/html": [
       "\n",
       "            <style>\n",
       "                .geemap-dark {\n",
       "                    --jp-widgets-color: white;\n",
       "                    --jp-widgets-label-color: white;\n",
       "                    --jp-ui-font-color1: white;\n",
       "                    --jp-layout-color2: #454545;\n",
       "                    background-color: #383838;\n",
       "                }\n",
       "\n",
       "                .geemap-dark .jupyter-button {\n",
       "                    --jp-layout-color3: #383838;\n",
       "                }\n",
       "\n",
       "                .geemap-colab {\n",
       "                    background-color: var(--colab-primary-surface-color, white);\n",
       "                }\n",
       "\n",
       "                .geemap-colab .jupyter-button {\n",
       "                    --jp-layout-color3: var(--colab-primary-surface-color, white);\n",
       "                }\n",
       "            </style>\n",
       "            "
      ],
      "text/plain": [
       "<IPython.core.display.HTML object>"
      ]
     },
     "metadata": {},
     "output_type": "display_data"
    },
    {
     "data": {
      "application/vnd.jupyter.widget-view+json": {
       "model_id": "a6dd6c4af4be472aaa508448c98397c0",
       "version_major": 2,
       "version_minor": 0
      },
      "text/plain": [
       "Map(center=[40, -100], controls=(WidgetControl(options=['position', 'transparent_bg'], widget=SearchDataGUI(ch…"
      ]
     },
     "execution_count": 31,
     "metadata": {},
     "output_type": "execute_result"
    },
    {
     "data": {
      "application/javascript": "\n        var code = IPython.notebook.insert_cell_below('code');\n        code.set_text(atob(\"ZGF0YXNldCA9IGVlLkZlYXR1cmVDb2xsZWN0aW9uKCdGQU8vR0FVTF9TSU1QTElGSUVEXzUwMG0vMjAxNS9sZXZlbDInKQoKTWFwLnNldENlbnRlcigxMi44NzYsIDQyLjY4MiwgNSkKCnN0eWxlUGFyYW1zID0gewogICAgImZpbGxDb2xvciI6ICdiNWZmYjQnLAogICAgImNvbG9yIjogJzAwOTA5RicsCiAgICAid2lkdGgiOiAxLjAsCn0KCmRhdGFzZXQgPSBkYXRhc2V0LnN0eWxlKCoqc3R5bGVQYXJhbXMpCgpNYXAuYWRkTGF5ZXIoZGF0YXNldCwge30sICdTZWNvbmQgTGV2ZWwgQWRtaW5pc3RyYXRpdmUgVW5pdHMnKQo=\"));\n    ",
      "text/plain": [
       "<IPython.core.display.Javascript object>"
      ]
     },
     "metadata": {},
     "output_type": "display_data"
    }
   ],
   "source": [
    "m = geemap.Map(center = (40,-100), zoom = 4)\n",
    "dem = ee.Image('USGS/SRTMGL1_003')\n",
    "vis_params = {\n",
    "    'min' : 0,\n",
    "    'max' : 4000,\n",
    "    'palette' : ['blue', 'green', 'yellow', 'orange', 'red']\n",
    "}\n",
    "m.addLayer(dem, vis_params, 'SRTM DEM')\n",
    "#m.add(\"layer_editor\", layer_dict=m.ee_layers[\"Landsat 7\"]) \n",
    "# Even this is not required.\n",
    "\n",
    "m\n"
   ]
  },
  {
   "cell_type": "markdown",
   "id": "da237628",
   "metadata": {},
   "source": [
    "# Adding Features Collection"
   ]
  },
  {
   "cell_type": "code",
   "execution_count": 34,
   "id": "50c12a6d",
   "metadata": {},
   "outputs": [
    {
     "data": {
      "text/html": [
       "\n",
       "            <style>\n",
       "                .geemap-dark {\n",
       "                    --jp-widgets-color: white;\n",
       "                    --jp-widgets-label-color: white;\n",
       "                    --jp-ui-font-color1: white;\n",
       "                    --jp-layout-color2: #454545;\n",
       "                    background-color: #383838;\n",
       "                }\n",
       "\n",
       "                .geemap-dark .jupyter-button {\n",
       "                    --jp-layout-color3: #383838;\n",
       "                }\n",
       "\n",
       "                .geemap-colab {\n",
       "                    background-color: var(--colab-primary-surface-color, white);\n",
       "                }\n",
       "\n",
       "                .geemap-colab .jupyter-button {\n",
       "                    --jp-layout-color3: var(--colab-primary-surface-color, white);\n",
       "                }\n",
       "            </style>\n",
       "            "
      ],
      "text/plain": [
       "<IPython.core.display.HTML object>"
      ]
     },
     "metadata": {},
     "output_type": "display_data"
    },
    {
     "data": {
      "application/vnd.jupyter.widget-view+json": {
       "model_id": "3f04ccf66b26492d9e3849540cf499da",
       "version_major": 2,
       "version_minor": 0
      },
      "text/plain": [
       "Map(center=[40, -100], controls=(WidgetControl(options=['position', 'transparent_bg'], widget=SearchDataGUI(ch…"
      ]
     },
     "execution_count": 34,
     "metadata": {},
     "output_type": "execute_result"
    }
   ],
   "source": [
    "m = geemap.Map(center = (40,-100), zoom = 4)\n",
    "states = ee.FeatureCollection('TIGER/2018/States')\n",
    "m.add_layer(states, {}, 'States')\n",
    "m.add('layer_editor', layer_dict=m.ee_layers['States'])\n",
    "m"
   ]
  },
  {
   "cell_type": "markdown",
   "id": "b4aa1875",
   "metadata": {},
   "source": [
    "# Draw Control"
   ]
  },
  {
   "cell_type": "code",
   "execution_count": 40,
   "id": "ba2d9fb2",
   "metadata": {},
   "outputs": [
    {
     "data": {
      "text/html": [
       "\n",
       "            <style>\n",
       "                .geemap-dark {\n",
       "                    --jp-widgets-color: white;\n",
       "                    --jp-widgets-label-color: white;\n",
       "                    --jp-ui-font-color1: white;\n",
       "                    --jp-layout-color2: #454545;\n",
       "                    background-color: #383838;\n",
       "                }\n",
       "\n",
       "                .geemap-dark .jupyter-button {\n",
       "                    --jp-layout-color3: #383838;\n",
       "                }\n",
       "\n",
       "                .geemap-colab {\n",
       "                    background-color: var(--colab-primary-surface-color, white);\n",
       "                }\n",
       "\n",
       "                .geemap-colab .jupyter-button {\n",
       "                    --jp-layout-color3: var(--colab-primary-surface-color, white);\n",
       "                }\n",
       "            </style>\n",
       "            "
      ],
      "text/plain": [
       "<IPython.core.display.HTML object>"
      ]
     },
     "metadata": {},
     "output_type": "display_data"
    },
    {
     "data": {
      "application/vnd.jupyter.widget-view+json": {
       "model_id": "bf3cbb8c92e440058f641976f02b1f94",
       "version_major": 2,
       "version_minor": 0
      },
      "text/plain": [
       "Map(center=[40, -100], controls=(WidgetControl(options=['position', 'transparent_bg'], widget=SearchDataGUI(ch…"
      ]
     },
     "execution_count": 40,
     "metadata": {},
     "output_type": "execute_result"
    }
   ],
   "source": [
    "m = geemap.Map(center = (40,-100), zoom = 4)\n",
    "dem = ee.Image('USGS/SRTMGL1_003')\n",
    "vis_params = {\n",
    "    'min' : 0,\n",
    "    'max' : 4000,\n",
    "    'palette' : 'terrain',\n",
    "}\n",
    "m.add_layer(dem,vis_params,'SRTM DEM')\n",
    "m.add('layer_manager')\n",
    "m"
   ]
  },
  {
   "cell_type": "markdown",
   "id": "5477d3a4",
   "metadata": {},
   "source": [
    "dem.clip(m.user_roi) # for single image clip \n",
    "For multiple use dem.clipToCollections(m.user_rois)"
   ]
  },
  {
   "cell_type": "code",
   "execution_count": null,
   "id": "d47a764a",
   "metadata": {},
   "outputs": [
    {
     "data": {
      "text/html": [
       "\n",
       "            <style>\n",
       "                .geemap-dark {\n",
       "                    --jp-widgets-color: white;\n",
       "                    --jp-widgets-label-color: white;\n",
       "                    --jp-ui-font-color1: white;\n",
       "                    --jp-layout-color2: #454545;\n",
       "                    background-color: #383838;\n",
       "                }\n",
       "\n",
       "                .geemap-dark .jupyter-button {\n",
       "                    --jp-layout-color3: #383838;\n",
       "                }\n",
       "\n",
       "                .geemap-colab {\n",
       "                    background-color: var(--colab-primary-surface-color, white);\n",
       "                }\n",
       "\n",
       "                .geemap-colab .jupyter-button {\n",
       "                    --jp-layout-color3: var(--colab-primary-surface-color, white);\n",
       "                }\n",
       "            </style>\n",
       "            "
      ],
      "text/plain": [
       "<IPython.core.display.HTML object>"
      ]
     },
     "metadata": {},
     "output_type": "display_data"
    }
   ],
   "source": [
    "if m.user_roi is not None:\n",
    "    image = dem.clipToCollection(m.user_rois) \n",
    "    m.layers[1].visible = False  # Hide the original layer\n",
    "    m.add_layer(image, vis_params, 'Clipped SRTM DEM')"
   ]
  },
  {
   "cell_type": "markdown",
   "id": "d2a8758f",
   "metadata": {},
   "source": [
    "# Earth Engine Data Types"
   ]
  },
  {
   "cell_type": "code",
   "execution_count": 49,
   "id": "2ec2ff6e",
   "metadata": {},
   "outputs": [
    {
     "data": {
      "text/html": [
       "\n",
       "            <style>\n",
       "                .geemap-dark {\n",
       "                    --jp-widgets-color: white;\n",
       "                    --jp-widgets-label-color: white;\n",
       "                    --jp-ui-font-color1: white;\n",
       "                    --jp-layout-color2: #454545;\n",
       "                    background-color: #383838;\n",
       "                }\n",
       "\n",
       "                .geemap-dark .jupyter-button {\n",
       "                    --jp-layout-color3: #383838;\n",
       "                }\n",
       "\n",
       "                .geemap-colab {\n",
       "                    background-color: var(--colab-primary-surface-color, white);\n",
       "                }\n",
       "\n",
       "                .geemap-colab .jupyter-button {\n",
       "                    --jp-layout-color3: var(--colab-primary-surface-color, white);\n",
       "                }\n",
       "            </style>\n",
       "            "
      ],
      "text/plain": [
       "<IPython.core.display.HTML object>"
      ]
     },
     "metadata": {},
     "output_type": "display_data"
    },
    {
     "data": {
      "application/vnd.jupyter.widget-view+json": {
       "model_id": "bf3cbb8c92e440058f641976f02b1f94",
       "version_major": 2,
       "version_minor": 0
      },
      "text/plain": [
       "Map(bottom=6506.0, center=[39.94343646197423, -108.78662109375001], controls=(WidgetControl(options=['position…"
      ]
     },
     "execution_count": 49,
     "metadata": {},
     "output_type": "execute_result"
    }
   ],
   "source": [
    "image  = ee.Image('LANDSAT/LE7_TOA_5YEAR/1999_2003')\n",
    "image_vis = {\n",
    "    'bands': ['B4', 'B3', 'B2'],\n",
    "    'min': 20,\n",
    "    'max': 200,\n",
    "    'gamma': 2.0\n",
    "}\n",
    "m.remove_layer('Clipped SRTM DEM') # Remove the clipped layer\n",
    "m.add_layer(image, image_vis, 'Landsat 7')\n",
    "m"
   ]
  },
  {
   "cell_type": "code",
   "execution_count": 58,
   "id": "eda9b0a1",
   "metadata": {},
   "outputs": [
    {
     "data": {
      "text/html": [
       "\n",
       "            <style>\n",
       "                .geemap-dark {\n",
       "                    --jp-widgets-color: white;\n",
       "                    --jp-widgets-label-color: white;\n",
       "                    --jp-ui-font-color1: white;\n",
       "                    --jp-layout-color2: #454545;\n",
       "                    background-color: #383838;\n",
       "                }\n",
       "\n",
       "                .geemap-dark .jupyter-button {\n",
       "                    --jp-layout-color3: #383838;\n",
       "                }\n",
       "\n",
       "                .geemap-colab {\n",
       "                    background-color: var(--colab-primary-surface-color, white);\n",
       "                }\n",
       "\n",
       "                .geemap-colab .jupyter-button {\n",
       "                    --jp-layout-color3: var(--colab-primary-surface-color, white);\n",
       "                }\n",
       "            </style>\n",
       "            "
      ],
      "text/plain": [
       "<IPython.core.display.HTML object>"
      ]
     },
     "metadata": {},
     "output_type": "display_data"
    }
   ],
   "source": [
    "collection = ee.ImageCollection('COPERNICUS/S2_SR_HARMONIZED')\n"
   ]
  },
  {
   "cell_type": "code",
   "execution_count": 54,
   "id": "16f433a1",
   "metadata": {},
   "outputs": [
    {
     "data": {
      "text/html": [
       "\n",
       "            <style>\n",
       "                .geemap-dark {\n",
       "                    --jp-widgets-color: white;\n",
       "                    --jp-widgets-label-color: white;\n",
       "                    --jp-ui-font-color1: white;\n",
       "                    --jp-layout-color2: #454545;\n",
       "                    background-color: #383838;\n",
       "                }\n",
       "\n",
       "                .geemap-dark .jupyter-button {\n",
       "                    --jp-layout-color3: #383838;\n",
       "                }\n",
       "\n",
       "                .geemap-colab {\n",
       "                    background-color: var(--colab-primary-surface-color, white);\n",
       "                }\n",
       "\n",
       "                .geemap-colab .jupyter-button {\n",
       "                    --jp-layout-color3: var(--colab-primary-surface-color, white);\n",
       "                }\n",
       "            </style>\n",
       "            "
      ],
      "text/plain": [
       "<IPython.core.display.HTML object>"
      ]
     },
     "metadata": {},
     "output_type": "display_data"
    },
    {
     "data": {
      "text/html": [
       "<pre>&lt;ee.ee_number.Number object at 0x00000185ED381D20&gt;</pre>"
      ],
      "text/plain": [
       "<ee.ee_number.Number at 0x185ed381d20>"
      ]
     },
     "execution_count": 54,
     "metadata": {},
     "output_type": "execute_result"
    }
   ],
   "source": [
    "collection.size() # Get the number of images in the collection"
   ]
  },
  {
   "cell_type": "code",
   "execution_count": 59,
   "id": "dd00aaca",
   "metadata": {},
   "outputs": [
    {
     "data": {
      "text/html": [
       "\n",
       "            <style>\n",
       "                .geemap-dark {\n",
       "                    --jp-widgets-color: white;\n",
       "                    --jp-widgets-label-color: white;\n",
       "                    --jp-ui-font-color1: white;\n",
       "                    --jp-layout-color2: #454545;\n",
       "                    background-color: #383838;\n",
       "                }\n",
       "\n",
       "                .geemap-dark .jupyter-button {\n",
       "                    --jp-layout-color3: #383838;\n",
       "                }\n",
       "\n",
       "                .geemap-colab {\n",
       "                    background-color: var(--colab-primary-surface-color, white);\n",
       "                }\n",
       "\n",
       "                .geemap-colab .jupyter-button {\n",
       "                    --jp-layout-color3: var(--colab-primary-surface-color, white);\n",
       "                }\n",
       "            </style>\n",
       "            "
      ],
      "text/plain": [
       "<IPython.core.display.HTML object>"
      ]
     },
     "metadata": {},
     "output_type": "display_data"
    }
   ],
   "source": [
    "geometry= ee.Geometry.Point(-122.262, 37.8719) # Berkeley, California\n",
    "images = collection.filterBounds(geometry)\n"
   ]
  },
  {
   "cell_type": "code",
   "execution_count": 62,
   "id": "c3a6e962",
   "metadata": {},
   "outputs": [
    {
     "data": {
      "text/html": [
       "\n",
       "            <style>\n",
       "                .geemap-dark {\n",
       "                    --jp-widgets-color: white;\n",
       "                    --jp-widgets-label-color: white;\n",
       "                    --jp-ui-font-color1: white;\n",
       "                    --jp-layout-color2: #454545;\n",
       "                    background-color: #383838;\n",
       "                }\n",
       "\n",
       "                .geemap-dark .jupyter-button {\n",
       "                    --jp-layout-color3: #383838;\n",
       "                }\n",
       "\n",
       "                .geemap-colab {\n",
       "                    background-color: var(--colab-primary-surface-color, white);\n",
       "                }\n",
       "\n",
       "                .geemap-colab .jupyter-button {\n",
       "                    --jp-layout-color3: var(--colab-primary-surface-color, white);\n",
       "                }\n",
       "            </style>\n",
       "            "
      ],
      "text/plain": [
       "<IPython.core.display.HTML object>"
      ]
     },
     "metadata": {},
     "output_type": "display_data"
    },
    {
     "data": {
      "text/html": [
       "<div><style>:root {\n",
       "  --font-color-primary: var(--jp-content-font-color0, rgba(0, 0, 0, 1));\n",
       "  --font-color-secondary: var(--jp-content-font-color2, rgba(0, 0, 0, 0.7));\n",
       "  --font-color-accent: rgba(123, 31, 162, 1);\n",
       "  --border-color: var(--jp-border-color2, #e0e0e0);\n",
       "  --background-color: var(--jp-layout-color0, white);\n",
       "  --background-color-row-even: var(--jp-layout-color1, white);\n",
       "  --background-color-row-odd: var(--jp-layout-color2, #eeeeee);\n",
       "}\n",
       "\n",
       "html[theme=\"dark\"],\n",
       "body[data-theme=\"dark\"],\n",
       "body.vscode-dark {\n",
       "  --font-color-primary: rgba(255, 255, 255, 1);\n",
       "  --font-color-secondary: rgba(255, 255, 255, 0.7);\n",
       "  --font-color-accent: rgb(173, 132, 190);\n",
       "  --border-color: #2e2e2e;\n",
       "  --background-color: #111111;\n",
       "  --background-color-row-even: #111111;\n",
       "  --background-color-row-odd: #313131;\n",
       "}\n",
       "\n",
       ".eerepr {\n",
       "  padding: 1em;\n",
       "  line-height: 1.5em;\n",
       "  min-width: 300px;\n",
       "  max-width: 1200px;\n",
       "  overflow-y: scroll;\n",
       "  max-height: 600px;\n",
       "  border: 1px solid var(--border-color);\n",
       "  font-family: monospace;\n",
       "  font-size: 14px;\n",
       "}\n",
       "\n",
       ".eerepr li {\n",
       "  list-style-type: none;\n",
       "  margin: 0;\n",
       "}\n",
       "\n",
       ".eerepr ul {\n",
       "  padding-left: 1.5em !important;\n",
       "  margin: 0;\n",
       "}\n",
       "\n",
       ".eerepr > ul {\n",
       "  padding-left: 0 !important;\n",
       "}\n",
       "\n",
       ".eerepr summary {\n",
       "  color: var(--font-color-secondary);\n",
       "  cursor: pointer;\n",
       "  margin: 0;\n",
       "}\n",
       "\n",
       ".eerepr summary:hover {\n",
       "  color: var(--font-color-primary);\n",
       "  background-color: var(--background-color-row-odd)\n",
       "}\n",
       "\n",
       ".ee-k {\n",
       "  color: var(--font-color-accent);\n",
       "  margin-right: 6px;\n",
       "}\n",
       "\n",
       ".ee-v {\n",
       "  color: var(--font-color-primary);\n",
       "}\n",
       "\n",
       ".eerepr details > summary::before {\n",
       "  content: '▼';\n",
       "  display: inline-block;\n",
       "  margin-right: 6px;\n",
       "  transition: transform 0.2s;\n",
       "  transform: rotate(-90deg);\n",
       "}\n",
       "\n",
       ".eerepr details[open] > summary::before {\n",
       "  transform: rotate(0deg);\n",
       "}\n",
       "\n",
       ".eerepr details summary::-webkit-details-marker {\n",
       "  display:none;\n",
       "}\n",
       "\n",
       ".eerepr details summary {\n",
       "  list-style-type: none;\n",
       "}\n",
       "</style><div class='eerepr'><ul><li><details><summary>Image COPERNICUS/S2_SR_HARMONIZED/20181216T185759_20181216T185801_T10SEG (26 bands)</summary><ul><li><span class='ee-k'>type:</span><span class='ee-v'>Image</span></li><li><span class='ee-k'>id:</span><span class='ee-v'>COPERNICUS/S2_SR_HARMONIZED/20181216T185759_20181216T185801_T10SEG</span></li><li><span class='ee-k'>version:</span><span class='ee-v'>1744981448259209</span></li><li><details><summary>bands: List (26 elements)</summary><ul><li><details><summary>0: \"B1\", unsigned int16, EPSG:32610, 1830x1830 px</summary><ul><li><span class='ee-k'>id:</span><span class='ee-v'>B1</span></li><li><span class='ee-k'>crs:</span><span class='ee-v'>EPSG:32610</span></li><li><details><summary>crs_transform: [60, 0, 499980, 0, -60, 4200000]</summary><ul><li><span class='ee-k'>0:</span><span class='ee-v'>60</span></li><li><span class='ee-k'>1:</span><span class='ee-v'>0</span></li><li><span class='ee-k'>2:</span><span class='ee-v'>499980</span></li><li><span class='ee-k'>3:</span><span class='ee-v'>0</span></li><li><span class='ee-k'>4:</span><span class='ee-v'>-60</span></li><li><span class='ee-k'>5:</span><span class='ee-v'>4200000</span></li></ul></details></li><li><details><summary>data_type: unsigned int16</summary><ul><li><span class='ee-k'>type:</span><span class='ee-v'>PixelType</span></li><li><span class='ee-k'>max:</span><span class='ee-v'>65535</span></li><li><span class='ee-k'>min:</span><span class='ee-v'>0</span></li><li><span class='ee-k'>precision:</span><span class='ee-v'>int</span></li></ul></details></li><li><details><summary>dimensions: [1830, 1830]</summary><ul><li><span class='ee-k'>0:</span><span class='ee-v'>1830</span></li><li><span class='ee-k'>1:</span><span class='ee-v'>1830</span></li></ul></details></li></ul></details></li><li><details><summary>1: \"B2\", unsigned int16, EPSG:32610, 10980x10980 px</summary><ul><li><span class='ee-k'>id:</span><span class='ee-v'>B2</span></li><li><span class='ee-k'>crs:</span><span class='ee-v'>EPSG:32610</span></li><li><details><summary>crs_transform: [10, 0, 499980, 0, -10, 4200000]</summary><ul><li><span class='ee-k'>0:</span><span class='ee-v'>10</span></li><li><span class='ee-k'>1:</span><span class='ee-v'>0</span></li><li><span class='ee-k'>2:</span><span class='ee-v'>499980</span></li><li><span class='ee-k'>3:</span><span class='ee-v'>0</span></li><li><span class='ee-k'>4:</span><span class='ee-v'>-10</span></li><li><span class='ee-k'>5:</span><span class='ee-v'>4200000</span></li></ul></details></li><li><details><summary>data_type: unsigned int16</summary><ul><li><span class='ee-k'>type:</span><span class='ee-v'>PixelType</span></li><li><span class='ee-k'>max:</span><span class='ee-v'>65535</span></li><li><span class='ee-k'>min:</span><span class='ee-v'>0</span></li><li><span class='ee-k'>precision:</span><span class='ee-v'>int</span></li></ul></details></li><li><details><summary>dimensions: [10980, 10980]</summary><ul><li><span class='ee-k'>0:</span><span class='ee-v'>10980</span></li><li><span class='ee-k'>1:</span><span class='ee-v'>10980</span></li></ul></details></li></ul></details></li><li><details><summary>2: \"B3\", unsigned int16, EPSG:32610, 10980x10980 px</summary><ul><li><span class='ee-k'>id:</span><span class='ee-v'>B3</span></li><li><span class='ee-k'>crs:</span><span class='ee-v'>EPSG:32610</span></li><li><details><summary>crs_transform: [10, 0, 499980, 0, -10, 4200000]</summary><ul><li><span class='ee-k'>0:</span><span class='ee-v'>10</span></li><li><span class='ee-k'>1:</span><span class='ee-v'>0</span></li><li><span class='ee-k'>2:</span><span class='ee-v'>499980</span></li><li><span class='ee-k'>3:</span><span class='ee-v'>0</span></li><li><span class='ee-k'>4:</span><span class='ee-v'>-10</span></li><li><span class='ee-k'>5:</span><span class='ee-v'>4200000</span></li></ul></details></li><li><details><summary>data_type: unsigned int16</summary><ul><li><span class='ee-k'>type:</span><span class='ee-v'>PixelType</span></li><li><span class='ee-k'>max:</span><span class='ee-v'>65535</span></li><li><span class='ee-k'>min:</span><span class='ee-v'>0</span></li><li><span class='ee-k'>precision:</span><span class='ee-v'>int</span></li></ul></details></li><li><details><summary>dimensions: [10980, 10980]</summary><ul><li><span class='ee-k'>0:</span><span class='ee-v'>10980</span></li><li><span class='ee-k'>1:</span><span class='ee-v'>10980</span></li></ul></details></li></ul></details></li><li><details><summary>3: \"B4\", unsigned int16, EPSG:32610, 10980x10980 px</summary><ul><li><span class='ee-k'>id:</span><span class='ee-v'>B4</span></li><li><span class='ee-k'>crs:</span><span class='ee-v'>EPSG:32610</span></li><li><details><summary>crs_transform: [10, 0, 499980, 0, -10, 4200000]</summary><ul><li><span class='ee-k'>0:</span><span class='ee-v'>10</span></li><li><span class='ee-k'>1:</span><span class='ee-v'>0</span></li><li><span class='ee-k'>2:</span><span class='ee-v'>499980</span></li><li><span class='ee-k'>3:</span><span class='ee-v'>0</span></li><li><span class='ee-k'>4:</span><span class='ee-v'>-10</span></li><li><span class='ee-k'>5:</span><span class='ee-v'>4200000</span></li></ul></details></li><li><details><summary>data_type: unsigned int16</summary><ul><li><span class='ee-k'>type:</span><span class='ee-v'>PixelType</span></li><li><span class='ee-k'>max:</span><span class='ee-v'>65535</span></li><li><span class='ee-k'>min:</span><span class='ee-v'>0</span></li><li><span class='ee-k'>precision:</span><span class='ee-v'>int</span></li></ul></details></li><li><details><summary>dimensions: [10980, 10980]</summary><ul><li><span class='ee-k'>0:</span><span class='ee-v'>10980</span></li><li><span class='ee-k'>1:</span><span class='ee-v'>10980</span></li></ul></details></li></ul></details></li><li><details><summary>4: \"B5\", unsigned int16, EPSG:32610, 5490x5490 px</summary><ul><li><span class='ee-k'>id:</span><span class='ee-v'>B5</span></li><li><span class='ee-k'>crs:</span><span class='ee-v'>EPSG:32610</span></li><li><details><summary>crs_transform: [20, 0, 499980, 0, -20, 4200000]</summary><ul><li><span class='ee-k'>0:</span><span class='ee-v'>20</span></li><li><span class='ee-k'>1:</span><span class='ee-v'>0</span></li><li><span class='ee-k'>2:</span><span class='ee-v'>499980</span></li><li><span class='ee-k'>3:</span><span class='ee-v'>0</span></li><li><span class='ee-k'>4:</span><span class='ee-v'>-20</span></li><li><span class='ee-k'>5:</span><span class='ee-v'>4200000</span></li></ul></details></li><li><details><summary>data_type: unsigned int16</summary><ul><li><span class='ee-k'>type:</span><span class='ee-v'>PixelType</span></li><li><span class='ee-k'>max:</span><span class='ee-v'>65535</span></li><li><span class='ee-k'>min:</span><span class='ee-v'>0</span></li><li><span class='ee-k'>precision:</span><span class='ee-v'>int</span></li></ul></details></li><li><details><summary>dimensions: [5490, 5490]</summary><ul><li><span class='ee-k'>0:</span><span class='ee-v'>5490</span></li><li><span class='ee-k'>1:</span><span class='ee-v'>5490</span></li></ul></details></li></ul></details></li><li><details><summary>5: \"B6\", unsigned int16, EPSG:32610, 5490x5490 px</summary><ul><li><span class='ee-k'>id:</span><span class='ee-v'>B6</span></li><li><span class='ee-k'>crs:</span><span class='ee-v'>EPSG:32610</span></li><li><details><summary>crs_transform: [20, 0, 499980, 0, -20, 4200000]</summary><ul><li><span class='ee-k'>0:</span><span class='ee-v'>20</span></li><li><span class='ee-k'>1:</span><span class='ee-v'>0</span></li><li><span class='ee-k'>2:</span><span class='ee-v'>499980</span></li><li><span class='ee-k'>3:</span><span class='ee-v'>0</span></li><li><span class='ee-k'>4:</span><span class='ee-v'>-20</span></li><li><span class='ee-k'>5:</span><span class='ee-v'>4200000</span></li></ul></details></li><li><details><summary>data_type: unsigned int16</summary><ul><li><span class='ee-k'>type:</span><span class='ee-v'>PixelType</span></li><li><span class='ee-k'>max:</span><span class='ee-v'>65535</span></li><li><span class='ee-k'>min:</span><span class='ee-v'>0</span></li><li><span class='ee-k'>precision:</span><span class='ee-v'>int</span></li></ul></details></li><li><details><summary>dimensions: [5490, 5490]</summary><ul><li><span class='ee-k'>0:</span><span class='ee-v'>5490</span></li><li><span class='ee-k'>1:</span><span class='ee-v'>5490</span></li></ul></details></li></ul></details></li><li><details><summary>6: \"B7\", unsigned int16, EPSG:32610, 5490x5490 px</summary><ul><li><span class='ee-k'>id:</span><span class='ee-v'>B7</span></li><li><span class='ee-k'>crs:</span><span class='ee-v'>EPSG:32610</span></li><li><details><summary>crs_transform: [20, 0, 499980, 0, -20, 4200000]</summary><ul><li><span class='ee-k'>0:</span><span class='ee-v'>20</span></li><li><span class='ee-k'>1:</span><span class='ee-v'>0</span></li><li><span class='ee-k'>2:</span><span class='ee-v'>499980</span></li><li><span class='ee-k'>3:</span><span class='ee-v'>0</span></li><li><span class='ee-k'>4:</span><span class='ee-v'>-20</span></li><li><span class='ee-k'>5:</span><span class='ee-v'>4200000</span></li></ul></details></li><li><details><summary>data_type: unsigned int16</summary><ul><li><span class='ee-k'>type:</span><span class='ee-v'>PixelType</span></li><li><span class='ee-k'>max:</span><span class='ee-v'>65535</span></li><li><span class='ee-k'>min:</span><span class='ee-v'>0</span></li><li><span class='ee-k'>precision:</span><span class='ee-v'>int</span></li></ul></details></li><li><details><summary>dimensions: [5490, 5490]</summary><ul><li><span class='ee-k'>0:</span><span class='ee-v'>5490</span></li><li><span class='ee-k'>1:</span><span class='ee-v'>5490</span></li></ul></details></li></ul></details></li><li><details><summary>7: \"B8\", unsigned int16, EPSG:32610, 10980x10980 px</summary><ul><li><span class='ee-k'>id:</span><span class='ee-v'>B8</span></li><li><span class='ee-k'>crs:</span><span class='ee-v'>EPSG:32610</span></li><li><details><summary>crs_transform: [10, 0, 499980, 0, -10, 4200000]</summary><ul><li><span class='ee-k'>0:</span><span class='ee-v'>10</span></li><li><span class='ee-k'>1:</span><span class='ee-v'>0</span></li><li><span class='ee-k'>2:</span><span class='ee-v'>499980</span></li><li><span class='ee-k'>3:</span><span class='ee-v'>0</span></li><li><span class='ee-k'>4:</span><span class='ee-v'>-10</span></li><li><span class='ee-k'>5:</span><span class='ee-v'>4200000</span></li></ul></details></li><li><details><summary>data_type: unsigned int16</summary><ul><li><span class='ee-k'>type:</span><span class='ee-v'>PixelType</span></li><li><span class='ee-k'>max:</span><span class='ee-v'>65535</span></li><li><span class='ee-k'>min:</span><span class='ee-v'>0</span></li><li><span class='ee-k'>precision:</span><span class='ee-v'>int</span></li></ul></details></li><li><details><summary>dimensions: [10980, 10980]</summary><ul><li><span class='ee-k'>0:</span><span class='ee-v'>10980</span></li><li><span class='ee-k'>1:</span><span class='ee-v'>10980</span></li></ul></details></li></ul></details></li><li><details><summary>8: \"B8A\", unsigned int16, EPSG:32610, 5490x5490 px</summary><ul><li><span class='ee-k'>id:</span><span class='ee-v'>B8A</span></li><li><span class='ee-k'>crs:</span><span class='ee-v'>EPSG:32610</span></li><li><details><summary>crs_transform: [20, 0, 499980, 0, -20, 4200000]</summary><ul><li><span class='ee-k'>0:</span><span class='ee-v'>20</span></li><li><span class='ee-k'>1:</span><span class='ee-v'>0</span></li><li><span class='ee-k'>2:</span><span class='ee-v'>499980</span></li><li><span class='ee-k'>3:</span><span class='ee-v'>0</span></li><li><span class='ee-k'>4:</span><span class='ee-v'>-20</span></li><li><span class='ee-k'>5:</span><span class='ee-v'>4200000</span></li></ul></details></li><li><details><summary>data_type: unsigned int16</summary><ul><li><span class='ee-k'>type:</span><span class='ee-v'>PixelType</span></li><li><span class='ee-k'>max:</span><span class='ee-v'>65535</span></li><li><span class='ee-k'>min:</span><span class='ee-v'>0</span></li><li><span class='ee-k'>precision:</span><span class='ee-v'>int</span></li></ul></details></li><li><details><summary>dimensions: [5490, 5490]</summary><ul><li><span class='ee-k'>0:</span><span class='ee-v'>5490</span></li><li><span class='ee-k'>1:</span><span class='ee-v'>5490</span></li></ul></details></li></ul></details></li><li><details><summary>9: \"B9\", unsigned int16, EPSG:32610, 1830x1830 px</summary><ul><li><span class='ee-k'>id:</span><span class='ee-v'>B9</span></li><li><span class='ee-k'>crs:</span><span class='ee-v'>EPSG:32610</span></li><li><details><summary>crs_transform: [60, 0, 499980, 0, -60, 4200000]</summary><ul><li><span class='ee-k'>0:</span><span class='ee-v'>60</span></li><li><span class='ee-k'>1:</span><span class='ee-v'>0</span></li><li><span class='ee-k'>2:</span><span class='ee-v'>499980</span></li><li><span class='ee-k'>3:</span><span class='ee-v'>0</span></li><li><span class='ee-k'>4:</span><span class='ee-v'>-60</span></li><li><span class='ee-k'>5:</span><span class='ee-v'>4200000</span></li></ul></details></li><li><details><summary>data_type: unsigned int16</summary><ul><li><span class='ee-k'>type:</span><span class='ee-v'>PixelType</span></li><li><span class='ee-k'>max:</span><span class='ee-v'>65535</span></li><li><span class='ee-k'>min:</span><span class='ee-v'>0</span></li><li><span class='ee-k'>precision:</span><span class='ee-v'>int</span></li></ul></details></li><li><details><summary>dimensions: [1830, 1830]</summary><ul><li><span class='ee-k'>0:</span><span class='ee-v'>1830</span></li><li><span class='ee-k'>1:</span><span class='ee-v'>1830</span></li></ul></details></li></ul></details></li><li><details><summary>10: \"B11\", unsigned int16, EPSG:32610, 5490x5490 px</summary><ul><li><span class='ee-k'>id:</span><span class='ee-v'>B11</span></li><li><span class='ee-k'>crs:</span><span class='ee-v'>EPSG:32610</span></li><li><details><summary>crs_transform: [20, 0, 499980, 0, -20, 4200000]</summary><ul><li><span class='ee-k'>0:</span><span class='ee-v'>20</span></li><li><span class='ee-k'>1:</span><span class='ee-v'>0</span></li><li><span class='ee-k'>2:</span><span class='ee-v'>499980</span></li><li><span class='ee-k'>3:</span><span class='ee-v'>0</span></li><li><span class='ee-k'>4:</span><span class='ee-v'>-20</span></li><li><span class='ee-k'>5:</span><span class='ee-v'>4200000</span></li></ul></details></li><li><details><summary>data_type: unsigned int16</summary><ul><li><span class='ee-k'>type:</span><span class='ee-v'>PixelType</span></li><li><span class='ee-k'>max:</span><span class='ee-v'>65535</span></li><li><span class='ee-k'>min:</span><span class='ee-v'>0</span></li><li><span class='ee-k'>precision:</span><span class='ee-v'>int</span></li></ul></details></li><li><details><summary>dimensions: [5490, 5490]</summary><ul><li><span class='ee-k'>0:</span><span class='ee-v'>5490</span></li><li><span class='ee-k'>1:</span><span class='ee-v'>5490</span></li></ul></details></li></ul></details></li><li><details><summary>11: \"B12\", unsigned int16, EPSG:32610, 5490x5490 px</summary><ul><li><span class='ee-k'>id:</span><span class='ee-v'>B12</span></li><li><span class='ee-k'>crs:</span><span class='ee-v'>EPSG:32610</span></li><li><details><summary>crs_transform: [20, 0, 499980, 0, -20, 4200000]</summary><ul><li><span class='ee-k'>0:</span><span class='ee-v'>20</span></li><li><span class='ee-k'>1:</span><span class='ee-v'>0</span></li><li><span class='ee-k'>2:</span><span class='ee-v'>499980</span></li><li><span class='ee-k'>3:</span><span class='ee-v'>0</span></li><li><span class='ee-k'>4:</span><span class='ee-v'>-20</span></li><li><span class='ee-k'>5:</span><span class='ee-v'>4200000</span></li></ul></details></li><li><details><summary>data_type: unsigned int16</summary><ul><li><span class='ee-k'>type:</span><span class='ee-v'>PixelType</span></li><li><span class='ee-k'>max:</span><span class='ee-v'>65535</span></li><li><span class='ee-k'>min:</span><span class='ee-v'>0</span></li><li><span class='ee-k'>precision:</span><span class='ee-v'>int</span></li></ul></details></li><li><details><summary>dimensions: [5490, 5490]</summary><ul><li><span class='ee-k'>0:</span><span class='ee-v'>5490</span></li><li><span class='ee-k'>1:</span><span class='ee-v'>5490</span></li></ul></details></li></ul></details></li><li><details><summary>12: \"AOT\", unsigned int16, EPSG:32610, 10980x10980 px</summary><ul><li><span class='ee-k'>id:</span><span class='ee-v'>AOT</span></li><li><span class='ee-k'>crs:</span><span class='ee-v'>EPSG:32610</span></li><li><details><summary>crs_transform: [10, 0, 499980, 0, -10, 4200000]</summary><ul><li><span class='ee-k'>0:</span><span class='ee-v'>10</span></li><li><span class='ee-k'>1:</span><span class='ee-v'>0</span></li><li><span class='ee-k'>2:</span><span class='ee-v'>499980</span></li><li><span class='ee-k'>3:</span><span class='ee-v'>0</span></li><li><span class='ee-k'>4:</span><span class='ee-v'>-10</span></li><li><span class='ee-k'>5:</span><span class='ee-v'>4200000</span></li></ul></details></li><li><details><summary>data_type: unsigned int16</summary><ul><li><span class='ee-k'>type:</span><span class='ee-v'>PixelType</span></li><li><span class='ee-k'>max:</span><span class='ee-v'>65535</span></li><li><span class='ee-k'>min:</span><span class='ee-v'>0</span></li><li><span class='ee-k'>precision:</span><span class='ee-v'>int</span></li></ul></details></li><li><details><summary>dimensions: [10980, 10980]</summary><ul><li><span class='ee-k'>0:</span><span class='ee-v'>10980</span></li><li><span class='ee-k'>1:</span><span class='ee-v'>10980</span></li></ul></details></li></ul></details></li><li><details><summary>13: \"WVP\", unsigned int16, EPSG:32610, 10980x10980 px</summary><ul><li><span class='ee-k'>id:</span><span class='ee-v'>WVP</span></li><li><span class='ee-k'>crs:</span><span class='ee-v'>EPSG:32610</span></li><li><details><summary>crs_transform: [10, 0, 499980, 0, -10, 4200000]</summary><ul><li><span class='ee-k'>0:</span><span class='ee-v'>10</span></li><li><span class='ee-k'>1:</span><span class='ee-v'>0</span></li><li><span class='ee-k'>2:</span><span class='ee-v'>499980</span></li><li><span class='ee-k'>3:</span><span class='ee-v'>0</span></li><li><span class='ee-k'>4:</span><span class='ee-v'>-10</span></li><li><span class='ee-k'>5:</span><span class='ee-v'>4200000</span></li></ul></details></li><li><details><summary>data_type: unsigned int16</summary><ul><li><span class='ee-k'>type:</span><span class='ee-v'>PixelType</span></li><li><span class='ee-k'>max:</span><span class='ee-v'>65535</span></li><li><span class='ee-k'>min:</span><span class='ee-v'>0</span></li><li><span class='ee-k'>precision:</span><span class='ee-v'>int</span></li></ul></details></li><li><details><summary>dimensions: [10980, 10980]</summary><ul><li><span class='ee-k'>0:</span><span class='ee-v'>10980</span></li><li><span class='ee-k'>1:</span><span class='ee-v'>10980</span></li></ul></details></li></ul></details></li><li><details><summary>14: \"SCL\", unsigned int8, EPSG:32610, 5490x5490 px</summary><ul><li><span class='ee-k'>id:</span><span class='ee-v'>SCL</span></li><li><span class='ee-k'>crs:</span><span class='ee-v'>EPSG:32610</span></li><li><details><summary>crs_transform: [20, 0, 499980, 0, -20, 4200000]</summary><ul><li><span class='ee-k'>0:</span><span class='ee-v'>20</span></li><li><span class='ee-k'>1:</span><span class='ee-v'>0</span></li><li><span class='ee-k'>2:</span><span class='ee-v'>499980</span></li><li><span class='ee-k'>3:</span><span class='ee-v'>0</span></li><li><span class='ee-k'>4:</span><span class='ee-v'>-20</span></li><li><span class='ee-k'>5:</span><span class='ee-v'>4200000</span></li></ul></details></li><li><details><summary>data_type: unsigned int8</summary><ul><li><span class='ee-k'>type:</span><span class='ee-v'>PixelType</span></li><li><span class='ee-k'>max:</span><span class='ee-v'>255</span></li><li><span class='ee-k'>min:</span><span class='ee-v'>0</span></li><li><span class='ee-k'>precision:</span><span class='ee-v'>int</span></li></ul></details></li><li><details><summary>dimensions: [5490, 5490]</summary><ul><li><span class='ee-k'>0:</span><span class='ee-v'>5490</span></li><li><span class='ee-k'>1:</span><span class='ee-v'>5490</span></li></ul></details></li></ul></details></li><li><details><summary>15: \"TCI_R\", unsigned int8, EPSG:32610, 10980x10980 px</summary><ul><li><span class='ee-k'>id:</span><span class='ee-v'>TCI_R</span></li><li><span class='ee-k'>crs:</span><span class='ee-v'>EPSG:32610</span></li><li><details><summary>crs_transform: [10, 0, 499980, 0, -10, 4200000]</summary><ul><li><span class='ee-k'>0:</span><span class='ee-v'>10</span></li><li><span class='ee-k'>1:</span><span class='ee-v'>0</span></li><li><span class='ee-k'>2:</span><span class='ee-v'>499980</span></li><li><span class='ee-k'>3:</span><span class='ee-v'>0</span></li><li><span class='ee-k'>4:</span><span class='ee-v'>-10</span></li><li><span class='ee-k'>5:</span><span class='ee-v'>4200000</span></li></ul></details></li><li><details><summary>data_type: unsigned int8</summary><ul><li><span class='ee-k'>type:</span><span class='ee-v'>PixelType</span></li><li><span class='ee-k'>max:</span><span class='ee-v'>255</span></li><li><span class='ee-k'>min:</span><span class='ee-v'>0</span></li><li><span class='ee-k'>precision:</span><span class='ee-v'>int</span></li></ul></details></li><li><details><summary>dimensions: [10980, 10980]</summary><ul><li><span class='ee-k'>0:</span><span class='ee-v'>10980</span></li><li><span class='ee-k'>1:</span><span class='ee-v'>10980</span></li></ul></details></li></ul></details></li><li><details><summary>16: \"TCI_G\", unsigned int8, EPSG:32610, 10980x10980 px</summary><ul><li><span class='ee-k'>id:</span><span class='ee-v'>TCI_G</span></li><li><span class='ee-k'>crs:</span><span class='ee-v'>EPSG:32610</span></li><li><details><summary>crs_transform: [10, 0, 499980, 0, -10, 4200000]</summary><ul><li><span class='ee-k'>0:</span><span class='ee-v'>10</span></li><li><span class='ee-k'>1:</span><span class='ee-v'>0</span></li><li><span class='ee-k'>2:</span><span class='ee-v'>499980</span></li><li><span class='ee-k'>3:</span><span class='ee-v'>0</span></li><li><span class='ee-k'>4:</span><span class='ee-v'>-10</span></li><li><span class='ee-k'>5:</span><span class='ee-v'>4200000</span></li></ul></details></li><li><details><summary>data_type: unsigned int8</summary><ul><li><span class='ee-k'>type:</span><span class='ee-v'>PixelType</span></li><li><span class='ee-k'>max:</span><span class='ee-v'>255</span></li><li><span class='ee-k'>min:</span><span class='ee-v'>0</span></li><li><span class='ee-k'>precision:</span><span class='ee-v'>int</span></li></ul></details></li><li><details><summary>dimensions: [10980, 10980]</summary><ul><li><span class='ee-k'>0:</span><span class='ee-v'>10980</span></li><li><span class='ee-k'>1:</span><span class='ee-v'>10980</span></li></ul></details></li></ul></details></li><li><details><summary>17: \"TCI_B\", unsigned int8, EPSG:32610, 10980x10980 px</summary><ul><li><span class='ee-k'>id:</span><span class='ee-v'>TCI_B</span></li><li><span class='ee-k'>crs:</span><span class='ee-v'>EPSG:32610</span></li><li><details><summary>crs_transform: [10, 0, 499980, 0, -10, 4200000]</summary><ul><li><span class='ee-k'>0:</span><span class='ee-v'>10</span></li><li><span class='ee-k'>1:</span><span class='ee-v'>0</span></li><li><span class='ee-k'>2:</span><span class='ee-v'>499980</span></li><li><span class='ee-k'>3:</span><span class='ee-v'>0</span></li><li><span class='ee-k'>4:</span><span class='ee-v'>-10</span></li><li><span class='ee-k'>5:</span><span class='ee-v'>4200000</span></li></ul></details></li><li><details><summary>data_type: unsigned int8</summary><ul><li><span class='ee-k'>type:</span><span class='ee-v'>PixelType</span></li><li><span class='ee-k'>max:</span><span class='ee-v'>255</span></li><li><span class='ee-k'>min:</span><span class='ee-v'>0</span></li><li><span class='ee-k'>precision:</span><span class='ee-v'>int</span></li></ul></details></li><li><details><summary>dimensions: [10980, 10980]</summary><ul><li><span class='ee-k'>0:</span><span class='ee-v'>10980</span></li><li><span class='ee-k'>1:</span><span class='ee-v'>10980</span></li></ul></details></li></ul></details></li><li><details><summary>18: \"MSK_CLDPRB\", unsigned int8, EPSG:32610, 5490x5490 px</summary><ul><li><span class='ee-k'>id:</span><span class='ee-v'>MSK_CLDPRB</span></li><li><span class='ee-k'>crs:</span><span class='ee-v'>EPSG:32610</span></li><li><details><summary>crs_transform: [20, 0, 499980, 0, -20, 4200000]</summary><ul><li><span class='ee-k'>0:</span><span class='ee-v'>20</span></li><li><span class='ee-k'>1:</span><span class='ee-v'>0</span></li><li><span class='ee-k'>2:</span><span class='ee-v'>499980</span></li><li><span class='ee-k'>3:</span><span class='ee-v'>0</span></li><li><span class='ee-k'>4:</span><span class='ee-v'>-20</span></li><li><span class='ee-k'>5:</span><span class='ee-v'>4200000</span></li></ul></details></li><li><details><summary>data_type: unsigned int8</summary><ul><li><span class='ee-k'>type:</span><span class='ee-v'>PixelType</span></li><li><span class='ee-k'>max:</span><span class='ee-v'>255</span></li><li><span class='ee-k'>min:</span><span class='ee-v'>0</span></li><li><span class='ee-k'>precision:</span><span class='ee-v'>int</span></li></ul></details></li><li><details><summary>dimensions: [5490, 5490]</summary><ul><li><span class='ee-k'>0:</span><span class='ee-v'>5490</span></li><li><span class='ee-k'>1:</span><span class='ee-v'>5490</span></li></ul></details></li></ul></details></li><li><details><summary>19: \"MSK_SNWPRB\", unsigned int8, EPSG:32610, 5490x5490 px</summary><ul><li><span class='ee-k'>id:</span><span class='ee-v'>MSK_SNWPRB</span></li><li><span class='ee-k'>crs:</span><span class='ee-v'>EPSG:32610</span></li><li><details><summary>crs_transform: [20, 0, 499980, 0, -20, 4200000]</summary><ul><li><span class='ee-k'>0:</span><span class='ee-v'>20</span></li><li><span class='ee-k'>1:</span><span class='ee-v'>0</span></li><li><span class='ee-k'>2:</span><span class='ee-v'>499980</span></li><li><span class='ee-k'>3:</span><span class='ee-v'>0</span></li><li><span class='ee-k'>4:</span><span class='ee-v'>-20</span></li><li><span class='ee-k'>5:</span><span class='ee-v'>4200000</span></li></ul></details></li><li><details><summary>data_type: unsigned int8</summary><ul><li><span class='ee-k'>type:</span><span class='ee-v'>PixelType</span></li><li><span class='ee-k'>max:</span><span class='ee-v'>255</span></li><li><span class='ee-k'>min:</span><span class='ee-v'>0</span></li><li><span class='ee-k'>precision:</span><span class='ee-v'>int</span></li></ul></details></li><li><details><summary>dimensions: [5490, 5490]</summary><ul><li><span class='ee-k'>0:</span><span class='ee-v'>5490</span></li><li><span class='ee-k'>1:</span><span class='ee-v'>5490</span></li></ul></details></li></ul></details></li><li><details><summary>20: \"QA10\", unsigned int16, EPSG:32610, 10980x10980 px</summary><ul><li><span class='ee-k'>id:</span><span class='ee-v'>QA10</span></li><li><span class='ee-k'>crs:</span><span class='ee-v'>EPSG:32610</span></li><li><details><summary>crs_transform: [10, 0, 499980, 0, -10, 4200000]</summary><ul><li><span class='ee-k'>0:</span><span class='ee-v'>10</span></li><li><span class='ee-k'>1:</span><span class='ee-v'>0</span></li><li><span class='ee-k'>2:</span><span class='ee-v'>499980</span></li><li><span class='ee-k'>3:</span><span class='ee-v'>0</span></li><li><span class='ee-k'>4:</span><span class='ee-v'>-10</span></li><li><span class='ee-k'>5:</span><span class='ee-v'>4200000</span></li></ul></details></li><li><details><summary>data_type: unsigned int16</summary><ul><li><span class='ee-k'>type:</span><span class='ee-v'>PixelType</span></li><li><span class='ee-k'>max:</span><span class='ee-v'>65535</span></li><li><span class='ee-k'>min:</span><span class='ee-v'>0</span></li><li><span class='ee-k'>precision:</span><span class='ee-v'>int</span></li></ul></details></li><li><details><summary>dimensions: [10980, 10980]</summary><ul><li><span class='ee-k'>0:</span><span class='ee-v'>10980</span></li><li><span class='ee-k'>1:</span><span class='ee-v'>10980</span></li></ul></details></li></ul></details></li><li><details><summary>21: \"QA20\", unsigned int32, EPSG:32610, 5490x5490 px</summary><ul><li><span class='ee-k'>id:</span><span class='ee-v'>QA20</span></li><li><span class='ee-k'>crs:</span><span class='ee-v'>EPSG:32610</span></li><li><details><summary>crs_transform: [20, 0, 499980, 0, -20, 4200000]</summary><ul><li><span class='ee-k'>0:</span><span class='ee-v'>20</span></li><li><span class='ee-k'>1:</span><span class='ee-v'>0</span></li><li><span class='ee-k'>2:</span><span class='ee-v'>499980</span></li><li><span class='ee-k'>3:</span><span class='ee-v'>0</span></li><li><span class='ee-k'>4:</span><span class='ee-v'>-20</span></li><li><span class='ee-k'>5:</span><span class='ee-v'>4200000</span></li></ul></details></li><li><details><summary>data_type: unsigned int32</summary><ul><li><span class='ee-k'>type:</span><span class='ee-v'>PixelType</span></li><li><span class='ee-k'>max:</span><span class='ee-v'>4294967295</span></li><li><span class='ee-k'>min:</span><span class='ee-v'>0</span></li><li><span class='ee-k'>precision:</span><span class='ee-v'>int</span></li></ul></details></li><li><details><summary>dimensions: [5490, 5490]</summary><ul><li><span class='ee-k'>0:</span><span class='ee-v'>5490</span></li><li><span class='ee-k'>1:</span><span class='ee-v'>5490</span></li></ul></details></li></ul></details></li><li><details><summary>22: \"QA60\", unsigned int16, EPSG:32610, 1830x1830 px</summary><ul><li><span class='ee-k'>id:</span><span class='ee-v'>QA60</span></li><li><span class='ee-k'>crs:</span><span class='ee-v'>EPSG:32610</span></li><li><details><summary>crs_transform: [60, 0, 499980, 0, -60, 4200000]</summary><ul><li><span class='ee-k'>0:</span><span class='ee-v'>60</span></li><li><span class='ee-k'>1:</span><span class='ee-v'>0</span></li><li><span class='ee-k'>2:</span><span class='ee-v'>499980</span></li><li><span class='ee-k'>3:</span><span class='ee-v'>0</span></li><li><span class='ee-k'>4:</span><span class='ee-v'>-60</span></li><li><span class='ee-k'>5:</span><span class='ee-v'>4200000</span></li></ul></details></li><li><details><summary>data_type: unsigned int16</summary><ul><li><span class='ee-k'>type:</span><span class='ee-v'>PixelType</span></li><li><span class='ee-k'>max:</span><span class='ee-v'>65535</span></li><li><span class='ee-k'>min:</span><span class='ee-v'>0</span></li><li><span class='ee-k'>precision:</span><span class='ee-v'>int</span></li></ul></details></li><li><details><summary>dimensions: [1830, 1830]</summary><ul><li><span class='ee-k'>0:</span><span class='ee-v'>1830</span></li><li><span class='ee-k'>1:</span><span class='ee-v'>1830</span></li></ul></details></li></ul></details></li><li><details><summary>23: \"MSK_CLASSI_OPAQUE\", unsigned int8, EPSG:4326</summary><ul><li><span class='ee-k'>id:</span><span class='ee-v'>MSK_CLASSI_OPAQUE</span></li><li><span class='ee-k'>crs:</span><span class='ee-v'>EPSG:4326</span></li><li><details><summary>crs_transform: [1, 0, 0, 0, 1, 0]</summary><ul><li><span class='ee-k'>0:</span><span class='ee-v'>1</span></li><li><span class='ee-k'>1:</span><span class='ee-v'>0</span></li><li><span class='ee-k'>2:</span><span class='ee-v'>0</span></li><li><span class='ee-k'>3:</span><span class='ee-v'>0</span></li><li><span class='ee-k'>4:</span><span class='ee-v'>1</span></li><li><span class='ee-k'>5:</span><span class='ee-v'>0</span></li></ul></details></li><li><details><summary>data_type: unsigned int8</summary><ul><li><span class='ee-k'>type:</span><span class='ee-v'>PixelType</span></li><li><span class='ee-k'>max:</span><span class='ee-v'>255</span></li><li><span class='ee-k'>min:</span><span class='ee-v'>0</span></li><li><span class='ee-k'>precision:</span><span class='ee-v'>int</span></li></ul></details></li></ul></details></li><li><details><summary>24: \"MSK_CLASSI_CIRRUS\", unsigned int8, EPSG:4326</summary><ul><li><span class='ee-k'>id:</span><span class='ee-v'>MSK_CLASSI_CIRRUS</span></li><li><span class='ee-k'>crs:</span><span class='ee-v'>EPSG:4326</span></li><li><details><summary>crs_transform: [1, 0, 0, 0, 1, 0]</summary><ul><li><span class='ee-k'>0:</span><span class='ee-v'>1</span></li><li><span class='ee-k'>1:</span><span class='ee-v'>0</span></li><li><span class='ee-k'>2:</span><span class='ee-v'>0</span></li><li><span class='ee-k'>3:</span><span class='ee-v'>0</span></li><li><span class='ee-k'>4:</span><span class='ee-v'>1</span></li><li><span class='ee-k'>5:</span><span class='ee-v'>0</span></li></ul></details></li><li><details><summary>data_type: unsigned int8</summary><ul><li><span class='ee-k'>type:</span><span class='ee-v'>PixelType</span></li><li><span class='ee-k'>max:</span><span class='ee-v'>255</span></li><li><span class='ee-k'>min:</span><span class='ee-v'>0</span></li><li><span class='ee-k'>precision:</span><span class='ee-v'>int</span></li></ul></details></li></ul></details></li><li><details><summary>25: \"MSK_CLASSI_SNOW_ICE\", unsigned int8, EPSG:4326</summary><ul><li><span class='ee-k'>id:</span><span class='ee-v'>MSK_CLASSI_SNOW_ICE</span></li><li><span class='ee-k'>crs:</span><span class='ee-v'>EPSG:4326</span></li><li><details><summary>crs_transform: [1, 0, 0, 0, 1, 0]</summary><ul><li><span class='ee-k'>0:</span><span class='ee-v'>1</span></li><li><span class='ee-k'>1:</span><span class='ee-v'>0</span></li><li><span class='ee-k'>2:</span><span class='ee-v'>0</span></li><li><span class='ee-k'>3:</span><span class='ee-v'>0</span></li><li><span class='ee-k'>4:</span><span class='ee-v'>1</span></li><li><span class='ee-k'>5:</span><span class='ee-v'>0</span></li></ul></details></li><li><details><summary>data_type: unsigned int8</summary><ul><li><span class='ee-k'>type:</span><span class='ee-v'>PixelType</span></li><li><span class='ee-k'>max:</span><span class='ee-v'>255</span></li><li><span class='ee-k'>min:</span><span class='ee-v'>0</span></li><li><span class='ee-k'>precision:</span><span class='ee-v'>int</span></li></ul></details></li></ul></details></li></ul></details></li><li><details><summary>properties: Object (81 properties)</summary><ul><li><span class='ee-k'>AOT_RETRIEVAL_ACCURACY:</span><span class='ee-v'>0</span></li><li><span class='ee-k'>CLOUDY_PIXEL_PERCENTAGE:</span><span class='ee-v'>97.640312</span></li><li><span class='ee-k'>CLOUD_COVERAGE_ASSESSMENT:</span><span class='ee-v'>97.640312</span></li><li><span class='ee-k'>CLOUD_SHADOW_PERCENTAGE:</span><span class='ee-v'>0</span></li><li><span class='ee-k'>DARK_FEATURES_PERCENTAGE:</span><span class='ee-v'>1.08995</span></li><li><span class='ee-k'>DATASTRIP_ID:</span><span class='ee-v'>S2B_OPER_MSI_L2A_DS_SGS__20181216T211707_S20181216T185801_N02.11</span></li><li><span class='ee-k'>DATATAKE_IDENTIFIER:</span><span class='ee-v'>GS2B_20181216T185759_009291_N02.11</span></li><li><span class='ee-k'>DATATAKE_TYPE:</span><span class='ee-v'>INS-NOBS</span></li><li><span class='ee-k'>DEGRADED_MSI_DATA_PERCENTAGE:</span><span class='ee-v'>0</span></li><li><span class='ee-k'>FORMAT_CORRECTNESS:</span><span class='ee-v'>PASSED</span></li><li><span class='ee-k'>GENERAL_QUALITY:</span><span class='ee-v'>PASSED</span></li><li><span class='ee-k'>GENERATION_TIME:</span><span class='ee-v'>1544995027000</span></li><li><span class='ee-k'>GEOMETRIC_QUALITY:</span><span class='ee-v'>PASSED</span></li><li><span class='ee-k'>GRANULE_ID:</span><span class='ee-v'>L2A_T10SEG_A009291_20181216T185801</span></li><li><span class='ee-k'>HIGH_PROBA_CLOUDS_PERCENTAGE:</span><span class='ee-v'>81.243807</span></li><li><span class='ee-k'>MEAN_INCIDENCE_AZIMUTH_ANGLE_B1:</span><span class='ee-v'>113.890134195</span></li><li><span class='ee-k'>MEAN_INCIDENCE_AZIMUTH_ANGLE_B10:</span><span class='ee-v'>116.74365672</span></li><li><span class='ee-k'>MEAN_INCIDENCE_AZIMUTH_ANGLE_B11:</span><span class='ee-v'>115.16802568</span></li><li><span class='ee-k'>MEAN_INCIDENCE_AZIMUTH_ANGLE_B12:</span><span class='ee-v'>114.109208597</span></li><li><span class='ee-k'>MEAN_INCIDENCE_AZIMUTH_ANGLE_B2:</span><span class='ee-v'>120.394502417</span></li><li><span class='ee-k'>MEAN_INCIDENCE_AZIMUTH_ANGLE_B3:</span><span class='ee-v'>117.759816942</span></li><li><span class='ee-k'>MEAN_INCIDENCE_AZIMUTH_ANGLE_B4:</span><span class='ee-v'>116.165997512</span></li><li><span class='ee-k'>MEAN_INCIDENCE_AZIMUTH_ANGLE_B5:</span><span class='ee-v'>115.51691487</span></li><li><span class='ee-k'>MEAN_INCIDENCE_AZIMUTH_ANGLE_B6:</span><span class='ee-v'>114.959471981</span></li><li><span class='ee-k'>MEAN_INCIDENCE_AZIMUTH_ANGLE_B7:</span><span class='ee-v'>114.505792826</span></li><li><span class='ee-k'>MEAN_INCIDENCE_AZIMUTH_ANGLE_B8:</span><span class='ee-v'>118.926302656</span></li><li><span class='ee-k'>MEAN_INCIDENCE_AZIMUTH_ANGLE_B8A:</span><span class='ee-v'>114.110197273</span></li><li><span class='ee-k'>MEAN_INCIDENCE_AZIMUTH_ANGLE_B9:</span><span class='ee-v'>113.597389182</span></li><li><span class='ee-k'>MEAN_INCIDENCE_ZENITH_ANGLE_B1:</span><span class='ee-v'>4.1066218596</span></li><li><span class='ee-k'>MEAN_INCIDENCE_ZENITH_ANGLE_B10:</span><span class='ee-v'>3.7164284449</span></li><li><span class='ee-k'>MEAN_INCIDENCE_ZENITH_ANGLE_B11:</span><span class='ee-v'>3.86879097653</span></li><li><span class='ee-k'>MEAN_INCIDENCE_ZENITH_ANGLE_B12:</span><span class='ee-v'>4.0460243957</span></li><li><span class='ee-k'>MEAN_INCIDENCE_ZENITH_ANGLE_B2:</span><span class='ee-v'>3.56543143896</span></li><li><span class='ee-k'>MEAN_INCIDENCE_ZENITH_ANGLE_B3:</span><span class='ee-v'>3.65485776198</span></li><li><span class='ee-k'>MEAN_INCIDENCE_ZENITH_ANGLE_B4:</span><span class='ee-v'>3.75178987032</span></li><li><span class='ee-k'>MEAN_INCIDENCE_ZENITH_ANGLE_B5:</span><span class='ee-v'>3.81518292916</span></li><li><span class='ee-k'>MEAN_INCIDENCE_ZENITH_ANGLE_B6:</span><span class='ee-v'>3.88247206566</span></li><li><span class='ee-k'>MEAN_INCIDENCE_ZENITH_ANGLE_B7:</span><span class='ee-v'>3.95355115952</span></li><li><span class='ee-k'>MEAN_INCIDENCE_ZENITH_ANGLE_B8:</span><span class='ee-v'>3.60868474116</span></li><li><span class='ee-k'>MEAN_INCIDENCE_ZENITH_ANGLE_B8A:</span><span class='ee-v'>4.02788802471</span></li><li><span class='ee-k'>MEAN_INCIDENCE_ZENITH_ANGLE_B9:</span><span class='ee-v'>4.18930235309</span></li><li><span class='ee-k'>MEAN_SOLAR_AZIMUTH_ANGLE:</span><span class='ee-v'>164.146988621</span></li><li><span class='ee-k'>MEAN_SOLAR_ZENITH_ANGLE:</span><span class='ee-v'>62.4668157598</span></li><li><span class='ee-k'>MEDIUM_PROBA_CLOUDS_PERCENTAGE:</span><span class='ee-v'>15.53475</span></li><li><span class='ee-k'>MGRS_TILE:</span><span class='ee-v'>10SEG</span></li><li><span class='ee-k'>NODATA_PIXEL_PERCENTAGE:</span><span class='ee-v'>0</span></li><li><span class='ee-k'>NOT_VEGETATED_PERCENTAGE:</span><span class='ee-v'>0.023908</span></li><li><span class='ee-k'>PROCESSING_BASELINE:</span><span class='ee-v'>02.11</span></li><li><span class='ee-k'>PRODUCT_ID:</span><span class='ee-v'>S2B_MSIL2A_20181216T185759_N0211_R113_T10SEG_20181216T211707</span></li><li><span class='ee-k'>RADIATIVE_TRANSFER_ACCURACY:</span><span class='ee-v'>0</span></li><li><span class='ee-k'>RADIOMETRIC_QUALITY:</span><span class='ee-v'>PASSED</span></li><li><span class='ee-k'>REFLECTANCE_CONVERSION_CORRECTION:</span><span class='ee-v'>1.03194111246</span></li><li><span class='ee-k'>SATURATED_DEFECTIVE_PIXEL_PERCENTAGE:</span><span class='ee-v'>0</span></li><li><span class='ee-k'>SENSING_ORBIT_DIRECTION:</span><span class='ee-v'>DESCENDING</span></li><li><span class='ee-k'>SENSING_ORBIT_NUMBER:</span><span class='ee-v'>113</span></li><li><span class='ee-k'>SENSOR_QUALITY:</span><span class='ee-v'>PASSED</span></li><li><span class='ee-k'>SNOW_ICE_PERCENTAGE:</span><span class='ee-v'>1.225683</span></li><li><span class='ee-k'>SOLAR_IRRADIANCE_B1:</span><span class='ee-v'>1874.3</span></li><li><span class='ee-k'>SOLAR_IRRADIANCE_B10:</span><span class='ee-v'>365.41</span></li><li><span class='ee-k'>SOLAR_IRRADIANCE_B11:</span><span class='ee-v'>247.08</span></li><li><span class='ee-k'>SOLAR_IRRADIANCE_B12:</span><span class='ee-v'>87.75</span></li><li><span class='ee-k'>SOLAR_IRRADIANCE_B2:</span><span class='ee-v'>1959.77</span></li><li><span class='ee-k'>SOLAR_IRRADIANCE_B3:</span><span class='ee-v'>1824.93</span></li><li><span class='ee-k'>SOLAR_IRRADIANCE_B4:</span><span class='ee-v'>1512.79</span></li><li><span class='ee-k'>SOLAR_IRRADIANCE_B5:</span><span class='ee-v'>1425.78</span></li><li><span class='ee-k'>SOLAR_IRRADIANCE_B6:</span><span class='ee-v'>1291.13</span></li><li><span class='ee-k'>SOLAR_IRRADIANCE_B7:</span><span class='ee-v'>1175.57</span></li><li><span class='ee-k'>SOLAR_IRRADIANCE_B8:</span><span class='ee-v'>1041.28</span></li><li><span class='ee-k'>SOLAR_IRRADIANCE_B8A:</span><span class='ee-v'>953.93</span></li><li><span class='ee-k'>SOLAR_IRRADIANCE_B9:</span><span class='ee-v'>817.58</span></li><li><span class='ee-k'>SPACECRAFT_NAME:</span><span class='ee-v'>Sentinel-2B</span></li><li><span class='ee-k'>THIN_CIRRUS_PERCENTAGE:</span><span class='ee-v'>0.861756</span></li><li><span class='ee-k'>UNCLASSIFIED_PERCENTAGE:</span><span class='ee-v'>0.003673</span></li><li><span class='ee-k'>VEGETATION_PERCENTAGE:</span><span class='ee-v'>3e-06</span></li><li><span class='ee-k'>WATER_PERCENTAGE:</span><span class='ee-v'>0.016473</span></li><li><span class='ee-k'>WATER_VAPOUR_RETRIEVAL_ACCURACY:</span><span class='ee-v'>0</span></li><li><span class='ee-k'>system:asset_size:</span><span class='ee-v'>1220290877</span></li><li><details><summary>system:footprint: LinearRing (19 vertices)</summary><ul><li><span class='ee-k'>type:</span><span class='ee-v'>LinearRing</span></li><li><details><summary>coordinates: List (19 elements)</summary><ul><li><details><summary>0: [-123.0003408468679, 37.94760085151261]</summary><ul><li><span class='ee-k'>0:</span><span class='ee-v'>-123.0003408468679</span></li><li><span class='ee-k'>1:</span><span class='ee-v'>37.94760085151261</span></li></ul></details></li><li><details><summary>1: [-123.00034179205034, 37.947589574707514]</summary><ul><li><span class='ee-k'>0:</span><span class='ee-v'>-123.00034179205034</span></li><li><span class='ee-k'>1:</span><span class='ee-v'>37.947589574707514</span></li></ul></details></li><li><details><summary>2: [-123.00033723798937, 36.95806136788806]</summary><ul><li><span class='ee-k'>0:</span><span class='ee-v'>-123.00033723798937</span></li><li><span class='ee-k'>1:</span><span class='ee-v'>36.95806136788806</span></li></ul></details></li><li><details><summary>3: [-123.00029152551673, 36.95801992306331]</summary><ul><li><span class='ee-k'>0:</span><span class='ee-v'>-123.00029152551673</span></li><li><span class='ee-k'>1:</span><span class='ee-v'>36.95801992306331</span></li></ul></details></li><li><details><summary>4: [-123.0002526011579, 36.95797423741872]</summary><ul><li><span class='ee-k'>0:</span><span class='ee-v'>-123.0002526011579</span></li><li><span class='ee-k'>1:</span><span class='ee-v'>36.95797423741872</span></li></ul></details></li><li><details><summary>5: [-123.00023412711913, 36.957971363363285]</summary><ul><li><span class='ee-k'>0:</span><span class='ee-v'>-123.00023412711913</span></li><li><span class='ee-k'>1:</span><span class='ee-v'>36.957971363363285</span></li></ul></details></li><li><details><summary>6: [-121.76721790044816, 36.95157206200717]</summary><ul><li><span class='ee-k'>0:</span><span class='ee-v'>-121.76721790044816</span></li><li><span class='ee-k'>1:</span><span class='ee-v'>36.95157206200717</span></li></ul></details></li><li><details><summary>7: [-121.76716539030087, 36.951608138255864]</summary><ul><li><span class='ee-k'>0:</span><span class='ee-v'>-121.76716539030087</span></li><li><span class='ee-k'>1:</span><span class='ee-v'>36.951608138255864</span></li></ul></details></li><li><details><summary>8: [-121.76710775082277, 36.95163857717662]</summary><ul><li><span class='ee-k'>0:</span><span class='ee-v'>-121.76710775082277</span></li><li><span class='ee-k'>1:</span><span class='ee-v'>36.95163857717662</span></li></ul></details></li><li><details><summary>9: [-121.76710392557732, 36.95165337679644]</summary><ul><li><span class='ee-k'>0:</span><span class='ee-v'>-121.76710392557732</span></li><li><span class='ee-k'>1:</span><span class='ee-v'>36.95165337679644</span></li></ul></details></li><li><details><summary>10: [-121.7590314099813, 37.44633070146803]</summary><ul><li><span class='ee-k'>0:</span><span class='ee-v'>-121.7590314099813</span></li><li><span class='ee-k'>1:</span><span class='ee-v'>37.44633070146803</span></li></ul></details></li><li><details><summary>11: [-121.75075919661508, 37.9409574689974]</summary><ul><li><span class='ee-k'>0:</span><span class='ee-v'>-121.75075919661508</span></li><li><span class='ee-k'>1:</span><span class='ee-v'>37.9409574689974</span></li></ul></details></li><li><details><summary>12: [-121.75080484540509, 37.940999372863686]</summary><ul><li><span class='ee-k'>0:</span><span class='ee-v'>-121.75080484540509</span></li><li><span class='ee-k'>1:</span><span class='ee-v'>37.940999372863686</span></li></ul></details></li><li><details><summary>13: [-121.75084345122438, 37.94104550336575]</summary><ul><li><span class='ee-k'>0:</span><span class='ee-v'>-121.75084345122438</span></li><li><span class='ee-k'>1:</span><span class='ee-v'>37.94104550336575</span></li></ul></details></li><li><details><summary>14: [-121.75086214547893, 37.94104856554029]</summary><ul><li><span class='ee-k'>0:</span><span class='ee-v'>-121.75086214547893</span></li><li><span class='ee-k'>1:</span><span class='ee-v'>37.94104856554029</span></li></ul></details></li><li><details><summary>15: [-123.00022759676041, 37.94767956582706]</summary><ul><li><span class='ee-k'>0:</span><span class='ee-v'>-123.00022759676041</span></li><li><span class='ee-k'>1:</span><span class='ee-v'>37.94767956582706</span></li></ul></details></li><li><details><summary>16: [-123.00028018332104, 37.94764299733767]</summary><ul><li><span class='ee-k'>0:</span><span class='ee-v'>-123.00028018332104</span></li><li><span class='ee-k'>1:</span><span class='ee-v'>37.94764299733767</span></li></ul></details></li><li><details><summary>17: [-123.00033818317185, 37.94761187496444]</summary><ul><li><span class='ee-k'>0:</span><span class='ee-v'>-123.00033818317185</span></li><li><span class='ee-k'>1:</span><span class='ee-v'>37.94761187496444</span></li></ul></details></li><li><details><summary>18: [-123.0003408468679, 37.94760085151261]</summary><ul><li><span class='ee-k'>0:</span><span class='ee-v'>-123.0003408468679</span></li><li><span class='ee-k'>1:</span><span class='ee-v'>37.94760085151261</span></li></ul></details></li></ul></details></li></ul></details></li><li><span class='ee-k'>system:index:</span><span class='ee-v'>20181216T185759_20181216T185801_T10SEG</span></li><li><span class='ee-k'>system:time_end:</span><span class='ee-v'>1544987043000</span></li><li><span class='ee-k'>system:time_start:</span><span class='ee-v'>1544987043000</span></li></ul></details></li></ul></details></li></ul></div></div>"
      ],
      "text/plain": [
       "<ee.image.Image at 0x185ed18a110>"
      ]
     },
     "execution_count": 62,
     "metadata": {},
     "output_type": "execute_result"
    }
   ],
   "source": [
    "images.first()"
   ]
  },
  {
   "cell_type": "code",
   "execution_count": 63,
   "id": "5977325f",
   "metadata": {},
   "outputs": [
    {
     "data": {
      "text/html": [
       "\n",
       "            <style>\n",
       "                .geemap-dark {\n",
       "                    --jp-widgets-color: white;\n",
       "                    --jp-widgets-label-color: white;\n",
       "                    --jp-ui-font-color1: white;\n",
       "                    --jp-layout-color2: #454545;\n",
       "                    background-color: #383838;\n",
       "                }\n",
       "\n",
       "                .geemap-dark .jupyter-button {\n",
       "                    --jp-layout-color3: #383838;\n",
       "                }\n",
       "\n",
       "                .geemap-colab {\n",
       "                    background-color: var(--colab-primary-surface-color, white);\n",
       "                }\n",
       "\n",
       "                .geemap-colab .jupyter-button {\n",
       "                    --jp-layout-color3: var(--colab-primary-surface-color, white);\n",
       "                }\n",
       "            </style>\n",
       "            "
      ],
      "text/plain": [
       "<IPython.core.display.HTML object>"
      ]
     },
     "metadata": {},
     "output_type": "display_data"
    },
    {
     "data": {
      "text/html": [
       "<div><style>:root {\n",
       "  --font-color-primary: var(--jp-content-font-color0, rgba(0, 0, 0, 1));\n",
       "  --font-color-secondary: var(--jp-content-font-color2, rgba(0, 0, 0, 0.7));\n",
       "  --font-color-accent: rgba(123, 31, 162, 1);\n",
       "  --border-color: var(--jp-border-color2, #e0e0e0);\n",
       "  --background-color: var(--jp-layout-color0, white);\n",
       "  --background-color-row-even: var(--jp-layout-color1, white);\n",
       "  --background-color-row-odd: var(--jp-layout-color2, #eeeeee);\n",
       "}\n",
       "\n",
       "html[theme=\"dark\"],\n",
       "body[data-theme=\"dark\"],\n",
       "body.vscode-dark {\n",
       "  --font-color-primary: rgba(255, 255, 255, 1);\n",
       "  --font-color-secondary: rgba(255, 255, 255, 0.7);\n",
       "  --font-color-accent: rgb(173, 132, 190);\n",
       "  --border-color: #2e2e2e;\n",
       "  --background-color: #111111;\n",
       "  --background-color-row-even: #111111;\n",
       "  --background-color-row-odd: #313131;\n",
       "}\n",
       "\n",
       ".eerepr {\n",
       "  padding: 1em;\n",
       "  line-height: 1.5em;\n",
       "  min-width: 300px;\n",
       "  max-width: 1200px;\n",
       "  overflow-y: scroll;\n",
       "  max-height: 600px;\n",
       "  border: 1px solid var(--border-color);\n",
       "  font-family: monospace;\n",
       "  font-size: 14px;\n",
       "}\n",
       "\n",
       ".eerepr li {\n",
       "  list-style-type: none;\n",
       "  margin: 0;\n",
       "}\n",
       "\n",
       ".eerepr ul {\n",
       "  padding-left: 1.5em !important;\n",
       "  margin: 0;\n",
       "}\n",
       "\n",
       ".eerepr > ul {\n",
       "  padding-left: 0 !important;\n",
       "}\n",
       "\n",
       ".eerepr summary {\n",
       "  color: var(--font-color-secondary);\n",
       "  cursor: pointer;\n",
       "  margin: 0;\n",
       "}\n",
       "\n",
       ".eerepr summary:hover {\n",
       "  color: var(--font-color-primary);\n",
       "  background-color: var(--background-color-row-odd)\n",
       "}\n",
       "\n",
       ".ee-k {\n",
       "  color: var(--font-color-accent);\n",
       "  margin-right: 6px;\n",
       "}\n",
       "\n",
       ".ee-v {\n",
       "  color: var(--font-color-primary);\n",
       "}\n",
       "\n",
       ".eerepr details > summary::before {\n",
       "  content: '▼';\n",
       "  display: inline-block;\n",
       "  margin-right: 6px;\n",
       "  transition: transform 0.2s;\n",
       "  transform: rotate(-90deg);\n",
       "}\n",
       "\n",
       ".eerepr details[open] > summary::before {\n",
       "  transform: rotate(0deg);\n",
       "}\n",
       "\n",
       ".eerepr details summary::-webkit-details-marker {\n",
       "  display:none;\n",
       "}\n",
       "\n",
       ".eerepr details summary {\n",
       "  list-style-type: none;\n",
       "}\n",
       "</style><div class='eerepr'><ul><li><span class='ee-v'>14</span></li></ul></div></div>"
      ],
      "text/plain": [
       "<ee.ee_number.Number at 0x185ea50faf0>"
      ]
     },
     "execution_count": 63,
     "metadata": {},
     "output_type": "execute_result"
    }
   ],
   "source": [
    "images = (\n",
    "    collection.filterBounds(geometry)\n",
    "    .filterDate('2024-07-01', '2024-10-01')\n",
    "    .filter(ee.Filter.lt('CLOUDY_PIXEL_PERCENTAGE', 5))\n",
    ")\n",
    "images.size() # Get the number of images in the collection"
   ]
  },
  {
   "cell_type": "code",
   "execution_count": 71,
   "id": "0a7f4167",
   "metadata": {},
   "outputs": [
    {
     "data": {
      "text/html": [
       "\n",
       "            <style>\n",
       "                .geemap-dark {\n",
       "                    --jp-widgets-color: white;\n",
       "                    --jp-widgets-label-color: white;\n",
       "                    --jp-ui-font-color1: white;\n",
       "                    --jp-layout-color2: #454545;\n",
       "                    background-color: #383838;\n",
       "                }\n",
       "\n",
       "                .geemap-dark .jupyter-button {\n",
       "                    --jp-layout-color3: #383838;\n",
       "                }\n",
       "\n",
       "                .geemap-colab {\n",
       "                    background-color: var(--colab-primary-surface-color, white);\n",
       "                }\n",
       "\n",
       "                .geemap-colab .jupyter-button {\n",
       "                    --jp-layout-color3: var(--colab-primary-surface-color, white);\n",
       "                }\n",
       "            </style>\n",
       "            "
      ],
      "text/plain": [
       "<IPython.core.display.HTML object>"
      ]
     },
     "metadata": {},
     "output_type": "display_data"
    },
    {
     "data": {
      "application/vnd.jupyter.widget-view+json": {
       "model_id": "d4d6c6ac55b347d9b2146a07f3c20615",
       "version_major": 2,
       "version_minor": 0
      },
      "text/plain": [
       "Map(center=[37.45118591731683, -122.37966239140695], controls=(WidgetControl(options=['position', 'transparent…"
      ]
     },
     "execution_count": 71,
     "metadata": {},
     "output_type": "execute_result"
    }
   ],
   "source": [
    "m = geemap.Map()\n",
    "image = images.first()\n",
    "\n",
    "vis = {\n",
    "    'min': 0,\n",
    "    'max': 3000,    \n",
    "    'bands': ['B4', 'B3', 'B2'],\n",
    "      \n",
    "}\n",
    "m.add_layer(image,vis,'Sentinel 2')\n",
    "m.centerObject(image,8)\n",
    "m"
   ]
  },
  {
   "cell_type": "code",
   "execution_count": null,
   "id": "e756b706",
   "metadata": {},
   "outputs": [
    {
     "data": {
      "text/html": [
       "\n",
       "            <style>\n",
       "                .geemap-dark {\n",
       "                    --jp-widgets-color: white;\n",
       "                    --jp-widgets-label-color: white;\n",
       "                    --jp-ui-font-color1: white;\n",
       "                    --jp-layout-color2: #454545;\n",
       "                    background-color: #383838;\n",
       "                }\n",
       "\n",
       "                .geemap-dark .jupyter-button {\n",
       "                    --jp-layout-color3: #383838;\n",
       "                }\n",
       "\n",
       "                .geemap-colab {\n",
       "                    background-color: var(--colab-primary-surface-color, white);\n",
       "                }\n",
       "\n",
       "                .geemap-colab .jupyter-button {\n",
       "                    --jp-layout-color3: var(--colab-primary-surface-color, white);\n",
       "                }\n",
       "            </style>\n",
       "            "
      ],
      "text/plain": [
       "<IPython.core.display.HTML object>"
      ]
     },
     "metadata": {},
     "output_type": "display_data"
    },
    {
     "data": {
      "application/vnd.jupyter.widget-view+json": {
       "model_id": "cf7acdd0d2844207ad2ae94d6c2140ab",
       "version_major": 2,
       "version_minor": 0
      },
      "text/plain": [
       "Map(center=[37.8719, -122.262], controls=(WidgetControl(options=['position', 'transparent_bg'], widget=SearchD…"
      ]
     },
     "execution_count": 73,
     "metadata": {},
     "output_type": "execute_result"
    }
   ],
   "source": [
    "m = geemap.Map()\n",
    "image = images.median()\n",
    "\n",
    "vis = {\n",
    "    \"min\": 0.0,\n",
    "    \"max\": 4000,\n",
    "    \"bands\": [\"B8\", \"B4\", \"B3\"],\n",
    "}\n",
    "m.add_layer(image, vis, \"Sentinel-2\")\n",
    "m.centerObject(geometry, 8)\n",
    "m"
   ]
  },
  {
   "cell_type": "markdown",
   "id": "82788c24",
   "metadata": {},
   "source": [
    "# Earth Engine Vector Data"
   ]
  },
  {
   "cell_type": "code",
   "execution_count": 74,
   "id": "4ec0a200",
   "metadata": {},
   "outputs": [
    {
     "data": {
      "text/html": [
       "\n",
       "            <style>\n",
       "                .geemap-dark {\n",
       "                    --jp-widgets-color: white;\n",
       "                    --jp-widgets-label-color: white;\n",
       "                    --jp-ui-font-color1: white;\n",
       "                    --jp-layout-color2: #454545;\n",
       "                    background-color: #383838;\n",
       "                }\n",
       "\n",
       "                .geemap-dark .jupyter-button {\n",
       "                    --jp-layout-color3: #383838;\n",
       "                }\n",
       "\n",
       "                .geemap-colab {\n",
       "                    background-color: var(--colab-primary-surface-color, white);\n",
       "                }\n",
       "\n",
       "                .geemap-colab .jupyter-button {\n",
       "                    --jp-layout-color3: var(--colab-primary-surface-color, white);\n",
       "                }\n",
       "            </style>\n",
       "            "
      ],
      "text/plain": [
       "<IPython.core.display.HTML object>"
      ]
     },
     "metadata": {},
     "output_type": "display_data"
    },
    {
     "data": {
      "application/vnd.jupyter.widget-view+json": {
       "model_id": "5cf33f6c4843412f8300b2bdaf43402c",
       "version_major": 2,
       "version_minor": 0
      },
      "text/plain": [
       "Map(center=[35, -83], controls=(WidgetControl(options=['position', 'transparent_bg'], widget=SearchDataGUI(chi…"
      ]
     },
     "execution_count": 74,
     "metadata": {},
     "output_type": "execute_result"
    }
   ],
   "source": [
    "m = geemap.Map()\n",
    "fc = ee.FeatureCollection('TIGER/2016/Roads')\n",
    "m.set_center(-83,35,12)\n",
    "m.add_layer(fc, {}, 'Roads')\n",
    "m"
   ]
  },
  {
   "cell_type": "code",
   "execution_count": 75,
   "id": "92826393",
   "metadata": {},
   "outputs": [
    {
     "data": {
      "text/html": [
       "\n",
       "            <style>\n",
       "                .geemap-dark {\n",
       "                    --jp-widgets-color: white;\n",
       "                    --jp-widgets-label-color: white;\n",
       "                    --jp-ui-font-color1: white;\n",
       "                    --jp-layout-color2: #454545;\n",
       "                    background-color: #383838;\n",
       "                }\n",
       "\n",
       "                .geemap-dark .jupyter-button {\n",
       "                    --jp-layout-color3: #383838;\n",
       "                }\n",
       "\n",
       "                .geemap-colab {\n",
       "                    background-color: var(--colab-primary-surface-color, white);\n",
       "                }\n",
       "\n",
       "                .geemap-colab .jupyter-button {\n",
       "                    --jp-layout-color3: var(--colab-primary-surface-color, white);\n",
       "                }\n",
       "            </style>\n",
       "            "
      ],
      "text/plain": [
       "<IPython.core.display.HTML object>"
      ]
     },
     "metadata": {},
     "output_type": "display_data"
    },
    {
     "data": {
      "application/vnd.jupyter.widget-view+json": {
       "model_id": "805bda95499849fbbd7a3c5c77d93149",
       "version_major": 2,
       "version_minor": 0
      },
      "text/plain": [
       "Map(center=[35.8579904338385, -86.35074162079951], controls=(WidgetControl(options=['position', 'transparent_b…"
      ]
     },
     "execution_count": 75,
     "metadata": {},
     "output_type": "execute_result"
    }
   ],
   "source": [
    "m = geemap.Map()\n",
    "states = ee.FeatureCollection('TIGER/2018/States')  \n",
    "fc = states.filter(ee.Filter.eq('NAME', 'Tennessee'))\n",
    "m.add_layer(fc, {}, 'Tennessee')\n",
    "m.center_object(fc, 7)\n",
    "m"
   ]
  },
  {
   "cell_type": "code",
   "execution_count": 77,
   "id": "e277c902",
   "metadata": {},
   "outputs": [
    {
     "data": {
      "text/html": [
       "\n",
       "            <style>\n",
       "                .geemap-dark {\n",
       "                    --jp-widgets-color: white;\n",
       "                    --jp-widgets-label-color: white;\n",
       "                    --jp-ui-font-color1: white;\n",
       "                    --jp-layout-color2: #454545;\n",
       "                    background-color: #383838;\n",
       "                }\n",
       "\n",
       "                .geemap-dark .jupyter-button {\n",
       "                    --jp-layout-color3: #383838;\n",
       "                }\n",
       "\n",
       "                .geemap-colab {\n",
       "                    background-color: var(--colab-primary-surface-color, white);\n",
       "                }\n",
       "\n",
       "                .geemap-colab .jupyter-button {\n",
       "                    --jp-layout-color3: var(--colab-primary-surface-color, white);\n",
       "                }\n",
       "            </style>\n",
       "            "
      ],
      "text/plain": [
       "<IPython.core.display.HTML object>"
      ]
     },
     "metadata": {},
     "output_type": "display_data"
    },
    {
     "data": {
      "text/html": [
       "<div><style>:root {\n",
       "  --font-color-primary: var(--jp-content-font-color0, rgba(0, 0, 0, 1));\n",
       "  --font-color-secondary: var(--jp-content-font-color2, rgba(0, 0, 0, 0.7));\n",
       "  --font-color-accent: rgba(123, 31, 162, 1);\n",
       "  --border-color: var(--jp-border-color2, #e0e0e0);\n",
       "  --background-color: var(--jp-layout-color0, white);\n",
       "  --background-color-row-even: var(--jp-layout-color1, white);\n",
       "  --background-color-row-odd: var(--jp-layout-color2, #eeeeee);\n",
       "}\n",
       "\n",
       "html[theme=\"dark\"],\n",
       "body[data-theme=\"dark\"],\n",
       "body.vscode-dark {\n",
       "  --font-color-primary: rgba(255, 255, 255, 1);\n",
       "  --font-color-secondary: rgba(255, 255, 255, 0.7);\n",
       "  --font-color-accent: rgb(173, 132, 190);\n",
       "  --border-color: #2e2e2e;\n",
       "  --background-color: #111111;\n",
       "  --background-color-row-even: #111111;\n",
       "  --background-color-row-odd: #313131;\n",
       "}\n",
       "\n",
       ".eerepr {\n",
       "  padding: 1em;\n",
       "  line-height: 1.5em;\n",
       "  min-width: 300px;\n",
       "  max-width: 1200px;\n",
       "  overflow-y: scroll;\n",
       "  max-height: 600px;\n",
       "  border: 1px solid var(--border-color);\n",
       "  font-family: monospace;\n",
       "  font-size: 14px;\n",
       "}\n",
       "\n",
       ".eerepr li {\n",
       "  list-style-type: none;\n",
       "  margin: 0;\n",
       "}\n",
       "\n",
       ".eerepr ul {\n",
       "  padding-left: 1.5em !important;\n",
       "  margin: 0;\n",
       "}\n",
       "\n",
       ".eerepr > ul {\n",
       "  padding-left: 0 !important;\n",
       "}\n",
       "\n",
       ".eerepr summary {\n",
       "  color: var(--font-color-secondary);\n",
       "  cursor: pointer;\n",
       "  margin: 0;\n",
       "}\n",
       "\n",
       ".eerepr summary:hover {\n",
       "  color: var(--font-color-primary);\n",
       "  background-color: var(--background-color-row-odd)\n",
       "}\n",
       "\n",
       ".ee-k {\n",
       "  color: var(--font-color-accent);\n",
       "  margin-right: 6px;\n",
       "}\n",
       "\n",
       ".ee-v {\n",
       "  color: var(--font-color-primary);\n",
       "}\n",
       "\n",
       ".eerepr details > summary::before {\n",
       "  content: '▼';\n",
       "  display: inline-block;\n",
       "  margin-right: 6px;\n",
       "  transition: transform 0.2s;\n",
       "  transform: rotate(-90deg);\n",
       "}\n",
       "\n",
       ".eerepr details[open] > summary::before {\n",
       "  transform: rotate(0deg);\n",
       "}\n",
       "\n",
       ".eerepr details summary::-webkit-details-marker {\n",
       "  display:none;\n",
       "}\n",
       "\n",
       ".eerepr details summary {\n",
       "  list-style-type: none;\n",
       "}\n",
       "</style><div class='eerepr'><ul><li><details><summary>Object (14 properties)</summary><ul><li><span class='ee-k'>ALAND:</span><span class='ee-v'>106802728188</span></li><li><span class='ee-k'>AWATER:</span><span class='ee-v'>2350123465</span></li><li><span class='ee-k'>DIVISION:</span><span class='ee-v'>6</span></li><li><span class='ee-k'>FUNCSTAT:</span><span class='ee-v'>A</span></li><li><span class='ee-k'>GEOID:</span><span class='ee-v'>47</span></li><li><span class='ee-k'>INTPTLAT:</span><span class='ee-v'>+35.8608030</span></li><li><span class='ee-k'>INTPTLON:</span><span class='ee-v'>-086.3499896</span></li><li><span class='ee-k'>LSAD:</span><span class='ee-v'>00</span></li><li><span class='ee-k'>MTFCC:</span><span class='ee-v'>G4000</span></li><li><span class='ee-k'>NAME:</span><span class='ee-v'>Tennessee</span></li><li><span class='ee-k'>REGION:</span><span class='ee-v'>3</span></li><li><span class='ee-k'>STATEFP:</span><span class='ee-v'>47</span></li><li><span class='ee-k'>STATENS:</span><span class='ee-v'>01325873</span></li><li><span class='ee-k'>STUSPS:</span><span class='ee-v'>TN</span></li></ul></details></li></ul></div></div>"
      ],
      "text/plain": [
       "<ee.dictionary.Dictionary at 0x185ea68be20>"
      ]
     },
     "execution_count": 77,
     "metadata": {},
     "output_type": "execute_result"
    }
   ],
   "source": [
    "feat = fc.first( )\n",
    "feat.toDictionary() # Get the feature as a dictionary"
   ]
  },
  {
   "cell_type": "code",
   "execution_count": 82,
   "id": "f7e2a082",
   "metadata": {},
   "outputs": [
    {
     "data": {
      "text/html": [
       "\n",
       "            <style>\n",
       "                .geemap-dark {\n",
       "                    --jp-widgets-color: white;\n",
       "                    --jp-widgets-label-color: white;\n",
       "                    --jp-ui-font-color1: white;\n",
       "                    --jp-layout-color2: #454545;\n",
       "                    background-color: #383838;\n",
       "                }\n",
       "\n",
       "                .geemap-dark .jupyter-button {\n",
       "                    --jp-layout-color3: #383838;\n",
       "                }\n",
       "\n",
       "                .geemap-colab {\n",
       "                    background-color: var(--colab-primary-surface-color, white);\n",
       "                }\n",
       "\n",
       "                .geemap-colab .jupyter-button {\n",
       "                    --jp-layout-color3: var(--colab-primary-surface-color, white);\n",
       "                }\n",
       "            </style>\n",
       "            "
      ],
      "text/plain": [
       "<IPython.core.display.HTML object>"
      ]
     },
     "metadata": {},
     "output_type": "display_data"
    },
    {
     "data": {
      "application/vnd.jupyter.widget-view+json": {
       "model_id": "3df6c8c189ad4543baff1683449eeec7",
       "version_major": 2,
       "version_minor": 0
      },
      "text/plain": [
       "Map(center=[38.40504095116086, -114.75970762798782], controls=(WidgetControl(options=['position', 'transparent…"
      ]
     },
     "execution_count": 82,
     "metadata": {},
     "output_type": "execute_result"
    }
   ],
   "source": [
    "m = geemap.Map()\n",
    "states = ee.FeatureCollection('TIGER/2018/States')\n",
    "fc = states.filter(ee.Filter.inList('NAME',['California','Washinton','Oregon','Arizona','Colorado']))\n",
    "m.add_layer(fc,{}, 'California, Washinton and Oregon')\n",
    "m.center_object(fc, 6)\n",
    "m"
   ]
  },
  {
   "cell_type": "code",
   "execution_count": 86,
   "id": "0b3ffb44",
   "metadata": {},
   "outputs": [
    {
     "data": {
      "text/html": [
       "\n",
       "            <style>\n",
       "                .geemap-dark {\n",
       "                    --jp-widgets-color: white;\n",
       "                    --jp-widgets-label-color: white;\n",
       "                    --jp-ui-font-color1: white;\n",
       "                    --jp-layout-color2: #454545;\n",
       "                    background-color: #383838;\n",
       "                }\n",
       "\n",
       "                .geemap-dark .jupyter-button {\n",
       "                    --jp-layout-color3: #383838;\n",
       "                }\n",
       "\n",
       "                .geemap-colab {\n",
       "                    background-color: var(--colab-primary-surface-color, white);\n",
       "                }\n",
       "\n",
       "                .geemap-colab .jupyter-button {\n",
       "                    --jp-layout-color3: var(--colab-primary-surface-color, white);\n",
       "                }\n",
       "            </style>\n",
       "            "
      ],
      "text/plain": [
       "<IPython.core.display.HTML object>"
      ]
     },
     "metadata": {},
     "output_type": "display_data"
    },
    {
     "data": {
      "application/vnd.jupyter.widget-view+json": {
       "model_id": "2883fe9d09d44e24adbeaad2fd751742",
       "version_major": 2,
       "version_minor": 0
      },
      "text/plain": [
       "Map(center=[32.10159995280738, -97.61777460881582], controls=(WidgetControl(options=['position', 'transparent_…"
      ]
     },
     "execution_count": 86,
     "metadata": {},
     "output_type": "execute_result"
    }
   ],
   "source": [
    "m = geemap.Map()\n",
    "states = ee.FeatureCollection('TIGER/2018/States')\n",
    "fc = states.filter(ee.Filter.stringStartsWith('NAME','T'))\n",
    "m.add_layer(fc,{}, 'States with T')\n",
    "m.center_object(fc, 6)\n",
    "m"
   ]
  },
  {
   "cell_type": "code",
   "execution_count": 87,
   "id": "d1168b6b",
   "metadata": {},
   "outputs": [
    {
     "data": {
      "text/html": [
       "\n",
       "            <style>\n",
       "                .geemap-dark {\n",
       "                    --jp-widgets-color: white;\n",
       "                    --jp-widgets-label-color: white;\n",
       "                    --jp-ui-font-color1: white;\n",
       "                    --jp-layout-color2: #454545;\n",
       "                    background-color: #383838;\n",
       "                }\n",
       "\n",
       "                .geemap-dark .jupyter-button {\n",
       "                    --jp-layout-color3: #383838;\n",
       "                }\n",
       "\n",
       "                .geemap-colab {\n",
       "                    background-color: var(--colab-primary-surface-color, white);\n",
       "                }\n",
       "\n",
       "                .geemap-colab .jupyter-button {\n",
       "                    --jp-layout-color3: var(--colab-primary-surface-color, white);\n",
       "                }\n",
       "            </style>\n",
       "            "
      ],
      "text/plain": [
       "<IPython.core.display.HTML object>"
      ]
     },
     "metadata": {},
     "output_type": "display_data"
    },
    {
     "data": {
      "text/html": [
       "<div><style>:root {\n",
       "  --font-color-primary: var(--jp-content-font-color0, rgba(0, 0, 0, 1));\n",
       "  --font-color-secondary: var(--jp-content-font-color2, rgba(0, 0, 0, 0.7));\n",
       "  --font-color-accent: rgba(123, 31, 162, 1);\n",
       "  --border-color: var(--jp-border-color2, #e0e0e0);\n",
       "  --background-color: var(--jp-layout-color0, white);\n",
       "  --background-color-row-even: var(--jp-layout-color1, white);\n",
       "  --background-color-row-odd: var(--jp-layout-color2, #eeeeee);\n",
       "}\n",
       "\n",
       "html[theme=\"dark\"],\n",
       "body[data-theme=\"dark\"],\n",
       "body.vscode-dark {\n",
       "  --font-color-primary: rgba(255, 255, 255, 1);\n",
       "  --font-color-secondary: rgba(255, 255, 255, 0.7);\n",
       "  --font-color-accent: rgb(173, 132, 190);\n",
       "  --border-color: #2e2e2e;\n",
       "  --background-color: #111111;\n",
       "  --background-color-row-even: #111111;\n",
       "  --background-color-row-odd: #313131;\n",
       "}\n",
       "\n",
       ".eerepr {\n",
       "  padding: 1em;\n",
       "  line-height: 1.5em;\n",
       "  min-width: 300px;\n",
       "  max-width: 1200px;\n",
       "  overflow-y: scroll;\n",
       "  max-height: 600px;\n",
       "  border: 1px solid var(--border-color);\n",
       "  font-family: monospace;\n",
       "  font-size: 14px;\n",
       "}\n",
       "\n",
       ".eerepr li {\n",
       "  list-style-type: none;\n",
       "  margin: 0;\n",
       "}\n",
       "\n",
       ".eerepr ul {\n",
       "  padding-left: 1.5em !important;\n",
       "  margin: 0;\n",
       "}\n",
       "\n",
       ".eerepr > ul {\n",
       "  padding-left: 0 !important;\n",
       "}\n",
       "\n",
       ".eerepr summary {\n",
       "  color: var(--font-color-secondary);\n",
       "  cursor: pointer;\n",
       "  margin: 0;\n",
       "}\n",
       "\n",
       ".eerepr summary:hover {\n",
       "  color: var(--font-color-primary);\n",
       "  background-color: var(--background-color-row-odd)\n",
       "}\n",
       "\n",
       ".ee-k {\n",
       "  color: var(--font-color-accent);\n",
       "  margin-right: 6px;\n",
       "}\n",
       "\n",
       ".ee-v {\n",
       "  color: var(--font-color-primary);\n",
       "}\n",
       "\n",
       ".eerepr details > summary::before {\n",
       "  content: '▼';\n",
       "  display: inline-block;\n",
       "  margin-right: 6px;\n",
       "  transition: transform 0.2s;\n",
       "  transform: rotate(-90deg);\n",
       "}\n",
       "\n",
       ".eerepr details[open] > summary::before {\n",
       "  transform: rotate(0deg);\n",
       "}\n",
       "\n",
       ".eerepr details summary::-webkit-details-marker {\n",
       "  display:none;\n",
       "}\n",
       "\n",
       ".eerepr details summary {\n",
       "  list-style-type: none;\n",
       "}\n",
       "</style><div class='eerepr'><ul><li><span class='ee-v'>2</span></li></ul></div></div>"
      ],
      "text/plain": [
       "<ee.ee_number.Number at 0x185edf6cbe0>"
      ]
     },
     "execution_count": 87,
     "metadata": {},
     "output_type": "execute_result"
    }
   ],
   "source": [
    "fc.size() # Get the number of features in the collection"
   ]
  },
  {
   "cell_type": "code",
   "execution_count": 89,
   "id": "80cc5b54",
   "metadata": {},
   "outputs": [
    {
     "data": {
      "text/html": [
       "\n",
       "            <style>\n",
       "                .geemap-dark {\n",
       "                    --jp-widgets-color: white;\n",
       "                    --jp-widgets-label-color: white;\n",
       "                    --jp-ui-font-color1: white;\n",
       "                    --jp-layout-color2: #454545;\n",
       "                    background-color: #383838;\n",
       "                }\n",
       "\n",
       "                .geemap-dark .jupyter-button {\n",
       "                    --jp-layout-color3: #383838;\n",
       "                }\n",
       "\n",
       "                .geemap-colab {\n",
       "                    background-color: var(--colab-primary-surface-color, white);\n",
       "                }\n",
       "\n",
       "                .geemap-colab .jupyter-button {\n",
       "                    --jp-layout-color3: var(--colab-primary-surface-color, white);\n",
       "                }\n",
       "            </style>\n",
       "            "
      ],
      "text/plain": [
       "<IPython.core.display.HTML object>"
      ]
     },
     "metadata": {},
     "output_type": "display_data"
    },
    {
     "data": {
      "application/vnd.microsoft.datawrangler.viewer.v0+json": {
       "columns": [
        {
         "name": "index",
         "rawType": "int64",
         "type": "integer"
        },
        {
         "name": "ALAND",
         "rawType": "int64",
         "type": "integer"
        },
        {
         "name": "AWATER",
         "rawType": "int64",
         "type": "integer"
        },
        {
         "name": "DIVISION",
         "rawType": "object",
         "type": "string"
        },
        {
         "name": "FUNCSTAT",
         "rawType": "object",
         "type": "string"
        },
        {
         "name": "GEOID",
         "rawType": "object",
         "type": "string"
        },
        {
         "name": "INTPTLAT",
         "rawType": "object",
         "type": "string"
        },
        {
         "name": "INTPTLON",
         "rawType": "object",
         "type": "string"
        },
        {
         "name": "LSAD",
         "rawType": "object",
         "type": "string"
        },
        {
         "name": "MTFCC",
         "rawType": "object",
         "type": "string"
        },
        {
         "name": "NAME",
         "rawType": "object",
         "type": "string"
        },
        {
         "name": "REGION",
         "rawType": "object",
         "type": "string"
        },
        {
         "name": "STATEFP",
         "rawType": "object",
         "type": "string"
        },
        {
         "name": "STATENS",
         "rawType": "object",
         "type": "string"
        },
        {
         "name": "STUSPS",
         "rawType": "object",
         "type": "string"
        }
       ],
       "conversionMethod": "pd.DataFrame",
       "ref": "a2b7c403-88b7-45ed-9da1-324411a78913",
       "rows": [
        [
         "0",
         "106802728188",
         "2350123465",
         "6",
         "A",
         "47",
         "+35.8608030",
         "-086.3499896",
         "00",
         "G4000",
         "Tennessee",
         "3",
         "47",
         "01325873",
         "TN"
        ],
        [
         "1",
         "676653171537",
         "19006305260",
         "7",
         "A",
         "48",
         "+31.4347032",
         "-099.2818238",
         "00",
         "G4000",
         "Texas",
         "3",
         "48",
         "01779801",
         "TX"
        ]
       ],
       "shape": {
        "columns": 14,
        "rows": 2
       }
      },
      "text/html": [
       "<div>\n",
       "<style scoped>\n",
       "    .dataframe tbody tr th:only-of-type {\n",
       "        vertical-align: middle;\n",
       "    }\n",
       "\n",
       "    .dataframe tbody tr th {\n",
       "        vertical-align: top;\n",
       "    }\n",
       "\n",
       "    .dataframe thead th {\n",
       "        text-align: right;\n",
       "    }\n",
       "</style>\n",
       "<table border=\"1\" class=\"dataframe\">\n",
       "  <thead>\n",
       "    <tr style=\"text-align: right;\">\n",
       "      <th></th>\n",
       "      <th>ALAND</th>\n",
       "      <th>AWATER</th>\n",
       "      <th>DIVISION</th>\n",
       "      <th>FUNCSTAT</th>\n",
       "      <th>GEOID</th>\n",
       "      <th>INTPTLAT</th>\n",
       "      <th>INTPTLON</th>\n",
       "      <th>LSAD</th>\n",
       "      <th>MTFCC</th>\n",
       "      <th>NAME</th>\n",
       "      <th>REGION</th>\n",
       "      <th>STATEFP</th>\n",
       "      <th>STATENS</th>\n",
       "      <th>STUSPS</th>\n",
       "    </tr>\n",
       "  </thead>\n",
       "  <tbody>\n",
       "    <tr>\n",
       "      <th>0</th>\n",
       "      <td>106802728188</td>\n",
       "      <td>2350123465</td>\n",
       "      <td>6</td>\n",
       "      <td>A</td>\n",
       "      <td>47</td>\n",
       "      <td>+35.8608030</td>\n",
       "      <td>-086.3499896</td>\n",
       "      <td>00</td>\n",
       "      <td>G4000</td>\n",
       "      <td>Tennessee</td>\n",
       "      <td>3</td>\n",
       "      <td>47</td>\n",
       "      <td>01325873</td>\n",
       "      <td>TN</td>\n",
       "    </tr>\n",
       "    <tr>\n",
       "      <th>1</th>\n",
       "      <td>676653171537</td>\n",
       "      <td>19006305260</td>\n",
       "      <td>7</td>\n",
       "      <td>A</td>\n",
       "      <td>48</td>\n",
       "      <td>+31.4347032</td>\n",
       "      <td>-099.2818238</td>\n",
       "      <td>00</td>\n",
       "      <td>G4000</td>\n",
       "      <td>Texas</td>\n",
       "      <td>3</td>\n",
       "      <td>48</td>\n",
       "      <td>01779801</td>\n",
       "      <td>TX</td>\n",
       "    </tr>\n",
       "  </tbody>\n",
       "</table>\n",
       "</div>"
      ],
      "text/plain": [
       "          ALAND       AWATER DIVISION FUNCSTAT GEOID     INTPTLAT  \\\n",
       "0  106802728188   2350123465        6        A    47  +35.8608030   \n",
       "1  676653171537  19006305260        7        A    48  +31.4347032   \n",
       "\n",
       "       INTPTLON LSAD  MTFCC       NAME REGION STATEFP   STATENS STUSPS  \n",
       "0  -086.3499896   00  G4000  Tennessee      3      47  01325873     TN  \n",
       "1  -099.2818238   00  G4000      Texas      3      48  01779801     TX  "
      ]
     },
     "execution_count": 89,
     "metadata": {},
     "output_type": "execute_result"
    }
   ],
   "source": [
    "# Converting to pandas dataframe\n",
    "geemap.ee_to_df(fc) # Convert to geopandas dataframe"
   ]
  },
  {
   "cell_type": "code",
   "execution_count": null,
   "id": "6ee0da5e",
   "metadata": {},
   "outputs": [
    {
     "data": {
      "text/html": [
       "\n",
       "            <style>\n",
       "                .geemap-dark {\n",
       "                    --jp-widgets-color: white;\n",
       "                    --jp-widgets-label-color: white;\n",
       "                    --jp-ui-font-color1: white;\n",
       "                    --jp-layout-color2: #454545;\n",
       "                    background-color: #383838;\n",
       "                }\n",
       "\n",
       "                .geemap-dark .jupyter-button {\n",
       "                    --jp-layout-color3: #383838;\n",
       "                }\n",
       "\n",
       "                .geemap-colab {\n",
       "                    background-color: var(--colab-primary-surface-color, white);\n",
       "                }\n",
       "\n",
       "                .geemap-colab .jupyter-button {\n",
       "                    --jp-layout-color3: var(--colab-primary-surface-color, white);\n",
       "                }\n",
       "            </style>\n",
       "            "
      ],
      "text/plain": [
       "<IPython.core.display.HTML object>"
      ]
     },
     "metadata": {},
     "output_type": "display_data"
    }
   ],
   "source": [
    "# if you draw a polygon on map and run this code it will receive the poygon as a feature collection\n",
    "# select by location\n",
    "region = m.user_roi\n",
    "if region is None:\n",
    "    region = ee.Geometry.BBox(-88.40, 29.88, -77.90, 35.39)\n",
    "\n",
    "fc = ee.FeatureCollection(\"TIGER/2018/States\").filterBounds(region)\n",
    "m.add_layer(fc, {}, \"Southeastern U.S.\")\n",
    "m.center_object(fc, 6)"
   ]
  },
  {
   "cell_type": "markdown",
   "id": "a7ce57d3",
   "metadata": {},
   "source": [
    "# Using Feature Collection to clip an image."
   ]
  },
  {
   "cell_type": "code",
   "execution_count": 4,
   "id": "ffa5244b",
   "metadata": {},
   "outputs": [
    {
     "data": {
      "text/html": [
       "\n",
       "            <style>\n",
       "                .geemap-dark {\n",
       "                    --jp-widgets-color: white;\n",
       "                    --jp-widgets-label-color: white;\n",
       "                    --jp-ui-font-color1: white;\n",
       "                    --jp-layout-color2: #454545;\n",
       "                    background-color: #383838;\n",
       "                }\n",
       "\n",
       "                .geemap-dark .jupyter-button {\n",
       "                    --jp-layout-color3: #383838;\n",
       "                }\n",
       "\n",
       "                .geemap-colab {\n",
       "                    background-color: var(--colab-primary-surface-color, white);\n",
       "                }\n",
       "\n",
       "                .geemap-colab .jupyter-button {\n",
       "                    --jp-layout-color3: var(--colab-primary-surface-color, white);\n",
       "                }\n",
       "            </style>\n",
       "            "
      ],
      "text/plain": [
       "<IPython.core.display.HTML object>"
      ]
     },
     "metadata": {},
     "output_type": "display_data"
    },
    {
     "data": {
      "application/vnd.jupyter.widget-view+json": {
       "model_id": "a6421f7542a745f78eadc0fb6cada890",
       "version_major": 2,
       "version_minor": 0
      },
      "text/plain": [
       "Map(center=[29.353755316316565, 68.69347442477485], controls=(WidgetControl(options=['position', 'transparent_…"
      ]
     },
     "execution_count": 4,
     "metadata": {},
     "output_type": "execute_result"
    }
   ],
   "source": [
    "m = geemap.Map()\n",
    "landsat7 = ee.Image('LANDSAT/LE7_TOA_5YEAR/1999_2003')\n",
    "countries = ee.FeatureCollection('FAO/GAUL_SIMPLIFIED_500m/2015/level0')\n",
    "fc = countries.filter(ee.Filter.eq('ADM0_NAME', 'Pakistan'))\n",
    "image = landsat7.clip(fc)\n",
    "vis = {\n",
    "    'bands': ['B4', 'B3', 'B2'],\n",
    "    'min': 20,\n",
    "    'max': 200,\n",
    "    'gamma': 2.0\n",
    "}\n",
    "m.add_layer(image, vis, 'Landsat 7')\n",
    "m.center_object(fc, 6)\n",
    "m"
   ]
  }
 ],
 "metadata": {
  "kernelspec": {
   "display_name": "Python 3",
   "language": "python",
   "name": "python3"
  },
  "language_info": {
   "codemirror_mode": {
    "name": "ipython",
    "version": 3
   },
   "file_extension": ".py",
   "mimetype": "text/x-python",
   "name": "python",
   "nbconvert_exporter": "python",
   "pygments_lexer": "ipython3",
   "version": "3.10.16"
  }
 },
 "nbformat": 4,
 "nbformat_minor": 5
}
