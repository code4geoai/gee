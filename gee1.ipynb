{
 "cells": [
  {
   "cell_type": "code",
   "execution_count": null,
   "id": "e1e49490",
   "metadata": {},
   "outputs": [],
   "source": [
    "import ee\n",
    "import geemap\n"
   ]
  },
  {
   "cell_type": "code",
   "execution_count": 2,
   "id": "7acf1d8e",
   "metadata": {},
   "outputs": [
    {
     "data": {
      "text/plain": [
       "True"
      ]
     },
     "execution_count": 2,
     "metadata": {},
     "output_type": "execute_result"
    }
   ],
   "source": [
    "ee.Authenticate()"
   ]
  },
  {
   "cell_type": "code",
   "execution_count": 3,
   "id": "2eb285fb",
   "metadata": {},
   "outputs": [],
   "source": [
    "ee.Initialize(project='ee-imhayatkhan')"
   ]
  },
  {
   "cell_type": "code",
   "execution_count": null,
   "id": "839c776b",
   "metadata": {},
   "outputs": [
    {
     "data": {
      "text/html": [
       "\n",
       "            <style>\n",
       "                .geemap-dark {\n",
       "                    --jp-widgets-color: white;\n",
       "                    --jp-widgets-label-color: white;\n",
       "                    --jp-ui-font-color1: white;\n",
       "                    --jp-layout-color2: #454545;\n",
       "                    background-color: #383838;\n",
       "                }\n",
       "\n",
       "                .geemap-dark .jupyter-button {\n",
       "                    --jp-layout-color3: #383838;\n",
       "                }\n",
       "\n",
       "                .geemap-colab {\n",
       "                    background-color: var(--colab-primary-surface-color, white);\n",
       "                }\n",
       "\n",
       "                .geemap-colab .jupyter-button {\n",
       "                    --jp-layout-color3: var(--colab-primary-surface-color, white);\n",
       "                }\n",
       "            </style>\n",
       "            "
      ],
      "text/plain": [
       "<IPython.core.display.HTML object>"
      ]
     },
     "metadata": {},
     "output_type": "display_data"
    }
   ],
   "source": [
    "# This is shortcut for the above two lines\n",
    "geemap.ee.Initialize()"
   ]
  },
  {
   "cell_type": "code",
   "execution_count": 5,
   "id": "24a4484e",
   "metadata": {},
   "outputs": [
    {
     "data": {
      "text/html": [
       "\n",
       "            <style>\n",
       "                .geemap-dark {\n",
       "                    --jp-widgets-color: white;\n",
       "                    --jp-widgets-label-color: white;\n",
       "                    --jp-ui-font-color1: white;\n",
       "                    --jp-layout-color2: #454545;\n",
       "                    background-color: #383838;\n",
       "                }\n",
       "\n",
       "                .geemap-dark .jupyter-button {\n",
       "                    --jp-layout-color3: #383838;\n",
       "                }\n",
       "\n",
       "                .geemap-colab {\n",
       "                    background-color: var(--colab-primary-surface-color, white);\n",
       "                }\n",
       "\n",
       "                .geemap-colab .jupyter-button {\n",
       "                    --jp-layout-color3: var(--colab-primary-surface-color, white);\n",
       "                }\n",
       "            </style>\n",
       "            "
      ],
      "text/plain": [
       "<IPython.core.display.HTML object>"
      ]
     },
     "metadata": {},
     "output_type": "display_data"
    },
    {
     "data": {
      "application/vnd.jupyter.widget-view+json": {
       "model_id": "5bf6ab774b374582847acd4a1349fb1c",
       "version_major": 2,
       "version_minor": 0
      },
      "text/plain": [
       "Map(center=[0, 0], controls=(WidgetControl(options=['position', 'transparent_bg'], widget=SearchDataGUI(childr…"
      ]
     },
     "execution_count": 5,
     "metadata": {},
     "output_type": "execute_result"
    },
    {
     "data": {
      "application/javascript": "\n        var code = IPython.notebook.insert_cell_below('code');\n        code.set_text(atob(\"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\"));\n    ",
      "text/plain": [
       "<IPython.core.display.Javascript object>"
      ]
     },
     "metadata": {},
     "output_type": "display_data"
    }
   ],
   "source": [
    "m = geemap.Map()\n",
    "m"
   ]
  },
  {
   "cell_type": "code",
   "execution_count": 19,
   "id": "e4f7e779",
   "metadata": {},
   "outputs": [
    {
     "data": {
      "text/html": [
       "\n",
       "            <style>\n",
       "                .geemap-dark {\n",
       "                    --jp-widgets-color: white;\n",
       "                    --jp-widgets-label-color: white;\n",
       "                    --jp-ui-font-color1: white;\n",
       "                    --jp-layout-color2: #454545;\n",
       "                    background-color: #383838;\n",
       "                }\n",
       "\n",
       "                .geemap-dark .jupyter-button {\n",
       "                    --jp-layout-color3: #383838;\n",
       "                }\n",
       "\n",
       "                .geemap-colab {\n",
       "                    background-color: var(--colab-primary-surface-color, white);\n",
       "                }\n",
       "\n",
       "                .geemap-colab .jupyter-button {\n",
       "                    --jp-layout-color3: var(--colab-primary-surface-color, white);\n",
       "                }\n",
       "            </style>\n",
       "            "
      ],
      "text/plain": [
       "<IPython.core.display.HTML object>"
      ]
     },
     "metadata": {},
     "output_type": "display_data"
    },
    {
     "data": {
      "application/vnd.jupyter.widget-view+json": {
       "model_id": "da7b10d2fb2f433d8acabf5d1c8b3c8f",
       "version_major": 2,
       "version_minor": 0
      },
      "text/plain": [
       "Map(center=[53.3811, 1.4701], controls=(WidgetControl(options=['position', 'transparent_bg'], widget=SearchDat…"
      ]
     },
     "execution_count": 19,
     "metadata": {},
     "output_type": "execute_result"
    }
   ],
   "source": [
    "m = geemap.Map(center = [53.3811, 1.4701], zoom = 8) # UK\n",
    "m"
   ]
  },
  {
   "cell_type": "code",
   "execution_count": 22,
   "id": "1995fad6",
   "metadata": {},
   "outputs": [
    {
     "data": {
      "text/html": [
       "\n",
       "            <style>\n",
       "                .geemap-dark {\n",
       "                    --jp-widgets-color: white;\n",
       "                    --jp-widgets-label-color: white;\n",
       "                    --jp-ui-font-color1: white;\n",
       "                    --jp-layout-color2: #454545;\n",
       "                    background-color: #383838;\n",
       "                }\n",
       "\n",
       "                .geemap-dark .jupyter-button {\n",
       "                    --jp-layout-color3: #383838;\n",
       "                }\n",
       "\n",
       "                .geemap-colab {\n",
       "                    background-color: var(--colab-primary-surface-color, white);\n",
       "                }\n",
       "\n",
       "                .geemap-colab .jupyter-button {\n",
       "                    --jp-layout-color3: var(--colab-primary-surface-color, white);\n",
       "                }\n",
       "            </style>\n",
       "            "
      ],
      "text/plain": [
       "<IPython.core.display.HTML object>"
      ]
     },
     "metadata": {},
     "output_type": "display_data"
    },
    {
     "data": {
      "application/vnd.jupyter.widget-view+json": {
       "model_id": "e579e77f048740f484902da612825f80",
       "version_major": 2,
       "version_minor": 0
      },
      "text/plain": [
       "Map(center=[0, 0], controls=(ZoomControl(options=['position', 'zoom_in_text', 'zoom_in_title', 'zoom_out_text'…"
      ]
     },
     "execution_count": 22,
     "metadata": {},
     "output_type": "execute_result"
    }
   ],
   "source": [
    "m = geemap.Map(data_ctrl=False,toolbar_ctrl=False, search_ctrl=False, draw_ctrl=False, measure_ctrl=False, layer_ctrl=False, geocoder_ctrl=False,fullscreen_ctrl=False, home_ctrl=False, add_data_ctrl=False, print_ctrl=False, time_slider_ctrl=False, inspector_ctrl=False, add_marker_ctrl=False, add_polygon_ctrl=False, add_rectangle_ctrl=False, add_circle_ctrl=False, add_ee_layer_ctrl=False, add_text_ctrl=False, add_image_marker_ctrl=False, add_geojson_file_ctrl=False) # UK\n",
    "m"
   ]
  },
  {
   "cell_type": "markdown",
   "id": "268721b7",
   "metadata": {},
   "source": [
    "# Adding Basemaps"
   ]
  },
  {
   "cell_type": "code",
   "execution_count": 24,
   "id": "6f7ec995",
   "metadata": {},
   "outputs": [
    {
     "data": {
      "text/html": [
       "\n",
       "            <style>\n",
       "                .geemap-dark {\n",
       "                    --jp-widgets-color: white;\n",
       "                    --jp-widgets-label-color: white;\n",
       "                    --jp-ui-font-color1: white;\n",
       "                    --jp-layout-color2: #454545;\n",
       "                    background-color: #383838;\n",
       "                }\n",
       "\n",
       "                .geemap-dark .jupyter-button {\n",
       "                    --jp-layout-color3: #383838;\n",
       "                }\n",
       "\n",
       "                .geemap-colab {\n",
       "                    background-color: var(--colab-primary-surface-color, white);\n",
       "                }\n",
       "\n",
       "                .geemap-colab .jupyter-button {\n",
       "                    --jp-layout-color3: var(--colab-primary-surface-color, white);\n",
       "                }\n",
       "            </style>\n",
       "            "
      ],
      "text/plain": [
       "<IPython.core.display.HTML object>"
      ]
     },
     "metadata": {},
     "output_type": "display_data"
    },
    {
     "data": {
      "application/vnd.jupyter.widget-view+json": {
       "model_id": "a936ef5f54ef49c3ab0d7267791447d2",
       "version_major": 2,
       "version_minor": 0
      },
      "text/plain": [
       "Map(center=[0, 0], controls=(WidgetControl(options=['position', 'transparent_bg'], widget=SearchDataGUI(childr…"
      ]
     },
     "execution_count": 24,
     "metadata": {},
     "output_type": "execute_result"
    }
   ],
   "source": [
    "m = geemap.Map(basemap = 'Esri.WorldImagery')\n",
    "m.add_basemap('Esri.WorldTopoMap')\n",
    "m.add_basemap('OpenTopoMap')\n",
    "m"
   ]
  },
  {
   "cell_type": "code",
   "execution_count": 26,
   "id": "a3108705",
   "metadata": {},
   "outputs": [
    {
     "data": {
      "text/html": [
       "\n",
       "            <style>\n",
       "                .geemap-dark {\n",
       "                    --jp-widgets-color: white;\n",
       "                    --jp-widgets-label-color: white;\n",
       "                    --jp-ui-font-color1: white;\n",
       "                    --jp-layout-color2: #454545;\n",
       "                    background-color: #383838;\n",
       "                }\n",
       "\n",
       "                .geemap-dark .jupyter-button {\n",
       "                    --jp-layout-color3: #383838;\n",
       "                }\n",
       "\n",
       "                .geemap-colab {\n",
       "                    background-color: var(--colab-primary-surface-color, white);\n",
       "                }\n",
       "\n",
       "                .geemap-colab .jupyter-button {\n",
       "                    --jp-layout-color3: var(--colab-primary-surface-color, white);\n",
       "                }\n",
       "            </style>\n",
       "            "
      ],
      "text/plain": [
       "<IPython.core.display.HTML object>"
      ]
     },
     "metadata": {},
     "output_type": "display_data"
    },
    {
     "name": "stdout",
     "output_type": "stream",
     "text": [
      "Total basemaps Available: 150\n"
     ]
    }
   ],
   "source": [
    "# Listing Available Basemaps\n",
    "basemap = list(geemap.basemaps.keys())\n",
    "print(f'Total basemaps Available: {len(basemap)}')"
   ]
  },
  {
   "cell_type": "code",
   "execution_count": 27,
   "id": "715bff43",
   "metadata": {},
   "outputs": [
    {
     "data": {
      "text/html": [
       "\n",
       "            <style>\n",
       "                .geemap-dark {\n",
       "                    --jp-widgets-color: white;\n",
       "                    --jp-widgets-label-color: white;\n",
       "                    --jp-ui-font-color1: white;\n",
       "                    --jp-layout-color2: #454545;\n",
       "                    background-color: #383838;\n",
       "                }\n",
       "\n",
       "                .geemap-dark .jupyter-button {\n",
       "                    --jp-layout-color3: #383838;\n",
       "                }\n",
       "\n",
       "                .geemap-colab {\n",
       "                    background-color: var(--colab-primary-surface-color, white);\n",
       "                }\n",
       "\n",
       "                .geemap-colab .jupyter-button {\n",
       "                    --jp-layout-color3: var(--colab-primary-surface-color, white);\n",
       "                }\n",
       "            </style>\n",
       "            "
      ],
      "text/plain": [
       "<IPython.core.display.HTML object>"
      ]
     },
     "metadata": {},
     "output_type": "display_data"
    },
    {
     "data": {
      "text/plain": [
       "['OpenStreetMap',\n",
       " 'Esri.WorldStreetMap',\n",
       " 'Esri.WorldImagery',\n",
       " 'Esri.WorldTopoMap',\n",
       " 'FWS NWI Wetlands']"
      ]
     },
     "execution_count": 27,
     "metadata": {},
     "output_type": "execute_result"
    }
   ],
   "source": [
    "basemap[0:5] # First 5 Basemaps"
   ]
  },
  {
   "cell_type": "markdown",
   "id": "48ca8153",
   "metadata": {},
   "source": [
    "# Interactive basemap Select"
   ]
  },
  {
   "cell_type": "code",
   "execution_count": 28,
   "id": "a4a279cf",
   "metadata": {},
   "outputs": [
    {
     "data": {
      "text/html": [
       "\n",
       "            <style>\n",
       "                .geemap-dark {\n",
       "                    --jp-widgets-color: white;\n",
       "                    --jp-widgets-label-color: white;\n",
       "                    --jp-ui-font-color1: white;\n",
       "                    --jp-layout-color2: #454545;\n",
       "                    background-color: #383838;\n",
       "                }\n",
       "\n",
       "                .geemap-dark .jupyter-button {\n",
       "                    --jp-layout-color3: #383838;\n",
       "                }\n",
       "\n",
       "                .geemap-colab {\n",
       "                    background-color: var(--colab-primary-surface-color, white);\n",
       "                }\n",
       "\n",
       "                .geemap-colab .jupyter-button {\n",
       "                    --jp-layout-color3: var(--colab-primary-surface-color, white);\n",
       "                }\n",
       "            </style>\n",
       "            "
      ],
      "text/plain": [
       "<IPython.core.display.HTML object>"
      ]
     },
     "metadata": {},
     "output_type": "display_data"
    },
    {
     "data": {
      "application/vnd.jupyter.widget-view+json": {
       "model_id": "3951fac36f1541678e5b4a3b69fd939f",
       "version_major": 2,
       "version_minor": 0
      },
      "text/plain": [
       "Map(center=[0, 0], controls=(WidgetControl(options=['position', 'transparent_bg'], widget=SearchDataGUI(childr…"
      ]
     },
     "execution_count": 28,
     "metadata": {},
     "output_type": "execute_result"
    }
   ],
   "source": [
    "m = geemap.Map()\n",
    "m.add('basemap_selector')\n",
    "m"
   ]
  },
  {
   "cell_type": "markdown",
   "id": "712a0ad9",
   "metadata": {},
   "source": [
    "# Layer Manager"
   ]
  },
  {
   "cell_type": "code",
   "execution_count": null,
   "id": "e2550493",
   "metadata": {},
   "outputs": [
    {
     "data": {
      "text/html": [
       "\n",
       "            <style>\n",
       "                .geemap-dark {\n",
       "                    --jp-widgets-color: white;\n",
       "                    --jp-widgets-label-color: white;\n",
       "                    --jp-ui-font-color1: white;\n",
       "                    --jp-layout-color2: #454545;\n",
       "                    background-color: #383838;\n",
       "                }\n",
       "\n",
       "                .geemap-dark .jupyter-button {\n",
       "                    --jp-layout-color3: #383838;\n",
       "                }\n",
       "\n",
       "                .geemap-colab {\n",
       "                    background-color: var(--colab-primary-surface-color, white);\n",
       "                }\n",
       "\n",
       "                .geemap-colab .jupyter-button {\n",
       "                    --jp-layout-color3: var(--colab-primary-surface-color, white);\n",
       "                }\n",
       "            </style>\n",
       "            "
      ],
      "text/plain": [
       "<IPython.core.display.HTML object>"
      ]
     },
     "metadata": {},
     "output_type": "display_data"
    },
    {
     "data": {
      "application/vnd.jupyter.widget-view+json": {
       "model_id": "5bc36454ccf64bcdb1d4c22648dff006",
       "version_major": 2,
       "version_minor": 0
      },
      "text/plain": [
       "Map(center=[40, -100], controls=(WidgetControl(options=['position', 'transparent_bg'], widget=SearchDataGUI(ch…"
      ]
     },
     "execution_count": 27,
     "metadata": {},
     "output_type": "execute_result"
    }
   ],
   "source": [
    "m = geemap.Map( center = (40,-100), zoom = 4)\n",
    "dem = ee.Image('USGS/SRTMGL1_003') # the String is the unique ID of the image in the Earth Engine data catalog\n",
    "states = ee.FeatureCollection('TIGER/2018/States') # the string is the unique ID of the featue collection (shape file ) in the google earth engine data catalog \n",
    "\n",
    "vis_params = {\n",
    "    'min' : 0,\n",
    "    'max' : 4000,\n",
    "    'palette' : ['blue', 'green', 'yellow', 'orange', 'red']\n",
    "}\n",
    "#m.addLayer(dem, vis_params, 'SRTM DEM')\n",
    "m.add_layer(dem, vis_params, 'SRTM DEM') # m.addLayer is the same as m.add_layer\n",
    "m.addLayer(states, {}, 'States')    \n",
    "m"
   ]
  },
  {
   "cell_type": "markdown",
   "id": "2328b513",
   "metadata": {},
   "source": [
    "# Inspector Tool"
   ]
  },
  {
   "cell_type": "code",
   "execution_count": 29,
   "id": "6fb88b8a",
   "metadata": {},
   "outputs": [
    {
     "data": {
      "text/html": [
       "\n",
       "            <style>\n",
       "                .geemap-dark {\n",
       "                    --jp-widgets-color: white;\n",
       "                    --jp-widgets-label-color: white;\n",
       "                    --jp-ui-font-color1: white;\n",
       "                    --jp-layout-color2: #454545;\n",
       "                    background-color: #383838;\n",
       "                }\n",
       "\n",
       "                .geemap-dark .jupyter-button {\n",
       "                    --jp-layout-color3: #383838;\n",
       "                }\n",
       "\n",
       "                .geemap-colab {\n",
       "                    background-color: var(--colab-primary-surface-color, white);\n",
       "                }\n",
       "\n",
       "                .geemap-colab .jupyter-button {\n",
       "                    --jp-layout-color3: var(--colab-primary-surface-color, white);\n",
       "                }\n",
       "            </style>\n",
       "            "
      ],
      "text/plain": [
       "<IPython.core.display.HTML object>"
      ]
     },
     "metadata": {},
     "output_type": "display_data"
    },
    {
     "data": {
      "application/vnd.jupyter.widget-view+json": {
       "model_id": "d0774e5d33144d669cb3438d3bc9f22c",
       "version_major": 2,
       "version_minor": 0
      },
      "text/plain": [
       "Map(center=[40, -100], controls=(WidgetControl(options=['position', 'transparent_bg'], widget=SearchDataGUI(ch…"
      ]
     },
     "execution_count": 29,
     "metadata": {},
     "output_type": "execute_result"
    }
   ],
   "source": [
    "m = geemap.Map(center = (40,-100), zoom = 4)\n",
    "dem = ee.Image('USGS/SRTMGL1_003') # the String is the unique ID of the image in the Earth Engine data catalog\n",
    "states = ee.FeatureCollection('TIGER/2018/States') # the string is the unique ID of the featue collection (shape file ) in the google earth engine data catalog \n",
    "lansat7 = ee.Image('LANDSAT/LE7_TOA_5YEAR/1999_2003') # the String is the unique ID of the image in the Earth Engine data catalog\n",
    "vis_params = {\n",
    "    'min': 0,\n",
    "    'max': 4000,\n",
    "    'palette': ['blue', 'green', 'yellow', 'orange', 'red']\n",
    "    }\n",
    "m.addLayer(dem,vis_params,'SRTM DEM')\n",
    "m.addLayer(states, {}, 'States')\n",
    "m.addLayer(lansat7, \n",
    "           {\n",
    "                'bands': ['B4', 'B3', 'B2'],\n",
    "                'min': 20,\n",
    "                'max': 200,\n",
    "                'gamma': 2.0\n",
    "           },   'Landsat 7')\n",
    "m.add('inspector')\n",
    "m"
   ]
  },
  {
   "cell_type": "markdown",
   "id": "e77f4794",
   "metadata": {},
   "source": [
    "# Layer Editor"
   ]
  },
  {
   "cell_type": "code",
   "execution_count": 31,
   "id": "62487179",
   "metadata": {},
   "outputs": [
    {
     "data": {
      "text/html": [
       "\n",
       "            <style>\n",
       "                .geemap-dark {\n",
       "                    --jp-widgets-color: white;\n",
       "                    --jp-widgets-label-color: white;\n",
       "                    --jp-ui-font-color1: white;\n",
       "                    --jp-layout-color2: #454545;\n",
       "                    background-color: #383838;\n",
       "                }\n",
       "\n",
       "                .geemap-dark .jupyter-button {\n",
       "                    --jp-layout-color3: #383838;\n",
       "                }\n",
       "\n",
       "                .geemap-colab {\n",
       "                    background-color: var(--colab-primary-surface-color, white);\n",
       "                }\n",
       "\n",
       "                .geemap-colab .jupyter-button {\n",
       "                    --jp-layout-color3: var(--colab-primary-surface-color, white);\n",
       "                }\n",
       "            </style>\n",
       "            "
      ],
      "text/plain": [
       "<IPython.core.display.HTML object>"
      ]
     },
     "metadata": {},
     "output_type": "display_data"
    },
    {
     "data": {
      "application/vnd.jupyter.widget-view+json": {
       "model_id": "a6dd6c4af4be472aaa508448c98397c0",
       "version_major": 2,
       "version_minor": 0
      },
      "text/plain": [
       "Map(center=[40, -100], controls=(WidgetControl(options=['position', 'transparent_bg'], widget=SearchDataGUI(ch…"
      ]
     },
     "execution_count": 31,
     "metadata": {},
     "output_type": "execute_result"
    },
    {
     "data": {
      "application/javascript": "\n        var code = IPython.notebook.insert_cell_below('code');\n        code.set_text(atob(\"ZGF0YXNldCA9IGVlLkZlYXR1cmVDb2xsZWN0aW9uKCdGQU8vR0FVTF9TSU1QTElGSUVEXzUwMG0vMjAxNS9sZXZlbDInKQoKTWFwLnNldENlbnRlcigxMi44NzYsIDQyLjY4MiwgNSkKCnN0eWxlUGFyYW1zID0gewogICAgImZpbGxDb2xvciI6ICdiNWZmYjQnLAogICAgImNvbG9yIjogJzAwOTA5RicsCiAgICAid2lkdGgiOiAxLjAsCn0KCmRhdGFzZXQgPSBkYXRhc2V0LnN0eWxlKCoqc3R5bGVQYXJhbXMpCgpNYXAuYWRkTGF5ZXIoZGF0YXNldCwge30sICdTZWNvbmQgTGV2ZWwgQWRtaW5pc3RyYXRpdmUgVW5pdHMnKQo=\"));\n    ",
      "text/plain": [
       "<IPython.core.display.Javascript object>"
      ]
     },
     "metadata": {},
     "output_type": "display_data"
    }
   ],
   "source": [
    "m = geemap.Map(center = (40,-100), zoom = 4)\n",
    "dem = ee.Image('USGS/SRTMGL1_003')\n",
    "vis_params = {\n",
    "    'min' : 0,\n",
    "    'max' : 4000,\n",
    "    'palette' : ['blue', 'green', 'yellow', 'orange', 'red']\n",
    "}\n",
    "m.addLayer(dem, vis_params, 'SRTM DEM')\n",
    "\n",
    "m\n"
   ]
  },
  {
   "cell_type": "code",
   "execution_count": null,
   "id": "26aaf3f7",
   "metadata": {},
   "outputs": [
    {
     "data": {
      "text/html": [
       "\n",
       "            <style>\n",
       "                .geemap-dark {\n",
       "                    --jp-widgets-color: white;\n",
       "                    --jp-widgets-label-color: white;\n",
       "                    --jp-ui-font-color1: white;\n",
       "                    --jp-layout-color2: #454545;\n",
       "                    background-color: #383838;\n",
       "                }\n",
       "\n",
       "                .geemap-dark .jupyter-button {\n",
       "                    --jp-layout-color3: #383838;\n",
       "                }\n",
       "\n",
       "                .geemap-colab {\n",
       "                    background-color: var(--colab-primary-surface-color, white);\n",
       "                }\n",
       "\n",
       "                .geemap-colab .jupyter-button {\n",
       "                    --jp-layout-color3: var(--colab-primary-surface-color, white);\n",
       "                }\n",
       "            </style>\n",
       "            "
      ],
      "text/plain": [
       "<IPython.core.display.HTML object>"
      ]
     },
     "metadata": {},
     "output_type": "display_data"
    }
   ],
   "source": [
    "# The code has been copied to the clipboard. \n",
    "# Press Ctrl+V to in a code cell to paste it.\n",
    "dataset = ee.FeatureCollection('FAO/GAUL_SIMPLIFIED_500m/2015/level2')\n",
    "\n",
    "#Map.setCenter(12.876, 42.682, 5)\n",
    "\n",
    "\n",
    "\n",
    "m.addLayer(dataset, {}, 'Second Level Administrative Units')\n"
   ]
  },
  {
   "cell_type": "code",
   "execution_count": null,
   "id": "50c12a6d",
   "metadata": {},
   "outputs": [
    {
     "data": {
      "text/html": [
       "\n",
       "            <style>\n",
       "                .geemap-dark {\n",
       "                    --jp-widgets-color: white;\n",
       "                    --jp-widgets-label-color: white;\n",
       "                    --jp-ui-font-color1: white;\n",
       "                    --jp-layout-color2: #454545;\n",
       "                    background-color: #383838;\n",
       "                }\n",
       "\n",
       "                .geemap-dark .jupyter-button {\n",
       "                    --jp-layout-color3: #383838;\n",
       "                }\n",
       "\n",
       "                .geemap-colab {\n",
       "                    background-color: var(--colab-primary-surface-color, white);\n",
       "                }\n",
       "\n",
       "                .geemap-colab .jupyter-button {\n",
       "                    --jp-layout-color3: var(--colab-primary-surface-color, white);\n",
       "                }\n",
       "            </style>\n",
       "            "
      ],
      "text/plain": [
       "<IPython.core.display.HTML object>"
      ]
     },
     "metadata": {},
     "output_type": "display_data"
    },
    {
     "name": "stdout",
     "output_type": "stream",
     "text": [
      "Export started with task ID: R34GQS6AI5XCCJU7LP643QM5\n"
     ]
    }
   ],
   "source": []
  }
 ],
 "metadata": {
  "kernelspec": {
   "display_name": "Python 3",
   "language": "python",
   "name": "python3"
  },
  "language_info": {
   "codemirror_mode": {
    "name": "ipython",
    "version": 3
   },
   "file_extension": ".py",
   "mimetype": "text/x-python",
   "name": "python",
   "nbconvert_exporter": "python",
   "pygments_lexer": "ipython3",
   "version": "3.10.16"
  }
 },
 "nbformat": 4,
 "nbformat_minor": 5
}
