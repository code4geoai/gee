{
 "cells": [
  {
   "cell_type": "code",
   "execution_count": 1,
   "id": "e1e49490",
   "metadata": {},
   "outputs": [],
   "source": [
    "import ee\n",
    "import geemap\n"
   ]
  },
  {
   "cell_type": "code",
   "execution_count": 2,
   "id": "7acf1d8e",
   "metadata": {},
   "outputs": [
    {
     "data": {
      "text/html": [
       "\n",
       "            <style>\n",
       "                .geemap-dark {\n",
       "                    --jp-widgets-color: white;\n",
       "                    --jp-widgets-label-color: white;\n",
       "                    --jp-ui-font-color1: white;\n",
       "                    --jp-layout-color2: #454545;\n",
       "                    background-color: #383838;\n",
       "                }\n",
       "\n",
       "                .geemap-dark .jupyter-button {\n",
       "                    --jp-layout-color3: #383838;\n",
       "                }\n",
       "\n",
       "                .geemap-colab {\n",
       "                    background-color: var(--colab-primary-surface-color, white);\n",
       "                }\n",
       "\n",
       "                .geemap-colab .jupyter-button {\n",
       "                    --jp-layout-color3: var(--colab-primary-surface-color, white);\n",
       "                }\n",
       "            </style>\n",
       "            "
      ],
      "text/plain": [
       "<IPython.core.display.HTML object>"
      ]
     },
     "metadata": {},
     "output_type": "display_data"
    },
    {
     "data": {
      "text/html": [
       "<p>To authorize access needed by Earth Engine, open the following\n",
       "        URL in a web browser and follow the instructions:</p>\n",
       "        <p><a href=https://code.earthengine.google.com/client-auth?scopes=https%3A//www.googleapis.com/auth/earthengine%20https%3A//www.googleapis.com/auth/cloud-platform%20https%3A//www.googleapis.com/auth/devstorage.full_control&request_id=gP_KFh6vbV4YH_P5s9WUhW38un2QXXhutWdF2kfmCdc&tc=VsneJRYv8KE9BvJ4u7_z6EP38GPaTw9v5XbJaF0AttQ&cc=-xlKbJuTdy9nL-Fq87zWehSgxX7qtOhIVh_-rFDq-t4>https://code.earthengine.google.com/client-auth?scopes=https%3A//www.googleapis.com/auth/earthengine%20https%3A//www.googleapis.com/auth/cloud-platform%20https%3A//www.googleapis.com/auth/devstorage.full_control&request_id=gP_KFh6vbV4YH_P5s9WUhW38un2QXXhutWdF2kfmCdc&tc=VsneJRYv8KE9BvJ4u7_z6EP38GPaTw9v5XbJaF0AttQ&cc=-xlKbJuTdy9nL-Fq87zWehSgxX7qtOhIVh_-rFDq-t4</a></p>\n",
       "        <p>The authorization workflow will generate a code, which you should paste in the box below.</p>\n",
       "        "
      ],
      "text/plain": [
       "<IPython.core.display.HTML object>"
      ]
     },
     "metadata": {},
     "output_type": "display_data"
    },
    {
     "name": "stdout",
     "output_type": "stream",
     "text": [
      "\n",
      "Successfully saved authorization token.\n"
     ]
    }
   ],
   "source": [
    "ee.Authenticate()"
   ]
  },
  {
   "cell_type": "code",
   "execution_count": 4,
   "id": "2eb285fb",
   "metadata": {},
   "outputs": [
    {
     "data": {
      "text/html": [
       "\n",
       "            <style>\n",
       "                .geemap-dark {\n",
       "                    --jp-widgets-color: white;\n",
       "                    --jp-widgets-label-color: white;\n",
       "                    --jp-ui-font-color1: white;\n",
       "                    --jp-layout-color2: #454545;\n",
       "                    background-color: #383838;\n",
       "                }\n",
       "\n",
       "                .geemap-dark .jupyter-button {\n",
       "                    --jp-layout-color3: #383838;\n",
       "                }\n",
       "\n",
       "                .geemap-colab {\n",
       "                    background-color: var(--colab-primary-surface-color, white);\n",
       "                }\n",
       "\n",
       "                .geemap-colab .jupyter-button {\n",
       "                    --jp-layout-color3: var(--colab-primary-surface-color, white);\n",
       "                }\n",
       "            </style>\n",
       "            "
      ],
      "text/plain": [
       "<IPython.core.display.HTML object>"
      ]
     },
     "metadata": {},
     "output_type": "display_data"
    }
   ],
   "source": [
    "ee.Initialize(project='ee-imhayatkhan')"
   ]
  },
  {
   "cell_type": "code",
   "execution_count": 3,
   "id": "839c776b",
   "metadata": {},
   "outputs": [
    {
     "data": {
      "text/html": [
       "\n",
       "            <style>\n",
       "                .geemap-dark {\n",
       "                    --jp-widgets-color: white;\n",
       "                    --jp-widgets-label-color: white;\n",
       "                    --jp-ui-font-color1: white;\n",
       "                    --jp-layout-color2: #454545;\n",
       "                    background-color: #383838;\n",
       "                }\n",
       "\n",
       "                .geemap-dark .jupyter-button {\n",
       "                    --jp-layout-color3: #383838;\n",
       "                }\n",
       "\n",
       "                .geemap-colab {\n",
       "                    background-color: var(--colab-primary-surface-color, white);\n",
       "                }\n",
       "\n",
       "                .geemap-colab .jupyter-button {\n",
       "                    --jp-layout-color3: var(--colab-primary-surface-color, white);\n",
       "                }\n",
       "            </style>\n",
       "            "
      ],
      "text/plain": [
       "<IPython.core.display.HTML object>"
      ]
     },
     "metadata": {},
     "output_type": "display_data"
    }
   ],
   "source": [
    "# This is shortcut for the above two lines\n",
    "geemap.ee.Initialize()"
   ]
  },
  {
   "cell_type": "code",
   "execution_count": 5,
   "id": "24a4484e",
   "metadata": {},
   "outputs": [
    {
     "data": {
      "text/html": [
       "\n",
       "            <style>\n",
       "                .geemap-dark {\n",
       "                    --jp-widgets-color: white;\n",
       "                    --jp-widgets-label-color: white;\n",
       "                    --jp-ui-font-color1: white;\n",
       "                    --jp-layout-color2: #454545;\n",
       "                    background-color: #383838;\n",
       "                }\n",
       "\n",
       "                .geemap-dark .jupyter-button {\n",
       "                    --jp-layout-color3: #383838;\n",
       "                }\n",
       "\n",
       "                .geemap-colab {\n",
       "                    background-color: var(--colab-primary-surface-color, white);\n",
       "                }\n",
       "\n",
       "                .geemap-colab .jupyter-button {\n",
       "                    --jp-layout-color3: var(--colab-primary-surface-color, white);\n",
       "                }\n",
       "            </style>\n",
       "            "
      ],
      "text/plain": [
       "<IPython.core.display.HTML object>"
      ]
     },
     "metadata": {},
     "output_type": "display_data"
    },
    {
     "data": {
      "application/vnd.jupyter.widget-view+json": {
       "model_id": "dd58657f4e1446e6854d662e65645c37",
       "version_major": 2,
       "version_minor": 0
      },
      "text/plain": [
       "Map(center=[0, 0], controls=(WidgetControl(options=['position', 'transparent_bg'], widget=SearchDataGUI(childr…"
      ]
     },
     "execution_count": 5,
     "metadata": {},
     "output_type": "execute_result"
    }
   ],
   "source": [
    "m = geemap.Map()\n",
    "m"
   ]
  },
  {
   "cell_type": "code",
   "execution_count": 19,
   "id": "e4f7e779",
   "metadata": {},
   "outputs": [
    {
     "data": {
      "text/html": [
       "\n",
       "            <style>\n",
       "                .geemap-dark {\n",
       "                    --jp-widgets-color: white;\n",
       "                    --jp-widgets-label-color: white;\n",
       "                    --jp-ui-font-color1: white;\n",
       "                    --jp-layout-color2: #454545;\n",
       "                    background-color: #383838;\n",
       "                }\n",
       "\n",
       "                .geemap-dark .jupyter-button {\n",
       "                    --jp-layout-color3: #383838;\n",
       "                }\n",
       "\n",
       "                .geemap-colab {\n",
       "                    background-color: var(--colab-primary-surface-color, white);\n",
       "                }\n",
       "\n",
       "                .geemap-colab .jupyter-button {\n",
       "                    --jp-layout-color3: var(--colab-primary-surface-color, white);\n",
       "                }\n",
       "            </style>\n",
       "            "
      ],
      "text/plain": [
       "<IPython.core.display.HTML object>"
      ]
     },
     "metadata": {},
     "output_type": "display_data"
    },
    {
     "data": {
      "application/vnd.jupyter.widget-view+json": {
       "model_id": "da7b10d2fb2f433d8acabf5d1c8b3c8f",
       "version_major": 2,
       "version_minor": 0
      },
      "text/plain": [
       "Map(center=[53.3811, 1.4701], controls=(WidgetControl(options=['position', 'transparent_bg'], widget=SearchDat…"
      ]
     },
     "execution_count": 19,
     "metadata": {},
     "output_type": "execute_result"
    }
   ],
   "source": [
    "m = geemap.Map(center = [53.3811, 1.4701], zoom = 8) # UK\n",
    "m"
   ]
  },
  {
   "cell_type": "code",
   "execution_count": 22,
   "id": "1995fad6",
   "metadata": {},
   "outputs": [
    {
     "data": {
      "text/html": [
       "\n",
       "            <style>\n",
       "                .geemap-dark {\n",
       "                    --jp-widgets-color: white;\n",
       "                    --jp-widgets-label-color: white;\n",
       "                    --jp-ui-font-color1: white;\n",
       "                    --jp-layout-color2: #454545;\n",
       "                    background-color: #383838;\n",
       "                }\n",
       "\n",
       "                .geemap-dark .jupyter-button {\n",
       "                    --jp-layout-color3: #383838;\n",
       "                }\n",
       "\n",
       "                .geemap-colab {\n",
       "                    background-color: var(--colab-primary-surface-color, white);\n",
       "                }\n",
       "\n",
       "                .geemap-colab .jupyter-button {\n",
       "                    --jp-layout-color3: var(--colab-primary-surface-color, white);\n",
       "                }\n",
       "            </style>\n",
       "            "
      ],
      "text/plain": [
       "<IPython.core.display.HTML object>"
      ]
     },
     "metadata": {},
     "output_type": "display_data"
    },
    {
     "data": {
      "application/vnd.jupyter.widget-view+json": {
       "model_id": "e579e77f048740f484902da612825f80",
       "version_major": 2,
       "version_minor": 0
      },
      "text/plain": [
       "Map(center=[0, 0], controls=(ZoomControl(options=['position', 'zoom_in_text', 'zoom_in_title', 'zoom_out_text'…"
      ]
     },
     "execution_count": 22,
     "metadata": {},
     "output_type": "execute_result"
    }
   ],
   "source": [
    "m = geemap.Map(data_ctrl=False,toolbar_ctrl=False, search_ctrl=False, draw_ctrl=False, measure_ctrl=False, layer_ctrl=False, geocoder_ctrl=False,fullscreen_ctrl=False, home_ctrl=False, add_data_ctrl=False, print_ctrl=False, time_slider_ctrl=False, inspector_ctrl=False, add_marker_ctrl=False, add_polygon_ctrl=False, add_rectangle_ctrl=False, add_circle_ctrl=False, add_ee_layer_ctrl=False, add_text_ctrl=False, add_image_marker_ctrl=False, add_geojson_file_ctrl=False) # UK\n",
    "m"
   ]
  },
  {
   "cell_type": "markdown",
   "id": "268721b7",
   "metadata": {},
   "source": [
    "# Adding Basemaps"
   ]
  },
  {
   "cell_type": "code",
   "execution_count": 24,
   "id": "6f7ec995",
   "metadata": {},
   "outputs": [
    {
     "data": {
      "text/html": [
       "\n",
       "            <style>\n",
       "                .geemap-dark {\n",
       "                    --jp-widgets-color: white;\n",
       "                    --jp-widgets-label-color: white;\n",
       "                    --jp-ui-font-color1: white;\n",
       "                    --jp-layout-color2: #454545;\n",
       "                    background-color: #383838;\n",
       "                }\n",
       "\n",
       "                .geemap-dark .jupyter-button {\n",
       "                    --jp-layout-color3: #383838;\n",
       "                }\n",
       "\n",
       "                .geemap-colab {\n",
       "                    background-color: var(--colab-primary-surface-color, white);\n",
       "                }\n",
       "\n",
       "                .geemap-colab .jupyter-button {\n",
       "                    --jp-layout-color3: var(--colab-primary-surface-color, white);\n",
       "                }\n",
       "            </style>\n",
       "            "
      ],
      "text/plain": [
       "<IPython.core.display.HTML object>"
      ]
     },
     "metadata": {},
     "output_type": "display_data"
    },
    {
     "data": {
      "application/vnd.jupyter.widget-view+json": {
       "model_id": "a936ef5f54ef49c3ab0d7267791447d2",
       "version_major": 2,
       "version_minor": 0
      },
      "text/plain": [
       "Map(center=[0, 0], controls=(WidgetControl(options=['position', 'transparent_bg'], widget=SearchDataGUI(childr…"
      ]
     },
     "execution_count": 24,
     "metadata": {},
     "output_type": "execute_result"
    }
   ],
   "source": [
    "m = geemap.Map(basemap = 'Esri.WorldImagery')\n",
    "m.add_basemap('Esri.WorldTopoMap')\n",
    "m.add_basemap('OpenTopoMap')\n",
    "m"
   ]
  },
  {
   "cell_type": "code",
   "execution_count": 26,
   "id": "a3108705",
   "metadata": {},
   "outputs": [
    {
     "data": {
      "text/html": [
       "\n",
       "            <style>\n",
       "                .geemap-dark {\n",
       "                    --jp-widgets-color: white;\n",
       "                    --jp-widgets-label-color: white;\n",
       "                    --jp-ui-font-color1: white;\n",
       "                    --jp-layout-color2: #454545;\n",
       "                    background-color: #383838;\n",
       "                }\n",
       "\n",
       "                .geemap-dark .jupyter-button {\n",
       "                    --jp-layout-color3: #383838;\n",
       "                }\n",
       "\n",
       "                .geemap-colab {\n",
       "                    background-color: var(--colab-primary-surface-color, white);\n",
       "                }\n",
       "\n",
       "                .geemap-colab .jupyter-button {\n",
       "                    --jp-layout-color3: var(--colab-primary-surface-color, white);\n",
       "                }\n",
       "            </style>\n",
       "            "
      ],
      "text/plain": [
       "<IPython.core.display.HTML object>"
      ]
     },
     "metadata": {},
     "output_type": "display_data"
    },
    {
     "name": "stdout",
     "output_type": "stream",
     "text": [
      "Total basemaps Available: 150\n"
     ]
    }
   ],
   "source": [
    "# Listing Available Basemaps\n",
    "basemap = list(geemap.basemaps.keys())\n",
    "print(f'Total basemaps Available: {len(basemap)}')"
   ]
  },
  {
   "cell_type": "code",
   "execution_count": 27,
   "id": "715bff43",
   "metadata": {},
   "outputs": [
    {
     "data": {
      "text/html": [
       "\n",
       "            <style>\n",
       "                .geemap-dark {\n",
       "                    --jp-widgets-color: white;\n",
       "                    --jp-widgets-label-color: white;\n",
       "                    --jp-ui-font-color1: white;\n",
       "                    --jp-layout-color2: #454545;\n",
       "                    background-color: #383838;\n",
       "                }\n",
       "\n",
       "                .geemap-dark .jupyter-button {\n",
       "                    --jp-layout-color3: #383838;\n",
       "                }\n",
       "\n",
       "                .geemap-colab {\n",
       "                    background-color: var(--colab-primary-surface-color, white);\n",
       "                }\n",
       "\n",
       "                .geemap-colab .jupyter-button {\n",
       "                    --jp-layout-color3: var(--colab-primary-surface-color, white);\n",
       "                }\n",
       "            </style>\n",
       "            "
      ],
      "text/plain": [
       "<IPython.core.display.HTML object>"
      ]
     },
     "metadata": {},
     "output_type": "display_data"
    },
    {
     "data": {
      "text/plain": [
       "['OpenStreetMap',\n",
       " 'Esri.WorldStreetMap',\n",
       " 'Esri.WorldImagery',\n",
       " 'Esri.WorldTopoMap',\n",
       " 'FWS NWI Wetlands']"
      ]
     },
     "execution_count": 27,
     "metadata": {},
     "output_type": "execute_result"
    }
   ],
   "source": [
    "basemap[0:5] # First 5 Basemaps"
   ]
  },
  {
   "cell_type": "markdown",
   "id": "48ca8153",
   "metadata": {},
   "source": [
    "# Interactive basemap Select"
   ]
  },
  {
   "cell_type": "code",
   "execution_count": 28,
   "id": "a4a279cf",
   "metadata": {},
   "outputs": [
    {
     "data": {
      "text/html": [
       "\n",
       "            <style>\n",
       "                .geemap-dark {\n",
       "                    --jp-widgets-color: white;\n",
       "                    --jp-widgets-label-color: white;\n",
       "                    --jp-ui-font-color1: white;\n",
       "                    --jp-layout-color2: #454545;\n",
       "                    background-color: #383838;\n",
       "                }\n",
       "\n",
       "                .geemap-dark .jupyter-button {\n",
       "                    --jp-layout-color3: #383838;\n",
       "                }\n",
       "\n",
       "                .geemap-colab {\n",
       "                    background-color: var(--colab-primary-surface-color, white);\n",
       "                }\n",
       "\n",
       "                .geemap-colab .jupyter-button {\n",
       "                    --jp-layout-color3: var(--colab-primary-surface-color, white);\n",
       "                }\n",
       "            </style>\n",
       "            "
      ],
      "text/plain": [
       "<IPython.core.display.HTML object>"
      ]
     },
     "metadata": {},
     "output_type": "display_data"
    },
    {
     "data": {
      "application/vnd.jupyter.widget-view+json": {
       "model_id": "3951fac36f1541678e5b4a3b69fd939f",
       "version_major": 2,
       "version_minor": 0
      },
      "text/plain": [
       "Map(center=[0, 0], controls=(WidgetControl(options=['position', 'transparent_bg'], widget=SearchDataGUI(childr…"
      ]
     },
     "execution_count": 28,
     "metadata": {},
     "output_type": "execute_result"
    }
   ],
   "source": [
    "m = geemap.Map()\n",
    "m.add('basemap_selector')\n",
    "m"
   ]
  },
  {
   "cell_type": "markdown",
   "id": "712a0ad9",
   "metadata": {},
   "source": [
    "# Layer Manager"
   ]
  },
  {
   "cell_type": "code",
   "execution_count": null,
   "id": "e2550493",
   "metadata": {},
   "outputs": [
    {
     "data": {
      "text/html": [
       "\n",
       "            <style>\n",
       "                .geemap-dark {\n",
       "                    --jp-widgets-color: white;\n",
       "                    --jp-widgets-label-color: white;\n",
       "                    --jp-ui-font-color1: white;\n",
       "                    --jp-layout-color2: #454545;\n",
       "                    background-color: #383838;\n",
       "                }\n",
       "\n",
       "                .geemap-dark .jupyter-button {\n",
       "                    --jp-layout-color3: #383838;\n",
       "                }\n",
       "\n",
       "                .geemap-colab {\n",
       "                    background-color: var(--colab-primary-surface-color, white);\n",
       "                }\n",
       "\n",
       "                .geemap-colab .jupyter-button {\n",
       "                    --jp-layout-color3: var(--colab-primary-surface-color, white);\n",
       "                }\n",
       "            </style>\n",
       "            "
      ],
      "text/plain": [
       "<IPython.core.display.HTML object>"
      ]
     },
     "metadata": {},
     "output_type": "display_data"
    },
    {
     "data": {
      "application/vnd.jupyter.widget-view+json": {
       "model_id": "5bc36454ccf64bcdb1d4c22648dff006",
       "version_major": 2,
       "version_minor": 0
      },
      "text/plain": [
       "Map(center=[40, -100], controls=(WidgetControl(options=['position', 'transparent_bg'], widget=SearchDataGUI(ch…"
      ]
     },
     "execution_count": 27,
     "metadata": {},
     "output_type": "execute_result"
    }
   ],
   "source": [
    "m = geemap.Map( center = (40,-100), zoom = 4)\n",
    "dem = ee.Image('USGS/SRTMGL1_003') # the String is the unique ID of the image in the Earth Engine data catalog\n",
    "states = ee.FeatureCollection('TIGER/2018/States') # the string is the unique ID of the featue collection (shape file ) in the google earth engine data catalog \n",
    "\n",
    "vis_params = {\n",
    "    'min' : 0,\n",
    "    'max' : 4000,\n",
    "    'palette' : ['blue', 'green', 'yellow', 'orange', 'red']\n",
    "}\n",
    "#m.addLayer(dem, vis_params, 'SRTM DEM')\n",
    "m.add_layer(dem, vis_params, 'SRTM DEM') # m.addLayer is the same as m.add_layer\n",
    "m.addLayer(states, {}, 'States')    \n",
    "m"
   ]
  },
  {
   "cell_type": "markdown",
   "id": "2328b513",
   "metadata": {},
   "source": [
    "# Inspector Tool"
   ]
  },
  {
   "cell_type": "code",
   "execution_count": 19,
   "id": "6fb88b8a",
   "metadata": {},
   "outputs": [
    {
     "data": {
      "text/html": [
       "\n",
       "            <style>\n",
       "                .geemap-dark {\n",
       "                    --jp-widgets-color: white;\n",
       "                    --jp-widgets-label-color: white;\n",
       "                    --jp-ui-font-color1: white;\n",
       "                    --jp-layout-color2: #454545;\n",
       "                    background-color: #383838;\n",
       "                }\n",
       "\n",
       "                .geemap-dark .jupyter-button {\n",
       "                    --jp-layout-color3: #383838;\n",
       "                }\n",
       "\n",
       "                .geemap-colab {\n",
       "                    background-color: var(--colab-primary-surface-color, white);\n",
       "                }\n",
       "\n",
       "                .geemap-colab .jupyter-button {\n",
       "                    --jp-layout-color3: var(--colab-primary-surface-color, white);\n",
       "                }\n",
       "            </style>\n",
       "            "
      ],
      "text/plain": [
       "<IPython.core.display.HTML object>"
      ]
     },
     "metadata": {},
     "output_type": "display_data"
    },
    {
     "data": {
      "application/vnd.jupyter.widget-view+json": {
       "model_id": "adedc2283a9f49b4af6fbae107236ce7",
       "version_major": 2,
       "version_minor": 0
      },
      "text/plain": [
       "Map(center=[40, -100], controls=(WidgetControl(options=['position', 'transparent_bg'], widget=SearchDataGUI(ch…"
      ]
     },
     "execution_count": 19,
     "metadata": {},
     "output_type": "execute_result"
    }
   ],
   "source": [
    "m = geemap.Map(center = (40,-100), zoom = 4)\n",
    "dem = ee.Image('USGS/SRTMGL1_003') # the String is the unique ID of the image in the Earth Engine data catalog\n",
    "states = ee.FeatureCollection('TIGER/2018/States') # the string is the unique ID of the featue collection (shape file ) in the google earth engine data catalog \n",
    "lansat7 = ee.Image('LANDSAT/LE7_TOA_5YEAR/1999_2003') # the String is the unique ID of the image in the Earth Engine data catalog\n",
    "vis_params = {\n",
    "    'min': 0,\n",
    "    'max': 4000,\n",
    "    'palette': ['blue', 'green', 'yellow', 'orange', 'red']\n",
    "    }\n",
    "m.addLayer(dem,vis_params,'SRTM DEM')\n",
    "m.addLayer(states, {}, 'States')\n",
    "m.addLayer(lansat7, \n",
    "           {\n",
    "                'bands': ['B4', 'B3', 'B2'],\n",
    "                'min': 20,\n",
    "                'max': 200,\n",
    "                'gamma': 2.0\n",
    "           },   'Landsat 7')\n",
    "m.add('inspector')\n",
    "m"
   ]
  },
  {
   "cell_type": "markdown",
   "id": "8237dad4",
   "metadata": {},
   "source": [
    "# Another Example of Inspector with ESA WorldCover 10m v100 dataset"
   ]
  },
  {
   "cell_type": "code",
   "execution_count": 28,
   "id": "b7d8b717",
   "metadata": {},
   "outputs": [
    {
     "data": {
      "text/html": [
       "\n",
       "            <style>\n",
       "                .geemap-dark {\n",
       "                    --jp-widgets-color: white;\n",
       "                    --jp-widgets-label-color: white;\n",
       "                    --jp-ui-font-color1: white;\n",
       "                    --jp-layout-color2: #454545;\n",
       "                    background-color: #383838;\n",
       "                }\n",
       "\n",
       "                .geemap-dark .jupyter-button {\n",
       "                    --jp-layout-color3: #383838;\n",
       "                }\n",
       "\n",
       "                .geemap-colab {\n",
       "                    background-color: var(--colab-primary-surface-color, white);\n",
       "                }\n",
       "\n",
       "                .geemap-colab .jupyter-button {\n",
       "                    --jp-layout-color3: var(--colab-primary-surface-color, white);\n",
       "                }\n",
       "            </style>\n",
       "            "
      ],
      "text/plain": [
       "<IPython.core.display.HTML object>"
      ]
     },
     "metadata": {},
     "output_type": "display_data"
    },
    {
     "data": {
      "application/vnd.jupyter.widget-view+json": {
       "model_id": "12b8eb090e4b4f1c99e91201b7af1487",
       "version_major": 2,
       "version_minor": 0
      },
      "text/plain": [
       "Map(center=[0, 0], controls=(WidgetControl(options=['position', 'transparent_bg'], widget=SearchDataGUI(childr…"
      ]
     },
     "execution_count": 28,
     "metadata": {},
     "output_type": "execute_result"
    }
   ],
   "source": [
    "m = geemap.Map(center = (40,-100), zoom = 4)\n",
    "dataset = ee.ImageCollection('ESA/WorldCover/v100').first()\n",
    "\n",
    "visualization = {\n",
    "    'bands': ['Map'],\n",
    "}\n",
    "\n",
    "m = geemap.Map()\n",
    "m.center_object(dataset)\n",
    "m.add_layer(dataset, visualization, 'Landcover')\n",
    "m.add_legend(builtin_legend='ESA_WorldCover')\n",
    "m"
   ]
  },
  {
   "cell_type": "markdown",
   "id": "e77f4794",
   "metadata": {},
   "source": [
    "# Layer Editor"
   ]
  },
  {
   "cell_type": "code",
   "execution_count": null,
   "id": "62487179",
   "metadata": {},
   "outputs": [
    {
     "data": {
      "text/html": [
       "\n",
       "            <style>\n",
       "                .geemap-dark {\n",
       "                    --jp-widgets-color: white;\n",
       "                    --jp-widgets-label-color: white;\n",
       "                    --jp-ui-font-color1: white;\n",
       "                    --jp-layout-color2: #454545;\n",
       "                    background-color: #383838;\n",
       "                }\n",
       "\n",
       "                .geemap-dark .jupyter-button {\n",
       "                    --jp-layout-color3: #383838;\n",
       "                }\n",
       "\n",
       "                .geemap-colab {\n",
       "                    background-color: var(--colab-primary-surface-color, white);\n",
       "                }\n",
       "\n",
       "                .geemap-colab .jupyter-button {\n",
       "                    --jp-layout-color3: var(--colab-primary-surface-color, white);\n",
       "                }\n",
       "            </style>\n",
       "            "
      ],
      "text/plain": [
       "<IPython.core.display.HTML object>"
      ]
     },
     "metadata": {},
     "output_type": "display_data"
    },
    {
     "data": {
      "application/vnd.jupyter.widget-view+json": {
       "model_id": "a6dd6c4af4be472aaa508448c98397c0",
       "version_major": 2,
       "version_minor": 0
      },
      "text/plain": [
       "Map(center=[40, -100], controls=(WidgetControl(options=['position', 'transparent_bg'], widget=SearchDataGUI(ch…"
      ]
     },
     "execution_count": 31,
     "metadata": {},
     "output_type": "execute_result"
    },
    {
     "data": {
      "application/javascript": "\n        var code = IPython.notebook.insert_cell_below('code');\n        code.set_text(atob(\"ZGF0YXNldCA9IGVlLkZlYXR1cmVDb2xsZWN0aW9uKCdGQU8vR0FVTF9TSU1QTElGSUVEXzUwMG0vMjAxNS9sZXZlbDInKQoKTWFwLnNldENlbnRlcigxMi44NzYsIDQyLjY4MiwgNSkKCnN0eWxlUGFyYW1zID0gewogICAgImZpbGxDb2xvciI6ICdiNWZmYjQnLAogICAgImNvbG9yIjogJzAwOTA5RicsCiAgICAid2lkdGgiOiAxLjAsCn0KCmRhdGFzZXQgPSBkYXRhc2V0LnN0eWxlKCoqc3R5bGVQYXJhbXMpCgpNYXAuYWRkTGF5ZXIoZGF0YXNldCwge30sICdTZWNvbmQgTGV2ZWwgQWRtaW5pc3RyYXRpdmUgVW5pdHMnKQo=\"));\n    ",
      "text/plain": [
       "<IPython.core.display.Javascript object>"
      ]
     },
     "metadata": {},
     "output_type": "display_data"
    }
   ],
   "source": [
    "m = geemap.Map(center = (40,-100), zoom = 4)\n",
    "dem = ee.Image('USGS/SRTMGL1_003')\n",
    "vis_params = {\n",
    "    'min' : 0,\n",
    "    'max' : 4000,\n",
    "    'palette' : ['blue', 'green', 'yellow', 'orange', 'red']\n",
    "}\n",
    "m.addLayer(dem, vis_params, 'SRTM DEM')\n",
    "#m.add(\"layer_editor\", layer_dict=m.ee_layers[\"Landsat 7\"]) \n",
    "# Even this is not required.\n",
    "\n",
    "m\n"
   ]
  },
  {
   "cell_type": "markdown",
   "id": "da237628",
   "metadata": {},
   "source": [
    "# Adding Features Collection"
   ]
  },
  {
   "cell_type": "code",
   "execution_count": 34,
   "id": "50c12a6d",
   "metadata": {},
   "outputs": [
    {
     "data": {
      "text/html": [
       "\n",
       "            <style>\n",
       "                .geemap-dark {\n",
       "                    --jp-widgets-color: white;\n",
       "                    --jp-widgets-label-color: white;\n",
       "                    --jp-ui-font-color1: white;\n",
       "                    --jp-layout-color2: #454545;\n",
       "                    background-color: #383838;\n",
       "                }\n",
       "\n",
       "                .geemap-dark .jupyter-button {\n",
       "                    --jp-layout-color3: #383838;\n",
       "                }\n",
       "\n",
       "                .geemap-colab {\n",
       "                    background-color: var(--colab-primary-surface-color, white);\n",
       "                }\n",
       "\n",
       "                .geemap-colab .jupyter-button {\n",
       "                    --jp-layout-color3: var(--colab-primary-surface-color, white);\n",
       "                }\n",
       "            </style>\n",
       "            "
      ],
      "text/plain": [
       "<IPython.core.display.HTML object>"
      ]
     },
     "metadata": {},
     "output_type": "display_data"
    },
    {
     "data": {
      "application/vnd.jupyter.widget-view+json": {
       "model_id": "3f04ccf66b26492d9e3849540cf499da",
       "version_major": 2,
       "version_minor": 0
      },
      "text/plain": [
       "Map(center=[40, -100], controls=(WidgetControl(options=['position', 'transparent_bg'], widget=SearchDataGUI(ch…"
      ]
     },
     "execution_count": 34,
     "metadata": {},
     "output_type": "execute_result"
    }
   ],
   "source": [
    "m = geemap.Map(center = (40,-100), zoom = 4)\n",
    "states = ee.FeatureCollection('TIGER/2018/States')\n",
    "m.add_layer(states, {}, 'States')\n",
    "m.add('layer_editor', layer_dict=m.ee_layers['States'])\n",
    "m"
   ]
  },
  {
   "cell_type": "markdown",
   "id": "b4aa1875",
   "metadata": {},
   "source": [
    "# Draw Control"
   ]
  },
  {
   "cell_type": "code",
   "execution_count": 40,
   "id": "ba2d9fb2",
   "metadata": {},
   "outputs": [
    {
     "data": {
      "text/html": [
       "\n",
       "            <style>\n",
       "                .geemap-dark {\n",
       "                    --jp-widgets-color: white;\n",
       "                    --jp-widgets-label-color: white;\n",
       "                    --jp-ui-font-color1: white;\n",
       "                    --jp-layout-color2: #454545;\n",
       "                    background-color: #383838;\n",
       "                }\n",
       "\n",
       "                .geemap-dark .jupyter-button {\n",
       "                    --jp-layout-color3: #383838;\n",
       "                }\n",
       "\n",
       "                .geemap-colab {\n",
       "                    background-color: var(--colab-primary-surface-color, white);\n",
       "                }\n",
       "\n",
       "                .geemap-colab .jupyter-button {\n",
       "                    --jp-layout-color3: var(--colab-primary-surface-color, white);\n",
       "                }\n",
       "            </style>\n",
       "            "
      ],
      "text/plain": [
       "<IPython.core.display.HTML object>"
      ]
     },
     "metadata": {},
     "output_type": "display_data"
    },
    {
     "data": {
      "application/vnd.jupyter.widget-view+json": {
       "model_id": "bf3cbb8c92e440058f641976f02b1f94",
       "version_major": 2,
       "version_minor": 0
      },
      "text/plain": [
       "Map(center=[40, -100], controls=(WidgetControl(options=['position', 'transparent_bg'], widget=SearchDataGUI(ch…"
      ]
     },
     "execution_count": 40,
     "metadata": {},
     "output_type": "execute_result"
    }
   ],
   "source": [
    "m = geemap.Map(center = (40,-100), zoom = 4)\n",
    "dem = ee.Image('USGS/SRTMGL1_003')\n",
    "vis_params = {\n",
    "    'min' : 0,\n",
    "    'max' : 4000,\n",
    "    'palette' : 'terrain',\n",
    "}\n",
    "m.add_layer(dem,vis_params,'SRTM DEM')\n",
    "m.add('layer_manager')\n",
    "m"
   ]
  },
  {
   "cell_type": "markdown",
   "id": "5477d3a4",
   "metadata": {},
   "source": [
    "dem.clip(m.user_roi) # for single image clip \n",
    "For multiple use dem.clipToCollections(m.user_rois)"
   ]
  },
  {
   "cell_type": "code",
   "execution_count": null,
   "id": "d47a764a",
   "metadata": {},
   "outputs": [
    {
     "data": {
      "text/html": [
       "\n",
       "            <style>\n",
       "                .geemap-dark {\n",
       "                    --jp-widgets-color: white;\n",
       "                    --jp-widgets-label-color: white;\n",
       "                    --jp-ui-font-color1: white;\n",
       "                    --jp-layout-color2: #454545;\n",
       "                    background-color: #383838;\n",
       "                }\n",
       "\n",
       "                .geemap-dark .jupyter-button {\n",
       "                    --jp-layout-color3: #383838;\n",
       "                }\n",
       "\n",
       "                .geemap-colab {\n",
       "                    background-color: var(--colab-primary-surface-color, white);\n",
       "                }\n",
       "\n",
       "                .geemap-colab .jupyter-button {\n",
       "                    --jp-layout-color3: var(--colab-primary-surface-color, white);\n",
       "                }\n",
       "            </style>\n",
       "            "
      ],
      "text/plain": [
       "<IPython.core.display.HTML object>"
      ]
     },
     "metadata": {},
     "output_type": "display_data"
    }
   ],
   "source": [
    "if m.user_roi is not None:\n",
    "    image = dem.clipToCollection(m.user_rois) \n",
    "    m.layers[1].visible = False  # Hide the original layer\n",
    "    m.add_layer(image, vis_params, 'Clipped SRTM DEM')"
   ]
  },
  {
   "cell_type": "markdown",
   "id": "d2a8758f",
   "metadata": {},
   "source": [
    "# Earth Engine Data Types"
   ]
  },
  {
   "cell_type": "code",
   "execution_count": 49,
   "id": "2ec2ff6e",
   "metadata": {},
   "outputs": [
    {
     "data": {
      "text/html": [
       "\n",
       "            <style>\n",
       "                .geemap-dark {\n",
       "                    --jp-widgets-color: white;\n",
       "                    --jp-widgets-label-color: white;\n",
       "                    --jp-ui-font-color1: white;\n",
       "                    --jp-layout-color2: #454545;\n",
       "                    background-color: #383838;\n",
       "                }\n",
       "\n",
       "                .geemap-dark .jupyter-button {\n",
       "                    --jp-layout-color3: #383838;\n",
       "                }\n",
       "\n",
       "                .geemap-colab {\n",
       "                    background-color: var(--colab-primary-surface-color, white);\n",
       "                }\n",
       "\n",
       "                .geemap-colab .jupyter-button {\n",
       "                    --jp-layout-color3: var(--colab-primary-surface-color, white);\n",
       "                }\n",
       "            </style>\n",
       "            "
      ],
      "text/plain": [
       "<IPython.core.display.HTML object>"
      ]
     },
     "metadata": {},
     "output_type": "display_data"
    },
    {
     "data": {
      "application/vnd.jupyter.widget-view+json": {
       "model_id": "bf3cbb8c92e440058f641976f02b1f94",
       "version_major": 2,
       "version_minor": 0
      },
      "text/plain": [
       "Map(bottom=6506.0, center=[39.94343646197423, -108.78662109375001], controls=(WidgetControl(options=['position…"
      ]
     },
     "execution_count": 49,
     "metadata": {},
     "output_type": "execute_result"
    }
   ],
   "source": [
    "image  = ee.Image('LANDSAT/LE7_TOA_5YEAR/1999_2003')\n",
    "image_vis = {\n",
    "    'bands': ['B4', 'B3', 'B2'],\n",
    "    'min': 20,\n",
    "    'max': 200,\n",
    "    'gamma': 2.0\n",
    "}\n",
    "m.remove_layer('Clipped SRTM DEM') # Remove the clipped layer\n",
    "m.add_layer(image, image_vis, 'Landsat 7')\n",
    "m"
   ]
  },
  {
   "cell_type": "code",
   "execution_count": 58,
   "id": "eda9b0a1",
   "metadata": {},
   "outputs": [
    {
     "data": {
      "text/html": [
       "\n",
       "            <style>\n",
       "                .geemap-dark {\n",
       "                    --jp-widgets-color: white;\n",
       "                    --jp-widgets-label-color: white;\n",
       "                    --jp-ui-font-color1: white;\n",
       "                    --jp-layout-color2: #454545;\n",
       "                    background-color: #383838;\n",
       "                }\n",
       "\n",
       "                .geemap-dark .jupyter-button {\n",
       "                    --jp-layout-color3: #383838;\n",
       "                }\n",
       "\n",
       "                .geemap-colab {\n",
       "                    background-color: var(--colab-primary-surface-color, white);\n",
       "                }\n",
       "\n",
       "                .geemap-colab .jupyter-button {\n",
       "                    --jp-layout-color3: var(--colab-primary-surface-color, white);\n",
       "                }\n",
       "            </style>\n",
       "            "
      ],
      "text/plain": [
       "<IPython.core.display.HTML object>"
      ]
     },
     "metadata": {},
     "output_type": "display_data"
    }
   ],
   "source": [
    "collection = ee.ImageCollection('COPERNICUS/S2_SR_HARMONIZED')\n"
   ]
  },
  {
   "cell_type": "code",
   "execution_count": 54,
   "id": "16f433a1",
   "metadata": {},
   "outputs": [
    {
     "data": {
      "text/html": [
       "\n",
       "            <style>\n",
       "                .geemap-dark {\n",
       "                    --jp-widgets-color: white;\n",
       "                    --jp-widgets-label-color: white;\n",
       "                    --jp-ui-font-color1: white;\n",
       "                    --jp-layout-color2: #454545;\n",
       "                    background-color: #383838;\n",
       "                }\n",
       "\n",
       "                .geemap-dark .jupyter-button {\n",
       "                    --jp-layout-color3: #383838;\n",
       "                }\n",
       "\n",
       "                .geemap-colab {\n",
       "                    background-color: var(--colab-primary-surface-color, white);\n",
       "                }\n",
       "\n",
       "                .geemap-colab .jupyter-button {\n",
       "                    --jp-layout-color3: var(--colab-primary-surface-color, white);\n",
       "                }\n",
       "            </style>\n",
       "            "
      ],
      "text/plain": [
       "<IPython.core.display.HTML object>"
      ]
     },
     "metadata": {},
     "output_type": "display_data"
    },
    {
     "data": {
      "text/html": [
       "<pre>&lt;ee.ee_number.Number object at 0x00000185ED381D20&gt;</pre>"
      ],
      "text/plain": [
       "<ee.ee_number.Number at 0x185ed381d20>"
      ]
     },
     "execution_count": 54,
     "metadata": {},
     "output_type": "execute_result"
    }
   ],
   "source": [
    "collection.size() # Get the number of images in the collection"
   ]
  },
  {
   "cell_type": "code",
   "execution_count": 59,
   "id": "dd00aaca",
   "metadata": {},
   "outputs": [
    {
     "data": {
      "text/html": [
       "\n",
       "            <style>\n",
       "                .geemap-dark {\n",
       "                    --jp-widgets-color: white;\n",
       "                    --jp-widgets-label-color: white;\n",
       "                    --jp-ui-font-color1: white;\n",
       "                    --jp-layout-color2: #454545;\n",
       "                    background-color: #383838;\n",
       "                }\n",
       "\n",
       "                .geemap-dark .jupyter-button {\n",
       "                    --jp-layout-color3: #383838;\n",
       "                }\n",
       "\n",
       "                .geemap-colab {\n",
       "                    background-color: var(--colab-primary-surface-color, white);\n",
       "                }\n",
       "\n",
       "                .geemap-colab .jupyter-button {\n",
       "                    --jp-layout-color3: var(--colab-primary-surface-color, white);\n",
       "                }\n",
       "            </style>\n",
       "            "
      ],
      "text/plain": [
       "<IPython.core.display.HTML object>"
      ]
     },
     "metadata": {},
     "output_type": "display_data"
    }
   ],
   "source": [
    "geometry= ee.Geometry.Point(-122.262, 37.8719) # Berkeley, California\n",
    "images = collection.filterBounds(geometry)\n"
   ]
  },
  {
   "cell_type": "code",
   "execution_count": 62,
   "id": "c3a6e962",
   "metadata": {},
   "outputs": [
    {
     "data": {
      "text/html": [
       "\n",
       "            <style>\n",
       "                .geemap-dark {\n",
       "                    --jp-widgets-color: white;\n",
       "                    --jp-widgets-label-color: white;\n",
       "                    --jp-ui-font-color1: white;\n",
       "                    --jp-layout-color2: #454545;\n",
       "                    background-color: #383838;\n",
       "                }\n",
       "\n",
       "                .geemap-dark .jupyter-button {\n",
       "                    --jp-layout-color3: #383838;\n",
       "                }\n",
       "\n",
       "                .geemap-colab {\n",
       "                    background-color: var(--colab-primary-surface-color, white);\n",
       "                }\n",
       "\n",
       "                .geemap-colab .jupyter-button {\n",
       "                    --jp-layout-color3: var(--colab-primary-surface-color, white);\n",
       "                }\n",
       "            </style>\n",
       "            "
      ],
      "text/plain": [
       "<IPython.core.display.HTML object>"
      ]
     },
     "metadata": {},
     "output_type": "display_data"
    },
    {
     "data": {
      "text/html": [
       "<div><style>:root {\n",
       "  --font-color-primary: var(--jp-content-font-color0, rgba(0, 0, 0, 1));\n",
       "  --font-color-secondary: var(--jp-content-font-color2, rgba(0, 0, 0, 0.7));\n",
       "  --font-color-accent: rgba(123, 31, 162, 1);\n",
       "  --border-color: var(--jp-border-color2, #e0e0e0);\n",
       "  --background-color: var(--jp-layout-color0, white);\n",
       "  --background-color-row-even: var(--jp-layout-color1, white);\n",
       "  --background-color-row-odd: var(--jp-layout-color2, #eeeeee);\n",
       "}\n",
       "\n",
       "html[theme=\"dark\"],\n",
       "body[data-theme=\"dark\"],\n",
       "body.vscode-dark {\n",
       "  --font-color-primary: rgba(255, 255, 255, 1);\n",
       "  --font-color-secondary: rgba(255, 255, 255, 0.7);\n",
       "  --font-color-accent: rgb(173, 132, 190);\n",
       "  --border-color: #2e2e2e;\n",
       "  --background-color: #111111;\n",
       "  --background-color-row-even: #111111;\n",
       "  --background-color-row-odd: #313131;\n",
       "}\n",
       "\n",
       ".eerepr {\n",
       "  padding: 1em;\n",
       "  line-height: 1.5em;\n",
       "  min-width: 300px;\n",
       "  max-width: 1200px;\n",
       "  overflow-y: scroll;\n",
       "  max-height: 600px;\n",
       "  border: 1px solid var(--border-color);\n",
       "  font-family: monospace;\n",
       "  font-size: 14px;\n",
       "}\n",
       "\n",
       ".eerepr li {\n",
       "  list-style-type: none;\n",
       "  margin: 0;\n",
       "}\n",
       "\n",
       ".eerepr ul {\n",
       "  padding-left: 1.5em !important;\n",
       "  margin: 0;\n",
       "}\n",
       "\n",
       ".eerepr > ul {\n",
       "  padding-left: 0 !important;\n",
       "}\n",
       "\n",
       ".eerepr summary {\n",
       "  color: var(--font-color-secondary);\n",
       "  cursor: pointer;\n",
       "  margin: 0;\n",
       "}\n",
       "\n",
       ".eerepr summary:hover {\n",
       "  color: var(--font-color-primary);\n",
       "  background-color: var(--background-color-row-odd)\n",
       "}\n",
       "\n",
       ".ee-k {\n",
       "  color: var(--font-color-accent);\n",
       "  margin-right: 6px;\n",
       "}\n",
       "\n",
       ".ee-v {\n",
       "  color: var(--font-color-primary);\n",
       "}\n",
       "\n",
       ".eerepr details > summary::before {\n",
       "  content: '▼';\n",
       "  display: inline-block;\n",
       "  margin-right: 6px;\n",
       "  transition: transform 0.2s;\n",
       "  transform: rotate(-90deg);\n",
       "}\n",
       "\n",
       ".eerepr details[open] > summary::before {\n",
       "  transform: rotate(0deg);\n",
       "}\n",
       "\n",
       ".eerepr details summary::-webkit-details-marker {\n",
       "  display:none;\n",
       "}\n",
       "\n",
       ".eerepr details summary {\n",
       "  list-style-type: none;\n",
       "}\n",
       "</style><div class='eerepr'><ul><li><details><summary>Image COPERNICUS/S2_SR_HARMONIZED/20181216T185759_20181216T185801_T10SEG (26 bands)</summary><ul><li><span class='ee-k'>type:</span><span class='ee-v'>Image</span></li><li><span class='ee-k'>id:</span><span class='ee-v'>COPERNICUS/S2_SR_HARMONIZED/20181216T185759_20181216T185801_T10SEG</span></li><li><span class='ee-k'>version:</span><span class='ee-v'>1744981448259209</span></li><li><details><summary>bands: List (26 elements)</summary><ul><li><details><summary>0: \"B1\", unsigned int16, EPSG:32610, 1830x1830 px</summary><ul><li><span class='ee-k'>id:</span><span class='ee-v'>B1</span></li><li><span class='ee-k'>crs:</span><span class='ee-v'>EPSG:32610</span></li><li><details><summary>crs_transform: [60, 0, 499980, 0, -60, 4200000]</summary><ul><li><span class='ee-k'>0:</span><span class='ee-v'>60</span></li><li><span class='ee-k'>1:</span><span class='ee-v'>0</span></li><li><span class='ee-k'>2:</span><span class='ee-v'>499980</span></li><li><span class='ee-k'>3:</span><span class='ee-v'>0</span></li><li><span class='ee-k'>4:</span><span class='ee-v'>-60</span></li><li><span class='ee-k'>5:</span><span class='ee-v'>4200000</span></li></ul></details></li><li><details><summary>data_type: unsigned int16</summary><ul><li><span class='ee-k'>type:</span><span class='ee-v'>PixelType</span></li><li><span class='ee-k'>max:</span><span class='ee-v'>65535</span></li><li><span class='ee-k'>min:</span><span class='ee-v'>0</span></li><li><span class='ee-k'>precision:</span><span class='ee-v'>int</span></li></ul></details></li><li><details><summary>dimensions: [1830, 1830]</summary><ul><li><span class='ee-k'>0:</span><span class='ee-v'>1830</span></li><li><span class='ee-k'>1:</span><span class='ee-v'>1830</span></li></ul></details></li></ul></details></li><li><details><summary>1: \"B2\", unsigned int16, EPSG:32610, 10980x10980 px</summary><ul><li><span class='ee-k'>id:</span><span class='ee-v'>B2</span></li><li><span class='ee-k'>crs:</span><span class='ee-v'>EPSG:32610</span></li><li><details><summary>crs_transform: [10, 0, 499980, 0, -10, 4200000]</summary><ul><li><span class='ee-k'>0:</span><span class='ee-v'>10</span></li><li><span class='ee-k'>1:</span><span class='ee-v'>0</span></li><li><span class='ee-k'>2:</span><span class='ee-v'>499980</span></li><li><span class='ee-k'>3:</span><span class='ee-v'>0</span></li><li><span class='ee-k'>4:</span><span class='ee-v'>-10</span></li><li><span class='ee-k'>5:</span><span class='ee-v'>4200000</span></li></ul></details></li><li><details><summary>data_type: unsigned int16</summary><ul><li><span class='ee-k'>type:</span><span class='ee-v'>PixelType</span></li><li><span class='ee-k'>max:</span><span class='ee-v'>65535</span></li><li><span class='ee-k'>min:</span><span class='ee-v'>0</span></li><li><span class='ee-k'>precision:</span><span class='ee-v'>int</span></li></ul></details></li><li><details><summary>dimensions: [10980, 10980]</summary><ul><li><span class='ee-k'>0:</span><span class='ee-v'>10980</span></li><li><span class='ee-k'>1:</span><span class='ee-v'>10980</span></li></ul></details></li></ul></details></li><li><details><summary>2: \"B3\", unsigned int16, EPSG:32610, 10980x10980 px</summary><ul><li><span class='ee-k'>id:</span><span class='ee-v'>B3</span></li><li><span class='ee-k'>crs:</span><span class='ee-v'>EPSG:32610</span></li><li><details><summary>crs_transform: [10, 0, 499980, 0, -10, 4200000]</summary><ul><li><span class='ee-k'>0:</span><span class='ee-v'>10</span></li><li><span class='ee-k'>1:</span><span class='ee-v'>0</span></li><li><span class='ee-k'>2:</span><span class='ee-v'>499980</span></li><li><span class='ee-k'>3:</span><span class='ee-v'>0</span></li><li><span class='ee-k'>4:</span><span class='ee-v'>-10</span></li><li><span class='ee-k'>5:</span><span class='ee-v'>4200000</span></li></ul></details></li><li><details><summary>data_type: unsigned int16</summary><ul><li><span class='ee-k'>type:</span><span class='ee-v'>PixelType</span></li><li><span class='ee-k'>max:</span><span class='ee-v'>65535</span></li><li><span class='ee-k'>min:</span><span class='ee-v'>0</span></li><li><span class='ee-k'>precision:</span><span class='ee-v'>int</span></li></ul></details></li><li><details><summary>dimensions: [10980, 10980]</summary><ul><li><span class='ee-k'>0:</span><span class='ee-v'>10980</span></li><li><span class='ee-k'>1:</span><span class='ee-v'>10980</span></li></ul></details></li></ul></details></li><li><details><summary>3: \"B4\", unsigned int16, EPSG:32610, 10980x10980 px</summary><ul><li><span class='ee-k'>id:</span><span class='ee-v'>B4</span></li><li><span class='ee-k'>crs:</span><span class='ee-v'>EPSG:32610</span></li><li><details><summary>crs_transform: [10, 0, 499980, 0, -10, 4200000]</summary><ul><li><span class='ee-k'>0:</span><span class='ee-v'>10</span></li><li><span class='ee-k'>1:</span><span class='ee-v'>0</span></li><li><span class='ee-k'>2:</span><span class='ee-v'>499980</span></li><li><span class='ee-k'>3:</span><span class='ee-v'>0</span></li><li><span class='ee-k'>4:</span><span class='ee-v'>-10</span></li><li><span class='ee-k'>5:</span><span class='ee-v'>4200000</span></li></ul></details></li><li><details><summary>data_type: unsigned int16</summary><ul><li><span class='ee-k'>type:</span><span class='ee-v'>PixelType</span></li><li><span class='ee-k'>max:</span><span class='ee-v'>65535</span></li><li><span class='ee-k'>min:</span><span class='ee-v'>0</span></li><li><span class='ee-k'>precision:</span><span class='ee-v'>int</span></li></ul></details></li><li><details><summary>dimensions: [10980, 10980]</summary><ul><li><span class='ee-k'>0:</span><span class='ee-v'>10980</span></li><li><span class='ee-k'>1:</span><span class='ee-v'>10980</span></li></ul></details></li></ul></details></li><li><details><summary>4: \"B5\", unsigned int16, EPSG:32610, 5490x5490 px</summary><ul><li><span class='ee-k'>id:</span><span class='ee-v'>B5</span></li><li><span class='ee-k'>crs:</span><span class='ee-v'>EPSG:32610</span></li><li><details><summary>crs_transform: [20, 0, 499980, 0, -20, 4200000]</summary><ul><li><span class='ee-k'>0:</span><span class='ee-v'>20</span></li><li><span class='ee-k'>1:</span><span class='ee-v'>0</span></li><li><span class='ee-k'>2:</span><span class='ee-v'>499980</span></li><li><span class='ee-k'>3:</span><span class='ee-v'>0</span></li><li><span class='ee-k'>4:</span><span class='ee-v'>-20</span></li><li><span class='ee-k'>5:</span><span class='ee-v'>4200000</span></li></ul></details></li><li><details><summary>data_type: unsigned int16</summary><ul><li><span class='ee-k'>type:</span><span class='ee-v'>PixelType</span></li><li><span class='ee-k'>max:</span><span class='ee-v'>65535</span></li><li><span class='ee-k'>min:</span><span class='ee-v'>0</span></li><li><span class='ee-k'>precision:</span><span class='ee-v'>int</span></li></ul></details></li><li><details><summary>dimensions: [5490, 5490]</summary><ul><li><span class='ee-k'>0:</span><span class='ee-v'>5490</span></li><li><span class='ee-k'>1:</span><span class='ee-v'>5490</span></li></ul></details></li></ul></details></li><li><details><summary>5: \"B6\", unsigned int16, EPSG:32610, 5490x5490 px</summary><ul><li><span class='ee-k'>id:</span><span class='ee-v'>B6</span></li><li><span class='ee-k'>crs:</span><span class='ee-v'>EPSG:32610</span></li><li><details><summary>crs_transform: [20, 0, 499980, 0, -20, 4200000]</summary><ul><li><span class='ee-k'>0:</span><span class='ee-v'>20</span></li><li><span class='ee-k'>1:</span><span class='ee-v'>0</span></li><li><span class='ee-k'>2:</span><span class='ee-v'>499980</span></li><li><span class='ee-k'>3:</span><span class='ee-v'>0</span></li><li><span class='ee-k'>4:</span><span class='ee-v'>-20</span></li><li><span class='ee-k'>5:</span><span class='ee-v'>4200000</span></li></ul></details></li><li><details><summary>data_type: unsigned int16</summary><ul><li><span class='ee-k'>type:</span><span class='ee-v'>PixelType</span></li><li><span class='ee-k'>max:</span><span class='ee-v'>65535</span></li><li><span class='ee-k'>min:</span><span class='ee-v'>0</span></li><li><span class='ee-k'>precision:</span><span class='ee-v'>int</span></li></ul></details></li><li><details><summary>dimensions: [5490, 5490]</summary><ul><li><span class='ee-k'>0:</span><span class='ee-v'>5490</span></li><li><span class='ee-k'>1:</span><span class='ee-v'>5490</span></li></ul></details></li></ul></details></li><li><details><summary>6: \"B7\", unsigned int16, EPSG:32610, 5490x5490 px</summary><ul><li><span class='ee-k'>id:</span><span class='ee-v'>B7</span></li><li><span class='ee-k'>crs:</span><span class='ee-v'>EPSG:32610</span></li><li><details><summary>crs_transform: [20, 0, 499980, 0, -20, 4200000]</summary><ul><li><span class='ee-k'>0:</span><span class='ee-v'>20</span></li><li><span class='ee-k'>1:</span><span class='ee-v'>0</span></li><li><span class='ee-k'>2:</span><span class='ee-v'>499980</span></li><li><span class='ee-k'>3:</span><span class='ee-v'>0</span></li><li><span class='ee-k'>4:</span><span class='ee-v'>-20</span></li><li><span class='ee-k'>5:</span><span class='ee-v'>4200000</span></li></ul></details></li><li><details><summary>data_type: unsigned int16</summary><ul><li><span class='ee-k'>type:</span><span class='ee-v'>PixelType</span></li><li><span class='ee-k'>max:</span><span class='ee-v'>65535</span></li><li><span class='ee-k'>min:</span><span class='ee-v'>0</span></li><li><span class='ee-k'>precision:</span><span class='ee-v'>int</span></li></ul></details></li><li><details><summary>dimensions: [5490, 5490]</summary><ul><li><span class='ee-k'>0:</span><span class='ee-v'>5490</span></li><li><span class='ee-k'>1:</span><span class='ee-v'>5490</span></li></ul></details></li></ul></details></li><li><details><summary>7: \"B8\", unsigned int16, EPSG:32610, 10980x10980 px</summary><ul><li><span class='ee-k'>id:</span><span class='ee-v'>B8</span></li><li><span class='ee-k'>crs:</span><span class='ee-v'>EPSG:32610</span></li><li><details><summary>crs_transform: [10, 0, 499980, 0, -10, 4200000]</summary><ul><li><span class='ee-k'>0:</span><span class='ee-v'>10</span></li><li><span class='ee-k'>1:</span><span class='ee-v'>0</span></li><li><span class='ee-k'>2:</span><span class='ee-v'>499980</span></li><li><span class='ee-k'>3:</span><span class='ee-v'>0</span></li><li><span class='ee-k'>4:</span><span class='ee-v'>-10</span></li><li><span class='ee-k'>5:</span><span class='ee-v'>4200000</span></li></ul></details></li><li><details><summary>data_type: unsigned int16</summary><ul><li><span class='ee-k'>type:</span><span class='ee-v'>PixelType</span></li><li><span class='ee-k'>max:</span><span class='ee-v'>65535</span></li><li><span class='ee-k'>min:</span><span class='ee-v'>0</span></li><li><span class='ee-k'>precision:</span><span class='ee-v'>int</span></li></ul></details></li><li><details><summary>dimensions: [10980, 10980]</summary><ul><li><span class='ee-k'>0:</span><span class='ee-v'>10980</span></li><li><span class='ee-k'>1:</span><span class='ee-v'>10980</span></li></ul></details></li></ul></details></li><li><details><summary>8: \"B8A\", unsigned int16, EPSG:32610, 5490x5490 px</summary><ul><li><span class='ee-k'>id:</span><span class='ee-v'>B8A</span></li><li><span class='ee-k'>crs:</span><span class='ee-v'>EPSG:32610</span></li><li><details><summary>crs_transform: [20, 0, 499980, 0, -20, 4200000]</summary><ul><li><span class='ee-k'>0:</span><span class='ee-v'>20</span></li><li><span class='ee-k'>1:</span><span class='ee-v'>0</span></li><li><span class='ee-k'>2:</span><span class='ee-v'>499980</span></li><li><span class='ee-k'>3:</span><span class='ee-v'>0</span></li><li><span class='ee-k'>4:</span><span class='ee-v'>-20</span></li><li><span class='ee-k'>5:</span><span class='ee-v'>4200000</span></li></ul></details></li><li><details><summary>data_type: unsigned int16</summary><ul><li><span class='ee-k'>type:</span><span class='ee-v'>PixelType</span></li><li><span class='ee-k'>max:</span><span class='ee-v'>65535</span></li><li><span class='ee-k'>min:</span><span class='ee-v'>0</span></li><li><span class='ee-k'>precision:</span><span class='ee-v'>int</span></li></ul></details></li><li><details><summary>dimensions: [5490, 5490]</summary><ul><li><span class='ee-k'>0:</span><span class='ee-v'>5490</span></li><li><span class='ee-k'>1:</span><span class='ee-v'>5490</span></li></ul></details></li></ul></details></li><li><details><summary>9: \"B9\", unsigned int16, EPSG:32610, 1830x1830 px</summary><ul><li><span class='ee-k'>id:</span><span class='ee-v'>B9</span></li><li><span class='ee-k'>crs:</span><span class='ee-v'>EPSG:32610</span></li><li><details><summary>crs_transform: [60, 0, 499980, 0, -60, 4200000]</summary><ul><li><span class='ee-k'>0:</span><span class='ee-v'>60</span></li><li><span class='ee-k'>1:</span><span class='ee-v'>0</span></li><li><span class='ee-k'>2:</span><span class='ee-v'>499980</span></li><li><span class='ee-k'>3:</span><span class='ee-v'>0</span></li><li><span class='ee-k'>4:</span><span class='ee-v'>-60</span></li><li><span class='ee-k'>5:</span><span class='ee-v'>4200000</span></li></ul></details></li><li><details><summary>data_type: unsigned int16</summary><ul><li><span class='ee-k'>type:</span><span class='ee-v'>PixelType</span></li><li><span class='ee-k'>max:</span><span class='ee-v'>65535</span></li><li><span class='ee-k'>min:</span><span class='ee-v'>0</span></li><li><span class='ee-k'>precision:</span><span class='ee-v'>int</span></li></ul></details></li><li><details><summary>dimensions: [1830, 1830]</summary><ul><li><span class='ee-k'>0:</span><span class='ee-v'>1830</span></li><li><span class='ee-k'>1:</span><span class='ee-v'>1830</span></li></ul></details></li></ul></details></li><li><details><summary>10: \"B11\", unsigned int16, EPSG:32610, 5490x5490 px</summary><ul><li><span class='ee-k'>id:</span><span class='ee-v'>B11</span></li><li><span class='ee-k'>crs:</span><span class='ee-v'>EPSG:32610</span></li><li><details><summary>crs_transform: [20, 0, 499980, 0, -20, 4200000]</summary><ul><li><span class='ee-k'>0:</span><span class='ee-v'>20</span></li><li><span class='ee-k'>1:</span><span class='ee-v'>0</span></li><li><span class='ee-k'>2:</span><span class='ee-v'>499980</span></li><li><span class='ee-k'>3:</span><span class='ee-v'>0</span></li><li><span class='ee-k'>4:</span><span class='ee-v'>-20</span></li><li><span class='ee-k'>5:</span><span class='ee-v'>4200000</span></li></ul></details></li><li><details><summary>data_type: unsigned int16</summary><ul><li><span class='ee-k'>type:</span><span class='ee-v'>PixelType</span></li><li><span class='ee-k'>max:</span><span class='ee-v'>65535</span></li><li><span class='ee-k'>min:</span><span class='ee-v'>0</span></li><li><span class='ee-k'>precision:</span><span class='ee-v'>int</span></li></ul></details></li><li><details><summary>dimensions: [5490, 5490]</summary><ul><li><span class='ee-k'>0:</span><span class='ee-v'>5490</span></li><li><span class='ee-k'>1:</span><span class='ee-v'>5490</span></li></ul></details></li></ul></details></li><li><details><summary>11: \"B12\", unsigned int16, EPSG:32610, 5490x5490 px</summary><ul><li><span class='ee-k'>id:</span><span class='ee-v'>B12</span></li><li><span class='ee-k'>crs:</span><span class='ee-v'>EPSG:32610</span></li><li><details><summary>crs_transform: [20, 0, 499980, 0, -20, 4200000]</summary><ul><li><span class='ee-k'>0:</span><span class='ee-v'>20</span></li><li><span class='ee-k'>1:</span><span class='ee-v'>0</span></li><li><span class='ee-k'>2:</span><span class='ee-v'>499980</span></li><li><span class='ee-k'>3:</span><span class='ee-v'>0</span></li><li><span class='ee-k'>4:</span><span class='ee-v'>-20</span></li><li><span class='ee-k'>5:</span><span class='ee-v'>4200000</span></li></ul></details></li><li><details><summary>data_type: unsigned int16</summary><ul><li><span class='ee-k'>type:</span><span class='ee-v'>PixelType</span></li><li><span class='ee-k'>max:</span><span class='ee-v'>65535</span></li><li><span class='ee-k'>min:</span><span class='ee-v'>0</span></li><li><span class='ee-k'>precision:</span><span class='ee-v'>int</span></li></ul></details></li><li><details><summary>dimensions: [5490, 5490]</summary><ul><li><span class='ee-k'>0:</span><span class='ee-v'>5490</span></li><li><span class='ee-k'>1:</span><span class='ee-v'>5490</span></li></ul></details></li></ul></details></li><li><details><summary>12: \"AOT\", unsigned int16, EPSG:32610, 10980x10980 px</summary><ul><li><span class='ee-k'>id:</span><span class='ee-v'>AOT</span></li><li><span class='ee-k'>crs:</span><span class='ee-v'>EPSG:32610</span></li><li><details><summary>crs_transform: [10, 0, 499980, 0, -10, 4200000]</summary><ul><li><span class='ee-k'>0:</span><span class='ee-v'>10</span></li><li><span class='ee-k'>1:</span><span class='ee-v'>0</span></li><li><span class='ee-k'>2:</span><span class='ee-v'>499980</span></li><li><span class='ee-k'>3:</span><span class='ee-v'>0</span></li><li><span class='ee-k'>4:</span><span class='ee-v'>-10</span></li><li><span class='ee-k'>5:</span><span class='ee-v'>4200000</span></li></ul></details></li><li><details><summary>data_type: unsigned int16</summary><ul><li><span class='ee-k'>type:</span><span class='ee-v'>PixelType</span></li><li><span class='ee-k'>max:</span><span class='ee-v'>65535</span></li><li><span class='ee-k'>min:</span><span class='ee-v'>0</span></li><li><span class='ee-k'>precision:</span><span class='ee-v'>int</span></li></ul></details></li><li><details><summary>dimensions: [10980, 10980]</summary><ul><li><span class='ee-k'>0:</span><span class='ee-v'>10980</span></li><li><span class='ee-k'>1:</span><span class='ee-v'>10980</span></li></ul></details></li></ul></details></li><li><details><summary>13: \"WVP\", unsigned int16, EPSG:32610, 10980x10980 px</summary><ul><li><span class='ee-k'>id:</span><span class='ee-v'>WVP</span></li><li><span class='ee-k'>crs:</span><span class='ee-v'>EPSG:32610</span></li><li><details><summary>crs_transform: [10, 0, 499980, 0, -10, 4200000]</summary><ul><li><span class='ee-k'>0:</span><span class='ee-v'>10</span></li><li><span class='ee-k'>1:</span><span class='ee-v'>0</span></li><li><span class='ee-k'>2:</span><span class='ee-v'>499980</span></li><li><span class='ee-k'>3:</span><span class='ee-v'>0</span></li><li><span class='ee-k'>4:</span><span class='ee-v'>-10</span></li><li><span class='ee-k'>5:</span><span class='ee-v'>4200000</span></li></ul></details></li><li><details><summary>data_type: unsigned int16</summary><ul><li><span class='ee-k'>type:</span><span class='ee-v'>PixelType</span></li><li><span class='ee-k'>max:</span><span class='ee-v'>65535</span></li><li><span class='ee-k'>min:</span><span class='ee-v'>0</span></li><li><span class='ee-k'>precision:</span><span class='ee-v'>int</span></li></ul></details></li><li><details><summary>dimensions: [10980, 10980]</summary><ul><li><span class='ee-k'>0:</span><span class='ee-v'>10980</span></li><li><span class='ee-k'>1:</span><span class='ee-v'>10980</span></li></ul></details></li></ul></details></li><li><details><summary>14: \"SCL\", unsigned int8, EPSG:32610, 5490x5490 px</summary><ul><li><span class='ee-k'>id:</span><span class='ee-v'>SCL</span></li><li><span class='ee-k'>crs:</span><span class='ee-v'>EPSG:32610</span></li><li><details><summary>crs_transform: [20, 0, 499980, 0, -20, 4200000]</summary><ul><li><span class='ee-k'>0:</span><span class='ee-v'>20</span></li><li><span class='ee-k'>1:</span><span class='ee-v'>0</span></li><li><span class='ee-k'>2:</span><span class='ee-v'>499980</span></li><li><span class='ee-k'>3:</span><span class='ee-v'>0</span></li><li><span class='ee-k'>4:</span><span class='ee-v'>-20</span></li><li><span class='ee-k'>5:</span><span class='ee-v'>4200000</span></li></ul></details></li><li><details><summary>data_type: unsigned int8</summary><ul><li><span class='ee-k'>type:</span><span class='ee-v'>PixelType</span></li><li><span class='ee-k'>max:</span><span class='ee-v'>255</span></li><li><span class='ee-k'>min:</span><span class='ee-v'>0</span></li><li><span class='ee-k'>precision:</span><span class='ee-v'>int</span></li></ul></details></li><li><details><summary>dimensions: [5490, 5490]</summary><ul><li><span class='ee-k'>0:</span><span class='ee-v'>5490</span></li><li><span class='ee-k'>1:</span><span class='ee-v'>5490</span></li></ul></details></li></ul></details></li><li><details><summary>15: \"TCI_R\", unsigned int8, EPSG:32610, 10980x10980 px</summary><ul><li><span class='ee-k'>id:</span><span class='ee-v'>TCI_R</span></li><li><span class='ee-k'>crs:</span><span class='ee-v'>EPSG:32610</span></li><li><details><summary>crs_transform: [10, 0, 499980, 0, -10, 4200000]</summary><ul><li><span class='ee-k'>0:</span><span class='ee-v'>10</span></li><li><span class='ee-k'>1:</span><span class='ee-v'>0</span></li><li><span class='ee-k'>2:</span><span class='ee-v'>499980</span></li><li><span class='ee-k'>3:</span><span class='ee-v'>0</span></li><li><span class='ee-k'>4:</span><span class='ee-v'>-10</span></li><li><span class='ee-k'>5:</span><span class='ee-v'>4200000</span></li></ul></details></li><li><details><summary>data_type: unsigned int8</summary><ul><li><span class='ee-k'>type:</span><span class='ee-v'>PixelType</span></li><li><span class='ee-k'>max:</span><span class='ee-v'>255</span></li><li><span class='ee-k'>min:</span><span class='ee-v'>0</span></li><li><span class='ee-k'>precision:</span><span class='ee-v'>int</span></li></ul></details></li><li><details><summary>dimensions: [10980, 10980]</summary><ul><li><span class='ee-k'>0:</span><span class='ee-v'>10980</span></li><li><span class='ee-k'>1:</span><span class='ee-v'>10980</span></li></ul></details></li></ul></details></li><li><details><summary>16: \"TCI_G\", unsigned int8, EPSG:32610, 10980x10980 px</summary><ul><li><span class='ee-k'>id:</span><span class='ee-v'>TCI_G</span></li><li><span class='ee-k'>crs:</span><span class='ee-v'>EPSG:32610</span></li><li><details><summary>crs_transform: [10, 0, 499980, 0, -10, 4200000]</summary><ul><li><span class='ee-k'>0:</span><span class='ee-v'>10</span></li><li><span class='ee-k'>1:</span><span class='ee-v'>0</span></li><li><span class='ee-k'>2:</span><span class='ee-v'>499980</span></li><li><span class='ee-k'>3:</span><span class='ee-v'>0</span></li><li><span class='ee-k'>4:</span><span class='ee-v'>-10</span></li><li><span class='ee-k'>5:</span><span class='ee-v'>4200000</span></li></ul></details></li><li><details><summary>data_type: unsigned int8</summary><ul><li><span class='ee-k'>type:</span><span class='ee-v'>PixelType</span></li><li><span class='ee-k'>max:</span><span class='ee-v'>255</span></li><li><span class='ee-k'>min:</span><span class='ee-v'>0</span></li><li><span class='ee-k'>precision:</span><span class='ee-v'>int</span></li></ul></details></li><li><details><summary>dimensions: [10980, 10980]</summary><ul><li><span class='ee-k'>0:</span><span class='ee-v'>10980</span></li><li><span class='ee-k'>1:</span><span class='ee-v'>10980</span></li></ul></details></li></ul></details></li><li><details><summary>17: \"TCI_B\", unsigned int8, EPSG:32610, 10980x10980 px</summary><ul><li><span class='ee-k'>id:</span><span class='ee-v'>TCI_B</span></li><li><span class='ee-k'>crs:</span><span class='ee-v'>EPSG:32610</span></li><li><details><summary>crs_transform: [10, 0, 499980, 0, -10, 4200000]</summary><ul><li><span class='ee-k'>0:</span><span class='ee-v'>10</span></li><li><span class='ee-k'>1:</span><span class='ee-v'>0</span></li><li><span class='ee-k'>2:</span><span class='ee-v'>499980</span></li><li><span class='ee-k'>3:</span><span class='ee-v'>0</span></li><li><span class='ee-k'>4:</span><span class='ee-v'>-10</span></li><li><span class='ee-k'>5:</span><span class='ee-v'>4200000</span></li></ul></details></li><li><details><summary>data_type: unsigned int8</summary><ul><li><span class='ee-k'>type:</span><span class='ee-v'>PixelType</span></li><li><span class='ee-k'>max:</span><span class='ee-v'>255</span></li><li><span class='ee-k'>min:</span><span class='ee-v'>0</span></li><li><span class='ee-k'>precision:</span><span class='ee-v'>int</span></li></ul></details></li><li><details><summary>dimensions: [10980, 10980]</summary><ul><li><span class='ee-k'>0:</span><span class='ee-v'>10980</span></li><li><span class='ee-k'>1:</span><span class='ee-v'>10980</span></li></ul></details></li></ul></details></li><li><details><summary>18: \"MSK_CLDPRB\", unsigned int8, EPSG:32610, 5490x5490 px</summary><ul><li><span class='ee-k'>id:</span><span class='ee-v'>MSK_CLDPRB</span></li><li><span class='ee-k'>crs:</span><span class='ee-v'>EPSG:32610</span></li><li><details><summary>crs_transform: [20, 0, 499980, 0, -20, 4200000]</summary><ul><li><span class='ee-k'>0:</span><span class='ee-v'>20</span></li><li><span class='ee-k'>1:</span><span class='ee-v'>0</span></li><li><span class='ee-k'>2:</span><span class='ee-v'>499980</span></li><li><span class='ee-k'>3:</span><span class='ee-v'>0</span></li><li><span class='ee-k'>4:</span><span class='ee-v'>-20</span></li><li><span class='ee-k'>5:</span><span class='ee-v'>4200000</span></li></ul></details></li><li><details><summary>data_type: unsigned int8</summary><ul><li><span class='ee-k'>type:</span><span class='ee-v'>PixelType</span></li><li><span class='ee-k'>max:</span><span class='ee-v'>255</span></li><li><span class='ee-k'>min:</span><span class='ee-v'>0</span></li><li><span class='ee-k'>precision:</span><span class='ee-v'>int</span></li></ul></details></li><li><details><summary>dimensions: [5490, 5490]</summary><ul><li><span class='ee-k'>0:</span><span class='ee-v'>5490</span></li><li><span class='ee-k'>1:</span><span class='ee-v'>5490</span></li></ul></details></li></ul></details></li><li><details><summary>19: \"MSK_SNWPRB\", unsigned int8, EPSG:32610, 5490x5490 px</summary><ul><li><span class='ee-k'>id:</span><span class='ee-v'>MSK_SNWPRB</span></li><li><span class='ee-k'>crs:</span><span class='ee-v'>EPSG:32610</span></li><li><details><summary>crs_transform: [20, 0, 499980, 0, -20, 4200000]</summary><ul><li><span class='ee-k'>0:</span><span class='ee-v'>20</span></li><li><span class='ee-k'>1:</span><span class='ee-v'>0</span></li><li><span class='ee-k'>2:</span><span class='ee-v'>499980</span></li><li><span class='ee-k'>3:</span><span class='ee-v'>0</span></li><li><span class='ee-k'>4:</span><span class='ee-v'>-20</span></li><li><span class='ee-k'>5:</span><span class='ee-v'>4200000</span></li></ul></details></li><li><details><summary>data_type: unsigned int8</summary><ul><li><span class='ee-k'>type:</span><span class='ee-v'>PixelType</span></li><li><span class='ee-k'>max:</span><span class='ee-v'>255</span></li><li><span class='ee-k'>min:</span><span class='ee-v'>0</span></li><li><span class='ee-k'>precision:</span><span class='ee-v'>int</span></li></ul></details></li><li><details><summary>dimensions: [5490, 5490]</summary><ul><li><span class='ee-k'>0:</span><span class='ee-v'>5490</span></li><li><span class='ee-k'>1:</span><span class='ee-v'>5490</span></li></ul></details></li></ul></details></li><li><details><summary>20: \"QA10\", unsigned int16, EPSG:32610, 10980x10980 px</summary><ul><li><span class='ee-k'>id:</span><span class='ee-v'>QA10</span></li><li><span class='ee-k'>crs:</span><span class='ee-v'>EPSG:32610</span></li><li><details><summary>crs_transform: [10, 0, 499980, 0, -10, 4200000]</summary><ul><li><span class='ee-k'>0:</span><span class='ee-v'>10</span></li><li><span class='ee-k'>1:</span><span class='ee-v'>0</span></li><li><span class='ee-k'>2:</span><span class='ee-v'>499980</span></li><li><span class='ee-k'>3:</span><span class='ee-v'>0</span></li><li><span class='ee-k'>4:</span><span class='ee-v'>-10</span></li><li><span class='ee-k'>5:</span><span class='ee-v'>4200000</span></li></ul></details></li><li><details><summary>data_type: unsigned int16</summary><ul><li><span class='ee-k'>type:</span><span class='ee-v'>PixelType</span></li><li><span class='ee-k'>max:</span><span class='ee-v'>65535</span></li><li><span class='ee-k'>min:</span><span class='ee-v'>0</span></li><li><span class='ee-k'>precision:</span><span class='ee-v'>int</span></li></ul></details></li><li><details><summary>dimensions: [10980, 10980]</summary><ul><li><span class='ee-k'>0:</span><span class='ee-v'>10980</span></li><li><span class='ee-k'>1:</span><span class='ee-v'>10980</span></li></ul></details></li></ul></details></li><li><details><summary>21: \"QA20\", unsigned int32, EPSG:32610, 5490x5490 px</summary><ul><li><span class='ee-k'>id:</span><span class='ee-v'>QA20</span></li><li><span class='ee-k'>crs:</span><span class='ee-v'>EPSG:32610</span></li><li><details><summary>crs_transform: [20, 0, 499980, 0, -20, 4200000]</summary><ul><li><span class='ee-k'>0:</span><span class='ee-v'>20</span></li><li><span class='ee-k'>1:</span><span class='ee-v'>0</span></li><li><span class='ee-k'>2:</span><span class='ee-v'>499980</span></li><li><span class='ee-k'>3:</span><span class='ee-v'>0</span></li><li><span class='ee-k'>4:</span><span class='ee-v'>-20</span></li><li><span class='ee-k'>5:</span><span class='ee-v'>4200000</span></li></ul></details></li><li><details><summary>data_type: unsigned int32</summary><ul><li><span class='ee-k'>type:</span><span class='ee-v'>PixelType</span></li><li><span class='ee-k'>max:</span><span class='ee-v'>4294967295</span></li><li><span class='ee-k'>min:</span><span class='ee-v'>0</span></li><li><span class='ee-k'>precision:</span><span class='ee-v'>int</span></li></ul></details></li><li><details><summary>dimensions: [5490, 5490]</summary><ul><li><span class='ee-k'>0:</span><span class='ee-v'>5490</span></li><li><span class='ee-k'>1:</span><span class='ee-v'>5490</span></li></ul></details></li></ul></details></li><li><details><summary>22: \"QA60\", unsigned int16, EPSG:32610, 1830x1830 px</summary><ul><li><span class='ee-k'>id:</span><span class='ee-v'>QA60</span></li><li><span class='ee-k'>crs:</span><span class='ee-v'>EPSG:32610</span></li><li><details><summary>crs_transform: [60, 0, 499980, 0, -60, 4200000]</summary><ul><li><span class='ee-k'>0:</span><span class='ee-v'>60</span></li><li><span class='ee-k'>1:</span><span class='ee-v'>0</span></li><li><span class='ee-k'>2:</span><span class='ee-v'>499980</span></li><li><span class='ee-k'>3:</span><span class='ee-v'>0</span></li><li><span class='ee-k'>4:</span><span class='ee-v'>-60</span></li><li><span class='ee-k'>5:</span><span class='ee-v'>4200000</span></li></ul></details></li><li><details><summary>data_type: unsigned int16</summary><ul><li><span class='ee-k'>type:</span><span class='ee-v'>PixelType</span></li><li><span class='ee-k'>max:</span><span class='ee-v'>65535</span></li><li><span class='ee-k'>min:</span><span class='ee-v'>0</span></li><li><span class='ee-k'>precision:</span><span class='ee-v'>int</span></li></ul></details></li><li><details><summary>dimensions: [1830, 1830]</summary><ul><li><span class='ee-k'>0:</span><span class='ee-v'>1830</span></li><li><span class='ee-k'>1:</span><span class='ee-v'>1830</span></li></ul></details></li></ul></details></li><li><details><summary>23: \"MSK_CLASSI_OPAQUE\", unsigned int8, EPSG:4326</summary><ul><li><span class='ee-k'>id:</span><span class='ee-v'>MSK_CLASSI_OPAQUE</span></li><li><span class='ee-k'>crs:</span><span class='ee-v'>EPSG:4326</span></li><li><details><summary>crs_transform: [1, 0, 0, 0, 1, 0]</summary><ul><li><span class='ee-k'>0:</span><span class='ee-v'>1</span></li><li><span class='ee-k'>1:</span><span class='ee-v'>0</span></li><li><span class='ee-k'>2:</span><span class='ee-v'>0</span></li><li><span class='ee-k'>3:</span><span class='ee-v'>0</span></li><li><span class='ee-k'>4:</span><span class='ee-v'>1</span></li><li><span class='ee-k'>5:</span><span class='ee-v'>0</span></li></ul></details></li><li><details><summary>data_type: unsigned int8</summary><ul><li><span class='ee-k'>type:</span><span class='ee-v'>PixelType</span></li><li><span class='ee-k'>max:</span><span class='ee-v'>255</span></li><li><span class='ee-k'>min:</span><span class='ee-v'>0</span></li><li><span class='ee-k'>precision:</span><span class='ee-v'>int</span></li></ul></details></li></ul></details></li><li><details><summary>24: \"MSK_CLASSI_CIRRUS\", unsigned int8, EPSG:4326</summary><ul><li><span class='ee-k'>id:</span><span class='ee-v'>MSK_CLASSI_CIRRUS</span></li><li><span class='ee-k'>crs:</span><span class='ee-v'>EPSG:4326</span></li><li><details><summary>crs_transform: [1, 0, 0, 0, 1, 0]</summary><ul><li><span class='ee-k'>0:</span><span class='ee-v'>1</span></li><li><span class='ee-k'>1:</span><span class='ee-v'>0</span></li><li><span class='ee-k'>2:</span><span class='ee-v'>0</span></li><li><span class='ee-k'>3:</span><span class='ee-v'>0</span></li><li><span class='ee-k'>4:</span><span class='ee-v'>1</span></li><li><span class='ee-k'>5:</span><span class='ee-v'>0</span></li></ul></details></li><li><details><summary>data_type: unsigned int8</summary><ul><li><span class='ee-k'>type:</span><span class='ee-v'>PixelType</span></li><li><span class='ee-k'>max:</span><span class='ee-v'>255</span></li><li><span class='ee-k'>min:</span><span class='ee-v'>0</span></li><li><span class='ee-k'>precision:</span><span class='ee-v'>int</span></li></ul></details></li></ul></details></li><li><details><summary>25: \"MSK_CLASSI_SNOW_ICE\", unsigned int8, EPSG:4326</summary><ul><li><span class='ee-k'>id:</span><span class='ee-v'>MSK_CLASSI_SNOW_ICE</span></li><li><span class='ee-k'>crs:</span><span class='ee-v'>EPSG:4326</span></li><li><details><summary>crs_transform: [1, 0, 0, 0, 1, 0]</summary><ul><li><span class='ee-k'>0:</span><span class='ee-v'>1</span></li><li><span class='ee-k'>1:</span><span class='ee-v'>0</span></li><li><span class='ee-k'>2:</span><span class='ee-v'>0</span></li><li><span class='ee-k'>3:</span><span class='ee-v'>0</span></li><li><span class='ee-k'>4:</span><span class='ee-v'>1</span></li><li><span class='ee-k'>5:</span><span class='ee-v'>0</span></li></ul></details></li><li><details><summary>data_type: unsigned int8</summary><ul><li><span class='ee-k'>type:</span><span class='ee-v'>PixelType</span></li><li><span class='ee-k'>max:</span><span class='ee-v'>255</span></li><li><span class='ee-k'>min:</span><span class='ee-v'>0</span></li><li><span class='ee-k'>precision:</span><span class='ee-v'>int</span></li></ul></details></li></ul></details></li></ul></details></li><li><details><summary>properties: Object (81 properties)</summary><ul><li><span class='ee-k'>AOT_RETRIEVAL_ACCURACY:</span><span class='ee-v'>0</span></li><li><span class='ee-k'>CLOUDY_PIXEL_PERCENTAGE:</span><span class='ee-v'>97.640312</span></li><li><span class='ee-k'>CLOUD_COVERAGE_ASSESSMENT:</span><span class='ee-v'>97.640312</span></li><li><span class='ee-k'>CLOUD_SHADOW_PERCENTAGE:</span><span class='ee-v'>0</span></li><li><span class='ee-k'>DARK_FEATURES_PERCENTAGE:</span><span class='ee-v'>1.08995</span></li><li><span class='ee-k'>DATASTRIP_ID:</span><span class='ee-v'>S2B_OPER_MSI_L2A_DS_SGS__20181216T211707_S20181216T185801_N02.11</span></li><li><span class='ee-k'>DATATAKE_IDENTIFIER:</span><span class='ee-v'>GS2B_20181216T185759_009291_N02.11</span></li><li><span class='ee-k'>DATATAKE_TYPE:</span><span class='ee-v'>INS-NOBS</span></li><li><span class='ee-k'>DEGRADED_MSI_DATA_PERCENTAGE:</span><span class='ee-v'>0</span></li><li><span class='ee-k'>FORMAT_CORRECTNESS:</span><span class='ee-v'>PASSED</span></li><li><span class='ee-k'>GENERAL_QUALITY:</span><span class='ee-v'>PASSED</span></li><li><span class='ee-k'>GENERATION_TIME:</span><span class='ee-v'>1544995027000</span></li><li><span class='ee-k'>GEOMETRIC_QUALITY:</span><span class='ee-v'>PASSED</span></li><li><span class='ee-k'>GRANULE_ID:</span><span class='ee-v'>L2A_T10SEG_A009291_20181216T185801</span></li><li><span class='ee-k'>HIGH_PROBA_CLOUDS_PERCENTAGE:</span><span class='ee-v'>81.243807</span></li><li><span class='ee-k'>MEAN_INCIDENCE_AZIMUTH_ANGLE_B1:</span><span class='ee-v'>113.890134195</span></li><li><span class='ee-k'>MEAN_INCIDENCE_AZIMUTH_ANGLE_B10:</span><span class='ee-v'>116.74365672</span></li><li><span class='ee-k'>MEAN_INCIDENCE_AZIMUTH_ANGLE_B11:</span><span class='ee-v'>115.16802568</span></li><li><span class='ee-k'>MEAN_INCIDENCE_AZIMUTH_ANGLE_B12:</span><span class='ee-v'>114.109208597</span></li><li><span class='ee-k'>MEAN_INCIDENCE_AZIMUTH_ANGLE_B2:</span><span class='ee-v'>120.394502417</span></li><li><span class='ee-k'>MEAN_INCIDENCE_AZIMUTH_ANGLE_B3:</span><span class='ee-v'>117.759816942</span></li><li><span class='ee-k'>MEAN_INCIDENCE_AZIMUTH_ANGLE_B4:</span><span class='ee-v'>116.165997512</span></li><li><span class='ee-k'>MEAN_INCIDENCE_AZIMUTH_ANGLE_B5:</span><span class='ee-v'>115.51691487</span></li><li><span class='ee-k'>MEAN_INCIDENCE_AZIMUTH_ANGLE_B6:</span><span class='ee-v'>114.959471981</span></li><li><span class='ee-k'>MEAN_INCIDENCE_AZIMUTH_ANGLE_B7:</span><span class='ee-v'>114.505792826</span></li><li><span class='ee-k'>MEAN_INCIDENCE_AZIMUTH_ANGLE_B8:</span><span class='ee-v'>118.926302656</span></li><li><span class='ee-k'>MEAN_INCIDENCE_AZIMUTH_ANGLE_B8A:</span><span class='ee-v'>114.110197273</span></li><li><span class='ee-k'>MEAN_INCIDENCE_AZIMUTH_ANGLE_B9:</span><span class='ee-v'>113.597389182</span></li><li><span class='ee-k'>MEAN_INCIDENCE_ZENITH_ANGLE_B1:</span><span class='ee-v'>4.1066218596</span></li><li><span class='ee-k'>MEAN_INCIDENCE_ZENITH_ANGLE_B10:</span><span class='ee-v'>3.7164284449</span></li><li><span class='ee-k'>MEAN_INCIDENCE_ZENITH_ANGLE_B11:</span><span class='ee-v'>3.86879097653</span></li><li><span class='ee-k'>MEAN_INCIDENCE_ZENITH_ANGLE_B12:</span><span class='ee-v'>4.0460243957</span></li><li><span class='ee-k'>MEAN_INCIDENCE_ZENITH_ANGLE_B2:</span><span class='ee-v'>3.56543143896</span></li><li><span class='ee-k'>MEAN_INCIDENCE_ZENITH_ANGLE_B3:</span><span class='ee-v'>3.65485776198</span></li><li><span class='ee-k'>MEAN_INCIDENCE_ZENITH_ANGLE_B4:</span><span class='ee-v'>3.75178987032</span></li><li><span class='ee-k'>MEAN_INCIDENCE_ZENITH_ANGLE_B5:</span><span class='ee-v'>3.81518292916</span></li><li><span class='ee-k'>MEAN_INCIDENCE_ZENITH_ANGLE_B6:</span><span class='ee-v'>3.88247206566</span></li><li><span class='ee-k'>MEAN_INCIDENCE_ZENITH_ANGLE_B7:</span><span class='ee-v'>3.95355115952</span></li><li><span class='ee-k'>MEAN_INCIDENCE_ZENITH_ANGLE_B8:</span><span class='ee-v'>3.60868474116</span></li><li><span class='ee-k'>MEAN_INCIDENCE_ZENITH_ANGLE_B8A:</span><span class='ee-v'>4.02788802471</span></li><li><span class='ee-k'>MEAN_INCIDENCE_ZENITH_ANGLE_B9:</span><span class='ee-v'>4.18930235309</span></li><li><span class='ee-k'>MEAN_SOLAR_AZIMUTH_ANGLE:</span><span class='ee-v'>164.146988621</span></li><li><span class='ee-k'>MEAN_SOLAR_ZENITH_ANGLE:</span><span class='ee-v'>62.4668157598</span></li><li><span class='ee-k'>MEDIUM_PROBA_CLOUDS_PERCENTAGE:</span><span class='ee-v'>15.53475</span></li><li><span class='ee-k'>MGRS_TILE:</span><span class='ee-v'>10SEG</span></li><li><span class='ee-k'>NODATA_PIXEL_PERCENTAGE:</span><span class='ee-v'>0</span></li><li><span class='ee-k'>NOT_VEGETATED_PERCENTAGE:</span><span class='ee-v'>0.023908</span></li><li><span class='ee-k'>PROCESSING_BASELINE:</span><span class='ee-v'>02.11</span></li><li><span class='ee-k'>PRODUCT_ID:</span><span class='ee-v'>S2B_MSIL2A_20181216T185759_N0211_R113_T10SEG_20181216T211707</span></li><li><span class='ee-k'>RADIATIVE_TRANSFER_ACCURACY:</span><span class='ee-v'>0</span></li><li><span class='ee-k'>RADIOMETRIC_QUALITY:</span><span class='ee-v'>PASSED</span></li><li><span class='ee-k'>REFLECTANCE_CONVERSION_CORRECTION:</span><span class='ee-v'>1.03194111246</span></li><li><span class='ee-k'>SATURATED_DEFECTIVE_PIXEL_PERCENTAGE:</span><span class='ee-v'>0</span></li><li><span class='ee-k'>SENSING_ORBIT_DIRECTION:</span><span class='ee-v'>DESCENDING</span></li><li><span class='ee-k'>SENSING_ORBIT_NUMBER:</span><span class='ee-v'>113</span></li><li><span class='ee-k'>SENSOR_QUALITY:</span><span class='ee-v'>PASSED</span></li><li><span class='ee-k'>SNOW_ICE_PERCENTAGE:</span><span class='ee-v'>1.225683</span></li><li><span class='ee-k'>SOLAR_IRRADIANCE_B1:</span><span class='ee-v'>1874.3</span></li><li><span class='ee-k'>SOLAR_IRRADIANCE_B10:</span><span class='ee-v'>365.41</span></li><li><span class='ee-k'>SOLAR_IRRADIANCE_B11:</span><span class='ee-v'>247.08</span></li><li><span class='ee-k'>SOLAR_IRRADIANCE_B12:</span><span class='ee-v'>87.75</span></li><li><span class='ee-k'>SOLAR_IRRADIANCE_B2:</span><span class='ee-v'>1959.77</span></li><li><span class='ee-k'>SOLAR_IRRADIANCE_B3:</span><span class='ee-v'>1824.93</span></li><li><span class='ee-k'>SOLAR_IRRADIANCE_B4:</span><span class='ee-v'>1512.79</span></li><li><span class='ee-k'>SOLAR_IRRADIANCE_B5:</span><span class='ee-v'>1425.78</span></li><li><span class='ee-k'>SOLAR_IRRADIANCE_B6:</span><span class='ee-v'>1291.13</span></li><li><span class='ee-k'>SOLAR_IRRADIANCE_B7:</span><span class='ee-v'>1175.57</span></li><li><span class='ee-k'>SOLAR_IRRADIANCE_B8:</span><span class='ee-v'>1041.28</span></li><li><span class='ee-k'>SOLAR_IRRADIANCE_B8A:</span><span class='ee-v'>953.93</span></li><li><span class='ee-k'>SOLAR_IRRADIANCE_B9:</span><span class='ee-v'>817.58</span></li><li><span class='ee-k'>SPACECRAFT_NAME:</span><span class='ee-v'>Sentinel-2B</span></li><li><span class='ee-k'>THIN_CIRRUS_PERCENTAGE:</span><span class='ee-v'>0.861756</span></li><li><span class='ee-k'>UNCLASSIFIED_PERCENTAGE:</span><span class='ee-v'>0.003673</span></li><li><span class='ee-k'>VEGETATION_PERCENTAGE:</span><span class='ee-v'>3e-06</span></li><li><span class='ee-k'>WATER_PERCENTAGE:</span><span class='ee-v'>0.016473</span></li><li><span class='ee-k'>WATER_VAPOUR_RETRIEVAL_ACCURACY:</span><span class='ee-v'>0</span></li><li><span class='ee-k'>system:asset_size:</span><span class='ee-v'>1220290877</span></li><li><details><summary>system:footprint: LinearRing (19 vertices)</summary><ul><li><span class='ee-k'>type:</span><span class='ee-v'>LinearRing</span></li><li><details><summary>coordinates: List (19 elements)</summary><ul><li><details><summary>0: [-123.0003408468679, 37.94760085151261]</summary><ul><li><span class='ee-k'>0:</span><span class='ee-v'>-123.0003408468679</span></li><li><span class='ee-k'>1:</span><span class='ee-v'>37.94760085151261</span></li></ul></details></li><li><details><summary>1: [-123.00034179205034, 37.947589574707514]</summary><ul><li><span class='ee-k'>0:</span><span class='ee-v'>-123.00034179205034</span></li><li><span class='ee-k'>1:</span><span class='ee-v'>37.947589574707514</span></li></ul></details></li><li><details><summary>2: [-123.00033723798937, 36.95806136788806]</summary><ul><li><span class='ee-k'>0:</span><span class='ee-v'>-123.00033723798937</span></li><li><span class='ee-k'>1:</span><span class='ee-v'>36.95806136788806</span></li></ul></details></li><li><details><summary>3: [-123.00029152551673, 36.95801992306331]</summary><ul><li><span class='ee-k'>0:</span><span class='ee-v'>-123.00029152551673</span></li><li><span class='ee-k'>1:</span><span class='ee-v'>36.95801992306331</span></li></ul></details></li><li><details><summary>4: [-123.0002526011579, 36.95797423741872]</summary><ul><li><span class='ee-k'>0:</span><span class='ee-v'>-123.0002526011579</span></li><li><span class='ee-k'>1:</span><span class='ee-v'>36.95797423741872</span></li></ul></details></li><li><details><summary>5: [-123.00023412711913, 36.957971363363285]</summary><ul><li><span class='ee-k'>0:</span><span class='ee-v'>-123.00023412711913</span></li><li><span class='ee-k'>1:</span><span class='ee-v'>36.957971363363285</span></li></ul></details></li><li><details><summary>6: [-121.76721790044816, 36.95157206200717]</summary><ul><li><span class='ee-k'>0:</span><span class='ee-v'>-121.76721790044816</span></li><li><span class='ee-k'>1:</span><span class='ee-v'>36.95157206200717</span></li></ul></details></li><li><details><summary>7: [-121.76716539030087, 36.951608138255864]</summary><ul><li><span class='ee-k'>0:</span><span class='ee-v'>-121.76716539030087</span></li><li><span class='ee-k'>1:</span><span class='ee-v'>36.951608138255864</span></li></ul></details></li><li><details><summary>8: [-121.76710775082277, 36.95163857717662]</summary><ul><li><span class='ee-k'>0:</span><span class='ee-v'>-121.76710775082277</span></li><li><span class='ee-k'>1:</span><span class='ee-v'>36.95163857717662</span></li></ul></details></li><li><details><summary>9: [-121.76710392557732, 36.95165337679644]</summary><ul><li><span class='ee-k'>0:</span><span class='ee-v'>-121.76710392557732</span></li><li><span class='ee-k'>1:</span><span class='ee-v'>36.95165337679644</span></li></ul></details></li><li><details><summary>10: [-121.7590314099813, 37.44633070146803]</summary><ul><li><span class='ee-k'>0:</span><span class='ee-v'>-121.7590314099813</span></li><li><span class='ee-k'>1:</span><span class='ee-v'>37.44633070146803</span></li></ul></details></li><li><details><summary>11: [-121.75075919661508, 37.9409574689974]</summary><ul><li><span class='ee-k'>0:</span><span class='ee-v'>-121.75075919661508</span></li><li><span class='ee-k'>1:</span><span class='ee-v'>37.9409574689974</span></li></ul></details></li><li><details><summary>12: [-121.75080484540509, 37.940999372863686]</summary><ul><li><span class='ee-k'>0:</span><span class='ee-v'>-121.75080484540509</span></li><li><span class='ee-k'>1:</span><span class='ee-v'>37.940999372863686</span></li></ul></details></li><li><details><summary>13: [-121.75084345122438, 37.94104550336575]</summary><ul><li><span class='ee-k'>0:</span><span class='ee-v'>-121.75084345122438</span></li><li><span class='ee-k'>1:</span><span class='ee-v'>37.94104550336575</span></li></ul></details></li><li><details><summary>14: [-121.75086214547893, 37.94104856554029]</summary><ul><li><span class='ee-k'>0:</span><span class='ee-v'>-121.75086214547893</span></li><li><span class='ee-k'>1:</span><span class='ee-v'>37.94104856554029</span></li></ul></details></li><li><details><summary>15: [-123.00022759676041, 37.94767956582706]</summary><ul><li><span class='ee-k'>0:</span><span class='ee-v'>-123.00022759676041</span></li><li><span class='ee-k'>1:</span><span class='ee-v'>37.94767956582706</span></li></ul></details></li><li><details><summary>16: [-123.00028018332104, 37.94764299733767]</summary><ul><li><span class='ee-k'>0:</span><span class='ee-v'>-123.00028018332104</span></li><li><span class='ee-k'>1:</span><span class='ee-v'>37.94764299733767</span></li></ul></details></li><li><details><summary>17: [-123.00033818317185, 37.94761187496444]</summary><ul><li><span class='ee-k'>0:</span><span class='ee-v'>-123.00033818317185</span></li><li><span class='ee-k'>1:</span><span class='ee-v'>37.94761187496444</span></li></ul></details></li><li><details><summary>18: [-123.0003408468679, 37.94760085151261]</summary><ul><li><span class='ee-k'>0:</span><span class='ee-v'>-123.0003408468679</span></li><li><span class='ee-k'>1:</span><span class='ee-v'>37.94760085151261</span></li></ul></details></li></ul></details></li></ul></details></li><li><span class='ee-k'>system:index:</span><span class='ee-v'>20181216T185759_20181216T185801_T10SEG</span></li><li><span class='ee-k'>system:time_end:</span><span class='ee-v'>1544987043000</span></li><li><span class='ee-k'>system:time_start:</span><span class='ee-v'>1544987043000</span></li></ul></details></li></ul></details></li></ul></div></div>"
      ],
      "text/plain": [
       "<ee.image.Image at 0x185ed18a110>"
      ]
     },
     "execution_count": 62,
     "metadata": {},
     "output_type": "execute_result"
    }
   ],
   "source": [
    "images.first()"
   ]
  },
  {
   "cell_type": "code",
   "execution_count": 63,
   "id": "5977325f",
   "metadata": {},
   "outputs": [
    {
     "data": {
      "text/html": [
       "\n",
       "            <style>\n",
       "                .geemap-dark {\n",
       "                    --jp-widgets-color: white;\n",
       "                    --jp-widgets-label-color: white;\n",
       "                    --jp-ui-font-color1: white;\n",
       "                    --jp-layout-color2: #454545;\n",
       "                    background-color: #383838;\n",
       "                }\n",
       "\n",
       "                .geemap-dark .jupyter-button {\n",
       "                    --jp-layout-color3: #383838;\n",
       "                }\n",
       "\n",
       "                .geemap-colab {\n",
       "                    background-color: var(--colab-primary-surface-color, white);\n",
       "                }\n",
       "\n",
       "                .geemap-colab .jupyter-button {\n",
       "                    --jp-layout-color3: var(--colab-primary-surface-color, white);\n",
       "                }\n",
       "            </style>\n",
       "            "
      ],
      "text/plain": [
       "<IPython.core.display.HTML object>"
      ]
     },
     "metadata": {},
     "output_type": "display_data"
    },
    {
     "data": {
      "text/html": [
       "<div><style>:root {\n",
       "  --font-color-primary: var(--jp-content-font-color0, rgba(0, 0, 0, 1));\n",
       "  --font-color-secondary: var(--jp-content-font-color2, rgba(0, 0, 0, 0.7));\n",
       "  --font-color-accent: rgba(123, 31, 162, 1);\n",
       "  --border-color: var(--jp-border-color2, #e0e0e0);\n",
       "  --background-color: var(--jp-layout-color0, white);\n",
       "  --background-color-row-even: var(--jp-layout-color1, white);\n",
       "  --background-color-row-odd: var(--jp-layout-color2, #eeeeee);\n",
       "}\n",
       "\n",
       "html[theme=\"dark\"],\n",
       "body[data-theme=\"dark\"],\n",
       "body.vscode-dark {\n",
       "  --font-color-primary: rgba(255, 255, 255, 1);\n",
       "  --font-color-secondary: rgba(255, 255, 255, 0.7);\n",
       "  --font-color-accent: rgb(173, 132, 190);\n",
       "  --border-color: #2e2e2e;\n",
       "  --background-color: #111111;\n",
       "  --background-color-row-even: #111111;\n",
       "  --background-color-row-odd: #313131;\n",
       "}\n",
       "\n",
       ".eerepr {\n",
       "  padding: 1em;\n",
       "  line-height: 1.5em;\n",
       "  min-width: 300px;\n",
       "  max-width: 1200px;\n",
       "  overflow-y: scroll;\n",
       "  max-height: 600px;\n",
       "  border: 1px solid var(--border-color);\n",
       "  font-family: monospace;\n",
       "  font-size: 14px;\n",
       "}\n",
       "\n",
       ".eerepr li {\n",
       "  list-style-type: none;\n",
       "  margin: 0;\n",
       "}\n",
       "\n",
       ".eerepr ul {\n",
       "  padding-left: 1.5em !important;\n",
       "  margin: 0;\n",
       "}\n",
       "\n",
       ".eerepr > ul {\n",
       "  padding-left: 0 !important;\n",
       "}\n",
       "\n",
       ".eerepr summary {\n",
       "  color: var(--font-color-secondary);\n",
       "  cursor: pointer;\n",
       "  margin: 0;\n",
       "}\n",
       "\n",
       ".eerepr summary:hover {\n",
       "  color: var(--font-color-primary);\n",
       "  background-color: var(--background-color-row-odd)\n",
       "}\n",
       "\n",
       ".ee-k {\n",
       "  color: var(--font-color-accent);\n",
       "  margin-right: 6px;\n",
       "}\n",
       "\n",
       ".ee-v {\n",
       "  color: var(--font-color-primary);\n",
       "}\n",
       "\n",
       ".eerepr details > summary::before {\n",
       "  content: '▼';\n",
       "  display: inline-block;\n",
       "  margin-right: 6px;\n",
       "  transition: transform 0.2s;\n",
       "  transform: rotate(-90deg);\n",
       "}\n",
       "\n",
       ".eerepr details[open] > summary::before {\n",
       "  transform: rotate(0deg);\n",
       "}\n",
       "\n",
       ".eerepr details summary::-webkit-details-marker {\n",
       "  display:none;\n",
       "}\n",
       "\n",
       ".eerepr details summary {\n",
       "  list-style-type: none;\n",
       "}\n",
       "</style><div class='eerepr'><ul><li><span class='ee-v'>14</span></li></ul></div></div>"
      ],
      "text/plain": [
       "<ee.ee_number.Number at 0x185ea50faf0>"
      ]
     },
     "execution_count": 63,
     "metadata": {},
     "output_type": "execute_result"
    }
   ],
   "source": [
    "images = (\n",
    "    collection.filterBounds(geometry)\n",
    "    .filterDate('2024-07-01', '2024-10-01')\n",
    "    .filter(ee.Filter.lt('CLOUDY_PIXEL_PERCENTAGE', 5))\n",
    ")\n",
    "images.size() # Get the number of images in the collection"
   ]
  },
  {
   "cell_type": "code",
   "execution_count": 71,
   "id": "0a7f4167",
   "metadata": {},
   "outputs": [
    {
     "data": {
      "text/html": [
       "\n",
       "            <style>\n",
       "                .geemap-dark {\n",
       "                    --jp-widgets-color: white;\n",
       "                    --jp-widgets-label-color: white;\n",
       "                    --jp-ui-font-color1: white;\n",
       "                    --jp-layout-color2: #454545;\n",
       "                    background-color: #383838;\n",
       "                }\n",
       "\n",
       "                .geemap-dark .jupyter-button {\n",
       "                    --jp-layout-color3: #383838;\n",
       "                }\n",
       "\n",
       "                .geemap-colab {\n",
       "                    background-color: var(--colab-primary-surface-color, white);\n",
       "                }\n",
       "\n",
       "                .geemap-colab .jupyter-button {\n",
       "                    --jp-layout-color3: var(--colab-primary-surface-color, white);\n",
       "                }\n",
       "            </style>\n",
       "            "
      ],
      "text/plain": [
       "<IPython.core.display.HTML object>"
      ]
     },
     "metadata": {},
     "output_type": "display_data"
    },
    {
     "data": {
      "application/vnd.jupyter.widget-view+json": {
       "model_id": "d4d6c6ac55b347d9b2146a07f3c20615",
       "version_major": 2,
       "version_minor": 0
      },
      "text/plain": [
       "Map(center=[37.45118591731683, -122.37966239140695], controls=(WidgetControl(options=['position', 'transparent…"
      ]
     },
     "execution_count": 71,
     "metadata": {},
     "output_type": "execute_result"
    }
   ],
   "source": [
    "m = geemap.Map()\n",
    "image = images.first()\n",
    "\n",
    "vis = {\n",
    "    'min': 0,\n",
    "    'max': 3000,    \n",
    "    'bands': ['B4', 'B3', 'B2'],\n",
    "      \n",
    "}\n",
    "m.add_layer(image,vis,'Sentinel 2')\n",
    "m.centerObject(image,8)\n",
    "m"
   ]
  },
  {
   "cell_type": "code",
   "execution_count": null,
   "id": "e756b706",
   "metadata": {},
   "outputs": [
    {
     "data": {
      "text/html": [
       "\n",
       "            <style>\n",
       "                .geemap-dark {\n",
       "                    --jp-widgets-color: white;\n",
       "                    --jp-widgets-label-color: white;\n",
       "                    --jp-ui-font-color1: white;\n",
       "                    --jp-layout-color2: #454545;\n",
       "                    background-color: #383838;\n",
       "                }\n",
       "\n",
       "                .geemap-dark .jupyter-button {\n",
       "                    --jp-layout-color3: #383838;\n",
       "                }\n",
       "\n",
       "                .geemap-colab {\n",
       "                    background-color: var(--colab-primary-surface-color, white);\n",
       "                }\n",
       "\n",
       "                .geemap-colab .jupyter-button {\n",
       "                    --jp-layout-color3: var(--colab-primary-surface-color, white);\n",
       "                }\n",
       "            </style>\n",
       "            "
      ],
      "text/plain": [
       "<IPython.core.display.HTML object>"
      ]
     },
     "metadata": {},
     "output_type": "display_data"
    },
    {
     "data": {
      "application/vnd.jupyter.widget-view+json": {
       "model_id": "cf7acdd0d2844207ad2ae94d6c2140ab",
       "version_major": 2,
       "version_minor": 0
      },
      "text/plain": [
       "Map(center=[37.8719, -122.262], controls=(WidgetControl(options=['position', 'transparent_bg'], widget=SearchD…"
      ]
     },
     "execution_count": 73,
     "metadata": {},
     "output_type": "execute_result"
    }
   ],
   "source": [
    "m = geemap.Map()\n",
    "image = images.median()\n",
    "\n",
    "vis = {\n",
    "    \"min\": 0.0,\n",
    "    \"max\": 4000,\n",
    "    \"bands\": [\"B8\", \"B4\", \"B3\"],\n",
    "}\n",
    "m.add_layer(image, vis, \"Sentinel-2\")\n",
    "m.centerObject(geometry, 8)\n",
    "m"
   ]
  },
  {
   "cell_type": "markdown",
   "id": "82788c24",
   "metadata": {},
   "source": [
    "# Earth Engine Vector Data"
   ]
  },
  {
   "cell_type": "code",
   "execution_count": 74,
   "id": "4ec0a200",
   "metadata": {},
   "outputs": [
    {
     "data": {
      "text/html": [
       "\n",
       "            <style>\n",
       "                .geemap-dark {\n",
       "                    --jp-widgets-color: white;\n",
       "                    --jp-widgets-label-color: white;\n",
       "                    --jp-ui-font-color1: white;\n",
       "                    --jp-layout-color2: #454545;\n",
       "                    background-color: #383838;\n",
       "                }\n",
       "\n",
       "                .geemap-dark .jupyter-button {\n",
       "                    --jp-layout-color3: #383838;\n",
       "                }\n",
       "\n",
       "                .geemap-colab {\n",
       "                    background-color: var(--colab-primary-surface-color, white);\n",
       "                }\n",
       "\n",
       "                .geemap-colab .jupyter-button {\n",
       "                    --jp-layout-color3: var(--colab-primary-surface-color, white);\n",
       "                }\n",
       "            </style>\n",
       "            "
      ],
      "text/plain": [
       "<IPython.core.display.HTML object>"
      ]
     },
     "metadata": {},
     "output_type": "display_data"
    },
    {
     "data": {
      "application/vnd.jupyter.widget-view+json": {
       "model_id": "5cf33f6c4843412f8300b2bdaf43402c",
       "version_major": 2,
       "version_minor": 0
      },
      "text/plain": [
       "Map(center=[35, -83], controls=(WidgetControl(options=['position', 'transparent_bg'], widget=SearchDataGUI(chi…"
      ]
     },
     "execution_count": 74,
     "metadata": {},
     "output_type": "execute_result"
    }
   ],
   "source": [
    "m = geemap.Map()\n",
    "fc = ee.FeatureCollection('TIGER/2016/Roads')\n",
    "m.set_center(-83,35,12)\n",
    "m.add_layer(fc, {}, 'Roads')\n",
    "m"
   ]
  },
  {
   "cell_type": "code",
   "execution_count": 75,
   "id": "92826393",
   "metadata": {},
   "outputs": [
    {
     "data": {
      "text/html": [
       "\n",
       "            <style>\n",
       "                .geemap-dark {\n",
       "                    --jp-widgets-color: white;\n",
       "                    --jp-widgets-label-color: white;\n",
       "                    --jp-ui-font-color1: white;\n",
       "                    --jp-layout-color2: #454545;\n",
       "                    background-color: #383838;\n",
       "                }\n",
       "\n",
       "                .geemap-dark .jupyter-button {\n",
       "                    --jp-layout-color3: #383838;\n",
       "                }\n",
       "\n",
       "                .geemap-colab {\n",
       "                    background-color: var(--colab-primary-surface-color, white);\n",
       "                }\n",
       "\n",
       "                .geemap-colab .jupyter-button {\n",
       "                    --jp-layout-color3: var(--colab-primary-surface-color, white);\n",
       "                }\n",
       "            </style>\n",
       "            "
      ],
      "text/plain": [
       "<IPython.core.display.HTML object>"
      ]
     },
     "metadata": {},
     "output_type": "display_data"
    },
    {
     "data": {
      "application/vnd.jupyter.widget-view+json": {
       "model_id": "805bda95499849fbbd7a3c5c77d93149",
       "version_major": 2,
       "version_minor": 0
      },
      "text/plain": [
       "Map(center=[35.8579904338385, -86.35074162079951], controls=(WidgetControl(options=['position', 'transparent_b…"
      ]
     },
     "execution_count": 75,
     "metadata": {},
     "output_type": "execute_result"
    }
   ],
   "source": [
    "m = geemap.Map()\n",
    "states = ee.FeatureCollection('TIGER/2018/States')  \n",
    "fc = states.filter(ee.Filter.eq('NAME', 'Tennessee'))\n",
    "m.add_layer(fc, {}, 'Tennessee')\n",
    "m.center_object(fc, 7)\n",
    "m"
   ]
  },
  {
   "cell_type": "code",
   "execution_count": 77,
   "id": "e277c902",
   "metadata": {},
   "outputs": [
    {
     "data": {
      "text/html": [
       "\n",
       "            <style>\n",
       "                .geemap-dark {\n",
       "                    --jp-widgets-color: white;\n",
       "                    --jp-widgets-label-color: white;\n",
       "                    --jp-ui-font-color1: white;\n",
       "                    --jp-layout-color2: #454545;\n",
       "                    background-color: #383838;\n",
       "                }\n",
       "\n",
       "                .geemap-dark .jupyter-button {\n",
       "                    --jp-layout-color3: #383838;\n",
       "                }\n",
       "\n",
       "                .geemap-colab {\n",
       "                    background-color: var(--colab-primary-surface-color, white);\n",
       "                }\n",
       "\n",
       "                .geemap-colab .jupyter-button {\n",
       "                    --jp-layout-color3: var(--colab-primary-surface-color, white);\n",
       "                }\n",
       "            </style>\n",
       "            "
      ],
      "text/plain": [
       "<IPython.core.display.HTML object>"
      ]
     },
     "metadata": {},
     "output_type": "display_data"
    },
    {
     "data": {
      "text/html": [
       "<div><style>:root {\n",
       "  --font-color-primary: var(--jp-content-font-color0, rgba(0, 0, 0, 1));\n",
       "  --font-color-secondary: var(--jp-content-font-color2, rgba(0, 0, 0, 0.7));\n",
       "  --font-color-accent: rgba(123, 31, 162, 1);\n",
       "  --border-color: var(--jp-border-color2, #e0e0e0);\n",
       "  --background-color: var(--jp-layout-color0, white);\n",
       "  --background-color-row-even: var(--jp-layout-color1, white);\n",
       "  --background-color-row-odd: var(--jp-layout-color2, #eeeeee);\n",
       "}\n",
       "\n",
       "html[theme=\"dark\"],\n",
       "body[data-theme=\"dark\"],\n",
       "body.vscode-dark {\n",
       "  --font-color-primary: rgba(255, 255, 255, 1);\n",
       "  --font-color-secondary: rgba(255, 255, 255, 0.7);\n",
       "  --font-color-accent: rgb(173, 132, 190);\n",
       "  --border-color: #2e2e2e;\n",
       "  --background-color: #111111;\n",
       "  --background-color-row-even: #111111;\n",
       "  --background-color-row-odd: #313131;\n",
       "}\n",
       "\n",
       ".eerepr {\n",
       "  padding: 1em;\n",
       "  line-height: 1.5em;\n",
       "  min-width: 300px;\n",
       "  max-width: 1200px;\n",
       "  overflow-y: scroll;\n",
       "  max-height: 600px;\n",
       "  border: 1px solid var(--border-color);\n",
       "  font-family: monospace;\n",
       "  font-size: 14px;\n",
       "}\n",
       "\n",
       ".eerepr li {\n",
       "  list-style-type: none;\n",
       "  margin: 0;\n",
       "}\n",
       "\n",
       ".eerepr ul {\n",
       "  padding-left: 1.5em !important;\n",
       "  margin: 0;\n",
       "}\n",
       "\n",
       ".eerepr > ul {\n",
       "  padding-left: 0 !important;\n",
       "}\n",
       "\n",
       ".eerepr summary {\n",
       "  color: var(--font-color-secondary);\n",
       "  cursor: pointer;\n",
       "  margin: 0;\n",
       "}\n",
       "\n",
       ".eerepr summary:hover {\n",
       "  color: var(--font-color-primary);\n",
       "  background-color: var(--background-color-row-odd)\n",
       "}\n",
       "\n",
       ".ee-k {\n",
       "  color: var(--font-color-accent);\n",
       "  margin-right: 6px;\n",
       "}\n",
       "\n",
       ".ee-v {\n",
       "  color: var(--font-color-primary);\n",
       "}\n",
       "\n",
       ".eerepr details > summary::before {\n",
       "  content: '▼';\n",
       "  display: inline-block;\n",
       "  margin-right: 6px;\n",
       "  transition: transform 0.2s;\n",
       "  transform: rotate(-90deg);\n",
       "}\n",
       "\n",
       ".eerepr details[open] > summary::before {\n",
       "  transform: rotate(0deg);\n",
       "}\n",
       "\n",
       ".eerepr details summary::-webkit-details-marker {\n",
       "  display:none;\n",
       "}\n",
       "\n",
       ".eerepr details summary {\n",
       "  list-style-type: none;\n",
       "}\n",
       "</style><div class='eerepr'><ul><li><details><summary>Object (14 properties)</summary><ul><li><span class='ee-k'>ALAND:</span><span class='ee-v'>106802728188</span></li><li><span class='ee-k'>AWATER:</span><span class='ee-v'>2350123465</span></li><li><span class='ee-k'>DIVISION:</span><span class='ee-v'>6</span></li><li><span class='ee-k'>FUNCSTAT:</span><span class='ee-v'>A</span></li><li><span class='ee-k'>GEOID:</span><span class='ee-v'>47</span></li><li><span class='ee-k'>INTPTLAT:</span><span class='ee-v'>+35.8608030</span></li><li><span class='ee-k'>INTPTLON:</span><span class='ee-v'>-086.3499896</span></li><li><span class='ee-k'>LSAD:</span><span class='ee-v'>00</span></li><li><span class='ee-k'>MTFCC:</span><span class='ee-v'>G4000</span></li><li><span class='ee-k'>NAME:</span><span class='ee-v'>Tennessee</span></li><li><span class='ee-k'>REGION:</span><span class='ee-v'>3</span></li><li><span class='ee-k'>STATEFP:</span><span class='ee-v'>47</span></li><li><span class='ee-k'>STATENS:</span><span class='ee-v'>01325873</span></li><li><span class='ee-k'>STUSPS:</span><span class='ee-v'>TN</span></li></ul></details></li></ul></div></div>"
      ],
      "text/plain": [
       "<ee.dictionary.Dictionary at 0x185ea68be20>"
      ]
     },
     "execution_count": 77,
     "metadata": {},
     "output_type": "execute_result"
    }
   ],
   "source": [
    "feat = fc.first( )\n",
    "feat.toDictionary() # Get the feature as a dictionary"
   ]
  },
  {
   "cell_type": "code",
   "execution_count": 82,
   "id": "f7e2a082",
   "metadata": {},
   "outputs": [
    {
     "data": {
      "text/html": [
       "\n",
       "            <style>\n",
       "                .geemap-dark {\n",
       "                    --jp-widgets-color: white;\n",
       "                    --jp-widgets-label-color: white;\n",
       "                    --jp-ui-font-color1: white;\n",
       "                    --jp-layout-color2: #454545;\n",
       "                    background-color: #383838;\n",
       "                }\n",
       "\n",
       "                .geemap-dark .jupyter-button {\n",
       "                    --jp-layout-color3: #383838;\n",
       "                }\n",
       "\n",
       "                .geemap-colab {\n",
       "                    background-color: var(--colab-primary-surface-color, white);\n",
       "                }\n",
       "\n",
       "                .geemap-colab .jupyter-button {\n",
       "                    --jp-layout-color3: var(--colab-primary-surface-color, white);\n",
       "                }\n",
       "            </style>\n",
       "            "
      ],
      "text/plain": [
       "<IPython.core.display.HTML object>"
      ]
     },
     "metadata": {},
     "output_type": "display_data"
    },
    {
     "data": {
      "application/vnd.jupyter.widget-view+json": {
       "model_id": "3df6c8c189ad4543baff1683449eeec7",
       "version_major": 2,
       "version_minor": 0
      },
      "text/plain": [
       "Map(center=[38.40504095116086, -114.75970762798782], controls=(WidgetControl(options=['position', 'transparent…"
      ]
     },
     "execution_count": 82,
     "metadata": {},
     "output_type": "execute_result"
    }
   ],
   "source": [
    "m = geemap.Map()\n",
    "states = ee.FeatureCollection('TIGER/2018/States')\n",
    "fc = states.filter(ee.Filter.inList('NAME',['California','Washinton','Oregon','Arizona','Colorado']))\n",
    "m.add_layer(fc,{}, 'California, Washinton and Oregon')\n",
    "m.center_object(fc, 6)\n",
    "m"
   ]
  },
  {
   "cell_type": "code",
   "execution_count": 86,
   "id": "0b3ffb44",
   "metadata": {},
   "outputs": [
    {
     "data": {
      "text/html": [
       "\n",
       "            <style>\n",
       "                .geemap-dark {\n",
       "                    --jp-widgets-color: white;\n",
       "                    --jp-widgets-label-color: white;\n",
       "                    --jp-ui-font-color1: white;\n",
       "                    --jp-layout-color2: #454545;\n",
       "                    background-color: #383838;\n",
       "                }\n",
       "\n",
       "                .geemap-dark .jupyter-button {\n",
       "                    --jp-layout-color3: #383838;\n",
       "                }\n",
       "\n",
       "                .geemap-colab {\n",
       "                    background-color: var(--colab-primary-surface-color, white);\n",
       "                }\n",
       "\n",
       "                .geemap-colab .jupyter-button {\n",
       "                    --jp-layout-color3: var(--colab-primary-surface-color, white);\n",
       "                }\n",
       "            </style>\n",
       "            "
      ],
      "text/plain": [
       "<IPython.core.display.HTML object>"
      ]
     },
     "metadata": {},
     "output_type": "display_data"
    },
    {
     "data": {
      "application/vnd.jupyter.widget-view+json": {
       "model_id": "2883fe9d09d44e24adbeaad2fd751742",
       "version_major": 2,
       "version_minor": 0
      },
      "text/plain": [
       "Map(center=[32.10159995280738, -97.61777460881582], controls=(WidgetControl(options=['position', 'transparent_…"
      ]
     },
     "execution_count": 86,
     "metadata": {},
     "output_type": "execute_result"
    }
   ],
   "source": [
    "m = geemap.Map()\n",
    "states = ee.FeatureCollection('TIGER/2018/States')\n",
    "fc = states.filter(ee.Filter.stringStartsWith('NAME','T'))\n",
    "m.add_layer(fc,{}, 'States with T')\n",
    "m.center_object(fc, 6)\n",
    "m"
   ]
  },
  {
   "cell_type": "code",
   "execution_count": 87,
   "id": "d1168b6b",
   "metadata": {},
   "outputs": [
    {
     "data": {
      "text/html": [
       "\n",
       "            <style>\n",
       "                .geemap-dark {\n",
       "                    --jp-widgets-color: white;\n",
       "                    --jp-widgets-label-color: white;\n",
       "                    --jp-ui-font-color1: white;\n",
       "                    --jp-layout-color2: #454545;\n",
       "                    background-color: #383838;\n",
       "                }\n",
       "\n",
       "                .geemap-dark .jupyter-button {\n",
       "                    --jp-layout-color3: #383838;\n",
       "                }\n",
       "\n",
       "                .geemap-colab {\n",
       "                    background-color: var(--colab-primary-surface-color, white);\n",
       "                }\n",
       "\n",
       "                .geemap-colab .jupyter-button {\n",
       "                    --jp-layout-color3: var(--colab-primary-surface-color, white);\n",
       "                }\n",
       "            </style>\n",
       "            "
      ],
      "text/plain": [
       "<IPython.core.display.HTML object>"
      ]
     },
     "metadata": {},
     "output_type": "display_data"
    },
    {
     "data": {
      "text/html": [
       "<div><style>:root {\n",
       "  --font-color-primary: var(--jp-content-font-color0, rgba(0, 0, 0, 1));\n",
       "  --font-color-secondary: var(--jp-content-font-color2, rgba(0, 0, 0, 0.7));\n",
       "  --font-color-accent: rgba(123, 31, 162, 1);\n",
       "  --border-color: var(--jp-border-color2, #e0e0e0);\n",
       "  --background-color: var(--jp-layout-color0, white);\n",
       "  --background-color-row-even: var(--jp-layout-color1, white);\n",
       "  --background-color-row-odd: var(--jp-layout-color2, #eeeeee);\n",
       "}\n",
       "\n",
       "html[theme=\"dark\"],\n",
       "body[data-theme=\"dark\"],\n",
       "body.vscode-dark {\n",
       "  --font-color-primary: rgba(255, 255, 255, 1);\n",
       "  --font-color-secondary: rgba(255, 255, 255, 0.7);\n",
       "  --font-color-accent: rgb(173, 132, 190);\n",
       "  --border-color: #2e2e2e;\n",
       "  --background-color: #111111;\n",
       "  --background-color-row-even: #111111;\n",
       "  --background-color-row-odd: #313131;\n",
       "}\n",
       "\n",
       ".eerepr {\n",
       "  padding: 1em;\n",
       "  line-height: 1.5em;\n",
       "  min-width: 300px;\n",
       "  max-width: 1200px;\n",
       "  overflow-y: scroll;\n",
       "  max-height: 600px;\n",
       "  border: 1px solid var(--border-color);\n",
       "  font-family: monospace;\n",
       "  font-size: 14px;\n",
       "}\n",
       "\n",
       ".eerepr li {\n",
       "  list-style-type: none;\n",
       "  margin: 0;\n",
       "}\n",
       "\n",
       ".eerepr ul {\n",
       "  padding-left: 1.5em !important;\n",
       "  margin: 0;\n",
       "}\n",
       "\n",
       ".eerepr > ul {\n",
       "  padding-left: 0 !important;\n",
       "}\n",
       "\n",
       ".eerepr summary {\n",
       "  color: var(--font-color-secondary);\n",
       "  cursor: pointer;\n",
       "  margin: 0;\n",
       "}\n",
       "\n",
       ".eerepr summary:hover {\n",
       "  color: var(--font-color-primary);\n",
       "  background-color: var(--background-color-row-odd)\n",
       "}\n",
       "\n",
       ".ee-k {\n",
       "  color: var(--font-color-accent);\n",
       "  margin-right: 6px;\n",
       "}\n",
       "\n",
       ".ee-v {\n",
       "  color: var(--font-color-primary);\n",
       "}\n",
       "\n",
       ".eerepr details > summary::before {\n",
       "  content: '▼';\n",
       "  display: inline-block;\n",
       "  margin-right: 6px;\n",
       "  transition: transform 0.2s;\n",
       "  transform: rotate(-90deg);\n",
       "}\n",
       "\n",
       ".eerepr details[open] > summary::before {\n",
       "  transform: rotate(0deg);\n",
       "}\n",
       "\n",
       ".eerepr details summary::-webkit-details-marker {\n",
       "  display:none;\n",
       "}\n",
       "\n",
       ".eerepr details summary {\n",
       "  list-style-type: none;\n",
       "}\n",
       "</style><div class='eerepr'><ul><li><span class='ee-v'>2</span></li></ul></div></div>"
      ],
      "text/plain": [
       "<ee.ee_number.Number at 0x185edf6cbe0>"
      ]
     },
     "execution_count": 87,
     "metadata": {},
     "output_type": "execute_result"
    }
   ],
   "source": [
    "fc.size() # Get the number of features in the collection"
   ]
  },
  {
   "cell_type": "code",
   "execution_count": 89,
   "id": "80cc5b54",
   "metadata": {},
   "outputs": [
    {
     "data": {
      "text/html": [
       "\n",
       "            <style>\n",
       "                .geemap-dark {\n",
       "                    --jp-widgets-color: white;\n",
       "                    --jp-widgets-label-color: white;\n",
       "                    --jp-ui-font-color1: white;\n",
       "                    --jp-layout-color2: #454545;\n",
       "                    background-color: #383838;\n",
       "                }\n",
       "\n",
       "                .geemap-dark .jupyter-button {\n",
       "                    --jp-layout-color3: #383838;\n",
       "                }\n",
       "\n",
       "                .geemap-colab {\n",
       "                    background-color: var(--colab-primary-surface-color, white);\n",
       "                }\n",
       "\n",
       "                .geemap-colab .jupyter-button {\n",
       "                    --jp-layout-color3: var(--colab-primary-surface-color, white);\n",
       "                }\n",
       "            </style>\n",
       "            "
      ],
      "text/plain": [
       "<IPython.core.display.HTML object>"
      ]
     },
     "metadata": {},
     "output_type": "display_data"
    },
    {
     "data": {
      "application/vnd.microsoft.datawrangler.viewer.v0+json": {
       "columns": [
        {
         "name": "index",
         "rawType": "int64",
         "type": "integer"
        },
        {
         "name": "ALAND",
         "rawType": "int64",
         "type": "integer"
        },
        {
         "name": "AWATER",
         "rawType": "int64",
         "type": "integer"
        },
        {
         "name": "DIVISION",
         "rawType": "object",
         "type": "string"
        },
        {
         "name": "FUNCSTAT",
         "rawType": "object",
         "type": "string"
        },
        {
         "name": "GEOID",
         "rawType": "object",
         "type": "string"
        },
        {
         "name": "INTPTLAT",
         "rawType": "object",
         "type": "string"
        },
        {
         "name": "INTPTLON",
         "rawType": "object",
         "type": "string"
        },
        {
         "name": "LSAD",
         "rawType": "object",
         "type": "string"
        },
        {
         "name": "MTFCC",
         "rawType": "object",
         "type": "string"
        },
        {
         "name": "NAME",
         "rawType": "object",
         "type": "string"
        },
        {
         "name": "REGION",
         "rawType": "object",
         "type": "string"
        },
        {
         "name": "STATEFP",
         "rawType": "object",
         "type": "string"
        },
        {
         "name": "STATENS",
         "rawType": "object",
         "type": "string"
        },
        {
         "name": "STUSPS",
         "rawType": "object",
         "type": "string"
        }
       ],
       "conversionMethod": "pd.DataFrame",
       "ref": "a2b7c403-88b7-45ed-9da1-324411a78913",
       "rows": [
        [
         "0",
         "106802728188",
         "2350123465",
         "6",
         "A",
         "47",
         "+35.8608030",
         "-086.3499896",
         "00",
         "G4000",
         "Tennessee",
         "3",
         "47",
         "01325873",
         "TN"
        ],
        [
         "1",
         "676653171537",
         "19006305260",
         "7",
         "A",
         "48",
         "+31.4347032",
         "-099.2818238",
         "00",
         "G4000",
         "Texas",
         "3",
         "48",
         "01779801",
         "TX"
        ]
       ],
       "shape": {
        "columns": 14,
        "rows": 2
       }
      },
      "text/html": [
       "<div>\n",
       "<style scoped>\n",
       "    .dataframe tbody tr th:only-of-type {\n",
       "        vertical-align: middle;\n",
       "    }\n",
       "\n",
       "    .dataframe tbody tr th {\n",
       "        vertical-align: top;\n",
       "    }\n",
       "\n",
       "    .dataframe thead th {\n",
       "        text-align: right;\n",
       "    }\n",
       "</style>\n",
       "<table border=\"1\" class=\"dataframe\">\n",
       "  <thead>\n",
       "    <tr style=\"text-align: right;\">\n",
       "      <th></th>\n",
       "      <th>ALAND</th>\n",
       "      <th>AWATER</th>\n",
       "      <th>DIVISION</th>\n",
       "      <th>FUNCSTAT</th>\n",
       "      <th>GEOID</th>\n",
       "      <th>INTPTLAT</th>\n",
       "      <th>INTPTLON</th>\n",
       "      <th>LSAD</th>\n",
       "      <th>MTFCC</th>\n",
       "      <th>NAME</th>\n",
       "      <th>REGION</th>\n",
       "      <th>STATEFP</th>\n",
       "      <th>STATENS</th>\n",
       "      <th>STUSPS</th>\n",
       "    </tr>\n",
       "  </thead>\n",
       "  <tbody>\n",
       "    <tr>\n",
       "      <th>0</th>\n",
       "      <td>106802728188</td>\n",
       "      <td>2350123465</td>\n",
       "      <td>6</td>\n",
       "      <td>A</td>\n",
       "      <td>47</td>\n",
       "      <td>+35.8608030</td>\n",
       "      <td>-086.3499896</td>\n",
       "      <td>00</td>\n",
       "      <td>G4000</td>\n",
       "      <td>Tennessee</td>\n",
       "      <td>3</td>\n",
       "      <td>47</td>\n",
       "      <td>01325873</td>\n",
       "      <td>TN</td>\n",
       "    </tr>\n",
       "    <tr>\n",
       "      <th>1</th>\n",
       "      <td>676653171537</td>\n",
       "      <td>19006305260</td>\n",
       "      <td>7</td>\n",
       "      <td>A</td>\n",
       "      <td>48</td>\n",
       "      <td>+31.4347032</td>\n",
       "      <td>-099.2818238</td>\n",
       "      <td>00</td>\n",
       "      <td>G4000</td>\n",
       "      <td>Texas</td>\n",
       "      <td>3</td>\n",
       "      <td>48</td>\n",
       "      <td>01779801</td>\n",
       "      <td>TX</td>\n",
       "    </tr>\n",
       "  </tbody>\n",
       "</table>\n",
       "</div>"
      ],
      "text/plain": [
       "          ALAND       AWATER DIVISION FUNCSTAT GEOID     INTPTLAT  \\\n",
       "0  106802728188   2350123465        6        A    47  +35.8608030   \n",
       "1  676653171537  19006305260        7        A    48  +31.4347032   \n",
       "\n",
       "       INTPTLON LSAD  MTFCC       NAME REGION STATEFP   STATENS STUSPS  \n",
       "0  -086.3499896   00  G4000  Tennessee      3      47  01325873     TN  \n",
       "1  -099.2818238   00  G4000      Texas      3      48  01779801     TX  "
      ]
     },
     "execution_count": 89,
     "metadata": {},
     "output_type": "execute_result"
    }
   ],
   "source": [
    "# Converting to pandas dataframe\n",
    "geemap.ee_to_df(fc) # Convert to geopandas dataframe"
   ]
  },
  {
   "cell_type": "code",
   "execution_count": null,
   "id": "6ee0da5e",
   "metadata": {},
   "outputs": [
    {
     "data": {
      "text/html": [
       "\n",
       "            <style>\n",
       "                .geemap-dark {\n",
       "                    --jp-widgets-color: white;\n",
       "                    --jp-widgets-label-color: white;\n",
       "                    --jp-ui-font-color1: white;\n",
       "                    --jp-layout-color2: #454545;\n",
       "                    background-color: #383838;\n",
       "                }\n",
       "\n",
       "                .geemap-dark .jupyter-button {\n",
       "                    --jp-layout-color3: #383838;\n",
       "                }\n",
       "\n",
       "                .geemap-colab {\n",
       "                    background-color: var(--colab-primary-surface-color, white);\n",
       "                }\n",
       "\n",
       "                .geemap-colab .jupyter-button {\n",
       "                    --jp-layout-color3: var(--colab-primary-surface-color, white);\n",
       "                }\n",
       "            </style>\n",
       "            "
      ],
      "text/plain": [
       "<IPython.core.display.HTML object>"
      ]
     },
     "metadata": {},
     "output_type": "display_data"
    }
   ],
   "source": [
    "# if you draw a polygon on map and run this code it will receive the poygon as a feature collection\n",
    "# select by location\n",
    "region = m.user_roi\n",
    "if region is None:\n",
    "    region = ee.Geometry.BBox(-88.40, 29.88, -77.90, 35.39)\n",
    "\n",
    "fc = ee.FeatureCollection(\"TIGER/2018/States\").filterBounds(region)\n",
    "m.add_layer(fc, {}, \"Southeastern U.S.\")\n",
    "m.center_object(fc, 6)"
   ]
  },
  {
   "cell_type": "markdown",
   "id": "a7ce57d3",
   "metadata": {},
   "source": [
    "# Using Feature Collection to clip an image."
   ]
  },
  {
   "cell_type": "code",
   "execution_count": null,
   "id": "ffa5244b",
   "metadata": {},
   "outputs": [
    {
     "data": {
      "text/html": [
       "\n",
       "            <style>\n",
       "                .geemap-dark {\n",
       "                    --jp-widgets-color: white;\n",
       "                    --jp-widgets-label-color: white;\n",
       "                    --jp-ui-font-color1: white;\n",
       "                    --jp-layout-color2: #454545;\n",
       "                    background-color: #383838;\n",
       "                }\n",
       "\n",
       "                .geemap-dark .jupyter-button {\n",
       "                    --jp-layout-color3: #383838;\n",
       "                }\n",
       "\n",
       "                .geemap-colab {\n",
       "                    background-color: var(--colab-primary-surface-color, white);\n",
       "                }\n",
       "\n",
       "                .geemap-colab .jupyter-button {\n",
       "                    --jp-layout-color3: var(--colab-primary-surface-color, white);\n",
       "                }\n",
       "            </style>\n",
       "            "
      ],
      "text/plain": [
       "<IPython.core.display.HTML object>"
      ]
     },
     "metadata": {},
     "output_type": "display_data"
    },
    {
     "data": {
      "application/vnd.jupyter.widget-view+json": {
       "model_id": "7af08e28939e40dabd286b9c921040f9",
       "version_major": 2,
       "version_minor": 0
      },
      "text/plain": [
       "Map(center=[29.353755316316565, 68.69347442477485], controls=(WidgetControl(options=['position', 'transparent_…"
      ]
     },
     "execution_count": 11,
     "metadata": {},
     "output_type": "execute_result"
    }
   ],
   "source": [
    "m = geemap.Map()\n",
    "landsat7 = ee.Image('LANDSAT/LE7_TOA_5YEAR/1999_2003')\n",
    "countries = ee.FeatureCollection('FAO/GAUL_SIMPLIFIED_500m/2015/level0')\n",
    "fc = countries.filter(ee.Filter.eq('ADM0_NAME', 'Pakistan'))\n",
    "image = landsat7.clip(fc) # it will union all the features \n",
    "#image = landsat7.clipToCollection(fc) # This is also correct will preserve the original image\n",
    "\n",
    "vis = {\n",
    "    'bands': ['B4', 'B3', 'B2'],\n",
    "    'min': 20,\n",
    "    'max': 200,\n",
    "    'gamma': 2.0\n",
    "}\n",
    "\n",
    "style = {'color': 'red', 'width': 2, 'fillColor': '00000000'}\n",
    "m.add_layer(fc.style(**style), {}, 'Pakistan')\n",
    "m.add_layer(image, vis, 'Landsat 7')\n",
    "m.center_object(fc, 6)\n",
    "m"
   ]
  },
  {
   "cell_type": "markdown",
   "id": "17046fa0",
   "metadata": {},
   "source": [
    "# Area of Interest\n",
    "The are multiple ways to get aoi\n",
    "by drawing point, line or polygon on the map and then \n",
    "m.user_roi >>> will provide you coordinates whether point, polygon or line.\n",
    "similarly we have m.user_rois and m.user_coords.\n"
   ]
  },
  {
   "cell_type": "markdown",
   "id": "1c629092",
   "metadata": {},
   "source": [
    "# 17.9.1 Using the Plotting Tool"
   ]
  },
  {
   "cell_type": "code",
   "execution_count": 11,
   "id": "c417ff92",
   "metadata": {},
   "outputs": [
    {
     "data": {
      "text/html": [
       "\n",
       "            <style>\n",
       "                .geemap-dark {\n",
       "                    --jp-widgets-color: white;\n",
       "                    --jp-widgets-label-color: white;\n",
       "                    --jp-ui-font-color1: white;\n",
       "                    --jp-layout-color2: #454545;\n",
       "                    background-color: #383838;\n",
       "                }\n",
       "\n",
       "                .geemap-dark .jupyter-button {\n",
       "                    --jp-layout-color3: #383838;\n",
       "                }\n",
       "\n",
       "                .geemap-colab {\n",
       "                    background-color: var(--colab-primary-surface-color, white);\n",
       "                }\n",
       "\n",
       "                .geemap-colab .jupyter-button {\n",
       "                    --jp-layout-color3: var(--colab-primary-surface-color, white);\n",
       "                }\n",
       "            </style>\n",
       "            "
      ],
      "text/plain": [
       "<IPython.core.display.HTML object>"
      ]
     },
     "metadata": {},
     "output_type": "display_data"
    },
    {
     "data": {
      "application/vnd.jupyter.widget-view+json": {
       "model_id": "2f561884e1f44bd3a2671dbd0bb6b93c",
       "version_major": 2,
       "version_minor": 0
      },
      "text/plain": [
       "Map(center=[40, -100], controls=(WidgetControl(options=['position', 'transparent_bg'], widget=SearchDataGUI(ch…"
      ]
     },
     "execution_count": 11,
     "metadata": {},
     "output_type": "execute_result"
    }
   ],
   "source": [
    "m = geemap.Map(center = ( [40,-100]), zoom = 4)\n",
    "landsat7 = ee.Image('LANDSAT/LE7_TOA_5YEAR/1999_2003').select(\n",
    "    ['B1', 'B2', 'B3', 'B4', 'B5', 'B7']\n",
    ")\n",
    "landsat_vis = {\n",
    "    'bands': ['B4', 'B3', 'B2'],\n",
    "    'gamma': 1.4\n",
    "}\n",
    "m.add_layer(landsat7, landsat_vis, 'Landsat 7')\n",
    "\n",
    "hyperion = ee.ImageCollection('EO1/HYPERION') # Hyperion is a hyperspectral sensor on the EO-1 satellite\n",
    "hyperion = hyperion.filterDate('2016-01-01', '2017-01-01')\n",
    "\n",
    "hyperion_vis = {\n",
    "    'min' : 1000.0,\n",
    "    'max' : 14000.0,\n",
    "    'gamma': 2.5,\n",
    "}\n",
    "\n",
    "m.add_layer(hyperion, hyperion_vis, 'Hyperion')\n",
    "m.add_plot_gui()\n",
    "m"
   ]
  },
  {
   "cell_type": "code",
   "execution_count": 12,
   "id": "72e9b22a",
   "metadata": {},
   "outputs": [
    {
     "data": {
      "text/html": [
       "\n",
       "            <style>\n",
       "                .geemap-dark {\n",
       "                    --jp-widgets-color: white;\n",
       "                    --jp-widgets-label-color: white;\n",
       "                    --jp-ui-font-color1: white;\n",
       "                    --jp-layout-color2: #454545;\n",
       "                    background-color: #383838;\n",
       "                }\n",
       "\n",
       "                .geemap-dark .jupyter-button {\n",
       "                    --jp-layout-color3: #383838;\n",
       "                }\n",
       "\n",
       "                .geemap-colab {\n",
       "                    background-color: var(--colab-primary-surface-color, white);\n",
       "                }\n",
       "\n",
       "                .geemap-colab .jupyter-button {\n",
       "                    --jp-layout-color3: var(--colab-primary-surface-color, white);\n",
       "                }\n",
       "            </style>\n",
       "            "
      ],
      "text/plain": [
       "<IPython.core.display.HTML object>"
      ]
     },
     "metadata": {},
     "output_type": "display_data"
    }
   ],
   "source": [
    "m.set_plot_options(add_marker_cluster=True, overlay=True)"
   ]
  },
  {
   "cell_type": "markdown",
   "id": "c5237a7c",
   "metadata": {},
   "source": [
    "# 17.9.2 Legends\n"
   ]
  },
  {
   "cell_type": "code",
   "execution_count": null,
   "id": "59913846",
   "metadata": {},
   "outputs": [
    {
     "data": {
      "text/html": [
       "\n",
       "            <style>\n",
       "                .geemap-dark {\n",
       "                    --jp-widgets-color: white;\n",
       "                    --jp-widgets-label-color: white;\n",
       "                    --jp-ui-font-color1: white;\n",
       "                    --jp-layout-color2: #454545;\n",
       "                    background-color: #383838;\n",
       "                }\n",
       "\n",
       "                .geemap-dark .jupyter-button {\n",
       "                    --jp-layout-color3: #383838;\n",
       "                }\n",
       "\n",
       "                .geemap-colab {\n",
       "                    background-color: var(--colab-primary-surface-color, white);\n",
       "                }\n",
       "\n",
       "                .geemap-colab .jupyter-button {\n",
       "                    --jp-layout-color3: var(--colab-primary-surface-color, white);\n",
       "                }\n",
       "            </style>\n",
       "            "
      ],
      "text/plain": [
       "<IPython.core.display.HTML object>"
      ]
     },
     "metadata": {},
     "output_type": "display_data"
    },
    {
     "data": {
      "application/vnd.jupyter.widget-view+json": {
       "model_id": "7cabc9bba7184134a29a4b244e53f7e1",
       "version_major": 2,
       "version_minor": 0
      },
      "text/plain": [
       "Map(center=[40, -100], controls=(WidgetControl(options=['position', 'transparent_bg'], widget=SearchDataGUI(ch…"
      ]
     },
     "execution_count": 19,
     "metadata": {},
     "output_type": "execute_result"
    }
   ],
   "source": [
    "# NLCD 2021 is addes as base map and if you use the inspector toll it wll not give you pixel values.\n",
    "m = geemap.Map(center = ( [40,-100]), zoom = 4)\n",
    "m.add_basemap('Esri.WorldImagery')\n",
    "m.add_basemap(\"NLCD 2021 CONUS Land Cover\")\n",
    "m.add_legend(builtin_legend='NLCD',max_width=300, height='350px', position='bottomright')\n",
    "m"
   ]
  },
  {
   "cell_type": "code",
   "execution_count": 22,
   "id": "0ad0d4e0",
   "metadata": {},
   "outputs": [
    {
     "data": {
      "text/html": [
       "\n",
       "            <style>\n",
       "                .geemap-dark {\n",
       "                    --jp-widgets-color: white;\n",
       "                    --jp-widgets-label-color: white;\n",
       "                    --jp-ui-font-color1: white;\n",
       "                    --jp-layout-color2: #454545;\n",
       "                    background-color: #383838;\n",
       "                }\n",
       "\n",
       "                .geemap-dark .jupyter-button {\n",
       "                    --jp-layout-color3: #383838;\n",
       "                }\n",
       "\n",
       "                .geemap-colab {\n",
       "                    background-color: var(--colab-primary-surface-color, white);\n",
       "                }\n",
       "\n",
       "                .geemap-colab .jupyter-button {\n",
       "                    --jp-layout-color3: var(--colab-primary-surface-color, white);\n",
       "                }\n",
       "            </style>\n",
       "            "
      ],
      "text/plain": [
       "<IPython.core.display.HTML object>"
      ]
     },
     "metadata": {},
     "output_type": "display_data"
    },
    {
     "data": {
      "application/vnd.jupyter.widget-view+json": {
       "model_id": "2386ce3676b246f49ae6155b2871b74c",
       "version_major": 2,
       "version_minor": 0
      },
      "text/plain": [
       "Map(center=[40, -100], controls=(WidgetControl(options=['position', 'transparent_bg'], widget=SearchDataGUI(ch…"
      ]
     },
     "execution_count": 22,
     "metadata": {},
     "output_type": "execute_result"
    }
   ],
   "source": [
    "# Adding NLCD 2021 data directly from google earth engine data catalog\n",
    "# Using inspector tool it will give you pixel values\n",
    "m = geemap.Map(center = ( [40,-100]), zoom = 4)\n",
    "m.add_basemap('Esri.WorldImagery')\n",
    "nlcd = ee.Image(\"USGS/NLCD_RELEASES/2021_REL/NLCD/2021\")\n",
    "landcover = nlcd.select('landcover')\n",
    "\n",
    "m.add_layer(landcover, {},'NLCD Land Cover 2021')\n",
    "m.add_legend(builtin_legend='NLCD',title='NLCD 2021', height='350px')\n",
    "m "
   ]
  },
  {
   "cell_type": "code",
   "execution_count": null,
   "id": "d756d448",
   "metadata": {},
   "outputs": [
    {
     "data": {
      "text/html": [
       "\n",
       "            <style>\n",
       "                .geemap-dark {\n",
       "                    --jp-widgets-color: white;\n",
       "                    --jp-widgets-label-color: white;\n",
       "                    --jp-ui-font-color1: white;\n",
       "                    --jp-layout-color2: #454545;\n",
       "                    background-color: #383838;\n",
       "                }\n",
       "\n",
       "                .geemap-dark .jupyter-button {\n",
       "                    --jp-layout-color3: #383838;\n",
       "                }\n",
       "\n",
       "                .geemap-colab {\n",
       "                    background-color: var(--colab-primary-surface-color, white);\n",
       "                }\n",
       "\n",
       "                .geemap-colab .jupyter-button {\n",
       "                    --jp-layout-color3: var(--colab-primary-surface-color, white);\n",
       "                }\n",
       "            </style>\n",
       "            "
      ],
      "text/plain": [
       "<IPython.core.display.HTML object>"
      ]
     },
     "metadata": {},
     "output_type": "display_data"
    },
    {
     "data": {
      "application/vnd.jupyter.widget-view+json": {
       "model_id": "77a4c74e54fe406788abd0079eee31ce",
       "version_major": 2,
       "version_minor": 0
      },
      "text/plain": [
       "Map(center=[40, -100], controls=(WidgetControl(options=['position', 'transparent_bg'], widget=SearchDataGUI(ch…"
      ]
     },
     "execution_count": 24,
     "metadata": {},
     "output_type": "execute_result"
    }
   ],
   "source": [
    "# Using Custom Legend Dictionary\n",
    "m = geemap.Map(center=[40, -100], zoom=4)\n",
    "m.add_basemap(\"Esri.WorldImagery\")\n",
    "\n",
    "legend_dict = {\n",
    "    \"11 Open Water\": \"466b9f\",\n",
    "    \"12 Perennial Ice/Snow\": \"d1def8\",\n",
    "    \"21 Developed, Open Space\": \"dec5c5\",\n",
    "    \"22 Developed, Low Intensity\": \"d99282\",\n",
    "    \"23 Developed, Medium Intensity\": \"eb0000\",\n",
    "    \"24 Developed High Intensity\": \"ab0000\",\n",
    "    \"31 Barren Land (Rock/Sand/Clay)\": \"b3ac9f\",\n",
    "    \"41 Deciduous Forest\": \"68ab5f\",\n",
    "    \"42 Evergreen Forest\": \"1c5f2c\",\n",
    "    \"43 Mixed Forest\": \"b5c58f\",\n",
    "    \"51 Dwarf Scrub\": \"af963c\",\n",
    "    \"52 Shrub/Scrub\": \"ccb879\",\n",
    "    \"71 Grassland/Herbaceous\": \"dfdfc2\",\n",
    "    \"72 Sedge/Herbaceous\": \"d1d182\",\n",
    "    \"73 Lichens\": \"a3cc51\",\n",
    "    \"74 Moss\": \"82ba9e\",\n",
    "    \"81 Pasture/Hay\": \"dcd939\",\n",
    "    \"82 Cultivated Crops\": \"ab6c28\",\n",
    "    \"90 Woody Wetlands\": \"b8d9eb\",\n",
    "    \"95 Emergent Herbaceous Wetlands\": \"6c9fb8\",\n",
    "}\n",
    "\n",
    "nlcd = ee.Image(\"USGS/NLCD_RELEASES/2021_REL/NLCD/2021\")\n",
    "landcover = nlcd.select(\"landcover\")\n",
    "\n",
    "m.add_layer(landcover, {}, \"NLCD Land Cover 2021\")\n",
    "m.add_legend(title=\"NLCD Land Cover Classification\", legend_dict=legend_dict,shape_type='circle')\n",
    "m"
   ]
  },
  {
   "cell_type": "markdown",
   "id": "6f83a60e",
   "metadata": {},
   "source": [
    "# Video 14 Earth Engine Data Analysis"
   ]
  },
  {
   "cell_type": "markdown",
   "id": "efe9ef0b",
   "metadata": {},
   "source": [
    "# 17.9.3 Color Bar"
   ]
  },
  {
   "cell_type": "code",
   "execution_count": 30,
   "id": "fe9d2e68",
   "metadata": {},
   "outputs": [
    {
     "data": {
      "text/html": [
       "\n",
       "            <style>\n",
       "                .geemap-dark {\n",
       "                    --jp-widgets-color: white;\n",
       "                    --jp-widgets-label-color: white;\n",
       "                    --jp-ui-font-color1: white;\n",
       "                    --jp-layout-color2: #454545;\n",
       "                    background-color: #383838;\n",
       "                }\n",
       "\n",
       "                .geemap-dark .jupyter-button {\n",
       "                    --jp-layout-color3: #383838;\n",
       "                }\n",
       "\n",
       "                .geemap-colab {\n",
       "                    background-color: var(--colab-primary-surface-color, white);\n",
       "                }\n",
       "\n",
       "                .geemap-colab .jupyter-button {\n",
       "                    --jp-layout-color3: var(--colab-primary-surface-color, white);\n",
       "                }\n",
       "            </style>\n",
       "            "
      ],
      "text/plain": [
       "<IPython.core.display.HTML object>"
      ]
     },
     "metadata": {},
     "output_type": "display_data"
    },
    {
     "data": {
      "application/vnd.jupyter.widget-view+json": {
       "model_id": "f137e960aa844980ad4eda2beabcfc5a",
       "version_major": 2,
       "version_minor": 0
      },
      "text/plain": [
       "Map(center=[0, 0], controls=(WidgetControl(options=['position', 'transparent_bg'], widget=SearchDataGUI(childr…"
      ]
     },
     "execution_count": 30,
     "metadata": {},
     "output_type": "execute_result"
    }
   ],
   "source": [
    "m = geemap.Map()\n",
    "dem = ee.Image('USGS/SRTMGL1_003')\n",
    "vis_params = {\n",
    "    \"min\": 0,\n",
    "    \"max\": 4000,\n",
    "   # \"palette\": [\"006633\", \"E5FFCC\", \"662A00\", \"D8D8D8\", \"F5F5F5\"],\n",
    "    'palette': 'coolwarm',\n",
    "}\n",
    "m.add_layer(dem, vis_params, 'STEM DEM')\n",
    "m.add_colorbar(vis_params,label = 'Elevation (m)',orientation='vertical' , layer_name='STEM DEM')\n",
    "m"
   ]
  },
  {
   "cell_type": "markdown",
   "id": "c79bbac7",
   "metadata": {},
   "source": [
    "# Split Map and Linked Maps"
   ]
  },
  {
   "cell_type": "code",
   "execution_count": 35,
   "id": "a15dd822",
   "metadata": {},
   "outputs": [
    {
     "data": {
      "text/html": [
       "\n",
       "            <style>\n",
       "                .geemap-dark {\n",
       "                    --jp-widgets-color: white;\n",
       "                    --jp-widgets-label-color: white;\n",
       "                    --jp-ui-font-color1: white;\n",
       "                    --jp-layout-color2: #454545;\n",
       "                    background-color: #383838;\n",
       "                }\n",
       "\n",
       "                .geemap-dark .jupyter-button {\n",
       "                    --jp-layout-color3: #383838;\n",
       "                }\n",
       "\n",
       "                .geemap-colab {\n",
       "                    background-color: var(--colab-primary-surface-color, white);\n",
       "                }\n",
       "\n",
       "                .geemap-colab .jupyter-button {\n",
       "                    --jp-layout-color3: var(--colab-primary-surface-color, white);\n",
       "                }\n",
       "            </style>\n",
       "            "
      ],
      "text/plain": [
       "<IPython.core.display.HTML object>"
      ]
     },
     "metadata": {},
     "output_type": "display_data"
    },
    {
     "data": {
      "application/vnd.jupyter.widget-view+json": {
       "model_id": "4c4287b691904d47be3d739946734af1",
       "version_major": 2,
       "version_minor": 0
      },
      "text/plain": [
       "GridspecLayout(children=(Output(layout=Layout(grid_area='widget001')), Output(layout=Layout(grid_area='widget0…"
      ]
     },
     "execution_count": 35,
     "metadata": {},
     "output_type": "execute_result"
    }
   ],
   "source": [
    "image = (\n",
    "    ee.ImageCollection(\"COPERNICUS/S2_SR_HARMONIZED\")\n",
    "    .filterDate(\"2024-07-01\", \"2024-10-01\")\n",
    "    .filter(ee.Filter.lt(\"CLOUDY_PIXEL_PERCENTAGE\", 5))\n",
    "    .map(lambda img: img.divide(10000))\n",
    "    .median()\n",
    ")\n",
    "\n",
    "vis_params = [\n",
    "    {\"bands\": [\"B4\", \"B3\", \"B2\"], \"min\": 0, \"max\": 0.3, \"gamma\": 1.3},\n",
    "    {\"bands\": [\"B8\", \"B11\", \"B4\"], \"min\": 0, \"max\": 0.3, \"gamma\": 1.3},\n",
    "    {\"bands\": [\"B8\", \"B4\", \"B3\"], \"min\": 0, \"max\": 0.3, \"gamma\": 1.3},\n",
    "    {\"bands\": [\"B12\", \"B12\", \"B4\"], \"min\": 0, \"max\": 0.3, \"gamma\": 1.3},\n",
    "]\n",
    "\n",
    "labels = [\n",
    "    \"Natural Color (B4/B3/B2)\",\n",
    "    \"Land/Water (B8/B11/B4)\",\n",
    "    \"Color Infrared (B8/B4/B3)\",\n",
    "    \"Vegetation (B12/B11/B4)\",\n",
    "]\n",
    "\n",
    "geemap.linked_maps(\n",
    "    rows=2,\n",
    "    cols=2,\n",
    "    height=\"300px\",\n",
    "    center=[35.959111, -83.909463],\n",
    "    zoom=12,\n",
    "    ee_objects=[image],\n",
    "    vis_params=vis_params,\n",
    "    labels=labels,\n",
    "    label_position=\"topright\",\n",
    ")"
   ]
  },
  {
   "cell_type": "markdown",
   "id": "695e3a40",
   "metadata": {},
   "source": [
    "# Split Panel Map"
   ]
  },
  {
   "cell_type": "code",
   "execution_count": 33,
   "id": "d4bd8711",
   "metadata": {},
   "outputs": [
    {
     "data": {
      "text/html": [
       "\n",
       "            <style>\n",
       "                .geemap-dark {\n",
       "                    --jp-widgets-color: white;\n",
       "                    --jp-widgets-label-color: white;\n",
       "                    --jp-ui-font-color1: white;\n",
       "                    --jp-layout-color2: #454545;\n",
       "                    background-color: #383838;\n",
       "                }\n",
       "\n",
       "                .geemap-dark .jupyter-button {\n",
       "                    --jp-layout-color3: #383838;\n",
       "                }\n",
       "\n",
       "                .geemap-colab {\n",
       "                    background-color: var(--colab-primary-surface-color, white);\n",
       "                }\n",
       "\n",
       "                .geemap-colab .jupyter-button {\n",
       "                    --jp-layout-color3: var(--colab-primary-surface-color, white);\n",
       "                }\n",
       "            </style>\n",
       "            "
      ],
      "text/plain": [
       "<IPython.core.display.HTML object>"
      ]
     },
     "metadata": {},
     "output_type": "display_data"
    },
    {
     "data": {
      "text/plain": [
       "['2001', '2004', '2006', '2008', '2011', '2013', '2016', '2019']"
      ]
     },
     "execution_count": 33,
     "metadata": {},
     "output_type": "execute_result"
    }
   ],
   "source": [
    "m = geemap.Map(center=[40, -100], zoom=4)\n",
    "collection = ee.ImageCollection('USGS/NLCD_RELEASES/2019_REL/NLCD').select('landcover')\n",
    "vis_params = {'bands': ['landcover']}\n",
    "years  = collection.aggregate_array('system:index').getInfo()\n",
    "years"
   ]
  },
  {
   "cell_type": "code",
   "execution_count": 34,
   "id": "e9ad0735",
   "metadata": {},
   "outputs": [
    {
     "data": {
      "text/html": [
       "\n",
       "            <style>\n",
       "                .geemap-dark {\n",
       "                    --jp-widgets-color: white;\n",
       "                    --jp-widgets-label-color: white;\n",
       "                    --jp-ui-font-color1: white;\n",
       "                    --jp-layout-color2: #454545;\n",
       "                    background-color: #383838;\n",
       "                }\n",
       "\n",
       "                .geemap-dark .jupyter-button {\n",
       "                    --jp-layout-color3: #383838;\n",
       "                }\n",
       "\n",
       "                .geemap-colab {\n",
       "                    background-color: var(--colab-primary-surface-color, white);\n",
       "                }\n",
       "\n",
       "                .geemap-colab .jupyter-button {\n",
       "                    --jp-layout-color3: var(--colab-primary-surface-color, white);\n",
       "                }\n",
       "            </style>\n",
       "            "
      ],
      "text/plain": [
       "<IPython.core.display.HTML object>"
      ]
     },
     "metadata": {},
     "output_type": "display_data"
    },
    {
     "data": {
      "application/vnd.jupyter.widget-view+json": {
       "model_id": "65d5924203924b6988de866c93dc2fcb",
       "version_major": 2,
       "version_minor": 0
      },
      "text/plain": [
       "Map(center=[40, -100], controls=(WidgetControl(options=['position', 'transparent_bg'], widget=Dropdown(layout=…"
      ]
     },
     "execution_count": 34,
     "metadata": {},
     "output_type": "execute_result"
    }
   ],
   "source": [
    "m.ts_inspector(\n",
    "    left_ts=collection,\n",
    "    right_ts=collection,\n",
    "    left_names=years,\n",
    "    right_names=years,\n",
    "    left_vis=vis_params,\n",
    "    right_vis=vis_params,\n",
    "    width=\"80px\",\n",
    ")\n",
    "m"
   ]
  },
  {
   "cell_type": "markdown",
   "id": "dcc77e22",
   "metadata": {},
   "source": [
    "# 17.9.7 Time Slider"
   ]
  },
  {
   "cell_type": "code",
   "execution_count": 36,
   "id": "df4f50ce",
   "metadata": {},
   "outputs": [
    {
     "data": {
      "text/html": [
       "\n",
       "            <style>\n",
       "                .geemap-dark {\n",
       "                    --jp-widgets-color: white;\n",
       "                    --jp-widgets-label-color: white;\n",
       "                    --jp-ui-font-color1: white;\n",
       "                    --jp-layout-color2: #454545;\n",
       "                    background-color: #383838;\n",
       "                }\n",
       "\n",
       "                .geemap-dark .jupyter-button {\n",
       "                    --jp-layout-color3: #383838;\n",
       "                }\n",
       "\n",
       "                .geemap-colab {\n",
       "                    background-color: var(--colab-primary-surface-color, white);\n",
       "                }\n",
       "\n",
       "                .geemap-colab .jupyter-button {\n",
       "                    --jp-layout-color3: var(--colab-primary-surface-color, white);\n",
       "                }\n",
       "            </style>\n",
       "            "
      ],
      "text/plain": [
       "<IPython.core.display.HTML object>"
      ]
     },
     "metadata": {},
     "output_type": "display_data"
    },
    {
     "data": {
      "application/vnd.jupyter.widget-view+json": {
       "model_id": "c95c3a2f8b7648479205535b00ef8a48",
       "version_major": 2,
       "version_minor": 0
      },
      "text/plain": [
       "Map(center=[0, 0], controls=(WidgetControl(options=['position', 'transparent_bg'], widget=SearchDataGUI(childr…"
      ]
     },
     "execution_count": 36,
     "metadata": {},
     "output_type": "execute_result"
    }
   ],
   "source": [
    "m = geemap.Map()\n",
    "\n",
    "collection = (\n",
    "    ee.ImageCollection(\"MODIS/MCD43A4_006_NDVI\")\n",
    "    .filter(ee.Filter.date(\"2018-06-01\", \"2018-07-01\"))\n",
    "    .select(\"NDVI\")\n",
    ")\n",
    "vis_params = {\n",
    "    \"min\": 0.0,\n",
    "    \"max\": 1.0,\n",
    "    \"palette\": \"ndvi\",\n",
    "}\n",
    "\n",
    "m.add_time_slider(collection, vis_params, time_interval=2)\n",
    "m"
   ]
  },
  {
   "cell_type": "markdown",
   "id": "ade8ea57",
   "metadata": {},
   "source": [
    "# Time Slider for Weather DAta 24 hours"
   ]
  },
  {
   "cell_type": "code",
   "execution_count": 37,
   "id": "c4744cb8",
   "metadata": {},
   "outputs": [
    {
     "data": {
      "text/html": [
       "\n",
       "            <style>\n",
       "                .geemap-dark {\n",
       "                    --jp-widgets-color: white;\n",
       "                    --jp-widgets-label-color: white;\n",
       "                    --jp-ui-font-color1: white;\n",
       "                    --jp-layout-color2: #454545;\n",
       "                    background-color: #383838;\n",
       "                }\n",
       "\n",
       "                .geemap-dark .jupyter-button {\n",
       "                    --jp-layout-color3: #383838;\n",
       "                }\n",
       "\n",
       "                .geemap-colab {\n",
       "                    background-color: var(--colab-primary-surface-color, white);\n",
       "                }\n",
       "\n",
       "                .geemap-colab .jupyter-button {\n",
       "                    --jp-layout-color3: var(--colab-primary-surface-color, white);\n",
       "                }\n",
       "            </style>\n",
       "            "
      ],
      "text/plain": [
       "<IPython.core.display.HTML object>"
      ]
     },
     "metadata": {},
     "output_type": "display_data"
    },
    {
     "data": {
      "application/vnd.jupyter.widget-view+json": {
       "model_id": "18fee7a1ddb14ecaa4b5e42e9ea1cf41",
       "version_major": 2,
       "version_minor": 0
      },
      "text/plain": [
       "Map(center=[0, 0], controls=(WidgetControl(options=['position', 'transparent_bg'], widget=SearchDataGUI(childr…"
      ]
     },
     "execution_count": 37,
     "metadata": {},
     "output_type": "execute_result"
    }
   ],
   "source": [
    "m = geemap.Map()\n",
    "\n",
    "collection = (\n",
    "    ee.ImageCollection(\"NOAA/GFS0P25\")\n",
    "    .filterDate(\"2018-12-22\", \"2018-12-23\")\n",
    "    .limit(24)\n",
    "    .select(\"temperature_2m_above_ground\")\n",
    ")\n",
    "\n",
    "vis_params = {\n",
    "    \"min\": -40.0,\n",
    "    \"max\": 35.0,\n",
    "    \"palette\": [\"blue\", \"purple\", \"cyan\", \"green\", \"yellow\", \"red\"],\n",
    "}\n",
    "\n",
    "labels = [str(n).zfill(2) + \":00\" for n in range(0, 24)]\n",
    "m.add_time_slider(collection, vis_params, labels=labels, time_interval=1, opacity=0.8)\n",
    "m"
   ]
  },
  {
   "cell_type": "code",
   "execution_count": 10,
   "id": "6dc007ef",
   "metadata": {},
   "outputs": [
    {
     "data": {
      "text/html": [
       "\n",
       "            <style>\n",
       "                .geemap-dark {\n",
       "                    --jp-widgets-color: white;\n",
       "                    --jp-widgets-label-color: white;\n",
       "                    --jp-ui-font-color1: white;\n",
       "                    --jp-layout-color2: #454545;\n",
       "                    background-color: #383838;\n",
       "                }\n",
       "\n",
       "                .geemap-dark .jupyter-button {\n",
       "                    --jp-layout-color3: #383838;\n",
       "                }\n",
       "\n",
       "                .geemap-colab {\n",
       "                    background-color: var(--colab-primary-surface-color, white);\n",
       "                }\n",
       "\n",
       "                .geemap-colab .jupyter-button {\n",
       "                    --jp-layout-color3: var(--colab-primary-surface-color, white);\n",
       "                }\n",
       "            </style>\n",
       "            "
      ],
      "text/plain": [
       "<IPython.core.display.HTML object>"
      ]
     },
     "metadata": {},
     "output_type": "display_data"
    },
    {
     "data": {
      "text/html": [
       "<div><style>:root {\n",
       "  --font-color-primary: var(--jp-content-font-color0, rgba(0, 0, 0, 1));\n",
       "  --font-color-secondary: var(--jp-content-font-color2, rgba(0, 0, 0, 0.7));\n",
       "  --font-color-accent: rgba(123, 31, 162, 1);\n",
       "  --border-color: var(--jp-border-color2, #e0e0e0);\n",
       "  --background-color: var(--jp-layout-color0, white);\n",
       "  --background-color-row-even: var(--jp-layout-color1, white);\n",
       "  --background-color-row-odd: var(--jp-layout-color2, #eeeeee);\n",
       "}\n",
       "\n",
       "html[theme=\"dark\"],\n",
       "body[data-theme=\"dark\"],\n",
       "body.vscode-dark {\n",
       "  --font-color-primary: rgba(255, 255, 255, 1);\n",
       "  --font-color-secondary: rgba(255, 255, 255, 0.7);\n",
       "  --font-color-accent: rgb(173, 132, 190);\n",
       "  --border-color: #2e2e2e;\n",
       "  --background-color: #111111;\n",
       "  --background-color-row-even: #111111;\n",
       "  --background-color-row-odd: #313131;\n",
       "}\n",
       "\n",
       ".eerepr {\n",
       "  padding: 1em;\n",
       "  line-height: 1.5em;\n",
       "  min-width: 300px;\n",
       "  max-width: 1200px;\n",
       "  overflow-y: scroll;\n",
       "  max-height: 600px;\n",
       "  border: 1px solid var(--border-color);\n",
       "  font-family: monospace;\n",
       "  font-size: 14px;\n",
       "}\n",
       "\n",
       ".eerepr li {\n",
       "  list-style-type: none;\n",
       "  margin: 0;\n",
       "}\n",
       "\n",
       ".eerepr ul {\n",
       "  padding-left: 1.5em !important;\n",
       "  margin: 0;\n",
       "}\n",
       "\n",
       ".eerepr > ul {\n",
       "  padding-left: 0 !important;\n",
       "}\n",
       "\n",
       ".eerepr summary {\n",
       "  color: var(--font-color-secondary);\n",
       "  cursor: pointer;\n",
       "  margin: 0;\n",
       "}\n",
       "\n",
       ".eerepr summary:hover {\n",
       "  color: var(--font-color-primary);\n",
       "  background-color: var(--background-color-row-odd)\n",
       "}\n",
       "\n",
       ".ee-k {\n",
       "  color: var(--font-color-accent);\n",
       "  margin-right: 6px;\n",
       "}\n",
       "\n",
       ".ee-v {\n",
       "  color: var(--font-color-primary);\n",
       "}\n",
       "\n",
       ".eerepr details > summary::before {\n",
       "  content: '▼';\n",
       "  display: inline-block;\n",
       "  margin-right: 6px;\n",
       "  transition: transform 0.2s;\n",
       "  transform: rotate(-90deg);\n",
       "}\n",
       "\n",
       ".eerepr details[open] > summary::before {\n",
       "  transform: rotate(0deg);\n",
       "}\n",
       "\n",
       ".eerepr details summary::-webkit-details-marker {\n",
       "  display:none;\n",
       "}\n",
       "\n",
       ".eerepr details summary {\n",
       "  list-style-type: none;\n",
       "}\n",
       "</style><div class='eerepr'><ul><li><details><summary>Image EO1/HYPERION/EO1H0010012012182110KF_SGS_01 (198 bands)</summary><ul><li><span class='ee-k'>type:</span><span class='ee-v'>Image</span></li><li><span class='ee-k'>id:</span><span class='ee-v'>EO1/HYPERION/EO1H0010012012182110KF_SGS_01</span></li><li><span class='ee-k'>version:</span><span class='ee-v'>1493666458404000.0</span></li><li><details><summary>bands: List (198 elements)</summary><ul><li><details><summary>0: \"B008\", signed int16, EPSG:32631, 2921x2041 px</summary><ul><li><span class='ee-k'>id:</span><span class='ee-v'>B008</span></li><li><span class='ee-k'>crs:</span><span class='ee-v'>EPSG:32631</span></li><li><details><summary>crs_transform: List (6 elements)</summary><ul><li><span class='ee-k'>0:</span><span class='ee-v'>29.989729544676482</span></li><li><span class='ee-k'>1:</span><span class='ee-v'>0</span></li><li><span class='ee-k'>2:</span><span class='ee-v'>495300</span></li><li><span class='ee-k'>3:</span><span class='ee-v'>0</span></li><li><span class='ee-k'>4:</span><span class='ee-v'>-29.98530132288094</span></li><li><span class='ee-k'>5:</span><span class='ee-v'>9027900</span></li></ul></details></li><li><details><summary>data_type: signed int16</summary><ul><li><span class='ee-k'>type:</span><span class='ee-v'>PixelType</span></li><li><span class='ee-k'>max:</span><span class='ee-v'>32767</span></li><li><span class='ee-k'>min:</span><span class='ee-v'>-32768</span></li><li><span class='ee-k'>precision:</span><span class='ee-v'>int</span></li></ul></details></li><li><details><summary>dimensions: [2921, 2041]</summary><ul><li><span class='ee-k'>0:</span><span class='ee-v'>2921</span></li><li><span class='ee-k'>1:</span><span class='ee-v'>2041</span></li></ul></details></li></ul></details></li><li><details><summary>1: \"B009\", signed int16, EPSG:32631, 2921x2041 px</summary><ul><li><span class='ee-k'>id:</span><span class='ee-v'>B009</span></li><li><span class='ee-k'>crs:</span><span class='ee-v'>EPSG:32631</span></li><li><details><summary>crs_transform: List (6 elements)</summary><ul><li><span class='ee-k'>0:</span><span class='ee-v'>29.989729544676482</span></li><li><span class='ee-k'>1:</span><span class='ee-v'>0</span></li><li><span class='ee-k'>2:</span><span class='ee-v'>495300</span></li><li><span class='ee-k'>3:</span><span class='ee-v'>0</span></li><li><span class='ee-k'>4:</span><span class='ee-v'>-29.98530132288094</span></li><li><span class='ee-k'>5:</span><span class='ee-v'>9027900</span></li></ul></details></li><li><details><summary>data_type: signed int16</summary><ul><li><span class='ee-k'>type:</span><span class='ee-v'>PixelType</span></li><li><span class='ee-k'>max:</span><span class='ee-v'>32767</span></li><li><span class='ee-k'>min:</span><span class='ee-v'>-32768</span></li><li><span class='ee-k'>precision:</span><span class='ee-v'>int</span></li></ul></details></li><li><details><summary>dimensions: [2921, 2041]</summary><ul><li><span class='ee-k'>0:</span><span class='ee-v'>2921</span></li><li><span class='ee-k'>1:</span><span class='ee-v'>2041</span></li></ul></details></li></ul></details></li><li><details><summary>2: \"B010\", signed int16, EPSG:32631, 2921x2041 px</summary><ul><li><span class='ee-k'>id:</span><span class='ee-v'>B010</span></li><li><span class='ee-k'>crs:</span><span class='ee-v'>EPSG:32631</span></li><li><details><summary>crs_transform: List (6 elements)</summary><ul><li><span class='ee-k'>0:</span><span class='ee-v'>29.989729544676482</span></li><li><span class='ee-k'>1:</span><span class='ee-v'>0</span></li><li><span class='ee-k'>2:</span><span class='ee-v'>495300</span></li><li><span class='ee-k'>3:</span><span class='ee-v'>0</span></li><li><span class='ee-k'>4:</span><span class='ee-v'>-29.98530132288094</span></li><li><span class='ee-k'>5:</span><span class='ee-v'>9027900</span></li></ul></details></li><li><details><summary>data_type: signed int16</summary><ul><li><span class='ee-k'>type:</span><span class='ee-v'>PixelType</span></li><li><span class='ee-k'>max:</span><span class='ee-v'>32767</span></li><li><span class='ee-k'>min:</span><span class='ee-v'>-32768</span></li><li><span class='ee-k'>precision:</span><span class='ee-v'>int</span></li></ul></details></li><li><details><summary>dimensions: [2921, 2041]</summary><ul><li><span class='ee-k'>0:</span><span class='ee-v'>2921</span></li><li><span class='ee-k'>1:</span><span class='ee-v'>2041</span></li></ul></details></li></ul></details></li><li><details><summary>3: \"B011\", signed int16, EPSG:32631, 2921x2041 px</summary><ul><li><span class='ee-k'>id:</span><span class='ee-v'>B011</span></li><li><span class='ee-k'>crs:</span><span class='ee-v'>EPSG:32631</span></li><li><details><summary>crs_transform: List (6 elements)</summary><ul><li><span class='ee-k'>0:</span><span class='ee-v'>29.989729544676482</span></li><li><span class='ee-k'>1:</span><span class='ee-v'>0</span></li><li><span class='ee-k'>2:</span><span class='ee-v'>495300</span></li><li><span class='ee-k'>3:</span><span class='ee-v'>0</span></li><li><span class='ee-k'>4:</span><span class='ee-v'>-29.98530132288094</span></li><li><span class='ee-k'>5:</span><span class='ee-v'>9027900</span></li></ul></details></li><li><details><summary>data_type: signed int16</summary><ul><li><span class='ee-k'>type:</span><span class='ee-v'>PixelType</span></li><li><span class='ee-k'>max:</span><span class='ee-v'>32767</span></li><li><span class='ee-k'>min:</span><span class='ee-v'>-32768</span></li><li><span class='ee-k'>precision:</span><span class='ee-v'>int</span></li></ul></details></li><li><details><summary>dimensions: [2921, 2041]</summary><ul><li><span class='ee-k'>0:</span><span class='ee-v'>2921</span></li><li><span class='ee-k'>1:</span><span class='ee-v'>2041</span></li></ul></details></li></ul></details></li><li><details><summary>4: \"B012\", signed int16, EPSG:32631, 2921x2041 px</summary><ul><li><span class='ee-k'>id:</span><span class='ee-v'>B012</span></li><li><span class='ee-k'>crs:</span><span class='ee-v'>EPSG:32631</span></li><li><details><summary>crs_transform: List (6 elements)</summary><ul><li><span class='ee-k'>0:</span><span class='ee-v'>29.989729544676482</span></li><li><span class='ee-k'>1:</span><span class='ee-v'>0</span></li><li><span class='ee-k'>2:</span><span class='ee-v'>495300</span></li><li><span class='ee-k'>3:</span><span class='ee-v'>0</span></li><li><span class='ee-k'>4:</span><span class='ee-v'>-29.98530132288094</span></li><li><span class='ee-k'>5:</span><span class='ee-v'>9027900</span></li></ul></details></li><li><details><summary>data_type: signed int16</summary><ul><li><span class='ee-k'>type:</span><span class='ee-v'>PixelType</span></li><li><span class='ee-k'>max:</span><span class='ee-v'>32767</span></li><li><span class='ee-k'>min:</span><span class='ee-v'>-32768</span></li><li><span class='ee-k'>precision:</span><span class='ee-v'>int</span></li></ul></details></li><li><details><summary>dimensions: [2921, 2041]</summary><ul><li><span class='ee-k'>0:</span><span class='ee-v'>2921</span></li><li><span class='ee-k'>1:</span><span class='ee-v'>2041</span></li></ul></details></li></ul></details></li><li><details><summary>5: \"B013\", signed int16, EPSG:32631, 2921x2041 px</summary><ul><li><span class='ee-k'>id:</span><span class='ee-v'>B013</span></li><li><span class='ee-k'>crs:</span><span class='ee-v'>EPSG:32631</span></li><li><details><summary>crs_transform: List (6 elements)</summary><ul><li><span class='ee-k'>0:</span><span class='ee-v'>29.989729544676482</span></li><li><span class='ee-k'>1:</span><span class='ee-v'>0</span></li><li><span class='ee-k'>2:</span><span class='ee-v'>495300</span></li><li><span class='ee-k'>3:</span><span class='ee-v'>0</span></li><li><span class='ee-k'>4:</span><span class='ee-v'>-29.98530132288094</span></li><li><span class='ee-k'>5:</span><span class='ee-v'>9027900</span></li></ul></details></li><li><details><summary>data_type: signed int16</summary><ul><li><span class='ee-k'>type:</span><span class='ee-v'>PixelType</span></li><li><span class='ee-k'>max:</span><span class='ee-v'>32767</span></li><li><span class='ee-k'>min:</span><span class='ee-v'>-32768</span></li><li><span class='ee-k'>precision:</span><span class='ee-v'>int</span></li></ul></details></li><li><details><summary>dimensions: [2921, 2041]</summary><ul><li><span class='ee-k'>0:</span><span class='ee-v'>2921</span></li><li><span class='ee-k'>1:</span><span class='ee-v'>2041</span></li></ul></details></li></ul></details></li><li><details><summary>6: \"B014\", signed int16, EPSG:32631, 2921x2041 px</summary><ul><li><span class='ee-k'>id:</span><span class='ee-v'>B014</span></li><li><span class='ee-k'>crs:</span><span class='ee-v'>EPSG:32631</span></li><li><details><summary>crs_transform: List (6 elements)</summary><ul><li><span class='ee-k'>0:</span><span class='ee-v'>29.989729544676482</span></li><li><span class='ee-k'>1:</span><span class='ee-v'>0</span></li><li><span class='ee-k'>2:</span><span class='ee-v'>495300</span></li><li><span class='ee-k'>3:</span><span class='ee-v'>0</span></li><li><span class='ee-k'>4:</span><span class='ee-v'>-29.98530132288094</span></li><li><span class='ee-k'>5:</span><span class='ee-v'>9027900</span></li></ul></details></li><li><details><summary>data_type: signed int16</summary><ul><li><span class='ee-k'>type:</span><span class='ee-v'>PixelType</span></li><li><span class='ee-k'>max:</span><span class='ee-v'>32767</span></li><li><span class='ee-k'>min:</span><span class='ee-v'>-32768</span></li><li><span class='ee-k'>precision:</span><span class='ee-v'>int</span></li></ul></details></li><li><details><summary>dimensions: [2921, 2041]</summary><ul><li><span class='ee-k'>0:</span><span class='ee-v'>2921</span></li><li><span class='ee-k'>1:</span><span class='ee-v'>2041</span></li></ul></details></li></ul></details></li><li><details><summary>7: \"B015\", signed int16, EPSG:32631, 2921x2041 px</summary><ul><li><span class='ee-k'>id:</span><span class='ee-v'>B015</span></li><li><span class='ee-k'>crs:</span><span class='ee-v'>EPSG:32631</span></li><li><details><summary>crs_transform: List (6 elements)</summary><ul><li><span class='ee-k'>0:</span><span class='ee-v'>29.989729544676482</span></li><li><span class='ee-k'>1:</span><span class='ee-v'>0</span></li><li><span class='ee-k'>2:</span><span class='ee-v'>495300</span></li><li><span class='ee-k'>3:</span><span class='ee-v'>0</span></li><li><span class='ee-k'>4:</span><span class='ee-v'>-29.98530132288094</span></li><li><span class='ee-k'>5:</span><span class='ee-v'>9027900</span></li></ul></details></li><li><details><summary>data_type: signed int16</summary><ul><li><span class='ee-k'>type:</span><span class='ee-v'>PixelType</span></li><li><span class='ee-k'>max:</span><span class='ee-v'>32767</span></li><li><span class='ee-k'>min:</span><span class='ee-v'>-32768</span></li><li><span class='ee-k'>precision:</span><span class='ee-v'>int</span></li></ul></details></li><li><details><summary>dimensions: [2921, 2041]</summary><ul><li><span class='ee-k'>0:</span><span class='ee-v'>2921</span></li><li><span class='ee-k'>1:</span><span class='ee-v'>2041</span></li></ul></details></li></ul></details></li><li><details><summary>8: \"B016\", signed int16, EPSG:32631, 2921x2041 px</summary><ul><li><span class='ee-k'>id:</span><span class='ee-v'>B016</span></li><li><span class='ee-k'>crs:</span><span class='ee-v'>EPSG:32631</span></li><li><details><summary>crs_transform: List (6 elements)</summary><ul><li><span class='ee-k'>0:</span><span class='ee-v'>29.989729544676482</span></li><li><span class='ee-k'>1:</span><span class='ee-v'>0</span></li><li><span class='ee-k'>2:</span><span class='ee-v'>495300</span></li><li><span class='ee-k'>3:</span><span class='ee-v'>0</span></li><li><span class='ee-k'>4:</span><span class='ee-v'>-29.98530132288094</span></li><li><span class='ee-k'>5:</span><span class='ee-v'>9027900</span></li></ul></details></li><li><details><summary>data_type: signed int16</summary><ul><li><span class='ee-k'>type:</span><span class='ee-v'>PixelType</span></li><li><span class='ee-k'>max:</span><span class='ee-v'>32767</span></li><li><span class='ee-k'>min:</span><span class='ee-v'>-32768</span></li><li><span class='ee-k'>precision:</span><span class='ee-v'>int</span></li></ul></details></li><li><details><summary>dimensions: [2921, 2041]</summary><ul><li><span class='ee-k'>0:</span><span class='ee-v'>2921</span></li><li><span class='ee-k'>1:</span><span class='ee-v'>2041</span></li></ul></details></li></ul></details></li><li><details><summary>9: \"B017\", signed int16, EPSG:32631, 2921x2041 px</summary><ul><li><span class='ee-k'>id:</span><span class='ee-v'>B017</span></li><li><span class='ee-k'>crs:</span><span class='ee-v'>EPSG:32631</span></li><li><details><summary>crs_transform: List (6 elements)</summary><ul><li><span class='ee-k'>0:</span><span class='ee-v'>29.989729544676482</span></li><li><span class='ee-k'>1:</span><span class='ee-v'>0</span></li><li><span class='ee-k'>2:</span><span class='ee-v'>495300</span></li><li><span class='ee-k'>3:</span><span class='ee-v'>0</span></li><li><span class='ee-k'>4:</span><span class='ee-v'>-29.98530132288094</span></li><li><span class='ee-k'>5:</span><span class='ee-v'>9027900</span></li></ul></details></li><li><details><summary>data_type: signed int16</summary><ul><li><span class='ee-k'>type:</span><span class='ee-v'>PixelType</span></li><li><span class='ee-k'>max:</span><span class='ee-v'>32767</span></li><li><span class='ee-k'>min:</span><span class='ee-v'>-32768</span></li><li><span class='ee-k'>precision:</span><span class='ee-v'>int</span></li></ul></details></li><li><details><summary>dimensions: [2921, 2041]</summary><ul><li><span class='ee-k'>0:</span><span class='ee-v'>2921</span></li><li><span class='ee-k'>1:</span><span class='ee-v'>2041</span></li></ul></details></li></ul></details></li><li><details><summary>10: \"B018\", signed int16, EPSG:32631, 2921x2041 px</summary><ul><li><span class='ee-k'>id:</span><span class='ee-v'>B018</span></li><li><span class='ee-k'>crs:</span><span class='ee-v'>EPSG:32631</span></li><li><details><summary>crs_transform: List (6 elements)</summary><ul><li><span class='ee-k'>0:</span><span class='ee-v'>29.989729544676482</span></li><li><span class='ee-k'>1:</span><span class='ee-v'>0</span></li><li><span class='ee-k'>2:</span><span class='ee-v'>495300</span></li><li><span class='ee-k'>3:</span><span class='ee-v'>0</span></li><li><span class='ee-k'>4:</span><span class='ee-v'>-29.98530132288094</span></li><li><span class='ee-k'>5:</span><span class='ee-v'>9027900</span></li></ul></details></li><li><details><summary>data_type: signed int16</summary><ul><li><span class='ee-k'>type:</span><span class='ee-v'>PixelType</span></li><li><span class='ee-k'>max:</span><span class='ee-v'>32767</span></li><li><span class='ee-k'>min:</span><span class='ee-v'>-32768</span></li><li><span class='ee-k'>precision:</span><span class='ee-v'>int</span></li></ul></details></li><li><details><summary>dimensions: [2921, 2041]</summary><ul><li><span class='ee-k'>0:</span><span class='ee-v'>2921</span></li><li><span class='ee-k'>1:</span><span class='ee-v'>2041</span></li></ul></details></li></ul></details></li><li><details><summary>11: \"B019\", signed int16, EPSG:32631, 2921x2041 px</summary><ul><li><span class='ee-k'>id:</span><span class='ee-v'>B019</span></li><li><span class='ee-k'>crs:</span><span class='ee-v'>EPSG:32631</span></li><li><details><summary>crs_transform: List (6 elements)</summary><ul><li><span class='ee-k'>0:</span><span class='ee-v'>29.989729544676482</span></li><li><span class='ee-k'>1:</span><span class='ee-v'>0</span></li><li><span class='ee-k'>2:</span><span class='ee-v'>495300</span></li><li><span class='ee-k'>3:</span><span class='ee-v'>0</span></li><li><span class='ee-k'>4:</span><span class='ee-v'>-29.98530132288094</span></li><li><span class='ee-k'>5:</span><span class='ee-v'>9027900</span></li></ul></details></li><li><details><summary>data_type: signed int16</summary><ul><li><span class='ee-k'>type:</span><span class='ee-v'>PixelType</span></li><li><span class='ee-k'>max:</span><span class='ee-v'>32767</span></li><li><span class='ee-k'>min:</span><span class='ee-v'>-32768</span></li><li><span class='ee-k'>precision:</span><span class='ee-v'>int</span></li></ul></details></li><li><details><summary>dimensions: [2921, 2041]</summary><ul><li><span class='ee-k'>0:</span><span class='ee-v'>2921</span></li><li><span class='ee-k'>1:</span><span class='ee-v'>2041</span></li></ul></details></li></ul></details></li><li><details><summary>12: \"B020\", signed int16, EPSG:32631, 2921x2041 px</summary><ul><li><span class='ee-k'>id:</span><span class='ee-v'>B020</span></li><li><span class='ee-k'>crs:</span><span class='ee-v'>EPSG:32631</span></li><li><details><summary>crs_transform: List (6 elements)</summary><ul><li><span class='ee-k'>0:</span><span class='ee-v'>29.989729544676482</span></li><li><span class='ee-k'>1:</span><span class='ee-v'>0</span></li><li><span class='ee-k'>2:</span><span class='ee-v'>495300</span></li><li><span class='ee-k'>3:</span><span class='ee-v'>0</span></li><li><span class='ee-k'>4:</span><span class='ee-v'>-29.98530132288094</span></li><li><span class='ee-k'>5:</span><span class='ee-v'>9027900</span></li></ul></details></li><li><details><summary>data_type: signed int16</summary><ul><li><span class='ee-k'>type:</span><span class='ee-v'>PixelType</span></li><li><span class='ee-k'>max:</span><span class='ee-v'>32767</span></li><li><span class='ee-k'>min:</span><span class='ee-v'>-32768</span></li><li><span class='ee-k'>precision:</span><span class='ee-v'>int</span></li></ul></details></li><li><details><summary>dimensions: [2921, 2041]</summary><ul><li><span class='ee-k'>0:</span><span class='ee-v'>2921</span></li><li><span class='ee-k'>1:</span><span class='ee-v'>2041</span></li></ul></details></li></ul></details></li><li><details><summary>13: \"B021\", signed int16, EPSG:32631, 2921x2041 px</summary><ul><li><span class='ee-k'>id:</span><span class='ee-v'>B021</span></li><li><span class='ee-k'>crs:</span><span class='ee-v'>EPSG:32631</span></li><li><details><summary>crs_transform: List (6 elements)</summary><ul><li><span class='ee-k'>0:</span><span class='ee-v'>29.989729544676482</span></li><li><span class='ee-k'>1:</span><span class='ee-v'>0</span></li><li><span class='ee-k'>2:</span><span class='ee-v'>495300</span></li><li><span class='ee-k'>3:</span><span class='ee-v'>0</span></li><li><span class='ee-k'>4:</span><span class='ee-v'>-29.98530132288094</span></li><li><span class='ee-k'>5:</span><span class='ee-v'>9027900</span></li></ul></details></li><li><details><summary>data_type: signed int16</summary><ul><li><span class='ee-k'>type:</span><span class='ee-v'>PixelType</span></li><li><span class='ee-k'>max:</span><span class='ee-v'>32767</span></li><li><span class='ee-k'>min:</span><span class='ee-v'>-32768</span></li><li><span class='ee-k'>precision:</span><span class='ee-v'>int</span></li></ul></details></li><li><details><summary>dimensions: [2921, 2041]</summary><ul><li><span class='ee-k'>0:</span><span class='ee-v'>2921</span></li><li><span class='ee-k'>1:</span><span class='ee-v'>2041</span></li></ul></details></li></ul></details></li><li><details><summary>14: \"B022\", signed int16, EPSG:32631, 2921x2041 px</summary><ul><li><span class='ee-k'>id:</span><span class='ee-v'>B022</span></li><li><span class='ee-k'>crs:</span><span class='ee-v'>EPSG:32631</span></li><li><details><summary>crs_transform: List (6 elements)</summary><ul><li><span class='ee-k'>0:</span><span class='ee-v'>29.989729544676482</span></li><li><span class='ee-k'>1:</span><span class='ee-v'>0</span></li><li><span class='ee-k'>2:</span><span class='ee-v'>495300</span></li><li><span class='ee-k'>3:</span><span class='ee-v'>0</span></li><li><span class='ee-k'>4:</span><span class='ee-v'>-29.98530132288094</span></li><li><span class='ee-k'>5:</span><span class='ee-v'>9027900</span></li></ul></details></li><li><details><summary>data_type: signed int16</summary><ul><li><span class='ee-k'>type:</span><span class='ee-v'>PixelType</span></li><li><span class='ee-k'>max:</span><span class='ee-v'>32767</span></li><li><span class='ee-k'>min:</span><span class='ee-v'>-32768</span></li><li><span class='ee-k'>precision:</span><span class='ee-v'>int</span></li></ul></details></li><li><details><summary>dimensions: [2921, 2041]</summary><ul><li><span class='ee-k'>0:</span><span class='ee-v'>2921</span></li><li><span class='ee-k'>1:</span><span class='ee-v'>2041</span></li></ul></details></li></ul></details></li><li><details><summary>15: \"B023\", signed int16, EPSG:32631, 2921x2041 px</summary><ul><li><span class='ee-k'>id:</span><span class='ee-v'>B023</span></li><li><span class='ee-k'>crs:</span><span class='ee-v'>EPSG:32631</span></li><li><details><summary>crs_transform: List (6 elements)</summary><ul><li><span class='ee-k'>0:</span><span class='ee-v'>29.989729544676482</span></li><li><span class='ee-k'>1:</span><span class='ee-v'>0</span></li><li><span class='ee-k'>2:</span><span class='ee-v'>495300</span></li><li><span class='ee-k'>3:</span><span class='ee-v'>0</span></li><li><span class='ee-k'>4:</span><span class='ee-v'>-29.98530132288094</span></li><li><span class='ee-k'>5:</span><span class='ee-v'>9027900</span></li></ul></details></li><li><details><summary>data_type: signed int16</summary><ul><li><span class='ee-k'>type:</span><span class='ee-v'>PixelType</span></li><li><span class='ee-k'>max:</span><span class='ee-v'>32767</span></li><li><span class='ee-k'>min:</span><span class='ee-v'>-32768</span></li><li><span class='ee-k'>precision:</span><span class='ee-v'>int</span></li></ul></details></li><li><details><summary>dimensions: [2921, 2041]</summary><ul><li><span class='ee-k'>0:</span><span class='ee-v'>2921</span></li><li><span class='ee-k'>1:</span><span class='ee-v'>2041</span></li></ul></details></li></ul></details></li><li><details><summary>16: \"B024\", signed int16, EPSG:32631, 2921x2041 px</summary><ul><li><span class='ee-k'>id:</span><span class='ee-v'>B024</span></li><li><span class='ee-k'>crs:</span><span class='ee-v'>EPSG:32631</span></li><li><details><summary>crs_transform: List (6 elements)</summary><ul><li><span class='ee-k'>0:</span><span class='ee-v'>29.989729544676482</span></li><li><span class='ee-k'>1:</span><span class='ee-v'>0</span></li><li><span class='ee-k'>2:</span><span class='ee-v'>495300</span></li><li><span class='ee-k'>3:</span><span class='ee-v'>0</span></li><li><span class='ee-k'>4:</span><span class='ee-v'>-29.98530132288094</span></li><li><span class='ee-k'>5:</span><span class='ee-v'>9027900</span></li></ul></details></li><li><details><summary>data_type: signed int16</summary><ul><li><span class='ee-k'>type:</span><span class='ee-v'>PixelType</span></li><li><span class='ee-k'>max:</span><span class='ee-v'>32767</span></li><li><span class='ee-k'>min:</span><span class='ee-v'>-32768</span></li><li><span class='ee-k'>precision:</span><span class='ee-v'>int</span></li></ul></details></li><li><details><summary>dimensions: [2921, 2041]</summary><ul><li><span class='ee-k'>0:</span><span class='ee-v'>2921</span></li><li><span class='ee-k'>1:</span><span class='ee-v'>2041</span></li></ul></details></li></ul></details></li><li><details><summary>17: \"B025\", signed int16, EPSG:32631, 2921x2041 px</summary><ul><li><span class='ee-k'>id:</span><span class='ee-v'>B025</span></li><li><span class='ee-k'>crs:</span><span class='ee-v'>EPSG:32631</span></li><li><details><summary>crs_transform: List (6 elements)</summary><ul><li><span class='ee-k'>0:</span><span class='ee-v'>29.989729544676482</span></li><li><span class='ee-k'>1:</span><span class='ee-v'>0</span></li><li><span class='ee-k'>2:</span><span class='ee-v'>495300</span></li><li><span class='ee-k'>3:</span><span class='ee-v'>0</span></li><li><span class='ee-k'>4:</span><span class='ee-v'>-29.98530132288094</span></li><li><span class='ee-k'>5:</span><span class='ee-v'>9027900</span></li></ul></details></li><li><details><summary>data_type: signed int16</summary><ul><li><span class='ee-k'>type:</span><span class='ee-v'>PixelType</span></li><li><span class='ee-k'>max:</span><span class='ee-v'>32767</span></li><li><span class='ee-k'>min:</span><span class='ee-v'>-32768</span></li><li><span class='ee-k'>precision:</span><span class='ee-v'>int</span></li></ul></details></li><li><details><summary>dimensions: [2921, 2041]</summary><ul><li><span class='ee-k'>0:</span><span class='ee-v'>2921</span></li><li><span class='ee-k'>1:</span><span class='ee-v'>2041</span></li></ul></details></li></ul></details></li><li><details><summary>18: \"B026\", signed int16, EPSG:32631, 2921x2041 px</summary><ul><li><span class='ee-k'>id:</span><span class='ee-v'>B026</span></li><li><span class='ee-k'>crs:</span><span class='ee-v'>EPSG:32631</span></li><li><details><summary>crs_transform: List (6 elements)</summary><ul><li><span class='ee-k'>0:</span><span class='ee-v'>29.989729544676482</span></li><li><span class='ee-k'>1:</span><span class='ee-v'>0</span></li><li><span class='ee-k'>2:</span><span class='ee-v'>495300</span></li><li><span class='ee-k'>3:</span><span class='ee-v'>0</span></li><li><span class='ee-k'>4:</span><span class='ee-v'>-29.98530132288094</span></li><li><span class='ee-k'>5:</span><span class='ee-v'>9027900</span></li></ul></details></li><li><details><summary>data_type: signed int16</summary><ul><li><span class='ee-k'>type:</span><span class='ee-v'>PixelType</span></li><li><span class='ee-k'>max:</span><span class='ee-v'>32767</span></li><li><span class='ee-k'>min:</span><span class='ee-v'>-32768</span></li><li><span class='ee-k'>precision:</span><span class='ee-v'>int</span></li></ul></details></li><li><details><summary>dimensions: [2921, 2041]</summary><ul><li><span class='ee-k'>0:</span><span class='ee-v'>2921</span></li><li><span class='ee-k'>1:</span><span class='ee-v'>2041</span></li></ul></details></li></ul></details></li><li><details><summary>19: \"B027\", signed int16, EPSG:32631, 2921x2041 px</summary><ul><li><span class='ee-k'>id:</span><span class='ee-v'>B027</span></li><li><span class='ee-k'>crs:</span><span class='ee-v'>EPSG:32631</span></li><li><details><summary>crs_transform: List (6 elements)</summary><ul><li><span class='ee-k'>0:</span><span class='ee-v'>29.989729544676482</span></li><li><span class='ee-k'>1:</span><span class='ee-v'>0</span></li><li><span class='ee-k'>2:</span><span class='ee-v'>495300</span></li><li><span class='ee-k'>3:</span><span class='ee-v'>0</span></li><li><span class='ee-k'>4:</span><span class='ee-v'>-29.98530132288094</span></li><li><span class='ee-k'>5:</span><span class='ee-v'>9027900</span></li></ul></details></li><li><details><summary>data_type: signed int16</summary><ul><li><span class='ee-k'>type:</span><span class='ee-v'>PixelType</span></li><li><span class='ee-k'>max:</span><span class='ee-v'>32767</span></li><li><span class='ee-k'>min:</span><span class='ee-v'>-32768</span></li><li><span class='ee-k'>precision:</span><span class='ee-v'>int</span></li></ul></details></li><li><details><summary>dimensions: [2921, 2041]</summary><ul><li><span class='ee-k'>0:</span><span class='ee-v'>2921</span></li><li><span class='ee-k'>1:</span><span class='ee-v'>2041</span></li></ul></details></li></ul></details></li><li><details><summary>20: \"B028\", signed int16, EPSG:32631, 2921x2041 px</summary><ul><li><span class='ee-k'>id:</span><span class='ee-v'>B028</span></li><li><span class='ee-k'>crs:</span><span class='ee-v'>EPSG:32631</span></li><li><details><summary>crs_transform: List (6 elements)</summary><ul><li><span class='ee-k'>0:</span><span class='ee-v'>29.989729544676482</span></li><li><span class='ee-k'>1:</span><span class='ee-v'>0</span></li><li><span class='ee-k'>2:</span><span class='ee-v'>495300</span></li><li><span class='ee-k'>3:</span><span class='ee-v'>0</span></li><li><span class='ee-k'>4:</span><span class='ee-v'>-29.98530132288094</span></li><li><span class='ee-k'>5:</span><span class='ee-v'>9027900</span></li></ul></details></li><li><details><summary>data_type: signed int16</summary><ul><li><span class='ee-k'>type:</span><span class='ee-v'>PixelType</span></li><li><span class='ee-k'>max:</span><span class='ee-v'>32767</span></li><li><span class='ee-k'>min:</span><span class='ee-v'>-32768</span></li><li><span class='ee-k'>precision:</span><span class='ee-v'>int</span></li></ul></details></li><li><details><summary>dimensions: [2921, 2041]</summary><ul><li><span class='ee-k'>0:</span><span class='ee-v'>2921</span></li><li><span class='ee-k'>1:</span><span class='ee-v'>2041</span></li></ul></details></li></ul></details></li><li><details><summary>21: \"B029\", signed int16, EPSG:32631, 2921x2041 px</summary><ul><li><span class='ee-k'>id:</span><span class='ee-v'>B029</span></li><li><span class='ee-k'>crs:</span><span class='ee-v'>EPSG:32631</span></li><li><details><summary>crs_transform: List (6 elements)</summary><ul><li><span class='ee-k'>0:</span><span class='ee-v'>29.989729544676482</span></li><li><span class='ee-k'>1:</span><span class='ee-v'>0</span></li><li><span class='ee-k'>2:</span><span class='ee-v'>495300</span></li><li><span class='ee-k'>3:</span><span class='ee-v'>0</span></li><li><span class='ee-k'>4:</span><span class='ee-v'>-29.98530132288094</span></li><li><span class='ee-k'>5:</span><span class='ee-v'>9027900</span></li></ul></details></li><li><details><summary>data_type: signed int16</summary><ul><li><span class='ee-k'>type:</span><span class='ee-v'>PixelType</span></li><li><span class='ee-k'>max:</span><span class='ee-v'>32767</span></li><li><span class='ee-k'>min:</span><span class='ee-v'>-32768</span></li><li><span class='ee-k'>precision:</span><span class='ee-v'>int</span></li></ul></details></li><li><details><summary>dimensions: [2921, 2041]</summary><ul><li><span class='ee-k'>0:</span><span class='ee-v'>2921</span></li><li><span class='ee-k'>1:</span><span class='ee-v'>2041</span></li></ul></details></li></ul></details></li><li><details><summary>22: \"B030\", signed int16, EPSG:32631, 2921x2041 px</summary><ul><li><span class='ee-k'>id:</span><span class='ee-v'>B030</span></li><li><span class='ee-k'>crs:</span><span class='ee-v'>EPSG:32631</span></li><li><details><summary>crs_transform: List (6 elements)</summary><ul><li><span class='ee-k'>0:</span><span class='ee-v'>29.989729544676482</span></li><li><span class='ee-k'>1:</span><span class='ee-v'>0</span></li><li><span class='ee-k'>2:</span><span class='ee-v'>495300</span></li><li><span class='ee-k'>3:</span><span class='ee-v'>0</span></li><li><span class='ee-k'>4:</span><span class='ee-v'>-29.98530132288094</span></li><li><span class='ee-k'>5:</span><span class='ee-v'>9027900</span></li></ul></details></li><li><details><summary>data_type: signed int16</summary><ul><li><span class='ee-k'>type:</span><span class='ee-v'>PixelType</span></li><li><span class='ee-k'>max:</span><span class='ee-v'>32767</span></li><li><span class='ee-k'>min:</span><span class='ee-v'>-32768</span></li><li><span class='ee-k'>precision:</span><span class='ee-v'>int</span></li></ul></details></li><li><details><summary>dimensions: [2921, 2041]</summary><ul><li><span class='ee-k'>0:</span><span class='ee-v'>2921</span></li><li><span class='ee-k'>1:</span><span class='ee-v'>2041</span></li></ul></details></li></ul></details></li><li><details><summary>23: \"B031\", signed int16, EPSG:32631, 2921x2041 px</summary><ul><li><span class='ee-k'>id:</span><span class='ee-v'>B031</span></li><li><span class='ee-k'>crs:</span><span class='ee-v'>EPSG:32631</span></li><li><details><summary>crs_transform: List (6 elements)</summary><ul><li><span class='ee-k'>0:</span><span class='ee-v'>29.989729544676482</span></li><li><span class='ee-k'>1:</span><span class='ee-v'>0</span></li><li><span class='ee-k'>2:</span><span class='ee-v'>495300</span></li><li><span class='ee-k'>3:</span><span class='ee-v'>0</span></li><li><span class='ee-k'>4:</span><span class='ee-v'>-29.98530132288094</span></li><li><span class='ee-k'>5:</span><span class='ee-v'>9027900</span></li></ul></details></li><li><details><summary>data_type: signed int16</summary><ul><li><span class='ee-k'>type:</span><span class='ee-v'>PixelType</span></li><li><span class='ee-k'>max:</span><span class='ee-v'>32767</span></li><li><span class='ee-k'>min:</span><span class='ee-v'>-32768</span></li><li><span class='ee-k'>precision:</span><span class='ee-v'>int</span></li></ul></details></li><li><details><summary>dimensions: [2921, 2041]</summary><ul><li><span class='ee-k'>0:</span><span class='ee-v'>2921</span></li><li><span class='ee-k'>1:</span><span class='ee-v'>2041</span></li></ul></details></li></ul></details></li><li><details><summary>24: \"B032\", signed int16, EPSG:32631, 2921x2041 px</summary><ul><li><span class='ee-k'>id:</span><span class='ee-v'>B032</span></li><li><span class='ee-k'>crs:</span><span class='ee-v'>EPSG:32631</span></li><li><details><summary>crs_transform: List (6 elements)</summary><ul><li><span class='ee-k'>0:</span><span class='ee-v'>29.989729544676482</span></li><li><span class='ee-k'>1:</span><span class='ee-v'>0</span></li><li><span class='ee-k'>2:</span><span class='ee-v'>495300</span></li><li><span class='ee-k'>3:</span><span class='ee-v'>0</span></li><li><span class='ee-k'>4:</span><span class='ee-v'>-29.98530132288094</span></li><li><span class='ee-k'>5:</span><span class='ee-v'>9027900</span></li></ul></details></li><li><details><summary>data_type: signed int16</summary><ul><li><span class='ee-k'>type:</span><span class='ee-v'>PixelType</span></li><li><span class='ee-k'>max:</span><span class='ee-v'>32767</span></li><li><span class='ee-k'>min:</span><span class='ee-v'>-32768</span></li><li><span class='ee-k'>precision:</span><span class='ee-v'>int</span></li></ul></details></li><li><details><summary>dimensions: [2921, 2041]</summary><ul><li><span class='ee-k'>0:</span><span class='ee-v'>2921</span></li><li><span class='ee-k'>1:</span><span class='ee-v'>2041</span></li></ul></details></li></ul></details></li><li><details><summary>25: \"B033\", signed int16, EPSG:32631, 2921x2041 px</summary><ul><li><span class='ee-k'>id:</span><span class='ee-v'>B033</span></li><li><span class='ee-k'>crs:</span><span class='ee-v'>EPSG:32631</span></li><li><details><summary>crs_transform: List (6 elements)</summary><ul><li><span class='ee-k'>0:</span><span class='ee-v'>29.989729544676482</span></li><li><span class='ee-k'>1:</span><span class='ee-v'>0</span></li><li><span class='ee-k'>2:</span><span class='ee-v'>495300</span></li><li><span class='ee-k'>3:</span><span class='ee-v'>0</span></li><li><span class='ee-k'>4:</span><span class='ee-v'>-29.98530132288094</span></li><li><span class='ee-k'>5:</span><span class='ee-v'>9027900</span></li></ul></details></li><li><details><summary>data_type: signed int16</summary><ul><li><span class='ee-k'>type:</span><span class='ee-v'>PixelType</span></li><li><span class='ee-k'>max:</span><span class='ee-v'>32767</span></li><li><span class='ee-k'>min:</span><span class='ee-v'>-32768</span></li><li><span class='ee-k'>precision:</span><span class='ee-v'>int</span></li></ul></details></li><li><details><summary>dimensions: [2921, 2041]</summary><ul><li><span class='ee-k'>0:</span><span class='ee-v'>2921</span></li><li><span class='ee-k'>1:</span><span class='ee-v'>2041</span></li></ul></details></li></ul></details></li><li><details><summary>26: \"B034\", signed int16, EPSG:32631, 2921x2041 px</summary><ul><li><span class='ee-k'>id:</span><span class='ee-v'>B034</span></li><li><span class='ee-k'>crs:</span><span class='ee-v'>EPSG:32631</span></li><li><details><summary>crs_transform: List (6 elements)</summary><ul><li><span class='ee-k'>0:</span><span class='ee-v'>29.989729544676482</span></li><li><span class='ee-k'>1:</span><span class='ee-v'>0</span></li><li><span class='ee-k'>2:</span><span class='ee-v'>495300</span></li><li><span class='ee-k'>3:</span><span class='ee-v'>0</span></li><li><span class='ee-k'>4:</span><span class='ee-v'>-29.98530132288094</span></li><li><span class='ee-k'>5:</span><span class='ee-v'>9027900</span></li></ul></details></li><li><details><summary>data_type: signed int16</summary><ul><li><span class='ee-k'>type:</span><span class='ee-v'>PixelType</span></li><li><span class='ee-k'>max:</span><span class='ee-v'>32767</span></li><li><span class='ee-k'>min:</span><span class='ee-v'>-32768</span></li><li><span class='ee-k'>precision:</span><span class='ee-v'>int</span></li></ul></details></li><li><details><summary>dimensions: [2921, 2041]</summary><ul><li><span class='ee-k'>0:</span><span class='ee-v'>2921</span></li><li><span class='ee-k'>1:</span><span class='ee-v'>2041</span></li></ul></details></li></ul></details></li><li><details><summary>27: \"B035\", signed int16, EPSG:32631, 2921x2041 px</summary><ul><li><span class='ee-k'>id:</span><span class='ee-v'>B035</span></li><li><span class='ee-k'>crs:</span><span class='ee-v'>EPSG:32631</span></li><li><details><summary>crs_transform: List (6 elements)</summary><ul><li><span class='ee-k'>0:</span><span class='ee-v'>29.989729544676482</span></li><li><span class='ee-k'>1:</span><span class='ee-v'>0</span></li><li><span class='ee-k'>2:</span><span class='ee-v'>495300</span></li><li><span class='ee-k'>3:</span><span class='ee-v'>0</span></li><li><span class='ee-k'>4:</span><span class='ee-v'>-29.98530132288094</span></li><li><span class='ee-k'>5:</span><span class='ee-v'>9027900</span></li></ul></details></li><li><details><summary>data_type: signed int16</summary><ul><li><span class='ee-k'>type:</span><span class='ee-v'>PixelType</span></li><li><span class='ee-k'>max:</span><span class='ee-v'>32767</span></li><li><span class='ee-k'>min:</span><span class='ee-v'>-32768</span></li><li><span class='ee-k'>precision:</span><span class='ee-v'>int</span></li></ul></details></li><li><details><summary>dimensions: [2921, 2041]</summary><ul><li><span class='ee-k'>0:</span><span class='ee-v'>2921</span></li><li><span class='ee-k'>1:</span><span class='ee-v'>2041</span></li></ul></details></li></ul></details></li><li><details><summary>28: \"B036\", signed int16, EPSG:32631, 2921x2041 px</summary><ul><li><span class='ee-k'>id:</span><span class='ee-v'>B036</span></li><li><span class='ee-k'>crs:</span><span class='ee-v'>EPSG:32631</span></li><li><details><summary>crs_transform: List (6 elements)</summary><ul><li><span class='ee-k'>0:</span><span class='ee-v'>29.989729544676482</span></li><li><span class='ee-k'>1:</span><span class='ee-v'>0</span></li><li><span class='ee-k'>2:</span><span class='ee-v'>495300</span></li><li><span class='ee-k'>3:</span><span class='ee-v'>0</span></li><li><span class='ee-k'>4:</span><span class='ee-v'>-29.98530132288094</span></li><li><span class='ee-k'>5:</span><span class='ee-v'>9027900</span></li></ul></details></li><li><details><summary>data_type: signed int16</summary><ul><li><span class='ee-k'>type:</span><span class='ee-v'>PixelType</span></li><li><span class='ee-k'>max:</span><span class='ee-v'>32767</span></li><li><span class='ee-k'>min:</span><span class='ee-v'>-32768</span></li><li><span class='ee-k'>precision:</span><span class='ee-v'>int</span></li></ul></details></li><li><details><summary>dimensions: [2921, 2041]</summary><ul><li><span class='ee-k'>0:</span><span class='ee-v'>2921</span></li><li><span class='ee-k'>1:</span><span class='ee-v'>2041</span></li></ul></details></li></ul></details></li><li><details><summary>29: \"B037\", signed int16, EPSG:32631, 2921x2041 px</summary><ul><li><span class='ee-k'>id:</span><span class='ee-v'>B037</span></li><li><span class='ee-k'>crs:</span><span class='ee-v'>EPSG:32631</span></li><li><details><summary>crs_transform: List (6 elements)</summary><ul><li><span class='ee-k'>0:</span><span class='ee-v'>29.989729544676482</span></li><li><span class='ee-k'>1:</span><span class='ee-v'>0</span></li><li><span class='ee-k'>2:</span><span class='ee-v'>495300</span></li><li><span class='ee-k'>3:</span><span class='ee-v'>0</span></li><li><span class='ee-k'>4:</span><span class='ee-v'>-29.98530132288094</span></li><li><span class='ee-k'>5:</span><span class='ee-v'>9027900</span></li></ul></details></li><li><details><summary>data_type: signed int16</summary><ul><li><span class='ee-k'>type:</span><span class='ee-v'>PixelType</span></li><li><span class='ee-k'>max:</span><span class='ee-v'>32767</span></li><li><span class='ee-k'>min:</span><span class='ee-v'>-32768</span></li><li><span class='ee-k'>precision:</span><span class='ee-v'>int</span></li></ul></details></li><li><details><summary>dimensions: [2921, 2041]</summary><ul><li><span class='ee-k'>0:</span><span class='ee-v'>2921</span></li><li><span class='ee-k'>1:</span><span class='ee-v'>2041</span></li></ul></details></li></ul></details></li><li><details><summary>30: \"B038\", signed int16, EPSG:32631, 2921x2041 px</summary><ul><li><span class='ee-k'>id:</span><span class='ee-v'>B038</span></li><li><span class='ee-k'>crs:</span><span class='ee-v'>EPSG:32631</span></li><li><details><summary>crs_transform: List (6 elements)</summary><ul><li><span class='ee-k'>0:</span><span class='ee-v'>29.989729544676482</span></li><li><span class='ee-k'>1:</span><span class='ee-v'>0</span></li><li><span class='ee-k'>2:</span><span class='ee-v'>495300</span></li><li><span class='ee-k'>3:</span><span class='ee-v'>0</span></li><li><span class='ee-k'>4:</span><span class='ee-v'>-29.98530132288094</span></li><li><span class='ee-k'>5:</span><span class='ee-v'>9027900</span></li></ul></details></li><li><details><summary>data_type: signed int16</summary><ul><li><span class='ee-k'>type:</span><span class='ee-v'>PixelType</span></li><li><span class='ee-k'>max:</span><span class='ee-v'>32767</span></li><li><span class='ee-k'>min:</span><span class='ee-v'>-32768</span></li><li><span class='ee-k'>precision:</span><span class='ee-v'>int</span></li></ul></details></li><li><details><summary>dimensions: [2921, 2041]</summary><ul><li><span class='ee-k'>0:</span><span class='ee-v'>2921</span></li><li><span class='ee-k'>1:</span><span class='ee-v'>2041</span></li></ul></details></li></ul></details></li><li><details><summary>31: \"B039\", signed int16, EPSG:32631, 2921x2041 px</summary><ul><li><span class='ee-k'>id:</span><span class='ee-v'>B039</span></li><li><span class='ee-k'>crs:</span><span class='ee-v'>EPSG:32631</span></li><li><details><summary>crs_transform: List (6 elements)</summary><ul><li><span class='ee-k'>0:</span><span class='ee-v'>29.989729544676482</span></li><li><span class='ee-k'>1:</span><span class='ee-v'>0</span></li><li><span class='ee-k'>2:</span><span class='ee-v'>495300</span></li><li><span class='ee-k'>3:</span><span class='ee-v'>0</span></li><li><span class='ee-k'>4:</span><span class='ee-v'>-29.98530132288094</span></li><li><span class='ee-k'>5:</span><span class='ee-v'>9027900</span></li></ul></details></li><li><details><summary>data_type: signed int16</summary><ul><li><span class='ee-k'>type:</span><span class='ee-v'>PixelType</span></li><li><span class='ee-k'>max:</span><span class='ee-v'>32767</span></li><li><span class='ee-k'>min:</span><span class='ee-v'>-32768</span></li><li><span class='ee-k'>precision:</span><span class='ee-v'>int</span></li></ul></details></li><li><details><summary>dimensions: [2921, 2041]</summary><ul><li><span class='ee-k'>0:</span><span class='ee-v'>2921</span></li><li><span class='ee-k'>1:</span><span class='ee-v'>2041</span></li></ul></details></li></ul></details></li><li><details><summary>32: \"B040\", signed int16, EPSG:32631, 2921x2041 px</summary><ul><li><span class='ee-k'>id:</span><span class='ee-v'>B040</span></li><li><span class='ee-k'>crs:</span><span class='ee-v'>EPSG:32631</span></li><li><details><summary>crs_transform: List (6 elements)</summary><ul><li><span class='ee-k'>0:</span><span class='ee-v'>29.989729544676482</span></li><li><span class='ee-k'>1:</span><span class='ee-v'>0</span></li><li><span class='ee-k'>2:</span><span class='ee-v'>495300</span></li><li><span class='ee-k'>3:</span><span class='ee-v'>0</span></li><li><span class='ee-k'>4:</span><span class='ee-v'>-29.98530132288094</span></li><li><span class='ee-k'>5:</span><span class='ee-v'>9027900</span></li></ul></details></li><li><details><summary>data_type: signed int16</summary><ul><li><span class='ee-k'>type:</span><span class='ee-v'>PixelType</span></li><li><span class='ee-k'>max:</span><span class='ee-v'>32767</span></li><li><span class='ee-k'>min:</span><span class='ee-v'>-32768</span></li><li><span class='ee-k'>precision:</span><span class='ee-v'>int</span></li></ul></details></li><li><details><summary>dimensions: [2921, 2041]</summary><ul><li><span class='ee-k'>0:</span><span class='ee-v'>2921</span></li><li><span class='ee-k'>1:</span><span class='ee-v'>2041</span></li></ul></details></li></ul></details></li><li><details><summary>33: \"B041\", signed int16, EPSG:32631, 2921x2041 px</summary><ul><li><span class='ee-k'>id:</span><span class='ee-v'>B041</span></li><li><span class='ee-k'>crs:</span><span class='ee-v'>EPSG:32631</span></li><li><details><summary>crs_transform: List (6 elements)</summary><ul><li><span class='ee-k'>0:</span><span class='ee-v'>29.989729544676482</span></li><li><span class='ee-k'>1:</span><span class='ee-v'>0</span></li><li><span class='ee-k'>2:</span><span class='ee-v'>495300</span></li><li><span class='ee-k'>3:</span><span class='ee-v'>0</span></li><li><span class='ee-k'>4:</span><span class='ee-v'>-29.98530132288094</span></li><li><span class='ee-k'>5:</span><span class='ee-v'>9027900</span></li></ul></details></li><li><details><summary>data_type: signed int16</summary><ul><li><span class='ee-k'>type:</span><span class='ee-v'>PixelType</span></li><li><span class='ee-k'>max:</span><span class='ee-v'>32767</span></li><li><span class='ee-k'>min:</span><span class='ee-v'>-32768</span></li><li><span class='ee-k'>precision:</span><span class='ee-v'>int</span></li></ul></details></li><li><details><summary>dimensions: [2921, 2041]</summary><ul><li><span class='ee-k'>0:</span><span class='ee-v'>2921</span></li><li><span class='ee-k'>1:</span><span class='ee-v'>2041</span></li></ul></details></li></ul></details></li><li><details><summary>34: \"B042\", signed int16, EPSG:32631, 2921x2041 px</summary><ul><li><span class='ee-k'>id:</span><span class='ee-v'>B042</span></li><li><span class='ee-k'>crs:</span><span class='ee-v'>EPSG:32631</span></li><li><details><summary>crs_transform: List (6 elements)</summary><ul><li><span class='ee-k'>0:</span><span class='ee-v'>29.989729544676482</span></li><li><span class='ee-k'>1:</span><span class='ee-v'>0</span></li><li><span class='ee-k'>2:</span><span class='ee-v'>495300</span></li><li><span class='ee-k'>3:</span><span class='ee-v'>0</span></li><li><span class='ee-k'>4:</span><span class='ee-v'>-29.98530132288094</span></li><li><span class='ee-k'>5:</span><span class='ee-v'>9027900</span></li></ul></details></li><li><details><summary>data_type: signed int16</summary><ul><li><span class='ee-k'>type:</span><span class='ee-v'>PixelType</span></li><li><span class='ee-k'>max:</span><span class='ee-v'>32767</span></li><li><span class='ee-k'>min:</span><span class='ee-v'>-32768</span></li><li><span class='ee-k'>precision:</span><span class='ee-v'>int</span></li></ul></details></li><li><details><summary>dimensions: [2921, 2041]</summary><ul><li><span class='ee-k'>0:</span><span class='ee-v'>2921</span></li><li><span class='ee-k'>1:</span><span class='ee-v'>2041</span></li></ul></details></li></ul></details></li><li><details><summary>35: \"B043\", signed int16, EPSG:32631, 2921x2041 px</summary><ul><li><span class='ee-k'>id:</span><span class='ee-v'>B043</span></li><li><span class='ee-k'>crs:</span><span class='ee-v'>EPSG:32631</span></li><li><details><summary>crs_transform: List (6 elements)</summary><ul><li><span class='ee-k'>0:</span><span class='ee-v'>29.989729544676482</span></li><li><span class='ee-k'>1:</span><span class='ee-v'>0</span></li><li><span class='ee-k'>2:</span><span class='ee-v'>495300</span></li><li><span class='ee-k'>3:</span><span class='ee-v'>0</span></li><li><span class='ee-k'>4:</span><span class='ee-v'>-29.98530132288094</span></li><li><span class='ee-k'>5:</span><span class='ee-v'>9027900</span></li></ul></details></li><li><details><summary>data_type: signed int16</summary><ul><li><span class='ee-k'>type:</span><span class='ee-v'>PixelType</span></li><li><span class='ee-k'>max:</span><span class='ee-v'>32767</span></li><li><span class='ee-k'>min:</span><span class='ee-v'>-32768</span></li><li><span class='ee-k'>precision:</span><span class='ee-v'>int</span></li></ul></details></li><li><details><summary>dimensions: [2921, 2041]</summary><ul><li><span class='ee-k'>0:</span><span class='ee-v'>2921</span></li><li><span class='ee-k'>1:</span><span class='ee-v'>2041</span></li></ul></details></li></ul></details></li><li><details><summary>36: \"B044\", signed int16, EPSG:32631, 2921x2041 px</summary><ul><li><span class='ee-k'>id:</span><span class='ee-v'>B044</span></li><li><span class='ee-k'>crs:</span><span class='ee-v'>EPSG:32631</span></li><li><details><summary>crs_transform: List (6 elements)</summary><ul><li><span class='ee-k'>0:</span><span class='ee-v'>29.989729544676482</span></li><li><span class='ee-k'>1:</span><span class='ee-v'>0</span></li><li><span class='ee-k'>2:</span><span class='ee-v'>495300</span></li><li><span class='ee-k'>3:</span><span class='ee-v'>0</span></li><li><span class='ee-k'>4:</span><span class='ee-v'>-29.98530132288094</span></li><li><span class='ee-k'>5:</span><span class='ee-v'>9027900</span></li></ul></details></li><li><details><summary>data_type: signed int16</summary><ul><li><span class='ee-k'>type:</span><span class='ee-v'>PixelType</span></li><li><span class='ee-k'>max:</span><span class='ee-v'>32767</span></li><li><span class='ee-k'>min:</span><span class='ee-v'>-32768</span></li><li><span class='ee-k'>precision:</span><span class='ee-v'>int</span></li></ul></details></li><li><details><summary>dimensions: [2921, 2041]</summary><ul><li><span class='ee-k'>0:</span><span class='ee-v'>2921</span></li><li><span class='ee-k'>1:</span><span class='ee-v'>2041</span></li></ul></details></li></ul></details></li><li><details><summary>37: \"B045\", signed int16, EPSG:32631, 2921x2041 px</summary><ul><li><span class='ee-k'>id:</span><span class='ee-v'>B045</span></li><li><span class='ee-k'>crs:</span><span class='ee-v'>EPSG:32631</span></li><li><details><summary>crs_transform: List (6 elements)</summary><ul><li><span class='ee-k'>0:</span><span class='ee-v'>29.989729544676482</span></li><li><span class='ee-k'>1:</span><span class='ee-v'>0</span></li><li><span class='ee-k'>2:</span><span class='ee-v'>495300</span></li><li><span class='ee-k'>3:</span><span class='ee-v'>0</span></li><li><span class='ee-k'>4:</span><span class='ee-v'>-29.98530132288094</span></li><li><span class='ee-k'>5:</span><span class='ee-v'>9027900</span></li></ul></details></li><li><details><summary>data_type: signed int16</summary><ul><li><span class='ee-k'>type:</span><span class='ee-v'>PixelType</span></li><li><span class='ee-k'>max:</span><span class='ee-v'>32767</span></li><li><span class='ee-k'>min:</span><span class='ee-v'>-32768</span></li><li><span class='ee-k'>precision:</span><span class='ee-v'>int</span></li></ul></details></li><li><details><summary>dimensions: [2921, 2041]</summary><ul><li><span class='ee-k'>0:</span><span class='ee-v'>2921</span></li><li><span class='ee-k'>1:</span><span class='ee-v'>2041</span></li></ul></details></li></ul></details></li><li><details><summary>38: \"B046\", signed int16, EPSG:32631, 2921x2041 px</summary><ul><li><span class='ee-k'>id:</span><span class='ee-v'>B046</span></li><li><span class='ee-k'>crs:</span><span class='ee-v'>EPSG:32631</span></li><li><details><summary>crs_transform: List (6 elements)</summary><ul><li><span class='ee-k'>0:</span><span class='ee-v'>29.989729544676482</span></li><li><span class='ee-k'>1:</span><span class='ee-v'>0</span></li><li><span class='ee-k'>2:</span><span class='ee-v'>495300</span></li><li><span class='ee-k'>3:</span><span class='ee-v'>0</span></li><li><span class='ee-k'>4:</span><span class='ee-v'>-29.98530132288094</span></li><li><span class='ee-k'>5:</span><span class='ee-v'>9027900</span></li></ul></details></li><li><details><summary>data_type: signed int16</summary><ul><li><span class='ee-k'>type:</span><span class='ee-v'>PixelType</span></li><li><span class='ee-k'>max:</span><span class='ee-v'>32767</span></li><li><span class='ee-k'>min:</span><span class='ee-v'>-32768</span></li><li><span class='ee-k'>precision:</span><span class='ee-v'>int</span></li></ul></details></li><li><details><summary>dimensions: [2921, 2041]</summary><ul><li><span class='ee-k'>0:</span><span class='ee-v'>2921</span></li><li><span class='ee-k'>1:</span><span class='ee-v'>2041</span></li></ul></details></li></ul></details></li><li><details><summary>39: \"B047\", signed int16, EPSG:32631, 2921x2041 px</summary><ul><li><span class='ee-k'>id:</span><span class='ee-v'>B047</span></li><li><span class='ee-k'>crs:</span><span class='ee-v'>EPSG:32631</span></li><li><details><summary>crs_transform: List (6 elements)</summary><ul><li><span class='ee-k'>0:</span><span class='ee-v'>29.989729544676482</span></li><li><span class='ee-k'>1:</span><span class='ee-v'>0</span></li><li><span class='ee-k'>2:</span><span class='ee-v'>495300</span></li><li><span class='ee-k'>3:</span><span class='ee-v'>0</span></li><li><span class='ee-k'>4:</span><span class='ee-v'>-29.98530132288094</span></li><li><span class='ee-k'>5:</span><span class='ee-v'>9027900</span></li></ul></details></li><li><details><summary>data_type: signed int16</summary><ul><li><span class='ee-k'>type:</span><span class='ee-v'>PixelType</span></li><li><span class='ee-k'>max:</span><span class='ee-v'>32767</span></li><li><span class='ee-k'>min:</span><span class='ee-v'>-32768</span></li><li><span class='ee-k'>precision:</span><span class='ee-v'>int</span></li></ul></details></li><li><details><summary>dimensions: [2921, 2041]</summary><ul><li><span class='ee-k'>0:</span><span class='ee-v'>2921</span></li><li><span class='ee-k'>1:</span><span class='ee-v'>2041</span></li></ul></details></li></ul></details></li><li><details><summary>40: \"B048\", signed int16, EPSG:32631, 2921x2041 px</summary><ul><li><span class='ee-k'>id:</span><span class='ee-v'>B048</span></li><li><span class='ee-k'>crs:</span><span class='ee-v'>EPSG:32631</span></li><li><details><summary>crs_transform: List (6 elements)</summary><ul><li><span class='ee-k'>0:</span><span class='ee-v'>29.989729544676482</span></li><li><span class='ee-k'>1:</span><span class='ee-v'>0</span></li><li><span class='ee-k'>2:</span><span class='ee-v'>495300</span></li><li><span class='ee-k'>3:</span><span class='ee-v'>0</span></li><li><span class='ee-k'>4:</span><span class='ee-v'>-29.98530132288094</span></li><li><span class='ee-k'>5:</span><span class='ee-v'>9027900</span></li></ul></details></li><li><details><summary>data_type: signed int16</summary><ul><li><span class='ee-k'>type:</span><span class='ee-v'>PixelType</span></li><li><span class='ee-k'>max:</span><span class='ee-v'>32767</span></li><li><span class='ee-k'>min:</span><span class='ee-v'>-32768</span></li><li><span class='ee-k'>precision:</span><span class='ee-v'>int</span></li></ul></details></li><li><details><summary>dimensions: [2921, 2041]</summary><ul><li><span class='ee-k'>0:</span><span class='ee-v'>2921</span></li><li><span class='ee-k'>1:</span><span class='ee-v'>2041</span></li></ul></details></li></ul></details></li><li><details><summary>41: \"B049\", signed int16, EPSG:32631, 2921x2041 px</summary><ul><li><span class='ee-k'>id:</span><span class='ee-v'>B049</span></li><li><span class='ee-k'>crs:</span><span class='ee-v'>EPSG:32631</span></li><li><details><summary>crs_transform: List (6 elements)</summary><ul><li><span class='ee-k'>0:</span><span class='ee-v'>29.989729544676482</span></li><li><span class='ee-k'>1:</span><span class='ee-v'>0</span></li><li><span class='ee-k'>2:</span><span class='ee-v'>495300</span></li><li><span class='ee-k'>3:</span><span class='ee-v'>0</span></li><li><span class='ee-k'>4:</span><span class='ee-v'>-29.98530132288094</span></li><li><span class='ee-k'>5:</span><span class='ee-v'>9027900</span></li></ul></details></li><li><details><summary>data_type: signed int16</summary><ul><li><span class='ee-k'>type:</span><span class='ee-v'>PixelType</span></li><li><span class='ee-k'>max:</span><span class='ee-v'>32767</span></li><li><span class='ee-k'>min:</span><span class='ee-v'>-32768</span></li><li><span class='ee-k'>precision:</span><span class='ee-v'>int</span></li></ul></details></li><li><details><summary>dimensions: [2921, 2041]</summary><ul><li><span class='ee-k'>0:</span><span class='ee-v'>2921</span></li><li><span class='ee-k'>1:</span><span class='ee-v'>2041</span></li></ul></details></li></ul></details></li><li><details><summary>42: \"B050\", signed int16, EPSG:32631, 2921x2041 px</summary><ul><li><span class='ee-k'>id:</span><span class='ee-v'>B050</span></li><li><span class='ee-k'>crs:</span><span class='ee-v'>EPSG:32631</span></li><li><details><summary>crs_transform: List (6 elements)</summary><ul><li><span class='ee-k'>0:</span><span class='ee-v'>29.989729544676482</span></li><li><span class='ee-k'>1:</span><span class='ee-v'>0</span></li><li><span class='ee-k'>2:</span><span class='ee-v'>495300</span></li><li><span class='ee-k'>3:</span><span class='ee-v'>0</span></li><li><span class='ee-k'>4:</span><span class='ee-v'>-29.98530132288094</span></li><li><span class='ee-k'>5:</span><span class='ee-v'>9027900</span></li></ul></details></li><li><details><summary>data_type: signed int16</summary><ul><li><span class='ee-k'>type:</span><span class='ee-v'>PixelType</span></li><li><span class='ee-k'>max:</span><span class='ee-v'>32767</span></li><li><span class='ee-k'>min:</span><span class='ee-v'>-32768</span></li><li><span class='ee-k'>precision:</span><span class='ee-v'>int</span></li></ul></details></li><li><details><summary>dimensions: [2921, 2041]</summary><ul><li><span class='ee-k'>0:</span><span class='ee-v'>2921</span></li><li><span class='ee-k'>1:</span><span class='ee-v'>2041</span></li></ul></details></li></ul></details></li><li><details><summary>43: \"B051\", signed int16, EPSG:32631, 2921x2041 px</summary><ul><li><span class='ee-k'>id:</span><span class='ee-v'>B051</span></li><li><span class='ee-k'>crs:</span><span class='ee-v'>EPSG:32631</span></li><li><details><summary>crs_transform: List (6 elements)</summary><ul><li><span class='ee-k'>0:</span><span class='ee-v'>29.989729544676482</span></li><li><span class='ee-k'>1:</span><span class='ee-v'>0</span></li><li><span class='ee-k'>2:</span><span class='ee-v'>495300</span></li><li><span class='ee-k'>3:</span><span class='ee-v'>0</span></li><li><span class='ee-k'>4:</span><span class='ee-v'>-29.98530132288094</span></li><li><span class='ee-k'>5:</span><span class='ee-v'>9027900</span></li></ul></details></li><li><details><summary>data_type: signed int16</summary><ul><li><span class='ee-k'>type:</span><span class='ee-v'>PixelType</span></li><li><span class='ee-k'>max:</span><span class='ee-v'>32767</span></li><li><span class='ee-k'>min:</span><span class='ee-v'>-32768</span></li><li><span class='ee-k'>precision:</span><span class='ee-v'>int</span></li></ul></details></li><li><details><summary>dimensions: [2921, 2041]</summary><ul><li><span class='ee-k'>0:</span><span class='ee-v'>2921</span></li><li><span class='ee-k'>1:</span><span class='ee-v'>2041</span></li></ul></details></li></ul></details></li><li><details><summary>44: \"B052\", signed int16, EPSG:32631, 2921x2041 px</summary><ul><li><span class='ee-k'>id:</span><span class='ee-v'>B052</span></li><li><span class='ee-k'>crs:</span><span class='ee-v'>EPSG:32631</span></li><li><details><summary>crs_transform: List (6 elements)</summary><ul><li><span class='ee-k'>0:</span><span class='ee-v'>29.989729544676482</span></li><li><span class='ee-k'>1:</span><span class='ee-v'>0</span></li><li><span class='ee-k'>2:</span><span class='ee-v'>495300</span></li><li><span class='ee-k'>3:</span><span class='ee-v'>0</span></li><li><span class='ee-k'>4:</span><span class='ee-v'>-29.98530132288094</span></li><li><span class='ee-k'>5:</span><span class='ee-v'>9027900</span></li></ul></details></li><li><details><summary>data_type: signed int16</summary><ul><li><span class='ee-k'>type:</span><span class='ee-v'>PixelType</span></li><li><span class='ee-k'>max:</span><span class='ee-v'>32767</span></li><li><span class='ee-k'>min:</span><span class='ee-v'>-32768</span></li><li><span class='ee-k'>precision:</span><span class='ee-v'>int</span></li></ul></details></li><li><details><summary>dimensions: [2921, 2041]</summary><ul><li><span class='ee-k'>0:</span><span class='ee-v'>2921</span></li><li><span class='ee-k'>1:</span><span class='ee-v'>2041</span></li></ul></details></li></ul></details></li><li><details><summary>45: \"B053\", signed int16, EPSG:32631, 2921x2041 px</summary><ul><li><span class='ee-k'>id:</span><span class='ee-v'>B053</span></li><li><span class='ee-k'>crs:</span><span class='ee-v'>EPSG:32631</span></li><li><details><summary>crs_transform: List (6 elements)</summary><ul><li><span class='ee-k'>0:</span><span class='ee-v'>29.989729544676482</span></li><li><span class='ee-k'>1:</span><span class='ee-v'>0</span></li><li><span class='ee-k'>2:</span><span class='ee-v'>495300</span></li><li><span class='ee-k'>3:</span><span class='ee-v'>0</span></li><li><span class='ee-k'>4:</span><span class='ee-v'>-29.98530132288094</span></li><li><span class='ee-k'>5:</span><span class='ee-v'>9027900</span></li></ul></details></li><li><details><summary>data_type: signed int16</summary><ul><li><span class='ee-k'>type:</span><span class='ee-v'>PixelType</span></li><li><span class='ee-k'>max:</span><span class='ee-v'>32767</span></li><li><span class='ee-k'>min:</span><span class='ee-v'>-32768</span></li><li><span class='ee-k'>precision:</span><span class='ee-v'>int</span></li></ul></details></li><li><details><summary>dimensions: [2921, 2041]</summary><ul><li><span class='ee-k'>0:</span><span class='ee-v'>2921</span></li><li><span class='ee-k'>1:</span><span class='ee-v'>2041</span></li></ul></details></li></ul></details></li><li><details><summary>46: \"B054\", signed int16, EPSG:32631, 2921x2041 px</summary><ul><li><span class='ee-k'>id:</span><span class='ee-v'>B054</span></li><li><span class='ee-k'>crs:</span><span class='ee-v'>EPSG:32631</span></li><li><details><summary>crs_transform: List (6 elements)</summary><ul><li><span class='ee-k'>0:</span><span class='ee-v'>29.989729544676482</span></li><li><span class='ee-k'>1:</span><span class='ee-v'>0</span></li><li><span class='ee-k'>2:</span><span class='ee-v'>495300</span></li><li><span class='ee-k'>3:</span><span class='ee-v'>0</span></li><li><span class='ee-k'>4:</span><span class='ee-v'>-29.98530132288094</span></li><li><span class='ee-k'>5:</span><span class='ee-v'>9027900</span></li></ul></details></li><li><details><summary>data_type: signed int16</summary><ul><li><span class='ee-k'>type:</span><span class='ee-v'>PixelType</span></li><li><span class='ee-k'>max:</span><span class='ee-v'>32767</span></li><li><span class='ee-k'>min:</span><span class='ee-v'>-32768</span></li><li><span class='ee-k'>precision:</span><span class='ee-v'>int</span></li></ul></details></li><li><details><summary>dimensions: [2921, 2041]</summary><ul><li><span class='ee-k'>0:</span><span class='ee-v'>2921</span></li><li><span class='ee-k'>1:</span><span class='ee-v'>2041</span></li></ul></details></li></ul></details></li><li><details><summary>47: \"B055\", signed int16, EPSG:32631, 2921x2041 px</summary><ul><li><span class='ee-k'>id:</span><span class='ee-v'>B055</span></li><li><span class='ee-k'>crs:</span><span class='ee-v'>EPSG:32631</span></li><li><details><summary>crs_transform: List (6 elements)</summary><ul><li><span class='ee-k'>0:</span><span class='ee-v'>29.989729544676482</span></li><li><span class='ee-k'>1:</span><span class='ee-v'>0</span></li><li><span class='ee-k'>2:</span><span class='ee-v'>495300</span></li><li><span class='ee-k'>3:</span><span class='ee-v'>0</span></li><li><span class='ee-k'>4:</span><span class='ee-v'>-29.98530132288094</span></li><li><span class='ee-k'>5:</span><span class='ee-v'>9027900</span></li></ul></details></li><li><details><summary>data_type: signed int16</summary><ul><li><span class='ee-k'>type:</span><span class='ee-v'>PixelType</span></li><li><span class='ee-k'>max:</span><span class='ee-v'>32767</span></li><li><span class='ee-k'>min:</span><span class='ee-v'>-32768</span></li><li><span class='ee-k'>precision:</span><span class='ee-v'>int</span></li></ul></details></li><li><details><summary>dimensions: [2921, 2041]</summary><ul><li><span class='ee-k'>0:</span><span class='ee-v'>2921</span></li><li><span class='ee-k'>1:</span><span class='ee-v'>2041</span></li></ul></details></li></ul></details></li><li><details><summary>48: \"B056\", signed int16, EPSG:32631, 2921x2041 px</summary><ul><li><span class='ee-k'>id:</span><span class='ee-v'>B056</span></li><li><span class='ee-k'>crs:</span><span class='ee-v'>EPSG:32631</span></li><li><details><summary>crs_transform: List (6 elements)</summary><ul><li><span class='ee-k'>0:</span><span class='ee-v'>29.989729544676482</span></li><li><span class='ee-k'>1:</span><span class='ee-v'>0</span></li><li><span class='ee-k'>2:</span><span class='ee-v'>495300</span></li><li><span class='ee-k'>3:</span><span class='ee-v'>0</span></li><li><span class='ee-k'>4:</span><span class='ee-v'>-29.98530132288094</span></li><li><span class='ee-k'>5:</span><span class='ee-v'>9027900</span></li></ul></details></li><li><details><summary>data_type: signed int16</summary><ul><li><span class='ee-k'>type:</span><span class='ee-v'>PixelType</span></li><li><span class='ee-k'>max:</span><span class='ee-v'>32767</span></li><li><span class='ee-k'>min:</span><span class='ee-v'>-32768</span></li><li><span class='ee-k'>precision:</span><span class='ee-v'>int</span></li></ul></details></li><li><details><summary>dimensions: [2921, 2041]</summary><ul><li><span class='ee-k'>0:</span><span class='ee-v'>2921</span></li><li><span class='ee-k'>1:</span><span class='ee-v'>2041</span></li></ul></details></li></ul></details></li><li><details><summary>49: \"B057\", signed int16, EPSG:32631, 2921x2041 px</summary><ul><li><span class='ee-k'>id:</span><span class='ee-v'>B057</span></li><li><span class='ee-k'>crs:</span><span class='ee-v'>EPSG:32631</span></li><li><details><summary>crs_transform: List (6 elements)</summary><ul><li><span class='ee-k'>0:</span><span class='ee-v'>29.989729544676482</span></li><li><span class='ee-k'>1:</span><span class='ee-v'>0</span></li><li><span class='ee-k'>2:</span><span class='ee-v'>495300</span></li><li><span class='ee-k'>3:</span><span class='ee-v'>0</span></li><li><span class='ee-k'>4:</span><span class='ee-v'>-29.98530132288094</span></li><li><span class='ee-k'>5:</span><span class='ee-v'>9027900</span></li></ul></details></li><li><details><summary>data_type: signed int16</summary><ul><li><span class='ee-k'>type:</span><span class='ee-v'>PixelType</span></li><li><span class='ee-k'>max:</span><span class='ee-v'>32767</span></li><li><span class='ee-k'>min:</span><span class='ee-v'>-32768</span></li><li><span class='ee-k'>precision:</span><span class='ee-v'>int</span></li></ul></details></li><li><details><summary>dimensions: [2921, 2041]</summary><ul><li><span class='ee-k'>0:</span><span class='ee-v'>2921</span></li><li><span class='ee-k'>1:</span><span class='ee-v'>2041</span></li></ul></details></li></ul></details></li><li><details><summary>50: \"B077\", signed int16, EPSG:32631, 2921x2041 px</summary><ul><li><span class='ee-k'>id:</span><span class='ee-v'>B077</span></li><li><span class='ee-k'>crs:</span><span class='ee-v'>EPSG:32631</span></li><li><details><summary>crs_transform: List (6 elements)</summary><ul><li><span class='ee-k'>0:</span><span class='ee-v'>29.989729544676482</span></li><li><span class='ee-k'>1:</span><span class='ee-v'>0</span></li><li><span class='ee-k'>2:</span><span class='ee-v'>495300</span></li><li><span class='ee-k'>3:</span><span class='ee-v'>0</span></li><li><span class='ee-k'>4:</span><span class='ee-v'>-29.98530132288094</span></li><li><span class='ee-k'>5:</span><span class='ee-v'>9027900</span></li></ul></details></li><li><details><summary>data_type: signed int16</summary><ul><li><span class='ee-k'>type:</span><span class='ee-v'>PixelType</span></li><li><span class='ee-k'>max:</span><span class='ee-v'>32767</span></li><li><span class='ee-k'>min:</span><span class='ee-v'>-32768</span></li><li><span class='ee-k'>precision:</span><span class='ee-v'>int</span></li></ul></details></li><li><details><summary>dimensions: [2921, 2041]</summary><ul><li><span class='ee-k'>0:</span><span class='ee-v'>2921</span></li><li><span class='ee-k'>1:</span><span class='ee-v'>2041</span></li></ul></details></li></ul></details></li><li><details><summary>51: \"B078\", signed int16, EPSG:32631, 2921x2041 px</summary><ul><li><span class='ee-k'>id:</span><span class='ee-v'>B078</span></li><li><span class='ee-k'>crs:</span><span class='ee-v'>EPSG:32631</span></li><li><details><summary>crs_transform: List (6 elements)</summary><ul><li><span class='ee-k'>0:</span><span class='ee-v'>29.989729544676482</span></li><li><span class='ee-k'>1:</span><span class='ee-v'>0</span></li><li><span class='ee-k'>2:</span><span class='ee-v'>495300</span></li><li><span class='ee-k'>3:</span><span class='ee-v'>0</span></li><li><span class='ee-k'>4:</span><span class='ee-v'>-29.98530132288094</span></li><li><span class='ee-k'>5:</span><span class='ee-v'>9027900</span></li></ul></details></li><li><details><summary>data_type: signed int16</summary><ul><li><span class='ee-k'>type:</span><span class='ee-v'>PixelType</span></li><li><span class='ee-k'>max:</span><span class='ee-v'>32767</span></li><li><span class='ee-k'>min:</span><span class='ee-v'>-32768</span></li><li><span class='ee-k'>precision:</span><span class='ee-v'>int</span></li></ul></details></li><li><details><summary>dimensions: [2921, 2041]</summary><ul><li><span class='ee-k'>0:</span><span class='ee-v'>2921</span></li><li><span class='ee-k'>1:</span><span class='ee-v'>2041</span></li></ul></details></li></ul></details></li><li><details><summary>52: \"B079\", signed int16, EPSG:32631, 2921x2041 px</summary><ul><li><span class='ee-k'>id:</span><span class='ee-v'>B079</span></li><li><span class='ee-k'>crs:</span><span class='ee-v'>EPSG:32631</span></li><li><details><summary>crs_transform: List (6 elements)</summary><ul><li><span class='ee-k'>0:</span><span class='ee-v'>29.989729544676482</span></li><li><span class='ee-k'>1:</span><span class='ee-v'>0</span></li><li><span class='ee-k'>2:</span><span class='ee-v'>495300</span></li><li><span class='ee-k'>3:</span><span class='ee-v'>0</span></li><li><span class='ee-k'>4:</span><span class='ee-v'>-29.98530132288094</span></li><li><span class='ee-k'>5:</span><span class='ee-v'>9027900</span></li></ul></details></li><li><details><summary>data_type: signed int16</summary><ul><li><span class='ee-k'>type:</span><span class='ee-v'>PixelType</span></li><li><span class='ee-k'>max:</span><span class='ee-v'>32767</span></li><li><span class='ee-k'>min:</span><span class='ee-v'>-32768</span></li><li><span class='ee-k'>precision:</span><span class='ee-v'>int</span></li></ul></details></li><li><details><summary>dimensions: [2921, 2041]</summary><ul><li><span class='ee-k'>0:</span><span class='ee-v'>2921</span></li><li><span class='ee-k'>1:</span><span class='ee-v'>2041</span></li></ul></details></li></ul></details></li><li><details><summary>53: \"B080\", signed int16, EPSG:32631, 2921x2041 px</summary><ul><li><span class='ee-k'>id:</span><span class='ee-v'>B080</span></li><li><span class='ee-k'>crs:</span><span class='ee-v'>EPSG:32631</span></li><li><details><summary>crs_transform: List (6 elements)</summary><ul><li><span class='ee-k'>0:</span><span class='ee-v'>29.989729544676482</span></li><li><span class='ee-k'>1:</span><span class='ee-v'>0</span></li><li><span class='ee-k'>2:</span><span class='ee-v'>495300</span></li><li><span class='ee-k'>3:</span><span class='ee-v'>0</span></li><li><span class='ee-k'>4:</span><span class='ee-v'>-29.98530132288094</span></li><li><span class='ee-k'>5:</span><span class='ee-v'>9027900</span></li></ul></details></li><li><details><summary>data_type: signed int16</summary><ul><li><span class='ee-k'>type:</span><span class='ee-v'>PixelType</span></li><li><span class='ee-k'>max:</span><span class='ee-v'>32767</span></li><li><span class='ee-k'>min:</span><span class='ee-v'>-32768</span></li><li><span class='ee-k'>precision:</span><span class='ee-v'>int</span></li></ul></details></li><li><details><summary>dimensions: [2921, 2041]</summary><ul><li><span class='ee-k'>0:</span><span class='ee-v'>2921</span></li><li><span class='ee-k'>1:</span><span class='ee-v'>2041</span></li></ul></details></li></ul></details></li><li><details><summary>54: \"B081\", signed int16, EPSG:32631, 2921x2041 px</summary><ul><li><span class='ee-k'>id:</span><span class='ee-v'>B081</span></li><li><span class='ee-k'>crs:</span><span class='ee-v'>EPSG:32631</span></li><li><details><summary>crs_transform: List (6 elements)</summary><ul><li><span class='ee-k'>0:</span><span class='ee-v'>29.989729544676482</span></li><li><span class='ee-k'>1:</span><span class='ee-v'>0</span></li><li><span class='ee-k'>2:</span><span class='ee-v'>495300</span></li><li><span class='ee-k'>3:</span><span class='ee-v'>0</span></li><li><span class='ee-k'>4:</span><span class='ee-v'>-29.98530132288094</span></li><li><span class='ee-k'>5:</span><span class='ee-v'>9027900</span></li></ul></details></li><li><details><summary>data_type: signed int16</summary><ul><li><span class='ee-k'>type:</span><span class='ee-v'>PixelType</span></li><li><span class='ee-k'>max:</span><span class='ee-v'>32767</span></li><li><span class='ee-k'>min:</span><span class='ee-v'>-32768</span></li><li><span class='ee-k'>precision:</span><span class='ee-v'>int</span></li></ul></details></li><li><details><summary>dimensions: [2921, 2041]</summary><ul><li><span class='ee-k'>0:</span><span class='ee-v'>2921</span></li><li><span class='ee-k'>1:</span><span class='ee-v'>2041</span></li></ul></details></li></ul></details></li><li><details><summary>55: \"B082\", signed int16, EPSG:32631, 2921x2041 px</summary><ul><li><span class='ee-k'>id:</span><span class='ee-v'>B082</span></li><li><span class='ee-k'>crs:</span><span class='ee-v'>EPSG:32631</span></li><li><details><summary>crs_transform: List (6 elements)</summary><ul><li><span class='ee-k'>0:</span><span class='ee-v'>29.989729544676482</span></li><li><span class='ee-k'>1:</span><span class='ee-v'>0</span></li><li><span class='ee-k'>2:</span><span class='ee-v'>495300</span></li><li><span class='ee-k'>3:</span><span class='ee-v'>0</span></li><li><span class='ee-k'>4:</span><span class='ee-v'>-29.98530132288094</span></li><li><span class='ee-k'>5:</span><span class='ee-v'>9027900</span></li></ul></details></li><li><details><summary>data_type: signed int16</summary><ul><li><span class='ee-k'>type:</span><span class='ee-v'>PixelType</span></li><li><span class='ee-k'>max:</span><span class='ee-v'>32767</span></li><li><span class='ee-k'>min:</span><span class='ee-v'>-32768</span></li><li><span class='ee-k'>precision:</span><span class='ee-v'>int</span></li></ul></details></li><li><details><summary>dimensions: [2921, 2041]</summary><ul><li><span class='ee-k'>0:</span><span class='ee-v'>2921</span></li><li><span class='ee-k'>1:</span><span class='ee-v'>2041</span></li></ul></details></li></ul></details></li><li><details><summary>56: \"B083\", signed int16, EPSG:32631, 2921x2041 px</summary><ul><li><span class='ee-k'>id:</span><span class='ee-v'>B083</span></li><li><span class='ee-k'>crs:</span><span class='ee-v'>EPSG:32631</span></li><li><details><summary>crs_transform: List (6 elements)</summary><ul><li><span class='ee-k'>0:</span><span class='ee-v'>29.989729544676482</span></li><li><span class='ee-k'>1:</span><span class='ee-v'>0</span></li><li><span class='ee-k'>2:</span><span class='ee-v'>495300</span></li><li><span class='ee-k'>3:</span><span class='ee-v'>0</span></li><li><span class='ee-k'>4:</span><span class='ee-v'>-29.98530132288094</span></li><li><span class='ee-k'>5:</span><span class='ee-v'>9027900</span></li></ul></details></li><li><details><summary>data_type: signed int16</summary><ul><li><span class='ee-k'>type:</span><span class='ee-v'>PixelType</span></li><li><span class='ee-k'>max:</span><span class='ee-v'>32767</span></li><li><span class='ee-k'>min:</span><span class='ee-v'>-32768</span></li><li><span class='ee-k'>precision:</span><span class='ee-v'>int</span></li></ul></details></li><li><details><summary>dimensions: [2921, 2041]</summary><ul><li><span class='ee-k'>0:</span><span class='ee-v'>2921</span></li><li><span class='ee-k'>1:</span><span class='ee-v'>2041</span></li></ul></details></li></ul></details></li><li><details><summary>57: \"B084\", signed int16, EPSG:32631, 2921x2041 px</summary><ul><li><span class='ee-k'>id:</span><span class='ee-v'>B084</span></li><li><span class='ee-k'>crs:</span><span class='ee-v'>EPSG:32631</span></li><li><details><summary>crs_transform: List (6 elements)</summary><ul><li><span class='ee-k'>0:</span><span class='ee-v'>29.989729544676482</span></li><li><span class='ee-k'>1:</span><span class='ee-v'>0</span></li><li><span class='ee-k'>2:</span><span class='ee-v'>495300</span></li><li><span class='ee-k'>3:</span><span class='ee-v'>0</span></li><li><span class='ee-k'>4:</span><span class='ee-v'>-29.98530132288094</span></li><li><span class='ee-k'>5:</span><span class='ee-v'>9027900</span></li></ul></details></li><li><details><summary>data_type: signed int16</summary><ul><li><span class='ee-k'>type:</span><span class='ee-v'>PixelType</span></li><li><span class='ee-k'>max:</span><span class='ee-v'>32767</span></li><li><span class='ee-k'>min:</span><span class='ee-v'>-32768</span></li><li><span class='ee-k'>precision:</span><span class='ee-v'>int</span></li></ul></details></li><li><details><summary>dimensions: [2921, 2041]</summary><ul><li><span class='ee-k'>0:</span><span class='ee-v'>2921</span></li><li><span class='ee-k'>1:</span><span class='ee-v'>2041</span></li></ul></details></li></ul></details></li><li><details><summary>58: \"B085\", signed int16, EPSG:32631, 2921x2041 px</summary><ul><li><span class='ee-k'>id:</span><span class='ee-v'>B085</span></li><li><span class='ee-k'>crs:</span><span class='ee-v'>EPSG:32631</span></li><li><details><summary>crs_transform: List (6 elements)</summary><ul><li><span class='ee-k'>0:</span><span class='ee-v'>29.989729544676482</span></li><li><span class='ee-k'>1:</span><span class='ee-v'>0</span></li><li><span class='ee-k'>2:</span><span class='ee-v'>495300</span></li><li><span class='ee-k'>3:</span><span class='ee-v'>0</span></li><li><span class='ee-k'>4:</span><span class='ee-v'>-29.98530132288094</span></li><li><span class='ee-k'>5:</span><span class='ee-v'>9027900</span></li></ul></details></li><li><details><summary>data_type: signed int16</summary><ul><li><span class='ee-k'>type:</span><span class='ee-v'>PixelType</span></li><li><span class='ee-k'>max:</span><span class='ee-v'>32767</span></li><li><span class='ee-k'>min:</span><span class='ee-v'>-32768</span></li><li><span class='ee-k'>precision:</span><span class='ee-v'>int</span></li></ul></details></li><li><details><summary>dimensions: [2921, 2041]</summary><ul><li><span class='ee-k'>0:</span><span class='ee-v'>2921</span></li><li><span class='ee-k'>1:</span><span class='ee-v'>2041</span></li></ul></details></li></ul></details></li><li><details><summary>59: \"B086\", signed int16, EPSG:32631, 2921x2041 px</summary><ul><li><span class='ee-k'>id:</span><span class='ee-v'>B086</span></li><li><span class='ee-k'>crs:</span><span class='ee-v'>EPSG:32631</span></li><li><details><summary>crs_transform: List (6 elements)</summary><ul><li><span class='ee-k'>0:</span><span class='ee-v'>29.989729544676482</span></li><li><span class='ee-k'>1:</span><span class='ee-v'>0</span></li><li><span class='ee-k'>2:</span><span class='ee-v'>495300</span></li><li><span class='ee-k'>3:</span><span class='ee-v'>0</span></li><li><span class='ee-k'>4:</span><span class='ee-v'>-29.98530132288094</span></li><li><span class='ee-k'>5:</span><span class='ee-v'>9027900</span></li></ul></details></li><li><details><summary>data_type: signed int16</summary><ul><li><span class='ee-k'>type:</span><span class='ee-v'>PixelType</span></li><li><span class='ee-k'>max:</span><span class='ee-v'>32767</span></li><li><span class='ee-k'>min:</span><span class='ee-v'>-32768</span></li><li><span class='ee-k'>precision:</span><span class='ee-v'>int</span></li></ul></details></li><li><details><summary>dimensions: [2921, 2041]</summary><ul><li><span class='ee-k'>0:</span><span class='ee-v'>2921</span></li><li><span class='ee-k'>1:</span><span class='ee-v'>2041</span></li></ul></details></li></ul></details></li><li><details><summary>60: \"B087\", signed int16, EPSG:32631, 2921x2041 px</summary><ul><li><span class='ee-k'>id:</span><span class='ee-v'>B087</span></li><li><span class='ee-k'>crs:</span><span class='ee-v'>EPSG:32631</span></li><li><details><summary>crs_transform: List (6 elements)</summary><ul><li><span class='ee-k'>0:</span><span class='ee-v'>29.989729544676482</span></li><li><span class='ee-k'>1:</span><span class='ee-v'>0</span></li><li><span class='ee-k'>2:</span><span class='ee-v'>495300</span></li><li><span class='ee-k'>3:</span><span class='ee-v'>0</span></li><li><span class='ee-k'>4:</span><span class='ee-v'>-29.98530132288094</span></li><li><span class='ee-k'>5:</span><span class='ee-v'>9027900</span></li></ul></details></li><li><details><summary>data_type: signed int16</summary><ul><li><span class='ee-k'>type:</span><span class='ee-v'>PixelType</span></li><li><span class='ee-k'>max:</span><span class='ee-v'>32767</span></li><li><span class='ee-k'>min:</span><span class='ee-v'>-32768</span></li><li><span class='ee-k'>precision:</span><span class='ee-v'>int</span></li></ul></details></li><li><details><summary>dimensions: [2921, 2041]</summary><ul><li><span class='ee-k'>0:</span><span class='ee-v'>2921</span></li><li><span class='ee-k'>1:</span><span class='ee-v'>2041</span></li></ul></details></li></ul></details></li><li><details><summary>61: \"B088\", signed int16, EPSG:32631, 2921x2041 px</summary><ul><li><span class='ee-k'>id:</span><span class='ee-v'>B088</span></li><li><span class='ee-k'>crs:</span><span class='ee-v'>EPSG:32631</span></li><li><details><summary>crs_transform: List (6 elements)</summary><ul><li><span class='ee-k'>0:</span><span class='ee-v'>29.989729544676482</span></li><li><span class='ee-k'>1:</span><span class='ee-v'>0</span></li><li><span class='ee-k'>2:</span><span class='ee-v'>495300</span></li><li><span class='ee-k'>3:</span><span class='ee-v'>0</span></li><li><span class='ee-k'>4:</span><span class='ee-v'>-29.98530132288094</span></li><li><span class='ee-k'>5:</span><span class='ee-v'>9027900</span></li></ul></details></li><li><details><summary>data_type: signed int16</summary><ul><li><span class='ee-k'>type:</span><span class='ee-v'>PixelType</span></li><li><span class='ee-k'>max:</span><span class='ee-v'>32767</span></li><li><span class='ee-k'>min:</span><span class='ee-v'>-32768</span></li><li><span class='ee-k'>precision:</span><span class='ee-v'>int</span></li></ul></details></li><li><details><summary>dimensions: [2921, 2041]</summary><ul><li><span class='ee-k'>0:</span><span class='ee-v'>2921</span></li><li><span class='ee-k'>1:</span><span class='ee-v'>2041</span></li></ul></details></li></ul></details></li><li><details><summary>62: \"B089\", signed int16, EPSG:32631, 2921x2041 px</summary><ul><li><span class='ee-k'>id:</span><span class='ee-v'>B089</span></li><li><span class='ee-k'>crs:</span><span class='ee-v'>EPSG:32631</span></li><li><details><summary>crs_transform: List (6 elements)</summary><ul><li><span class='ee-k'>0:</span><span class='ee-v'>29.989729544676482</span></li><li><span class='ee-k'>1:</span><span class='ee-v'>0</span></li><li><span class='ee-k'>2:</span><span class='ee-v'>495300</span></li><li><span class='ee-k'>3:</span><span class='ee-v'>0</span></li><li><span class='ee-k'>4:</span><span class='ee-v'>-29.98530132288094</span></li><li><span class='ee-k'>5:</span><span class='ee-v'>9027900</span></li></ul></details></li><li><details><summary>data_type: signed int16</summary><ul><li><span class='ee-k'>type:</span><span class='ee-v'>PixelType</span></li><li><span class='ee-k'>max:</span><span class='ee-v'>32767</span></li><li><span class='ee-k'>min:</span><span class='ee-v'>-32768</span></li><li><span class='ee-k'>precision:</span><span class='ee-v'>int</span></li></ul></details></li><li><details><summary>dimensions: [2921, 2041]</summary><ul><li><span class='ee-k'>0:</span><span class='ee-v'>2921</span></li><li><span class='ee-k'>1:</span><span class='ee-v'>2041</span></li></ul></details></li></ul></details></li><li><details><summary>63: \"B090\", signed int16, EPSG:32631, 2921x2041 px</summary><ul><li><span class='ee-k'>id:</span><span class='ee-v'>B090</span></li><li><span class='ee-k'>crs:</span><span class='ee-v'>EPSG:32631</span></li><li><details><summary>crs_transform: List (6 elements)</summary><ul><li><span class='ee-k'>0:</span><span class='ee-v'>29.989729544676482</span></li><li><span class='ee-k'>1:</span><span class='ee-v'>0</span></li><li><span class='ee-k'>2:</span><span class='ee-v'>495300</span></li><li><span class='ee-k'>3:</span><span class='ee-v'>0</span></li><li><span class='ee-k'>4:</span><span class='ee-v'>-29.98530132288094</span></li><li><span class='ee-k'>5:</span><span class='ee-v'>9027900</span></li></ul></details></li><li><details><summary>data_type: signed int16</summary><ul><li><span class='ee-k'>type:</span><span class='ee-v'>PixelType</span></li><li><span class='ee-k'>max:</span><span class='ee-v'>32767</span></li><li><span class='ee-k'>min:</span><span class='ee-v'>-32768</span></li><li><span class='ee-k'>precision:</span><span class='ee-v'>int</span></li></ul></details></li><li><details><summary>dimensions: [2921, 2041]</summary><ul><li><span class='ee-k'>0:</span><span class='ee-v'>2921</span></li><li><span class='ee-k'>1:</span><span class='ee-v'>2041</span></li></ul></details></li></ul></details></li><li><details><summary>64: \"B091\", signed int16, EPSG:32631, 2921x2041 px</summary><ul><li><span class='ee-k'>id:</span><span class='ee-v'>B091</span></li><li><span class='ee-k'>crs:</span><span class='ee-v'>EPSG:32631</span></li><li><details><summary>crs_transform: List (6 elements)</summary><ul><li><span class='ee-k'>0:</span><span class='ee-v'>29.989729544676482</span></li><li><span class='ee-k'>1:</span><span class='ee-v'>0</span></li><li><span class='ee-k'>2:</span><span class='ee-v'>495300</span></li><li><span class='ee-k'>3:</span><span class='ee-v'>0</span></li><li><span class='ee-k'>4:</span><span class='ee-v'>-29.98530132288094</span></li><li><span class='ee-k'>5:</span><span class='ee-v'>9027900</span></li></ul></details></li><li><details><summary>data_type: signed int16</summary><ul><li><span class='ee-k'>type:</span><span class='ee-v'>PixelType</span></li><li><span class='ee-k'>max:</span><span class='ee-v'>32767</span></li><li><span class='ee-k'>min:</span><span class='ee-v'>-32768</span></li><li><span class='ee-k'>precision:</span><span class='ee-v'>int</span></li></ul></details></li><li><details><summary>dimensions: [2921, 2041]</summary><ul><li><span class='ee-k'>0:</span><span class='ee-v'>2921</span></li><li><span class='ee-k'>1:</span><span class='ee-v'>2041</span></li></ul></details></li></ul></details></li><li><details><summary>65: \"B092\", signed int16, EPSG:32631, 2921x2041 px</summary><ul><li><span class='ee-k'>id:</span><span class='ee-v'>B092</span></li><li><span class='ee-k'>crs:</span><span class='ee-v'>EPSG:32631</span></li><li><details><summary>crs_transform: List (6 elements)</summary><ul><li><span class='ee-k'>0:</span><span class='ee-v'>29.989729544676482</span></li><li><span class='ee-k'>1:</span><span class='ee-v'>0</span></li><li><span class='ee-k'>2:</span><span class='ee-v'>495300</span></li><li><span class='ee-k'>3:</span><span class='ee-v'>0</span></li><li><span class='ee-k'>4:</span><span class='ee-v'>-29.98530132288094</span></li><li><span class='ee-k'>5:</span><span class='ee-v'>9027900</span></li></ul></details></li><li><details><summary>data_type: signed int16</summary><ul><li><span class='ee-k'>type:</span><span class='ee-v'>PixelType</span></li><li><span class='ee-k'>max:</span><span class='ee-v'>32767</span></li><li><span class='ee-k'>min:</span><span class='ee-v'>-32768</span></li><li><span class='ee-k'>precision:</span><span class='ee-v'>int</span></li></ul></details></li><li><details><summary>dimensions: [2921, 2041]</summary><ul><li><span class='ee-k'>0:</span><span class='ee-v'>2921</span></li><li><span class='ee-k'>1:</span><span class='ee-v'>2041</span></li></ul></details></li></ul></details></li><li><details><summary>66: \"B093\", signed int16, EPSG:32631, 2921x2041 px</summary><ul><li><span class='ee-k'>id:</span><span class='ee-v'>B093</span></li><li><span class='ee-k'>crs:</span><span class='ee-v'>EPSG:32631</span></li><li><details><summary>crs_transform: List (6 elements)</summary><ul><li><span class='ee-k'>0:</span><span class='ee-v'>29.989729544676482</span></li><li><span class='ee-k'>1:</span><span class='ee-v'>0</span></li><li><span class='ee-k'>2:</span><span class='ee-v'>495300</span></li><li><span class='ee-k'>3:</span><span class='ee-v'>0</span></li><li><span class='ee-k'>4:</span><span class='ee-v'>-29.98530132288094</span></li><li><span class='ee-k'>5:</span><span class='ee-v'>9027900</span></li></ul></details></li><li><details><summary>data_type: signed int16</summary><ul><li><span class='ee-k'>type:</span><span class='ee-v'>PixelType</span></li><li><span class='ee-k'>max:</span><span class='ee-v'>32767</span></li><li><span class='ee-k'>min:</span><span class='ee-v'>-32768</span></li><li><span class='ee-k'>precision:</span><span class='ee-v'>int</span></li></ul></details></li><li><details><summary>dimensions: [2921, 2041]</summary><ul><li><span class='ee-k'>0:</span><span class='ee-v'>2921</span></li><li><span class='ee-k'>1:</span><span class='ee-v'>2041</span></li></ul></details></li></ul></details></li><li><details><summary>67: \"B094\", signed int16, EPSG:32631, 2921x2041 px</summary><ul><li><span class='ee-k'>id:</span><span class='ee-v'>B094</span></li><li><span class='ee-k'>crs:</span><span class='ee-v'>EPSG:32631</span></li><li><details><summary>crs_transform: List (6 elements)</summary><ul><li><span class='ee-k'>0:</span><span class='ee-v'>29.989729544676482</span></li><li><span class='ee-k'>1:</span><span class='ee-v'>0</span></li><li><span class='ee-k'>2:</span><span class='ee-v'>495300</span></li><li><span class='ee-k'>3:</span><span class='ee-v'>0</span></li><li><span class='ee-k'>4:</span><span class='ee-v'>-29.98530132288094</span></li><li><span class='ee-k'>5:</span><span class='ee-v'>9027900</span></li></ul></details></li><li><details><summary>data_type: signed int16</summary><ul><li><span class='ee-k'>type:</span><span class='ee-v'>PixelType</span></li><li><span class='ee-k'>max:</span><span class='ee-v'>32767</span></li><li><span class='ee-k'>min:</span><span class='ee-v'>-32768</span></li><li><span class='ee-k'>precision:</span><span class='ee-v'>int</span></li></ul></details></li><li><details><summary>dimensions: [2921, 2041]</summary><ul><li><span class='ee-k'>0:</span><span class='ee-v'>2921</span></li><li><span class='ee-k'>1:</span><span class='ee-v'>2041</span></li></ul></details></li></ul></details></li><li><details><summary>68: \"B095\", signed int16, EPSG:32631, 2921x2041 px</summary><ul><li><span class='ee-k'>id:</span><span class='ee-v'>B095</span></li><li><span class='ee-k'>crs:</span><span class='ee-v'>EPSG:32631</span></li><li><details><summary>crs_transform: List (6 elements)</summary><ul><li><span class='ee-k'>0:</span><span class='ee-v'>29.989729544676482</span></li><li><span class='ee-k'>1:</span><span class='ee-v'>0</span></li><li><span class='ee-k'>2:</span><span class='ee-v'>495300</span></li><li><span class='ee-k'>3:</span><span class='ee-v'>0</span></li><li><span class='ee-k'>4:</span><span class='ee-v'>-29.98530132288094</span></li><li><span class='ee-k'>5:</span><span class='ee-v'>9027900</span></li></ul></details></li><li><details><summary>data_type: signed int16</summary><ul><li><span class='ee-k'>type:</span><span class='ee-v'>PixelType</span></li><li><span class='ee-k'>max:</span><span class='ee-v'>32767</span></li><li><span class='ee-k'>min:</span><span class='ee-v'>-32768</span></li><li><span class='ee-k'>precision:</span><span class='ee-v'>int</span></li></ul></details></li><li><details><summary>dimensions: [2921, 2041]</summary><ul><li><span class='ee-k'>0:</span><span class='ee-v'>2921</span></li><li><span class='ee-k'>1:</span><span class='ee-v'>2041</span></li></ul></details></li></ul></details></li><li><details><summary>69: \"B096\", signed int16, EPSG:32631, 2921x2041 px</summary><ul><li><span class='ee-k'>id:</span><span class='ee-v'>B096</span></li><li><span class='ee-k'>crs:</span><span class='ee-v'>EPSG:32631</span></li><li><details><summary>crs_transform: List (6 elements)</summary><ul><li><span class='ee-k'>0:</span><span class='ee-v'>29.989729544676482</span></li><li><span class='ee-k'>1:</span><span class='ee-v'>0</span></li><li><span class='ee-k'>2:</span><span class='ee-v'>495300</span></li><li><span class='ee-k'>3:</span><span class='ee-v'>0</span></li><li><span class='ee-k'>4:</span><span class='ee-v'>-29.98530132288094</span></li><li><span class='ee-k'>5:</span><span class='ee-v'>9027900</span></li></ul></details></li><li><details><summary>data_type: signed int16</summary><ul><li><span class='ee-k'>type:</span><span class='ee-v'>PixelType</span></li><li><span class='ee-k'>max:</span><span class='ee-v'>32767</span></li><li><span class='ee-k'>min:</span><span class='ee-v'>-32768</span></li><li><span class='ee-k'>precision:</span><span class='ee-v'>int</span></li></ul></details></li><li><details><summary>dimensions: [2921, 2041]</summary><ul><li><span class='ee-k'>0:</span><span class='ee-v'>2921</span></li><li><span class='ee-k'>1:</span><span class='ee-v'>2041</span></li></ul></details></li></ul></details></li><li><details><summary>70: \"B097\", signed int16, EPSG:32631, 2921x2041 px</summary><ul><li><span class='ee-k'>id:</span><span class='ee-v'>B097</span></li><li><span class='ee-k'>crs:</span><span class='ee-v'>EPSG:32631</span></li><li><details><summary>crs_transform: List (6 elements)</summary><ul><li><span class='ee-k'>0:</span><span class='ee-v'>29.989729544676482</span></li><li><span class='ee-k'>1:</span><span class='ee-v'>0</span></li><li><span class='ee-k'>2:</span><span class='ee-v'>495300</span></li><li><span class='ee-k'>3:</span><span class='ee-v'>0</span></li><li><span class='ee-k'>4:</span><span class='ee-v'>-29.98530132288094</span></li><li><span class='ee-k'>5:</span><span class='ee-v'>9027900</span></li></ul></details></li><li><details><summary>data_type: signed int16</summary><ul><li><span class='ee-k'>type:</span><span class='ee-v'>PixelType</span></li><li><span class='ee-k'>max:</span><span class='ee-v'>32767</span></li><li><span class='ee-k'>min:</span><span class='ee-v'>-32768</span></li><li><span class='ee-k'>precision:</span><span class='ee-v'>int</span></li></ul></details></li><li><details><summary>dimensions: [2921, 2041]</summary><ul><li><span class='ee-k'>0:</span><span class='ee-v'>2921</span></li><li><span class='ee-k'>1:</span><span class='ee-v'>2041</span></li></ul></details></li></ul></details></li><li><details><summary>71: \"B098\", signed int16, EPSG:32631, 2921x2041 px</summary><ul><li><span class='ee-k'>id:</span><span class='ee-v'>B098</span></li><li><span class='ee-k'>crs:</span><span class='ee-v'>EPSG:32631</span></li><li><details><summary>crs_transform: List (6 elements)</summary><ul><li><span class='ee-k'>0:</span><span class='ee-v'>29.989729544676482</span></li><li><span class='ee-k'>1:</span><span class='ee-v'>0</span></li><li><span class='ee-k'>2:</span><span class='ee-v'>495300</span></li><li><span class='ee-k'>3:</span><span class='ee-v'>0</span></li><li><span class='ee-k'>4:</span><span class='ee-v'>-29.98530132288094</span></li><li><span class='ee-k'>5:</span><span class='ee-v'>9027900</span></li></ul></details></li><li><details><summary>data_type: signed int16</summary><ul><li><span class='ee-k'>type:</span><span class='ee-v'>PixelType</span></li><li><span class='ee-k'>max:</span><span class='ee-v'>32767</span></li><li><span class='ee-k'>min:</span><span class='ee-v'>-32768</span></li><li><span class='ee-k'>precision:</span><span class='ee-v'>int</span></li></ul></details></li><li><details><summary>dimensions: [2921, 2041]</summary><ul><li><span class='ee-k'>0:</span><span class='ee-v'>2921</span></li><li><span class='ee-k'>1:</span><span class='ee-v'>2041</span></li></ul></details></li></ul></details></li><li><details><summary>72: \"B099\", signed int16, EPSG:32631, 2921x2041 px</summary><ul><li><span class='ee-k'>id:</span><span class='ee-v'>B099</span></li><li><span class='ee-k'>crs:</span><span class='ee-v'>EPSG:32631</span></li><li><details><summary>crs_transform: List (6 elements)</summary><ul><li><span class='ee-k'>0:</span><span class='ee-v'>29.989729544676482</span></li><li><span class='ee-k'>1:</span><span class='ee-v'>0</span></li><li><span class='ee-k'>2:</span><span class='ee-v'>495300</span></li><li><span class='ee-k'>3:</span><span class='ee-v'>0</span></li><li><span class='ee-k'>4:</span><span class='ee-v'>-29.98530132288094</span></li><li><span class='ee-k'>5:</span><span class='ee-v'>9027900</span></li></ul></details></li><li><details><summary>data_type: signed int16</summary><ul><li><span class='ee-k'>type:</span><span class='ee-v'>PixelType</span></li><li><span class='ee-k'>max:</span><span class='ee-v'>32767</span></li><li><span class='ee-k'>min:</span><span class='ee-v'>-32768</span></li><li><span class='ee-k'>precision:</span><span class='ee-v'>int</span></li></ul></details></li><li><details><summary>dimensions: [2921, 2041]</summary><ul><li><span class='ee-k'>0:</span><span class='ee-v'>2921</span></li><li><span class='ee-k'>1:</span><span class='ee-v'>2041</span></li></ul></details></li></ul></details></li><li><details><summary>73: \"B100\", signed int16, EPSG:32631, 2921x2041 px</summary><ul><li><span class='ee-k'>id:</span><span class='ee-v'>B100</span></li><li><span class='ee-k'>crs:</span><span class='ee-v'>EPSG:32631</span></li><li><details><summary>crs_transform: List (6 elements)</summary><ul><li><span class='ee-k'>0:</span><span class='ee-v'>29.989729544676482</span></li><li><span class='ee-k'>1:</span><span class='ee-v'>0</span></li><li><span class='ee-k'>2:</span><span class='ee-v'>495300</span></li><li><span class='ee-k'>3:</span><span class='ee-v'>0</span></li><li><span class='ee-k'>4:</span><span class='ee-v'>-29.98530132288094</span></li><li><span class='ee-k'>5:</span><span class='ee-v'>9027900</span></li></ul></details></li><li><details><summary>data_type: signed int16</summary><ul><li><span class='ee-k'>type:</span><span class='ee-v'>PixelType</span></li><li><span class='ee-k'>max:</span><span class='ee-v'>32767</span></li><li><span class='ee-k'>min:</span><span class='ee-v'>-32768</span></li><li><span class='ee-k'>precision:</span><span class='ee-v'>int</span></li></ul></details></li><li><details><summary>dimensions: [2921, 2041]</summary><ul><li><span class='ee-k'>0:</span><span class='ee-v'>2921</span></li><li><span class='ee-k'>1:</span><span class='ee-v'>2041</span></li></ul></details></li></ul></details></li><li><details><summary>74: \"B101\", signed int16, EPSG:32631, 2921x2041 px</summary><ul><li><span class='ee-k'>id:</span><span class='ee-v'>B101</span></li><li><span class='ee-k'>crs:</span><span class='ee-v'>EPSG:32631</span></li><li><details><summary>crs_transform: List (6 elements)</summary><ul><li><span class='ee-k'>0:</span><span class='ee-v'>29.989729544676482</span></li><li><span class='ee-k'>1:</span><span class='ee-v'>0</span></li><li><span class='ee-k'>2:</span><span class='ee-v'>495300</span></li><li><span class='ee-k'>3:</span><span class='ee-v'>0</span></li><li><span class='ee-k'>4:</span><span class='ee-v'>-29.98530132288094</span></li><li><span class='ee-k'>5:</span><span class='ee-v'>9027900</span></li></ul></details></li><li><details><summary>data_type: signed int16</summary><ul><li><span class='ee-k'>type:</span><span class='ee-v'>PixelType</span></li><li><span class='ee-k'>max:</span><span class='ee-v'>32767</span></li><li><span class='ee-k'>min:</span><span class='ee-v'>-32768</span></li><li><span class='ee-k'>precision:</span><span class='ee-v'>int</span></li></ul></details></li><li><details><summary>dimensions: [2921, 2041]</summary><ul><li><span class='ee-k'>0:</span><span class='ee-v'>2921</span></li><li><span class='ee-k'>1:</span><span class='ee-v'>2041</span></li></ul></details></li></ul></details></li><li><details><summary>75: \"B102\", signed int16, EPSG:32631, 2921x2041 px</summary><ul><li><span class='ee-k'>id:</span><span class='ee-v'>B102</span></li><li><span class='ee-k'>crs:</span><span class='ee-v'>EPSG:32631</span></li><li><details><summary>crs_transform: List (6 elements)</summary><ul><li><span class='ee-k'>0:</span><span class='ee-v'>29.989729544676482</span></li><li><span class='ee-k'>1:</span><span class='ee-v'>0</span></li><li><span class='ee-k'>2:</span><span class='ee-v'>495300</span></li><li><span class='ee-k'>3:</span><span class='ee-v'>0</span></li><li><span class='ee-k'>4:</span><span class='ee-v'>-29.98530132288094</span></li><li><span class='ee-k'>5:</span><span class='ee-v'>9027900</span></li></ul></details></li><li><details><summary>data_type: signed int16</summary><ul><li><span class='ee-k'>type:</span><span class='ee-v'>PixelType</span></li><li><span class='ee-k'>max:</span><span class='ee-v'>32767</span></li><li><span class='ee-k'>min:</span><span class='ee-v'>-32768</span></li><li><span class='ee-k'>precision:</span><span class='ee-v'>int</span></li></ul></details></li><li><details><summary>dimensions: [2921, 2041]</summary><ul><li><span class='ee-k'>0:</span><span class='ee-v'>2921</span></li><li><span class='ee-k'>1:</span><span class='ee-v'>2041</span></li></ul></details></li></ul></details></li><li><details><summary>76: \"B103\", signed int16, EPSG:32631, 2921x2041 px</summary><ul><li><span class='ee-k'>id:</span><span class='ee-v'>B103</span></li><li><span class='ee-k'>crs:</span><span class='ee-v'>EPSG:32631</span></li><li><details><summary>crs_transform: List (6 elements)</summary><ul><li><span class='ee-k'>0:</span><span class='ee-v'>29.989729544676482</span></li><li><span class='ee-k'>1:</span><span class='ee-v'>0</span></li><li><span class='ee-k'>2:</span><span class='ee-v'>495300</span></li><li><span class='ee-k'>3:</span><span class='ee-v'>0</span></li><li><span class='ee-k'>4:</span><span class='ee-v'>-29.98530132288094</span></li><li><span class='ee-k'>5:</span><span class='ee-v'>9027900</span></li></ul></details></li><li><details><summary>data_type: signed int16</summary><ul><li><span class='ee-k'>type:</span><span class='ee-v'>PixelType</span></li><li><span class='ee-k'>max:</span><span class='ee-v'>32767</span></li><li><span class='ee-k'>min:</span><span class='ee-v'>-32768</span></li><li><span class='ee-k'>precision:</span><span class='ee-v'>int</span></li></ul></details></li><li><details><summary>dimensions: [2921, 2041]</summary><ul><li><span class='ee-k'>0:</span><span class='ee-v'>2921</span></li><li><span class='ee-k'>1:</span><span class='ee-v'>2041</span></li></ul></details></li></ul></details></li><li><details><summary>77: \"B104\", signed int16, EPSG:32631, 2921x2041 px</summary><ul><li><span class='ee-k'>id:</span><span class='ee-v'>B104</span></li><li><span class='ee-k'>crs:</span><span class='ee-v'>EPSG:32631</span></li><li><details><summary>crs_transform: List (6 elements)</summary><ul><li><span class='ee-k'>0:</span><span class='ee-v'>29.989729544676482</span></li><li><span class='ee-k'>1:</span><span class='ee-v'>0</span></li><li><span class='ee-k'>2:</span><span class='ee-v'>495300</span></li><li><span class='ee-k'>3:</span><span class='ee-v'>0</span></li><li><span class='ee-k'>4:</span><span class='ee-v'>-29.98530132288094</span></li><li><span class='ee-k'>5:</span><span class='ee-v'>9027900</span></li></ul></details></li><li><details><summary>data_type: signed int16</summary><ul><li><span class='ee-k'>type:</span><span class='ee-v'>PixelType</span></li><li><span class='ee-k'>max:</span><span class='ee-v'>32767</span></li><li><span class='ee-k'>min:</span><span class='ee-v'>-32768</span></li><li><span class='ee-k'>precision:</span><span class='ee-v'>int</span></li></ul></details></li><li><details><summary>dimensions: [2921, 2041]</summary><ul><li><span class='ee-k'>0:</span><span class='ee-v'>2921</span></li><li><span class='ee-k'>1:</span><span class='ee-v'>2041</span></li></ul></details></li></ul></details></li><li><details><summary>78: \"B105\", signed int16, EPSG:32631, 2921x2041 px</summary><ul><li><span class='ee-k'>id:</span><span class='ee-v'>B105</span></li><li><span class='ee-k'>crs:</span><span class='ee-v'>EPSG:32631</span></li><li><details><summary>crs_transform: List (6 elements)</summary><ul><li><span class='ee-k'>0:</span><span class='ee-v'>29.989729544676482</span></li><li><span class='ee-k'>1:</span><span class='ee-v'>0</span></li><li><span class='ee-k'>2:</span><span class='ee-v'>495300</span></li><li><span class='ee-k'>3:</span><span class='ee-v'>0</span></li><li><span class='ee-k'>4:</span><span class='ee-v'>-29.98530132288094</span></li><li><span class='ee-k'>5:</span><span class='ee-v'>9027900</span></li></ul></details></li><li><details><summary>data_type: signed int16</summary><ul><li><span class='ee-k'>type:</span><span class='ee-v'>PixelType</span></li><li><span class='ee-k'>max:</span><span class='ee-v'>32767</span></li><li><span class='ee-k'>min:</span><span class='ee-v'>-32768</span></li><li><span class='ee-k'>precision:</span><span class='ee-v'>int</span></li></ul></details></li><li><details><summary>dimensions: [2921, 2041]</summary><ul><li><span class='ee-k'>0:</span><span class='ee-v'>2921</span></li><li><span class='ee-k'>1:</span><span class='ee-v'>2041</span></li></ul></details></li></ul></details></li><li><details><summary>79: \"B106\", signed int16, EPSG:32631, 2921x2041 px</summary><ul><li><span class='ee-k'>id:</span><span class='ee-v'>B106</span></li><li><span class='ee-k'>crs:</span><span class='ee-v'>EPSG:32631</span></li><li><details><summary>crs_transform: List (6 elements)</summary><ul><li><span class='ee-k'>0:</span><span class='ee-v'>29.989729544676482</span></li><li><span class='ee-k'>1:</span><span class='ee-v'>0</span></li><li><span class='ee-k'>2:</span><span class='ee-v'>495300</span></li><li><span class='ee-k'>3:</span><span class='ee-v'>0</span></li><li><span class='ee-k'>4:</span><span class='ee-v'>-29.98530132288094</span></li><li><span class='ee-k'>5:</span><span class='ee-v'>9027900</span></li></ul></details></li><li><details><summary>data_type: signed int16</summary><ul><li><span class='ee-k'>type:</span><span class='ee-v'>PixelType</span></li><li><span class='ee-k'>max:</span><span class='ee-v'>32767</span></li><li><span class='ee-k'>min:</span><span class='ee-v'>-32768</span></li><li><span class='ee-k'>precision:</span><span class='ee-v'>int</span></li></ul></details></li><li><details><summary>dimensions: [2921, 2041]</summary><ul><li><span class='ee-k'>0:</span><span class='ee-v'>2921</span></li><li><span class='ee-k'>1:</span><span class='ee-v'>2041</span></li></ul></details></li></ul></details></li><li><details><summary>80: \"B107\", signed int16, EPSG:32631, 2921x2041 px</summary><ul><li><span class='ee-k'>id:</span><span class='ee-v'>B107</span></li><li><span class='ee-k'>crs:</span><span class='ee-v'>EPSG:32631</span></li><li><details><summary>crs_transform: List (6 elements)</summary><ul><li><span class='ee-k'>0:</span><span class='ee-v'>29.989729544676482</span></li><li><span class='ee-k'>1:</span><span class='ee-v'>0</span></li><li><span class='ee-k'>2:</span><span class='ee-v'>495300</span></li><li><span class='ee-k'>3:</span><span class='ee-v'>0</span></li><li><span class='ee-k'>4:</span><span class='ee-v'>-29.98530132288094</span></li><li><span class='ee-k'>5:</span><span class='ee-v'>9027900</span></li></ul></details></li><li><details><summary>data_type: signed int16</summary><ul><li><span class='ee-k'>type:</span><span class='ee-v'>PixelType</span></li><li><span class='ee-k'>max:</span><span class='ee-v'>32767</span></li><li><span class='ee-k'>min:</span><span class='ee-v'>-32768</span></li><li><span class='ee-k'>precision:</span><span class='ee-v'>int</span></li></ul></details></li><li><details><summary>dimensions: [2921, 2041]</summary><ul><li><span class='ee-k'>0:</span><span class='ee-v'>2921</span></li><li><span class='ee-k'>1:</span><span class='ee-v'>2041</span></li></ul></details></li></ul></details></li><li><details><summary>81: \"B108\", signed int16, EPSG:32631, 2921x2041 px</summary><ul><li><span class='ee-k'>id:</span><span class='ee-v'>B108</span></li><li><span class='ee-k'>crs:</span><span class='ee-v'>EPSG:32631</span></li><li><details><summary>crs_transform: List (6 elements)</summary><ul><li><span class='ee-k'>0:</span><span class='ee-v'>29.989729544676482</span></li><li><span class='ee-k'>1:</span><span class='ee-v'>0</span></li><li><span class='ee-k'>2:</span><span class='ee-v'>495300</span></li><li><span class='ee-k'>3:</span><span class='ee-v'>0</span></li><li><span class='ee-k'>4:</span><span class='ee-v'>-29.98530132288094</span></li><li><span class='ee-k'>5:</span><span class='ee-v'>9027900</span></li></ul></details></li><li><details><summary>data_type: signed int16</summary><ul><li><span class='ee-k'>type:</span><span class='ee-v'>PixelType</span></li><li><span class='ee-k'>max:</span><span class='ee-v'>32767</span></li><li><span class='ee-k'>min:</span><span class='ee-v'>-32768</span></li><li><span class='ee-k'>precision:</span><span class='ee-v'>int</span></li></ul></details></li><li><details><summary>dimensions: [2921, 2041]</summary><ul><li><span class='ee-k'>0:</span><span class='ee-v'>2921</span></li><li><span class='ee-k'>1:</span><span class='ee-v'>2041</span></li></ul></details></li></ul></details></li><li><details><summary>82: \"B109\", signed int16, EPSG:32631, 2921x2041 px</summary><ul><li><span class='ee-k'>id:</span><span class='ee-v'>B109</span></li><li><span class='ee-k'>crs:</span><span class='ee-v'>EPSG:32631</span></li><li><details><summary>crs_transform: List (6 elements)</summary><ul><li><span class='ee-k'>0:</span><span class='ee-v'>29.989729544676482</span></li><li><span class='ee-k'>1:</span><span class='ee-v'>0</span></li><li><span class='ee-k'>2:</span><span class='ee-v'>495300</span></li><li><span class='ee-k'>3:</span><span class='ee-v'>0</span></li><li><span class='ee-k'>4:</span><span class='ee-v'>-29.98530132288094</span></li><li><span class='ee-k'>5:</span><span class='ee-v'>9027900</span></li></ul></details></li><li><details><summary>data_type: signed int16</summary><ul><li><span class='ee-k'>type:</span><span class='ee-v'>PixelType</span></li><li><span class='ee-k'>max:</span><span class='ee-v'>32767</span></li><li><span class='ee-k'>min:</span><span class='ee-v'>-32768</span></li><li><span class='ee-k'>precision:</span><span class='ee-v'>int</span></li></ul></details></li><li><details><summary>dimensions: [2921, 2041]</summary><ul><li><span class='ee-k'>0:</span><span class='ee-v'>2921</span></li><li><span class='ee-k'>1:</span><span class='ee-v'>2041</span></li></ul></details></li></ul></details></li><li><details><summary>83: \"B110\", signed int16, EPSG:32631, 2921x2041 px</summary><ul><li><span class='ee-k'>id:</span><span class='ee-v'>B110</span></li><li><span class='ee-k'>crs:</span><span class='ee-v'>EPSG:32631</span></li><li><details><summary>crs_transform: List (6 elements)</summary><ul><li><span class='ee-k'>0:</span><span class='ee-v'>29.989729544676482</span></li><li><span class='ee-k'>1:</span><span class='ee-v'>0</span></li><li><span class='ee-k'>2:</span><span class='ee-v'>495300</span></li><li><span class='ee-k'>3:</span><span class='ee-v'>0</span></li><li><span class='ee-k'>4:</span><span class='ee-v'>-29.98530132288094</span></li><li><span class='ee-k'>5:</span><span class='ee-v'>9027900</span></li></ul></details></li><li><details><summary>data_type: signed int16</summary><ul><li><span class='ee-k'>type:</span><span class='ee-v'>PixelType</span></li><li><span class='ee-k'>max:</span><span class='ee-v'>32767</span></li><li><span class='ee-k'>min:</span><span class='ee-v'>-32768</span></li><li><span class='ee-k'>precision:</span><span class='ee-v'>int</span></li></ul></details></li><li><details><summary>dimensions: [2921, 2041]</summary><ul><li><span class='ee-k'>0:</span><span class='ee-v'>2921</span></li><li><span class='ee-k'>1:</span><span class='ee-v'>2041</span></li></ul></details></li></ul></details></li><li><details><summary>84: \"B111\", signed int16, EPSG:32631, 2921x2041 px</summary><ul><li><span class='ee-k'>id:</span><span class='ee-v'>B111</span></li><li><span class='ee-k'>crs:</span><span class='ee-v'>EPSG:32631</span></li><li><details><summary>crs_transform: List (6 elements)</summary><ul><li><span class='ee-k'>0:</span><span class='ee-v'>29.989729544676482</span></li><li><span class='ee-k'>1:</span><span class='ee-v'>0</span></li><li><span class='ee-k'>2:</span><span class='ee-v'>495300</span></li><li><span class='ee-k'>3:</span><span class='ee-v'>0</span></li><li><span class='ee-k'>4:</span><span class='ee-v'>-29.98530132288094</span></li><li><span class='ee-k'>5:</span><span class='ee-v'>9027900</span></li></ul></details></li><li><details><summary>data_type: signed int16</summary><ul><li><span class='ee-k'>type:</span><span class='ee-v'>PixelType</span></li><li><span class='ee-k'>max:</span><span class='ee-v'>32767</span></li><li><span class='ee-k'>min:</span><span class='ee-v'>-32768</span></li><li><span class='ee-k'>precision:</span><span class='ee-v'>int</span></li></ul></details></li><li><details><summary>dimensions: [2921, 2041]</summary><ul><li><span class='ee-k'>0:</span><span class='ee-v'>2921</span></li><li><span class='ee-k'>1:</span><span class='ee-v'>2041</span></li></ul></details></li></ul></details></li><li><details><summary>85: \"B112\", signed int16, EPSG:32631, 2921x2041 px</summary><ul><li><span class='ee-k'>id:</span><span class='ee-v'>B112</span></li><li><span class='ee-k'>crs:</span><span class='ee-v'>EPSG:32631</span></li><li><details><summary>crs_transform: List (6 elements)</summary><ul><li><span class='ee-k'>0:</span><span class='ee-v'>29.989729544676482</span></li><li><span class='ee-k'>1:</span><span class='ee-v'>0</span></li><li><span class='ee-k'>2:</span><span class='ee-v'>495300</span></li><li><span class='ee-k'>3:</span><span class='ee-v'>0</span></li><li><span class='ee-k'>4:</span><span class='ee-v'>-29.98530132288094</span></li><li><span class='ee-k'>5:</span><span class='ee-v'>9027900</span></li></ul></details></li><li><details><summary>data_type: signed int16</summary><ul><li><span class='ee-k'>type:</span><span class='ee-v'>PixelType</span></li><li><span class='ee-k'>max:</span><span class='ee-v'>32767</span></li><li><span class='ee-k'>min:</span><span class='ee-v'>-32768</span></li><li><span class='ee-k'>precision:</span><span class='ee-v'>int</span></li></ul></details></li><li><details><summary>dimensions: [2921, 2041]</summary><ul><li><span class='ee-k'>0:</span><span class='ee-v'>2921</span></li><li><span class='ee-k'>1:</span><span class='ee-v'>2041</span></li></ul></details></li></ul></details></li><li><details><summary>86: \"B113\", signed int16, EPSG:32631, 2921x2041 px</summary><ul><li><span class='ee-k'>id:</span><span class='ee-v'>B113</span></li><li><span class='ee-k'>crs:</span><span class='ee-v'>EPSG:32631</span></li><li><details><summary>crs_transform: List (6 elements)</summary><ul><li><span class='ee-k'>0:</span><span class='ee-v'>29.989729544676482</span></li><li><span class='ee-k'>1:</span><span class='ee-v'>0</span></li><li><span class='ee-k'>2:</span><span class='ee-v'>495300</span></li><li><span class='ee-k'>3:</span><span class='ee-v'>0</span></li><li><span class='ee-k'>4:</span><span class='ee-v'>-29.98530132288094</span></li><li><span class='ee-k'>5:</span><span class='ee-v'>9027900</span></li></ul></details></li><li><details><summary>data_type: signed int16</summary><ul><li><span class='ee-k'>type:</span><span class='ee-v'>PixelType</span></li><li><span class='ee-k'>max:</span><span class='ee-v'>32767</span></li><li><span class='ee-k'>min:</span><span class='ee-v'>-32768</span></li><li><span class='ee-k'>precision:</span><span class='ee-v'>int</span></li></ul></details></li><li><details><summary>dimensions: [2921, 2041]</summary><ul><li><span class='ee-k'>0:</span><span class='ee-v'>2921</span></li><li><span class='ee-k'>1:</span><span class='ee-v'>2041</span></li></ul></details></li></ul></details></li><li><details><summary>87: \"B114\", signed int16, EPSG:32631, 2921x2041 px</summary><ul><li><span class='ee-k'>id:</span><span class='ee-v'>B114</span></li><li><span class='ee-k'>crs:</span><span class='ee-v'>EPSG:32631</span></li><li><details><summary>crs_transform: List (6 elements)</summary><ul><li><span class='ee-k'>0:</span><span class='ee-v'>29.989729544676482</span></li><li><span class='ee-k'>1:</span><span class='ee-v'>0</span></li><li><span class='ee-k'>2:</span><span class='ee-v'>495300</span></li><li><span class='ee-k'>3:</span><span class='ee-v'>0</span></li><li><span class='ee-k'>4:</span><span class='ee-v'>-29.98530132288094</span></li><li><span class='ee-k'>5:</span><span class='ee-v'>9027900</span></li></ul></details></li><li><details><summary>data_type: signed int16</summary><ul><li><span class='ee-k'>type:</span><span class='ee-v'>PixelType</span></li><li><span class='ee-k'>max:</span><span class='ee-v'>32767</span></li><li><span class='ee-k'>min:</span><span class='ee-v'>-32768</span></li><li><span class='ee-k'>precision:</span><span class='ee-v'>int</span></li></ul></details></li><li><details><summary>dimensions: [2921, 2041]</summary><ul><li><span class='ee-k'>0:</span><span class='ee-v'>2921</span></li><li><span class='ee-k'>1:</span><span class='ee-v'>2041</span></li></ul></details></li></ul></details></li><li><details><summary>88: \"B115\", signed int16, EPSG:32631, 2921x2041 px</summary><ul><li><span class='ee-k'>id:</span><span class='ee-v'>B115</span></li><li><span class='ee-k'>crs:</span><span class='ee-v'>EPSG:32631</span></li><li><details><summary>crs_transform: List (6 elements)</summary><ul><li><span class='ee-k'>0:</span><span class='ee-v'>29.989729544676482</span></li><li><span class='ee-k'>1:</span><span class='ee-v'>0</span></li><li><span class='ee-k'>2:</span><span class='ee-v'>495300</span></li><li><span class='ee-k'>3:</span><span class='ee-v'>0</span></li><li><span class='ee-k'>4:</span><span class='ee-v'>-29.98530132288094</span></li><li><span class='ee-k'>5:</span><span class='ee-v'>9027900</span></li></ul></details></li><li><details><summary>data_type: signed int16</summary><ul><li><span class='ee-k'>type:</span><span class='ee-v'>PixelType</span></li><li><span class='ee-k'>max:</span><span class='ee-v'>32767</span></li><li><span class='ee-k'>min:</span><span class='ee-v'>-32768</span></li><li><span class='ee-k'>precision:</span><span class='ee-v'>int</span></li></ul></details></li><li><details><summary>dimensions: [2921, 2041]</summary><ul><li><span class='ee-k'>0:</span><span class='ee-v'>2921</span></li><li><span class='ee-k'>1:</span><span class='ee-v'>2041</span></li></ul></details></li></ul></details></li><li><details><summary>89: \"B116\", signed int16, EPSG:32631, 2921x2041 px</summary><ul><li><span class='ee-k'>id:</span><span class='ee-v'>B116</span></li><li><span class='ee-k'>crs:</span><span class='ee-v'>EPSG:32631</span></li><li><details><summary>crs_transform: List (6 elements)</summary><ul><li><span class='ee-k'>0:</span><span class='ee-v'>29.989729544676482</span></li><li><span class='ee-k'>1:</span><span class='ee-v'>0</span></li><li><span class='ee-k'>2:</span><span class='ee-v'>495300</span></li><li><span class='ee-k'>3:</span><span class='ee-v'>0</span></li><li><span class='ee-k'>4:</span><span class='ee-v'>-29.98530132288094</span></li><li><span class='ee-k'>5:</span><span class='ee-v'>9027900</span></li></ul></details></li><li><details><summary>data_type: signed int16</summary><ul><li><span class='ee-k'>type:</span><span class='ee-v'>PixelType</span></li><li><span class='ee-k'>max:</span><span class='ee-v'>32767</span></li><li><span class='ee-k'>min:</span><span class='ee-v'>-32768</span></li><li><span class='ee-k'>precision:</span><span class='ee-v'>int</span></li></ul></details></li><li><details><summary>dimensions: [2921, 2041]</summary><ul><li><span class='ee-k'>0:</span><span class='ee-v'>2921</span></li><li><span class='ee-k'>1:</span><span class='ee-v'>2041</span></li></ul></details></li></ul></details></li><li><details><summary>90: \"B117\", signed int16, EPSG:32631, 2921x2041 px</summary><ul><li><span class='ee-k'>id:</span><span class='ee-v'>B117</span></li><li><span class='ee-k'>crs:</span><span class='ee-v'>EPSG:32631</span></li><li><details><summary>crs_transform: List (6 elements)</summary><ul><li><span class='ee-k'>0:</span><span class='ee-v'>29.989729544676482</span></li><li><span class='ee-k'>1:</span><span class='ee-v'>0</span></li><li><span class='ee-k'>2:</span><span class='ee-v'>495300</span></li><li><span class='ee-k'>3:</span><span class='ee-v'>0</span></li><li><span class='ee-k'>4:</span><span class='ee-v'>-29.98530132288094</span></li><li><span class='ee-k'>5:</span><span class='ee-v'>9027900</span></li></ul></details></li><li><details><summary>data_type: signed int16</summary><ul><li><span class='ee-k'>type:</span><span class='ee-v'>PixelType</span></li><li><span class='ee-k'>max:</span><span class='ee-v'>32767</span></li><li><span class='ee-k'>min:</span><span class='ee-v'>-32768</span></li><li><span class='ee-k'>precision:</span><span class='ee-v'>int</span></li></ul></details></li><li><details><summary>dimensions: [2921, 2041]</summary><ul><li><span class='ee-k'>0:</span><span class='ee-v'>2921</span></li><li><span class='ee-k'>1:</span><span class='ee-v'>2041</span></li></ul></details></li></ul></details></li><li><details><summary>91: \"B118\", signed int16, EPSG:32631, 2921x2041 px</summary><ul><li><span class='ee-k'>id:</span><span class='ee-v'>B118</span></li><li><span class='ee-k'>crs:</span><span class='ee-v'>EPSG:32631</span></li><li><details><summary>crs_transform: List (6 elements)</summary><ul><li><span class='ee-k'>0:</span><span class='ee-v'>29.989729544676482</span></li><li><span class='ee-k'>1:</span><span class='ee-v'>0</span></li><li><span class='ee-k'>2:</span><span class='ee-v'>495300</span></li><li><span class='ee-k'>3:</span><span class='ee-v'>0</span></li><li><span class='ee-k'>4:</span><span class='ee-v'>-29.98530132288094</span></li><li><span class='ee-k'>5:</span><span class='ee-v'>9027900</span></li></ul></details></li><li><details><summary>data_type: signed int16</summary><ul><li><span class='ee-k'>type:</span><span class='ee-v'>PixelType</span></li><li><span class='ee-k'>max:</span><span class='ee-v'>32767</span></li><li><span class='ee-k'>min:</span><span class='ee-v'>-32768</span></li><li><span class='ee-k'>precision:</span><span class='ee-v'>int</span></li></ul></details></li><li><details><summary>dimensions: [2921, 2041]</summary><ul><li><span class='ee-k'>0:</span><span class='ee-v'>2921</span></li><li><span class='ee-k'>1:</span><span class='ee-v'>2041</span></li></ul></details></li></ul></details></li><li><details><summary>92: \"B119\", signed int16, EPSG:32631, 2921x2041 px</summary><ul><li><span class='ee-k'>id:</span><span class='ee-v'>B119</span></li><li><span class='ee-k'>crs:</span><span class='ee-v'>EPSG:32631</span></li><li><details><summary>crs_transform: List (6 elements)</summary><ul><li><span class='ee-k'>0:</span><span class='ee-v'>29.989729544676482</span></li><li><span class='ee-k'>1:</span><span class='ee-v'>0</span></li><li><span class='ee-k'>2:</span><span class='ee-v'>495300</span></li><li><span class='ee-k'>3:</span><span class='ee-v'>0</span></li><li><span class='ee-k'>4:</span><span class='ee-v'>-29.98530132288094</span></li><li><span class='ee-k'>5:</span><span class='ee-v'>9027900</span></li></ul></details></li><li><details><summary>data_type: signed int16</summary><ul><li><span class='ee-k'>type:</span><span class='ee-v'>PixelType</span></li><li><span class='ee-k'>max:</span><span class='ee-v'>32767</span></li><li><span class='ee-k'>min:</span><span class='ee-v'>-32768</span></li><li><span class='ee-k'>precision:</span><span class='ee-v'>int</span></li></ul></details></li><li><details><summary>dimensions: [2921, 2041]</summary><ul><li><span class='ee-k'>0:</span><span class='ee-v'>2921</span></li><li><span class='ee-k'>1:</span><span class='ee-v'>2041</span></li></ul></details></li></ul></details></li><li><details><summary>93: \"B120\", signed int16, EPSG:32631, 2921x2041 px</summary><ul><li><span class='ee-k'>id:</span><span class='ee-v'>B120</span></li><li><span class='ee-k'>crs:</span><span class='ee-v'>EPSG:32631</span></li><li><details><summary>crs_transform: List (6 elements)</summary><ul><li><span class='ee-k'>0:</span><span class='ee-v'>29.989729544676482</span></li><li><span class='ee-k'>1:</span><span class='ee-v'>0</span></li><li><span class='ee-k'>2:</span><span class='ee-v'>495300</span></li><li><span class='ee-k'>3:</span><span class='ee-v'>0</span></li><li><span class='ee-k'>4:</span><span class='ee-v'>-29.98530132288094</span></li><li><span class='ee-k'>5:</span><span class='ee-v'>9027900</span></li></ul></details></li><li><details><summary>data_type: signed int16</summary><ul><li><span class='ee-k'>type:</span><span class='ee-v'>PixelType</span></li><li><span class='ee-k'>max:</span><span class='ee-v'>32767</span></li><li><span class='ee-k'>min:</span><span class='ee-v'>-32768</span></li><li><span class='ee-k'>precision:</span><span class='ee-v'>int</span></li></ul></details></li><li><details><summary>dimensions: [2921, 2041]</summary><ul><li><span class='ee-k'>0:</span><span class='ee-v'>2921</span></li><li><span class='ee-k'>1:</span><span class='ee-v'>2041</span></li></ul></details></li></ul></details></li><li><details><summary>94: \"B121\", signed int16, EPSG:32631, 2921x2041 px</summary><ul><li><span class='ee-k'>id:</span><span class='ee-v'>B121</span></li><li><span class='ee-k'>crs:</span><span class='ee-v'>EPSG:32631</span></li><li><details><summary>crs_transform: List (6 elements)</summary><ul><li><span class='ee-k'>0:</span><span class='ee-v'>29.989729544676482</span></li><li><span class='ee-k'>1:</span><span class='ee-v'>0</span></li><li><span class='ee-k'>2:</span><span class='ee-v'>495300</span></li><li><span class='ee-k'>3:</span><span class='ee-v'>0</span></li><li><span class='ee-k'>4:</span><span class='ee-v'>-29.98530132288094</span></li><li><span class='ee-k'>5:</span><span class='ee-v'>9027900</span></li></ul></details></li><li><details><summary>data_type: signed int16</summary><ul><li><span class='ee-k'>type:</span><span class='ee-v'>PixelType</span></li><li><span class='ee-k'>max:</span><span class='ee-v'>32767</span></li><li><span class='ee-k'>min:</span><span class='ee-v'>-32768</span></li><li><span class='ee-k'>precision:</span><span class='ee-v'>int</span></li></ul></details></li><li><details><summary>dimensions: [2921, 2041]</summary><ul><li><span class='ee-k'>0:</span><span class='ee-v'>2921</span></li><li><span class='ee-k'>1:</span><span class='ee-v'>2041</span></li></ul></details></li></ul></details></li><li><details><summary>95: \"B122\", signed int16, EPSG:32631, 2921x2041 px</summary><ul><li><span class='ee-k'>id:</span><span class='ee-v'>B122</span></li><li><span class='ee-k'>crs:</span><span class='ee-v'>EPSG:32631</span></li><li><details><summary>crs_transform: List (6 elements)</summary><ul><li><span class='ee-k'>0:</span><span class='ee-v'>29.989729544676482</span></li><li><span class='ee-k'>1:</span><span class='ee-v'>0</span></li><li><span class='ee-k'>2:</span><span class='ee-v'>495300</span></li><li><span class='ee-k'>3:</span><span class='ee-v'>0</span></li><li><span class='ee-k'>4:</span><span class='ee-v'>-29.98530132288094</span></li><li><span class='ee-k'>5:</span><span class='ee-v'>9027900</span></li></ul></details></li><li><details><summary>data_type: signed int16</summary><ul><li><span class='ee-k'>type:</span><span class='ee-v'>PixelType</span></li><li><span class='ee-k'>max:</span><span class='ee-v'>32767</span></li><li><span class='ee-k'>min:</span><span class='ee-v'>-32768</span></li><li><span class='ee-k'>precision:</span><span class='ee-v'>int</span></li></ul></details></li><li><details><summary>dimensions: [2921, 2041]</summary><ul><li><span class='ee-k'>0:</span><span class='ee-v'>2921</span></li><li><span class='ee-k'>1:</span><span class='ee-v'>2041</span></li></ul></details></li></ul></details></li><li><details><summary>96: \"B123\", signed int16, EPSG:32631, 2921x2041 px</summary><ul><li><span class='ee-k'>id:</span><span class='ee-v'>B123</span></li><li><span class='ee-k'>crs:</span><span class='ee-v'>EPSG:32631</span></li><li><details><summary>crs_transform: List (6 elements)</summary><ul><li><span class='ee-k'>0:</span><span class='ee-v'>29.989729544676482</span></li><li><span class='ee-k'>1:</span><span class='ee-v'>0</span></li><li><span class='ee-k'>2:</span><span class='ee-v'>495300</span></li><li><span class='ee-k'>3:</span><span class='ee-v'>0</span></li><li><span class='ee-k'>4:</span><span class='ee-v'>-29.98530132288094</span></li><li><span class='ee-k'>5:</span><span class='ee-v'>9027900</span></li></ul></details></li><li><details><summary>data_type: signed int16</summary><ul><li><span class='ee-k'>type:</span><span class='ee-v'>PixelType</span></li><li><span class='ee-k'>max:</span><span class='ee-v'>32767</span></li><li><span class='ee-k'>min:</span><span class='ee-v'>-32768</span></li><li><span class='ee-k'>precision:</span><span class='ee-v'>int</span></li></ul></details></li><li><details><summary>dimensions: [2921, 2041]</summary><ul><li><span class='ee-k'>0:</span><span class='ee-v'>2921</span></li><li><span class='ee-k'>1:</span><span class='ee-v'>2041</span></li></ul></details></li></ul></details></li><li><details><summary>97: \"B124\", signed int16, EPSG:32631, 2921x2041 px</summary><ul><li><span class='ee-k'>id:</span><span class='ee-v'>B124</span></li><li><span class='ee-k'>crs:</span><span class='ee-v'>EPSG:32631</span></li><li><details><summary>crs_transform: List (6 elements)</summary><ul><li><span class='ee-k'>0:</span><span class='ee-v'>29.989729544676482</span></li><li><span class='ee-k'>1:</span><span class='ee-v'>0</span></li><li><span class='ee-k'>2:</span><span class='ee-v'>495300</span></li><li><span class='ee-k'>3:</span><span class='ee-v'>0</span></li><li><span class='ee-k'>4:</span><span class='ee-v'>-29.98530132288094</span></li><li><span class='ee-k'>5:</span><span class='ee-v'>9027900</span></li></ul></details></li><li><details><summary>data_type: signed int16</summary><ul><li><span class='ee-k'>type:</span><span class='ee-v'>PixelType</span></li><li><span class='ee-k'>max:</span><span class='ee-v'>32767</span></li><li><span class='ee-k'>min:</span><span class='ee-v'>-32768</span></li><li><span class='ee-k'>precision:</span><span class='ee-v'>int</span></li></ul></details></li><li><details><summary>dimensions: [2921, 2041]</summary><ul><li><span class='ee-k'>0:</span><span class='ee-v'>2921</span></li><li><span class='ee-k'>1:</span><span class='ee-v'>2041</span></li></ul></details></li></ul></details></li><li><details><summary>98: \"B125\", signed int16, EPSG:32631, 2921x2041 px</summary><ul><li><span class='ee-k'>id:</span><span class='ee-v'>B125</span></li><li><span class='ee-k'>crs:</span><span class='ee-v'>EPSG:32631</span></li><li><details><summary>crs_transform: List (6 elements)</summary><ul><li><span class='ee-k'>0:</span><span class='ee-v'>29.989729544676482</span></li><li><span class='ee-k'>1:</span><span class='ee-v'>0</span></li><li><span class='ee-k'>2:</span><span class='ee-v'>495300</span></li><li><span class='ee-k'>3:</span><span class='ee-v'>0</span></li><li><span class='ee-k'>4:</span><span class='ee-v'>-29.98530132288094</span></li><li><span class='ee-k'>5:</span><span class='ee-v'>9027900</span></li></ul></details></li><li><details><summary>data_type: signed int16</summary><ul><li><span class='ee-k'>type:</span><span class='ee-v'>PixelType</span></li><li><span class='ee-k'>max:</span><span class='ee-v'>32767</span></li><li><span class='ee-k'>min:</span><span class='ee-v'>-32768</span></li><li><span class='ee-k'>precision:</span><span class='ee-v'>int</span></li></ul></details></li><li><details><summary>dimensions: [2921, 2041]</summary><ul><li><span class='ee-k'>0:</span><span class='ee-v'>2921</span></li><li><span class='ee-k'>1:</span><span class='ee-v'>2041</span></li></ul></details></li></ul></details></li><li><details><summary>99: \"B126\", signed int16, EPSG:32631, 2921x2041 px</summary><ul><li><span class='ee-k'>id:</span><span class='ee-v'>B126</span></li><li><span class='ee-k'>crs:</span><span class='ee-v'>EPSG:32631</span></li><li><details><summary>crs_transform: List (6 elements)</summary><ul><li><span class='ee-k'>0:</span><span class='ee-v'>29.989729544676482</span></li><li><span class='ee-k'>1:</span><span class='ee-v'>0</span></li><li><span class='ee-k'>2:</span><span class='ee-v'>495300</span></li><li><span class='ee-k'>3:</span><span class='ee-v'>0</span></li><li><span class='ee-k'>4:</span><span class='ee-v'>-29.98530132288094</span></li><li><span class='ee-k'>5:</span><span class='ee-v'>9027900</span></li></ul></details></li><li><details><summary>data_type: signed int16</summary><ul><li><span class='ee-k'>type:</span><span class='ee-v'>PixelType</span></li><li><span class='ee-k'>max:</span><span class='ee-v'>32767</span></li><li><span class='ee-k'>min:</span><span class='ee-v'>-32768</span></li><li><span class='ee-k'>precision:</span><span class='ee-v'>int</span></li></ul></details></li><li><details><summary>dimensions: [2921, 2041]</summary><ul><li><span class='ee-k'>0:</span><span class='ee-v'>2921</span></li><li><span class='ee-k'>1:</span><span class='ee-v'>2041</span></li></ul></details></li></ul></details></li><li><details><summary>100: \"B127\", signed int16, EPSG:32631, 2921x2041 px</summary><ul><li><span class='ee-k'>id:</span><span class='ee-v'>B127</span></li><li><span class='ee-k'>crs:</span><span class='ee-v'>EPSG:32631</span></li><li><details><summary>crs_transform: List (6 elements)</summary><ul><li><span class='ee-k'>0:</span><span class='ee-v'>29.989729544676482</span></li><li><span class='ee-k'>1:</span><span class='ee-v'>0</span></li><li><span class='ee-k'>2:</span><span class='ee-v'>495300</span></li><li><span class='ee-k'>3:</span><span class='ee-v'>0</span></li><li><span class='ee-k'>4:</span><span class='ee-v'>-29.98530132288094</span></li><li><span class='ee-k'>5:</span><span class='ee-v'>9027900</span></li></ul></details></li><li><details><summary>data_type: signed int16</summary><ul><li><span class='ee-k'>type:</span><span class='ee-v'>PixelType</span></li><li><span class='ee-k'>max:</span><span class='ee-v'>32767</span></li><li><span class='ee-k'>min:</span><span class='ee-v'>-32768</span></li><li><span class='ee-k'>precision:</span><span class='ee-v'>int</span></li></ul></details></li><li><details><summary>dimensions: [2921, 2041]</summary><ul><li><span class='ee-k'>0:</span><span class='ee-v'>2921</span></li><li><span class='ee-k'>1:</span><span class='ee-v'>2041</span></li></ul></details></li></ul></details></li><li><details><summary>101: \"B128\", signed int16, EPSG:32631, 2921x2041 px</summary><ul><li><span class='ee-k'>id:</span><span class='ee-v'>B128</span></li><li><span class='ee-k'>crs:</span><span class='ee-v'>EPSG:32631</span></li><li><details><summary>crs_transform: List (6 elements)</summary><ul><li><span class='ee-k'>0:</span><span class='ee-v'>29.989729544676482</span></li><li><span class='ee-k'>1:</span><span class='ee-v'>0</span></li><li><span class='ee-k'>2:</span><span class='ee-v'>495300</span></li><li><span class='ee-k'>3:</span><span class='ee-v'>0</span></li><li><span class='ee-k'>4:</span><span class='ee-v'>-29.98530132288094</span></li><li><span class='ee-k'>5:</span><span class='ee-v'>9027900</span></li></ul></details></li><li><details><summary>data_type: signed int16</summary><ul><li><span class='ee-k'>type:</span><span class='ee-v'>PixelType</span></li><li><span class='ee-k'>max:</span><span class='ee-v'>32767</span></li><li><span class='ee-k'>min:</span><span class='ee-v'>-32768</span></li><li><span class='ee-k'>precision:</span><span class='ee-v'>int</span></li></ul></details></li><li><details><summary>dimensions: [2921, 2041]</summary><ul><li><span class='ee-k'>0:</span><span class='ee-v'>2921</span></li><li><span class='ee-k'>1:</span><span class='ee-v'>2041</span></li></ul></details></li></ul></details></li><li><details><summary>102: \"B129\", signed int16, EPSG:32631, 2921x2041 px</summary><ul><li><span class='ee-k'>id:</span><span class='ee-v'>B129</span></li><li><span class='ee-k'>crs:</span><span class='ee-v'>EPSG:32631</span></li><li><details><summary>crs_transform: List (6 elements)</summary><ul><li><span class='ee-k'>0:</span><span class='ee-v'>29.989729544676482</span></li><li><span class='ee-k'>1:</span><span class='ee-v'>0</span></li><li><span class='ee-k'>2:</span><span class='ee-v'>495300</span></li><li><span class='ee-k'>3:</span><span class='ee-v'>0</span></li><li><span class='ee-k'>4:</span><span class='ee-v'>-29.98530132288094</span></li><li><span class='ee-k'>5:</span><span class='ee-v'>9027900</span></li></ul></details></li><li><details><summary>data_type: signed int16</summary><ul><li><span class='ee-k'>type:</span><span class='ee-v'>PixelType</span></li><li><span class='ee-k'>max:</span><span class='ee-v'>32767</span></li><li><span class='ee-k'>min:</span><span class='ee-v'>-32768</span></li><li><span class='ee-k'>precision:</span><span class='ee-v'>int</span></li></ul></details></li><li><details><summary>dimensions: [2921, 2041]</summary><ul><li><span class='ee-k'>0:</span><span class='ee-v'>2921</span></li><li><span class='ee-k'>1:</span><span class='ee-v'>2041</span></li></ul></details></li></ul></details></li><li><details><summary>103: \"B130\", signed int16, EPSG:32631, 2921x2041 px</summary><ul><li><span class='ee-k'>id:</span><span class='ee-v'>B130</span></li><li><span class='ee-k'>crs:</span><span class='ee-v'>EPSG:32631</span></li><li><details><summary>crs_transform: List (6 elements)</summary><ul><li><span class='ee-k'>0:</span><span class='ee-v'>29.989729544676482</span></li><li><span class='ee-k'>1:</span><span class='ee-v'>0</span></li><li><span class='ee-k'>2:</span><span class='ee-v'>495300</span></li><li><span class='ee-k'>3:</span><span class='ee-v'>0</span></li><li><span class='ee-k'>4:</span><span class='ee-v'>-29.98530132288094</span></li><li><span class='ee-k'>5:</span><span class='ee-v'>9027900</span></li></ul></details></li><li><details><summary>data_type: signed int16</summary><ul><li><span class='ee-k'>type:</span><span class='ee-v'>PixelType</span></li><li><span class='ee-k'>max:</span><span class='ee-v'>32767</span></li><li><span class='ee-k'>min:</span><span class='ee-v'>-32768</span></li><li><span class='ee-k'>precision:</span><span class='ee-v'>int</span></li></ul></details></li><li><details><summary>dimensions: [2921, 2041]</summary><ul><li><span class='ee-k'>0:</span><span class='ee-v'>2921</span></li><li><span class='ee-k'>1:</span><span class='ee-v'>2041</span></li></ul></details></li></ul></details></li><li><details><summary>104: \"B131\", signed int16, EPSG:32631, 2921x2041 px</summary><ul><li><span class='ee-k'>id:</span><span class='ee-v'>B131</span></li><li><span class='ee-k'>crs:</span><span class='ee-v'>EPSG:32631</span></li><li><details><summary>crs_transform: List (6 elements)</summary><ul><li><span class='ee-k'>0:</span><span class='ee-v'>29.989729544676482</span></li><li><span class='ee-k'>1:</span><span class='ee-v'>0</span></li><li><span class='ee-k'>2:</span><span class='ee-v'>495300</span></li><li><span class='ee-k'>3:</span><span class='ee-v'>0</span></li><li><span class='ee-k'>4:</span><span class='ee-v'>-29.98530132288094</span></li><li><span class='ee-k'>5:</span><span class='ee-v'>9027900</span></li></ul></details></li><li><details><summary>data_type: signed int16</summary><ul><li><span class='ee-k'>type:</span><span class='ee-v'>PixelType</span></li><li><span class='ee-k'>max:</span><span class='ee-v'>32767</span></li><li><span class='ee-k'>min:</span><span class='ee-v'>-32768</span></li><li><span class='ee-k'>precision:</span><span class='ee-v'>int</span></li></ul></details></li><li><details><summary>dimensions: [2921, 2041]</summary><ul><li><span class='ee-k'>0:</span><span class='ee-v'>2921</span></li><li><span class='ee-k'>1:</span><span class='ee-v'>2041</span></li></ul></details></li></ul></details></li><li><details><summary>105: \"B132\", signed int16, EPSG:32631, 2921x2041 px</summary><ul><li><span class='ee-k'>id:</span><span class='ee-v'>B132</span></li><li><span class='ee-k'>crs:</span><span class='ee-v'>EPSG:32631</span></li><li><details><summary>crs_transform: List (6 elements)</summary><ul><li><span class='ee-k'>0:</span><span class='ee-v'>29.989729544676482</span></li><li><span class='ee-k'>1:</span><span class='ee-v'>0</span></li><li><span class='ee-k'>2:</span><span class='ee-v'>495300</span></li><li><span class='ee-k'>3:</span><span class='ee-v'>0</span></li><li><span class='ee-k'>4:</span><span class='ee-v'>-29.98530132288094</span></li><li><span class='ee-k'>5:</span><span class='ee-v'>9027900</span></li></ul></details></li><li><details><summary>data_type: signed int16</summary><ul><li><span class='ee-k'>type:</span><span class='ee-v'>PixelType</span></li><li><span class='ee-k'>max:</span><span class='ee-v'>32767</span></li><li><span class='ee-k'>min:</span><span class='ee-v'>-32768</span></li><li><span class='ee-k'>precision:</span><span class='ee-v'>int</span></li></ul></details></li><li><details><summary>dimensions: [2921, 2041]</summary><ul><li><span class='ee-k'>0:</span><span class='ee-v'>2921</span></li><li><span class='ee-k'>1:</span><span class='ee-v'>2041</span></li></ul></details></li></ul></details></li><li><details><summary>106: \"B133\", signed int16, EPSG:32631, 2921x2041 px</summary><ul><li><span class='ee-k'>id:</span><span class='ee-v'>B133</span></li><li><span class='ee-k'>crs:</span><span class='ee-v'>EPSG:32631</span></li><li><details><summary>crs_transform: List (6 elements)</summary><ul><li><span class='ee-k'>0:</span><span class='ee-v'>29.989729544676482</span></li><li><span class='ee-k'>1:</span><span class='ee-v'>0</span></li><li><span class='ee-k'>2:</span><span class='ee-v'>495300</span></li><li><span class='ee-k'>3:</span><span class='ee-v'>0</span></li><li><span class='ee-k'>4:</span><span class='ee-v'>-29.98530132288094</span></li><li><span class='ee-k'>5:</span><span class='ee-v'>9027900</span></li></ul></details></li><li><details><summary>data_type: signed int16</summary><ul><li><span class='ee-k'>type:</span><span class='ee-v'>PixelType</span></li><li><span class='ee-k'>max:</span><span class='ee-v'>32767</span></li><li><span class='ee-k'>min:</span><span class='ee-v'>-32768</span></li><li><span class='ee-k'>precision:</span><span class='ee-v'>int</span></li></ul></details></li><li><details><summary>dimensions: [2921, 2041]</summary><ul><li><span class='ee-k'>0:</span><span class='ee-v'>2921</span></li><li><span class='ee-k'>1:</span><span class='ee-v'>2041</span></li></ul></details></li></ul></details></li><li><details><summary>107: \"B134\", signed int16, EPSG:32631, 2921x2041 px</summary><ul><li><span class='ee-k'>id:</span><span class='ee-v'>B134</span></li><li><span class='ee-k'>crs:</span><span class='ee-v'>EPSG:32631</span></li><li><details><summary>crs_transform: List (6 elements)</summary><ul><li><span class='ee-k'>0:</span><span class='ee-v'>29.989729544676482</span></li><li><span class='ee-k'>1:</span><span class='ee-v'>0</span></li><li><span class='ee-k'>2:</span><span class='ee-v'>495300</span></li><li><span class='ee-k'>3:</span><span class='ee-v'>0</span></li><li><span class='ee-k'>4:</span><span class='ee-v'>-29.98530132288094</span></li><li><span class='ee-k'>5:</span><span class='ee-v'>9027900</span></li></ul></details></li><li><details><summary>data_type: signed int16</summary><ul><li><span class='ee-k'>type:</span><span class='ee-v'>PixelType</span></li><li><span class='ee-k'>max:</span><span class='ee-v'>32767</span></li><li><span class='ee-k'>min:</span><span class='ee-v'>-32768</span></li><li><span class='ee-k'>precision:</span><span class='ee-v'>int</span></li></ul></details></li><li><details><summary>dimensions: [2921, 2041]</summary><ul><li><span class='ee-k'>0:</span><span class='ee-v'>2921</span></li><li><span class='ee-k'>1:</span><span class='ee-v'>2041</span></li></ul></details></li></ul></details></li><li><details><summary>108: \"B135\", signed int16, EPSG:32631, 2921x2041 px</summary><ul><li><span class='ee-k'>id:</span><span class='ee-v'>B135</span></li><li><span class='ee-k'>crs:</span><span class='ee-v'>EPSG:32631</span></li><li><details><summary>crs_transform: List (6 elements)</summary><ul><li><span class='ee-k'>0:</span><span class='ee-v'>29.989729544676482</span></li><li><span class='ee-k'>1:</span><span class='ee-v'>0</span></li><li><span class='ee-k'>2:</span><span class='ee-v'>495300</span></li><li><span class='ee-k'>3:</span><span class='ee-v'>0</span></li><li><span class='ee-k'>4:</span><span class='ee-v'>-29.98530132288094</span></li><li><span class='ee-k'>5:</span><span class='ee-v'>9027900</span></li></ul></details></li><li><details><summary>data_type: signed int16</summary><ul><li><span class='ee-k'>type:</span><span class='ee-v'>PixelType</span></li><li><span class='ee-k'>max:</span><span class='ee-v'>32767</span></li><li><span class='ee-k'>min:</span><span class='ee-v'>-32768</span></li><li><span class='ee-k'>precision:</span><span class='ee-v'>int</span></li></ul></details></li><li><details><summary>dimensions: [2921, 2041]</summary><ul><li><span class='ee-k'>0:</span><span class='ee-v'>2921</span></li><li><span class='ee-k'>1:</span><span class='ee-v'>2041</span></li></ul></details></li></ul></details></li><li><details><summary>109: \"B136\", signed int16, EPSG:32631, 2921x2041 px</summary><ul><li><span class='ee-k'>id:</span><span class='ee-v'>B136</span></li><li><span class='ee-k'>crs:</span><span class='ee-v'>EPSG:32631</span></li><li><details><summary>crs_transform: List (6 elements)</summary><ul><li><span class='ee-k'>0:</span><span class='ee-v'>29.989729544676482</span></li><li><span class='ee-k'>1:</span><span class='ee-v'>0</span></li><li><span class='ee-k'>2:</span><span class='ee-v'>495300</span></li><li><span class='ee-k'>3:</span><span class='ee-v'>0</span></li><li><span class='ee-k'>4:</span><span class='ee-v'>-29.98530132288094</span></li><li><span class='ee-k'>5:</span><span class='ee-v'>9027900</span></li></ul></details></li><li><details><summary>data_type: signed int16</summary><ul><li><span class='ee-k'>type:</span><span class='ee-v'>PixelType</span></li><li><span class='ee-k'>max:</span><span class='ee-v'>32767</span></li><li><span class='ee-k'>min:</span><span class='ee-v'>-32768</span></li><li><span class='ee-k'>precision:</span><span class='ee-v'>int</span></li></ul></details></li><li><details><summary>dimensions: [2921, 2041]</summary><ul><li><span class='ee-k'>0:</span><span class='ee-v'>2921</span></li><li><span class='ee-k'>1:</span><span class='ee-v'>2041</span></li></ul></details></li></ul></details></li><li><details><summary>110: \"B137\", signed int16, EPSG:32631, 2921x2041 px</summary><ul><li><span class='ee-k'>id:</span><span class='ee-v'>B137</span></li><li><span class='ee-k'>crs:</span><span class='ee-v'>EPSG:32631</span></li><li><details><summary>crs_transform: List (6 elements)</summary><ul><li><span class='ee-k'>0:</span><span class='ee-v'>29.989729544676482</span></li><li><span class='ee-k'>1:</span><span class='ee-v'>0</span></li><li><span class='ee-k'>2:</span><span class='ee-v'>495300</span></li><li><span class='ee-k'>3:</span><span class='ee-v'>0</span></li><li><span class='ee-k'>4:</span><span class='ee-v'>-29.98530132288094</span></li><li><span class='ee-k'>5:</span><span class='ee-v'>9027900</span></li></ul></details></li><li><details><summary>data_type: signed int16</summary><ul><li><span class='ee-k'>type:</span><span class='ee-v'>PixelType</span></li><li><span class='ee-k'>max:</span><span class='ee-v'>32767</span></li><li><span class='ee-k'>min:</span><span class='ee-v'>-32768</span></li><li><span class='ee-k'>precision:</span><span class='ee-v'>int</span></li></ul></details></li><li><details><summary>dimensions: [2921, 2041]</summary><ul><li><span class='ee-k'>0:</span><span class='ee-v'>2921</span></li><li><span class='ee-k'>1:</span><span class='ee-v'>2041</span></li></ul></details></li></ul></details></li><li><details><summary>111: \"B138\", signed int16, EPSG:32631, 2921x2041 px</summary><ul><li><span class='ee-k'>id:</span><span class='ee-v'>B138</span></li><li><span class='ee-k'>crs:</span><span class='ee-v'>EPSG:32631</span></li><li><details><summary>crs_transform: List (6 elements)</summary><ul><li><span class='ee-k'>0:</span><span class='ee-v'>29.989729544676482</span></li><li><span class='ee-k'>1:</span><span class='ee-v'>0</span></li><li><span class='ee-k'>2:</span><span class='ee-v'>495300</span></li><li><span class='ee-k'>3:</span><span class='ee-v'>0</span></li><li><span class='ee-k'>4:</span><span class='ee-v'>-29.98530132288094</span></li><li><span class='ee-k'>5:</span><span class='ee-v'>9027900</span></li></ul></details></li><li><details><summary>data_type: signed int16</summary><ul><li><span class='ee-k'>type:</span><span class='ee-v'>PixelType</span></li><li><span class='ee-k'>max:</span><span class='ee-v'>32767</span></li><li><span class='ee-k'>min:</span><span class='ee-v'>-32768</span></li><li><span class='ee-k'>precision:</span><span class='ee-v'>int</span></li></ul></details></li><li><details><summary>dimensions: [2921, 2041]</summary><ul><li><span class='ee-k'>0:</span><span class='ee-v'>2921</span></li><li><span class='ee-k'>1:</span><span class='ee-v'>2041</span></li></ul></details></li></ul></details></li><li><details><summary>112: \"B139\", signed int16, EPSG:32631, 2921x2041 px</summary><ul><li><span class='ee-k'>id:</span><span class='ee-v'>B139</span></li><li><span class='ee-k'>crs:</span><span class='ee-v'>EPSG:32631</span></li><li><details><summary>crs_transform: List (6 elements)</summary><ul><li><span class='ee-k'>0:</span><span class='ee-v'>29.989729544676482</span></li><li><span class='ee-k'>1:</span><span class='ee-v'>0</span></li><li><span class='ee-k'>2:</span><span class='ee-v'>495300</span></li><li><span class='ee-k'>3:</span><span class='ee-v'>0</span></li><li><span class='ee-k'>4:</span><span class='ee-v'>-29.98530132288094</span></li><li><span class='ee-k'>5:</span><span class='ee-v'>9027900</span></li></ul></details></li><li><details><summary>data_type: signed int16</summary><ul><li><span class='ee-k'>type:</span><span class='ee-v'>PixelType</span></li><li><span class='ee-k'>max:</span><span class='ee-v'>32767</span></li><li><span class='ee-k'>min:</span><span class='ee-v'>-32768</span></li><li><span class='ee-k'>precision:</span><span class='ee-v'>int</span></li></ul></details></li><li><details><summary>dimensions: [2921, 2041]</summary><ul><li><span class='ee-k'>0:</span><span class='ee-v'>2921</span></li><li><span class='ee-k'>1:</span><span class='ee-v'>2041</span></li></ul></details></li></ul></details></li><li><details><summary>113: \"B140\", signed int16, EPSG:32631, 2921x2041 px</summary><ul><li><span class='ee-k'>id:</span><span class='ee-v'>B140</span></li><li><span class='ee-k'>crs:</span><span class='ee-v'>EPSG:32631</span></li><li><details><summary>crs_transform: List (6 elements)</summary><ul><li><span class='ee-k'>0:</span><span class='ee-v'>29.989729544676482</span></li><li><span class='ee-k'>1:</span><span class='ee-v'>0</span></li><li><span class='ee-k'>2:</span><span class='ee-v'>495300</span></li><li><span class='ee-k'>3:</span><span class='ee-v'>0</span></li><li><span class='ee-k'>4:</span><span class='ee-v'>-29.98530132288094</span></li><li><span class='ee-k'>5:</span><span class='ee-v'>9027900</span></li></ul></details></li><li><details><summary>data_type: signed int16</summary><ul><li><span class='ee-k'>type:</span><span class='ee-v'>PixelType</span></li><li><span class='ee-k'>max:</span><span class='ee-v'>32767</span></li><li><span class='ee-k'>min:</span><span class='ee-v'>-32768</span></li><li><span class='ee-k'>precision:</span><span class='ee-v'>int</span></li></ul></details></li><li><details><summary>dimensions: [2921, 2041]</summary><ul><li><span class='ee-k'>0:</span><span class='ee-v'>2921</span></li><li><span class='ee-k'>1:</span><span class='ee-v'>2041</span></li></ul></details></li></ul></details></li><li><details><summary>114: \"B141\", signed int16, EPSG:32631, 2921x2041 px</summary><ul><li><span class='ee-k'>id:</span><span class='ee-v'>B141</span></li><li><span class='ee-k'>crs:</span><span class='ee-v'>EPSG:32631</span></li><li><details><summary>crs_transform: List (6 elements)</summary><ul><li><span class='ee-k'>0:</span><span class='ee-v'>29.989729544676482</span></li><li><span class='ee-k'>1:</span><span class='ee-v'>0</span></li><li><span class='ee-k'>2:</span><span class='ee-v'>495300</span></li><li><span class='ee-k'>3:</span><span class='ee-v'>0</span></li><li><span class='ee-k'>4:</span><span class='ee-v'>-29.98530132288094</span></li><li><span class='ee-k'>5:</span><span class='ee-v'>9027900</span></li></ul></details></li><li><details><summary>data_type: signed int16</summary><ul><li><span class='ee-k'>type:</span><span class='ee-v'>PixelType</span></li><li><span class='ee-k'>max:</span><span class='ee-v'>32767</span></li><li><span class='ee-k'>min:</span><span class='ee-v'>-32768</span></li><li><span class='ee-k'>precision:</span><span class='ee-v'>int</span></li></ul></details></li><li><details><summary>dimensions: [2921, 2041]</summary><ul><li><span class='ee-k'>0:</span><span class='ee-v'>2921</span></li><li><span class='ee-k'>1:</span><span class='ee-v'>2041</span></li></ul></details></li></ul></details></li><li><details><summary>115: \"B142\", signed int16, EPSG:32631, 2921x2041 px</summary><ul><li><span class='ee-k'>id:</span><span class='ee-v'>B142</span></li><li><span class='ee-k'>crs:</span><span class='ee-v'>EPSG:32631</span></li><li><details><summary>crs_transform: List (6 elements)</summary><ul><li><span class='ee-k'>0:</span><span class='ee-v'>29.989729544676482</span></li><li><span class='ee-k'>1:</span><span class='ee-v'>0</span></li><li><span class='ee-k'>2:</span><span class='ee-v'>495300</span></li><li><span class='ee-k'>3:</span><span class='ee-v'>0</span></li><li><span class='ee-k'>4:</span><span class='ee-v'>-29.98530132288094</span></li><li><span class='ee-k'>5:</span><span class='ee-v'>9027900</span></li></ul></details></li><li><details><summary>data_type: signed int16</summary><ul><li><span class='ee-k'>type:</span><span class='ee-v'>PixelType</span></li><li><span class='ee-k'>max:</span><span class='ee-v'>32767</span></li><li><span class='ee-k'>min:</span><span class='ee-v'>-32768</span></li><li><span class='ee-k'>precision:</span><span class='ee-v'>int</span></li></ul></details></li><li><details><summary>dimensions: [2921, 2041]</summary><ul><li><span class='ee-k'>0:</span><span class='ee-v'>2921</span></li><li><span class='ee-k'>1:</span><span class='ee-v'>2041</span></li></ul></details></li></ul></details></li><li><details><summary>116: \"B143\", signed int16, EPSG:32631, 2921x2041 px</summary><ul><li><span class='ee-k'>id:</span><span class='ee-v'>B143</span></li><li><span class='ee-k'>crs:</span><span class='ee-v'>EPSG:32631</span></li><li><details><summary>crs_transform: List (6 elements)</summary><ul><li><span class='ee-k'>0:</span><span class='ee-v'>29.989729544676482</span></li><li><span class='ee-k'>1:</span><span class='ee-v'>0</span></li><li><span class='ee-k'>2:</span><span class='ee-v'>495300</span></li><li><span class='ee-k'>3:</span><span class='ee-v'>0</span></li><li><span class='ee-k'>4:</span><span class='ee-v'>-29.98530132288094</span></li><li><span class='ee-k'>5:</span><span class='ee-v'>9027900</span></li></ul></details></li><li><details><summary>data_type: signed int16</summary><ul><li><span class='ee-k'>type:</span><span class='ee-v'>PixelType</span></li><li><span class='ee-k'>max:</span><span class='ee-v'>32767</span></li><li><span class='ee-k'>min:</span><span class='ee-v'>-32768</span></li><li><span class='ee-k'>precision:</span><span class='ee-v'>int</span></li></ul></details></li><li><details><summary>dimensions: [2921, 2041]</summary><ul><li><span class='ee-k'>0:</span><span class='ee-v'>2921</span></li><li><span class='ee-k'>1:</span><span class='ee-v'>2041</span></li></ul></details></li></ul></details></li><li><details><summary>117: \"B144\", signed int16, EPSG:32631, 2921x2041 px</summary><ul><li><span class='ee-k'>id:</span><span class='ee-v'>B144</span></li><li><span class='ee-k'>crs:</span><span class='ee-v'>EPSG:32631</span></li><li><details><summary>crs_transform: List (6 elements)</summary><ul><li><span class='ee-k'>0:</span><span class='ee-v'>29.989729544676482</span></li><li><span class='ee-k'>1:</span><span class='ee-v'>0</span></li><li><span class='ee-k'>2:</span><span class='ee-v'>495300</span></li><li><span class='ee-k'>3:</span><span class='ee-v'>0</span></li><li><span class='ee-k'>4:</span><span class='ee-v'>-29.98530132288094</span></li><li><span class='ee-k'>5:</span><span class='ee-v'>9027900</span></li></ul></details></li><li><details><summary>data_type: signed int16</summary><ul><li><span class='ee-k'>type:</span><span class='ee-v'>PixelType</span></li><li><span class='ee-k'>max:</span><span class='ee-v'>32767</span></li><li><span class='ee-k'>min:</span><span class='ee-v'>-32768</span></li><li><span class='ee-k'>precision:</span><span class='ee-v'>int</span></li></ul></details></li><li><details><summary>dimensions: [2921, 2041]</summary><ul><li><span class='ee-k'>0:</span><span class='ee-v'>2921</span></li><li><span class='ee-k'>1:</span><span class='ee-v'>2041</span></li></ul></details></li></ul></details></li><li><details><summary>118: \"B145\", signed int16, EPSG:32631, 2921x2041 px</summary><ul><li><span class='ee-k'>id:</span><span class='ee-v'>B145</span></li><li><span class='ee-k'>crs:</span><span class='ee-v'>EPSG:32631</span></li><li><details><summary>crs_transform: List (6 elements)</summary><ul><li><span class='ee-k'>0:</span><span class='ee-v'>29.989729544676482</span></li><li><span class='ee-k'>1:</span><span class='ee-v'>0</span></li><li><span class='ee-k'>2:</span><span class='ee-v'>495300</span></li><li><span class='ee-k'>3:</span><span class='ee-v'>0</span></li><li><span class='ee-k'>4:</span><span class='ee-v'>-29.98530132288094</span></li><li><span class='ee-k'>5:</span><span class='ee-v'>9027900</span></li></ul></details></li><li><details><summary>data_type: signed int16</summary><ul><li><span class='ee-k'>type:</span><span class='ee-v'>PixelType</span></li><li><span class='ee-k'>max:</span><span class='ee-v'>32767</span></li><li><span class='ee-k'>min:</span><span class='ee-v'>-32768</span></li><li><span class='ee-k'>precision:</span><span class='ee-v'>int</span></li></ul></details></li><li><details><summary>dimensions: [2921, 2041]</summary><ul><li><span class='ee-k'>0:</span><span class='ee-v'>2921</span></li><li><span class='ee-k'>1:</span><span class='ee-v'>2041</span></li></ul></details></li></ul></details></li><li><details><summary>119: \"B146\", signed int16, EPSG:32631, 2921x2041 px</summary><ul><li><span class='ee-k'>id:</span><span class='ee-v'>B146</span></li><li><span class='ee-k'>crs:</span><span class='ee-v'>EPSG:32631</span></li><li><details><summary>crs_transform: List (6 elements)</summary><ul><li><span class='ee-k'>0:</span><span class='ee-v'>29.989729544676482</span></li><li><span class='ee-k'>1:</span><span class='ee-v'>0</span></li><li><span class='ee-k'>2:</span><span class='ee-v'>495300</span></li><li><span class='ee-k'>3:</span><span class='ee-v'>0</span></li><li><span class='ee-k'>4:</span><span class='ee-v'>-29.98530132288094</span></li><li><span class='ee-k'>5:</span><span class='ee-v'>9027900</span></li></ul></details></li><li><details><summary>data_type: signed int16</summary><ul><li><span class='ee-k'>type:</span><span class='ee-v'>PixelType</span></li><li><span class='ee-k'>max:</span><span class='ee-v'>32767</span></li><li><span class='ee-k'>min:</span><span class='ee-v'>-32768</span></li><li><span class='ee-k'>precision:</span><span class='ee-v'>int</span></li></ul></details></li><li><details><summary>dimensions: [2921, 2041]</summary><ul><li><span class='ee-k'>0:</span><span class='ee-v'>2921</span></li><li><span class='ee-k'>1:</span><span class='ee-v'>2041</span></li></ul></details></li></ul></details></li><li><details><summary>120: \"B147\", signed int16, EPSG:32631, 2921x2041 px</summary><ul><li><span class='ee-k'>id:</span><span class='ee-v'>B147</span></li><li><span class='ee-k'>crs:</span><span class='ee-v'>EPSG:32631</span></li><li><details><summary>crs_transform: List (6 elements)</summary><ul><li><span class='ee-k'>0:</span><span class='ee-v'>29.989729544676482</span></li><li><span class='ee-k'>1:</span><span class='ee-v'>0</span></li><li><span class='ee-k'>2:</span><span class='ee-v'>495300</span></li><li><span class='ee-k'>3:</span><span class='ee-v'>0</span></li><li><span class='ee-k'>4:</span><span class='ee-v'>-29.98530132288094</span></li><li><span class='ee-k'>5:</span><span class='ee-v'>9027900</span></li></ul></details></li><li><details><summary>data_type: signed int16</summary><ul><li><span class='ee-k'>type:</span><span class='ee-v'>PixelType</span></li><li><span class='ee-k'>max:</span><span class='ee-v'>32767</span></li><li><span class='ee-k'>min:</span><span class='ee-v'>-32768</span></li><li><span class='ee-k'>precision:</span><span class='ee-v'>int</span></li></ul></details></li><li><details><summary>dimensions: [2921, 2041]</summary><ul><li><span class='ee-k'>0:</span><span class='ee-v'>2921</span></li><li><span class='ee-k'>1:</span><span class='ee-v'>2041</span></li></ul></details></li></ul></details></li><li><details><summary>121: \"B148\", signed int16, EPSG:32631, 2921x2041 px</summary><ul><li><span class='ee-k'>id:</span><span class='ee-v'>B148</span></li><li><span class='ee-k'>crs:</span><span class='ee-v'>EPSG:32631</span></li><li><details><summary>crs_transform: List (6 elements)</summary><ul><li><span class='ee-k'>0:</span><span class='ee-v'>29.989729544676482</span></li><li><span class='ee-k'>1:</span><span class='ee-v'>0</span></li><li><span class='ee-k'>2:</span><span class='ee-v'>495300</span></li><li><span class='ee-k'>3:</span><span class='ee-v'>0</span></li><li><span class='ee-k'>4:</span><span class='ee-v'>-29.98530132288094</span></li><li><span class='ee-k'>5:</span><span class='ee-v'>9027900</span></li></ul></details></li><li><details><summary>data_type: signed int16</summary><ul><li><span class='ee-k'>type:</span><span class='ee-v'>PixelType</span></li><li><span class='ee-k'>max:</span><span class='ee-v'>32767</span></li><li><span class='ee-k'>min:</span><span class='ee-v'>-32768</span></li><li><span class='ee-k'>precision:</span><span class='ee-v'>int</span></li></ul></details></li><li><details><summary>dimensions: [2921, 2041]</summary><ul><li><span class='ee-k'>0:</span><span class='ee-v'>2921</span></li><li><span class='ee-k'>1:</span><span class='ee-v'>2041</span></li></ul></details></li></ul></details></li><li><details><summary>122: \"B149\", signed int16, EPSG:32631, 2921x2041 px</summary><ul><li><span class='ee-k'>id:</span><span class='ee-v'>B149</span></li><li><span class='ee-k'>crs:</span><span class='ee-v'>EPSG:32631</span></li><li><details><summary>crs_transform: List (6 elements)</summary><ul><li><span class='ee-k'>0:</span><span class='ee-v'>29.989729544676482</span></li><li><span class='ee-k'>1:</span><span class='ee-v'>0</span></li><li><span class='ee-k'>2:</span><span class='ee-v'>495300</span></li><li><span class='ee-k'>3:</span><span class='ee-v'>0</span></li><li><span class='ee-k'>4:</span><span class='ee-v'>-29.98530132288094</span></li><li><span class='ee-k'>5:</span><span class='ee-v'>9027900</span></li></ul></details></li><li><details><summary>data_type: signed int16</summary><ul><li><span class='ee-k'>type:</span><span class='ee-v'>PixelType</span></li><li><span class='ee-k'>max:</span><span class='ee-v'>32767</span></li><li><span class='ee-k'>min:</span><span class='ee-v'>-32768</span></li><li><span class='ee-k'>precision:</span><span class='ee-v'>int</span></li></ul></details></li><li><details><summary>dimensions: [2921, 2041]</summary><ul><li><span class='ee-k'>0:</span><span class='ee-v'>2921</span></li><li><span class='ee-k'>1:</span><span class='ee-v'>2041</span></li></ul></details></li></ul></details></li><li><details><summary>123: \"B150\", signed int16, EPSG:32631, 2921x2041 px</summary><ul><li><span class='ee-k'>id:</span><span class='ee-v'>B150</span></li><li><span class='ee-k'>crs:</span><span class='ee-v'>EPSG:32631</span></li><li><details><summary>crs_transform: List (6 elements)</summary><ul><li><span class='ee-k'>0:</span><span class='ee-v'>29.989729544676482</span></li><li><span class='ee-k'>1:</span><span class='ee-v'>0</span></li><li><span class='ee-k'>2:</span><span class='ee-v'>495300</span></li><li><span class='ee-k'>3:</span><span class='ee-v'>0</span></li><li><span class='ee-k'>4:</span><span class='ee-v'>-29.98530132288094</span></li><li><span class='ee-k'>5:</span><span class='ee-v'>9027900</span></li></ul></details></li><li><details><summary>data_type: signed int16</summary><ul><li><span class='ee-k'>type:</span><span class='ee-v'>PixelType</span></li><li><span class='ee-k'>max:</span><span class='ee-v'>32767</span></li><li><span class='ee-k'>min:</span><span class='ee-v'>-32768</span></li><li><span class='ee-k'>precision:</span><span class='ee-v'>int</span></li></ul></details></li><li><details><summary>dimensions: [2921, 2041]</summary><ul><li><span class='ee-k'>0:</span><span class='ee-v'>2921</span></li><li><span class='ee-k'>1:</span><span class='ee-v'>2041</span></li></ul></details></li></ul></details></li><li><details><summary>124: \"B151\", signed int16, EPSG:32631, 2921x2041 px</summary><ul><li><span class='ee-k'>id:</span><span class='ee-v'>B151</span></li><li><span class='ee-k'>crs:</span><span class='ee-v'>EPSG:32631</span></li><li><details><summary>crs_transform: List (6 elements)</summary><ul><li><span class='ee-k'>0:</span><span class='ee-v'>29.989729544676482</span></li><li><span class='ee-k'>1:</span><span class='ee-v'>0</span></li><li><span class='ee-k'>2:</span><span class='ee-v'>495300</span></li><li><span class='ee-k'>3:</span><span class='ee-v'>0</span></li><li><span class='ee-k'>4:</span><span class='ee-v'>-29.98530132288094</span></li><li><span class='ee-k'>5:</span><span class='ee-v'>9027900</span></li></ul></details></li><li><details><summary>data_type: signed int16</summary><ul><li><span class='ee-k'>type:</span><span class='ee-v'>PixelType</span></li><li><span class='ee-k'>max:</span><span class='ee-v'>32767</span></li><li><span class='ee-k'>min:</span><span class='ee-v'>-32768</span></li><li><span class='ee-k'>precision:</span><span class='ee-v'>int</span></li></ul></details></li><li><details><summary>dimensions: [2921, 2041]</summary><ul><li><span class='ee-k'>0:</span><span class='ee-v'>2921</span></li><li><span class='ee-k'>1:</span><span class='ee-v'>2041</span></li></ul></details></li></ul></details></li><li><details><summary>125: \"B152\", signed int16, EPSG:32631, 2921x2041 px</summary><ul><li><span class='ee-k'>id:</span><span class='ee-v'>B152</span></li><li><span class='ee-k'>crs:</span><span class='ee-v'>EPSG:32631</span></li><li><details><summary>crs_transform: List (6 elements)</summary><ul><li><span class='ee-k'>0:</span><span class='ee-v'>29.989729544676482</span></li><li><span class='ee-k'>1:</span><span class='ee-v'>0</span></li><li><span class='ee-k'>2:</span><span class='ee-v'>495300</span></li><li><span class='ee-k'>3:</span><span class='ee-v'>0</span></li><li><span class='ee-k'>4:</span><span class='ee-v'>-29.98530132288094</span></li><li><span class='ee-k'>5:</span><span class='ee-v'>9027900</span></li></ul></details></li><li><details><summary>data_type: signed int16</summary><ul><li><span class='ee-k'>type:</span><span class='ee-v'>PixelType</span></li><li><span class='ee-k'>max:</span><span class='ee-v'>32767</span></li><li><span class='ee-k'>min:</span><span class='ee-v'>-32768</span></li><li><span class='ee-k'>precision:</span><span class='ee-v'>int</span></li></ul></details></li><li><details><summary>dimensions: [2921, 2041]</summary><ul><li><span class='ee-k'>0:</span><span class='ee-v'>2921</span></li><li><span class='ee-k'>1:</span><span class='ee-v'>2041</span></li></ul></details></li></ul></details></li><li><details><summary>126: \"B153\", signed int16, EPSG:32631, 2921x2041 px</summary><ul><li><span class='ee-k'>id:</span><span class='ee-v'>B153</span></li><li><span class='ee-k'>crs:</span><span class='ee-v'>EPSG:32631</span></li><li><details><summary>crs_transform: List (6 elements)</summary><ul><li><span class='ee-k'>0:</span><span class='ee-v'>29.989729544676482</span></li><li><span class='ee-k'>1:</span><span class='ee-v'>0</span></li><li><span class='ee-k'>2:</span><span class='ee-v'>495300</span></li><li><span class='ee-k'>3:</span><span class='ee-v'>0</span></li><li><span class='ee-k'>4:</span><span class='ee-v'>-29.98530132288094</span></li><li><span class='ee-k'>5:</span><span class='ee-v'>9027900</span></li></ul></details></li><li><details><summary>data_type: signed int16</summary><ul><li><span class='ee-k'>type:</span><span class='ee-v'>PixelType</span></li><li><span class='ee-k'>max:</span><span class='ee-v'>32767</span></li><li><span class='ee-k'>min:</span><span class='ee-v'>-32768</span></li><li><span class='ee-k'>precision:</span><span class='ee-v'>int</span></li></ul></details></li><li><details><summary>dimensions: [2921, 2041]</summary><ul><li><span class='ee-k'>0:</span><span class='ee-v'>2921</span></li><li><span class='ee-k'>1:</span><span class='ee-v'>2041</span></li></ul></details></li></ul></details></li><li><details><summary>127: \"B154\", signed int16, EPSG:32631, 2921x2041 px</summary><ul><li><span class='ee-k'>id:</span><span class='ee-v'>B154</span></li><li><span class='ee-k'>crs:</span><span class='ee-v'>EPSG:32631</span></li><li><details><summary>crs_transform: List (6 elements)</summary><ul><li><span class='ee-k'>0:</span><span class='ee-v'>29.989729544676482</span></li><li><span class='ee-k'>1:</span><span class='ee-v'>0</span></li><li><span class='ee-k'>2:</span><span class='ee-v'>495300</span></li><li><span class='ee-k'>3:</span><span class='ee-v'>0</span></li><li><span class='ee-k'>4:</span><span class='ee-v'>-29.98530132288094</span></li><li><span class='ee-k'>5:</span><span class='ee-v'>9027900</span></li></ul></details></li><li><details><summary>data_type: signed int16</summary><ul><li><span class='ee-k'>type:</span><span class='ee-v'>PixelType</span></li><li><span class='ee-k'>max:</span><span class='ee-v'>32767</span></li><li><span class='ee-k'>min:</span><span class='ee-v'>-32768</span></li><li><span class='ee-k'>precision:</span><span class='ee-v'>int</span></li></ul></details></li><li><details><summary>dimensions: [2921, 2041]</summary><ul><li><span class='ee-k'>0:</span><span class='ee-v'>2921</span></li><li><span class='ee-k'>1:</span><span class='ee-v'>2041</span></li></ul></details></li></ul></details></li><li><details><summary>128: \"B155\", signed int16, EPSG:32631, 2921x2041 px</summary><ul><li><span class='ee-k'>id:</span><span class='ee-v'>B155</span></li><li><span class='ee-k'>crs:</span><span class='ee-v'>EPSG:32631</span></li><li><details><summary>crs_transform: List (6 elements)</summary><ul><li><span class='ee-k'>0:</span><span class='ee-v'>29.989729544676482</span></li><li><span class='ee-k'>1:</span><span class='ee-v'>0</span></li><li><span class='ee-k'>2:</span><span class='ee-v'>495300</span></li><li><span class='ee-k'>3:</span><span class='ee-v'>0</span></li><li><span class='ee-k'>4:</span><span class='ee-v'>-29.98530132288094</span></li><li><span class='ee-k'>5:</span><span class='ee-v'>9027900</span></li></ul></details></li><li><details><summary>data_type: signed int16</summary><ul><li><span class='ee-k'>type:</span><span class='ee-v'>PixelType</span></li><li><span class='ee-k'>max:</span><span class='ee-v'>32767</span></li><li><span class='ee-k'>min:</span><span class='ee-v'>-32768</span></li><li><span class='ee-k'>precision:</span><span class='ee-v'>int</span></li></ul></details></li><li><details><summary>dimensions: [2921, 2041]</summary><ul><li><span class='ee-k'>0:</span><span class='ee-v'>2921</span></li><li><span class='ee-k'>1:</span><span class='ee-v'>2041</span></li></ul></details></li></ul></details></li><li><details><summary>129: \"B156\", signed int16, EPSG:32631, 2921x2041 px</summary><ul><li><span class='ee-k'>id:</span><span class='ee-v'>B156</span></li><li><span class='ee-k'>crs:</span><span class='ee-v'>EPSG:32631</span></li><li><details><summary>crs_transform: List (6 elements)</summary><ul><li><span class='ee-k'>0:</span><span class='ee-v'>29.989729544676482</span></li><li><span class='ee-k'>1:</span><span class='ee-v'>0</span></li><li><span class='ee-k'>2:</span><span class='ee-v'>495300</span></li><li><span class='ee-k'>3:</span><span class='ee-v'>0</span></li><li><span class='ee-k'>4:</span><span class='ee-v'>-29.98530132288094</span></li><li><span class='ee-k'>5:</span><span class='ee-v'>9027900</span></li></ul></details></li><li><details><summary>data_type: signed int16</summary><ul><li><span class='ee-k'>type:</span><span class='ee-v'>PixelType</span></li><li><span class='ee-k'>max:</span><span class='ee-v'>32767</span></li><li><span class='ee-k'>min:</span><span class='ee-v'>-32768</span></li><li><span class='ee-k'>precision:</span><span class='ee-v'>int</span></li></ul></details></li><li><details><summary>dimensions: [2921, 2041]</summary><ul><li><span class='ee-k'>0:</span><span class='ee-v'>2921</span></li><li><span class='ee-k'>1:</span><span class='ee-v'>2041</span></li></ul></details></li></ul></details></li><li><details><summary>130: \"B157\", signed int16, EPSG:32631, 2921x2041 px</summary><ul><li><span class='ee-k'>id:</span><span class='ee-v'>B157</span></li><li><span class='ee-k'>crs:</span><span class='ee-v'>EPSG:32631</span></li><li><details><summary>crs_transform: List (6 elements)</summary><ul><li><span class='ee-k'>0:</span><span class='ee-v'>29.989729544676482</span></li><li><span class='ee-k'>1:</span><span class='ee-v'>0</span></li><li><span class='ee-k'>2:</span><span class='ee-v'>495300</span></li><li><span class='ee-k'>3:</span><span class='ee-v'>0</span></li><li><span class='ee-k'>4:</span><span class='ee-v'>-29.98530132288094</span></li><li><span class='ee-k'>5:</span><span class='ee-v'>9027900</span></li></ul></details></li><li><details><summary>data_type: signed int16</summary><ul><li><span class='ee-k'>type:</span><span class='ee-v'>PixelType</span></li><li><span class='ee-k'>max:</span><span class='ee-v'>32767</span></li><li><span class='ee-k'>min:</span><span class='ee-v'>-32768</span></li><li><span class='ee-k'>precision:</span><span class='ee-v'>int</span></li></ul></details></li><li><details><summary>dimensions: [2921, 2041]</summary><ul><li><span class='ee-k'>0:</span><span class='ee-v'>2921</span></li><li><span class='ee-k'>1:</span><span class='ee-v'>2041</span></li></ul></details></li></ul></details></li><li><details><summary>131: \"B158\", signed int16, EPSG:32631, 2921x2041 px</summary><ul><li><span class='ee-k'>id:</span><span class='ee-v'>B158</span></li><li><span class='ee-k'>crs:</span><span class='ee-v'>EPSG:32631</span></li><li><details><summary>crs_transform: List (6 elements)</summary><ul><li><span class='ee-k'>0:</span><span class='ee-v'>29.989729544676482</span></li><li><span class='ee-k'>1:</span><span class='ee-v'>0</span></li><li><span class='ee-k'>2:</span><span class='ee-v'>495300</span></li><li><span class='ee-k'>3:</span><span class='ee-v'>0</span></li><li><span class='ee-k'>4:</span><span class='ee-v'>-29.98530132288094</span></li><li><span class='ee-k'>5:</span><span class='ee-v'>9027900</span></li></ul></details></li><li><details><summary>data_type: signed int16</summary><ul><li><span class='ee-k'>type:</span><span class='ee-v'>PixelType</span></li><li><span class='ee-k'>max:</span><span class='ee-v'>32767</span></li><li><span class='ee-k'>min:</span><span class='ee-v'>-32768</span></li><li><span class='ee-k'>precision:</span><span class='ee-v'>int</span></li></ul></details></li><li><details><summary>dimensions: [2921, 2041]</summary><ul><li><span class='ee-k'>0:</span><span class='ee-v'>2921</span></li><li><span class='ee-k'>1:</span><span class='ee-v'>2041</span></li></ul></details></li></ul></details></li><li><details><summary>132: \"B159\", signed int16, EPSG:32631, 2921x2041 px</summary><ul><li><span class='ee-k'>id:</span><span class='ee-v'>B159</span></li><li><span class='ee-k'>crs:</span><span class='ee-v'>EPSG:32631</span></li><li><details><summary>crs_transform: List (6 elements)</summary><ul><li><span class='ee-k'>0:</span><span class='ee-v'>29.989729544676482</span></li><li><span class='ee-k'>1:</span><span class='ee-v'>0</span></li><li><span class='ee-k'>2:</span><span class='ee-v'>495300</span></li><li><span class='ee-k'>3:</span><span class='ee-v'>0</span></li><li><span class='ee-k'>4:</span><span class='ee-v'>-29.98530132288094</span></li><li><span class='ee-k'>5:</span><span class='ee-v'>9027900</span></li></ul></details></li><li><details><summary>data_type: signed int16</summary><ul><li><span class='ee-k'>type:</span><span class='ee-v'>PixelType</span></li><li><span class='ee-k'>max:</span><span class='ee-v'>32767</span></li><li><span class='ee-k'>min:</span><span class='ee-v'>-32768</span></li><li><span class='ee-k'>precision:</span><span class='ee-v'>int</span></li></ul></details></li><li><details><summary>dimensions: [2921, 2041]</summary><ul><li><span class='ee-k'>0:</span><span class='ee-v'>2921</span></li><li><span class='ee-k'>1:</span><span class='ee-v'>2041</span></li></ul></details></li></ul></details></li><li><details><summary>133: \"B160\", signed int16, EPSG:32631, 2921x2041 px</summary><ul><li><span class='ee-k'>id:</span><span class='ee-v'>B160</span></li><li><span class='ee-k'>crs:</span><span class='ee-v'>EPSG:32631</span></li><li><details><summary>crs_transform: List (6 elements)</summary><ul><li><span class='ee-k'>0:</span><span class='ee-v'>29.989729544676482</span></li><li><span class='ee-k'>1:</span><span class='ee-v'>0</span></li><li><span class='ee-k'>2:</span><span class='ee-v'>495300</span></li><li><span class='ee-k'>3:</span><span class='ee-v'>0</span></li><li><span class='ee-k'>4:</span><span class='ee-v'>-29.98530132288094</span></li><li><span class='ee-k'>5:</span><span class='ee-v'>9027900</span></li></ul></details></li><li><details><summary>data_type: signed int16</summary><ul><li><span class='ee-k'>type:</span><span class='ee-v'>PixelType</span></li><li><span class='ee-k'>max:</span><span class='ee-v'>32767</span></li><li><span class='ee-k'>min:</span><span class='ee-v'>-32768</span></li><li><span class='ee-k'>precision:</span><span class='ee-v'>int</span></li></ul></details></li><li><details><summary>dimensions: [2921, 2041]</summary><ul><li><span class='ee-k'>0:</span><span class='ee-v'>2921</span></li><li><span class='ee-k'>1:</span><span class='ee-v'>2041</span></li></ul></details></li></ul></details></li><li><details><summary>134: \"B161\", signed int16, EPSG:32631, 2921x2041 px</summary><ul><li><span class='ee-k'>id:</span><span class='ee-v'>B161</span></li><li><span class='ee-k'>crs:</span><span class='ee-v'>EPSG:32631</span></li><li><details><summary>crs_transform: List (6 elements)</summary><ul><li><span class='ee-k'>0:</span><span class='ee-v'>29.989729544676482</span></li><li><span class='ee-k'>1:</span><span class='ee-v'>0</span></li><li><span class='ee-k'>2:</span><span class='ee-v'>495300</span></li><li><span class='ee-k'>3:</span><span class='ee-v'>0</span></li><li><span class='ee-k'>4:</span><span class='ee-v'>-29.98530132288094</span></li><li><span class='ee-k'>5:</span><span class='ee-v'>9027900</span></li></ul></details></li><li><details><summary>data_type: signed int16</summary><ul><li><span class='ee-k'>type:</span><span class='ee-v'>PixelType</span></li><li><span class='ee-k'>max:</span><span class='ee-v'>32767</span></li><li><span class='ee-k'>min:</span><span class='ee-v'>-32768</span></li><li><span class='ee-k'>precision:</span><span class='ee-v'>int</span></li></ul></details></li><li><details><summary>dimensions: [2921, 2041]</summary><ul><li><span class='ee-k'>0:</span><span class='ee-v'>2921</span></li><li><span class='ee-k'>1:</span><span class='ee-v'>2041</span></li></ul></details></li></ul></details></li><li><details><summary>135: \"B162\", signed int16, EPSG:32631, 2921x2041 px</summary><ul><li><span class='ee-k'>id:</span><span class='ee-v'>B162</span></li><li><span class='ee-k'>crs:</span><span class='ee-v'>EPSG:32631</span></li><li><details><summary>crs_transform: List (6 elements)</summary><ul><li><span class='ee-k'>0:</span><span class='ee-v'>29.989729544676482</span></li><li><span class='ee-k'>1:</span><span class='ee-v'>0</span></li><li><span class='ee-k'>2:</span><span class='ee-v'>495300</span></li><li><span class='ee-k'>3:</span><span class='ee-v'>0</span></li><li><span class='ee-k'>4:</span><span class='ee-v'>-29.98530132288094</span></li><li><span class='ee-k'>5:</span><span class='ee-v'>9027900</span></li></ul></details></li><li><details><summary>data_type: signed int16</summary><ul><li><span class='ee-k'>type:</span><span class='ee-v'>PixelType</span></li><li><span class='ee-k'>max:</span><span class='ee-v'>32767</span></li><li><span class='ee-k'>min:</span><span class='ee-v'>-32768</span></li><li><span class='ee-k'>precision:</span><span class='ee-v'>int</span></li></ul></details></li><li><details><summary>dimensions: [2921, 2041]</summary><ul><li><span class='ee-k'>0:</span><span class='ee-v'>2921</span></li><li><span class='ee-k'>1:</span><span class='ee-v'>2041</span></li></ul></details></li></ul></details></li><li><details><summary>136: \"B163\", signed int16, EPSG:32631, 2921x2041 px</summary><ul><li><span class='ee-k'>id:</span><span class='ee-v'>B163</span></li><li><span class='ee-k'>crs:</span><span class='ee-v'>EPSG:32631</span></li><li><details><summary>crs_transform: List (6 elements)</summary><ul><li><span class='ee-k'>0:</span><span class='ee-v'>29.989729544676482</span></li><li><span class='ee-k'>1:</span><span class='ee-v'>0</span></li><li><span class='ee-k'>2:</span><span class='ee-v'>495300</span></li><li><span class='ee-k'>3:</span><span class='ee-v'>0</span></li><li><span class='ee-k'>4:</span><span class='ee-v'>-29.98530132288094</span></li><li><span class='ee-k'>5:</span><span class='ee-v'>9027900</span></li></ul></details></li><li><details><summary>data_type: signed int16</summary><ul><li><span class='ee-k'>type:</span><span class='ee-v'>PixelType</span></li><li><span class='ee-k'>max:</span><span class='ee-v'>32767</span></li><li><span class='ee-k'>min:</span><span class='ee-v'>-32768</span></li><li><span class='ee-k'>precision:</span><span class='ee-v'>int</span></li></ul></details></li><li><details><summary>dimensions: [2921, 2041]</summary><ul><li><span class='ee-k'>0:</span><span class='ee-v'>2921</span></li><li><span class='ee-k'>1:</span><span class='ee-v'>2041</span></li></ul></details></li></ul></details></li><li><details><summary>137: \"B164\", signed int16, EPSG:32631, 2921x2041 px</summary><ul><li><span class='ee-k'>id:</span><span class='ee-v'>B164</span></li><li><span class='ee-k'>crs:</span><span class='ee-v'>EPSG:32631</span></li><li><details><summary>crs_transform: List (6 elements)</summary><ul><li><span class='ee-k'>0:</span><span class='ee-v'>29.989729544676482</span></li><li><span class='ee-k'>1:</span><span class='ee-v'>0</span></li><li><span class='ee-k'>2:</span><span class='ee-v'>495300</span></li><li><span class='ee-k'>3:</span><span class='ee-v'>0</span></li><li><span class='ee-k'>4:</span><span class='ee-v'>-29.98530132288094</span></li><li><span class='ee-k'>5:</span><span class='ee-v'>9027900</span></li></ul></details></li><li><details><summary>data_type: signed int16</summary><ul><li><span class='ee-k'>type:</span><span class='ee-v'>PixelType</span></li><li><span class='ee-k'>max:</span><span class='ee-v'>32767</span></li><li><span class='ee-k'>min:</span><span class='ee-v'>-32768</span></li><li><span class='ee-k'>precision:</span><span class='ee-v'>int</span></li></ul></details></li><li><details><summary>dimensions: [2921, 2041]</summary><ul><li><span class='ee-k'>0:</span><span class='ee-v'>2921</span></li><li><span class='ee-k'>1:</span><span class='ee-v'>2041</span></li></ul></details></li></ul></details></li><li><details><summary>138: \"B165\", signed int16, EPSG:32631, 2921x2041 px</summary><ul><li><span class='ee-k'>id:</span><span class='ee-v'>B165</span></li><li><span class='ee-k'>crs:</span><span class='ee-v'>EPSG:32631</span></li><li><details><summary>crs_transform: List (6 elements)</summary><ul><li><span class='ee-k'>0:</span><span class='ee-v'>29.989729544676482</span></li><li><span class='ee-k'>1:</span><span class='ee-v'>0</span></li><li><span class='ee-k'>2:</span><span class='ee-v'>495300</span></li><li><span class='ee-k'>3:</span><span class='ee-v'>0</span></li><li><span class='ee-k'>4:</span><span class='ee-v'>-29.98530132288094</span></li><li><span class='ee-k'>5:</span><span class='ee-v'>9027900</span></li></ul></details></li><li><details><summary>data_type: signed int16</summary><ul><li><span class='ee-k'>type:</span><span class='ee-v'>PixelType</span></li><li><span class='ee-k'>max:</span><span class='ee-v'>32767</span></li><li><span class='ee-k'>min:</span><span class='ee-v'>-32768</span></li><li><span class='ee-k'>precision:</span><span class='ee-v'>int</span></li></ul></details></li><li><details><summary>dimensions: [2921, 2041]</summary><ul><li><span class='ee-k'>0:</span><span class='ee-v'>2921</span></li><li><span class='ee-k'>1:</span><span class='ee-v'>2041</span></li></ul></details></li></ul></details></li><li><details><summary>139: \"B166\", signed int16, EPSG:32631, 2921x2041 px</summary><ul><li><span class='ee-k'>id:</span><span class='ee-v'>B166</span></li><li><span class='ee-k'>crs:</span><span class='ee-v'>EPSG:32631</span></li><li><details><summary>crs_transform: List (6 elements)</summary><ul><li><span class='ee-k'>0:</span><span class='ee-v'>29.989729544676482</span></li><li><span class='ee-k'>1:</span><span class='ee-v'>0</span></li><li><span class='ee-k'>2:</span><span class='ee-v'>495300</span></li><li><span class='ee-k'>3:</span><span class='ee-v'>0</span></li><li><span class='ee-k'>4:</span><span class='ee-v'>-29.98530132288094</span></li><li><span class='ee-k'>5:</span><span class='ee-v'>9027900</span></li></ul></details></li><li><details><summary>data_type: signed int16</summary><ul><li><span class='ee-k'>type:</span><span class='ee-v'>PixelType</span></li><li><span class='ee-k'>max:</span><span class='ee-v'>32767</span></li><li><span class='ee-k'>min:</span><span class='ee-v'>-32768</span></li><li><span class='ee-k'>precision:</span><span class='ee-v'>int</span></li></ul></details></li><li><details><summary>dimensions: [2921, 2041]</summary><ul><li><span class='ee-k'>0:</span><span class='ee-v'>2921</span></li><li><span class='ee-k'>1:</span><span class='ee-v'>2041</span></li></ul></details></li></ul></details></li><li><details><summary>140: \"B167\", signed int16, EPSG:32631, 2921x2041 px</summary><ul><li><span class='ee-k'>id:</span><span class='ee-v'>B167</span></li><li><span class='ee-k'>crs:</span><span class='ee-v'>EPSG:32631</span></li><li><details><summary>crs_transform: List (6 elements)</summary><ul><li><span class='ee-k'>0:</span><span class='ee-v'>29.989729544676482</span></li><li><span class='ee-k'>1:</span><span class='ee-v'>0</span></li><li><span class='ee-k'>2:</span><span class='ee-v'>495300</span></li><li><span class='ee-k'>3:</span><span class='ee-v'>0</span></li><li><span class='ee-k'>4:</span><span class='ee-v'>-29.98530132288094</span></li><li><span class='ee-k'>5:</span><span class='ee-v'>9027900</span></li></ul></details></li><li><details><summary>data_type: signed int16</summary><ul><li><span class='ee-k'>type:</span><span class='ee-v'>PixelType</span></li><li><span class='ee-k'>max:</span><span class='ee-v'>32767</span></li><li><span class='ee-k'>min:</span><span class='ee-v'>-32768</span></li><li><span class='ee-k'>precision:</span><span class='ee-v'>int</span></li></ul></details></li><li><details><summary>dimensions: [2921, 2041]</summary><ul><li><span class='ee-k'>0:</span><span class='ee-v'>2921</span></li><li><span class='ee-k'>1:</span><span class='ee-v'>2041</span></li></ul></details></li></ul></details></li><li><details><summary>141: \"B168\", signed int16, EPSG:32631, 2921x2041 px</summary><ul><li><span class='ee-k'>id:</span><span class='ee-v'>B168</span></li><li><span class='ee-k'>crs:</span><span class='ee-v'>EPSG:32631</span></li><li><details><summary>crs_transform: List (6 elements)</summary><ul><li><span class='ee-k'>0:</span><span class='ee-v'>29.989729544676482</span></li><li><span class='ee-k'>1:</span><span class='ee-v'>0</span></li><li><span class='ee-k'>2:</span><span class='ee-v'>495300</span></li><li><span class='ee-k'>3:</span><span class='ee-v'>0</span></li><li><span class='ee-k'>4:</span><span class='ee-v'>-29.98530132288094</span></li><li><span class='ee-k'>5:</span><span class='ee-v'>9027900</span></li></ul></details></li><li><details><summary>data_type: signed int16</summary><ul><li><span class='ee-k'>type:</span><span class='ee-v'>PixelType</span></li><li><span class='ee-k'>max:</span><span class='ee-v'>32767</span></li><li><span class='ee-k'>min:</span><span class='ee-v'>-32768</span></li><li><span class='ee-k'>precision:</span><span class='ee-v'>int</span></li></ul></details></li><li><details><summary>dimensions: [2921, 2041]</summary><ul><li><span class='ee-k'>0:</span><span class='ee-v'>2921</span></li><li><span class='ee-k'>1:</span><span class='ee-v'>2041</span></li></ul></details></li></ul></details></li><li><details><summary>142: \"B169\", signed int16, EPSG:32631, 2921x2041 px</summary><ul><li><span class='ee-k'>id:</span><span class='ee-v'>B169</span></li><li><span class='ee-k'>crs:</span><span class='ee-v'>EPSG:32631</span></li><li><details><summary>crs_transform: List (6 elements)</summary><ul><li><span class='ee-k'>0:</span><span class='ee-v'>29.989729544676482</span></li><li><span class='ee-k'>1:</span><span class='ee-v'>0</span></li><li><span class='ee-k'>2:</span><span class='ee-v'>495300</span></li><li><span class='ee-k'>3:</span><span class='ee-v'>0</span></li><li><span class='ee-k'>4:</span><span class='ee-v'>-29.98530132288094</span></li><li><span class='ee-k'>5:</span><span class='ee-v'>9027900</span></li></ul></details></li><li><details><summary>data_type: signed int16</summary><ul><li><span class='ee-k'>type:</span><span class='ee-v'>PixelType</span></li><li><span class='ee-k'>max:</span><span class='ee-v'>32767</span></li><li><span class='ee-k'>min:</span><span class='ee-v'>-32768</span></li><li><span class='ee-k'>precision:</span><span class='ee-v'>int</span></li></ul></details></li><li><details><summary>dimensions: [2921, 2041]</summary><ul><li><span class='ee-k'>0:</span><span class='ee-v'>2921</span></li><li><span class='ee-k'>1:</span><span class='ee-v'>2041</span></li></ul></details></li></ul></details></li><li><details><summary>143: \"B170\", signed int16, EPSG:32631, 2921x2041 px</summary><ul><li><span class='ee-k'>id:</span><span class='ee-v'>B170</span></li><li><span class='ee-k'>crs:</span><span class='ee-v'>EPSG:32631</span></li><li><details><summary>crs_transform: List (6 elements)</summary><ul><li><span class='ee-k'>0:</span><span class='ee-v'>29.989729544676482</span></li><li><span class='ee-k'>1:</span><span class='ee-v'>0</span></li><li><span class='ee-k'>2:</span><span class='ee-v'>495300</span></li><li><span class='ee-k'>3:</span><span class='ee-v'>0</span></li><li><span class='ee-k'>4:</span><span class='ee-v'>-29.98530132288094</span></li><li><span class='ee-k'>5:</span><span class='ee-v'>9027900</span></li></ul></details></li><li><details><summary>data_type: signed int16</summary><ul><li><span class='ee-k'>type:</span><span class='ee-v'>PixelType</span></li><li><span class='ee-k'>max:</span><span class='ee-v'>32767</span></li><li><span class='ee-k'>min:</span><span class='ee-v'>-32768</span></li><li><span class='ee-k'>precision:</span><span class='ee-v'>int</span></li></ul></details></li><li><details><summary>dimensions: [2921, 2041]</summary><ul><li><span class='ee-k'>0:</span><span class='ee-v'>2921</span></li><li><span class='ee-k'>1:</span><span class='ee-v'>2041</span></li></ul></details></li></ul></details></li><li><details><summary>144: \"B171\", signed int16, EPSG:32631, 2921x2041 px</summary><ul><li><span class='ee-k'>id:</span><span class='ee-v'>B171</span></li><li><span class='ee-k'>crs:</span><span class='ee-v'>EPSG:32631</span></li><li><details><summary>crs_transform: List (6 elements)</summary><ul><li><span class='ee-k'>0:</span><span class='ee-v'>29.989729544676482</span></li><li><span class='ee-k'>1:</span><span class='ee-v'>0</span></li><li><span class='ee-k'>2:</span><span class='ee-v'>495300</span></li><li><span class='ee-k'>3:</span><span class='ee-v'>0</span></li><li><span class='ee-k'>4:</span><span class='ee-v'>-29.98530132288094</span></li><li><span class='ee-k'>5:</span><span class='ee-v'>9027900</span></li></ul></details></li><li><details><summary>data_type: signed int16</summary><ul><li><span class='ee-k'>type:</span><span class='ee-v'>PixelType</span></li><li><span class='ee-k'>max:</span><span class='ee-v'>32767</span></li><li><span class='ee-k'>min:</span><span class='ee-v'>-32768</span></li><li><span class='ee-k'>precision:</span><span class='ee-v'>int</span></li></ul></details></li><li><details><summary>dimensions: [2921, 2041]</summary><ul><li><span class='ee-k'>0:</span><span class='ee-v'>2921</span></li><li><span class='ee-k'>1:</span><span class='ee-v'>2041</span></li></ul></details></li></ul></details></li><li><details><summary>145: \"B172\", signed int16, EPSG:32631, 2921x2041 px</summary><ul><li><span class='ee-k'>id:</span><span class='ee-v'>B172</span></li><li><span class='ee-k'>crs:</span><span class='ee-v'>EPSG:32631</span></li><li><details><summary>crs_transform: List (6 elements)</summary><ul><li><span class='ee-k'>0:</span><span class='ee-v'>29.989729544676482</span></li><li><span class='ee-k'>1:</span><span class='ee-v'>0</span></li><li><span class='ee-k'>2:</span><span class='ee-v'>495300</span></li><li><span class='ee-k'>3:</span><span class='ee-v'>0</span></li><li><span class='ee-k'>4:</span><span class='ee-v'>-29.98530132288094</span></li><li><span class='ee-k'>5:</span><span class='ee-v'>9027900</span></li></ul></details></li><li><details><summary>data_type: signed int16</summary><ul><li><span class='ee-k'>type:</span><span class='ee-v'>PixelType</span></li><li><span class='ee-k'>max:</span><span class='ee-v'>32767</span></li><li><span class='ee-k'>min:</span><span class='ee-v'>-32768</span></li><li><span class='ee-k'>precision:</span><span class='ee-v'>int</span></li></ul></details></li><li><details><summary>dimensions: [2921, 2041]</summary><ul><li><span class='ee-k'>0:</span><span class='ee-v'>2921</span></li><li><span class='ee-k'>1:</span><span class='ee-v'>2041</span></li></ul></details></li></ul></details></li><li><details><summary>146: \"B173\", signed int16, EPSG:32631, 2921x2041 px</summary><ul><li><span class='ee-k'>id:</span><span class='ee-v'>B173</span></li><li><span class='ee-k'>crs:</span><span class='ee-v'>EPSG:32631</span></li><li><details><summary>crs_transform: List (6 elements)</summary><ul><li><span class='ee-k'>0:</span><span class='ee-v'>29.989729544676482</span></li><li><span class='ee-k'>1:</span><span class='ee-v'>0</span></li><li><span class='ee-k'>2:</span><span class='ee-v'>495300</span></li><li><span class='ee-k'>3:</span><span class='ee-v'>0</span></li><li><span class='ee-k'>4:</span><span class='ee-v'>-29.98530132288094</span></li><li><span class='ee-k'>5:</span><span class='ee-v'>9027900</span></li></ul></details></li><li><details><summary>data_type: signed int16</summary><ul><li><span class='ee-k'>type:</span><span class='ee-v'>PixelType</span></li><li><span class='ee-k'>max:</span><span class='ee-v'>32767</span></li><li><span class='ee-k'>min:</span><span class='ee-v'>-32768</span></li><li><span class='ee-k'>precision:</span><span class='ee-v'>int</span></li></ul></details></li><li><details><summary>dimensions: [2921, 2041]</summary><ul><li><span class='ee-k'>0:</span><span class='ee-v'>2921</span></li><li><span class='ee-k'>1:</span><span class='ee-v'>2041</span></li></ul></details></li></ul></details></li><li><details><summary>147: \"B174\", signed int16, EPSG:32631, 2921x2041 px</summary><ul><li><span class='ee-k'>id:</span><span class='ee-v'>B174</span></li><li><span class='ee-k'>crs:</span><span class='ee-v'>EPSG:32631</span></li><li><details><summary>crs_transform: List (6 elements)</summary><ul><li><span class='ee-k'>0:</span><span class='ee-v'>29.989729544676482</span></li><li><span class='ee-k'>1:</span><span class='ee-v'>0</span></li><li><span class='ee-k'>2:</span><span class='ee-v'>495300</span></li><li><span class='ee-k'>3:</span><span class='ee-v'>0</span></li><li><span class='ee-k'>4:</span><span class='ee-v'>-29.98530132288094</span></li><li><span class='ee-k'>5:</span><span class='ee-v'>9027900</span></li></ul></details></li><li><details><summary>data_type: signed int16</summary><ul><li><span class='ee-k'>type:</span><span class='ee-v'>PixelType</span></li><li><span class='ee-k'>max:</span><span class='ee-v'>32767</span></li><li><span class='ee-k'>min:</span><span class='ee-v'>-32768</span></li><li><span class='ee-k'>precision:</span><span class='ee-v'>int</span></li></ul></details></li><li><details><summary>dimensions: [2921, 2041]</summary><ul><li><span class='ee-k'>0:</span><span class='ee-v'>2921</span></li><li><span class='ee-k'>1:</span><span class='ee-v'>2041</span></li></ul></details></li></ul></details></li><li><details><summary>148: \"B175\", signed int16, EPSG:32631, 2921x2041 px</summary><ul><li><span class='ee-k'>id:</span><span class='ee-v'>B175</span></li><li><span class='ee-k'>crs:</span><span class='ee-v'>EPSG:32631</span></li><li><details><summary>crs_transform: List (6 elements)</summary><ul><li><span class='ee-k'>0:</span><span class='ee-v'>29.989729544676482</span></li><li><span class='ee-k'>1:</span><span class='ee-v'>0</span></li><li><span class='ee-k'>2:</span><span class='ee-v'>495300</span></li><li><span class='ee-k'>3:</span><span class='ee-v'>0</span></li><li><span class='ee-k'>4:</span><span class='ee-v'>-29.98530132288094</span></li><li><span class='ee-k'>5:</span><span class='ee-v'>9027900</span></li></ul></details></li><li><details><summary>data_type: signed int16</summary><ul><li><span class='ee-k'>type:</span><span class='ee-v'>PixelType</span></li><li><span class='ee-k'>max:</span><span class='ee-v'>32767</span></li><li><span class='ee-k'>min:</span><span class='ee-v'>-32768</span></li><li><span class='ee-k'>precision:</span><span class='ee-v'>int</span></li></ul></details></li><li><details><summary>dimensions: [2921, 2041]</summary><ul><li><span class='ee-k'>0:</span><span class='ee-v'>2921</span></li><li><span class='ee-k'>1:</span><span class='ee-v'>2041</span></li></ul></details></li></ul></details></li><li><details><summary>149: \"B176\", signed int16, EPSG:32631, 2921x2041 px</summary><ul><li><span class='ee-k'>id:</span><span class='ee-v'>B176</span></li><li><span class='ee-k'>crs:</span><span class='ee-v'>EPSG:32631</span></li><li><details><summary>crs_transform: List (6 elements)</summary><ul><li><span class='ee-k'>0:</span><span class='ee-v'>29.989729544676482</span></li><li><span class='ee-k'>1:</span><span class='ee-v'>0</span></li><li><span class='ee-k'>2:</span><span class='ee-v'>495300</span></li><li><span class='ee-k'>3:</span><span class='ee-v'>0</span></li><li><span class='ee-k'>4:</span><span class='ee-v'>-29.98530132288094</span></li><li><span class='ee-k'>5:</span><span class='ee-v'>9027900</span></li></ul></details></li><li><details><summary>data_type: signed int16</summary><ul><li><span class='ee-k'>type:</span><span class='ee-v'>PixelType</span></li><li><span class='ee-k'>max:</span><span class='ee-v'>32767</span></li><li><span class='ee-k'>min:</span><span class='ee-v'>-32768</span></li><li><span class='ee-k'>precision:</span><span class='ee-v'>int</span></li></ul></details></li><li><details><summary>dimensions: [2921, 2041]</summary><ul><li><span class='ee-k'>0:</span><span class='ee-v'>2921</span></li><li><span class='ee-k'>1:</span><span class='ee-v'>2041</span></li></ul></details></li></ul></details></li><li><details><summary>150: \"B177\", signed int16, EPSG:32631, 2921x2041 px</summary><ul><li><span class='ee-k'>id:</span><span class='ee-v'>B177</span></li><li><span class='ee-k'>crs:</span><span class='ee-v'>EPSG:32631</span></li><li><details><summary>crs_transform: List (6 elements)</summary><ul><li><span class='ee-k'>0:</span><span class='ee-v'>29.989729544676482</span></li><li><span class='ee-k'>1:</span><span class='ee-v'>0</span></li><li><span class='ee-k'>2:</span><span class='ee-v'>495300</span></li><li><span class='ee-k'>3:</span><span class='ee-v'>0</span></li><li><span class='ee-k'>4:</span><span class='ee-v'>-29.98530132288094</span></li><li><span class='ee-k'>5:</span><span class='ee-v'>9027900</span></li></ul></details></li><li><details><summary>data_type: signed int16</summary><ul><li><span class='ee-k'>type:</span><span class='ee-v'>PixelType</span></li><li><span class='ee-k'>max:</span><span class='ee-v'>32767</span></li><li><span class='ee-k'>min:</span><span class='ee-v'>-32768</span></li><li><span class='ee-k'>precision:</span><span class='ee-v'>int</span></li></ul></details></li><li><details><summary>dimensions: [2921, 2041]</summary><ul><li><span class='ee-k'>0:</span><span class='ee-v'>2921</span></li><li><span class='ee-k'>1:</span><span class='ee-v'>2041</span></li></ul></details></li></ul></details></li><li><details><summary>151: \"B178\", signed int16, EPSG:32631, 2921x2041 px</summary><ul><li><span class='ee-k'>id:</span><span class='ee-v'>B178</span></li><li><span class='ee-k'>crs:</span><span class='ee-v'>EPSG:32631</span></li><li><details><summary>crs_transform: List (6 elements)</summary><ul><li><span class='ee-k'>0:</span><span class='ee-v'>29.989729544676482</span></li><li><span class='ee-k'>1:</span><span class='ee-v'>0</span></li><li><span class='ee-k'>2:</span><span class='ee-v'>495300</span></li><li><span class='ee-k'>3:</span><span class='ee-v'>0</span></li><li><span class='ee-k'>4:</span><span class='ee-v'>-29.98530132288094</span></li><li><span class='ee-k'>5:</span><span class='ee-v'>9027900</span></li></ul></details></li><li><details><summary>data_type: signed int16</summary><ul><li><span class='ee-k'>type:</span><span class='ee-v'>PixelType</span></li><li><span class='ee-k'>max:</span><span class='ee-v'>32767</span></li><li><span class='ee-k'>min:</span><span class='ee-v'>-32768</span></li><li><span class='ee-k'>precision:</span><span class='ee-v'>int</span></li></ul></details></li><li><details><summary>dimensions: [2921, 2041]</summary><ul><li><span class='ee-k'>0:</span><span class='ee-v'>2921</span></li><li><span class='ee-k'>1:</span><span class='ee-v'>2041</span></li></ul></details></li></ul></details></li><li><details><summary>152: \"B179\", signed int16, EPSG:32631, 2921x2041 px</summary><ul><li><span class='ee-k'>id:</span><span class='ee-v'>B179</span></li><li><span class='ee-k'>crs:</span><span class='ee-v'>EPSG:32631</span></li><li><details><summary>crs_transform: List (6 elements)</summary><ul><li><span class='ee-k'>0:</span><span class='ee-v'>29.989729544676482</span></li><li><span class='ee-k'>1:</span><span class='ee-v'>0</span></li><li><span class='ee-k'>2:</span><span class='ee-v'>495300</span></li><li><span class='ee-k'>3:</span><span class='ee-v'>0</span></li><li><span class='ee-k'>4:</span><span class='ee-v'>-29.98530132288094</span></li><li><span class='ee-k'>5:</span><span class='ee-v'>9027900</span></li></ul></details></li><li><details><summary>data_type: signed int16</summary><ul><li><span class='ee-k'>type:</span><span class='ee-v'>PixelType</span></li><li><span class='ee-k'>max:</span><span class='ee-v'>32767</span></li><li><span class='ee-k'>min:</span><span class='ee-v'>-32768</span></li><li><span class='ee-k'>precision:</span><span class='ee-v'>int</span></li></ul></details></li><li><details><summary>dimensions: [2921, 2041]</summary><ul><li><span class='ee-k'>0:</span><span class='ee-v'>2921</span></li><li><span class='ee-k'>1:</span><span class='ee-v'>2041</span></li></ul></details></li></ul></details></li><li><details><summary>153: \"B180\", signed int16, EPSG:32631, 2921x2041 px</summary><ul><li><span class='ee-k'>id:</span><span class='ee-v'>B180</span></li><li><span class='ee-k'>crs:</span><span class='ee-v'>EPSG:32631</span></li><li><details><summary>crs_transform: List (6 elements)</summary><ul><li><span class='ee-k'>0:</span><span class='ee-v'>29.989729544676482</span></li><li><span class='ee-k'>1:</span><span class='ee-v'>0</span></li><li><span class='ee-k'>2:</span><span class='ee-v'>495300</span></li><li><span class='ee-k'>3:</span><span class='ee-v'>0</span></li><li><span class='ee-k'>4:</span><span class='ee-v'>-29.98530132288094</span></li><li><span class='ee-k'>5:</span><span class='ee-v'>9027900</span></li></ul></details></li><li><details><summary>data_type: signed int16</summary><ul><li><span class='ee-k'>type:</span><span class='ee-v'>PixelType</span></li><li><span class='ee-k'>max:</span><span class='ee-v'>32767</span></li><li><span class='ee-k'>min:</span><span class='ee-v'>-32768</span></li><li><span class='ee-k'>precision:</span><span class='ee-v'>int</span></li></ul></details></li><li><details><summary>dimensions: [2921, 2041]</summary><ul><li><span class='ee-k'>0:</span><span class='ee-v'>2921</span></li><li><span class='ee-k'>1:</span><span class='ee-v'>2041</span></li></ul></details></li></ul></details></li><li><details><summary>154: \"B181\", signed int16, EPSG:32631, 2921x2041 px</summary><ul><li><span class='ee-k'>id:</span><span class='ee-v'>B181</span></li><li><span class='ee-k'>crs:</span><span class='ee-v'>EPSG:32631</span></li><li><details><summary>crs_transform: List (6 elements)</summary><ul><li><span class='ee-k'>0:</span><span class='ee-v'>29.989729544676482</span></li><li><span class='ee-k'>1:</span><span class='ee-v'>0</span></li><li><span class='ee-k'>2:</span><span class='ee-v'>495300</span></li><li><span class='ee-k'>3:</span><span class='ee-v'>0</span></li><li><span class='ee-k'>4:</span><span class='ee-v'>-29.98530132288094</span></li><li><span class='ee-k'>5:</span><span class='ee-v'>9027900</span></li></ul></details></li><li><details><summary>data_type: signed int16</summary><ul><li><span class='ee-k'>type:</span><span class='ee-v'>PixelType</span></li><li><span class='ee-k'>max:</span><span class='ee-v'>32767</span></li><li><span class='ee-k'>min:</span><span class='ee-v'>-32768</span></li><li><span class='ee-k'>precision:</span><span class='ee-v'>int</span></li></ul></details></li><li><details><summary>dimensions: [2921, 2041]</summary><ul><li><span class='ee-k'>0:</span><span class='ee-v'>2921</span></li><li><span class='ee-k'>1:</span><span class='ee-v'>2041</span></li></ul></details></li></ul></details></li><li><details><summary>155: \"B182\", signed int16, EPSG:32631, 2921x2041 px</summary><ul><li><span class='ee-k'>id:</span><span class='ee-v'>B182</span></li><li><span class='ee-k'>crs:</span><span class='ee-v'>EPSG:32631</span></li><li><details><summary>crs_transform: List (6 elements)</summary><ul><li><span class='ee-k'>0:</span><span class='ee-v'>29.989729544676482</span></li><li><span class='ee-k'>1:</span><span class='ee-v'>0</span></li><li><span class='ee-k'>2:</span><span class='ee-v'>495300</span></li><li><span class='ee-k'>3:</span><span class='ee-v'>0</span></li><li><span class='ee-k'>4:</span><span class='ee-v'>-29.98530132288094</span></li><li><span class='ee-k'>5:</span><span class='ee-v'>9027900</span></li></ul></details></li><li><details><summary>data_type: signed int16</summary><ul><li><span class='ee-k'>type:</span><span class='ee-v'>PixelType</span></li><li><span class='ee-k'>max:</span><span class='ee-v'>32767</span></li><li><span class='ee-k'>min:</span><span class='ee-v'>-32768</span></li><li><span class='ee-k'>precision:</span><span class='ee-v'>int</span></li></ul></details></li><li><details><summary>dimensions: [2921, 2041]</summary><ul><li><span class='ee-k'>0:</span><span class='ee-v'>2921</span></li><li><span class='ee-k'>1:</span><span class='ee-v'>2041</span></li></ul></details></li></ul></details></li><li><details><summary>156: \"B183\", signed int16, EPSG:32631, 2921x2041 px</summary><ul><li><span class='ee-k'>id:</span><span class='ee-v'>B183</span></li><li><span class='ee-k'>crs:</span><span class='ee-v'>EPSG:32631</span></li><li><details><summary>crs_transform: List (6 elements)</summary><ul><li><span class='ee-k'>0:</span><span class='ee-v'>29.989729544676482</span></li><li><span class='ee-k'>1:</span><span class='ee-v'>0</span></li><li><span class='ee-k'>2:</span><span class='ee-v'>495300</span></li><li><span class='ee-k'>3:</span><span class='ee-v'>0</span></li><li><span class='ee-k'>4:</span><span class='ee-v'>-29.98530132288094</span></li><li><span class='ee-k'>5:</span><span class='ee-v'>9027900</span></li></ul></details></li><li><details><summary>data_type: signed int16</summary><ul><li><span class='ee-k'>type:</span><span class='ee-v'>PixelType</span></li><li><span class='ee-k'>max:</span><span class='ee-v'>32767</span></li><li><span class='ee-k'>min:</span><span class='ee-v'>-32768</span></li><li><span class='ee-k'>precision:</span><span class='ee-v'>int</span></li></ul></details></li><li><details><summary>dimensions: [2921, 2041]</summary><ul><li><span class='ee-k'>0:</span><span class='ee-v'>2921</span></li><li><span class='ee-k'>1:</span><span class='ee-v'>2041</span></li></ul></details></li></ul></details></li><li><details><summary>157: \"B184\", signed int16, EPSG:32631, 2921x2041 px</summary><ul><li><span class='ee-k'>id:</span><span class='ee-v'>B184</span></li><li><span class='ee-k'>crs:</span><span class='ee-v'>EPSG:32631</span></li><li><details><summary>crs_transform: List (6 elements)</summary><ul><li><span class='ee-k'>0:</span><span class='ee-v'>29.989729544676482</span></li><li><span class='ee-k'>1:</span><span class='ee-v'>0</span></li><li><span class='ee-k'>2:</span><span class='ee-v'>495300</span></li><li><span class='ee-k'>3:</span><span class='ee-v'>0</span></li><li><span class='ee-k'>4:</span><span class='ee-v'>-29.98530132288094</span></li><li><span class='ee-k'>5:</span><span class='ee-v'>9027900</span></li></ul></details></li><li><details><summary>data_type: signed int16</summary><ul><li><span class='ee-k'>type:</span><span class='ee-v'>PixelType</span></li><li><span class='ee-k'>max:</span><span class='ee-v'>32767</span></li><li><span class='ee-k'>min:</span><span class='ee-v'>-32768</span></li><li><span class='ee-k'>precision:</span><span class='ee-v'>int</span></li></ul></details></li><li><details><summary>dimensions: [2921, 2041]</summary><ul><li><span class='ee-k'>0:</span><span class='ee-v'>2921</span></li><li><span class='ee-k'>1:</span><span class='ee-v'>2041</span></li></ul></details></li></ul></details></li><li><details><summary>158: \"B185\", signed int16, EPSG:32631, 2921x2041 px</summary><ul><li><span class='ee-k'>id:</span><span class='ee-v'>B185</span></li><li><span class='ee-k'>crs:</span><span class='ee-v'>EPSG:32631</span></li><li><details><summary>crs_transform: List (6 elements)</summary><ul><li><span class='ee-k'>0:</span><span class='ee-v'>29.989729544676482</span></li><li><span class='ee-k'>1:</span><span class='ee-v'>0</span></li><li><span class='ee-k'>2:</span><span class='ee-v'>495300</span></li><li><span class='ee-k'>3:</span><span class='ee-v'>0</span></li><li><span class='ee-k'>4:</span><span class='ee-v'>-29.98530132288094</span></li><li><span class='ee-k'>5:</span><span class='ee-v'>9027900</span></li></ul></details></li><li><details><summary>data_type: signed int16</summary><ul><li><span class='ee-k'>type:</span><span class='ee-v'>PixelType</span></li><li><span class='ee-k'>max:</span><span class='ee-v'>32767</span></li><li><span class='ee-k'>min:</span><span class='ee-v'>-32768</span></li><li><span class='ee-k'>precision:</span><span class='ee-v'>int</span></li></ul></details></li><li><details><summary>dimensions: [2921, 2041]</summary><ul><li><span class='ee-k'>0:</span><span class='ee-v'>2921</span></li><li><span class='ee-k'>1:</span><span class='ee-v'>2041</span></li></ul></details></li></ul></details></li><li><details><summary>159: \"B186\", signed int16, EPSG:32631, 2921x2041 px</summary><ul><li><span class='ee-k'>id:</span><span class='ee-v'>B186</span></li><li><span class='ee-k'>crs:</span><span class='ee-v'>EPSG:32631</span></li><li><details><summary>crs_transform: List (6 elements)</summary><ul><li><span class='ee-k'>0:</span><span class='ee-v'>29.989729544676482</span></li><li><span class='ee-k'>1:</span><span class='ee-v'>0</span></li><li><span class='ee-k'>2:</span><span class='ee-v'>495300</span></li><li><span class='ee-k'>3:</span><span class='ee-v'>0</span></li><li><span class='ee-k'>4:</span><span class='ee-v'>-29.98530132288094</span></li><li><span class='ee-k'>5:</span><span class='ee-v'>9027900</span></li></ul></details></li><li><details><summary>data_type: signed int16</summary><ul><li><span class='ee-k'>type:</span><span class='ee-v'>PixelType</span></li><li><span class='ee-k'>max:</span><span class='ee-v'>32767</span></li><li><span class='ee-k'>min:</span><span class='ee-v'>-32768</span></li><li><span class='ee-k'>precision:</span><span class='ee-v'>int</span></li></ul></details></li><li><details><summary>dimensions: [2921, 2041]</summary><ul><li><span class='ee-k'>0:</span><span class='ee-v'>2921</span></li><li><span class='ee-k'>1:</span><span class='ee-v'>2041</span></li></ul></details></li></ul></details></li><li><details><summary>160: \"B187\", signed int16, EPSG:32631, 2921x2041 px</summary><ul><li><span class='ee-k'>id:</span><span class='ee-v'>B187</span></li><li><span class='ee-k'>crs:</span><span class='ee-v'>EPSG:32631</span></li><li><details><summary>crs_transform: List (6 elements)</summary><ul><li><span class='ee-k'>0:</span><span class='ee-v'>29.989729544676482</span></li><li><span class='ee-k'>1:</span><span class='ee-v'>0</span></li><li><span class='ee-k'>2:</span><span class='ee-v'>495300</span></li><li><span class='ee-k'>3:</span><span class='ee-v'>0</span></li><li><span class='ee-k'>4:</span><span class='ee-v'>-29.98530132288094</span></li><li><span class='ee-k'>5:</span><span class='ee-v'>9027900</span></li></ul></details></li><li><details><summary>data_type: signed int16</summary><ul><li><span class='ee-k'>type:</span><span class='ee-v'>PixelType</span></li><li><span class='ee-k'>max:</span><span class='ee-v'>32767</span></li><li><span class='ee-k'>min:</span><span class='ee-v'>-32768</span></li><li><span class='ee-k'>precision:</span><span class='ee-v'>int</span></li></ul></details></li><li><details><summary>dimensions: [2921, 2041]</summary><ul><li><span class='ee-k'>0:</span><span class='ee-v'>2921</span></li><li><span class='ee-k'>1:</span><span class='ee-v'>2041</span></li></ul></details></li></ul></details></li><li><details><summary>161: \"B188\", signed int16, EPSG:32631, 2921x2041 px</summary><ul><li><span class='ee-k'>id:</span><span class='ee-v'>B188</span></li><li><span class='ee-k'>crs:</span><span class='ee-v'>EPSG:32631</span></li><li><details><summary>crs_transform: List (6 elements)</summary><ul><li><span class='ee-k'>0:</span><span class='ee-v'>29.989729544676482</span></li><li><span class='ee-k'>1:</span><span class='ee-v'>0</span></li><li><span class='ee-k'>2:</span><span class='ee-v'>495300</span></li><li><span class='ee-k'>3:</span><span class='ee-v'>0</span></li><li><span class='ee-k'>4:</span><span class='ee-v'>-29.98530132288094</span></li><li><span class='ee-k'>5:</span><span class='ee-v'>9027900</span></li></ul></details></li><li><details><summary>data_type: signed int16</summary><ul><li><span class='ee-k'>type:</span><span class='ee-v'>PixelType</span></li><li><span class='ee-k'>max:</span><span class='ee-v'>32767</span></li><li><span class='ee-k'>min:</span><span class='ee-v'>-32768</span></li><li><span class='ee-k'>precision:</span><span class='ee-v'>int</span></li></ul></details></li><li><details><summary>dimensions: [2921, 2041]</summary><ul><li><span class='ee-k'>0:</span><span class='ee-v'>2921</span></li><li><span class='ee-k'>1:</span><span class='ee-v'>2041</span></li></ul></details></li></ul></details></li><li><details><summary>162: \"B189\", signed int16, EPSG:32631, 2921x2041 px</summary><ul><li><span class='ee-k'>id:</span><span class='ee-v'>B189</span></li><li><span class='ee-k'>crs:</span><span class='ee-v'>EPSG:32631</span></li><li><details><summary>crs_transform: List (6 elements)</summary><ul><li><span class='ee-k'>0:</span><span class='ee-v'>29.989729544676482</span></li><li><span class='ee-k'>1:</span><span class='ee-v'>0</span></li><li><span class='ee-k'>2:</span><span class='ee-v'>495300</span></li><li><span class='ee-k'>3:</span><span class='ee-v'>0</span></li><li><span class='ee-k'>4:</span><span class='ee-v'>-29.98530132288094</span></li><li><span class='ee-k'>5:</span><span class='ee-v'>9027900</span></li></ul></details></li><li><details><summary>data_type: signed int16</summary><ul><li><span class='ee-k'>type:</span><span class='ee-v'>PixelType</span></li><li><span class='ee-k'>max:</span><span class='ee-v'>32767</span></li><li><span class='ee-k'>min:</span><span class='ee-v'>-32768</span></li><li><span class='ee-k'>precision:</span><span class='ee-v'>int</span></li></ul></details></li><li><details><summary>dimensions: [2921, 2041]</summary><ul><li><span class='ee-k'>0:</span><span class='ee-v'>2921</span></li><li><span class='ee-k'>1:</span><span class='ee-v'>2041</span></li></ul></details></li></ul></details></li><li><details><summary>163: \"B190\", signed int16, EPSG:32631, 2921x2041 px</summary><ul><li><span class='ee-k'>id:</span><span class='ee-v'>B190</span></li><li><span class='ee-k'>crs:</span><span class='ee-v'>EPSG:32631</span></li><li><details><summary>crs_transform: List (6 elements)</summary><ul><li><span class='ee-k'>0:</span><span class='ee-v'>29.989729544676482</span></li><li><span class='ee-k'>1:</span><span class='ee-v'>0</span></li><li><span class='ee-k'>2:</span><span class='ee-v'>495300</span></li><li><span class='ee-k'>3:</span><span class='ee-v'>0</span></li><li><span class='ee-k'>4:</span><span class='ee-v'>-29.98530132288094</span></li><li><span class='ee-k'>5:</span><span class='ee-v'>9027900</span></li></ul></details></li><li><details><summary>data_type: signed int16</summary><ul><li><span class='ee-k'>type:</span><span class='ee-v'>PixelType</span></li><li><span class='ee-k'>max:</span><span class='ee-v'>32767</span></li><li><span class='ee-k'>min:</span><span class='ee-v'>-32768</span></li><li><span class='ee-k'>precision:</span><span class='ee-v'>int</span></li></ul></details></li><li><details><summary>dimensions: [2921, 2041]</summary><ul><li><span class='ee-k'>0:</span><span class='ee-v'>2921</span></li><li><span class='ee-k'>1:</span><span class='ee-v'>2041</span></li></ul></details></li></ul></details></li><li><details><summary>164: \"B191\", signed int16, EPSG:32631, 2921x2041 px</summary><ul><li><span class='ee-k'>id:</span><span class='ee-v'>B191</span></li><li><span class='ee-k'>crs:</span><span class='ee-v'>EPSG:32631</span></li><li><details><summary>crs_transform: List (6 elements)</summary><ul><li><span class='ee-k'>0:</span><span class='ee-v'>29.989729544676482</span></li><li><span class='ee-k'>1:</span><span class='ee-v'>0</span></li><li><span class='ee-k'>2:</span><span class='ee-v'>495300</span></li><li><span class='ee-k'>3:</span><span class='ee-v'>0</span></li><li><span class='ee-k'>4:</span><span class='ee-v'>-29.98530132288094</span></li><li><span class='ee-k'>5:</span><span class='ee-v'>9027900</span></li></ul></details></li><li><details><summary>data_type: signed int16</summary><ul><li><span class='ee-k'>type:</span><span class='ee-v'>PixelType</span></li><li><span class='ee-k'>max:</span><span class='ee-v'>32767</span></li><li><span class='ee-k'>min:</span><span class='ee-v'>-32768</span></li><li><span class='ee-k'>precision:</span><span class='ee-v'>int</span></li></ul></details></li><li><details><summary>dimensions: [2921, 2041]</summary><ul><li><span class='ee-k'>0:</span><span class='ee-v'>2921</span></li><li><span class='ee-k'>1:</span><span class='ee-v'>2041</span></li></ul></details></li></ul></details></li><li><details><summary>165: \"B192\", signed int16, EPSG:32631, 2921x2041 px</summary><ul><li><span class='ee-k'>id:</span><span class='ee-v'>B192</span></li><li><span class='ee-k'>crs:</span><span class='ee-v'>EPSG:32631</span></li><li><details><summary>crs_transform: List (6 elements)</summary><ul><li><span class='ee-k'>0:</span><span class='ee-v'>29.989729544676482</span></li><li><span class='ee-k'>1:</span><span class='ee-v'>0</span></li><li><span class='ee-k'>2:</span><span class='ee-v'>495300</span></li><li><span class='ee-k'>3:</span><span class='ee-v'>0</span></li><li><span class='ee-k'>4:</span><span class='ee-v'>-29.98530132288094</span></li><li><span class='ee-k'>5:</span><span class='ee-v'>9027900</span></li></ul></details></li><li><details><summary>data_type: signed int16</summary><ul><li><span class='ee-k'>type:</span><span class='ee-v'>PixelType</span></li><li><span class='ee-k'>max:</span><span class='ee-v'>32767</span></li><li><span class='ee-k'>min:</span><span class='ee-v'>-32768</span></li><li><span class='ee-k'>precision:</span><span class='ee-v'>int</span></li></ul></details></li><li><details><summary>dimensions: [2921, 2041]</summary><ul><li><span class='ee-k'>0:</span><span class='ee-v'>2921</span></li><li><span class='ee-k'>1:</span><span class='ee-v'>2041</span></li></ul></details></li></ul></details></li><li><details><summary>166: \"B193\", signed int16, EPSG:32631, 2921x2041 px</summary><ul><li><span class='ee-k'>id:</span><span class='ee-v'>B193</span></li><li><span class='ee-k'>crs:</span><span class='ee-v'>EPSG:32631</span></li><li><details><summary>crs_transform: List (6 elements)</summary><ul><li><span class='ee-k'>0:</span><span class='ee-v'>29.989729544676482</span></li><li><span class='ee-k'>1:</span><span class='ee-v'>0</span></li><li><span class='ee-k'>2:</span><span class='ee-v'>495300</span></li><li><span class='ee-k'>3:</span><span class='ee-v'>0</span></li><li><span class='ee-k'>4:</span><span class='ee-v'>-29.98530132288094</span></li><li><span class='ee-k'>5:</span><span class='ee-v'>9027900</span></li></ul></details></li><li><details><summary>data_type: signed int16</summary><ul><li><span class='ee-k'>type:</span><span class='ee-v'>PixelType</span></li><li><span class='ee-k'>max:</span><span class='ee-v'>32767</span></li><li><span class='ee-k'>min:</span><span class='ee-v'>-32768</span></li><li><span class='ee-k'>precision:</span><span class='ee-v'>int</span></li></ul></details></li><li><details><summary>dimensions: [2921, 2041]</summary><ul><li><span class='ee-k'>0:</span><span class='ee-v'>2921</span></li><li><span class='ee-k'>1:</span><span class='ee-v'>2041</span></li></ul></details></li></ul></details></li><li><details><summary>167: \"B194\", signed int16, EPSG:32631, 2921x2041 px</summary><ul><li><span class='ee-k'>id:</span><span class='ee-v'>B194</span></li><li><span class='ee-k'>crs:</span><span class='ee-v'>EPSG:32631</span></li><li><details><summary>crs_transform: List (6 elements)</summary><ul><li><span class='ee-k'>0:</span><span class='ee-v'>29.989729544676482</span></li><li><span class='ee-k'>1:</span><span class='ee-v'>0</span></li><li><span class='ee-k'>2:</span><span class='ee-v'>495300</span></li><li><span class='ee-k'>3:</span><span class='ee-v'>0</span></li><li><span class='ee-k'>4:</span><span class='ee-v'>-29.98530132288094</span></li><li><span class='ee-k'>5:</span><span class='ee-v'>9027900</span></li></ul></details></li><li><details><summary>data_type: signed int16</summary><ul><li><span class='ee-k'>type:</span><span class='ee-v'>PixelType</span></li><li><span class='ee-k'>max:</span><span class='ee-v'>32767</span></li><li><span class='ee-k'>min:</span><span class='ee-v'>-32768</span></li><li><span class='ee-k'>precision:</span><span class='ee-v'>int</span></li></ul></details></li><li><details><summary>dimensions: [2921, 2041]</summary><ul><li><span class='ee-k'>0:</span><span class='ee-v'>2921</span></li><li><span class='ee-k'>1:</span><span class='ee-v'>2041</span></li></ul></details></li></ul></details></li><li><details><summary>168: \"B195\", signed int16, EPSG:32631, 2921x2041 px</summary><ul><li><span class='ee-k'>id:</span><span class='ee-v'>B195</span></li><li><span class='ee-k'>crs:</span><span class='ee-v'>EPSG:32631</span></li><li><details><summary>crs_transform: List (6 elements)</summary><ul><li><span class='ee-k'>0:</span><span class='ee-v'>29.989729544676482</span></li><li><span class='ee-k'>1:</span><span class='ee-v'>0</span></li><li><span class='ee-k'>2:</span><span class='ee-v'>495300</span></li><li><span class='ee-k'>3:</span><span class='ee-v'>0</span></li><li><span class='ee-k'>4:</span><span class='ee-v'>-29.98530132288094</span></li><li><span class='ee-k'>5:</span><span class='ee-v'>9027900</span></li></ul></details></li><li><details><summary>data_type: signed int16</summary><ul><li><span class='ee-k'>type:</span><span class='ee-v'>PixelType</span></li><li><span class='ee-k'>max:</span><span class='ee-v'>32767</span></li><li><span class='ee-k'>min:</span><span class='ee-v'>-32768</span></li><li><span class='ee-k'>precision:</span><span class='ee-v'>int</span></li></ul></details></li><li><details><summary>dimensions: [2921, 2041]</summary><ul><li><span class='ee-k'>0:</span><span class='ee-v'>2921</span></li><li><span class='ee-k'>1:</span><span class='ee-v'>2041</span></li></ul></details></li></ul></details></li><li><details><summary>169: \"B196\", signed int16, EPSG:32631, 2921x2041 px</summary><ul><li><span class='ee-k'>id:</span><span class='ee-v'>B196</span></li><li><span class='ee-k'>crs:</span><span class='ee-v'>EPSG:32631</span></li><li><details><summary>crs_transform: List (6 elements)</summary><ul><li><span class='ee-k'>0:</span><span class='ee-v'>29.989729544676482</span></li><li><span class='ee-k'>1:</span><span class='ee-v'>0</span></li><li><span class='ee-k'>2:</span><span class='ee-v'>495300</span></li><li><span class='ee-k'>3:</span><span class='ee-v'>0</span></li><li><span class='ee-k'>4:</span><span class='ee-v'>-29.98530132288094</span></li><li><span class='ee-k'>5:</span><span class='ee-v'>9027900</span></li></ul></details></li><li><details><summary>data_type: signed int16</summary><ul><li><span class='ee-k'>type:</span><span class='ee-v'>PixelType</span></li><li><span class='ee-k'>max:</span><span class='ee-v'>32767</span></li><li><span class='ee-k'>min:</span><span class='ee-v'>-32768</span></li><li><span class='ee-k'>precision:</span><span class='ee-v'>int</span></li></ul></details></li><li><details><summary>dimensions: [2921, 2041]</summary><ul><li><span class='ee-k'>0:</span><span class='ee-v'>2921</span></li><li><span class='ee-k'>1:</span><span class='ee-v'>2041</span></li></ul></details></li></ul></details></li><li><details><summary>170: \"B197\", signed int16, EPSG:32631, 2921x2041 px</summary><ul><li><span class='ee-k'>id:</span><span class='ee-v'>B197</span></li><li><span class='ee-k'>crs:</span><span class='ee-v'>EPSG:32631</span></li><li><details><summary>crs_transform: List (6 elements)</summary><ul><li><span class='ee-k'>0:</span><span class='ee-v'>29.989729544676482</span></li><li><span class='ee-k'>1:</span><span class='ee-v'>0</span></li><li><span class='ee-k'>2:</span><span class='ee-v'>495300</span></li><li><span class='ee-k'>3:</span><span class='ee-v'>0</span></li><li><span class='ee-k'>4:</span><span class='ee-v'>-29.98530132288094</span></li><li><span class='ee-k'>5:</span><span class='ee-v'>9027900</span></li></ul></details></li><li><details><summary>data_type: signed int16</summary><ul><li><span class='ee-k'>type:</span><span class='ee-v'>PixelType</span></li><li><span class='ee-k'>max:</span><span class='ee-v'>32767</span></li><li><span class='ee-k'>min:</span><span class='ee-v'>-32768</span></li><li><span class='ee-k'>precision:</span><span class='ee-v'>int</span></li></ul></details></li><li><details><summary>dimensions: [2921, 2041]</summary><ul><li><span class='ee-k'>0:</span><span class='ee-v'>2921</span></li><li><span class='ee-k'>1:</span><span class='ee-v'>2041</span></li></ul></details></li></ul></details></li><li><details><summary>171: \"B198\", signed int16, EPSG:32631, 2921x2041 px</summary><ul><li><span class='ee-k'>id:</span><span class='ee-v'>B198</span></li><li><span class='ee-k'>crs:</span><span class='ee-v'>EPSG:32631</span></li><li><details><summary>crs_transform: List (6 elements)</summary><ul><li><span class='ee-k'>0:</span><span class='ee-v'>29.989729544676482</span></li><li><span class='ee-k'>1:</span><span class='ee-v'>0</span></li><li><span class='ee-k'>2:</span><span class='ee-v'>495300</span></li><li><span class='ee-k'>3:</span><span class='ee-v'>0</span></li><li><span class='ee-k'>4:</span><span class='ee-v'>-29.98530132288094</span></li><li><span class='ee-k'>5:</span><span class='ee-v'>9027900</span></li></ul></details></li><li><details><summary>data_type: signed int16</summary><ul><li><span class='ee-k'>type:</span><span class='ee-v'>PixelType</span></li><li><span class='ee-k'>max:</span><span class='ee-v'>32767</span></li><li><span class='ee-k'>min:</span><span class='ee-v'>-32768</span></li><li><span class='ee-k'>precision:</span><span class='ee-v'>int</span></li></ul></details></li><li><details><summary>dimensions: [2921, 2041]</summary><ul><li><span class='ee-k'>0:</span><span class='ee-v'>2921</span></li><li><span class='ee-k'>1:</span><span class='ee-v'>2041</span></li></ul></details></li></ul></details></li><li><details><summary>172: \"B199\", signed int16, EPSG:32631, 2921x2041 px</summary><ul><li><span class='ee-k'>id:</span><span class='ee-v'>B199</span></li><li><span class='ee-k'>crs:</span><span class='ee-v'>EPSG:32631</span></li><li><details><summary>crs_transform: List (6 elements)</summary><ul><li><span class='ee-k'>0:</span><span class='ee-v'>29.989729544676482</span></li><li><span class='ee-k'>1:</span><span class='ee-v'>0</span></li><li><span class='ee-k'>2:</span><span class='ee-v'>495300</span></li><li><span class='ee-k'>3:</span><span class='ee-v'>0</span></li><li><span class='ee-k'>4:</span><span class='ee-v'>-29.98530132288094</span></li><li><span class='ee-k'>5:</span><span class='ee-v'>9027900</span></li></ul></details></li><li><details><summary>data_type: signed int16</summary><ul><li><span class='ee-k'>type:</span><span class='ee-v'>PixelType</span></li><li><span class='ee-k'>max:</span><span class='ee-v'>32767</span></li><li><span class='ee-k'>min:</span><span class='ee-v'>-32768</span></li><li><span class='ee-k'>precision:</span><span class='ee-v'>int</span></li></ul></details></li><li><details><summary>dimensions: [2921, 2041]</summary><ul><li><span class='ee-k'>0:</span><span class='ee-v'>2921</span></li><li><span class='ee-k'>1:</span><span class='ee-v'>2041</span></li></ul></details></li></ul></details></li><li><details><summary>173: \"B200\", signed int16, EPSG:32631, 2921x2041 px</summary><ul><li><span class='ee-k'>id:</span><span class='ee-v'>B200</span></li><li><span class='ee-k'>crs:</span><span class='ee-v'>EPSG:32631</span></li><li><details><summary>crs_transform: List (6 elements)</summary><ul><li><span class='ee-k'>0:</span><span class='ee-v'>29.989729544676482</span></li><li><span class='ee-k'>1:</span><span class='ee-v'>0</span></li><li><span class='ee-k'>2:</span><span class='ee-v'>495300</span></li><li><span class='ee-k'>3:</span><span class='ee-v'>0</span></li><li><span class='ee-k'>4:</span><span class='ee-v'>-29.98530132288094</span></li><li><span class='ee-k'>5:</span><span class='ee-v'>9027900</span></li></ul></details></li><li><details><summary>data_type: signed int16</summary><ul><li><span class='ee-k'>type:</span><span class='ee-v'>PixelType</span></li><li><span class='ee-k'>max:</span><span class='ee-v'>32767</span></li><li><span class='ee-k'>min:</span><span class='ee-v'>-32768</span></li><li><span class='ee-k'>precision:</span><span class='ee-v'>int</span></li></ul></details></li><li><details><summary>dimensions: [2921, 2041]</summary><ul><li><span class='ee-k'>0:</span><span class='ee-v'>2921</span></li><li><span class='ee-k'>1:</span><span class='ee-v'>2041</span></li></ul></details></li></ul></details></li><li><details><summary>174: \"B201\", signed int16, EPSG:32631, 2921x2041 px</summary><ul><li><span class='ee-k'>id:</span><span class='ee-v'>B201</span></li><li><span class='ee-k'>crs:</span><span class='ee-v'>EPSG:32631</span></li><li><details><summary>crs_transform: List (6 elements)</summary><ul><li><span class='ee-k'>0:</span><span class='ee-v'>29.989729544676482</span></li><li><span class='ee-k'>1:</span><span class='ee-v'>0</span></li><li><span class='ee-k'>2:</span><span class='ee-v'>495300</span></li><li><span class='ee-k'>3:</span><span class='ee-v'>0</span></li><li><span class='ee-k'>4:</span><span class='ee-v'>-29.98530132288094</span></li><li><span class='ee-k'>5:</span><span class='ee-v'>9027900</span></li></ul></details></li><li><details><summary>data_type: signed int16</summary><ul><li><span class='ee-k'>type:</span><span class='ee-v'>PixelType</span></li><li><span class='ee-k'>max:</span><span class='ee-v'>32767</span></li><li><span class='ee-k'>min:</span><span class='ee-v'>-32768</span></li><li><span class='ee-k'>precision:</span><span class='ee-v'>int</span></li></ul></details></li><li><details><summary>dimensions: [2921, 2041]</summary><ul><li><span class='ee-k'>0:</span><span class='ee-v'>2921</span></li><li><span class='ee-k'>1:</span><span class='ee-v'>2041</span></li></ul></details></li></ul></details></li><li><details><summary>175: \"B202\", signed int16, EPSG:32631, 2921x2041 px</summary><ul><li><span class='ee-k'>id:</span><span class='ee-v'>B202</span></li><li><span class='ee-k'>crs:</span><span class='ee-v'>EPSG:32631</span></li><li><details><summary>crs_transform: List (6 elements)</summary><ul><li><span class='ee-k'>0:</span><span class='ee-v'>29.989729544676482</span></li><li><span class='ee-k'>1:</span><span class='ee-v'>0</span></li><li><span class='ee-k'>2:</span><span class='ee-v'>495300</span></li><li><span class='ee-k'>3:</span><span class='ee-v'>0</span></li><li><span class='ee-k'>4:</span><span class='ee-v'>-29.98530132288094</span></li><li><span class='ee-k'>5:</span><span class='ee-v'>9027900</span></li></ul></details></li><li><details><summary>data_type: signed int16</summary><ul><li><span class='ee-k'>type:</span><span class='ee-v'>PixelType</span></li><li><span class='ee-k'>max:</span><span class='ee-v'>32767</span></li><li><span class='ee-k'>min:</span><span class='ee-v'>-32768</span></li><li><span class='ee-k'>precision:</span><span class='ee-v'>int</span></li></ul></details></li><li><details><summary>dimensions: [2921, 2041]</summary><ul><li><span class='ee-k'>0:</span><span class='ee-v'>2921</span></li><li><span class='ee-k'>1:</span><span class='ee-v'>2041</span></li></ul></details></li></ul></details></li><li><details><summary>176: \"B203\", signed int16, EPSG:32631, 2921x2041 px</summary><ul><li><span class='ee-k'>id:</span><span class='ee-v'>B203</span></li><li><span class='ee-k'>crs:</span><span class='ee-v'>EPSG:32631</span></li><li><details><summary>crs_transform: List (6 elements)</summary><ul><li><span class='ee-k'>0:</span><span class='ee-v'>29.989729544676482</span></li><li><span class='ee-k'>1:</span><span class='ee-v'>0</span></li><li><span class='ee-k'>2:</span><span class='ee-v'>495300</span></li><li><span class='ee-k'>3:</span><span class='ee-v'>0</span></li><li><span class='ee-k'>4:</span><span class='ee-v'>-29.98530132288094</span></li><li><span class='ee-k'>5:</span><span class='ee-v'>9027900</span></li></ul></details></li><li><details><summary>data_type: signed int16</summary><ul><li><span class='ee-k'>type:</span><span class='ee-v'>PixelType</span></li><li><span class='ee-k'>max:</span><span class='ee-v'>32767</span></li><li><span class='ee-k'>min:</span><span class='ee-v'>-32768</span></li><li><span class='ee-k'>precision:</span><span class='ee-v'>int</span></li></ul></details></li><li><details><summary>dimensions: [2921, 2041]</summary><ul><li><span class='ee-k'>0:</span><span class='ee-v'>2921</span></li><li><span class='ee-k'>1:</span><span class='ee-v'>2041</span></li></ul></details></li></ul></details></li><li><details><summary>177: \"B204\", signed int16, EPSG:32631, 2921x2041 px</summary><ul><li><span class='ee-k'>id:</span><span class='ee-v'>B204</span></li><li><span class='ee-k'>crs:</span><span class='ee-v'>EPSG:32631</span></li><li><details><summary>crs_transform: List (6 elements)</summary><ul><li><span class='ee-k'>0:</span><span class='ee-v'>29.989729544676482</span></li><li><span class='ee-k'>1:</span><span class='ee-v'>0</span></li><li><span class='ee-k'>2:</span><span class='ee-v'>495300</span></li><li><span class='ee-k'>3:</span><span class='ee-v'>0</span></li><li><span class='ee-k'>4:</span><span class='ee-v'>-29.98530132288094</span></li><li><span class='ee-k'>5:</span><span class='ee-v'>9027900</span></li></ul></details></li><li><details><summary>data_type: signed int16</summary><ul><li><span class='ee-k'>type:</span><span class='ee-v'>PixelType</span></li><li><span class='ee-k'>max:</span><span class='ee-v'>32767</span></li><li><span class='ee-k'>min:</span><span class='ee-v'>-32768</span></li><li><span class='ee-k'>precision:</span><span class='ee-v'>int</span></li></ul></details></li><li><details><summary>dimensions: [2921, 2041]</summary><ul><li><span class='ee-k'>0:</span><span class='ee-v'>2921</span></li><li><span class='ee-k'>1:</span><span class='ee-v'>2041</span></li></ul></details></li></ul></details></li><li><details><summary>178: \"B205\", signed int16, EPSG:32631, 2921x2041 px</summary><ul><li><span class='ee-k'>id:</span><span class='ee-v'>B205</span></li><li><span class='ee-k'>crs:</span><span class='ee-v'>EPSG:32631</span></li><li><details><summary>crs_transform: List (6 elements)</summary><ul><li><span class='ee-k'>0:</span><span class='ee-v'>29.989729544676482</span></li><li><span class='ee-k'>1:</span><span class='ee-v'>0</span></li><li><span class='ee-k'>2:</span><span class='ee-v'>495300</span></li><li><span class='ee-k'>3:</span><span class='ee-v'>0</span></li><li><span class='ee-k'>4:</span><span class='ee-v'>-29.98530132288094</span></li><li><span class='ee-k'>5:</span><span class='ee-v'>9027900</span></li></ul></details></li><li><details><summary>data_type: signed int16</summary><ul><li><span class='ee-k'>type:</span><span class='ee-v'>PixelType</span></li><li><span class='ee-k'>max:</span><span class='ee-v'>32767</span></li><li><span class='ee-k'>min:</span><span class='ee-v'>-32768</span></li><li><span class='ee-k'>precision:</span><span class='ee-v'>int</span></li></ul></details></li><li><details><summary>dimensions: [2921, 2041]</summary><ul><li><span class='ee-k'>0:</span><span class='ee-v'>2921</span></li><li><span class='ee-k'>1:</span><span class='ee-v'>2041</span></li></ul></details></li></ul></details></li><li><details><summary>179: \"B206\", signed int16, EPSG:32631, 2921x2041 px</summary><ul><li><span class='ee-k'>id:</span><span class='ee-v'>B206</span></li><li><span class='ee-k'>crs:</span><span class='ee-v'>EPSG:32631</span></li><li><details><summary>crs_transform: List (6 elements)</summary><ul><li><span class='ee-k'>0:</span><span class='ee-v'>29.989729544676482</span></li><li><span class='ee-k'>1:</span><span class='ee-v'>0</span></li><li><span class='ee-k'>2:</span><span class='ee-v'>495300</span></li><li><span class='ee-k'>3:</span><span class='ee-v'>0</span></li><li><span class='ee-k'>4:</span><span class='ee-v'>-29.98530132288094</span></li><li><span class='ee-k'>5:</span><span class='ee-v'>9027900</span></li></ul></details></li><li><details><summary>data_type: signed int16</summary><ul><li><span class='ee-k'>type:</span><span class='ee-v'>PixelType</span></li><li><span class='ee-k'>max:</span><span class='ee-v'>32767</span></li><li><span class='ee-k'>min:</span><span class='ee-v'>-32768</span></li><li><span class='ee-k'>precision:</span><span class='ee-v'>int</span></li></ul></details></li><li><details><summary>dimensions: [2921, 2041]</summary><ul><li><span class='ee-k'>0:</span><span class='ee-v'>2921</span></li><li><span class='ee-k'>1:</span><span class='ee-v'>2041</span></li></ul></details></li></ul></details></li><li><details><summary>180: \"B207\", signed int16, EPSG:32631, 2921x2041 px</summary><ul><li><span class='ee-k'>id:</span><span class='ee-v'>B207</span></li><li><span class='ee-k'>crs:</span><span class='ee-v'>EPSG:32631</span></li><li><details><summary>crs_transform: List (6 elements)</summary><ul><li><span class='ee-k'>0:</span><span class='ee-v'>29.989729544676482</span></li><li><span class='ee-k'>1:</span><span class='ee-v'>0</span></li><li><span class='ee-k'>2:</span><span class='ee-v'>495300</span></li><li><span class='ee-k'>3:</span><span class='ee-v'>0</span></li><li><span class='ee-k'>4:</span><span class='ee-v'>-29.98530132288094</span></li><li><span class='ee-k'>5:</span><span class='ee-v'>9027900</span></li></ul></details></li><li><details><summary>data_type: signed int16</summary><ul><li><span class='ee-k'>type:</span><span class='ee-v'>PixelType</span></li><li><span class='ee-k'>max:</span><span class='ee-v'>32767</span></li><li><span class='ee-k'>min:</span><span class='ee-v'>-32768</span></li><li><span class='ee-k'>precision:</span><span class='ee-v'>int</span></li></ul></details></li><li><details><summary>dimensions: [2921, 2041]</summary><ul><li><span class='ee-k'>0:</span><span class='ee-v'>2921</span></li><li><span class='ee-k'>1:</span><span class='ee-v'>2041</span></li></ul></details></li></ul></details></li><li><details><summary>181: \"B208\", signed int16, EPSG:32631, 2921x2041 px</summary><ul><li><span class='ee-k'>id:</span><span class='ee-v'>B208</span></li><li><span class='ee-k'>crs:</span><span class='ee-v'>EPSG:32631</span></li><li><details><summary>crs_transform: List (6 elements)</summary><ul><li><span class='ee-k'>0:</span><span class='ee-v'>29.989729544676482</span></li><li><span class='ee-k'>1:</span><span class='ee-v'>0</span></li><li><span class='ee-k'>2:</span><span class='ee-v'>495300</span></li><li><span class='ee-k'>3:</span><span class='ee-v'>0</span></li><li><span class='ee-k'>4:</span><span class='ee-v'>-29.98530132288094</span></li><li><span class='ee-k'>5:</span><span class='ee-v'>9027900</span></li></ul></details></li><li><details><summary>data_type: signed int16</summary><ul><li><span class='ee-k'>type:</span><span class='ee-v'>PixelType</span></li><li><span class='ee-k'>max:</span><span class='ee-v'>32767</span></li><li><span class='ee-k'>min:</span><span class='ee-v'>-32768</span></li><li><span class='ee-k'>precision:</span><span class='ee-v'>int</span></li></ul></details></li><li><details><summary>dimensions: [2921, 2041]</summary><ul><li><span class='ee-k'>0:</span><span class='ee-v'>2921</span></li><li><span class='ee-k'>1:</span><span class='ee-v'>2041</span></li></ul></details></li></ul></details></li><li><details><summary>182: \"B209\", signed int16, EPSG:32631, 2921x2041 px</summary><ul><li><span class='ee-k'>id:</span><span class='ee-v'>B209</span></li><li><span class='ee-k'>crs:</span><span class='ee-v'>EPSG:32631</span></li><li><details><summary>crs_transform: List (6 elements)</summary><ul><li><span class='ee-k'>0:</span><span class='ee-v'>29.989729544676482</span></li><li><span class='ee-k'>1:</span><span class='ee-v'>0</span></li><li><span class='ee-k'>2:</span><span class='ee-v'>495300</span></li><li><span class='ee-k'>3:</span><span class='ee-v'>0</span></li><li><span class='ee-k'>4:</span><span class='ee-v'>-29.98530132288094</span></li><li><span class='ee-k'>5:</span><span class='ee-v'>9027900</span></li></ul></details></li><li><details><summary>data_type: signed int16</summary><ul><li><span class='ee-k'>type:</span><span class='ee-v'>PixelType</span></li><li><span class='ee-k'>max:</span><span class='ee-v'>32767</span></li><li><span class='ee-k'>min:</span><span class='ee-v'>-32768</span></li><li><span class='ee-k'>precision:</span><span class='ee-v'>int</span></li></ul></details></li><li><details><summary>dimensions: [2921, 2041]</summary><ul><li><span class='ee-k'>0:</span><span class='ee-v'>2921</span></li><li><span class='ee-k'>1:</span><span class='ee-v'>2041</span></li></ul></details></li></ul></details></li><li><details><summary>183: \"B210\", signed int16, EPSG:32631, 2921x2041 px</summary><ul><li><span class='ee-k'>id:</span><span class='ee-v'>B210</span></li><li><span class='ee-k'>crs:</span><span class='ee-v'>EPSG:32631</span></li><li><details><summary>crs_transform: List (6 elements)</summary><ul><li><span class='ee-k'>0:</span><span class='ee-v'>29.989729544676482</span></li><li><span class='ee-k'>1:</span><span class='ee-v'>0</span></li><li><span class='ee-k'>2:</span><span class='ee-v'>495300</span></li><li><span class='ee-k'>3:</span><span class='ee-v'>0</span></li><li><span class='ee-k'>4:</span><span class='ee-v'>-29.98530132288094</span></li><li><span class='ee-k'>5:</span><span class='ee-v'>9027900</span></li></ul></details></li><li><details><summary>data_type: signed int16</summary><ul><li><span class='ee-k'>type:</span><span class='ee-v'>PixelType</span></li><li><span class='ee-k'>max:</span><span class='ee-v'>32767</span></li><li><span class='ee-k'>min:</span><span class='ee-v'>-32768</span></li><li><span class='ee-k'>precision:</span><span class='ee-v'>int</span></li></ul></details></li><li><details><summary>dimensions: [2921, 2041]</summary><ul><li><span class='ee-k'>0:</span><span class='ee-v'>2921</span></li><li><span class='ee-k'>1:</span><span class='ee-v'>2041</span></li></ul></details></li></ul></details></li><li><details><summary>184: \"B211\", signed int16, EPSG:32631, 2921x2041 px</summary><ul><li><span class='ee-k'>id:</span><span class='ee-v'>B211</span></li><li><span class='ee-k'>crs:</span><span class='ee-v'>EPSG:32631</span></li><li><details><summary>crs_transform: List (6 elements)</summary><ul><li><span class='ee-k'>0:</span><span class='ee-v'>29.989729544676482</span></li><li><span class='ee-k'>1:</span><span class='ee-v'>0</span></li><li><span class='ee-k'>2:</span><span class='ee-v'>495300</span></li><li><span class='ee-k'>3:</span><span class='ee-v'>0</span></li><li><span class='ee-k'>4:</span><span class='ee-v'>-29.98530132288094</span></li><li><span class='ee-k'>5:</span><span class='ee-v'>9027900</span></li></ul></details></li><li><details><summary>data_type: signed int16</summary><ul><li><span class='ee-k'>type:</span><span class='ee-v'>PixelType</span></li><li><span class='ee-k'>max:</span><span class='ee-v'>32767</span></li><li><span class='ee-k'>min:</span><span class='ee-v'>-32768</span></li><li><span class='ee-k'>precision:</span><span class='ee-v'>int</span></li></ul></details></li><li><details><summary>dimensions: [2921, 2041]</summary><ul><li><span class='ee-k'>0:</span><span class='ee-v'>2921</span></li><li><span class='ee-k'>1:</span><span class='ee-v'>2041</span></li></ul></details></li></ul></details></li><li><details><summary>185: \"B212\", signed int16, EPSG:32631, 2921x2041 px</summary><ul><li><span class='ee-k'>id:</span><span class='ee-v'>B212</span></li><li><span class='ee-k'>crs:</span><span class='ee-v'>EPSG:32631</span></li><li><details><summary>crs_transform: List (6 elements)</summary><ul><li><span class='ee-k'>0:</span><span class='ee-v'>29.989729544676482</span></li><li><span class='ee-k'>1:</span><span class='ee-v'>0</span></li><li><span class='ee-k'>2:</span><span class='ee-v'>495300</span></li><li><span class='ee-k'>3:</span><span class='ee-v'>0</span></li><li><span class='ee-k'>4:</span><span class='ee-v'>-29.98530132288094</span></li><li><span class='ee-k'>5:</span><span class='ee-v'>9027900</span></li></ul></details></li><li><details><summary>data_type: signed int16</summary><ul><li><span class='ee-k'>type:</span><span class='ee-v'>PixelType</span></li><li><span class='ee-k'>max:</span><span class='ee-v'>32767</span></li><li><span class='ee-k'>min:</span><span class='ee-v'>-32768</span></li><li><span class='ee-k'>precision:</span><span class='ee-v'>int</span></li></ul></details></li><li><details><summary>dimensions: [2921, 2041]</summary><ul><li><span class='ee-k'>0:</span><span class='ee-v'>2921</span></li><li><span class='ee-k'>1:</span><span class='ee-v'>2041</span></li></ul></details></li></ul></details></li><li><details><summary>186: \"B213\", signed int16, EPSG:32631, 2921x2041 px</summary><ul><li><span class='ee-k'>id:</span><span class='ee-v'>B213</span></li><li><span class='ee-k'>crs:</span><span class='ee-v'>EPSG:32631</span></li><li><details><summary>crs_transform: List (6 elements)</summary><ul><li><span class='ee-k'>0:</span><span class='ee-v'>29.989729544676482</span></li><li><span class='ee-k'>1:</span><span class='ee-v'>0</span></li><li><span class='ee-k'>2:</span><span class='ee-v'>495300</span></li><li><span class='ee-k'>3:</span><span class='ee-v'>0</span></li><li><span class='ee-k'>4:</span><span class='ee-v'>-29.98530132288094</span></li><li><span class='ee-k'>5:</span><span class='ee-v'>9027900</span></li></ul></details></li><li><details><summary>data_type: signed int16</summary><ul><li><span class='ee-k'>type:</span><span class='ee-v'>PixelType</span></li><li><span class='ee-k'>max:</span><span class='ee-v'>32767</span></li><li><span class='ee-k'>min:</span><span class='ee-v'>-32768</span></li><li><span class='ee-k'>precision:</span><span class='ee-v'>int</span></li></ul></details></li><li><details><summary>dimensions: [2921, 2041]</summary><ul><li><span class='ee-k'>0:</span><span class='ee-v'>2921</span></li><li><span class='ee-k'>1:</span><span class='ee-v'>2041</span></li></ul></details></li></ul></details></li><li><details><summary>187: \"B214\", signed int16, EPSG:32631, 2921x2041 px</summary><ul><li><span class='ee-k'>id:</span><span class='ee-v'>B214</span></li><li><span class='ee-k'>crs:</span><span class='ee-v'>EPSG:32631</span></li><li><details><summary>crs_transform: List (6 elements)</summary><ul><li><span class='ee-k'>0:</span><span class='ee-v'>29.989729544676482</span></li><li><span class='ee-k'>1:</span><span class='ee-v'>0</span></li><li><span class='ee-k'>2:</span><span class='ee-v'>495300</span></li><li><span class='ee-k'>3:</span><span class='ee-v'>0</span></li><li><span class='ee-k'>4:</span><span class='ee-v'>-29.98530132288094</span></li><li><span class='ee-k'>5:</span><span class='ee-v'>9027900</span></li></ul></details></li><li><details><summary>data_type: signed int16</summary><ul><li><span class='ee-k'>type:</span><span class='ee-v'>PixelType</span></li><li><span class='ee-k'>max:</span><span class='ee-v'>32767</span></li><li><span class='ee-k'>min:</span><span class='ee-v'>-32768</span></li><li><span class='ee-k'>precision:</span><span class='ee-v'>int</span></li></ul></details></li><li><details><summary>dimensions: [2921, 2041]</summary><ul><li><span class='ee-k'>0:</span><span class='ee-v'>2921</span></li><li><span class='ee-k'>1:</span><span class='ee-v'>2041</span></li></ul></details></li></ul></details></li><li><details><summary>188: \"B215\", signed int16, EPSG:32631, 2921x2041 px</summary><ul><li><span class='ee-k'>id:</span><span class='ee-v'>B215</span></li><li><span class='ee-k'>crs:</span><span class='ee-v'>EPSG:32631</span></li><li><details><summary>crs_transform: List (6 elements)</summary><ul><li><span class='ee-k'>0:</span><span class='ee-v'>29.989729544676482</span></li><li><span class='ee-k'>1:</span><span class='ee-v'>0</span></li><li><span class='ee-k'>2:</span><span class='ee-v'>495300</span></li><li><span class='ee-k'>3:</span><span class='ee-v'>0</span></li><li><span class='ee-k'>4:</span><span class='ee-v'>-29.98530132288094</span></li><li><span class='ee-k'>5:</span><span class='ee-v'>9027900</span></li></ul></details></li><li><details><summary>data_type: signed int16</summary><ul><li><span class='ee-k'>type:</span><span class='ee-v'>PixelType</span></li><li><span class='ee-k'>max:</span><span class='ee-v'>32767</span></li><li><span class='ee-k'>min:</span><span class='ee-v'>-32768</span></li><li><span class='ee-k'>precision:</span><span class='ee-v'>int</span></li></ul></details></li><li><details><summary>dimensions: [2921, 2041]</summary><ul><li><span class='ee-k'>0:</span><span class='ee-v'>2921</span></li><li><span class='ee-k'>1:</span><span class='ee-v'>2041</span></li></ul></details></li></ul></details></li><li><details><summary>189: \"B216\", signed int16, EPSG:32631, 2921x2041 px</summary><ul><li><span class='ee-k'>id:</span><span class='ee-v'>B216</span></li><li><span class='ee-k'>crs:</span><span class='ee-v'>EPSG:32631</span></li><li><details><summary>crs_transform: List (6 elements)</summary><ul><li><span class='ee-k'>0:</span><span class='ee-v'>29.989729544676482</span></li><li><span class='ee-k'>1:</span><span class='ee-v'>0</span></li><li><span class='ee-k'>2:</span><span class='ee-v'>495300</span></li><li><span class='ee-k'>3:</span><span class='ee-v'>0</span></li><li><span class='ee-k'>4:</span><span class='ee-v'>-29.98530132288094</span></li><li><span class='ee-k'>5:</span><span class='ee-v'>9027900</span></li></ul></details></li><li><details><summary>data_type: signed int16</summary><ul><li><span class='ee-k'>type:</span><span class='ee-v'>PixelType</span></li><li><span class='ee-k'>max:</span><span class='ee-v'>32767</span></li><li><span class='ee-k'>min:</span><span class='ee-v'>-32768</span></li><li><span class='ee-k'>precision:</span><span class='ee-v'>int</span></li></ul></details></li><li><details><summary>dimensions: [2921, 2041]</summary><ul><li><span class='ee-k'>0:</span><span class='ee-v'>2921</span></li><li><span class='ee-k'>1:</span><span class='ee-v'>2041</span></li></ul></details></li></ul></details></li><li><details><summary>190: \"B217\", signed int16, EPSG:32631, 2921x2041 px</summary><ul><li><span class='ee-k'>id:</span><span class='ee-v'>B217</span></li><li><span class='ee-k'>crs:</span><span class='ee-v'>EPSG:32631</span></li><li><details><summary>crs_transform: List (6 elements)</summary><ul><li><span class='ee-k'>0:</span><span class='ee-v'>29.989729544676482</span></li><li><span class='ee-k'>1:</span><span class='ee-v'>0</span></li><li><span class='ee-k'>2:</span><span class='ee-v'>495300</span></li><li><span class='ee-k'>3:</span><span class='ee-v'>0</span></li><li><span class='ee-k'>4:</span><span class='ee-v'>-29.98530132288094</span></li><li><span class='ee-k'>5:</span><span class='ee-v'>9027900</span></li></ul></details></li><li><details><summary>data_type: signed int16</summary><ul><li><span class='ee-k'>type:</span><span class='ee-v'>PixelType</span></li><li><span class='ee-k'>max:</span><span class='ee-v'>32767</span></li><li><span class='ee-k'>min:</span><span class='ee-v'>-32768</span></li><li><span class='ee-k'>precision:</span><span class='ee-v'>int</span></li></ul></details></li><li><details><summary>dimensions: [2921, 2041]</summary><ul><li><span class='ee-k'>0:</span><span class='ee-v'>2921</span></li><li><span class='ee-k'>1:</span><span class='ee-v'>2041</span></li></ul></details></li></ul></details></li><li><details><summary>191: \"B218\", signed int16, EPSG:32631, 2921x2041 px</summary><ul><li><span class='ee-k'>id:</span><span class='ee-v'>B218</span></li><li><span class='ee-k'>crs:</span><span class='ee-v'>EPSG:32631</span></li><li><details><summary>crs_transform: List (6 elements)</summary><ul><li><span class='ee-k'>0:</span><span class='ee-v'>29.989729544676482</span></li><li><span class='ee-k'>1:</span><span class='ee-v'>0</span></li><li><span class='ee-k'>2:</span><span class='ee-v'>495300</span></li><li><span class='ee-k'>3:</span><span class='ee-v'>0</span></li><li><span class='ee-k'>4:</span><span class='ee-v'>-29.98530132288094</span></li><li><span class='ee-k'>5:</span><span class='ee-v'>9027900</span></li></ul></details></li><li><details><summary>data_type: signed int16</summary><ul><li><span class='ee-k'>type:</span><span class='ee-v'>PixelType</span></li><li><span class='ee-k'>max:</span><span class='ee-v'>32767</span></li><li><span class='ee-k'>min:</span><span class='ee-v'>-32768</span></li><li><span class='ee-k'>precision:</span><span class='ee-v'>int</span></li></ul></details></li><li><details><summary>dimensions: [2921, 2041]</summary><ul><li><span class='ee-k'>0:</span><span class='ee-v'>2921</span></li><li><span class='ee-k'>1:</span><span class='ee-v'>2041</span></li></ul></details></li></ul></details></li><li><details><summary>192: \"B219\", signed int16, EPSG:32631, 2921x2041 px</summary><ul><li><span class='ee-k'>id:</span><span class='ee-v'>B219</span></li><li><span class='ee-k'>crs:</span><span class='ee-v'>EPSG:32631</span></li><li><details><summary>crs_transform: List (6 elements)</summary><ul><li><span class='ee-k'>0:</span><span class='ee-v'>29.989729544676482</span></li><li><span class='ee-k'>1:</span><span class='ee-v'>0</span></li><li><span class='ee-k'>2:</span><span class='ee-v'>495300</span></li><li><span class='ee-k'>3:</span><span class='ee-v'>0</span></li><li><span class='ee-k'>4:</span><span class='ee-v'>-29.98530132288094</span></li><li><span class='ee-k'>5:</span><span class='ee-v'>9027900</span></li></ul></details></li><li><details><summary>data_type: signed int16</summary><ul><li><span class='ee-k'>type:</span><span class='ee-v'>PixelType</span></li><li><span class='ee-k'>max:</span><span class='ee-v'>32767</span></li><li><span class='ee-k'>min:</span><span class='ee-v'>-32768</span></li><li><span class='ee-k'>precision:</span><span class='ee-v'>int</span></li></ul></details></li><li><details><summary>dimensions: [2921, 2041]</summary><ul><li><span class='ee-k'>0:</span><span class='ee-v'>2921</span></li><li><span class='ee-k'>1:</span><span class='ee-v'>2041</span></li></ul></details></li></ul></details></li><li><details><summary>193: \"B220\", signed int16, EPSG:32631, 2921x2041 px</summary><ul><li><span class='ee-k'>id:</span><span class='ee-v'>B220</span></li><li><span class='ee-k'>crs:</span><span class='ee-v'>EPSG:32631</span></li><li><details><summary>crs_transform: List (6 elements)</summary><ul><li><span class='ee-k'>0:</span><span class='ee-v'>29.989729544676482</span></li><li><span class='ee-k'>1:</span><span class='ee-v'>0</span></li><li><span class='ee-k'>2:</span><span class='ee-v'>495300</span></li><li><span class='ee-k'>3:</span><span class='ee-v'>0</span></li><li><span class='ee-k'>4:</span><span class='ee-v'>-29.98530132288094</span></li><li><span class='ee-k'>5:</span><span class='ee-v'>9027900</span></li></ul></details></li><li><details><summary>data_type: signed int16</summary><ul><li><span class='ee-k'>type:</span><span class='ee-v'>PixelType</span></li><li><span class='ee-k'>max:</span><span class='ee-v'>32767</span></li><li><span class='ee-k'>min:</span><span class='ee-v'>-32768</span></li><li><span class='ee-k'>precision:</span><span class='ee-v'>int</span></li></ul></details></li><li><details><summary>dimensions: [2921, 2041]</summary><ul><li><span class='ee-k'>0:</span><span class='ee-v'>2921</span></li><li><span class='ee-k'>1:</span><span class='ee-v'>2041</span></li></ul></details></li></ul></details></li><li><details><summary>194: \"B221\", signed int16, EPSG:32631, 2921x2041 px</summary><ul><li><span class='ee-k'>id:</span><span class='ee-v'>B221</span></li><li><span class='ee-k'>crs:</span><span class='ee-v'>EPSG:32631</span></li><li><details><summary>crs_transform: List (6 elements)</summary><ul><li><span class='ee-k'>0:</span><span class='ee-v'>29.989729544676482</span></li><li><span class='ee-k'>1:</span><span class='ee-v'>0</span></li><li><span class='ee-k'>2:</span><span class='ee-v'>495300</span></li><li><span class='ee-k'>3:</span><span class='ee-v'>0</span></li><li><span class='ee-k'>4:</span><span class='ee-v'>-29.98530132288094</span></li><li><span class='ee-k'>5:</span><span class='ee-v'>9027900</span></li></ul></details></li><li><details><summary>data_type: signed int16</summary><ul><li><span class='ee-k'>type:</span><span class='ee-v'>PixelType</span></li><li><span class='ee-k'>max:</span><span class='ee-v'>32767</span></li><li><span class='ee-k'>min:</span><span class='ee-v'>-32768</span></li><li><span class='ee-k'>precision:</span><span class='ee-v'>int</span></li></ul></details></li><li><details><summary>dimensions: [2921, 2041]</summary><ul><li><span class='ee-k'>0:</span><span class='ee-v'>2921</span></li><li><span class='ee-k'>1:</span><span class='ee-v'>2041</span></li></ul></details></li></ul></details></li><li><details><summary>195: \"B222\", signed int16, EPSG:32631, 2921x2041 px</summary><ul><li><span class='ee-k'>id:</span><span class='ee-v'>B222</span></li><li><span class='ee-k'>crs:</span><span class='ee-v'>EPSG:32631</span></li><li><details><summary>crs_transform: List (6 elements)</summary><ul><li><span class='ee-k'>0:</span><span class='ee-v'>29.989729544676482</span></li><li><span class='ee-k'>1:</span><span class='ee-v'>0</span></li><li><span class='ee-k'>2:</span><span class='ee-v'>495300</span></li><li><span class='ee-k'>3:</span><span class='ee-v'>0</span></li><li><span class='ee-k'>4:</span><span class='ee-v'>-29.98530132288094</span></li><li><span class='ee-k'>5:</span><span class='ee-v'>9027900</span></li></ul></details></li><li><details><summary>data_type: signed int16</summary><ul><li><span class='ee-k'>type:</span><span class='ee-v'>PixelType</span></li><li><span class='ee-k'>max:</span><span class='ee-v'>32767</span></li><li><span class='ee-k'>min:</span><span class='ee-v'>-32768</span></li><li><span class='ee-k'>precision:</span><span class='ee-v'>int</span></li></ul></details></li><li><details><summary>dimensions: [2921, 2041]</summary><ul><li><span class='ee-k'>0:</span><span class='ee-v'>2921</span></li><li><span class='ee-k'>1:</span><span class='ee-v'>2041</span></li></ul></details></li></ul></details></li><li><details><summary>196: \"B223\", signed int16, EPSG:32631, 2921x2041 px</summary><ul><li><span class='ee-k'>id:</span><span class='ee-v'>B223</span></li><li><span class='ee-k'>crs:</span><span class='ee-v'>EPSG:32631</span></li><li><details><summary>crs_transform: List (6 elements)</summary><ul><li><span class='ee-k'>0:</span><span class='ee-v'>29.989729544676482</span></li><li><span class='ee-k'>1:</span><span class='ee-v'>0</span></li><li><span class='ee-k'>2:</span><span class='ee-v'>495300</span></li><li><span class='ee-k'>3:</span><span class='ee-v'>0</span></li><li><span class='ee-k'>4:</span><span class='ee-v'>-29.98530132288094</span></li><li><span class='ee-k'>5:</span><span class='ee-v'>9027900</span></li></ul></details></li><li><details><summary>data_type: signed int16</summary><ul><li><span class='ee-k'>type:</span><span class='ee-v'>PixelType</span></li><li><span class='ee-k'>max:</span><span class='ee-v'>32767</span></li><li><span class='ee-k'>min:</span><span class='ee-v'>-32768</span></li><li><span class='ee-k'>precision:</span><span class='ee-v'>int</span></li></ul></details></li><li><details><summary>dimensions: [2921, 2041]</summary><ul><li><span class='ee-k'>0:</span><span class='ee-v'>2921</span></li><li><span class='ee-k'>1:</span><span class='ee-v'>2041</span></li></ul></details></li></ul></details></li><li><details><summary>197: \"B224\", signed int16, EPSG:32631, 2921x2041 px</summary><ul><li><span class='ee-k'>id:</span><span class='ee-v'>B224</span></li><li><span class='ee-k'>crs:</span><span class='ee-v'>EPSG:32631</span></li><li><details><summary>crs_transform: List (6 elements)</summary><ul><li><span class='ee-k'>0:</span><span class='ee-v'>29.989729544676482</span></li><li><span class='ee-k'>1:</span><span class='ee-v'>0</span></li><li><span class='ee-k'>2:</span><span class='ee-v'>495300</span></li><li><span class='ee-k'>3:</span><span class='ee-v'>0</span></li><li><span class='ee-k'>4:</span><span class='ee-v'>-29.98530132288094</span></li><li><span class='ee-k'>5:</span><span class='ee-v'>9027900</span></li></ul></details></li><li><details><summary>data_type: signed int16</summary><ul><li><span class='ee-k'>type:</span><span class='ee-v'>PixelType</span></li><li><span class='ee-k'>max:</span><span class='ee-v'>32767</span></li><li><span class='ee-k'>min:</span><span class='ee-v'>-32768</span></li><li><span class='ee-k'>precision:</span><span class='ee-v'>int</span></li></ul></details></li><li><details><summary>dimensions: [2921, 2041]</summary><ul><li><span class='ee-k'>0:</span><span class='ee-v'>2921</span></li><li><span class='ee-k'>1:</span><span class='ee-v'>2041</span></li></ul></details></li></ul></details></li></ul></details></li><li><details><summary>properties: Object (26 properties)</summary><ul><li><span class='ee-k'>ABNORMAL_PIXELS:</span><span class='ee-v'>Y</span></li><li><span class='ee-k'>CORRECTION_METHOD_BIAS:</span><span class='ee-v'>NONE</span></li><li><span class='ee-k'>CORRECTION_METHOD_GAIN:</span><span class='ee-v'>NONE</span></li><li><span class='ee-k'>CPF_FILE_NAME:</span><span class='ee-v'>EO1ACPF20120601_20120831.01</span></li><li><span class='ee-k'>DATEHOUR_CONTACT_PERIOD:</span><span class='ee-v'>1218216</span></li><li><span class='ee-k'>DPS_VERSION_NUMBER:</span><span class='ee-v'>3.00</span></li><li><span class='ee-k'>ELEVATION_SOURCE:</span><span class='ee-v'>GTOPO30</span></li><li><span class='ee-k'>EO1_XBAND:</span><span class='ee-v'>1</span></li><li><span class='ee-k'>EPHEMERIS_TYPE:</span><span class='ee-v'>DEFINITIVE</span></li><li><span class='ee-k'>GROUND_STATION:</span><span class='ee-v'>SGS</span></li><li><span class='ee-k'>INOPERABLE_DETECTORS:</span><span class='ee-v'>Y</span></li><li><span class='ee-k'>PROCESSING_SOFTWARE:</span><span class='ee-v'>EPG_3.1.2</span></li><li><span class='ee-k'>PRODUCT_CREATION_TIME:</span><span class='ee-v'>1374123179000</span></li><li><span class='ee-k'>PRODUCT_TYPE:</span><span class='ee-v'>L1GST</span></li><li><span class='ee-k'>RESAMPLING_OPTION:</span><span class='ee-v'>CC</span></li><li><span class='ee-k'>SCALING_FACTOR_SWIR:</span><span class='ee-v'>80</span></li><li><span class='ee-k'>SCALING_FACTOR_VNIR:</span><span class='ee-v'>40</span></li><li><span class='ee-k'>SENSOR_LOOK_ANGLE:</span><span class='ee-v'>-3.4999001026153564</span></li><li><span class='ee-k'>STRIPING:</span><span class='ee-v'>N</span></li><li><span class='ee-k'>SUN_AZIMUTH:</span><span class='ee-v'>-152.83628845214844</span></li><li><span class='ee-k'>SUN_ELEVATION:</span><span class='ee-v'>31.22172737121582</span></li><li><span class='ee-k'>system:asset_size:</span><span class='ee-v'>302405852</span></li><li><details><summary>system:footprint: LinearRing (21 vertices)</summary><ul><li><span class='ee-k'>type:</span><span class='ee-v'>LinearRing</span></li><li><details><summary>coordinates: List (21 elements)</summary><ul><li><details><summary>0: [2.7496000378232375, 80.81906607481216]</summary><ul><li><span class='ee-k'>0:</span><span class='ee-v'>2.7496000378232375</span></li><li><span class='ee-k'>1:</span><span class='ee-v'>80.81906607481216</span></li></ul></details></li><li><details><summary>1: [2.7786660801417162, 80.8120329273901]</summary><ul><li><span class='ee-k'>0:</span><span class='ee-v'>2.7786660801417162</span></li><li><span class='ee-k'>1:</span><span class='ee-v'>80.8120329273901</span></li></ul></details></li><li><details><summary>2: [2.9776871565947527, 80.76362304473365]</summary><ul><li><span class='ee-k'>0:</span><span class='ee-v'>2.9776871565947527</span></li><li><span class='ee-k'>1:</span><span class='ee-v'>80.76362304473365</span></li></ul></details></li><li><details><summary>3: [2.9825547751453696, 80.76362327343426]</summary><ul><li><span class='ee-k'>0:</span><span class='ee-v'>2.9825547751453696</span></li><li><span class='ee-k'>1:</span><span class='ee-v'>80.76362327343426</span></li></ul></details></li><li><details><summary>4: [3.011711716859397, 80.76665141391638]</summary><ul><li><span class='ee-k'>0:</span><span class='ee-v'>3.011711716859397</span></li><li><span class='ee-k'>1:</span><span class='ee-v'>80.76665141391638</span></li></ul></details></li><li><details><summary>5: [4.255754097549841, 80.89348758737874]</summary><ul><li><span class='ee-k'>0:</span><span class='ee-v'>4.255754097549841</span></li><li><span class='ee-k'>1:</span><span class='ee-v'>80.89348758737874</span></li></ul></details></li><li><details><summary>6: [4.865522840480373, 80.95290600425777]</summary><ul><li><span class='ee-k'>0:</span><span class='ee-v'>4.865522840480373</span></li><li><span class='ee-k'>1:</span><span class='ee-v'>80.95290600425777</span></li></ul></details></li><li><details><summary>7: [5.23656807443006, 80.98820902822011]</summary><ul><li><span class='ee-k'>0:</span><span class='ee-v'>5.23656807443006</span></li><li><span class='ee-k'>1:</span><span class='ee-v'>80.98820902822011</span></li></ul></details></li><li><details><summary>8: [6.148287456248332, 81.07225625661663]</summary><ul><li><span class='ee-k'>0:</span><span class='ee-v'>6.148287456248332</span></li><li><span class='ee-k'>1:</span><span class='ee-v'>81.07225625661663</span></li></ul></details></li><li><details><summary>9: [6.44074720105577, 81.09844335752112]</summary><ul><li><span class='ee-k'>0:</span><span class='ee-v'>6.44074720105577</span></li><li><span class='ee-k'>1:</span><span class='ee-v'>81.09844335752112</span></li></ul></details></li><li><details><summary>10: [7.563166079553911, 81.19553900308108]</summary><ul><li><span class='ee-k'>0:</span><span class='ee-v'>7.563166079553911</span></li><li><span class='ee-k'>1:</span><span class='ee-v'>81.19553900308108</span></li></ul></details></li><li><details><summary>11: [7.801788135150075, 81.21550750744828]</summary><ul><li><span class='ee-k'>0:</span><span class='ee-v'>7.801788135150075</span></li><li><span class='ee-k'>1:</span><span class='ee-v'>81.21550750744828</span></li></ul></details></li><li><details><summary>12: [7.864817541037367, 81.22082241291515]</summary><ul><li><span class='ee-k'>0:</span><span class='ee-v'>7.864817541037367</span></li><li><span class='ee-k'>1:</span><span class='ee-v'>81.22082241291515</span></li></ul></details></li><li><details><summary>13: [7.865667507850108, 81.22121319662115]</summary><ul><li><span class='ee-k'>0:</span><span class='ee-v'>7.865667507850108</span></li><li><span class='ee-k'>1:</span><span class='ee-v'>81.22121319662115</span></li></ul></details></li><li><details><summary>14: [7.848683312319886, 81.22606559904574]</summary><ul><li><span class='ee-k'>0:</span><span class='ee-v'>7.848683312319886</span></li><li><span class='ee-k'>1:</span><span class='ee-v'>81.22606559904574</span></li></ul></details></li><li><details><summary>15: [7.679362567489461, 81.27333962551783]</summary><ul><li><span class='ee-k'>0:</span><span class='ee-v'>7.679362567489461</span></li><li><span class='ee-k'>1:</span><span class='ee-v'>81.27333962551783</span></li></ul></details></li><li><details><summary>16: [7.655283403637371, 81.27990717070108]</summary><ul><li><span class='ee-k'>0:</span><span class='ee-v'>7.655283403637371</span></li><li><span class='ee-k'>1:</span><span class='ee-v'>81.27990717070108</span></li></ul></details></li><li><details><summary>17: [7.644475456980134, 81.27909483176786]</summary><ul><li><span class='ee-k'>0:</span><span class='ee-v'>7.644475456980134</span></li><li><span class='ee-k'>1:</span><span class='ee-v'>81.27909483176786</span></li></ul></details></li><li><details><summary>18: [2.7704945172180775, 80.82180306189184]</summary><ul><li><span class='ee-k'>0:</span><span class='ee-v'>2.7704945172180775</span></li><li><span class='ee-k'>1:</span><span class='ee-v'>80.82180306189184</span></li></ul></details></li><li><details><summary>19: [2.74958645069597, 80.81955956759847]</summary><ul><li><span class='ee-k'>0:</span><span class='ee-v'>2.74958645069597</span></li><li><span class='ee-k'>1:</span><span class='ee-v'>80.81955956759847</span></li></ul></details></li><li><details><summary>20: [2.7496000378232375, 80.81906607481216]</summary><ul><li><span class='ee-k'>0:</span><span class='ee-v'>2.7496000378232375</span></li><li><span class='ee-k'>1:</span><span class='ee-v'>80.81906607481216</span></li></ul></details></li></ul></details></li></ul></details></li><li><span class='ee-k'>system:index:</span><span class='ee-v'>EO1H0010012012182110KF_SGS_01</span></li><li><span class='ee-k'>system:time_end:</span><span class='ee-v'>1341062812000</span></li><li><span class='ee-k'>system:time_start:</span><span class='ee-v'>1341062553000</span></li></ul></details></li></ul></details></li></ul></div></div>"
      ],
      "text/plain": [
       "<ee.image.Image at 0x1f490e547f0>"
      ]
     },
     "execution_count": 10,
     "metadata": {},
     "output_type": "execute_result"
    }
   ],
   "source": [
    "hyperion=ee.ImageCollection('EO1/HYPERION')# Hyperion is a hyperspectral sensor on the EO-1 satellite\n",
    "\n",
    "hyperion.first()"
   ]
  },
  {
   "cell_type": "code",
   "execution_count": 13,
   "id": "e930b780",
   "metadata": {},
   "outputs": [
    {
     "data": {
      "text/html": [
       "\n",
       "            <style>\n",
       "                .geemap-dark {\n",
       "                    --jp-widgets-color: white;\n",
       "                    --jp-widgets-label-color: white;\n",
       "                    --jp-ui-font-color1: white;\n",
       "                    --jp-layout-color2: #454545;\n",
       "                    background-color: #383838;\n",
       "                }\n",
       "\n",
       "                .geemap-dark .jupyter-button {\n",
       "                    --jp-layout-color3: #383838;\n",
       "                }\n",
       "\n",
       "                .geemap-colab {\n",
       "                    background-color: var(--colab-primary-surface-color, white);\n",
       "                }\n",
       "\n",
       "                .geemap-colab .jupyter-button {\n",
       "                    --jp-layout-color3: var(--colab-primary-surface-color, white);\n",
       "                }\n",
       "            </style>\n",
       "            "
      ],
      "text/plain": [
       "<IPython.core.display.HTML object>"
      ]
     },
     "metadata": {},
     "output_type": "display_data"
    },
    {
     "data": {
      "application/vnd.microsoft.datawrangler.viewer.v0+json": {
       "columns": [
        {
         "name": "index",
         "rawType": "int64",
         "type": "integer"
        },
        {
         "name": "ADM0_CODE",
         "rawType": "int64",
         "type": "integer"
        },
        {
         "name": "ADM0_NAME",
         "rawType": "object",
         "type": "string"
        },
        {
         "name": "DISP_AREA",
         "rawType": "object",
         "type": "string"
        },
        {
         "name": "EXP0_YEAR",
         "rawType": "int64",
         "type": "integer"
        },
        {
         "name": "STATUS",
         "rawType": "object",
         "type": "string"
        },
        {
         "name": "STR0_YEAR",
         "rawType": "int64",
         "type": "integer"
        },
        {
         "name": "Shape_Area",
         "rawType": "float64",
         "type": "float"
        },
        {
         "name": "Shape_Leng",
         "rawType": "float64",
         "type": "float"
        }
       ],
       "conversionMethod": "pd.DataFrame",
       "ref": "e32aae0b-f26a-4c03-984c-3b7f46273958",
       "rows": [
        [
         "0",
         "2647",
         "Montenegro",
         "NO",
         "3000",
         "Member State",
         "2006",
         "1.51563628739",
         "9.45391830472"
        ],
        [
         "1",
         "2648",
         "Serbia",
         "NO",
         "3000",
         "Member State",
         "2006",
         "9.93473107752",
         "24.9093262931"
        ],
        [
         "2",
         "74",
         "South Sudan",
         "NO",
         "3000",
         "Member State",
         "2011",
         "51.5991663649",
         "46.9054305952"
        ],
        [
         "3",
         "6",
         "Sudan",
         "NO",
         "3000",
         "Member State",
         "2011",
         "155.888801655",
         "81.9102420893"
        ],
        [
         "4",
         "147296",
         "Taiwan",
         "NO",
         "3000",
         "CN Province",
         "1000",
         "3.19982096794",
         "13.7517021086"
        ],
        [
         "5",
         "56",
         "Cocos (Keeling) Islands",
         "NO",
         "3000",
         "AU Territory",
         "1000",
         "0.00130963346253",
         "0.888416951784"
        ],
        [
         "6",
         "54",
         "Christmas Island",
         "NO",
         "3000",
         "AU Territory",
         "1000",
         "0.0112142252924",
         "0.655334378272"
        ],
        [
         "7",
         "16",
         "Ashmore and Cartier Islands",
         "NO",
         "3000",
         "AU Territory",
         "1000",
         "5.71828444689e-05",
         "0.0667969424659"
        ],
        [
         "8",
         "82",
         "Faroe Islands",
         "NO",
         "3000",
         "DK Territory",
         "1000",
         "0.240299465667",
         "15.952426016"
        ],
        [
         "9",
         "161",
         "Mayotte",
         "NO",
         "3000",
         "FR Territory",
         "1000",
         "0.0314987174264",
         "2.40474457042"
        ],
        [
         "10",
         "206",
         "Réunion",
         "NO",
         "3000",
         "FR Territory",
         "1000",
         "0.217752736519",
         "2.31612290293"
        ],
        [
         "11",
         "247",
         "Tromelin Island",
         "NO",
         "3000",
         "FR Territory",
         "1000",
         "7.49225988166e-05",
         "0.0356633606922"
        ],
        [
         "12",
         "131",
         "Juan de Nova Island",
         "NO",
         "3000",
         "FR Territory",
         "1000",
         "0.000467409447041",
         "0.121644153266"
        ],
        [
         "13",
         "96",
         "Glorioso Island",
         "NO",
         "3000",
         "FR Territory",
         "1000",
         "0.000407810727424",
         "0.128547956123"
        ],
        [
         "14",
         "80",
         "Europa Island",
         "NO",
         "3000",
         "FR Territory",
         "1000",
         "0.00216837232448",
         "0.45967232972"
        ],
        [
         "15",
         "25",
         "Bassas da India",
         "NO",
         "3000",
         "FR Territory",
         "1000",
         "9.16756336929e-05",
         "0.0765313401043"
        ],
        [
         "16",
         "210",
         "Saint Pierre et Miquelon",
         "NO",
         "3000",
         "FR Territory",
         "1000",
         "0.0275412286865",
         "2.13684974566"
        ],
        [
         "17",
         "88",
         "French Southern and Antarctic Territories",
         "NO",
         "3000",
         "FR Territory",
         "1000",
         "0.948364216337",
         "42.3200069936"
        ],
        [
         "18",
         "69",
         "Denmark",
         "NO",
         "3000",
         "Member State",
         "1000",
         "6.39801893821",
         "61.0013031972"
        ],
        [
         "19",
         "241",
         "The former Yugoslav Republic of Macedonia",
         "NO",
         "3000",
         "Member State",
         "1000",
         "2.74584098817",
         "9.01177601366"
        ],
        [
         "20",
         "62",
         "Croatia",
         "NO",
         "3000",
         "Member State",
         "1000",
         "6.46258795546",
         "65.0384252143"
        ],
        [
         "21",
         "156",
         "Malta",
         "NO",
         "3000",
         "Member State",
         "1000",
         "0.0315581146479",
         "2.51715149328"
        ],
        [
         "22",
         "213",
         "San Marino",
         "NO",
         "3000",
         "Member State",
         "1000",
         "0.00673116925134",
         "0.357606728766"
        ],
        [
         "23",
         "224",
         "Slovenia",
         "NO",
         "3000",
         "Member State",
         "1000",
         "2.36534570371",
         "11.7200252398"
        ],
        [
         "24",
         "97",
         "Greece",
         "NO",
         "3000",
         "Member State",
         "1000",
         "13.7972437788",
         "132.144120077"
        ],
        [
         "25",
         "122",
         "Italy",
         "NO",
         "3000",
         "Member State",
         "1000",
         "33.2250714175",
         "91.3604440396"
        ],
        [
         "26",
         "199",
         "Portugal",
         "NO",
         "3000",
         "Member State",
         "1000",
         "9.32060261178",
         "27.0478692806"
        ],
        [
         "27",
         "229",
         "Spain",
         "NO",
         "3000",
         "Member State",
         "1000",
         "53.5643903803",
         "80.3582940815"
        ],
        [
         "28",
         "34",
         "Bosnia and Herzegovina",
         "NO",
         "3000",
         "Member State",
         "1000",
         "5.75577038511",
         "15.8500487543"
        ],
        [
         "29",
         "7",
         "Andorra",
         "NO",
         "3000",
         "Member State",
         "1000",
         "0.0520217008898",
         "1.06056994309"
        ],
        [
         "30",
         "3",
         "Albania",
         "NO",
         "3000",
         "Member State",
         "1000",
         "3.07636469063",
         "13.4942867512"
        ],
        [
         "31",
         "166",
         "Monaco",
         "NO",
         "3000",
         "Member State",
         "1000",
         "0.000942468584105",
         "0.138928193349"
        ],
        [
         "32",
         "177",
         "Netherlands",
         "NO",
         "3000",
         "Member State",
         "1000",
         "4.63276492877",
         "31.8915424516"
        ],
        [
         "33",
         "148",
         "Luxembourg",
         "NO",
         "3000",
         "Member State",
         "1000",
         "0.327135974526",
         "3.38574205358"
        ],
        [
         "34",
         "146",
         "Liechtenstein",
         "NO",
         "3000",
         "Member State",
         "1000",
         "0.0179004683859",
         "0.677663319165"
        ],
        [
         "35",
         "85",
         "France",
         "NO",
         "3000",
         "Member State",
         "1000",
         "64.4312552669",
         "91.4877025965"
        ],
        [
         "36",
         "93",
         "Germany",
         "NO",
         "3000",
         "Member State",
         "1000",
         "45.8756542925",
         "79.753405432"
        ],
        [
         "37",
         "237",
         "Switzerland",
         "NO",
         "3000",
         "Member State",
         "1000",
         "4.86226314236",
         "18.1093757867"
        ],
        [
         "38",
         "27",
         "Belgium",
         "NO",
         "3000",
         "Member State",
         "1000",
         "3.89763866646",
         "14.8181038849"
        ],
        [
         "39",
         "18",
         "Austria",
         "NO",
         "3000",
         "Member State",
         "1000",
         "10.040787944",
         "26.0290865509"
        ],
        [
         "40",
         "17",
         "Australia",
         "NO",
         "3000",
         "Member State",
         "1000",
         "695.564914922",
         "607.019651954"
        ],
        [
         "41",
         "189",
         "Palau",
         "NO",
         "3000",
         "Member State",
         "1000",
         "0.0369293257552",
         "8.27705398341"
        ],
        [
         "42",
         "46",
         "Canada",
         "NO",
         "3000",
         "Member State",
         "1000",
         "1686.48189652",
         "5904.06336998"
        ],
        [
         "43",
         "46",
         "Canada",
         "NO",
         "3000",
         "Member State",
         "1000",
         "1686.48189652",
         "5904.06336998"
        ],
        [
         "44",
         "46",
         "Canada",
         "NO",
         "3000",
         "Member State",
         "1000",
         "1686.48189652",
         "5904.06336998"
        ],
        [
         "45",
         "170",
         "Mozambique",
         "NO",
         "3000",
         "Member State",
         "1000",
         "67.0589393261",
         "82.563371546"
        ],
        [
         "46",
         "160",
         "Mauritius",
         "NO",
         "3000",
         "Member State",
         "1000",
         "0.173992101838",
         "5.20409416708"
        ],
        [
         "47",
         "152",
         "Malawi",
         "NO",
         "3000",
         "Member State",
         "1000",
         "9.90556682797",
         "26.9998996902"
        ],
        [
         "48",
         "205",
         "Rwanda",
         "NO",
         "3000",
         "Member State",
         "1000",
         "2.06385242024",
         "8.12700348553"
        ],
        [
         "49",
         "226",
         "Somalia",
         "NO",
         "3000",
         "Member State",
         "1000",
         "51.7666118485",
         "57.4751982938"
        ]
       ],
       "shape": {
        "columns": 8,
        "rows": 292
       }
      },
      "text/html": [
       "<div>\n",
       "<style scoped>\n",
       "    .dataframe tbody tr th:only-of-type {\n",
       "        vertical-align: middle;\n",
       "    }\n",
       "\n",
       "    .dataframe tbody tr th {\n",
       "        vertical-align: top;\n",
       "    }\n",
       "\n",
       "    .dataframe thead th {\n",
       "        text-align: right;\n",
       "    }\n",
       "</style>\n",
       "<table border=\"1\" class=\"dataframe\">\n",
       "  <thead>\n",
       "    <tr style=\"text-align: right;\">\n",
       "      <th></th>\n",
       "      <th>ADM0_CODE</th>\n",
       "      <th>ADM0_NAME</th>\n",
       "      <th>DISP_AREA</th>\n",
       "      <th>EXP0_YEAR</th>\n",
       "      <th>STATUS</th>\n",
       "      <th>STR0_YEAR</th>\n",
       "      <th>Shape_Area</th>\n",
       "      <th>Shape_Leng</th>\n",
       "    </tr>\n",
       "  </thead>\n",
       "  <tbody>\n",
       "    <tr>\n",
       "      <th>0</th>\n",
       "      <td>2647</td>\n",
       "      <td>Montenegro</td>\n",
       "      <td>NO</td>\n",
       "      <td>3000</td>\n",
       "      <td>Member State</td>\n",
       "      <td>2006</td>\n",
       "      <td>1.515636</td>\n",
       "      <td>9.453918</td>\n",
       "    </tr>\n",
       "    <tr>\n",
       "      <th>1</th>\n",
       "      <td>2648</td>\n",
       "      <td>Serbia</td>\n",
       "      <td>NO</td>\n",
       "      <td>3000</td>\n",
       "      <td>Member State</td>\n",
       "      <td>2006</td>\n",
       "      <td>9.934731</td>\n",
       "      <td>24.909326</td>\n",
       "    </tr>\n",
       "    <tr>\n",
       "      <th>2</th>\n",
       "      <td>74</td>\n",
       "      <td>South Sudan</td>\n",
       "      <td>NO</td>\n",
       "      <td>3000</td>\n",
       "      <td>Member State</td>\n",
       "      <td>2011</td>\n",
       "      <td>51.599166</td>\n",
       "      <td>46.905431</td>\n",
       "    </tr>\n",
       "    <tr>\n",
       "      <th>3</th>\n",
       "      <td>6</td>\n",
       "      <td>Sudan</td>\n",
       "      <td>NO</td>\n",
       "      <td>3000</td>\n",
       "      <td>Member State</td>\n",
       "      <td>2011</td>\n",
       "      <td>155.888802</td>\n",
       "      <td>81.910242</td>\n",
       "    </tr>\n",
       "    <tr>\n",
       "      <th>4</th>\n",
       "      <td>147296</td>\n",
       "      <td>Taiwan</td>\n",
       "      <td>NO</td>\n",
       "      <td>3000</td>\n",
       "      <td>CN Province</td>\n",
       "      <td>1000</td>\n",
       "      <td>3.199821</td>\n",
       "      <td>13.751702</td>\n",
       "    </tr>\n",
       "    <tr>\n",
       "      <th>...</th>\n",
       "      <td>...</td>\n",
       "      <td>...</td>\n",
       "      <td>...</td>\n",
       "      <td>...</td>\n",
       "      <td>...</td>\n",
       "      <td>...</td>\n",
       "      <td>...</td>\n",
       "      <td>...</td>\n",
       "    </tr>\n",
       "    <tr>\n",
       "      <th>287</th>\n",
       "      <td>228</td>\n",
       "      <td>South Georgia and the South Sandwich Islands</td>\n",
       "      <td>NO</td>\n",
       "      <td>3000</td>\n",
       "      <td>UK Territory</td>\n",
       "      <td>1000</td>\n",
       "      <td>0.539384</td>\n",
       "      <td>17.296641</td>\n",
       "    </tr>\n",
       "    <tr>\n",
       "      <th>288</th>\n",
       "      <td>12</td>\n",
       "      <td>Argentina</td>\n",
       "      <td>NO</td>\n",
       "      <td>3000</td>\n",
       "      <td>Member State</td>\n",
       "      <td>1000</td>\n",
       "      <td>278.289197</td>\n",
       "      <td>206.935574</td>\n",
       "    </tr>\n",
       "    <tr>\n",
       "      <th>289</th>\n",
       "      <td>109</td>\n",
       "      <td>Heard Island and McDonald Islands</td>\n",
       "      <td>NO</td>\n",
       "      <td>3000</td>\n",
       "      <td>AU Territory</td>\n",
       "      <td>1000</td>\n",
       "      <td>0.055312</td>\n",
       "      <td>1.891030</td>\n",
       "    </tr>\n",
       "    <tr>\n",
       "      <th>290</th>\n",
       "      <td>36</td>\n",
       "      <td>Bouvet Island</td>\n",
       "      <td>NO</td>\n",
       "      <td>3000</td>\n",
       "      <td>NO Territory</td>\n",
       "      <td>1000</td>\n",
       "      <td>0.006221</td>\n",
       "      <td>0.327043</td>\n",
       "    </tr>\n",
       "    <tr>\n",
       "      <th>291</th>\n",
       "      <td>10</td>\n",
       "      <td>Antarctica</td>\n",
       "      <td>NO</td>\n",
       "      <td>3000</td>\n",
       "      <td></td>\n",
       "      <td>1000</td>\n",
       "      <td>6041.965784</td>\n",
       "      <td>1648.319624</td>\n",
       "    </tr>\n",
       "  </tbody>\n",
       "</table>\n",
       "<p>292 rows × 8 columns</p>\n",
       "</div>"
      ],
      "text/plain": [
       "     ADM0_CODE                                     ADM0_NAME DISP_AREA  \\\n",
       "0         2647                                    Montenegro        NO   \n",
       "1         2648                                        Serbia        NO   \n",
       "2           74                                   South Sudan        NO   \n",
       "3            6                                         Sudan        NO   \n",
       "4       147296                                        Taiwan        NO   \n",
       "..         ...                                           ...       ...   \n",
       "287        228  South Georgia and the South Sandwich Islands        NO   \n",
       "288         12                                     Argentina        NO   \n",
       "289        109             Heard Island and McDonald Islands        NO   \n",
       "290         36                                 Bouvet Island        NO   \n",
       "291         10                                    Antarctica        NO   \n",
       "\n",
       "     EXP0_YEAR        STATUS  STR0_YEAR   Shape_Area   Shape_Leng  \n",
       "0         3000  Member State       2006     1.515636     9.453918  \n",
       "1         3000  Member State       2006     9.934731    24.909326  \n",
       "2         3000  Member State       2011    51.599166    46.905431  \n",
       "3         3000  Member State       2011   155.888802    81.910242  \n",
       "4         3000   CN Province       1000     3.199821    13.751702  \n",
       "..         ...           ...        ...          ...          ...  \n",
       "287       3000  UK Territory       1000     0.539384    17.296641  \n",
       "288       3000  Member State       1000   278.289197   206.935574  \n",
       "289       3000  AU Territory       1000     0.055312     1.891030  \n",
       "290       3000  NO Territory       1000     0.006221     0.327043  \n",
       "291       3000                     1000  6041.965784  1648.319624  \n",
       "\n",
       "[292 rows x 8 columns]"
      ]
     },
     "execution_count": 13,
     "metadata": {},
     "output_type": "execute_result"
    }
   ],
   "source": [
    "geemap.ee_to_df(aoi)"
   ]
  }
 ],
 "metadata": {
  "kernelspec": {
   "display_name": "Python 3",
   "language": "python",
   "name": "python3"
  },
  "language_info": {
   "codemirror_mode": {
    "name": "ipython",
    "version": 3
   },
   "file_extension": ".py",
   "mimetype": "text/x-python",
   "name": "python",
   "nbconvert_exporter": "python",
   "pygments_lexer": "ipython3",
   "version": "3.10.16"
  }
 },
 "nbformat": 4,
 "nbformat_minor": 5
}
