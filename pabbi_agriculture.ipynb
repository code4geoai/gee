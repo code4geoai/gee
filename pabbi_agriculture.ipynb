{
 "cells": [
  {
   "cell_type": "markdown",
   "id": "94e0ea10",
   "metadata": {},
   "source": [
    "# Agriculture Crop type detection:\n",
    "\n",
    "Goal: Classify different crop types in satellite imagery.\n",
    "Classify wheat, maize, and sugarcane fields using multi-temporal imagery for tehsil pabbi\n",
    "Dataset:\n",
    "- Sentinel 2 Imagery Time peroid(-------)\n",
    "- Crop Survey Data (Time peroid)\n"
   ]
  },
  {
   "cell_type": "markdown",
   "id": "8aaa2b33",
   "metadata": {},
   "source": [
    "# Steps:\n",
    "1. Load the pabbi crop geojson dataset.\n",
    "2. "
   ]
  },
  {
   "cell_type": "code",
   "execution_count": 247,
   "id": "32ab007a",
   "metadata": {},
   "outputs": [
    {
     "data": {
      "text/html": [
       "\n",
       "            <style>\n",
       "                .geemap-dark {\n",
       "                    --jp-widgets-color: white;\n",
       "                    --jp-widgets-label-color: white;\n",
       "                    --jp-ui-font-color1: white;\n",
       "                    --jp-layout-color2: #454545;\n",
       "                    background-color: #383838;\n",
       "                }\n",
       "\n",
       "                .geemap-dark .jupyter-button {\n",
       "                    --jp-layout-color3: #383838;\n",
       "                }\n",
       "\n",
       "                .geemap-colab {\n",
       "                    background-color: var(--colab-primary-surface-color, white);\n",
       "                }\n",
       "\n",
       "                .geemap-colab .jupyter-button {\n",
       "                    --jp-layout-color3: var(--colab-primary-surface-color, white);\n",
       "                }\n",
       "            </style>\n",
       "            "
      ],
      "text/plain": [
       "<IPython.core.display.HTML object>"
      ]
     },
     "metadata": {},
     "output_type": "display_data"
    }
   ],
   "source": [
    "import geopandas as gpd\n",
    "import pandas as pd\n",
    "import geemap\n",
    "import ee\n"
   ]
  },
  {
   "cell_type": "code",
   "execution_count": 248,
   "id": "6db70609",
   "metadata": {},
   "outputs": [
    {
     "data": {
      "text/html": [
       "\n",
       "            <style>\n",
       "                .geemap-dark {\n",
       "                    --jp-widgets-color: white;\n",
       "                    --jp-widgets-label-color: white;\n",
       "                    --jp-ui-font-color1: white;\n",
       "                    --jp-layout-color2: #454545;\n",
       "                    background-color: #383838;\n",
       "                }\n",
       "\n",
       "                .geemap-dark .jupyter-button {\n",
       "                    --jp-layout-color3: #383838;\n",
       "                }\n",
       "\n",
       "                .geemap-colab {\n",
       "                    background-color: var(--colab-primary-surface-color, white);\n",
       "                }\n",
       "\n",
       "                .geemap-colab .jupyter-button {\n",
       "                    --jp-layout-color3: var(--colab-primary-surface-color, white);\n",
       "                }\n",
       "            </style>\n",
       "            "
      ],
      "text/plain": [
       "<IPython.core.display.HTML object>"
      ]
     },
     "metadata": {},
     "output_type": "display_data"
    },
    {
     "data": {
      "text/html": [
       "<div>\n",
       "<style scoped>\n",
       "    .dataframe tbody tr th:only-of-type {\n",
       "        vertical-align: middle;\n",
       "    }\n",
       "\n",
       "    .dataframe tbody tr th {\n",
       "        vertical-align: top;\n",
       "    }\n",
       "\n",
       "    .dataframe thead th {\n",
       "        text-align: right;\n",
       "    }\n",
       "</style>\n",
       "<table border=\"1\" class=\"dataframe\">\n",
       "  <thead>\n",
       "    <tr style=\"text-align: right;\">\n",
       "      <th></th>\n",
       "      <th>Mouza_Name</th>\n",
       "      <th>Landuse_Ma</th>\n",
       "      <th>Area_Acre</th>\n",
       "      <th>FFID</th>\n",
       "      <th>Parcel_ID</th>\n",
       "      <th>Crop_Type</th>\n",
       "      <th>geometry</th>\n",
       "    </tr>\n",
       "  </thead>\n",
       "  <tbody>\n",
       "    <tr>\n",
       "      <th>0</th>\n",
       "      <td>Khushmaqam</td>\n",
       "      <td>Agriculture</td>\n",
       "      <td>0.101785</td>\n",
       "      <td>1</td>\n",
       "      <td>668.0</td>\n",
       "      <td>None</td>\n",
       "      <td>MULTIPOLYGON (((753923.077 3769111.141, 753894...</td>\n",
       "    </tr>\n",
       "    <tr>\n",
       "      <th>1</th>\n",
       "      <td>Khushmaqam</td>\n",
       "      <td>Built up</td>\n",
       "      <td>0.036718</td>\n",
       "      <td>2</td>\n",
       "      <td>670.0</td>\n",
       "      <td>None</td>\n",
       "      <td>MULTIPOLYGON (((753959.894 3769126.291, 753959...</td>\n",
       "    </tr>\n",
       "    <tr>\n",
       "      <th>2</th>\n",
       "      <td>Khushmaqam</td>\n",
       "      <td>Agriculture</td>\n",
       "      <td>0.315557</td>\n",
       "      <td>3</td>\n",
       "      <td>632.0</td>\n",
       "      <td>None</td>\n",
       "      <td>MULTIPOLYGON (((753839.267 3769129.693, 753841...</td>\n",
       "    </tr>\n",
       "    <tr>\n",
       "      <th>3</th>\n",
       "      <td>Khushmaqam</td>\n",
       "      <td>Agriculture</td>\n",
       "      <td>0.187644</td>\n",
       "      <td>4</td>\n",
       "      <td>669.0</td>\n",
       "      <td>None</td>\n",
       "      <td>MULTIPOLYGON (((753952.852 3769131.737, 753946...</td>\n",
       "    </tr>\n",
       "    <tr>\n",
       "      <th>4</th>\n",
       "      <td>Khushmaqam</td>\n",
       "      <td>Agriculture</td>\n",
       "      <td>0.161568</td>\n",
       "      <td>5</td>\n",
       "      <td>693.0</td>\n",
       "      <td>None</td>\n",
       "      <td>MULTIPOLYGON (((754361.202 3769166.424, 754269...</td>\n",
       "    </tr>\n",
       "  </tbody>\n",
       "</table>\n",
       "</div>"
      ],
      "text/plain": [
       "   Mouza_Name   Landuse_Ma  Area_Acre  FFID  Parcel_ID Crop_Type  \\\n",
       "0  Khushmaqam  Agriculture   0.101785     1      668.0      None   \n",
       "1  Khushmaqam     Built up   0.036718     2      670.0      None   \n",
       "2  Khushmaqam  Agriculture   0.315557     3      632.0      None   \n",
       "3  Khushmaqam  Agriculture   0.187644     4      669.0      None   \n",
       "4  Khushmaqam  Agriculture   0.161568     5      693.0      None   \n",
       "\n",
       "                                            geometry  \n",
       "0  MULTIPOLYGON (((753923.077 3769111.141, 753894...  \n",
       "1  MULTIPOLYGON (((753959.894 3769126.291, 753959...  \n",
       "2  MULTIPOLYGON (((753839.267 3769129.693, 753841...  \n",
       "3  MULTIPOLYGON (((753952.852 3769131.737, 753946...  \n",
       "4  MULTIPOLYGON (((754361.202 3769166.424, 754269...  "
      ]
     },
     "execution_count": 248,
     "metadata": {},
     "output_type": "execute_result"
    }
   ],
   "source": [
    "cropfile = 'pabbi_crop.geojson'\n",
    "gdf = gpd.read_file(cropfile)\n",
    "gdf.head()"
   ]
  },
  {
   "cell_type": "code",
   "execution_count": 249,
   "id": "2ed36dd8",
   "metadata": {},
   "outputs": [
    {
     "data": {
      "text/html": [
       "\n",
       "            <style>\n",
       "                .geemap-dark {\n",
       "                    --jp-widgets-color: white;\n",
       "                    --jp-widgets-label-color: white;\n",
       "                    --jp-ui-font-color1: white;\n",
       "                    --jp-layout-color2: #454545;\n",
       "                    background-color: #383838;\n",
       "                }\n",
       "\n",
       "                .geemap-dark .jupyter-button {\n",
       "                    --jp-layout-color3: #383838;\n",
       "                }\n",
       "\n",
       "                .geemap-colab {\n",
       "                    background-color: var(--colab-primary-surface-color, white);\n",
       "                }\n",
       "\n",
       "                .geemap-colab .jupyter-button {\n",
       "                    --jp-layout-color3: var(--colab-primary-surface-color, white);\n",
       "                }\n",
       "            </style>\n",
       "            "
      ],
      "text/plain": [
       "<IPython.core.display.HTML object>"
      ]
     },
     "metadata": {},
     "output_type": "display_data"
    },
    {
     "name": "stdout",
     "output_type": "stream",
     "text": [
      "<class 'geopandas.geodataframe.GeoDataFrame'>\n",
      "RangeIndex: 6740 entries, 0 to 6739\n",
      "Data columns (total 7 columns):\n",
      " #   Column      Non-Null Count  Dtype   \n",
      "---  ------      --------------  -----   \n",
      " 0   Mouza_Name  6740 non-null   object  \n",
      " 1   Landuse_Ma  6515 non-null   object  \n",
      " 2   Area_Acre   6740 non-null   float64 \n",
      " 3   FFID        6740 non-null   int32   \n",
      " 4   Parcel_ID   6740 non-null   float64 \n",
      " 5   Crop_Type   511 non-null    object  \n",
      " 6   geometry    6740 non-null   geometry\n",
      "dtypes: float64(2), geometry(1), int32(1), object(3)\n",
      "memory usage: 342.4+ KB\n"
     ]
    }
   ],
   "source": [
    "gdf.info()"
   ]
  },
  {
   "cell_type": "code",
   "execution_count": 250,
   "id": "37eb0a0e",
   "metadata": {},
   "outputs": [
    {
     "data": {
      "text/html": [
       "\n",
       "            <style>\n",
       "                .geemap-dark {\n",
       "                    --jp-widgets-color: white;\n",
       "                    --jp-widgets-label-color: white;\n",
       "                    --jp-ui-font-color1: white;\n",
       "                    --jp-layout-color2: #454545;\n",
       "                    background-color: #383838;\n",
       "                }\n",
       "\n",
       "                .geemap-dark .jupyter-button {\n",
       "                    --jp-layout-color3: #383838;\n",
       "                }\n",
       "\n",
       "                .geemap-colab {\n",
       "                    background-color: var(--colab-primary-surface-color, white);\n",
       "                }\n",
       "\n",
       "                .geemap-colab .jupyter-button {\n",
       "                    --jp-layout-color3: var(--colab-primary-surface-color, white);\n",
       "                }\n",
       "            </style>\n",
       "            "
      ],
      "text/plain": [
       "<IPython.core.display.HTML object>"
      ]
     },
     "metadata": {},
     "output_type": "display_data"
    },
    {
     "data": {
      "text/plain": [
       "array([None, 'Indian Squash', 'Tomato', 'Dairy Farm / Wheat', 'Corn',\n",
       "       'Buitup', 'Builtup/Tomato/Wheat', 'Builtup',\n",
       "       'Tube well / Persian Clover / Wheat', 'Persian Clover', 'Wheat',\n",
       "       'Builtup / Persian Clover', 'Trees', 'Orchard', 'Builtup / Tomato',\n",
       "       'Builtup / Barren', 'Orchard / Persian Clover',\n",
       "       'Persian Clover / Wheat', 'Barren',\n",
       "       'Wheat / Graveyard / Persian Clover / Barren', 'Eucalyptus',\n",
       "       'Track / Persian Clover / Eucalyptus', 'Builtup / Eucalyptus',\n",
       "       'Wheat / Tomato', 'Builtup / Corn', 'Sugarcane',\n",
       "       'Tomato / Sugarcane', 'Builtup / Wheat',\n",
       "       'Persian Clover / Builtup', 'Wheat / Sugarcane',\n",
       "       'Sugarcane / Corn', 'Sugarcane / Builtup',\n",
       "       'Persian Clover / Barren', 'Tomato / Indian Squash',\n",
       "       'Corn / Tomato', 'Corn / Persian Clover',\n",
       "       'Persian Clover / Tomato', 'No crop', 'Graveyard / Persian Clover',\n",
       "       'Barren / Builtup', 'Mix', 'Wheat / Persian Clover',\n",
       "       'Orchard / Wheat', 'Persian Clover / No crop', 'Lady Finger',\n",
       "       'Barley', 'Tomato / Water Channel', 'Corn / Wheat / Sugarcane',\n",
       "       'Builtup / Sugarcane', 'Water body', 'Wheat / Builtup', 'Potato',\n",
       "       'Potato / Wheat', 'Wheat / Corn', 'Corn / Eucalyptus',\n",
       "       'Builtup / Wheat / Tomato', 'Water Channel / Orchard / Wheat',\n",
       "       'Builtup / Wheat / Sugarcane', 'Orchard / Wheat / Persian Clover',\n",
       "       'Wheat / Sugarcane / Tomato', 'Builtup / Wheat / Corn',\n",
       "       'Wheat / Indian Squash / Persian Clover', 'Wheat / Water Channel',\n",
       "       'Wheat / Sugarcane / Tomato / Indian Squash',\n",
       "       'Sugarcane / Tomato / Persian Clover', 'Builtup / Tomato / Wheat',\n",
       "       'Corn / Lady Finger', 'Builtup / Indian Squash', 'Egg Plant',\n",
       "       'Orchard / Sugarcane / Lady Finger',\n",
       "       'Builtup / Sugarcane / Wheat / Water channel',\n",
       "       'Builtup / Sugarcane / Persian Clover',\n",
       "       'Builtup / Tomato / Wheat / Persian Clover', 'Water Channel',\n",
       "       'Garlic', 'Other', 'Sugarcane / Persian Clover'], dtype=object)"
      ]
     },
     "execution_count": 250,
     "metadata": {},
     "output_type": "execute_result"
    }
   ],
   "source": [
    "gdf['Crop_Type'].unique()"
   ]
  },
  {
   "cell_type": "code",
   "execution_count": 251,
   "id": "9c147ad5",
   "metadata": {},
   "outputs": [
    {
     "data": {
      "text/html": [
       "\n",
       "            <style>\n",
       "                .geemap-dark {\n",
       "                    --jp-widgets-color: white;\n",
       "                    --jp-widgets-label-color: white;\n",
       "                    --jp-ui-font-color1: white;\n",
       "                    --jp-layout-color2: #454545;\n",
       "                    background-color: #383838;\n",
       "                }\n",
       "\n",
       "                .geemap-dark .jupyter-button {\n",
       "                    --jp-layout-color3: #383838;\n",
       "                }\n",
       "\n",
       "                .geemap-colab {\n",
       "                    background-color: var(--colab-primary-surface-color, white);\n",
       "                }\n",
       "\n",
       "                .geemap-colab .jupyter-button {\n",
       "                    --jp-layout-color3: var(--colab-primary-surface-color, white);\n",
       "                }\n",
       "            </style>\n",
       "            "
      ],
      "text/plain": [
       "<IPython.core.display.HTML object>"
      ]
     },
     "metadata": {},
     "output_type": "display_data"
    },
    {
     "data": {
      "text/plain": [
       "Crop_Type\n",
       "Tomato                                         94\n",
       "Wheat                                          81\n",
       "Persian Clover                                 57\n",
       "Sugarcane                                      52\n",
       "Barren                                         34\n",
       "                                               ..\n",
       "Wheat / Indian Squash / Persian Clover          1\n",
       "Wheat / Graveyard / Persian Clover / Barren     1\n",
       "Wheat / Sugarcane / Tomato                      1\n",
       "Wheat / Sugarcane / Tomato / Indian Squash      1\n",
       "Wheat / Water Channel                           1\n",
       "Name: count, Length: 76, dtype: int64"
      ]
     },
     "execution_count": 251,
     "metadata": {},
     "output_type": "execute_result"
    }
   ],
   "source": [
    "gdf.value_counts('Crop_Type')"
   ]
  },
  {
   "cell_type": "code",
   "execution_count": 252,
   "id": "ff6959e4",
   "metadata": {},
   "outputs": [
    {
     "data": {
      "text/html": [
       "\n",
       "            <style>\n",
       "                .geemap-dark {\n",
       "                    --jp-widgets-color: white;\n",
       "                    --jp-widgets-label-color: white;\n",
       "                    --jp-ui-font-color1: white;\n",
       "                    --jp-layout-color2: #454545;\n",
       "                    background-color: #383838;\n",
       "                }\n",
       "\n",
       "                .geemap-dark .jupyter-button {\n",
       "                    --jp-layout-color3: #383838;\n",
       "                }\n",
       "\n",
       "                .geemap-colab {\n",
       "                    background-color: var(--colab-primary-surface-color, white);\n",
       "                }\n",
       "\n",
       "                .geemap-colab .jupyter-button {\n",
       "                    --jp-layout-color3: var(--colab-primary-surface-color, white);\n",
       "                }\n",
       "            </style>\n",
       "            "
      ],
      "text/plain": [
       "<IPython.core.display.HTML object>"
      ]
     },
     "metadata": {},
     "output_type": "display_data"
    },
    {
     "data": {
      "text/plain": [
       "<Projected CRS: EPSG:32642>\n",
       "Name: WGS 84 / UTM zone 42N\n",
       "Axis Info [cartesian]:\n",
       "- E[east]: Easting (metre)\n",
       "- N[north]: Northing (metre)\n",
       "Area of Use:\n",
       "- name: Between 66°E and 72°E, northern hemisphere between equator and 84°N, onshore and offshore. Afghanistan. India. Kazakhstan. Kyrgyzstan. Pakistan. Russian Federation. Tajikistan. Uzbekistan.\n",
       "- bounds: (66.0, 0.0, 72.0, 84.0)\n",
       "Coordinate Operation:\n",
       "- name: UTM zone 42N\n",
       "- method: Transverse Mercator\n",
       "Datum: World Geodetic System 1984 ensemble\n",
       "- Ellipsoid: WGS 84\n",
       "- Prime Meridian: Greenwich"
      ]
     },
     "execution_count": 252,
     "metadata": {},
     "output_type": "execute_result"
    }
   ],
   "source": [
    "gdf.crs"
   ]
  },
  {
   "cell_type": "code",
   "execution_count": 253,
   "id": "cf1543df",
   "metadata": {},
   "outputs": [
    {
     "data": {
      "text/html": [
       "\n",
       "            <style>\n",
       "                .geemap-dark {\n",
       "                    --jp-widgets-color: white;\n",
       "                    --jp-widgets-label-color: white;\n",
       "                    --jp-ui-font-color1: white;\n",
       "                    --jp-layout-color2: #454545;\n",
       "                    background-color: #383838;\n",
       "                }\n",
       "\n",
       "                .geemap-dark .jupyter-button {\n",
       "                    --jp-layout-color3: #383838;\n",
       "                }\n",
       "\n",
       "                .geemap-colab {\n",
       "                    background-color: var(--colab-primary-surface-color, white);\n",
       "                }\n",
       "\n",
       "                .geemap-colab .jupyter-button {\n",
       "                    --jp-layout-color3: var(--colab-primary-surface-color, white);\n",
       "                }\n",
       "            </style>\n",
       "            "
      ],
      "text/plain": [
       "<IPython.core.display.HTML object>"
      ]
     },
     "metadata": {},
     "output_type": "display_data"
    },
    {
     "data": {
      "text/plain": [
       "Crop_Type\n",
       "Tomato                                         94\n",
       "Wheat                                          81\n",
       "Persian Clover                                 57\n",
       "Sugarcane                                      52\n",
       "Barren                                         34\n",
       "                                               ..\n",
       "Builtup / Sugarcane / Wheat / Water channel     1\n",
       "Builtup / Tomato / Wheat / Persian Clover       1\n",
       "Water Channel                                   1\n",
       "Garlic                                          1\n",
       "Other                                           1\n",
       "Name: count, Length: 76, dtype: int64"
      ]
     },
     "execution_count": 253,
     "metadata": {},
     "output_type": "execute_result"
    }
   ],
   "source": [
    "gdf['Crop_Type'].value_counts()"
   ]
  },
  {
   "cell_type": "code",
   "execution_count": 254,
   "id": "f0342447",
   "metadata": {},
   "outputs": [
    {
     "data": {
      "text/html": [
       "\n",
       "            <style>\n",
       "                .geemap-dark {\n",
       "                    --jp-widgets-color: white;\n",
       "                    --jp-widgets-label-color: white;\n",
       "                    --jp-ui-font-color1: white;\n",
       "                    --jp-layout-color2: #454545;\n",
       "                    background-color: #383838;\n",
       "                }\n",
       "\n",
       "                .geemap-dark .jupyter-button {\n",
       "                    --jp-layout-color3: #383838;\n",
       "                }\n",
       "\n",
       "                .geemap-colab {\n",
       "                    background-color: var(--colab-primary-surface-color, white);\n",
       "                }\n",
       "\n",
       "                .geemap-colab .jupyter-button {\n",
       "                    --jp-layout-color3: var(--colab-primary-surface-color, white);\n",
       "                }\n",
       "            </style>\n",
       "            "
      ],
      "text/plain": [
       "<IPython.core.display.HTML object>"
      ]
     },
     "metadata": {},
     "output_type": "display_data"
    },
    {
     "name": "stdout",
     "output_type": "stream",
     "text": [
      "Crop_Type\n",
      "Tomato                                         94\n",
      "Wheat                                          81\n",
      "Persian Clover                                 57\n",
      "Sugarcane                                      52\n",
      "Barren                                         34\n",
      "                                               ..\n",
      "Builtup / Sugarcane / Wheat / Water channel     1\n",
      "Builtup / Tomato / Wheat / Persian Clover       1\n",
      "Water Channel                                   1\n",
      "Garlic                                          1\n",
      "Other                                           1\n",
      "Name: count, Length: 76, dtype: int64\n"
     ]
    }
   ],
   "source": [
    "crop_count = gdf['Crop_Type'].value_counts()\n",
    "print(crop_count)\n"
   ]
  },
  {
   "cell_type": "code",
   "execution_count": 255,
   "id": "0043611a",
   "metadata": {},
   "outputs": [
    {
     "data": {
      "text/html": [
       "\n",
       "            <style>\n",
       "                .geemap-dark {\n",
       "                    --jp-widgets-color: white;\n",
       "                    --jp-widgets-label-color: white;\n",
       "                    --jp-ui-font-color1: white;\n",
       "                    --jp-layout-color2: #454545;\n",
       "                    background-color: #383838;\n",
       "                }\n",
       "\n",
       "                .geemap-dark .jupyter-button {\n",
       "                    --jp-layout-color3: #383838;\n",
       "                }\n",
       "\n",
       "                .geemap-colab {\n",
       "                    background-color: var(--colab-primary-surface-color, white);\n",
       "                }\n",
       "\n",
       "                .geemap-colab .jupyter-button {\n",
       "                    --jp-layout-color3: var(--colab-primary-surface-color, white);\n",
       "                }\n",
       "            </style>\n",
       "            "
      ],
      "text/plain": [
       "<IPython.core.display.HTML object>"
      ]
     },
     "metadata": {},
     "output_type": "display_data"
    },
    {
     "name": "stdout",
     "output_type": "stream",
     "text": [
      "Crop_Type\n",
      "Tomato            94\n",
      "Wheat             81\n",
      "Persian Clover    57\n",
      "Sugarcane         52\n",
      "Corn              16\n",
      "Orchard            6\n",
      "Eucalyptus         5\n",
      "Lady Finger        5\n",
      "Name: count, dtype: int64\n",
      "Mean of Crop_Type 39.5\n"
     ]
    }
   ],
   "source": [
    "# Filtering the composite labeling\n",
    "#step 1: Remove rows with '/' in 'Crop_Type'\n",
    "gdf_filtered = gdf[~gdf['Crop_Type'].fillna('').str.contains('/')]\n",
    "\n",
    "#Step 2: Remove the nocrop type from the filtered data\n",
    "nocrop = ['No crop' ,'Mix', 'Trees', 'Buitup' ,'Water body', 'Water Channel','Other','Builtup','Barren','Barley','Garlic','Egg Plant','Potato','Indian Squash' ]\n",
    "gdf_filtered = gdf_filtered[~gdf_filtered['Crop_Type'].isin(nocrop)]\n",
    "\n",
    "#Step 3: Final filtered data\n",
    "gdf_filtered['Crop_Type'].value_counts()\n",
    "print(gdf_filtered['Crop_Type'].value_counts())\n",
    "print ('Mean of Crop_Type',gdf_filtered['Crop_Type'].value_counts().mean())\n",
    "\n",
    "# 0) Drop any rows with missing Crop_Type\n",
    "gdf_filtered = gdf_filtered.dropna(subset=['Crop_Type'])"
   ]
  },
  {
   "cell_type": "code",
   "execution_count": 256,
   "id": "a15b4014",
   "metadata": {},
   "outputs": [
    {
     "data": {
      "text/html": [
       "\n",
       "            <style>\n",
       "                .geemap-dark {\n",
       "                    --jp-widgets-color: white;\n",
       "                    --jp-widgets-label-color: white;\n",
       "                    --jp-ui-font-color1: white;\n",
       "                    --jp-layout-color2: #454545;\n",
       "                    background-color: #383838;\n",
       "                }\n",
       "\n",
       "                .geemap-dark .jupyter-button {\n",
       "                    --jp-layout-color3: #383838;\n",
       "                }\n",
       "\n",
       "                .geemap-colab {\n",
       "                    background-color: var(--colab-primary-surface-color, white);\n",
       "                }\n",
       "\n",
       "                .geemap-colab .jupyter-button {\n",
       "                    --jp-layout-color3: var(--colab-primary-surface-color, white);\n",
       "                }\n",
       "            </style>\n",
       "            "
      ],
      "text/plain": [
       "<IPython.core.display.HTML object>"
      ]
     },
     "metadata": {},
     "output_type": "display_data"
    },
    {
     "name": "stdout",
     "output_type": "stream",
     "text": [
      "Major Crop: ['Tomato', 'Wheat', 'Persian Clover', 'Sugarcane', 'Corn']\n",
      "Minor Crop: ['Orchard', 'Eucalyptus', 'Lady Finger']\n"
     ]
    }
   ],
   "source": [
    "major_crop = ['Tomato', 'Wheat','Persian Clover','Sugarcane','Corn']\n",
    "minor_crop = [m for m in gdf_filtered['Crop_Type'].unique() if m not in major_crop]\n",
    "print('Major Crop:',major_crop)\n",
    "print('Minor Crop:',minor_crop)"
   ]
  },
  {
   "cell_type": "code",
   "execution_count": 257,
   "id": "b85bf4f7",
   "metadata": {},
   "outputs": [
    {
     "data": {
      "text/html": [
       "\n",
       "            <style>\n",
       "                .geemap-dark {\n",
       "                    --jp-widgets-color: white;\n",
       "                    --jp-widgets-label-color: white;\n",
       "                    --jp-ui-font-color1: white;\n",
       "                    --jp-layout-color2: #454545;\n",
       "                    background-color: #383838;\n",
       "                }\n",
       "\n",
       "                .geemap-dark .jupyter-button {\n",
       "                    --jp-layout-color3: #383838;\n",
       "                }\n",
       "\n",
       "                .geemap-colab {\n",
       "                    background-color: var(--colab-primary-surface-color, white);\n",
       "                }\n",
       "\n",
       "                .geemap-colab .jupyter-button {\n",
       "                    --jp-layout-color3: var(--colab-primary-surface-color, white);\n",
       "                }\n",
       "            </style>\n",
       "            "
      ],
      "text/plain": [
       "<IPython.core.display.HTML object>"
      ]
     },
     "metadata": {},
     "output_type": "display_data"
    },
    {
     "name": "stdout",
     "output_type": "stream",
     "text": [
      "Major mean = 60.0, so target for minor = 36\n"
     ]
    }
   ],
   "source": [
    "# 2) Compute target sample count for minor classes\n",
    "counts = gdf_filtered['Crop_Type'].value_counts()\n",
    "mean_imp = counts[major_crop].mean()      # average size of the major classes\n",
    "target_min = int(mean_imp * 0.6)          # e.g. 60% of that\n",
    "print(f\"Major mean = {mean_imp:.1f}, so target for minor = {target_min}\")\n"
   ]
  },
  {
   "cell_type": "code",
   "execution_count": 258,
   "id": "48c56268",
   "metadata": {},
   "outputs": [
    {
     "data": {
      "text/html": [
       "\n",
       "            <style>\n",
       "                .geemap-dark {\n",
       "                    --jp-widgets-color: white;\n",
       "                    --jp-widgets-label-color: white;\n",
       "                    --jp-ui-font-color1: white;\n",
       "                    --jp-layout-color2: #454545;\n",
       "                    background-color: #383838;\n",
       "                }\n",
       "\n",
       "                .geemap-dark .jupyter-button {\n",
       "                    --jp-layout-color3: #383838;\n",
       "                }\n",
       "\n",
       "                .geemap-colab {\n",
       "                    background-color: var(--colab-primary-surface-color, white);\n",
       "                }\n",
       "\n",
       "                .geemap-colab .jupyter-button {\n",
       "                    --jp-layout-color3: var(--colab-primary-surface-color, white);\n",
       "                }\n",
       "            </style>\n",
       "            "
      ],
      "text/plain": [
       "<IPython.core.display.HTML object>"
      ]
     },
     "metadata": {},
     "output_type": "display_data"
    },
    {
     "name": "stdout",
     "output_type": "stream",
     "text": [
      "Crop_Type\n",
      "Tomato            94\n",
      "Wheat             81\n",
      "Persian Clover    57\n",
      "Sugarcane         52\n",
      "Lady Finger       36\n",
      "Orchard           36\n",
      "Eucalyptus        36\n",
      "Corn              16\n",
      "Name: count, dtype: int64\n"
     ]
    }
   ],
   "source": [
    "# 3) Build the new stratified‐balanced GeoDataFrame\n",
    "balanced_parts = []\n",
    "for crop, group in gdf_filtered.groupby('Crop_Type'):\n",
    "    n = len(group)\n",
    "    if crop in major_crop:\n",
    "        # keep all major‐crop samples\n",
    "        balanced_parts.append(group)\n",
    "    else:\n",
    "        # oversample minor up to target_min\n",
    "        if n < target_min:\n",
    "            sampled = group.sample(n=target_min, replace=True, random_state=42)\n",
    "        else:\n",
    "            sampled = group\n",
    "        balanced_parts.append(sampled)\n",
    "\n",
    "gdf_strat = pd.concat(balanced_parts, ignore_index=True)\n",
    "\n",
    "# 4) Verify the new distribution\n",
    "print(gdf_strat['Crop_Type'].value_counts())"
   ]
  },
  {
   "cell_type": "markdown",
   "id": "27c71e87",
   "metadata": {},
   "source": [
    "# Calculating NDVI through GEE, \n",
    "using old code."
   ]
  },
  {
   "cell_type": "code",
   "execution_count": 259,
   "id": "2d837890",
   "metadata": {},
   "outputs": [
    {
     "data": {
      "text/html": [
       "\n",
       "            <style>\n",
       "                .geemap-dark {\n",
       "                    --jp-widgets-color: white;\n",
       "                    --jp-widgets-label-color: white;\n",
       "                    --jp-ui-font-color1: white;\n",
       "                    --jp-layout-color2: #454545;\n",
       "                    background-color: #383838;\n",
       "                }\n",
       "\n",
       "                .geemap-dark .jupyter-button {\n",
       "                    --jp-layout-color3: #383838;\n",
       "                }\n",
       "\n",
       "                .geemap-colab {\n",
       "                    background-color: var(--colab-primary-surface-color, white);\n",
       "                }\n",
       "\n",
       "                .geemap-colab .jupyter-button {\n",
       "                    --jp-layout-color3: var(--colab-primary-surface-color, white);\n",
       "                }\n",
       "            </style>\n",
       "            "
      ],
      "text/plain": [
       "<IPython.core.display.HTML object>"
      ]
     },
     "metadata": {},
     "output_type": "display_data"
    }
   ],
   "source": [
    "ee.Authenticate()\n",
    "ee.Initialize()"
   ]
  },
  {
   "cell_type": "code",
   "execution_count": 260,
   "id": "0b0f6429",
   "metadata": {},
   "outputs": [
    {
     "data": {
      "text/html": [
       "\n",
       "            <style>\n",
       "                .geemap-dark {\n",
       "                    --jp-widgets-color: white;\n",
       "                    --jp-widgets-label-color: white;\n",
       "                    --jp-ui-font-color1: white;\n",
       "                    --jp-layout-color2: #454545;\n",
       "                    background-color: #383838;\n",
       "                }\n",
       "\n",
       "                .geemap-dark .jupyter-button {\n",
       "                    --jp-layout-color3: #383838;\n",
       "                }\n",
       "\n",
       "                .geemap-colab {\n",
       "                    background-color: var(--colab-primary-surface-color, white);\n",
       "                }\n",
       "\n",
       "                .geemap-colab .jupyter-button {\n",
       "                    --jp-layout-color3: var(--colab-primary-surface-color, white);\n",
       "                }\n",
       "            </style>\n",
       "            "
      ],
      "text/plain": [
       "<IPython.core.display.HTML object>"
      ]
     },
     "metadata": {},
     "output_type": "display_data"
    }
   ],
   "source": [
    "# Converting the gdf_balanced to ee feature collection\n",
    "crop_fc = geemap.gdf_to_ee(gdf_strat)"
   ]
  },
  {
   "cell_type": "code",
   "execution_count": 264,
   "id": "ddbd863f",
   "metadata": {},
   "outputs": [
    {
     "data": {
      "text/html": [
       "\n",
       "            <style>\n",
       "                .geemap-dark {\n",
       "                    --jp-widgets-color: white;\n",
       "                    --jp-widgets-label-color: white;\n",
       "                    --jp-ui-font-color1: white;\n",
       "                    --jp-layout-color2: #454545;\n",
       "                    background-color: #383838;\n",
       "                }\n",
       "\n",
       "                .geemap-dark .jupyter-button {\n",
       "                    --jp-layout-color3: #383838;\n",
       "                }\n",
       "\n",
       "                .geemap-colab {\n",
       "                    background-color: var(--colab-primary-surface-color, white);\n",
       "                }\n",
       "\n",
       "                .geemap-colab .jupyter-button {\n",
       "                    --jp-layout-color3: var(--colab-primary-surface-color, white);\n",
       "                }\n",
       "            </style>\n",
       "            "
      ],
      "text/plain": [
       "<IPython.core.display.HTML object>"
      ]
     },
     "metadata": {},
     "output_type": "display_data"
    }
   ],
   "source": [
    "#Step 1 Processing satellite Imagery\n",
    "\n",
    "# Adding Satellite Imagery and calculating NDVI using Sentinel-2\n",
    "collection = ee.ImageCollection('COPERNICUS/S2_SR_HARMONIZED')\n",
    "# Filter the collection for a specific region and time period\n",
    "start_date = '2024-09-01'\n",
    "end_date = '2025-04-30'\n",
    "# Filter the collection by date and region\n",
    "filtered_collection = collection.filterDate(start_date, end_date).filterBounds(crop_fc).filter(ee.Filter.lt('CLOUDY_PIXEL_PERCENTAGE', 10))\n",
    "\n",
    "# Select the first image from the filtered collection\n",
    "median_image = filtered_collection.median().clip(crop_fc)\n",
    "\n",
    "# Calculate NDVI\n",
    "ndvi = median_image.normalizedDifference(['B8', 'B4']).rename('NDVI')\n",
    "# McFeeters NDWI = (Green - NIR) / (Green + NIR)\n",
    "ndwi = median_image.normalizedDifference(['B3', 'B8']).rename('NDWI')\n",
    "\n",
    "# Adding other bans and calculating their mean\n",
    "bands = ['B2', 'B3', 'B4', 'B8', 'B11', 'B12']\n",
    "band_img = median_image.select(bands).rename([f'{b}_mean' for b in bands])\n",
    "# Calculating the texture\n",
    "nir_int = median_image.select('B8').toInt32()\n",
    "texture = nir_int.glcmTexture(size=3)\n",
    "contrast = texture.select('B8_contrast').rename('contrast')\n",
    "\n",
    "\n",
    "\n",
    "features_img = band_img.addBands([ndvi, ndwi])\n",
    "features_img = features_img.addBands(contrast)\n",
    "\n",
    "\n",
    "\n",
    "# Select the bands of interest (e.g.,NVDI)\n",
    "ndvi_vis = {\n",
    "    'min': 0.25,\n",
    "    'max': 0.8,\n",
    "    'palette': ['white', 'yellow', 'green', 'red']  # Red for highest vegetation\n",
    "}\n"
   ]
  },
  {
   "cell_type": "code",
   "execution_count": 265,
   "id": "ac2f06b3",
   "metadata": {},
   "outputs": [
    {
     "data": {
      "text/html": [
       "\n",
       "            <style>\n",
       "                .geemap-dark {\n",
       "                    --jp-widgets-color: white;\n",
       "                    --jp-widgets-label-color: white;\n",
       "                    --jp-ui-font-color1: white;\n",
       "                    --jp-layout-color2: #454545;\n",
       "                    background-color: #383838;\n",
       "                }\n",
       "\n",
       "                .geemap-dark .jupyter-button {\n",
       "                    --jp-layout-color3: #383838;\n",
       "                }\n",
       "\n",
       "                .geemap-colab {\n",
       "                    background-color: var(--colab-primary-surface-color, white);\n",
       "                }\n",
       "\n",
       "                .geemap-colab .jupyter-button {\n",
       "                    --jp-layout-color3: var(--colab-primary-surface-color, white);\n",
       "                }\n",
       "            </style>\n",
       "            "
      ],
      "text/plain": [
       "<IPython.core.display.HTML object>"
      ]
     },
     "metadata": {},
     "output_type": "display_data"
    }
   ],
   "source": [
    "# Step 2: Calculate mean NDVI for each agri polygon\n",
    "crop_features = features_img.reduceRegions(\n",
    "    collection=crop_fc,\n",
    "    reducer=ee.Reducer.mean(),\n",
    "    scale=10,\n",
    ")"
   ]
  },
  {
   "cell_type": "code",
   "execution_count": 266,
   "id": "208a2581",
   "metadata": {},
   "outputs": [
    {
     "data": {
      "text/html": [
       "\n",
       "            <style>\n",
       "                .geemap-dark {\n",
       "                    --jp-widgets-color: white;\n",
       "                    --jp-widgets-label-color: white;\n",
       "                    --jp-ui-font-color1: white;\n",
       "                    --jp-layout-color2: #454545;\n",
       "                    background-color: #383838;\n",
       "                }\n",
       "\n",
       "                .geemap-dark .jupyter-button {\n",
       "                    --jp-layout-color3: #383838;\n",
       "                }\n",
       "\n",
       "                .geemap-colab {\n",
       "                    background-color: var(--colab-primary-surface-color, white);\n",
       "                }\n",
       "\n",
       "                .geemap-colab .jupyter-button {\n",
       "                    --jp-layout-color3: var(--colab-primary-surface-color, white);\n",
       "                }\n",
       "            </style>\n",
       "            "
      ],
      "text/plain": [
       "<IPython.core.display.HTML object>"
      ]
     },
     "metadata": {},
     "output_type": "display_data"
    }
   ],
   "source": [
    "# convert the result to a data frame\n",
    "gdfcrop_features = geemap.ee_to_gdf(crop_features)"
   ]
  },
  {
   "cell_type": "code",
   "execution_count": 267,
   "id": "4a83cd79",
   "metadata": {},
   "outputs": [
    {
     "data": {
      "text/html": [
       "\n",
       "            <style>\n",
       "                .geemap-dark {\n",
       "                    --jp-widgets-color: white;\n",
       "                    --jp-widgets-label-color: white;\n",
       "                    --jp-ui-font-color1: white;\n",
       "                    --jp-layout-color2: #454545;\n",
       "                    background-color: #383838;\n",
       "                }\n",
       "\n",
       "                .geemap-dark .jupyter-button {\n",
       "                    --jp-layout-color3: #383838;\n",
       "                }\n",
       "\n",
       "                .geemap-colab {\n",
       "                    background-color: var(--colab-primary-surface-color, white);\n",
       "                }\n",
       "\n",
       "                .geemap-colab .jupyter-button {\n",
       "                    --jp-layout-color3: var(--colab-primary-surface-color, white);\n",
       "                }\n",
       "            </style>\n",
       "            "
      ],
      "text/plain": [
       "<IPython.core.display.HTML object>"
      ]
     },
     "metadata": {},
     "output_type": "display_data"
    },
    {
     "data": {
      "text/plain": [
       "['geometry',\n",
       " 'Area_Acre',\n",
       " 'B11_mean',\n",
       " 'B12_mean',\n",
       " 'B2_mean',\n",
       " 'B3_mean',\n",
       " 'B4_mean',\n",
       " 'B8_mean',\n",
       " 'Crop_Type',\n",
       " 'FFID',\n",
       " 'Landuse_Ma',\n",
       " 'Mouza_Name',\n",
       " 'NDVI',\n",
       " 'NDWI',\n",
       " 'Parcel_ID',\n",
       " 'contrast']"
      ]
     },
     "execution_count": 267,
     "metadata": {},
     "output_type": "execute_result"
    }
   ],
   "source": [
    "gdfcrop_features.columns.to_list()"
   ]
  },
  {
   "cell_type": "code",
   "execution_count": 268,
   "id": "25731350",
   "metadata": {},
   "outputs": [
    {
     "data": {
      "text/html": [
       "\n",
       "            <style>\n",
       "                .geemap-dark {\n",
       "                    --jp-widgets-color: white;\n",
       "                    --jp-widgets-label-color: white;\n",
       "                    --jp-ui-font-color1: white;\n",
       "                    --jp-layout-color2: #454545;\n",
       "                    background-color: #383838;\n",
       "                }\n",
       "\n",
       "                .geemap-dark .jupyter-button {\n",
       "                    --jp-layout-color3: #383838;\n",
       "                }\n",
       "\n",
       "                .geemap-colab {\n",
       "                    background-color: var(--colab-primary-surface-color, white);\n",
       "                }\n",
       "\n",
       "                .geemap-colab .jupyter-button {\n",
       "                    --jp-layout-color3: var(--colab-primary-surface-color, white);\n",
       "                }\n",
       "            </style>\n",
       "            "
      ],
      "text/plain": [
       "<IPython.core.display.HTML object>"
      ]
     },
     "metadata": {},
     "output_type": "display_data"
    },
    {
     "data": {
      "text/plain": [
       "<Geographic 2D CRS: EPSG:4326>\n",
       "Name: WGS 84\n",
       "Axis Info [ellipsoidal]:\n",
       "- Lat[north]: Geodetic latitude (degree)\n",
       "- Lon[east]: Geodetic longitude (degree)\n",
       "Area of Use:\n",
       "- name: World.\n",
       "- bounds: (-180.0, -90.0, 180.0, 90.0)\n",
       "Datum: World Geodetic System 1984 ensemble\n",
       "- Ellipsoid: WGS 84\n",
       "- Prime Meridian: Greenwich"
      ]
     },
     "execution_count": 268,
     "metadata": {},
     "output_type": "execute_result"
    }
   ],
   "source": [
    "gdfcrop_features.crs"
   ]
  },
  {
   "cell_type": "code",
   "execution_count": 269,
   "id": "fe7c21ed",
   "metadata": {},
   "outputs": [
    {
     "data": {
      "text/html": [
       "\n",
       "            <style>\n",
       "                .geemap-dark {\n",
       "                    --jp-widgets-color: white;\n",
       "                    --jp-widgets-label-color: white;\n",
       "                    --jp-ui-font-color1: white;\n",
       "                    --jp-layout-color2: #454545;\n",
       "                    background-color: #383838;\n",
       "                }\n",
       "\n",
       "                .geemap-dark .jupyter-button {\n",
       "                    --jp-layout-color3: #383838;\n",
       "                }\n",
       "\n",
       "                .geemap-colab {\n",
       "                    background-color: var(--colab-primary-surface-color, white);\n",
       "                }\n",
       "\n",
       "                .geemap-colab .jupyter-button {\n",
       "                    --jp-layout-color3: var(--colab-primary-surface-color, white);\n",
       "                }\n",
       "            </style>\n",
       "            "
      ],
      "text/plain": [
       "<IPython.core.display.HTML object>"
      ]
     },
     "metadata": {},
     "output_type": "display_data"
    },
    {
     "data": {
      "application/vnd.microsoft.datawrangler.viewer.v0+json": {
       "columns": [
        {
         "name": "index",
         "rawType": "int64",
         "type": "integer"
        },
        {
         "name": "Area_m2",
         "rawType": "float64",
         "type": "float"
        },
        {
         "name": "Perimeter_m",
         "rawType": "float64",
         "type": "float"
        },
        {
         "name": "Compactness",
         "rawType": "float64",
         "type": "float"
        }
       ],
       "conversionMethod": "pd.DataFrame",
       "ref": "e43b733a-0f86-49ba-9dbf-e52063934fc2",
       "rows": [
        [
         "0",
         "9899.42938723512",
         "530.2251956548226",
         "0.44226144392465777"
        ],
        [
         "1",
         "4117.205774808598",
         "308.88064001895117",
         "0.5420144134920881"
        ],
        [
         "2",
         "1563.555793781566",
         "203.63345414724802",
         "0.4735924458264932"
        ],
        [
         "3",
         "2233.372236437752",
         "243.88886519291165",
         "0.4715924097488778"
        ],
        [
         "4",
         "3415.636358455784",
         "274.41922514713883",
         "0.5696816095610767"
        ]
       ],
       "shape": {
        "columns": 3,
        "rows": 5
       }
      },
      "text/html": [
       "<div>\n",
       "<style scoped>\n",
       "    .dataframe tbody tr th:only-of-type {\n",
       "        vertical-align: middle;\n",
       "    }\n",
       "\n",
       "    .dataframe tbody tr th {\n",
       "        vertical-align: top;\n",
       "    }\n",
       "\n",
       "    .dataframe thead th {\n",
       "        text-align: right;\n",
       "    }\n",
       "</style>\n",
       "<table border=\"1\" class=\"dataframe\">\n",
       "  <thead>\n",
       "    <tr style=\"text-align: right;\">\n",
       "      <th></th>\n",
       "      <th>Area_m2</th>\n",
       "      <th>Perimeter_m</th>\n",
       "      <th>Compactness</th>\n",
       "    </tr>\n",
       "  </thead>\n",
       "  <tbody>\n",
       "    <tr>\n",
       "      <th>0</th>\n",
       "      <td>9899.429387</td>\n",
       "      <td>530.225196</td>\n",
       "      <td>0.442261</td>\n",
       "    </tr>\n",
       "    <tr>\n",
       "      <th>1</th>\n",
       "      <td>4117.205775</td>\n",
       "      <td>308.880640</td>\n",
       "      <td>0.542014</td>\n",
       "    </tr>\n",
       "    <tr>\n",
       "      <th>2</th>\n",
       "      <td>1563.555794</td>\n",
       "      <td>203.633454</td>\n",
       "      <td>0.473592</td>\n",
       "    </tr>\n",
       "    <tr>\n",
       "      <th>3</th>\n",
       "      <td>2233.372236</td>\n",
       "      <td>243.888865</td>\n",
       "      <td>0.471592</td>\n",
       "    </tr>\n",
       "    <tr>\n",
       "      <th>4</th>\n",
       "      <td>3415.636358</td>\n",
       "      <td>274.419225</td>\n",
       "      <td>0.569682</td>\n",
       "    </tr>\n",
       "  </tbody>\n",
       "</table>\n",
       "</div>"
      ],
      "text/plain": [
       "       Area_m2  Perimeter_m  Compactness\n",
       "0  9899.429387   530.225196     0.442261\n",
       "1  4117.205775   308.880640     0.542014\n",
       "2  1563.555794   203.633454     0.473592\n",
       "3  2233.372236   243.888865     0.471592\n",
       "4  3415.636358   274.419225     0.569682"
      ]
     },
     "execution_count": 269,
     "metadata": {},
     "output_type": "execute_result"
    }
   ],
   "source": [
    "# We need to calculate the area of each polygon in square meters\n",
    "# Therefore we will convert the geometry to a projected coordinate system (EPSG:32643)\n",
    "gdfcrop_features = gdfcrop_features.to_crs(epsg=32643)\n",
    "# Calculating the area , perimetere and compactness\n",
    "gdfcrop_features['Area_m2'] = gdfcrop_features.geometry.area\n",
    "gdfcrop_features['Perimeter_m'] = gdfcrop_features.geometry.length\n",
    "gdfcrop_features['Compactness'] = (4 * 3.14 * gdfcrop_features['Area_m2']) / (gdfcrop_features['Perimeter_m'] ** 2)\n",
    "\n",
    "# Switch back to lat/lon if needed for mapping\n",
    "gdfcrop_features = gdfcrop_features.to_crs(epsg=4326)\n",
    "\n",
    "#Inspect the new columns\n",
    "gdfcrop_features[['Area_m2','Perimeter_m','Compactness']].head()"
   ]
  },
  {
   "cell_type": "code",
   "execution_count": 272,
   "id": "6118445a",
   "metadata": {},
   "outputs": [
    {
     "data": {
      "text/html": [
       "\n",
       "            <style>\n",
       "                .geemap-dark {\n",
       "                    --jp-widgets-color: white;\n",
       "                    --jp-widgets-label-color: white;\n",
       "                    --jp-ui-font-color1: white;\n",
       "                    --jp-layout-color2: #454545;\n",
       "                    background-color: #383838;\n",
       "                }\n",
       "\n",
       "                .geemap-dark .jupyter-button {\n",
       "                    --jp-layout-color3: #383838;\n",
       "                }\n",
       "\n",
       "                .geemap-colab {\n",
       "                    background-color: var(--colab-primary-surface-color, white);\n",
       "                }\n",
       "\n",
       "                .geemap-colab .jupyter-button {\n",
       "                    --jp-layout-color3: var(--colab-primary-surface-color, white);\n",
       "                }\n",
       "            </style>\n",
       "            "
      ],
      "text/plain": [
       "<IPython.core.display.HTML object>"
      ]
     },
     "metadata": {},
     "output_type": "display_data"
    },
    {
     "name": "stdout",
     "output_type": "stream",
     "text": [
      "  Crop_Type      NDVI      NDWI     B2_mean     B3_mean      B4_mean  \\\n",
      "0      Corn  0.363044 -0.411394  702.770639  952.190151  1070.423973   \n",
      "1      Corn  0.506520 -0.509906  490.154028  726.520871   733.610589   \n",
      "2      Corn  0.414448 -0.450394  671.161087  921.235173  1007.449010   \n",
      "3      Corn  0.225400 -0.332920  684.700233  938.364668  1186.880602   \n",
      "4      Corn  0.230121 -0.339825  682.845573  926.110963  1177.688676   \n",
      "\n",
      "       B8_mean     B11_mean     B12_mean      Area_m2  Perimeter_m  \\\n",
      "0  2292.649464  1900.493145  1508.502821  9899.429387   530.225196   \n",
      "1  2248.600489  1583.395723  1109.417265  4117.205775   308.880640   \n",
      "2  2432.392662  1935.611697  1468.468750  1563.555794   203.633454   \n",
      "3  1875.594514  1750.625073  1515.669019  2233.372236   243.888865   \n",
      "4  1878.816074  1728.222592  1542.005415  3415.636358   274.419225   \n",
      "\n",
      "   Compactness      contrast  \n",
      "0     0.442261  75313.082728  \n",
      "1     0.542014  52865.279005  \n",
      "2     0.473592  20065.261516  \n",
      "3     0.471592  40653.415057  \n",
      "4     0.569682   8394.706479  \n"
     ]
    }
   ],
   "source": [
    "# Check the result\n",
    "#print(gdf_with_ndvi[['Crop_Type', 'NDVI', 'NDWI']].head())\n",
    "# Combining both NDVI and NDWI into single feature\n",
    "feature_cols = ['NDVI', 'NDWI', 'B2_mean', 'B3_mean', 'B4_mean', 'B8_mean', 'B11_mean', 'B12_mean','Area_m2','Perimeter_m','Compactness','contrast']\n",
    "# Checking again\n",
    "\n",
    "print(gdfcrop_features[['Crop_Type'] + feature_cols ].head())\n"
   ]
  },
  {
   "cell_type": "markdown",
   "id": "2c3918cc",
   "metadata": {},
   "source": [
    "# Lets create the test - training split\n"
   ]
  },
  {
   "cell_type": "code",
   "execution_count": 273,
   "id": "7a72f391",
   "metadata": {},
   "outputs": [
    {
     "data": {
      "text/html": [
       "\n",
       "            <style>\n",
       "                .geemap-dark {\n",
       "                    --jp-widgets-color: white;\n",
       "                    --jp-widgets-label-color: white;\n",
       "                    --jp-ui-font-color1: white;\n",
       "                    --jp-layout-color2: #454545;\n",
       "                    background-color: #383838;\n",
       "                }\n",
       "\n",
       "                .geemap-dark .jupyter-button {\n",
       "                    --jp-layout-color3: #383838;\n",
       "                }\n",
       "\n",
       "                .geemap-colab {\n",
       "                    background-color: var(--colab-primary-surface-color, white);\n",
       "                }\n",
       "\n",
       "                .geemap-colab .jupyter-button {\n",
       "                    --jp-layout-color3: var(--colab-primary-surface-color, white);\n",
       "                }\n",
       "            </style>\n",
       "            "
      ],
      "text/plain": [
       "<IPython.core.display.HTML object>"
      ]
     },
     "metadata": {},
     "output_type": "display_data"
    }
   ],
   "source": [
    "from sklearn.model_selection import train_test_split\n",
    "# Splitting the data into training and testing sets\n",
    "\n",
    "#Step 1 Define features (NDVI mean) and target label (Crop_Type)\n",
    "X = gdfcrop_features[feature_cols].values\n",
    "y = gdfcrop_features['Crop_Type'].values\n",
    "\n",
    "# Train-test Split 80 % train and 20% test\n",
    "X_train, X_test, y_train, y_test = train_test_split(X, y, test_size=0.2, random_state=42,stratify=y)\n"
   ]
  },
  {
   "cell_type": "markdown",
   "id": "7aedcc88",
   "metadata": {},
   "source": [
    "# Train the Random Forest Model"
   ]
  },
  {
   "cell_type": "code",
   "execution_count": 274,
   "id": "77162423",
   "metadata": {},
   "outputs": [
    {
     "data": {
      "text/html": [
       "\n",
       "            <style>\n",
       "                .geemap-dark {\n",
       "                    --jp-widgets-color: white;\n",
       "                    --jp-widgets-label-color: white;\n",
       "                    --jp-ui-font-color1: white;\n",
       "                    --jp-layout-color2: #454545;\n",
       "                    background-color: #383838;\n",
       "                }\n",
       "\n",
       "                .geemap-dark .jupyter-button {\n",
       "                    --jp-layout-color3: #383838;\n",
       "                }\n",
       "\n",
       "                .geemap-colab {\n",
       "                    background-color: var(--colab-primary-surface-color, white);\n",
       "                }\n",
       "\n",
       "                .geemap-colab .jupyter-button {\n",
       "                    --jp-layout-color3: var(--colab-primary-surface-color, white);\n",
       "                }\n",
       "            </style>\n",
       "            "
      ],
      "text/plain": [
       "<IPython.core.display.HTML object>"
      ]
     },
     "metadata": {},
     "output_type": "display_data"
    },
    {
     "name": "stdout",
     "output_type": "stream",
     "text": [
      "Classification Report:\n",
      "                precision    recall  f1-score   support\n",
      "\n",
      "          Corn       0.00      0.00      0.00         3\n",
      "    Eucalyptus       1.00      1.00      1.00         7\n",
      "   Lady Finger       1.00      1.00      1.00         7\n",
      "       Orchard       0.78      1.00      0.88         7\n",
      "Persian Clover       0.62      0.67      0.64        12\n",
      "     Sugarcane       0.33      0.18      0.24        11\n",
      "        Tomato       0.48      0.58      0.52        19\n",
      "         Wheat       0.35      0.38      0.36        16\n",
      "\n",
      "      accuracy                           0.59        82\n",
      "     macro avg       0.57      0.60      0.58        82\n",
      "  weighted avg       0.55      0.59      0.56        82\n",
      "\n",
      "Confusion Matrix:\n",
      "[[ 0  0  0  0  0  0  0  3]\n",
      " [ 0  7  0  0  0  0  0  0]\n",
      " [ 0  0  7  0  0  0  0  0]\n",
      " [ 0  0  0  7  0  0  0  0]\n",
      " [ 0  0  0  0  8  0  2  2]\n",
      " [ 0  0  0  0  1  2  6  2]\n",
      " [ 0  0  0  1  2  1 11  4]\n",
      " [ 0  0  0  1  2  3  4  6]]\n"
     ]
    }
   ],
   "source": [
    "from sklearn.ensemble import RandomForestClassifier\n",
    "from sklearn.metrics import classification_report, confusion_matrix\n",
    "\n",
    "# Initialize the model\n",
    "rf_model = RandomForestClassifier(n_estimators=200,\n",
    "    max_depth=15,\n",
    "    class_weight='balanced_subsample',\n",
    "    random_state=42)\n",
    "\n",
    "# Train the model\n",
    "rf_model.fit(X_train, y_train)\n",
    "\n",
    "# Predict on the test set\n",
    "y_pred = rf_model.predict(X_test)\n",
    "\n",
    "# Evaluate the model\n",
    "print(\"Classification Report:\")\n",
    "print(classification_report(y_test, y_pred,zero_division=0))\n",
    "\n",
    "print(\"Confusion Matrix:\")\n",
    "print(confusion_matrix(y_test, y_pred))\n"
   ]
  }
 ],
 "metadata": {
  "kernelspec": {
   "display_name": "Python 3",
   "language": "python",
   "name": "python3"
  },
  "language_info": {
   "codemirror_mode": {
    "name": "ipython",
    "version": 3
   },
   "file_extension": ".py",
   "mimetype": "text/x-python",
   "name": "python",
   "nbconvert_exporter": "python",
   "pygments_lexer": "ipython3",
   "version": "3.10.17"
  }
 },
 "nbformat": 4,
 "nbformat_minor": 5
}
